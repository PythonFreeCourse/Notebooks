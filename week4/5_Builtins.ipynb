{
 "cells": [
  {
   "cell_type": "markdown",
   "metadata": {},
   "source": [
    "<img alt=\"לוגו של מיזם לימוד הפייתון. נחש מצויר בצבעי צהוב וכחול, הנע בין האותיות של שם הקורס: לומדים פייתון. הסלוגן המופיע מעל לשם הקורס הוא מיזם חינמי ללימוד תכנות בעברית.\" src=\"images/logo.jpg\" style=\"display: block; margin-left: auto; margin-right: auto;\"/>"
   ]
  },
  {
   "cell_type": "markdown",
   "metadata": {},
   "source": [
    "# <span dir=\"rtl\" style=\"text-align: right; direction: rtl; float: right;\">פונקציות מובנות</span>"
   ]
  },
  {
   "cell_type": "markdown",
   "metadata": {},
   "source": [
    "## <span dir=\"rtl\" style=\"text-align: right; direction: rtl; float: right; clear: both;\">הקדמה</span>"
   ]
  },
  {
   "cell_type": "markdown",
   "metadata": {},
   "source": [
    "<p dir=\"rtl\" style=\"text-align: right; direction: rtl; float: right; clear: both;\">\n",
    " אנו פוגשים הרבה בעיות בתכנות לעיתים קרובות ובמגוון מצבים:\n",
    "</p>"
   ]
  },
  {
   "cell_type": "markdown",
   "metadata": {},
   "source": [
    "<ul dir=\"rtl\" style=\"text-align: right; direction: rtl; float: right; clear: both;\">\n",
    "<li>מציאת הערך הקטן או הגדול ביותר ברשימת ערכים.</li>\n",
    "<li>יצירת רשימת מספרים המתחילה בערך מסוים ומסתיימת בערך אחר.</li>\n",
    "<li>שינוי מיקום הערכים לפי סדר מסוים.</li>\n",
    "<li>המרה של ערך כלשהו למספר, למחרוזת, לבוליאני או לרשימה (נשמע מוכר?)</li>\n",
    "</ul>"
   ]
  },
  {
   "cell_type": "markdown",
   "metadata": {},
   "source": [
    "<p dir=\"rtl\" style=\"text-align: right; direction: rtl; float: right; clear: both;\">\n",
    "    כדי שלא נצטרך לכתוב שוב ושוב את אותו פתרון, שפות רבות מצוידות בכלים מוכנים מראש שמטרתם לפתור בעיות נפוצות.<br/>\n",
    "    פייתון מתגאה בכך שהיא שפה ש\"הבטריות בה כלולות\" (batteries included), היגד שנועד לתאר את העובדה שהיא מכילה פתרונות מוכנים לאותן בעיות.<br/>\n",
    "    במחברת זו נכיר חלק מהפונקציות שפייתון מספקת לנו במטרה להקל על חיינו.\n",
    "</p>"
   ]
  },
  {
   "cell_type": "markdown",
   "metadata": {},
   "source": [
    "<p dir=\"rtl\" style=\"text-align: right; direction: rtl; float: right; clear: both;\">\n",
    "    השם הנפוץ עבור הפונקציות הללו הוא <dfn>builtins</dfn>, ואפשר למצוא את התיעוד של כולן <a href=\"https://docs.python.org/3/library/functions.html\">כאן</a>. \n",
    "</p>"
   ]
  },
  {
   "cell_type": "markdown",
   "metadata": {},
   "source": [
    "<div class=\"align-center\" dir=\"rtl\" style=\"display: flex; text-align: right; direction: rtl; clear: both;\">\n",
    "<div style=\"display: flex; width: 10%; float: right; clear: both;\" width=\"10%\">\n",
    "<img alt=\"תרגול\" height=\"50px\" src=\"images/exercise.svg\" style=\"height: 50px !important;\"/>\n",
    "</div>\n",
    "<div style=\"width: 70%\" width=\"70%\">\n",
    "<p dir=\"rtl\" style=\"text-align: right; direction: rtl; float: right; clear: both;\">\n",
    "            חשבו על פונקציות כאלו שאתם כבר מכירים משיעורים קודמים.<br/>\n",
    "            חלק מהפתרונות האפשריים: <span style=\"background: black;\">len, int, float, str, list, type</span>\n",
    "</p>\n",
    "</div>\n",
    "<div style=\"display: flex; width: 20%; border-right: 0.1rem solid #A5A5A5; padding: 1rem 2rem;\" width=\"20%\">\n",
    "<p dir=\"rtl\" style=\"text-align: center; direction: rtl; justify-content: center; align-items: center; clear: both;\">\n",
    "<strong>חשוב!</strong><br/>\n",
    "            פתרו לפני שתמשיכו!\n",
    "        </p>\n",
    "</div>\n",
    "</div>"
   ]
  },
  {
   "cell_type": "markdown",
   "metadata": {},
   "source": [
    "<div class=\"align-center\" dir=\"rtl\" style=\"display: flex; text-align: right; direction: rtl;\">\n",
    "<div style=\"display: flex; width: 10%; float: right; \" width=\"10%\">\n",
    "<img alt=\"טיפ!\" height=\"50px\" src=\"images/tip.png\" style=\"height: 50px !important;\"/>\n",
    "</div>\n",
    "<div style=\"width: 90%\" width=\"90%\">\n",
    "<p dir=\"rtl\" style=\"text-align: right; direction: rtl;\">\n",
    "            בהמשך המחברת ישנן דוגמאות עבור כל פונקציה חדשה שנכיר.<br/>\n",
    "            למען הבהירות אני מדפיס דוגמה בודדת, ואז אני משתמש בלולאה כדי להדפיס כמה דוגמאות ברצף.<br/>\n",
    "            הדוגמאות ירווחו בצורה מוזרה כדי שיהיה נוח להסתכל על הפלט. אל תשתמשו בריווחים כאלו בקוד שלכם.\n",
    "        </p>\n",
    "</div>\n",
    "</div>"
   ]
  },
  {
   "cell_type": "markdown",
   "metadata": {},
   "source": [
    "## <span dir=\"rtl\" style=\"text-align: right; direction: rtl; float: right; clear: both;\">מתמטיקה</span>"
   ]
  },
  {
   "cell_type": "markdown",
   "metadata": {},
   "source": [
    "<p dir=\"rtl\" style=\"text-align: right; direction: rtl; float: right; clear: both;\">\n",
    "    ישנן פעולות מתמטיות שנצטרך לעיתים תכופות, שאת חלקן אפילו מימשנו שוב ושוב לאורך הקורס.<br/>\n",
    "    נראה מה יש לארגז הכלים של פייתון להציע לנו.\n",
    "</p>"
   ]
  },
  {
   "cell_type": "markdown",
   "metadata": {},
   "source": [
    "### <span dir=\"rtl\" style=\"text-align: right; direction: rtl; float: right; clear: both;\">ערך מוחלט</span>"
   ]
  },
  {
   "cell_type": "markdown",
   "metadata": {},
   "source": [
    "<p dir=\"rtl\" style=\"text-align: right; direction: rtl; float: right; clear: both;\">\n",
    "    הפונקציה <code>abs</code> מחזירה את הערך המוחלט של המספר שנעביר לה.<br/>\n",
    "    אם נעביר לה כארגומנט מספר שלם או עשרוני, היא תחזיר את המרחק של המספר מ־0 על ציר המספרים:<br/>\n",
    "</p>"
   ]
  },
  {
   "cell_type": "code",
   "execution_count": null,
   "metadata": {},
   "outputs": [],
   "source": [
    "print(abs(-5))"
   ]
  },
  {
   "cell_type": "code",
   "execution_count": null,
   "metadata": {},
   "outputs": [],
   "source": [
    "numbers = [5, -5, 1.337, -1.337]\n",
    "for number in numbers:\n",
    "    print(f\"abs({number:>6}) = {abs(number)}\")"
   ]
  },
  {
   "cell_type": "markdown",
   "metadata": {},
   "source": [
    "<div class=\"align-center\" dir=\"rtl\" style=\"display: flex; text-align: right; direction: rtl;\">\n",
    "<div style=\"display: flex; width: 10%; float: right; \" width=\"10%\">\n",
    "<img alt=\"טיפ!\" height=\"50px\" src=\"images/tip.png\" style=\"height: 50px !important;\"/>\n",
    "</div>\n",
    "<div style=\"width: 90%\" width=\"90%\">\n",
    "<p dir=\"rtl\" style=\"text-align: right; direction: rtl;\">\n",
    "            המשמעות של <code dir=\"ltr\" style=\"direction: ltr\">:&gt;6</code> ב־fstring היא \"דאג שיהיו לפחות 6 תווים, וישר את הערך לימין\".<br/>\n",
    "            אפשר להחליף את <code dir=\"ltr\" style=\"direction: ltr\">&gt;</code> בתו <code dir=\"ltr\" style=\"direction: ltr\">^</code> לצורך יישור לאמצע, או בתו <code dir=\"ltr\" style=\"direction: ltr\">&lt;</code> לצורך יישור לשמאל.\n",
    "        </p>\n",
    "</div>\n",
    "</div>"
   ]
  },
  {
   "cell_type": "markdown",
   "metadata": {},
   "source": [
    "### <span dir=\"rtl\" style=\"text-align: right; direction: rtl; float: right; clear: both;\">מקסימום ומינימום</span>"
   ]
  },
  {
   "cell_type": "markdown",
   "metadata": {},
   "source": [
    "<p dir=\"rtl\" style=\"text-align: right; direction: rtl; float: right; clear: both;\">\n",
    "    הפונקציות <code>max</code> ו־<code>min</code> מקבלות iterable, ומחזירות את האיבר הגבוה או הנמוך ביותר ב־iterable (בהתאמה).\n",
    "</p>"
   ]
  },
  {
   "cell_type": "code",
   "execution_count": null,
   "metadata": {},
   "outputs": [],
   "source": [
    "numbers = [6, 7, 3, 4, 5]\n",
    "words = ['apple', 'ginger', 'tomato', 'sushi']\n",
    "print(max(numbers))"
   ]
  },
  {
   "cell_type": "code",
   "execution_count": null,
   "metadata": {},
   "outputs": [],
   "source": [
    "print(f\"max(numbers) = {max(numbers)}\")\n",
    "print(f\"min(numbers) = {min(numbers)}\")\n",
    "print(f\"max(words) = {max(words)}\")\n",
    "print(f\"min(words) = {min(words)}\")"
   ]
  },
  {
   "cell_type": "markdown",
   "metadata": {},
   "source": [
    "<div class=\"align-center\" dir=\"rtl\" style=\"display: flex; text-align: right; direction: rtl;\">\n",
    "<div style=\"display: flex; width: 10%; float: right; \" width=\"10%\">\n",
    "<img alt=\"אזהרה!\" height=\"50px\" src=\"images/warning.png\" style=\"height: 50px !important;\"/>\n",
    "</div>\n",
    "<div style=\"width: 90%\" width=\"90%\">\n",
    "<p dir=\"rtl\" style=\"text-align: right; direction: rtl;\">\n",
    "            מחרוזות בפייתון מושוות לפי הערך המספרי של התווים שמהם הן מורכבות.<br/>\n",
    "    כשמדובר ב־iterable שיש בו מחרוזות, פייתון מוצאת את הערך המרבי או המזערי לפי הייצוג המספרי של האותיות באותן מחרוזות.<br/>\n",
    "    מהסיבה הזו, הסידור האלפבתי לא יחזיר את הערך הרצוי במצב שבו יש גם אותיות גדולות וגם אותיות וקטנות: \n",
    "        </p>\n",
    "</div>\n",
    "</div>"
   ]
  },
  {
   "cell_type": "code",
   "execution_count": null,
   "metadata": {},
   "outputs": [],
   "source": [
    "words.append('ZEBRA')\n",
    "print(f\"Minimum in {words} is {min(words)}??\")"
   ]
  },
  {
   "cell_type": "markdown",
   "metadata": {},
   "source": [
    "<p dir=\"rtl\" style=\"text-align: right; direction: rtl; float: right; clear: both;\">\n",
    "    זה קורה כיוון שהערכים המספריים של אותיות גדולות קטנים מאלו של אותיות קטנות.<br/>\n",
    "    הערך המספרי של Z במילה <em>ZEBRA</em> הוא 90, והערך המספרי של a (במילה <em>apple</em>, שציפינו שתיחשב כקטנה ביותר) הוא 97.\n",
    "</p>"
   ]
  },
  {
   "cell_type": "markdown",
   "metadata": {},
   "source": [
    "### <span dir=\"rtl\" style=\"text-align: right; direction: rtl; float: right; clear: both;\">סכום</span>"
   ]
  },
  {
   "cell_type": "markdown",
   "metadata": {},
   "source": [
    "<p dir=\"rtl\" style=\"text-align: right; direction: rtl; float: right; clear: both;\">\n",
    "    אפשר לחשב את סכום האיברים ב־iterable באמצעות הפונקציה <code>sum</code>: \n",
    "</p>"
   ]
  },
  {
   "cell_type": "code",
   "execution_count": null,
   "metadata": {},
   "outputs": [],
   "source": [
    "numbers = [1, 1, 2, 3, 5, 8]\n",
    "sum(numbers)"
   ]
  },
  {
   "cell_type": "code",
   "execution_count": null,
   "metadata": {},
   "outputs": [],
   "source": [
    "i = 1\n",
    "while i <= len(numbers):\n",
    "    sum_until_i = sum(numbers[:i])\n",
    "    print(f\"The sum of the first {i} items in 'numbers' is {sum_until_i}\")\n",
    "    i = i + 1"
   ]
  },
  {
   "cell_type": "markdown",
   "metadata": {},
   "source": [
    "### <span dir=\"rtl\" style=\"text-align: right; direction: rtl; float: right; clear: both;\">עיגול</span>"
   ]
  },
  {
   "cell_type": "markdown",
   "metadata": {},
   "source": [
    "<p dir=\"rtl\" style=\"text-align: right; direction: rtl; float: right; clear: both;\">\n",
    "    אפשר גם לעגל מספרים בעזרת הפונקציה <code>round</code>: \n",
    "</p>"
   ]
  },
  {
   "cell_type": "code",
   "execution_count": null,
   "metadata": {},
   "outputs": [],
   "source": [
    "number = 5.9\n",
    "round(number)"
   ]
  },
  {
   "cell_type": "code",
   "execution_count": null,
   "metadata": {},
   "outputs": [],
   "source": [
    "numbers = [6, 3.1415, 0.9, -0.9, 0.5, -0.5]\n",
    "for number in numbers:\n",
    "    print(f\"round({number:>6}) = {round(number)}\")"
   ]
  },
  {
   "cell_type": "markdown",
   "metadata": {},
   "source": [
    "<p dir=\"rtl\" style=\"text-align: right; direction: rtl; float: right; clear: both;\">\n",
    "    ואפשר להחליט על מספר הספרות אחרי הנקודה שלפיו העיגול יתבצע: \n",
    "</p>"
   ]
  },
  {
   "cell_type": "code",
   "execution_count": null,
   "metadata": {},
   "outputs": [],
   "source": [
    "pi = 3.141592653589793\n",
    "round(pi, 3)  # הפרמטר השני פה, 3, מייצג את הדיוק"
   ]
  },
  {
   "cell_type": "code",
   "execution_count": null,
   "metadata": {},
   "outputs": [],
   "source": [
    "numbers = [6, 3.1415, 0.9, -0.9, 0.5, -0.5]\n",
    "round_options = [-1, 1, 2, 3]\n",
    "for number in numbers:\n",
    "    for round_argument in round_options:\n",
    "        result = round(number, round_argument)\n",
    "        print(f\"round({number:>6}, {round_argument}) = {result}\")"
   ]
  },
  {
   "cell_type": "markdown",
   "metadata": {},
   "source": [
    "## <span dir=\"rtl\" style=\"text-align: right; direction: rtl; float: right; clear: both;\">המרות</span>"
   ]
  },
  {
   "cell_type": "markdown",
   "metadata": {},
   "source": [
    "<p dir=\"rtl\" style=\"text-align: right; direction: rtl; float: right; clear: both;\">\n",
    "    טוב, על המרות (casting) כבר למדנו.<br/>\n",
    "    אבל בואו בכל זאת נראה כמה דוגמאות מגניבות.\n",
    "</p>"
   ]
  },
  {
   "cell_type": "markdown",
   "metadata": {},
   "source": [
    "<p dir=\"rtl\" style=\"text-align: right; direction: rtl; float: right; clear: both;\">\n",
    "    אפשר להמיר מחרוזת לרשימה. הפעולה הזו תפריד כל אחת מהאותיות לתא נפרד ברשימה:\n",
    "</p>"
   ]
  },
  {
   "cell_type": "code",
   "execution_count": null,
   "metadata": {},
   "outputs": [],
   "source": [
    "list('hello')  # Iterable -> List"
   ]
  },
  {
   "cell_type": "markdown",
   "metadata": {},
   "source": [
    "<p dir=\"rtl\" style=\"text-align: right; direction: rtl; float: right; clear: both;\">\n",
    "    עוד פרט טריוויה נחמד הוא שלכל ערך בפייתון יש ערך בוליאני שקול.<br/>\n",
    "    בדרך כלל, ערכים ריקים שקולים ל־<code>False</code> וערכים שאינם ריקים שקולים ל־<code>True</code>:\n",
    "</p>"
   ]
  },
  {
   "cell_type": "code",
   "execution_count": null,
   "metadata": {},
   "outputs": [],
   "source": [
    "bool_checks = [\n",
    "    'hello', '', 0, 1, -1, 0.0, 0.1, 1000, '\\n', ' ', [], {}, [1],\n",
    "]\n",
    "\n",
    "for check in bool_checks:\n",
    "    print(f\"bool({check!r:>7}) is {bool(check)}\")"
   ]
  },
  {
   "cell_type": "markdown",
   "metadata": {},
   "source": [
    "<div class=\"align-center\" dir=\"rtl\" style=\"display: flex; text-align: right; direction: rtl;\">\n",
    "<div style=\"display: flex; width: 10%; float: right; \" width=\"10%\">\n",
    "<img alt=\"טיפ!\" height=\"50px\" src=\"images/tip.png\" style=\"height: 50px !important;\"/>\n",
    "</div>\n",
    "<div style=\"width: 90%\" width=\"90%\">\n",
    "<p dir=\"rtl\" style=\"text-align: right; direction: rtl;\">\n",
    "            המשמעות של <code dir=\"ltr\" style=\"direction: ltr\">!r</code> ב־fstring היא \"הצג את הערך בתצורתו הגולמית\" (raw).<br/>\n",
    "            לדוגמה, מחרוזות יוצגו עם הגרשיים משני צידיהן.\n",
    "        </p>\n",
    "</div>\n",
    "</div>"
   ]
  },
  {
   "cell_type": "markdown",
   "metadata": {},
   "source": [
    "<p dir=\"rtl\" style=\"text-align: right; direction: rtl; float: right; clear: both;\">\n",
    "    אפשר להמיר ערכים בוליאניים למספר שלם:\n",
    "</p>"
   ]
  },
  {
   "cell_type": "code",
   "execution_count": null,
   "metadata": {},
   "outputs": [],
   "source": [
    "print(int(True))\n",
    "print(int(False))"
   ]
  },
  {
   "cell_type": "markdown",
   "metadata": {},
   "source": [
    "<p dir=\"rtl\" style=\"text-align: right; direction: rtl; float: right; clear: both;\">\n",
    "    מה בנוגע לטריקים על מילונים?<br/>\n",
    "    אם יש לנו iterable שמכיל זוגות של ערכים, אפשר להפוך אותו למילון:\n",
    "</p>"
   ]
  },
  {
   "cell_type": "code",
   "execution_count": null,
   "metadata": {},
   "outputs": [],
   "source": [
    "stock = [('apples', 2), ('banana', 3), ('crembo', 4)]\n",
    "print(dict(stock))"
   ]
  },
  {
   "cell_type": "markdown",
   "metadata": {},
   "source": [
    "<p dir=\"rtl\" style=\"text-align: right; direction: rtl; float: right; clear: both;\">\n",
    "    וכטיפ כללי, אפשר להמיר את סוג הערכים שלנו לטיפוס שונה, בעזרת הפונקציה שנקראת על שם הטיפוס שאליו אנחנו רוצים להמיר:\n",
    "</p>"
   ]
  },
  {
   "cell_type": "code",
   "execution_count": null,
   "metadata": {},
   "outputs": [],
   "source": [
    "print(int(5.5))\n",
    "print(float('5.5'))\n",
    "print(str(True))\n",
    "print(bool(0))\n",
    "print(dict([('name', 'Yam'), ('age', 27)]))\n",
    "tuple_until_4 = (1, 2, 3, 4)\n",
    "print(list(tuple_until_4))\n",
    "print(tuple('yo!'))"
   ]
  },
  {
   "cell_type": "markdown",
   "metadata": {},
   "source": [
    "<p dir=\"rtl\" style=\"text-align: right; direction: rtl; float: right; clear: both;\">\n",
    "    אבל צריך לזכור שלא כל טיפוס אפשר להמיר לטיפוס אחר:\n",
    "</p>"
   ]
  },
  {
   "cell_type": "code",
   "execution_count": null,
   "metadata": {},
   "outputs": [],
   "source": [
    "print(list(5))"
   ]
  },
  {
   "cell_type": "markdown",
   "metadata": {},
   "source": [
    "## <span dir=\"rtl\" style=\"text-align: right; direction: rtl; float: right; clear: both;\">מאחורי הקלעים של פייתון</span>"
   ]
  },
  {
   "cell_type": "markdown",
   "metadata": {},
   "source": [
    "<p dir=\"rtl\" style=\"text-align: right; direction: rtl; float: right; clear: both;\">\n",
    "    ישנן פונקציות מובנות רבות שמטרתן להנגיש לנו דברים שקורים מאחורי הקלעים של פייתון. במחברת זו נסביר על שלוש מהן.\n",
    "</p>"
   ]
  },
  {
   "cell_type": "markdown",
   "metadata": {},
   "source": [
    "### <span dir=\"rtl\" style=\"text-align: right; direction: rtl; float: right; clear: both;\">id</span>"
   ]
  },
  {
   "cell_type": "markdown",
   "metadata": {},
   "source": [
    "<p dir=\"rtl\" style=\"text-align: right; direction: rtl; float: right; clear: both;\">\n",
    "    על הפונקציה <code>id</code> כבר למדנו בעבר. היא מקבלת כארגומנט ערך, ומחזירה לנו את \"הזהות\" שלו – ערך אחר שמייצג רק את אותו.<br/>\n",
    "    בגרסת הפייתון שאנחנו משתמשים בה, מדובר בכתובת של הערך ב<a href=\"https://he.wikipedia.org/wiki/%D7%96%D7%99%D7%9B%D7%A8%D7%95%D7%9F_%D7%92%D7%99%D7%A9%D7%94_%D7%90%D7%A7%D7%A8%D7%90%D7%99%D7%AA\">זיכרון המחשב</a>.<br/>\n",
    "    כל אדם שיריץ את הקוד הבא יקבל ערכים שונים, אבל לעולם לא יודפסו לו 2 ערכים זהים באותה ריצה.<br/>\n",
    "    הסיבה לכך שתמיד יודפסו 4 ערכים שונים היא שכל הנתונים שמופיעים ברשימה <var>values</var> שונים זה מזה.\n",
    "</p>"
   ]
  },
  {
   "cell_type": "code",
   "execution_count": null,
   "metadata": {},
   "outputs": [],
   "source": [
    "values = ['1337', [1, 3, 3, 7], 1337, ['1', '3', '3', '7']]\n",
    "\n",
    "for value in values:\n",
    "    id_of_value = id(value)\n",
    "    print(f'id({str(value):>20}) -> {id_of_value}')"
   ]
  },
  {
   "cell_type": "markdown",
   "metadata": {},
   "source": [
    "<p dir=\"rtl\" style=\"text-align: right; direction: rtl; float: right; clear: both;\">\n",
    "    אם ניצור מצב שבו 2 שמות מצביעים על אותו ערך בדיוק, <code>id</code> תחזיר את אותה התוצאה עבור שני הערכים:\n",
    "</p>"
   ]
  },
  {
   "cell_type": "code",
   "execution_count": null,
   "metadata": {},
   "outputs": [],
   "source": [
    "song1 = [\"I've\", 'got', 'a', 'lovely', 'bunch', 'of', 'coconuts']\n",
    "song2 = song1  # שתי הרשימות כרגע מצביעות לאותו מקום\n",
    "song3 = song1[:]  # הערך זהה, אך שכפלנו את הרשימה כך שהמשתנה הזה יצביע למקום אחר\n",
    "print(f\"id(song1): {id(song1)}\")\n",
    "print(f\"id(song2): {id(song2)}  # Same id!\")\n",
    "print(f\"id(song3): {id(song3)}  # Another id!\")\n",
    "# נשים לב שהן מתנהגות בהתאם:\n",
    "song2.append(\"🎵\")\n",
    "print(f\"song1: {song1}\")\n",
    "print(f\"song2: {song2}\")\n",
    "print(f\"song3: {song3}\")"
   ]
  },
  {
   "cell_type": "markdown",
   "metadata": {},
   "source": [
    "<p dir=\"rtl\" style=\"text-align: right; direction: rtl; float: right; clear: both;\">\n",
    "    הפונקציה הזו יכולה לסייע לנו להגיע לתובנות בנוגע לדרך שבה פייתון עובדת בכל מיני מצבים.<br/>\n",
    "    קשה להבין, לדוגמה, מה קורה בקוד הבא:\n",
    "</p>"
   ]
  },
  {
   "cell_type": "code",
   "execution_count": null,
   "metadata": {},
   "outputs": [],
   "source": [
    "collections_of_numbers = [[0, 0, 0]] * 3  # ניצור 3 רשימות של 3 איברים בכל אחת\n",
    "print(collections_of_numbers)\n",
    "collections_of_numbers[0].append(100)  # נוסיף את האיבר 100 לרשימה הראשונה בלבד\n",
    "print(collections_of_numbers)"
   ]
  },
  {
   "cell_type": "markdown",
   "metadata": {},
   "source": [
    "<p dir=\"rtl\" style=\"text-align: right; direction: rtl; float: right; clear: both;\">\n",
    "    בדיקה בעזרת <code>id</code> תעזור לנו לראות שהרשימות הפנימיות בתוך <var>collections_of_numbers</var> מצביעות לאותו מקום:\n",
    "</p>"
   ]
  },
  {
   "cell_type": "code",
   "execution_count": null,
   "metadata": {},
   "outputs": [],
   "source": [
    "print(id(collections_of_numbers[0]))\n",
    "print(id(collections_of_numbers[1]))\n",
    "print(id(collections_of_numbers[2]))"
   ]
  },
  {
   "cell_type": "markdown",
   "metadata": {},
   "source": [
    "<div class=\"align-center\" dir=\"rtl\" style=\"display: flex; text-align: right; direction: rtl; clear: both;\">\n",
    "<div style=\"display: flex; width: 10%; float: right; clear: both;\" width=\"10%\">\n",
    "<img alt=\"תרגול\" height=\"50px\" src=\"images/exercise.svg\" style=\"height: 50px !important;\"/>\n",
    "</div>\n",
    "<div style=\"width: 70%\" width=\"70%\">\n",
    "<p dir=\"rtl\" style=\"text-align: right; direction: rtl; float: right; clear: both;\">\n",
    "            נסו לכתוב קוד של שורה אחת או יותר, שיחליף את השורה הראשונה בקוד שלמעלה.<br/>\n",
    "            גרמו לכך שהקוד שמוסיף את הערך 100 לרשימה הראשונה לא ישפיע על שאר הרשימות.\n",
    "        </p>\n",
    "</div>\n",
    "<div style=\"display: flex; width: 20%; border-right: 0.1rem solid #A5A5A5; padding: 1rem 2rem;\" width=\"20%\">\n",
    "<p dir=\"rtl\" style=\"text-align: center; direction: rtl; justify-content: center; align-items: center; clear: both;\">\n",
    "<strong>חשוב!</strong><br/>\n",
    "            פתרו לפני שתמשיכו!\n",
    "        </p>\n",
    "</div>\n",
    "</div>"
   ]
  },
  {
   "cell_type": "markdown",
   "metadata": {},
   "source": [
    "### <span dir=\"rtl\" style=\"text-align: right; direction: rtl; float: right; clear: both;\">dir</span>"
   ]
  },
  {
   "cell_type": "markdown",
   "metadata": {},
   "source": [
    "<p dir=\"rtl\" style=\"text-align: right; direction: rtl; float: right; clear: both;\">\n",
    "    גם על הפונקציה <code>dir</code> כבר למדנו. ראיתם אותה לאחרונה במחברת שעסקה בדוקומנטציה.<br/>\n",
    "    הפונקציה <code>dir</code> תחזיר לנו את כל הפעולות שאפשר לבצע על משתנה מסוים או על טיפוס מסוים.<br/>\n",
    "    נוכל להעביר לה כארגומנט את הערך שנרצה להבין מה הפעולות שאפשר לבצע עליו:\n",
    "</p>"
   ]
  },
  {
   "cell_type": "code",
   "execution_count": null,
   "metadata": {},
   "outputs": [],
   "source": [
    "dir('hello')"
   ]
  },
  {
   "cell_type": "markdown",
   "metadata": {},
   "source": [
    "<span dir=\"rtl\" style=\"text-align: right; direction: rtl; float: right; clear: both;\">או שנוכל להעביר לה ממש שם של טיפוס:</span>"
   ]
  },
  {
   "cell_type": "code",
   "execution_count": null,
   "metadata": {},
   "outputs": [],
   "source": [
    "dir(str)"
   ]
  },
  {
   "cell_type": "markdown",
   "metadata": {},
   "source": [
    "### <span dir=\"rtl\" style=\"text-align: right; direction: rtl; float: right; clear: both;\">eval</span>"
   ]
  },
  {
   "cell_type": "markdown",
   "metadata": {},
   "source": [
    "<p dir=\"rtl\" style=\"text-align: right; direction: rtl; float: right; clear: both;\">\n",
    "    על <code>eval</code> אנחנו מלמדים בעיקר כדי להזהיר ממנה –  זו פונקציה שאחראית למחדלי אבטחה בכל שפת תכנות שבה היא קיימת.<br/>\n",
    "    אתם לא אמורים להשתמש בה בקורס, וכדאי לזכור שכשהתשובה היא <code>eval</code>, ברוב המוחלט של המקרים שאלתם את השאלה הלא נכונה.\n",
    "</p>"
   ]
  },
  {
   "cell_type": "markdown",
   "metadata": {},
   "source": [
    "<p dir=\"rtl\" style=\"text-align: right; direction: rtl; float: right; clear: both;\">\n",
    "    אחרי ההקדמה המלודרמטית, נספר לכם ש־<code>eval</code> (מלשון evaluation) פשוט מקבלת קוד כמחרוזת, ומריצה אותו בעזרת פייתון.\n",
    "</p>"
   ]
  },
  {
   "cell_type": "code",
   "execution_count": null,
   "metadata": {},
   "outputs": [],
   "source": [
    "x = []\n",
    "eval(\"x.append('So lonely')\")\n",
    "print(x)"
   ]
  },
  {
   "cell_type": "markdown",
   "metadata": {},
   "source": [
    "<p dir=\"rtl\" style=\"text-align: right; direction: rtl; float: right; clear: both;\">\n",
    "    לעיתים קרובות הפיתוי להשתמש ב־<code>eval</code> הוא גדול.<br/>\n",
    "    אפשר לתכנת, לדוגמה, את המחשבון מהתרגול בשבוע השני בצורה הפשוטה הבאה:\n",
    "</p>"
   ]
  },
  {
   "cell_type": "code",
   "execution_count": null,
   "metadata": {},
   "outputs": [],
   "source": [
    "# לנסות בבית עם כפפות – בסדר. לא לכתוב בשום קוד אחר\n",
    "print(eval(input(\"Please enter any mathematical expression: \")))"
   ]
  },
  {
   "cell_type": "markdown",
   "metadata": {},
   "source": [
    "<p dir=\"rtl\" style=\"text-align: right; direction: rtl; float: right; clear: both;\">\n",
    "    אבל כשחושבים על זה – המשתמש שמתבקש להכניס תרגיל מתמטי, יכול להריץ כל קוד שיתחשק לו, והקוד הזה יבוצע!<br/>\n",
    "    הוא יכול לקרוא קבצים שנמצאים על מחשב או למחוק אותם, לחטט בסיסמאות, ולמעשה – לעשות ככל העולה על רוחו.<br/>\n",
    "    לקריאה נוספת על הסכנות, חפשו על <a href=\"https://en.wikipedia.org/wiki/Code_injection\">code injection</a>.\n",
    "</p>"
   ]
  },
  {
   "cell_type": "markdown",
   "metadata": {},
   "source": [
    "## <span dir=\"rtl\" style=\"text-align: right; direction: rtl; float: right; clear: both;\">כלים שימושיים נוספים</span>"
   ]
  },
  {
   "cell_type": "markdown",
   "metadata": {},
   "source": [
    "### <span dir=\"rtl\" style=\"text-align: right; direction: rtl; float: right; clear: both;\">טווח מספרים</span>"
   ]
  },
  {
   "cell_type": "markdown",
   "metadata": {},
   "source": [
    "<p dir=\"rtl\" style=\"text-align: right; direction: rtl; float: right; clear: both;\">\n",
    "    פעמים רבות אנחנו נתקלים במצבים שבהם אנחנו רוצים לעבור על כל המספרים מ־0 ועד ערך מסוים.<br/>\n",
    "    לדוגמה, כך פתרנו את התרגיל שמחשב את סכום המספרים עד מספר שהתקבל כקלט:\n",
    "</p>"
   ]
  },
  {
   "cell_type": "code",
   "execution_count": null,
   "metadata": {},
   "outputs": [],
   "source": [
    "max_number = int(input())\n",
    "\n",
    "current_number = 0\n",
    "total = 0\n",
    "\n",
    "while current_number <= max_number:\n",
    "    total = total + current_number\n",
    "    current_number = current_number + 1\n",
    "\n",
    "print(total)"
   ]
  },
  {
   "cell_type": "markdown",
   "metadata": {},
   "source": [
    "<p dir=\"rtl\" style=\"text-align: right; direction: rtl; float: right; clear: both;\">\n",
    "    מטרת הפונקציה <code>range</code> היא לפתור לנו את הבעיה הזו בקלות.<br/>\n",
    "    תנו ל־<code>range</code> מספר כארגומנט, והיא תחזיר לכם iterable שמכיל את כל המספרים הטבעיים עד המספר שנתתם לה, ללא המספר האחרון:\n",
    "</p>"
   ]
  },
  {
   "cell_type": "code",
   "execution_count": null,
   "metadata": {},
   "outputs": [],
   "source": [
    "for i in range(5):\n",
    "    print(i)"
   ]
  },
  {
   "cell_type": "markdown",
   "metadata": {},
   "source": [
    "<p dir=\"rtl\" style=\"text-align: right; direction: rtl; float: right; clear: both;\">\n",
    "    הפונקציה יודעת גם לקבל ערך שממנו היא תתחיל לספור:\n",
    "</p>"
   ]
  },
  {
   "cell_type": "code",
   "execution_count": null,
   "metadata": {},
   "outputs": [],
   "source": [
    "for i in range(12, 14):\n",
    "    print(i)"
   ]
  },
  {
   "cell_type": "markdown",
   "metadata": {},
   "source": [
    "<p dir=\"rtl\" style=\"text-align: right; direction: rtl; float: right; clear: both;\">\n",
    "    וגם ערך דילוג, שקובע על כמה מספרים <code>range</code> תדלג בכל פעם:\n",
    "</p>"
   ]
  },
  {
   "cell_type": "code",
   "execution_count": null,
   "metadata": {},
   "outputs": [],
   "source": [
    "for i in range(0, 101, 10):\n",
    "    print(i)"
   ]
  },
  {
   "cell_type": "markdown",
   "metadata": {},
   "source": [
    "<div class=\"align-center\" dir=\"rtl\" style=\"display: flex; text-align: right; direction: rtl;\">\n",
    "<div style=\"display: flex; width: 10%; float: right; \" width=\"10%\">\n",
    "<img alt=\"אזהרה!\" height=\"50px\" src=\"images/warning.png\" style=\"height: 50px !important;\"/>\n",
    "</div>\n",
    "<div style=\"width: 90%\" width=\"90%\">\n",
    "<p dir=\"rtl\" style=\"text-align: right; direction: rtl;\">\n",
    "            הפונקציה <code>range</code> מזכירה את פעולת החיתוך מהשבוע השלישי, שבה משתמשים בסוגריים מרובעים ובנקודתיים.<br/>\n",
    "<code>range</code>, לעומת חיתוך, היא פונקציה – קוראים לה בעזרת סוגריים עגולים, ומפרידים בין הארגומנטים שנשלחים אליה בעזרת פסיקים.\n",
    "        </p>\n",
    "</div>\n",
    "</div>"
   ]
  },
  {
   "cell_type": "markdown",
   "metadata": {},
   "source": [
    "<div class=\"align-center\" dir=\"rtl\" style=\"display: flex; text-align: right; direction: rtl; clear: both;\">\n",
    "<div style=\"display: flex; width: 10%; float: right; clear: both;\" width=\"10%\">\n",
    "<img alt=\"תרגול\" height=\"50px\" src=\"images/exercise.svg\" style=\"height: 50px !important;\"/>\n",
    "</div>\n",
    "<div style=\"width: 70%\" width=\"70%\">\n",
    "<p dir=\"rtl\" style=\"text-align: right; direction: rtl; float: right; clear: both;\">\n",
    "            כתבו בעצמכם קוד שמחשב את סכום המספרים מ־0 ועד המספר שהתקבל כקלט.<br/>\n",
    "            השתמשו ב־<code>range</code>.\n",
    "        </p>\n",
    "</div>\n",
    "<div style=\"display: flex; width: 20%; border-right: 0.1rem solid #A5A5A5; padding: 1rem 2rem;\" width=\"20%\">\n",
    "<p dir=\"rtl\" style=\"text-align: center; direction: rtl; justify-content: center; align-items: center; clear: both;\">\n",
    "<strong>חשוב!</strong><br/>\n",
    "            פתרו לפני שתמשיכו!\n",
    "        </p>\n",
    "</div>\n",
    "</div>"
   ]
  },
  {
   "cell_type": "markdown",
   "metadata": {},
   "source": [
    "### <span dir=\"rtl\" style=\"text-align: right; direction: rtl; float: right; clear: both;\">סידור</span>"
   ]
  },
  {
   "cell_type": "markdown",
   "metadata": {},
   "source": [
    "<p dir=\"rtl\" style=\"text-align: right; direction: rtl; float: right; clear: both;\">\n",
    "    עד כה ארגז הכלים שלנו כלל רק את פעולת הסידור ששייכת לרשימות, <code>sort</code>.<br/>\n",
    "    אף שמעשית רוב פעולות הסידור מבוצעות על רשימות, לפעמים יעלה הצורך לסדר טיפוסי נתונים אחרים.<br/>\n",
    "    במקרים האלה נשתמש בפונקציה המובנית <code>sorted</code>:\n",
    "</p>"
   ]
  },
  {
   "cell_type": "code",
   "execution_count": null,
   "metadata": {},
   "outputs": [],
   "source": [
    "sorted('spoilage')"
   ]
  },
  {
   "cell_type": "markdown",
   "metadata": {},
   "source": [
    "<p dir=\"rtl\" style=\"text-align: right; direction: rtl; float: right; clear: both;\">\n",
    "<code>sorted</code> מקבלת iterable, ומחזירה רשימה מסודרת של האיברים ב־iterable.\n",
    "</p>"
   ]
  },
  {
   "cell_type": "markdown",
   "metadata": {},
   "source": [
    "<p dir=\"rtl\" style=\"text-align: right; direction: rtl; float: right; clear: both;\">\n",
    "    נראה דוגמה נוספת של סידור tuple.<br/>\n",
    "    שימו לב שטיפוס הנתונים שמוחזר מ־<code>sorted</code> הוא תמיד רשימה:\n",
    "</p>"
   ]
  },
  {
   "cell_type": "code",
   "execution_count": null,
   "metadata": {},
   "outputs": [],
   "source": [
    "numbers = (612314, 4113, 1, 11, 31)\n",
    "sorted(numbers)"
   ]
  },
  {
   "cell_type": "markdown",
   "metadata": {},
   "source": [
    "<p dir=\"rtl\" style=\"text-align: right; direction: rtl; float: right; clear: both;\">\n",
    "    גם ל־<code>sorted</code> וגם לפעולה <code>sort</code> שיכולה להתבצע על רשימות, יש 2 פרמטרים שלא למדנו עליהם.<br/>\n",
    "    לפרמטר הראשון קוראים <em>reverse</em>, והוא הפשוט להבנה מבין השניים – ברגע שמועבר אליו <var>True</var>, הוא מחזיר את הרשימה מסודרת בסדר יורד:</p>"
   ]
  },
  {
   "cell_type": "code",
   "execution_count": null,
   "metadata": {},
   "outputs": [],
   "source": [
    "sorted('deflow', reverse=True)"
   ]
  },
  {
   "cell_type": "markdown",
   "metadata": {},
   "source": [
    "<p dir=\"rtl\" style=\"text-align: right; direction: rtl; float: right; clear: both;\">\n",
    "    הפרמטר השני, <em>key</em>, מסובך קצת יותר להבנה.<br/>\n",
    "    כשנעביר לפרמטר הזה פונקציה, הסידור של איברי ה־iterable יתבצע לפי הערך שחוזר מהפונקציה הזו עבור כל אחד מהאיברים שצריך למיין.<br/>\n",
    "    מבולבלים? נראה, לדוגמה, את הרשימה הבאה, שמורכבת משמות אנשי הסגל של אחד מהמחזורים הקודמים:\n",
    "</p>"
   ]
  },
  {
   "cell_type": "code",
   "execution_count": null,
   "metadata": {},
   "outputs": [],
   "source": [
    "staff = [\"Dafi\", \"Efrat\", \"Ido\", \"Itamar\", \"Yam\"]"
   ]
  },
  {
   "cell_type": "markdown",
   "metadata": {},
   "source": [
    "<table style=\"font-size: 2rem; border: 0px solid black; border-spacing: 0px;\">\n",
    "<tr>\n",
    "<td style=\"padding-left: 4px; padding-top: 2px; padding-bottom: 3px; font-size: 1.3rem; color: #777;  text-align: left; border-bottom: 1px solid;\">0</td>\n",
    "<td style=\"padding-left: 4px; padding-top: 2px; padding-bottom: 3px; font-size: 1.3rem; color: #777;  text-align: left; border-left: 1px solid #555555; border-bottom: 1px solid;\">1</td>\n",
    "<td style=\"padding-left: 4px; padding-top: 2px; padding-bottom: 3px; font-size: 1.3rem; color: #777;  text-align: left; border-left: 1px solid #555555; border-bottom: 1px solid;\">2</td>\n",
    "<td style=\"padding-left: 4px; padding-top: 2px; padding-bottom: 3px; font-size: 1.3rem; color: #777;  text-align: left; border-left: 1px solid #555555; border-bottom: 1px solid;\">3</td>\n",
    "<td style=\"padding-left: 4px; padding-top: 2px; padding-bottom: 3px; font-size: 1.3rem; color: #777;  text-align: left; border-left: 1px solid #555555; border-bottom: 1px solid;\">4</td>\n",
    "</tr>\n",
    "<tbody>\n",
    "<tr>\n",
    "<td style=\"padding-top: 8px; padding-bottom: 8px; padding-left: 10px; padding-right: 10px; vertical-align: bottom; border: 2px solid;\">\"Dafi\"</td>\n",
    "<td style=\"padding-top: 8px; padding-bottom: 8px; padding-left: 10px; padding-right: 10px; vertical-align: bottom; border: 2px solid;\">\"Efrat\"</td>\n",
    "<td style=\"padding-top: 8px; padding-bottom: 8px; padding-left: 10px; padding-right: 10px; vertical-align: bottom; border: 2px solid;\">\"Ido\"</td>\n",
    "<td style=\"padding-top: 8px; padding-bottom: 8px; padding-left: 10px; padding-right: 10px; vertical-align: bottom; border: 2px solid;\">\"Itamar\"</td>\n",
    "<td style=\"padding-top: 8px; padding-bottom: 8px; padding-left: 10px; padding-right: 10px; vertical-align: bottom; border: 2px solid;\">\"Yam\"</td>\n",
    "</tr>\n",
    "<tr style=\"background: #f5f5f5;\">\n",
    "<td style=\"padding-left: 4px; padding-top: 2px; padding-bottom: 3px; font-size: 1.3rem; color: #777; text-align: right;\">-5</td>\n",
    "<td style=\"padding-left: 4px; padding-top: 2px; padding-bottom: 3px; font-size: 1.3rem; color: #777; text-align: right; border-left: 1px solid #555555;\">-4</td>\n",
    "<td style=\"padding-left: 4px; padding-top: 2px; padding-bottom: 3px; font-size: 1.3rem; color: #777; text-align: right; border-left: 1px solid #555555;\">-3</td>\n",
    "<td style=\"padding-left: 4px; padding-top: 2px; padding-bottom: 3px; font-size: 1.3rem; color: #777; text-align: right; border-left: 1px solid #555555;\">-2</td>\n",
    "<td style=\"padding-left: 4px; padding-top: 2px; padding-bottom: 3px; font-size: 1.3rem; color: #777; text-align: right; border-left: 1px solid #555555;\">-1</td>\n",
    "</tr>\n",
    "</tbody>\n",
    "</table>"
   ]
  },
  {
   "cell_type": "markdown",
   "metadata": {},
   "source": [
    "<p dir=\"rtl\" style=\"text-align: right; direction: rtl; float: right; clear: both;\">\n",
    "    אם ארצה לסדר את הרשימה הזו לפי האורך (<code>len</code>) של שמות כל אחד מאנשי הסגל, אשתמש ב־key בצורה הבאה:\n",
    "</p>"
   ]
  },
  {
   "cell_type": "code",
   "execution_count": null,
   "metadata": {},
   "outputs": [],
   "source": [
    "staff = sorted(staff, key=len)\n",
    "print(staff)"
   ]
  },
  {
   "cell_type": "markdown",
   "metadata": {},
   "source": [
    "<p dir=\"rtl\" style=\"text-align: right; direction: rtl; float: right; clear: both;\">\n",
    "    מה קרה שם בפועל?<br/>\n",
    "    הפונקציה <code>len</code> הופעלה על כל אחד מהאיברים. התוצאות מופיעות בתרשים הבא:\n",
    "</p>"
   ]
  },
  {
   "cell_type": "markdown",
   "metadata": {},
   "source": [
    "<table style=\"font-size: 2rem; border: 0px solid black; border-spacing: 0px;\">\n",
    "<tr>\n",
    "<td style=\"padding-left: 4px; padding-top: 2px; padding-bottom: 3px; font-size: 1.3rem; color: #777;  text-align: left; border-bottom: 1px solid;\">0</td>\n",
    "<td style=\"padding-left: 4px; padding-top: 2px; padding-bottom: 3px; font-size: 1.3rem; color: #777;  text-align: left; border-left: 1px solid #555555; border-bottom: 1px solid;\">1</td>\n",
    "<td style=\"padding-left: 4px; padding-top: 2px; padding-bottom: 3px; font-size: 1.3rem; color: #777;  text-align: left; border-left: 1px solid #555555; border-bottom: 1px solid;\">2</td>\n",
    "<td style=\"padding-left: 4px; padding-top: 2px; padding-bottom: 3px; font-size: 1.3rem; color: #777;  text-align: left; border-left: 1px solid #555555; border-bottom: 1px solid;\">3</td>\n",
    "<td style=\"padding-left: 4px; padding-top: 2px; padding-bottom: 3px; font-size: 1.3rem; color: #777;  text-align: left; border-left: 1px solid #555555; border-bottom: 1px solid;\">4</td>\n",
    "</tr>\n",
    "<tbody>\n",
    "<tr>\n",
    "<td style=\"padding-top: 8px; padding-bottom: 8px; padding-left: 10px; padding-right: 10px; vertical-align: bottom; border: 2px solid;\">\"Dafi\"</td>\n",
    "<td style=\"padding-top: 8px; padding-bottom: 8px; padding-left: 10px; padding-right: 10px; vertical-align: bottom; border: 2px solid;\">\"Efrat\"</td>\n",
    "<td style=\"padding-top: 8px; padding-bottom: 8px; padding-left: 10px; padding-right: 10px; vertical-align: bottom; border: 2px solid;\">\"Ido\"</td>\n",
    "<td style=\"padding-top: 8px; padding-bottom: 8px; padding-left: 10px; padding-right: 10px; vertical-align: bottom; border: 2px solid;\">\"Itamar\"</td>\n",
    "<td style=\"padding-top: 8px; padding-bottom: 8px; padding-left: 10px; padding-right: 10px; vertical-align: bottom; border: 2px solid;\">\"Yam\"</td>\n",
    "</tr>\n",
    "<tr style=\"background: #f5f5f5; color: black;\">\n",
    "<td style=\"padding-left: 4px; padding-top: 2px; padding-bottom: 3px; font-size: 1.3rem; text-align: center;\"><strong>4</strong></td>\n",
    "<td style=\"padding-left: 4px; padding-top: 2px; padding-bottom: 3px; font-size: 1.3rem; text-align: center; border-left: 1px solid #555555;\"><strong>5</strong></td>\n",
    "<td style=\"padding-left: 4px; padding-top: 2px; padding-bottom: 3px; font-size: 1.3rem; text-align: center; border-left: 1px solid #555555;\"><strong>3</strong></td>\n",
    "<td style=\"padding-left: 4px; padding-top: 2px; padding-bottom: 3px; font-size: 1.3rem; text-align: center; border-left: 1px solid #555555;\"><strong>6</strong></td>\n",
    "<td style=\"padding-left: 4px; padding-top: 2px; padding-bottom: 3px; font-size: 1.3rem; text-align: center; border-left: 1px solid #555555;\"><strong>3</strong></td>\n",
    "</tr>\n",
    "</tbody>\n",
    "</table>"
   ]
  },
  {
   "cell_type": "markdown",
   "metadata": {},
   "source": [
    "<p dir=\"rtl\" style=\"text-align: right; direction: rtl; float: right; clear: both;\">\n",
    "    בפועל, אנחנו מחזיקים עכשיו רשימה ראשית (שמות אנשי הסגל), ועוד רשימה משנית שבה מאוחסנים אורכי האיברים שברשימה הראשית.<br/>\n",
    "    פייתון תמיין את הרשימה המשנית, ובכל פעם שהיא תזיז את אחד האיברים בה, היא תזיז איתו את האיבר התואם ברשימה המקורית:\n",
    "</p>"
   ]
  },
  {
   "cell_type": "markdown",
   "metadata": {},
   "source": [
    "<table style=\"font-size: 2rem; border: 0px solid black; border-spacing: 0px;\">\n",
    "<tr>\n",
    "<td style=\"padding-left: 4px; padding-top: 2px; padding-bottom: 3px; font-size: 1.3rem; color: #777;  text-align: left; border-bottom: 1px solid;\">0</td>\n",
    "<td style=\"padding-left: 4px; padding-top: 2px; padding-bottom: 3px; font-size: 1.3rem; color: #777;  text-align: left; border-left: 1px solid #555555; border-bottom: 1px solid;\">1</td>\n",
    "<td style=\"padding-left: 4px; padding-top: 2px; padding-bottom: 3px; font-size: 1.3rem; color: #777;  text-align: left; border-left: 1px solid; border-bottom: 1px solid; background: #d1d1d1;\">2</td>\n",
    "<td style=\"padding-left: 4px; padding-top: 2px; padding-bottom: 3px; font-size: 1.3rem; color: #777;  text-align: left; border-left: 1px solid #555555; border-bottom: 1px solid;\">3</td>\n",
    "<td style=\"padding-left: 4px; padding-top: 2px; padding-bottom: 3px; font-size: 1.3rem; color: #777;  text-align: left; border-left: 1px solid #555555; border-bottom: 1px solid;\">4</td>\n",
    "</tr>\n",
    "<tbody>\n",
    "<tr>\n",
    "<td style=\"padding-top: 8px; padding-bottom: 8px; padding-left: 10px; padding-right: 10px; vertical-align: bottom; border: 2px solid;\">\"Dafi\"</td>\n",
    "<td style=\"padding-top: 8px; padding-bottom: 8px; padding-left: 10px; padding-right: 10px; vertical-align: bottom; border: 2px solid;\">\"Efrat\"</td>\n",
    "<td style=\"padding-top: 8px; padding-bottom: 8px; padding-left: 10px; padding-right: 10px; vertical-align: bottom; border: 2px solid; background: #d1d1d1\">\"Ido\"</td>\n",
    "<td style=\"padding-top: 8px; padding-bottom: 8px; padding-left: 10px; padding-right: 10px; vertical-align: bottom; border: 2px solid;\">\"Itamar\"</td>\n",
    "<td style=\"padding-top: 8px; padding-bottom: 8px; padding-left: 10px; padding-right: 10px; vertical-align: bottom; border: 2px solid;\">\"Yam\"</td>\n",
    "</tr>\n",
    "<tr style=\"background: #f5f5f5; color: black;\">\n",
    "<td style=\"padding-left: 4px; padding-top: 2px; padding-bottom: 3px; font-size: 1.3rem; text-align: center;\"><strong>4</strong></td>\n",
    "<td style=\"padding-left: 4px; padding-top: 2px; padding-bottom: 3px; font-size: 1.3rem; text-align: center; border-left: 1px solid #555555;\"><strong>5</strong></td>\n",
    "<td style=\"padding-left: 4px; padding-top: 2px; padding-bottom: 3px; font-size: 1.3rem; text-align: center; border-left: 1px solid #555555; background: #d1d1d1\"><strong>3</strong></td>\n",
    "<td style=\"padding-left: 4px; padding-top: 2px; padding-bottom: 3px; font-size: 1.3rem; text-align: center; border-left: 1px solid #555555;\"><strong>6</strong></td>\n",
    "<td style=\"padding-left: 4px; padding-top: 2px; padding-bottom: 3px; font-size: 1.3rem; text-align: center; border-left: 1px solid #555555;\"><strong>3</strong></td>\n",
    "</tr>\n",
    "</tbody>\n",
    "</table>\n",
    "<table style=\"font-size: 2rem; border: 0px solid black; border-spacing: 0px;\">\n",
    "<tr>\n",
    "<td style=\"padding-left: 4px; padding-top: 2px; padding-bottom: 3px; font-size: 1.3rem; color: #777;  text-align: left; border-left: 1px solid; border-bottom: 1px solid; background: #d1d1d1;\">0</td>\n",
    "<td style=\"padding-left: 4px; padding-top: 2px; padding-bottom: 3px; font-size: 1.3rem; color: #777;  text-align: left; border-bottom: 1px solid; border-left: 1px solid #555555;\">1</td>\n",
    "<td style=\"padding-left: 4px; padding-top: 2px; padding-bottom: 3px; font-size: 1.3rem; color: #777;  text-align: left; border-left: 1px solid #555555; border-bottom: 1px solid;\">2</td>\n",
    "<td style=\"padding-left: 4px; padding-top: 2px; padding-bottom: 3px; font-size: 1.3rem; color: #777;  text-align: left; border-left: 1px solid #555555; border-bottom: 1px solid;\">3</td>\n",
    "<td style=\"padding-left: 4px; padding-top: 2px; padding-bottom: 3px; font-size: 1.3rem; color: #777;  text-align: left; border-left: 1px solid #555555; border-bottom: 1px solid;\">4</td>\n",
    "</tr>\n",
    "<tbody>\n",
    "<tr>\n",
    "<td style=\"padding-top: 8px; padding-bottom: 8px; padding-left: 10px; padding-right: 10px; vertical-align: bottom; border: 2px solid; background: #d1d1d1\">\"Ido\"</td>\n",
    "<td style=\"padding-top: 8px; padding-bottom: 8px; padding-left: 10px; padding-right: 10px; vertical-align: bottom; border: 2px solid;\">\"Dafi\"</td>\n",
    "<td style=\"padding-top: 8px; padding-bottom: 8px; padding-left: 10px; padding-right: 10px; vertical-align: bottom; border: 2px solid;\">\"Efrat\"</td>\n",
    "<td style=\"padding-top: 8px; padding-bottom: 8px; padding-left: 10px; padding-right: 10px; vertical-align: bottom; border: 2px solid;\">\"Itamar\"</td>\n",
    "<td style=\"padding-top: 8px; padding-bottom: 8px; padding-left: 10px; padding-right: 10px; vertical-align: bottom; border: 2px solid;\">\"Yam\"</td>\n",
    "</tr>\n",
    "<tr style=\"background: #f5f5f5; color: black;\">\n",
    "<td style=\"padding-left: 4px; padding-top: 2px; padding-bottom: 3px; font-size: 1.3rem; text-align: center; border-left: 1px solid #555555; background: #d1d1d1\"><strong>3</strong></td>\n",
    "<td style=\"padding-left: 4px; padding-top: 2px; padding-bottom: 3px; font-size: 1.3rem; text-align: center; border-left: 1px solid #555555;\"><strong>4</strong></td>\n",
    "<td style=\"padding-left: 4px; padding-top: 2px; padding-bottom: 3px; font-size: 1.3rem; text-align: center; border-left: 1px solid #555555;\"><strong>5</strong></td>\n",
    "<td style=\"padding-left: 4px; padding-top: 2px; padding-bottom: 3px; font-size: 1.3rem; text-align: center; border-left: 1px solid #555555;\"><strong>6</strong></td>\n",
    "<td style=\"padding-left: 4px; padding-top: 2px; padding-bottom: 3px; font-size: 1.3rem; text-align: center; border-left: 1px solid #555555;\"><strong>3</strong></td>\n",
    "</tr>\n",
    "</tbody>\n",
    "</table>"
   ]
  },
  {
   "cell_type": "markdown",
   "metadata": {},
   "source": [
    "<span dir=\"rtl\" style=\"text-align: right; direction: rtl; float: right; clear: both;\">הרשימה המשנית עדיין לא מסודרת. נמשיך:</span>\n",
    "<table style=\"font-size: 2rem; border: 0px solid black; border-spacing: 0px;\">\n",
    "<tr>\n",
    "<td style=\"padding-left: 4px; padding-top: 2px; padding-bottom: 3px; font-size: 1.3rem; color: #777;  text-align: left; border-bottom: 1px solid;\">0</td>\n",
    "<td style=\"padding-left: 4px; padding-top: 2px; padding-bottom: 3px; font-size: 1.3rem; color: #777;  text-align: left; border-bottom: 1px solid; border-left: 1px solid #555555;;\">1</td>\n",
    "<td style=\"padding-left: 4px; padding-top: 2px; padding-bottom: 3px; font-size: 1.3rem; color: #777;  text-align: left; border-left: 1px solid #555555; border-bottom: 1px solid;\">2</td>\n",
    "<td style=\"padding-left: 4px; padding-top: 2px; padding-bottom: 3px; font-size: 1.3rem; color: #777;  text-align: left; border-left: 1px solid #555555; border-bottom: 1px solid;\">3</td>\n",
    "<td style=\"padding-left: 4px; padding-top: 2px; padding-bottom: 3px; font-size: 1.3rem; color: #777;  text-align: left; border-left: 1px solid #555555; border-bottom: 1px solid; background: #d1d1d1;\">4</td>\n",
    "</tr>\n",
    "<tbody>\n",
    "<tr>\n",
    "<td style=\"padding-top: 8px; padding-bottom: 8px; padding-left: 10px; padding-right: 10px; vertical-align: bottom; border: 2px solid; border-left: 2px solid #555555;\">\"Ido\"</td>\n",
    "<td style=\"padding-top: 8px; padding-bottom: 8px; padding-left: 10px; padding-right: 10px; vertical-align: bottom; border: 2px solid;\">\"Dafi\"</td>\n",
    "<td style=\"padding-top: 8px; padding-bottom: 8px; padding-left: 10px; padding-right: 10px; vertical-align: bottom; border: 2px solid;\">\"Efrat\"</td>\n",
    "<td style=\"padding-top: 8px; padding-bottom: 8px; padding-left: 10px; padding-right: 10px; vertical-align: bottom; border: 2px solid;\">\"Itamar\"</td>\n",
    "<td style=\"padding-top: 8px; padding-bottom: 8px; padding-left: 10px; padding-right: 10px; vertical-align: bottom; border: 2px solid; background: #d1d1d1\">\"Yam\"</td>\n",
    "</tr>\n",
    "<tr style=\"background: #f5f5f5; color: black;\">\n",
    "<td style=\"padding-left: 4px; padding-top: 2px; padding-bottom: 3px; font-size: 1.3rem; text-align: center; border-left: 0px solid #555555;\"><strong>3</strong></td>\n",
    "<td style=\"padding-left: 4px; padding-top: 2px; padding-bottom: 3px; font-size: 1.3rem; text-align: center; border-left: 1px solid #555555;\"><strong>4</strong></td>\n",
    "<td style=\"padding-left: 4px; padding-top: 2px; padding-bottom: 3px; font-size: 1.3rem; text-align: center; border-left: 1px solid #555555;\"><strong>5</strong></td>\n",
    "<td style=\"padding-left: 4px; padding-top: 2px; padding-bottom: 3px; font-size: 1.3rem; text-align: center; border-left: 1px solid #555555;\"><strong>6</strong></td>\n",
    "<td style=\"padding-left: 4px; padding-top: 2px; padding-bottom: 3px; font-size: 1.3rem; text-align: center; border-left: 1px solid #555555; background: #d1d1d1\"><strong>3</strong></td>\n",
    "</tr>\n",
    "</tbody>\n",
    "</table>\n",
    "<table style=\"font-size: 2rem; border: 0px solid black; border-spacing: 0px;\">\n",
    "<tr>\n",
    "<td style=\"padding-left: 4px; padding-top: 2px; padding-bottom: 3px; font-size: 1.3rem; color: #777;  text-align: left; border-bottom: 1px solid;\">0</td>\n",
    "<td style=\"padding-left: 4px; padding-top: 2px; padding-bottom: 3px; font-size: 1.3rem; color: #777;  text-align: left; border-bottom: 1px solid; border-left: 1px solid #555555; background: #d1d1d1;\">1</td>\n",
    "<td style=\"padding-left: 4px; padding-top: 2px; padding-bottom: 3px; font-size: 1.3rem; color: #777;  text-align: left; border-left: 1px solid #555555; border-bottom: 1px solid;\">2</td>\n",
    "<td style=\"padding-left: 4px; padding-top: 2px; padding-bottom: 3px; font-size: 1.3rem; color: #777;  text-align: left; border-left: 1px solid #555555; border-bottom: 1px solid;\">3</td>\n",
    "<td style=\"padding-left: 4px; padding-top: 2px; padding-bottom: 3px; font-size: 1.3rem; color: #777;  text-align: left; border-left: 1px solid #555555; border-bottom: 1px solid;\">4</td>\n",
    "</tr>\n",
    "<tbody>\n",
    "<tr>\n",
    "<td style=\"padding-top: 8px; padding-bottom: 8px; padding-left: 10px; padding-right: 10px; vertical-align: bottom; border: 2px solid; border-left: 2px solid #555555;\">\"Ido\"</td>\n",
    "<td style=\"padding-top: 8px; padding-bottom: 8px; padding-left: 10px; padding-right: 10px; vertical-align: bottom; border: 2px solid; background: #d1d1d1;\">\"Yam\"</td>\n",
    "<td style=\"padding-top: 8px; padding-bottom: 8px; padding-left: 10px; padding-right: 10px; vertical-align: bottom; border: 2px solid;\">\"Dafi\"</td>\n",
    "<td style=\"padding-top: 8px; padding-bottom: 8px; padding-left: 10px; padding-right: 10px; vertical-align: bottom; border: 2px solid;\">\"Efrat\"</td>\n",
    "<td style=\"padding-top: 8px; padding-bottom: 8px; padding-left: 10px; padding-right: 10px; vertical-align: bottom; border: 2px solid;\">\"Itamar\"</td>\n",
    "</tr>\n",
    "<tr style=\"background: #f5f5f5; color: black;\">\n",
    "<td style=\"padding-left: 4px; padding-top: 2px; padding-bottom: 3px; font-size: 1.3rem; text-align: center; border-left: 0px solid #555555;\"><strong>3</strong></td>\n",
    "<td style=\"padding-left: 4px; padding-top: 2px; padding-bottom: 3px; font-size: 1.3rem; text-align: center; border-left: 1px solid #555555; background: #d1d1d1\"><strong>3</strong></td>\n",
    "<td style=\"padding-left: 4px; padding-top: 2px; padding-bottom: 3px; font-size: 1.3rem; text-align: center; border-left: 1px solid #555555;\"><strong>4</strong></td>\n",
    "<td style=\"padding-left: 4px; padding-top: 2px; padding-bottom: 3px; font-size: 1.3rem; text-align: center; border-left: 1px solid #555555;\"><strong>5</strong></td>\n",
    "<td style=\"padding-left: 4px; padding-top: 2px; padding-bottom: 3px; font-size: 1.3rem; text-align: center; border-left: 1px solid #555555;\"><strong>6</strong></td>\n",
    "</tr>\n",
    "</tbody>\n",
    "</table>"
   ]
  },
  {
   "cell_type": "markdown",
   "metadata": {},
   "source": [
    "<p dir=\"rtl\" style=\"text-align: right; direction: rtl; float: right; clear: both;\">\n",
    "    עכשיו הרשימה המשנית מסודרת, ואפשר להפסיק את פעולת הסידור.<br/>\n",
    "    הקסם הוא שאפשר להכניס ל־<code>key</code> כל פונקציה, ולקבל iterable מסודר לפי ערכי ההחזרה של אותה פונקציה עבור הערכים ב־iterable.\n",
    "</p>"
   ]
  },
  {
   "cell_type": "markdown",
   "metadata": {},
   "source": [
    "<div class=\"align-center\" dir=\"rtl\" style=\"display: flex; text-align: right; direction: rtl; clear: both;\">\n",
    "<div style=\"display: flex; width: 10%; float: right; clear: both;\" width=\"10%\">\n",
    "<img alt=\"תרגול\" height=\"50px\" src=\"images/exercise.svg\" style=\"height: 50px !important;\"/>\n",
    "</div>\n",
    "<div style=\"width: 70%\" width=\"70%\">\n",
    "<p dir=\"rtl\" style=\"text-align: right; direction: rtl; float: right; clear: both;\">\n",
    "        כתבו פונקציה שמקבלת כפרמטר את רשימת השמות של המשתתפות בכיתה.<br/>\n",
    "        הפונקציה תחזיר רשימה המורכבת מאותם שמות, מסודרים לפי סדר האלף־בית.<br/>\n",
    "        סדרו נכונה גם מקרים שבהם חלק מהשמות מתחילים באות גדולה, וחלק – באות קטנה.\n",
    "        </p>\n",
    "</div>\n",
    "<div style=\"display: flex; width: 20%; border-right: 0.1rem solid #A5A5A5; padding: 1rem 2rem;\" width=\"20%\">\n",
    "<p dir=\"rtl\" style=\"text-align: center; direction: rtl; justify-content: center; align-items: center; clear: both;\">\n",
    "<strong>חשוב!</strong><br/>\n",
    "            פתרו לפני שתמשיכו!\n",
    "        </p>\n",
    "</div>\n",
    "</div>"
   ]
  },
  {
   "cell_type": "markdown",
   "metadata": {},
   "source": [
    "### <span dir=\"rtl\" style=\"text-align: right; direction: rtl; float: right; clear: both;\">צימוד ערכים</span>"
   ]
  },
  {
   "cell_type": "markdown",
   "metadata": {},
   "source": [
    "<p dir=\"rtl\" style=\"text-align: right; direction: rtl; float: right; clear: both;\">\n",
    "    הרבה פעמים נגיע למצב שבו יש לנו 2 iterables ואנחנו מעוניינים לעבור על הערכים שלהם, זה לצד זה.<br/>\n",
    "    נניח שיש לנו רשימה של ציורים, ורשימה של הציירים שציירו אותם:\n",
    "</p>"
   ]
  },
  {
   "cell_type": "code",
   "execution_count": null,
   "metadata": {},
   "outputs": [],
   "source": [
    "paintings = ['Mona Lisa', 'The Creation of Adam', 'The Scream', 'The Starry Night']\n",
    "artists = ['Leonardo da Vinci', 'Michelangelo', 'Edvard Munch', 'Vincent van Gogh']"
   ]
  },
  {
   "cell_type": "markdown",
   "metadata": {},
   "source": [
    "<p dir=\"rtl\" style=\"text-align: right; direction: rtl; float: right; clear: both;\">\n",
    "    צורה אחת לעבור על שתי הרשימות תהיה כזו:\n",
    "</p>"
   ]
  },
  {
   "cell_type": "code",
   "execution_count": null,
   "metadata": {},
   "outputs": [],
   "source": [
    "i = 0\n",
    "max_iterations = len(paintings)\n",
    "\n",
    "while i < max_iterations:\n",
    "    artist = artists[i]\n",
    "    painting = paintings[i]\n",
    "    print(f\"{artist} painted '{painting}'.\")\n",
    "    i = i + 1"
   ]
  },
  {
   "cell_type": "markdown",
   "metadata": {},
   "source": [
    "<p dir=\"rtl\" style=\"text-align: right; direction: rtl; float: right; clear: both;\">\n",
    "אבל אפשר להסכים על כך שהדרך הזו לא נוחה במיוחד.<br/>\n",
    "אפשרות אחרת היא להשתמש ב־<code>zip</code>, שיצמיד בין שני הערכים ויצור לנו את המבנה הבא:\n",
    "</p>"
   ]
  },
  {
   "cell_type": "code",
   "execution_count": null,
   "metadata": {},
   "outputs": [],
   "source": [
    "zipped_values = zip(paintings, artists)\n",
    "print(list(zipped_values))"
   ]
  },
  {
   "cell_type": "markdown",
   "metadata": {},
   "source": [
    "<div class=\"align-center\" dir=\"rtl\" style=\"display: flex; text-align: right; direction: rtl;\">\n",
    "<div style=\"display: flex; width: 10%; float: right; \" width=\"10%\">\n",
    "<img alt=\"אזהרה!\" height=\"50px\" src=\"images/warning.png\" style=\"height: 50px !important;\"/>\n",
    "</div>\n",
    "<div style=\"width: 90%\" width=\"90%\">\n",
    "<p dir=\"rtl\" style=\"text-align: right; direction: rtl;\">\n",
    "            אם שתי הרשימות אינן זהות באורכן, <code>zip</code> לא יתייחס לאיברים העודפים של הרשימה הארוכה יותר.\n",
    "        </p>\n",
    "</div>\n",
    "</div>"
   ]
  },
  {
   "cell_type": "markdown",
   "metadata": {},
   "source": [
    "<p dir=\"rtl\" style=\"text-align: right; direction: rtl; float: right; clear: both;\">\n",
    "אחד השימושים האפשריים ל־<code>zip</code> הוא unpacking בתוך לולאת <code>for</code>:\n",
    "</p>"
   ]
  },
  {
   "cell_type": "code",
   "execution_count": null,
   "metadata": {},
   "outputs": [],
   "source": [
    "for artist, painting in zip(artists, paintings):\n",
    "    print(f\"{artist} painted '{painting}'.\")"
   ]
  },
  {
   "cell_type": "markdown",
   "metadata": {},
   "source": [
    "<p dir=\"rtl\" style=\"text-align: right; direction: rtl; float: right; clear: both;\">\n",
    "והיא אפילו לא מוגבלת ל־2 ארגומנטים בלבד:\n",
    "</p>"
   ]
  },
  {
   "cell_type": "code",
   "execution_count": null,
   "metadata": {},
   "outputs": [],
   "source": [
    "paintings = ['Mona Lisa', 'The Creation of Adam', 'The Scream', 'The Starry Night']\n",
    "artists = ['Leonardo da Vinci', 'Michelangelo', 'Edvard Munch', 'Vincent van Gogh']\n",
    "years = [1503, 1512, 1893, 1889]\n",
    "\n",
    "for artist, painting, year in zip(artists, paintings, years):\n",
    "    print(f\"{artist} painted '{painting}' in {year}.\")"
   ]
  },
  {
   "cell_type": "markdown",
   "metadata": {},
   "source": [
    "<div class=\"align-center\" dir=\"rtl\" style=\"display: flex; text-align: right; direction: rtl; clear: both;\">\n",
    "<div style=\"display: flex; width: 10%; float: right; clear: both;\" width=\"10%\">\n",
    "<img alt=\"תרגול\" height=\"50px\" src=\"images/exercise.svg\" style=\"height: 50px !important;\"/>\n",
    "</div>\n",
    "<div style=\"width: 70%\" width=\"70%\">\n",
    "<p dir=\"rtl\" style=\"text-align: right; direction: rtl; float: right; clear: both;\">\n",
    "            יש טיפוס נתונים שהיה מתאים יותר למקרה הזה מאשר 2 רשימות. מהו לדעתכם?\n",
    "        </p>\n",
    "</div>\n",
    "<div style=\"display: flex; width: 20%; border-right: 0.1rem solid #A5A5A5; padding: 1rem 2rem;\" width=\"20%\">\n",
    "<p dir=\"rtl\" style=\"text-align: center; direction: rtl; justify-content: center; align-items: center; clear: both;\">\n",
    "<strong>חשוב!</strong><br/>\n",
    "            פתרו לפני שתמשיכו!\n",
    "        </p>\n",
    "</div>\n",
    "</div>"
   ]
  },
  {
   "cell_type": "markdown",
   "metadata": {},
   "source": [
    "<p dir=\"rtl\" style=\"text-align: right; direction: rtl; float: right; clear: both;\">\n",
    "שימוש נפוץ ל־<code>zip</code> הוא במקרה שיש לנו שתי רשימות שמתאימות זו לזו, ויחד יכולות ליצור מילון.<br/>\n",
    "אם רשימה אחת מתאימה להיות המפתחות במילון, והאחרת להיות הערכים באותו מילון, נוכל להשתמש ב־<code>zip</code> כדי לבצע את ההמרה:\n",
    "</p>"
   ]
  },
  {
   "cell_type": "code",
   "execution_count": null,
   "metadata": {},
   "outputs": [],
   "source": [
    "paintings = ['Mona Lisa', 'The Creation of Adam', 'The Scream', 'The Starry Night']\n",
    "artists = ['Leonardo da Vinci', 'Michelangelo', 'Edvard Munch', 'Vincent van Gogh']\n",
    "\n",
    "artists_from_paintings = dict(zip(paintings, artists))"
   ]
  },
  {
   "cell_type": "markdown",
   "metadata": {},
   "source": [
    "<p dir=\"rtl\" style=\"text-align: right; direction: rtl; float: right; clear: both;\">\n",
    "    עכשיו נוכל לשאול מי צייר את המונה ליזה:\n",
    "</p>"
   ]
  },
  {
   "cell_type": "code",
   "execution_count": null,
   "metadata": {},
   "outputs": [],
   "source": [
    "print(artists_from_paintings.get('Mona Lisa'))"
   ]
  },
  {
   "cell_type": "markdown",
   "metadata": {},
   "source": [
    "<p dir=\"rtl\" style=\"text-align: right; direction: rtl; float: right; clear: both;\">\n",
    "    או לעבור על המילון ולהדפיס את הערכים, כמו שעשינו לפני כן:\n",
    "</p>"
   ]
  },
  {
   "cell_type": "code",
   "execution_count": null,
   "metadata": {},
   "outputs": [],
   "source": [
    "for painting, artist in artists_from_paintings.items():\n",
    "    print(f\"{artist} painted '{painting}'.\")"
   ]
  },
  {
   "cell_type": "markdown",
   "metadata": {},
   "source": [
    "### <span dir=\"rtl\" style=\"text-align: right; direction: rtl; float: right; clear: both;\">המרת תווים למספרים ולהפך</span>"
   ]
  },
  {
   "cell_type": "markdown",
   "metadata": {},
   "source": [
    "<p dir=\"rtl\" style=\"text-align: right; direction: rtl; float: right; clear: both;\">\n",
    "    כפי שהסברנו במחברת קבצים בשבוע שעבר, לכל תו מוצמד מספר שמזהה אותו.<br/>\n",
    "    בעזרת הפונקציה <code>ord</code> נוכל לאחזר את הערך הזה:\n",
    "</p>"
   ]
  },
  {
   "cell_type": "code",
   "execution_count": null,
   "metadata": {},
   "outputs": [],
   "source": [
    "print(ord('A'))"
   ]
  },
  {
   "cell_type": "code",
   "execution_count": null,
   "metadata": {},
   "outputs": [],
   "source": [
    "chars = 'a !א'\n",
    "for char in chars:\n",
    "    print(f\"ord({char!r}) = {ord(char)}\")"
   ]
  },
  {
   "cell_type": "markdown",
   "metadata": {},
   "source": [
    "<p dir=\"rtl\" style=\"text-align: right; direction: rtl; float: right; clear: both;\">\n",
    "    ויש גם דרך לעשות את הפעולה ההפוכה!<br/>\n",
    "    בעזרת הפונקציה <code>chr</code> נוכל לקבל את התו לפי המספר שמייצג אותו:\n",
    "</p>"
   ]
  },
  {
   "cell_type": "code",
   "execution_count": null,
   "metadata": {},
   "outputs": [],
   "source": [
    "ascii_numbers = [97, 32, 33, 1488]\n",
    "for ascii_number in ascii_numbers:\n",
    "    # המקפים שם כדי שתראו את הרווח :)\n",
    "    print(f\"chr({ascii_number:>4}) = -{chr(ascii_number)}-\")"
   ]
  },
  {
   "cell_type": "markdown",
   "metadata": {},
   "source": [
    "<div class=\"align-center\" dir=\"rtl\" style=\"display: flex; text-align: right; direction: rtl; clear: both;\">\n",
    "<div style=\"display: flex; width: 10%; float: right; clear: both;\" width=\"10%\">\n",
    "<img alt=\"תרגול\" height=\"50px\" src=\"images/exercise.svg\" style=\"height: 50px !important;\"/>\n",
    "</div>\n",
    "<div style=\"width: 70%\" width=\"70%\">\n",
    "<p dir=\"rtl\" style=\"text-align: right; direction: rtl; float: right; clear: both;\">\n",
    "            כתבו תוכנית שמדפיסה זוג ערכים עבור כל מספר מ־9,760 ועד 10,100.<br/>\n",
    "            הערך הראשון יהיה המספר, והערך השני יהיה התו שאותו המספר מייצג.\n",
    "        </p>\n",
    "</div>\n",
    "<div style=\"display: flex; width: 20%; border-right: 0.1rem solid #A5A5A5; padding: 1rem 2rem;\" width=\"20%\">\n",
    "<p dir=\"rtl\" style=\"text-align: center; direction: rtl; justify-content: center; align-items: center; clear: both;\">\n",
    "<strong>חשוב!</strong><br/>\n",
    "            פתרו לפני שתמשיכו!\n",
    "        </p>\n",
    "</div>\n",
    "</div>"
   ]
  },
  {
   "cell_type": "markdown",
   "metadata": {},
   "source": [
    "### <span dir=\"rtl\" style=\"text-align: right; direction: rtl; float: right; clear: both;\">מניית איברים</span>"
   ]
  },
  {
   "cell_type": "markdown",
   "metadata": {},
   "source": [
    "<p dir=\"rtl\" style=\"text-align: right; direction: rtl; float: right; clear: both;\">\n",
    "    נניח שאנחנו רוצים לעבור על כל השורות בקובץ מסוים, ולהדפיס ליד כל שורה את המספר הסידורי שלה:\n",
    "</p>"
   ]
  },
  {
   "cell_type": "code",
   "execution_count": null,
   "metadata": {},
   "outputs": [],
   "source": [
    "with open('resources/haiku.txt') as haiku:\n",
    "    haiku_text = haiku.readlines()"
   ]
  },
  {
   "cell_type": "code",
   "execution_count": null,
   "metadata": {},
   "outputs": [],
   "source": [
    "line_number = 0\n",
    "for line in haiku_text:\n",
    "    print(f\"{line_number}:\\t{line.rstrip()}\")\n",
    "    line_number = line_number + 1"
   ]
  },
  {
   "cell_type": "markdown",
   "metadata": {},
   "source": [
    "<p dir=\"rtl\" style=\"text-align: right; direction: rtl; float: right; clear: both;\">\n",
    "    חייבת להיות דרך טובה יותר!<br/>\n",
    "    הפונקציה המובנית <code>enumerate</code> מאפשרת למתכנת להצמיד מספר רץ ל־iterable:\n",
    "</p>"
   ]
  },
  {
   "cell_type": "code",
   "execution_count": null,
   "metadata": {},
   "outputs": [],
   "source": [
    "haiku_text_enumerated = enumerate(haiku_text)\n",
    "print(list(haiku_text_enumerated))"
   ]
  },
  {
   "cell_type": "markdown",
   "metadata": {},
   "source": [
    "<p dir=\"rtl\" style=\"text-align: right; direction: rtl; float: right; clear: both;\">\n",
    "    השימוש הנפוץ ביותר ל־<code>enumerate</code> הוא בלולאות <code>for</code>:\n",
    "</p>"
   ]
  },
  {
   "cell_type": "code",
   "execution_count": null,
   "metadata": {},
   "outputs": [],
   "source": [
    "for line_number, line in enumerate(haiku_text):\n",
    "    print(f\"{line_number}:\\t{line.rstrip()}\")\n",
    "    line_number = line_number + 1"
   ]
  },
  {
   "cell_type": "markdown",
   "metadata": {},
   "source": [
    "<p dir=\"rtl\" style=\"text-align: right; direction: rtl; float: right; clear: both;\">\n",
    "    טריק מדליק: אם בא לנו להתחיל למספר ממספר שהוא לא 0, אפשר להעביר ל־<code>enumerate</code> את המספר הזה כפרמטר:\n",
    "</p>"
   ]
  },
  {
   "cell_type": "code",
   "execution_count": null,
   "metadata": {},
   "outputs": [],
   "source": [
    "for line_number, line in enumerate(haiku_text, 1):\n",
    "    print(f\"{line_number}:\\t{line.rstrip()}\")\n",
    "    line_number = line_number + 1"
   ]
  },
  {
   "cell_type": "markdown",
   "metadata": {},
   "source": [
    "## <span dir=\"rtl\" style=\"text-align: right; direction: rtl; float: right; clear: both;\">דוגמאות לשימושים</span>"
   ]
  },
  {
   "cell_type": "markdown",
   "metadata": {},
   "source": [
    "### <span dir=\"rtl\" style=\"text-align: right; direction: rtl; float: right;\">מפת צופן קיסר</span>"
   ]
  },
  {
   "cell_type": "markdown",
   "metadata": {},
   "source": [
    "<p dir=\"rtl\" style=\"text-align: right; direction: rtl; float: right; clear: both;\">\n",
    "    צופן קיסר היא שיטת הצפנה, שבה כל תו מוחלף בתו שנמצא 3 תווים אחריו באלף־בית של השפה.<br/>\n",
    "    בעברית, לדוגמה, האות א' תוחלף באות ד', האות ג' באות ו' והאות ת' באות ג'.<br/>\n",
    "    נבנה מפת פענוח לצופן קיסר בעזרת הפונקציות שלמדנו במחברת:\n",
    "</p>"
   ]
  },
  {
   "cell_type": "code",
   "execution_count": null,
   "metadata": {},
   "outputs": [],
   "source": [
    "def create_chars_from_numbers(numbers):\n",
    "    chars = []\n",
    "    for number in numbers:\n",
    "        chars.append(chr(number))\n",
    "    return chars\n",
    "\n",
    "\n",
    "def get_all_english_letters():\n",
    "    first_letter = ord('a')\n",
    "    last_letter = ord('z')\n",
    "    all_letters_by_number = range(first_letter, last_letter + 1)\n",
    "    all_letters = create_chars_from_numbers(all_letters_by_number)\n",
    "    return all_letters\n",
    "\n",
    "\n",
    "def get_ceaser_map():\n",
    "    letters = get_all_english_letters()\n",
    "    shifted_letters = letters[3:] + letters[:3]\n",
    "    return dict(zip(letters, shifted_letters))\n",
    "\n",
    "get_ceaser_map()"
   ]
  },
  {
   "cell_type": "markdown",
   "metadata": {},
   "source": [
    "<p dir=\"rtl\" style=\"text-align: right; direction: rtl; float: right; clear: both;\">\n",
    "    ורק בשביל הכיף, נבנה קוד שיאפשר לנו להשתמש במפה כדי להצפין מסרים:\n",
    "</p>"
   ]
  },
  {
   "cell_type": "code",
   "execution_count": null,
   "metadata": {},
   "outputs": [],
   "source": [
    "def encrypt(message, encryption_map):\n",
    "    encrypted = ''\n",
    "    for char in message.lower():\n",
    "        # If we can't find the character, assume it is not encrypted.\n",
    "        encrypted = encrypted + encryption_map.get(char, char)\n",
    "    return encrypted\n",
    "\n",
    "encryption_map = get_ceaser_map()\n",
    "encrypted_message = encrypt('This is the encrypted message!', encryption_map)\n",
    "print(encrypted_message)"
   ]
  },
  {
   "cell_type": "code",
   "execution_count": null,
   "metadata": {},
   "outputs": [],
   "source": [
    "def create_decryption_map(encryption_map):\n",
    "    \"\"\"Actually just flip the keys and the values of the dictionary\"\"\"\n",
    "    decryption_map = {}\n",
    "    for key, value in encryption_map.items():\n",
    "        decryption_map[value] = key\n",
    "    return decryption_map\n",
    "\n",
    "def decrypt(message, decryption_map):\n",
    "    decrypted = ''\n",
    "    for char in message.lower():\n",
    "        # If we can't find the character, assume it is not encrypted.\n",
    "        decrypted = decrypted + decryption_map.get(char, char)\n",
    "    return decrypted\n",
    "\n",
    "decryption_map = create_decryption_map(encryption_map)\n",
    "decrypted_message = decrypt(encrypted_message, decryption_map)\n",
    "print(decrypted_message)"
   ]
  },
  {
   "cell_type": "markdown",
   "metadata": {},
   "source": [
    "### <span dir=\"rtl\" style=\"text-align: right; direction: rtl; float: right;\">סכימה מדורגת</span>"
   ]
  },
  {
   "cell_type": "markdown",
   "metadata": {},
   "source": [
    "<p dir=\"rtl\" style=\"text-align: right; direction: rtl; float: right; clear: both;\">\n",
    "    נבנה תוכנה קצרה שמאפשרת למשתמש להזין מספרים, מסדרת אותם בסדר הפוך, ומדפיסה עבור כל איבר את סכום האיברים עד המיקום של אותו איבר:\n",
    "</p>"
   ]
  },
  {
   "cell_type": "code",
   "execution_count": null,
   "metadata": {},
   "outputs": [],
   "source": [
    "def convert_to_integers(numbers):\n",
    "    integers = []\n",
    "    for number in numbers:\n",
    "        integers.append(int(number))\n",
    "    \n",
    "    return integers\n",
    "\n",
    "\n",
    "numbers = input(\"Please enter numbers splitted by ',': \").split(',')\n",
    "integers = convert_to_integers(numbers)\n",
    "integers.sort(reverse=True)\n",
    "\n",
    "for i, number in enumerate(integers):\n",
    "    current_sum = sum(integers[:i+1])\n",
    "    print(f\"The sum until {number} is {current_sum}\")"
   ]
  },
  {
   "cell_type": "markdown",
   "metadata": {},
   "source": [
    "### <span dir=\"rtl\" style=\"text-align: right; direction: rtl; float: right;\">ממוצע ציונים</span>"
   ]
  },
  {
   "cell_type": "markdown",
   "metadata": {},
   "source": [
    "<p dir=\"rtl\" style=\"text-align: right; direction: rtl; float: right; clear: both;\">\n",
    "    קבלו רשימת שמות תלמידים, ועבור כל תלמיד את רשימת הציונים שלו.<br/>\n",
    "    הדפיסו את שם התלמיד שממוצע הציונים שלו הוא הגבוה ביותר, לצד הציונים שלו.\n",
    "</p>"
   ]
  },
  {
   "cell_type": "code",
   "execution_count": null,
   "metadata": {},
   "outputs": [],
   "source": [
    "def get_grades(student_name):\n",
    "    grades = []\n",
    "    grade = input(f'Please enter a grade for {student_name}: ')\n",
    "\n",
    "    while grade.isdecimal():\n",
    "        grades.append(int(grade))\n",
    "        grade = input(f'Please enter another grade for {student_name}: ')\n",
    "\n",
    "    return grades\n",
    "\n",
    "\n",
    "def get_students():\n",
    "    students = []\n",
    "    student = input('Please enter a student: ')\n",
    "\n",
    "    while student != '':\n",
    "        students.append(student)\n",
    "        student = input('Please enter another student: ')\n",
    "\n",
    "    return students\n",
    "\n",
    "\n",
    "def get_students_and_grades():\n",
    "    grades = []\n",
    "    students = get_students()\n",
    "    for student in students:\n",
    "        student_grades = get_grades(student)\n",
    "        grades.append(student_grades)\n",
    "\n",
    "    return zip(students, grades)\n",
    "\n",
    "\n",
    "def get_average_grade(student_and_his_grades):\n",
    "    grades = student_and_his_grades[1]\n",
    "    if len(grades) == 0:\n",
    "        return 0\n",
    "\n",
    "    return sum(grades) / len(grades)\n",
    "\n",
    "\n",
    "students_and_grades = get_students_and_grades()\n",
    "students_sorted_by_grades = sorted(  # מפצלים שורה כדי שלא יהיו שורות ארוכות מדי\n",
    "    students_and_grades, key=get_average_grade, reverse=True\n",
    ")\n",
    "best_student_name, best_grade = students_sorted_by_grades[0]\n",
    "print(f\"The best student is {best_student_name} with the grades: {best_grade}\")"
   ]
  },
  {
   "cell_type": "markdown",
   "metadata": {},
   "source": [
    "## <span dir=\"rtl\" style=\"align: right; direction: rtl; float: right; clear: both;\">תרגילים</span>"
   ]
  },
  {
   "cell_type": "markdown",
   "metadata": {},
   "source": [
    "### <span dir=\"ltr\" style=\"align: right; direction: ltr; float: right; clear: both;\">אותיות או לא להיות</span>"
   ]
  },
  {
   "cell_type": "markdown",
   "metadata": {},
   "source": [
    "<p dir=\"rtl\" style=\"text-align: right; direction: rtl; float: right; clear: both;\">\n",
    "כתבו תוכנה שמדפיסה את המספר הסידורי של כל אות באלף־בית האנגלי, מהסוף להתחלה.<br/>\n",
    "השתמשו בכמה שיותר פונקציות מובנות בדרך.\n",
    "</p>"
   ]
  },
  {
   "cell_type": "markdown",
   "metadata": {},
   "source": [
    "<p dir=\"rtl\" style=\"text-align: right; direction: rtl; float: right; clear: both;\">\n",
    "הפלט אמור להיראות כך:\n",
    "</p>"
   ]
  },
  {
   "cell_type": "raw",
   "metadata": {},
   "source": [
    "26 -> z\n",
    "25 -> y\n",
    "24 -> x\n",
    "...\n",
    "2 -> b\n",
    "1 -> a"
   ]
  },
  {
   "cell_type": "markdown",
   "metadata": {},
   "source": [
    "<p dir=\"rtl\" style=\"text-align: right; direction: rtl; float: right; clear: both;\">\n",
    "אנחנו הצלחנו להשתמש ב־5 פונקציות שנלמדו במחברת הזו, בקוד שאורכו 2 שורות.\n",
    "</p>"
   ]
  },
  {
   "cell_type": "markdown",
   "metadata": {},
   "source": [
    "### <span dir=\"ltr\" style=\"align: right; direction: ltr; float: right; clear: both;\">מלחמה וזהו</span>"
   ]
  },
  {
   "cell_type": "markdown",
   "metadata": {},
   "source": [
    "<div class=\"align-center\" dir=\"rtl\" style=\"display: flex; text-align: right; direction: rtl; clear: both;\">\n",
    "<div style=\"display: flex; width: 10%; float: right; clear: both;\" width=\"10%\">\n",
    "<img alt=\"אזהרה!\" height=\"50px\" src=\"images/warning.png\" style=\"height: 50px !important;\"/>\n",
    "</div>\n",
    "<div style=\"width: 90%\" width=\"90%\">\n",
    "<p dir=\"rtl\" style=\"text-align: right; direction: rtl; clear: both;\">\n",
    "            זהו תרגיל ברמת קושי גבוהה, שמערב נושאים רבים.<br/>\n",
    "            הרגישו בנוח להיעזר במתרגלים שלכם.\n",
    "        </p>\n",
    "</div>\n",
    "</div>"
   ]
  },
  {
   "cell_type": "markdown",
   "metadata": {},
   "source": [
    "<p dir=\"rtl\" style=\"text-align: right; direction: rtl; clear: both;\">\n",
    "    מצאו את עשר המילים הנפוצות ביותר בספר \"מלחמה ושלום\", והדפיסו אותן למסך מהמילה הנפוצה ביותר למילה הנפוצה הכי פחות.<br/>\n",
    "    ליד כל מילה הדפיסו את מספר המופעים שלה בספר.<br/>\n",
    "    הספר נמצא בקובץ war-and-peace.txt בתוך התיקייה resources.\n",
    "</p>"
   ]
  }
 ],
 "metadata": {
  "kernelspec": {
   "display_name": "Python 3",
   "language": "python",
   "name": "python3"
  },
  "language_info": {
   "codemirror_mode": {
    "name": "ipython",
    "version": 3
   },
   "file_extension": ".py",
   "mimetype": "text/x-python",
   "name": "python",
   "nbconvert_exporter": "python",
   "pygments_lexer": "ipython3",
   "version": "3.8.5"
  }
 },
 "nbformat": 4,
 "nbformat_minor": 2
}
