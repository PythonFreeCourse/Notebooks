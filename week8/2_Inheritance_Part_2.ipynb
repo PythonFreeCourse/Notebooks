{
 "cells": [
  {
   "cell_type": "markdown",
   "metadata": {},
   "source": [
    "<img alt=\"לוגו של מיזם לימוד הפייתון. נחש מצויר בצבעי צהוב וכחול, הנע בין האותיות של שם הקורס: לומדים פייתון. הסלוגן המופיע מעל לשם הקורס הוא מיזם חינמי ללימוד תכנות בעברית.\" src=\"images/logo.jpg\" style=\"display: block; margin-left: auto; margin-right: auto;\"/>"
   ]
  },
  {
   "cell_type": "markdown",
   "metadata": {},
   "source": [
    "# <span dir=\"rtl\" style=\"text-align: right; direction: rtl; float: right;\">ירושה – חלק 2</span>"
   ]
  },
  {
   "cell_type": "markdown",
   "metadata": {},
   "source": [
    "## <span dir=\"rtl\" style=\"text-align: right; direction: rtl; float: right; clear: both;\">הקדמה</span>"
   ]
  },
  {
   "cell_type": "markdown",
   "metadata": {},
   "source": [
    "<p dir=\"rtl\" style=\"text-align: right; direction: rtl; float: right; clear: both;\">\n",
    "    בשיעור הקודם למדנו על <dfn>ירושה</dfn> – מנגנון תכנותי שמאפשר יצירת מחלקה על בסיס תכונותיה ופעולותיה של מחלקה אחרת.<br/>\n",
    "    סקרנו באילו מקרים נכון לבצע ירושה, ודיברנו על חילוקי הדעות ועל הסיבוכים האפשריים שירושה עלולה לגרום. \n",
    "</p>"
   ]
  },
  {
   "cell_type": "markdown",
   "metadata": {},
   "source": [
    "<p dir=\"rtl\" style=\"text-align: right; direction: rtl; float: right; clear: both;\">\n",
    "    חקרנו את היכולת של תת־מחלקה להגדיר מחדש פעולות של מחלקת־העל וקראנו לכך \"דריסה\" של פעולה.<br/>\n",
    "    דיברנו גם על הפונקציה <var>super</var> שמאפשרת לנו לקרוא בקלות לפעולות במחלקת־העל.\n",
    "</p>"
   ]
  },
  {
   "cell_type": "markdown",
   "metadata": {},
   "source": [
    "<p dir=\"rtl\" style=\"text-align: right; direction: rtl; float: right; clear: both;\">\n",
    "    ירושה היא כר פורה לשיח בין תיאורטיקנים של מדעי המחשב.<br/>\n",
    "    נכתבו עליה מילים רבות, והיא נושא מרכזי בדיונים על הנדסת תוכנה.<br/>\n",
    "    במחברת זו נעמיק ונסקור שימושים וטכניקות שהתפתחו מתוך רעיון הירושה במחלקות.\n",
    "</p>"
   ]
  },
  {
   "cell_type": "markdown",
   "metadata": {},
   "source": [
    "## <span dir=\"rtl\" style=\"text-align: right; direction: rtl; float: right; clear: both;\">שימושים נפוצים לירושה</span>"
   ]
  },
  {
   "cell_type": "markdown",
   "metadata": {},
   "source": [
    "### <span dir=\"rtl\" style=\"text-align: right; direction: rtl; float: right; clear: both;\">רמות ירושה מרובות</span>"
   ]
  },
  {
   "cell_type": "markdown",
   "metadata": {},
   "source": [
    "<p dir=\"rtl\" style=\"text-align: right; direction: rtl; float: right; clear: both;\">\n",
    "    הרעיון הבסיסי ביותר בירושה הוא העובדה שיכולה להיות יותר מרמה אחת של ירושה.<br/>\n",
    "    קרי: אם מחלקה ב ירשה ממחלקה א, מחלקה ג יכולה לרשת ממחלקה ב.\n",
    "</p>"
   ]
  },
  {
   "cell_type": "markdown",
   "metadata": {},
   "source": [
    "<p dir=\"rtl\" style=\"text-align: right; direction: rtl; float: right; clear: both;\">\n",
    "    בקטע הקוד הבא, לדוגמה, המחלקה יונק (<var>Mammal</var>) יורשת מהמחלקה \"חיה\" (<var>Animal</var>).<br/>\n",
    "    המחלקות עטלף (<var>Bat</var>) וארנב (<var>Rabbit</var>) יורשות מהמחלקה \"יונק\".\n",
    "</p>"
   ]
  },
  {
   "cell_type": "code",
   "execution_count": null,
   "metadata": {},
   "outputs": [],
   "source": [
    "class Animal:\n",
    "    pass\n",
    "\n",
    "\n",
    "class Mammal(Animal):\n",
    "    pass\n",
    "\n",
    "\n",
    "class Bat(Mammal):\n",
    "    pass\n",
    "\n",
    "\n",
    "class Rabbit(Mammal):\n",
    "    pass"
   ]
  },
  {
   "cell_type": "markdown",
   "metadata": {},
   "source": [
    "<p dir=\"rtl\" style=\"text-align: right; direction: rtl; float: right; clear: both;\">\n",
    "    במקרה כזה, המחלקות <var>Bat</var> ו־<var>Rabbit</var> ירשו הן את התכונות והפעולות של המחלקה <var>Mammal</var>, והן את אלו של <var>Animal</var>.\n",
    "</p>"
   ]
  },
  {
   "cell_type": "markdown",
   "metadata": {},
   "source": [
    "<figure>\n",
    "<img alt=\"בתמונה יש שתי תיבות. השמאלית עם הכותרת Song, ובה התכונות והפעולות השייכות למחלקה. אליה יוצא חץ מהתיבה הימנית, עם הכותרת Acrostic, ובה מופיעות אותן תכונות ופעולות בצבע אפור (כדי להמחיש שהן נלקחות מתוך המחלקה Song).\" src=\"images/multilevel_inheritance.svg?v=1\" style=\"max-width: 400px; margin-right: auto; margin-left: auto; text-align: center;\"/>\n",
    "<figcaption dir=\"rtl\" style=\"margin-top: 2rem; text-align: center; direction: rtl;\">דוגמה לרמות ירושה מרובות: המחלקות <var>Rabbit</var> ו־<var>Bat</var> יורשות ממחלקה שיורשת ממחלקה נוספת.\n",
    "    </figcaption>\n",
    "</figure>"
   ]
  },
  {
   "cell_type": "markdown",
   "metadata": {},
   "source": [
    "<p dir=\"rtl\" style=\"text-align: right; direction: rtl; float: right; clear: both;\">\n",
    "    אפשר לקבל את שרשרת מחלקות־העל של מחלקה מסוימת לפי סדרן בעזרת <code dir=\"ltr\">class_name.mro()</code>:\n",
    "</p>"
   ]
  },
  {
   "cell_type": "code",
   "execution_count": null,
   "metadata": {},
   "outputs": [],
   "source": [
    "Bat.mro()"
   ]
  },
  {
   "cell_type": "markdown",
   "metadata": {},
   "source": [
    "<p dir=\"rtl\" style=\"text-align: right; direction: rtl; float: right; clear: both;\">\n",
    "    בפנייה לפעולה כלשהי, תחפש פייתון את הפעולה במחלקה הראשונה שמופיעה ב־MRO.<br/>\n",
    "    אם הפעולה לא מופיעה שם, תיגש פייתון למחלקה שאחריה, כך עד שהיא תגיע ל־<var>object</var> שתמיד יהיה בראש השרשרת.<br/>\n",
    "    אם הפעולה לא קיימת באף אחת מהמחלקות שמופיעות ב־MRO, פייתון תזרוק <var>NameError</var>.\n",
    "</p>"
   ]
  },
  {
   "cell_type": "markdown",
   "metadata": {},
   "source": [
    "<p dir=\"rtl\" style=\"text-align: right; direction: rtl; float: right; clear: both;\">\n",
    "    מבחינה הנדסית, מומלץ להימנע ככל האפשר מירושה מרובת רמות כשאין בכך צורך ממשי.<br/>\n",
    "    ירושה מרובת רמות תגדיל את הסיכוי לתסמונת מחלקת־העל השברירית, תקשה על בדיקת התוכנית ותיצור בעיות תחזוקה בעתיד.\n",
    "</p>"
   ]
  },
  {
   "cell_type": "markdown",
   "metadata": {},
   "source": [
    "### <span dir=\"rtl\" style=\"text-align: right; direction: rtl; float: right; clear: both;\">מחלקה מופשטת</span>"
   ]
  },
  {
   "cell_type": "markdown",
   "metadata": {},
   "source": [
    "<p dir=\"rtl\" style=\"text-align: right; direction: rtl; float: right; clear: both;\">\n",
    "    כל חיה משמיעה צליל האופייני לה: כלב נובח, פרה גועה ויונה הומה.<br/>\n",
    "    נממש מחלקה עבור כל חיה:\n",
    "</p>"
   ]
  },
  {
   "cell_type": "code",
   "execution_count": null,
   "metadata": {},
   "outputs": [],
   "source": [
    "class Dog:\n",
    "    def __init__(self, name, gender):\n",
    "        self.name = name\n",
    "        self.gender = gender\n",
    "\n",
    "    def make_sound(self):\n",
    "        print(\"Woof\")\n",
    "    \n",
    "    def __str__(self):\n",
    "        return f\"I'm {self.name} the dog!\"\n",
    "\n",
    "\n",
    "class Cow:\n",
    "    def __init__(self, name, gender):\n",
    "        self.name = name\n",
    "        self.gender = gender\n",
    "\n",
    "    def make_sound(self):\n",
    "        print(\"Muuuuuuuuuu\")\n",
    "\n",
    "    def __str__(self):\n",
    "        return f\"I'm {self.name} the cow!\"\n",
    "\n",
    "\n",
    "class Dove:\n",
    "    def __init__(self, name, gender):\n",
    "        self.name = name\n",
    "        self.gender = gender\n",
    "\n",
    "    def make_sound(self):\n",
    "        print(\"Kukukuku!\")\n",
    "\n",
    "    def __str__(self):\n",
    "        return f\"I'm {self.name} the dove!\"\n",
    "\n",
    "\n",
    "print(Dove(\"Rexi\", \"Female\"))"
   ]
  },
  {
   "cell_type": "markdown",
   "metadata": {},
   "source": [
    "<p dir=\"rtl\" style=\"text-align: right; direction: rtl; float: right; clear: both;\">\n",
    "    נשים לב שצורת כל המחלקות דומה – מקרה קלאסי לירושה:\n",
    "</p>"
   ]
  },
  {
   "cell_type": "code",
   "execution_count": null,
   "metadata": {},
   "outputs": [],
   "source": [
    "class Animal:\n",
    "    def __init__(self, name, gender):\n",
    "        self.name = name\n",
    "        self.gender = gender\n",
    "\n",
    "\n",
    "class Dog(Animal):\n",
    "    def make_sound(self):\n",
    "        print(\"Woof\")\n",
    "\n",
    "    def __str__(self):\n",
    "        return f\"I'm {self.name} the dog!\"\n",
    "\n",
    "\n",
    "class Cow(Animal):\n",
    "    def make_sound(self):\n",
    "        print(\"Muuuuuuuuuu\")\n",
    "\n",
    "    def __str__(self):\n",
    "        return f\"I'm {self.name} the cow!\"\n",
    "\n",
    "\n",
    "class Dove(Animal):\n",
    "    def make_sound(self):\n",
    "        print(\"Kukukuku!\")\n",
    "\n",
    "    def __str__(self):\n",
    "        return f\"I'm {self.name} the dove!\"\n",
    "\n",
    "\n",
    "print(Dove(\"Rexi\", \"Female\"))"
   ]
  },
  {
   "cell_type": "markdown",
   "metadata": {},
   "source": [
    "<p dir=\"rtl\" style=\"text-align: right; direction: rtl; float: right; clear: both;\">\n",
    "    לעיתים קרובות אנחנו רוצים לממש קבוצת מחלקות שיש להן את אותן תכונות ופעולות – בדיוק כמו במקרה של <var>Dog</var>, <var>Cow</var> ו־<var>Dove</var>.<br/>\n",
    "    במקרה כזה נפנה באופן טבעי לירושה, שבה מחלקת־העל תכיל את התכונות והפעולות המשותפות לכל המחלקות.\n",
    "</p>"
   ]
  },
  {
   "cell_type": "markdown",
   "metadata": {},
   "source": [
    "<p dir=\"rtl\" style=\"text-align: right; direction: rtl; float: right; clear: both;\">\n",
    "    החיסרון במחלקת <var>Animal</var> הוא שכעת אפשר ליצור ישירות ממנה מופעים.<br/>\n",
    "    זה לא מה שהתכוונו שיקרה. המחלקה הזו קיימת רק כדי לייצג רעיון מופשט של חיה, ולאפשר ירושת תכונות ופעולות ממקור אחד.<br/>\n",
    "    מטרת התוכנית היא לאפשר לבעלי חיים להשמיע קול, ולכן אין משמעות ביצירת מופע מהמחלקה <var>Animal</var> – שהרי ל\"חיה\" כרעיון מופשט אין קול.<br/>\n",
    "</p>"
   ]
  },
  {
   "cell_type": "markdown",
   "metadata": {},
   "source": [
    "<p dir=\"rtl\" style=\"text-align: right; direction: rtl; float: right; clear: both;\">\n",
    "    חיסרון נוסף הוא שמחלקות יכולות לרשת ממחלקת <var>Animal</var> מבלי לממש את הפעולה <var>make_sound</var>.<br/>\n",
    "    אם היינו מתכנתים פיסת קוד כללית שמטפלת בחיות, ייתכן שזה היה תקין, אבל לא זה המקרה בקוד שלמעלה.<br/>\n",
    "    מטרת התוכנה שלנו הייתה מלכתחילה לייצג קולות של חיות, ומחלקה שיורשת מ־<var>Animal</var> ולא מממשת את <var>make_sound</var> היא פתח לבאגים בעתיד.\n",
    "</p>"
   ]
  },
  {
   "cell_type": "markdown",
   "metadata": {},
   "source": [
    "<p dir=\"rtl\" style=\"text-align: right; direction: rtl; float: right; clear: both;\">\n",
    "    הפתרון לשתי הבעיות שהוצגו כאן נקרא בהנדסת תוכנה \"<dfn>מחלקה מופשטת</dfn>\" (<dfn>Abstract Class</dfn>).<br/> \n",
    "    זהו מצב שבו אנחנו משתמשים במחלקת־על ל־3 צרכים:\n",
    "</p>"
   ]
  },
  {
   "cell_type": "markdown",
   "metadata": {},
   "source": [
    "<ol dir=\"rtl\" style=\"text-align: right; direction: rtl; float: right; clear: both;\">\n",
    "<li>איגוד של תתי־מחלקות והורשת תכונות ופעולות לכולן (ירושה קלאסית).</li>\n",
    "<li>אכיפה שכל תתי־המחלקות יממשו פעולות שהגדרנו במחלקת־העל כפעולות שחייבים לממש.</li>\n",
    "<li>אכיפה שתאסור יצירת מופעים ממחלקת־העל המופשטת. יצירת מופעים תתאפשר רק מתתי־המחלקות שיורשות אותה.</li>\n",
    "</ol>"
   ]
  },
  {
   "cell_type": "markdown",
   "metadata": {},
   "source": [
    "<p dir=\"rtl\" style=\"text-align: right; direction: rtl; float: right; clear: both;\">\n",
    "    נהוג לכתוב במחלקת־העל המופשטת את כותרות הפעולות שעל תת־המחלקות שיורשות ממנה לממש:\n",
    "</p>"
   ]
  },
  {
   "cell_type": "code",
   "execution_count": null,
   "metadata": {},
   "outputs": [],
   "source": [
    "class Animal:\n",
    "    def __init__(self, name, gender):\n",
    "        self.name = name\n",
    "        self.gender = gender\n",
    "    \n",
    "    def make_sound(self):\n",
    "        pass\n",
    "\n",
    "    def __str__(self):\n",
    "        pass\n",
    "\n",
    "\n",
    "class Dog(Animal):\n",
    "    def make_sound(self):\n",
    "        print(\"Woof\")\n",
    "\n",
    "    def __str__(self):\n",
    "        return f\"I'm {self.name} the dog!\"\n",
    "\n",
    "\n",
    "class Cow(Animal):\n",
    "    def make_sound(self):\n",
    "        print(\"Muuuuuuuuuu\")\n",
    "\n",
    "    def __str__(self):\n",
    "        return f\"I'm {self.name} the cow!\"\n",
    "\n",
    "\n",
    "class Dove(Animal):\n",
    "    def make_sound(self):\n",
    "        print(\"Kukukuku!\")\n",
    "\n",
    "    def __str__(self):\n",
    "        return f\"I'm {self.name} the dove!\"\n",
    "\n",
    "\n",
    "print(Dove(\"Rexi\", \"Female\"))"
   ]
  },
  {
   "cell_type": "markdown",
   "metadata": {},
   "source": [
    "<p dir=\"rtl\" style=\"text-align: right; direction: rtl; float: right; clear: both;\">\n",
    "    הרעיון של מחלקה מופשטת כה נפוץ, שהמודול הפייתוני <var>abc</var> (קיצור של Abstract Base Class) מאפשר לנו להגדיר מחלקה כמופשטת.<br/>\n",
    "    נציץ ב<a href=\"https://docs.python.org/3/library/abc.html\">תיעוד</a> של המודול וננסה לעקוב אחריו, למרות כל השטרודלים המוזרים שיש שם:\n",
    "</p>"
   ]
  },
  {
   "cell_type": "markdown",
   "metadata": {},
   "source": [
    "<ul dir=\"rtl\" style=\"text-align: right; direction: rtl; float: right; clear: both;\">\n",
    "<li>המחלקה המופשטת שלנו תבצע ירושה מהמחלקה <var>ABC</var> שבמודול <var>abc</var>.</li>\n",
    "<li>מעל כל פעולה מופשטת (כזו שמשמשת רק לירושה ולא עומדת בפני עצמה) נוסיף <code dir=\"ltr\">@abstractmethod</code>.</li>\n",
    "</ul>"
   ]
  },
  {
   "cell_type": "code",
   "execution_count": null,
   "metadata": {},
   "outputs": [],
   "source": [
    "from abc import ABC, abstractmethod\n",
    "\n",
    "\n",
    "class Animal(ABC):\n",
    "    @abstractmethod\n",
    "    def __init__(self, name, gender):\n",
    "        self.name = name\n",
    "        self.gender = gender\n",
    "\n",
    "    @abstractmethod\n",
    "    def make_sound(self):\n",
    "        pass\n",
    "\n",
    "    @abstractmethod\n",
    "    def __str__(self):\n",
    "        pass\n",
    "\n",
    "\n",
    "class Dog(Animal):\n",
    "    def __init__(self, **kwargs):\n",
    "        super().__init__(**kwargs)\n",
    "\n",
    "    def make_sound(self):\n",
    "        print(\"Woof\")\n",
    "\n",
    "    def __str__(self):\n",
    "        return f\"I'm {self.name} the dog!\"\n",
    "\n",
    "\n",
    "class Cow(Animal):\n",
    "    def __init__(self, **kwargs):\n",
    "        super().__init__(**kwargs)\n",
    "\n",
    "    def make_sound(self):\n",
    "        print(\"Muuuuuuuuuu\")\n",
    "\n",
    "    def __str__(self):\n",
    "        return f\"I'm {self.name} the cow!\"\n",
    "\n",
    "\n",
    "class Dove(Animal):\n",
    "    def __init__(self, **kwargs):\n",
    "        super().__init__(**kwargs)\n",
    "\n",
    "    def make_sound(self):\n",
    "        print(\"Kukukuku!\")\n",
    "\n",
    "    def __str__(self):\n",
    "        return f\"I'm {self.name} the dove!\"\n",
    "\n",
    "\n",
    "print(Dove(name=\"Rexi\", gender=\"Female\"))"
   ]
  },
  {
   "cell_type": "markdown",
   "metadata": {},
   "source": [
    "<p dir=\"rtl\" style=\"text-align: right; direction: rtl; float: right; clear: both;\">\n",
    "    חדי העין ישימו לב שהחזרנו את פעולת האתחול <code dir=\"ltr\">__init__</code> לכל תתי־המחלקות.<br/>\n",
    "    זה קרה כיוון שהגדרנו את <code dir=\"ltr\">__init__</code> כפעולה מופשטת במחלקת <var>Animal</var>.<br/>\n",
    "    להגדרה של פעולה כמופשטת שתי השלכות מיידיות:\n",
    "</p>"
   ]
  },
  {
   "cell_type": "markdown",
   "metadata": {},
   "source": [
    "<ul dir=\"rtl\" style=\"text-align: right; direction: rtl; float: right; clear: both;\">\n",
    "<li>תתי־המחלקות שיורשות מהמחלקה המופשטת, חייבות לממש את כל הפעולות שמוגדרות במחלקת־העל כמופשטות.</li>\n",
    "<li>גישה ישירה לפעולה המופשטת במחלקה שבה היא הוגדרה במקור כמופשטת, תביא לזריקת שגיאה.</li>\n",
    "</ul>"
   ]
  },
  {
   "cell_type": "markdown",
   "metadata": {},
   "source": [
    "<p dir=\"rtl\" style=\"text-align: right; direction: rtl; float: right; clear: both;\">\n",
    "    עכשיו כשנרצה ליצור מופע מ־<var>Animal</var>, נגלה שזה בלתי אפשרי, כיוון ש־<code dir=\"ltr\">Animal.__init__</code> מוגדרת כמופשטת:\n",
    "</p>"
   ]
  },
  {
   "cell_type": "code",
   "execution_count": null,
   "metadata": {},
   "outputs": [],
   "source": [
    "Animal(name=\"Rexi\", gender=\"Female\")"
   ]
  },
  {
   "cell_type": "markdown",
   "metadata": {},
   "source": [
    "<p dir=\"rtl\" style=\"text-align: right; direction: rtl; float: right; clear: both;\">\n",
    "    אם ננסה ליצור תת־מחלקה שיורשת מ־<var>Animal</var> ולא מממשת את אחת הפעולות המופשטות שלה, נגלה שלא נוכל ליצור ממנה מופעים.<br/>\n",
    "    פייתון תזרוק שגיאה שאחת הפעולות המופשטות לא מוגדרת בתת־המחלקה:\n",
    "</p>"
   ]
  },
  {
   "cell_type": "code",
   "execution_count": null,
   "metadata": {},
   "outputs": [],
   "source": [
    "class Fox(Animal):\n",
    "    def __init__(self, **kwargs):\n",
    "        super().__init__(**kwargs)\n",
    "\n",
    "    # What does the fox say?\n",
    "    # (there is no make_sound method)\n",
    "\n",
    "    def __str__(self):\n",
    "        return f\"I'm {self.name} the fox!\"\n",
    "\n",
    "\n",
    "Fox(name=\"Ylvis\", gender=\"Male\")"
   ]
  },
  {
   "cell_type": "markdown",
   "metadata": {},
   "source": [
    "<p dir=\"rtl\" style=\"text-align: right; direction: rtl; float: right; clear: both;\">\n",
    "    עוד דבר מעניין שכדאי לשים לב אליו הוא השימוש הכבד ב־<code dir=\"ltr\">**kwargs</code>.<br/>\n",
    "    כיוון שהפכנו את <code dir=\"ltr\">__init__</code> למופשטת, אנחנו חייבים לממש אותה בכל תתי־המחלקות שיורשות מ־<var>Animal</var>.<br/>\n",
    "    למרות זאת, ה־<code dir=\"ltr\">__init__</code> \"המעניינת\" שעושה השמות לתוך תכונות המופע היא זו של מחלקת־העל <var>Animal</var>,<br/>\n",
    "    זו שמקבלת את הפרמטרים <var>name</var> ו־<var>gender</var> ומשנה לפיהם את מצב המופע. \n",
    "</p>"
   ]
  },
  {
   "cell_type": "markdown",
   "metadata": {},
   "source": [
    "<p dir=\"rtl\" style=\"text-align: right; direction: rtl; float: right; clear: both;\">\n",
    "    ביצירת מופע של אחת מהחיות, נרצה להעביר את הפרמטרים <var>name</var> ו־<var>gender</var> שמיועדים ל־<code dir=\"ltr\">Animal.__init__</code>.<br/>\n",
    "    אבל ביצירת מופע של יונה, של פרה או של כלב אנחנו נקרא בפועל ל־<code dir=\"ltr\">__init__</code> שמימשו תתי־המחלקות.<br/>\n",
    "    בשלב הזה, תתי־המחלקות צריכות למצוא דרך לקבל את הפרמטרים הרלוונטיים ולהעביר אותם למחלקת־העל שעושה השמות ל־<var>self</var>.<br/>\n",
    "    כדי להעביר את כל הפרמטרים שמחלקת־העל צריכה, גם אם חתימת הפעולה <code dir=\"ltr\">Animal.__init__</code> תשתנה בעתיד, אנחנו משתמשים ב־<code dir=\"ltr\">**kwargs</code>.\n",
    "</p>"
   ]
  },
  {
   "cell_type": "markdown",
   "metadata": {},
   "source": [
    "<p dir=\"rtl\" style=\"text-align: right; direction: rtl; float: right; clear: both;\">\n",
    "    השימוש במחלקות מופשטות נפוץ בתכנות כדי לאפשר הרחבה נוחה של התוכנה.<br/>\n",
    "    מערכות שמאפשרות למתכנתים להרחיב את יכולותיהן בעזרת תוספים, לדוגמה, ישתמשו במחלקות מופשטות כדי להגדיר למתכנת דרך להתממשק עם הקוד של התוכנה.\n",
    "</p>"
   ]
  },
  {
   "cell_type": "markdown",
   "metadata": {},
   "source": [
    "### <span dir=\"rtl\" style=\"text-align: right; direction: rtl; float: right; clear: both;\">תרגיל ביניים: Friendliness Pellets</span>"
   ]
  },
  {
   "cell_type": "markdown",
   "metadata": {},
   "source": [
    "<p dir=\"rtl\" style=\"text-align: right; direction: rtl; float: right; clear: both;\">\n",
    "    בחנות הפרחים של מושניק מוכרים זרי פרחים.<br/>\n",
    "    נמכר עם אגרטל או בלעדיו, ויש בו 3–30 פרחים מסוגים שונים: ורדים, סייפנים וסחלבים.<br/>\n",
    "    לכל אחד מהפרחים צבע שונה.\n",
    "</p>"
   ]
  },
  {
   "cell_type": "markdown",
   "metadata": {},
   "source": [
    "<p dir=\"rtl\" style=\"text-align: right; direction: rtl; float: right; clear: both;\">\n",
    "    המחיר של סייפן הוא 4 ש\"ח ושל סחלב 10 ש\"ח.<br/>\n",
    "    המחיר של ורד נקבע לפי הצבע שלו: ורד לבן עולה 5 ש\"ח, וורד אדום עולה 6 ש\"ח.<br/>\n",
    "    עבור זר עם אגרטל, על הלקוח להוסיף 20 ש\"ח.\n",
    "</p>"
   ]
  },
  {
   "cell_type": "markdown",
   "metadata": {},
   "source": [
    "<p dir=\"rtl\" style=\"text-align: right; direction: rtl; float: right; clear: both;\">\n",
    "    כדי למשוך לקוחות חדשים, מדי פעם מושניק נותן הנחה על הזרים.<br/>\n",
    "    לכל אחת מההנחות מושניק מצרף הערה שמסבירה מה הסיבה שבגינה ניתנה ההנחה.<br/>\n",
    "    ישנם שני סוגים של הנחות בחנות: הנחה באחוזים והנחה שקלית.<br/>\n",
    "    לכל זר יכולות להיות כמה הנחות, אשר יחושבו לפי סדר צירופן.\n",
    "</p>"
   ]
  },
  {
   "cell_type": "markdown",
   "metadata": {},
   "source": [
    "<p dir=\"rtl\" style=\"text-align: right; direction: rtl; float: right; clear: both;\">\n",
    "    לדוגמה, אם הזר עלה 200 ש\"ח ומושניק החליט לתת הנחה של 10 אחוזים, הזר יעלה כעת 180 ש\"ח.<br/>\n",
    "    אם מושניק החליט לתת הנחה נוספת על הזר, הפעם של 30 ש\"ח, מחירו של הזר יהיה כעת 150 ש\"ח.\n",
    "</p>"
   ]
  },
  {
   "cell_type": "markdown",
   "metadata": {},
   "source": [
    "<p dir=\"rtl\" style=\"text-align: right; direction: rtl; float: right; clear: both;\">\n",
    "    אפשרו ללקוחות שרוצים חשבונית עבור רכישתם לקבל פירוט מודפס של חישוב המחיר של הזר.\n",
    "</p>"
   ]
  },
  {
   "cell_type": "markdown",
   "metadata": {},
   "source": [
    "### <span dir=\"rtl\" style=\"text-align: right; direction: rtl; float: right; clear: both;\">ירושה מרובה</span>"
   ]
  },
  {
   "cell_type": "markdown",
   "metadata": {},
   "source": [
    "<p dir=\"rtl\" style=\"text-align: right; direction: rtl; float: right; clear: both;\">\n",
    "    ישר ולעניין – יש לי חדשות משוגעות עבורכם: כל מחלקה יכולה לרשת מיותר ממחלקה אחת!\n",
    "</p>"
   ]
  },
  {
   "cell_type": "markdown",
   "metadata": {},
   "source": [
    "<p dir=\"rtl\" style=\"text-align: right; direction: rtl; float: right; clear: both;\">\n",
    "    ניצור מחלקה המייצגת כלי נשק, ומחלקה אחרת המייצגת כלי רכב.<br/>\n",
    "    מחלקת כלי הנשק תכלול את כוח כלי הנשק (<var>strength</var>) ופעולת תקיפה (<var>attack</var>).<br/>\n",
    "    מחלקת כלי הרכב תכלול את המהירות המרבית של כלי הרכב (<var>max_speed</var>) ופעולה של הערכת זמן הגעה משוער (<var>estimate_arrival_time</var>).\n",
    "</p>"
   ]
  },
  {
   "cell_type": "markdown",
   "metadata": {},
   "source": [
    "<p dir=\"rtl\" style=\"text-align: right; direction: rtl; float: right; clear: both;\">\n",
    "    אם נרצה ליצור מחלקת טנק, לדוגמה, ייתכן שנרצה לרשת גם ממחלקת כלי הנשק וגם ממחלקת כלי הרכב.<br/>\n",
    "    פייתון מאפשרת לנו לעשות זאת בקלות יחסית:\n",
    "</p>"
   ]
  },
  {
   "cell_type": "code",
   "execution_count": null,
   "metadata": {},
   "outputs": [],
   "source": [
    "class Weapon:\n",
    "    def __init__(self, strength, **kwargs):\n",
    "        super().__init__(**kwargs)\n",
    "        self.strength = strength\n",
    "\n",
    "    def attack(self, enemy):\n",
    "        enemy.decrease_health_points(self.strength)\n",
    "\n",
    "\n",
    "class Vehicle:\n",
    "    def __init__(self, max_speed, **kwargs):\n",
    "        super().__init__(**kwargs)\n",
    "        self.max_speed = max_speed\n",
    "\n",
    "    def estimate_arrival_time(self, distance):\n",
    "        return distance / (self.max_speed * 80 / 100)\n",
    "\n",
    "\n",
    "class Tank(Weapon, Vehicle):\n",
    "    def __init__(self, name, **kwargs):\n",
    "        super().__init__(**kwargs)\n",
    "        self.name = name"
   ]
  },
  {
   "cell_type": "markdown",
   "metadata": {},
   "source": [
    "<p dir=\"rtl\" style=\"text-align: right; direction: rtl; float: right; clear: both;\">\n",
    "    בדוגמה שלמעלה מחלקת <var>Tank</var> יורשת את התכונות ואת הפעולות, הן של מחלקת <var>Vehicle</var> והן של מחלקת <var>Weapon</var>.<br/>\n",
    "    כל מה שהיינו צריכים לעשות זה לציין בסוגריים שאחרי המחלקה <var>Tank</var> את כל המחלקות שמהן אנחנו רוצים לרשת, כשהן מופרדות בפסיק זו מזו.<br/>\n",
    "    ניצור טנק לדוגמה, ונראה איך הוא קיבל את התכונות של כל מחלקות־העל שמהן הוא ירש:\n",
    "</p>"
   ]
  },
  {
   "cell_type": "code",
   "execution_count": null,
   "metadata": {},
   "outputs": [],
   "source": [
    "tank = Tank(name=\"Merkava Mk 4M Windbreaker\", max_speed=64, strength=17.7)\n",
    "distance = 101  # km to Eilat\n",
    "\n",
    "# לטנק יש תכונות של טנק, של כלי נשק ושל כלי רכב\n",
    "print(f\"Tank name: {tank.name}\")\n",
    "print(f\"Hours from here to Eilat: {tank.estimate_arrival_time(distance)}\")\n",
    "print(f\"Weapon strength: {tank.strength}\")"
   ]
  },
  {
   "cell_type": "markdown",
   "metadata": {},
   "source": [
    "<p dir=\"rtl\" style=\"text-align: right; direction: rtl; float: right; clear: both;\">\n",
    "    לפני שנסביר בהרחבה איך הכול עובד, נעצור רגע כדי להגיד שירושה מרובה היא נושא שיחה נפיץ.<br/>\n",
    "    בגלל הסיבוכיות והשכבות הנוספות שהוא מוסיף לכל מופע, תמצאו מתכנתים רבים <a href=\"https://softwareengineering.stackexchange.com/q/218458/224112\">שמתנגדים בתוקף לרעיון הירושה המרובה</a>.<br/>\n",
    "</p>"
   ]
  },
  {
   "cell_type": "markdown",
   "metadata": {},
   "source": [
    "<p dir=\"rtl\" style=\"text-align: right; direction: rtl; float: right; clear: both;\">\n",
    "    נציג בזריזות את אחת הבעיות הקלאסיות שנובעות מירושה מרובה – <a href=\"https://en.wikipedia.org/wiki/Multiple_inheritance#The_diamond_problem\">בעיית היהלום</a>.<br/>\n",
    "    בבעיה זו מוצגת תת־מחלקה שיורשת מ־2 מחלקות־על, שהן עצמן תת־מחלקות של מחלקה נוספת.<br/>\n",
    "    לדוגמה: מחלקת \"כפתור\" יורשת ממחלקת \"לחיץ\" וממחלקת \"מלבן\", שיורשות ממחלקת \"אובייקט\". \n",
    "</p>"
   ]
  },
  {
   "cell_type": "markdown",
   "metadata": {},
   "source": [
    "<figure>\n",
    "<img alt=\"עץ ירושה בצורת מעוין. בחלק העליון מוצגת המחלקה 'אובייקט', מתוכה יוצאים שני חצים למחלקות 'לחיץ' ו'מלבן' שנמצאות תחתיה. משתיהן יוצאים חצים לתת־המחלקה 'כפתור' שיורשת מהן וממוקמת הכי נמוך בתמונה.\" src=\"images/diamond_problem.svg?v=0\" style=\"max-width: 450px; margin-right: auto; margin-left: auto; text-align: center;\"/>\n",
    "<figcaption dir=\"rtl\" style=\"margin-top: 2rem; text-align: center; direction: rtl;\">\n",
    "        עץ ירושה בצורת יהלום המדגים את הבעיה המתוארת.\n",
    "    </figcaption>\n",
    "</figure>"
   ]
  },
  {
   "cell_type": "markdown",
   "metadata": {},
   "source": [
    "<p dir=\"rtl\" style=\"text-align: right; direction: rtl; float: right; clear: both;\">\n",
    "    אם גם \"לחיץ\" וגם \"מלבן\" מימשו את פעולת <code>__str__</code> אבל מחלקת \"כפתור\" לא, באיזו גרסה של <code>__str__</code> מחלקת \"כפתור\" צריכה להשתמש?<br/>\n",
    "    ומה בנוגע למצב שבו גם \"לחיץ\" וגם \"אובייקט\" מימשו את הפעולה?<br/>\n",
    "</p>"
   ]
  },
  {
   "cell_type": "markdown",
   "metadata": {},
   "source": [
    "<p dir=\"rtl\" style=\"text-align: right; direction: rtl; float: right; clear: both;\">\n",
    "    כפי שוודאי הצלחתם להבין, ירושה מרובה יכולה להכניס אותנו להרבה \"פינות\" שלא מוגדרות היטב.<br/>\n",
    "    מהסיבה הזו פייתון החליטה לעשות מעשה, וליישר בכוח את העץ.<br/>\n",
    "    נביט בשרשרת הירושה של מחלקת <var>Tank</var>:\n",
    "</p>"
   ]
  },
  {
   "cell_type": "code",
   "execution_count": null,
   "metadata": {},
   "outputs": [],
   "source": [
    "Tank.mro()"
   ]
  },
  {
   "cell_type": "markdown",
   "metadata": {},
   "source": [
    "<p dir=\"rtl\" style=\"text-align: right; direction: rtl; float: right; clear: both;\">\n",
    "    אף על פי שטכנית היינו מצפים לראות עץ שבו <var>Weapon</var> ו־<var>Vehicle</var> נמצאות באותה רמה ומצביעות על <var>Tank</var>,<br/>\n",
    "    בפועל פייתון \"משטחת\" את עץ הירושה כך ש־<var>Tank</var> יורשת מ־<var>Weapon</var> שיורשת מ־<var>Vehicle</var>.<br/>\n",
    "    הסדר של המחלקות לאחר השיטוח נקבע לפי אלגוריתם שנקרא <a href=\"https://en.wikipedia.org/wiki/C3_linearization\">C3 Linearization</a>, אבל זה לא משהו שבאמת חשוב לדעת בשלב הזה.\n",
    "</p>"
   ]
  },
  {
   "cell_type": "markdown",
   "metadata": {},
   "source": [
    "<figure>\n",
    "<img alt=\"בתמונה יש שני צדדים המופרדים בקו מקווקו. כותרת הצד הימני היא 'ירושה מרובה לפי הספר', ובה רואים את מחלקות Weapon ו־Vehicle באותו גובה, כששתיהן מצביעות ישירות למחלקת Tank. כותרת הצד השמאלי של התמונה היא 'ירושה בפייתון', ובה רואים את מחלקת Tank יורשת ממחלקת Vehicle שיורשת ממחלקת Weapon.\" src=\"images/multiple_inheritance.svg?v=4\" style=\"max-width: 900px; margin-right: auto; margin-left: auto; text-align: center;\"/>\n",
    "<figcaption dir=\"rtl\" style=\"margin-top: 2rem; text-align: center; direction: rtl;\">דוגמה להשטחה שפייתון עושה לירושה מרובה.\n",
    "    </figcaption>\n",
    "</figure>"
   ]
  },
  {
   "cell_type": "markdown",
   "metadata": {},
   "source": [
    "### <span dir=\"rtl\" style=\"text-align: right; direction: rtl; float: right; clear: both;\">Mixin־ים</span>"
   ]
  },
  {
   "cell_type": "markdown",
   "metadata": {},
   "source": [
    "<p dir=\"rtl\" style=\"text-align: right; direction: rtl; float: right; clear: both;\">\n",
    "    רעיון נפוץ המבוסס על ירושה מרובה הוא Mixin.<br/>\n",
    "<dfn>Mixin</dfn> היא מחלקה שאין לה תכלית בפני עצמה, והיא קיימת כדי \"לתרום\" תכונות ופעולות למחלקה שתירש אותה.<br/>\n",
    "    לרוב נשתמש בשתי Mixins לפחות, כדי ליצור מהן מחלקות מורכבות יותר, שכוללות את הפעולות והתכונות של כל ה־Mixins.<br/>\n",
    "    לדוגמה: ניצור מחלקת \"כפתור\" (<var>Button</var>) שיורשת ממחלקת \"מלבן גדול\" (<var>LargeRectangle</var>) וממחלקת \"לחיץ\" (<var>Clickable</var>).\n",
    "</p>"
   ]
  },
  {
   "cell_type": "code",
   "execution_count": null,
   "metadata": {},
   "outputs": [],
   "source": [
    "class Clickable:\n",
    "    def __init__(self, **kwargs):\n",
    "        super().__init__(**kwargs)\n",
    "        self.clicks = 0\n",
    "\n",
    "    def click(self):\n",
    "        self.clicks = self.clicks + 1\n",
    "\n",
    "\n",
    "class LargeRectangle:\n",
    "    def __init__(self, width=10, height=5, **kwargs):\n",
    "        super().__init__(**kwargs)\n",
    "        self.width = width\n",
    "        self.height = height\n",
    "    \n",
    "    def size(self):\n",
    "        return self.width * self.height\n",
    "\n",
    "\n",
    "class Button(Clickable, LargeRectangle):\n",
    "    pass"
   ]
  },
  {
   "cell_type": "markdown",
   "metadata": {},
   "source": [
    "<p dir=\"rtl\" style=\"text-align: right; direction: rtl; float: right; clear: both;\">\n",
    "    ניצור כפתור ונראה שהוא אכן קיבל את התכונות והפעולות משתי המחלקות:\n",
    "</p>"
   ]
  },
  {
   "cell_type": "code",
   "execution_count": null,
   "metadata": {},
   "outputs": [],
   "source": [
    "buy_now = Button()\n",
    "buy_now.click()\n",
    "print(f\"Button size (from LargeRectangle class): {buy_now.size()}\")\n",
    "print(f\"Button clicks (from Clickable class): {buy_now.clicks}\")"
   ]
  },
  {
   "cell_type": "markdown",
   "metadata": {},
   "source": [
    "<p dir=\"rtl\" style=\"text-align: right; direction: rtl; float: right; clear: both;\">\n",
    "    בחלק משפות התכנות האחרות ל־Mixins יש תחביר מיוחד, אולם בפייתון משתמשים פשוט בירושה מרובה.<br/>\n",
    "    מהסיבה הזו, בין היתר, ההבדל בין Mixins לבין ירושה מרובה עלול להיראות מעורפל מעט.<br/>\n",
    "    הדגש ב־Mixins הוא שהן מוגדרות כארגז תכונות או פעולות שאפשר לרשת, והן לא מיועדות לכך שיצרו ישירות מהן מופעים.<br/>\n",
    "    אפשר להגיד שכל מקרה של Mixins משתמש בירושה מרובה, אך לא כל מקרה של ירושה מרובה כולל Mixins.\n",
    "</p>"
   ]
  },
  {
   "cell_type": "markdown",
   "metadata": {},
   "source": [
    "## <span dir=\"rtl\" style=\"text-align: right; direction: rtl; float: right; clear: both;\">מונחים</span>"
   ]
  },
  {
   "cell_type": "markdown",
   "metadata": {},
   "source": [
    "<dl dir=\"rtl\" style=\"text-align: right; direction: rtl; float: right; clear: both;\">\n",
    "<dt>מחלקה מופשטת (Abstract Class)</dt>\n",
    "<dd>\n",
    "        מחלקה שלא נהוג ליצור ממנה מופעים.<br/>\n",
    "        המחלקה המופשטת תגדיר פעולות ללא מימוש שנקראות \"פעולות מופשטות\".<br/>\n",
    "        המחלקות שיורשות מהמחלקה המופשטת יממשו את הפעולות הללו.<br/>\n",
    "</dd>\n",
    "<dt>ירושה מרובה (Multiple Inheritance)</dt>\n",
    "<dd>\n",
    "        ירושה שמחלקה מבצעת ממחלקות רבות, במטרה לקבל את תכונותיהן ופעולותיהן של כמה מחלקות־על. \n",
    "    </dd>\n",
    "<dt>Mixin</dt>\n",
    "<dd>\n",
    "        מחלקה שמטרתה לספק תכונות ופעולות למחלקות היורשות אותה, ואין לה שימוש כשהיא עומדת בפני עצמה.<br/>\n",
    "        לרוב נעשה שימוש ביותר מ־Mixin אחת בעזרת ירושה מרובה. \n",
    "    </dd>\n",
    "</dl>"
   ]
  },
  {
   "cell_type": "markdown",
   "metadata": {},
   "source": [
    "## <span dir=\"rtl\" style=\"text-align: right; direction: rtl; float: right; clear: both;\">תרגיל לדוגמה</span>"
   ]
  },
  {
   "cell_type": "markdown",
   "metadata": {},
   "source": [
    "### <span dir=\"rtl\" style=\"text-align: right; direction: rtl; float: right; clear: both;\">הקדמה</span>"
   ]
  },
  {
   "cell_type": "markdown",
   "metadata": {},
   "source": [
    "<p dir=\"rtl\" style=\"text-align: right; direction: rtl; float: right; clear: both;\">\n",
    "    שחמט הוא משחק שבו שני שחקנים מתמודדים זה מול זה על לכידת מלכו של היריב.<br/>\n",
    "    לכל אחד מהשחקנים יש צבא שמורכב מכלי משחק, ועליהם לעשות בצבא שימוש מושכל כדי להשיג יתרון על פני השחקן השני.<br/>\n",
    "    כדי להבדיל בין כלי המשחק של השחקנים, כלי המשחק של שחקן אחד לבנים ואילו של השחקן השני שחורים.\n",
    "</p>"
   ]
  },
  {
   "cell_type": "markdown",
   "metadata": {},
   "source": [
    "<p dir=\"rtl\" style=\"text-align: right; direction: rtl; float: right; clear: both;\">\n",
    "    ממשו לוח של משחק שחמט בגודל 8 על 8 משבצות.<br/>\n",
    "</p>"
   ]
  },
  {
   "cell_type": "markdown",
   "metadata": {},
   "source": [
    "<figure>\n",
    "<img alt=\"תמונה של לוח שחמט בגודל 8 על 8, ללא כלים עליו. הריבוע השמאלי עליון הוא לבן, והריבועים הסמוכים אליו צבועים בחום. השורה העליונה ביותר ממוספרת 8, זו שתחתיה 7 וכן הלאה. השורה התחתונה ביותר ממוספרת 1. הטור השמאלי ביותר מסומן באות א, זה שמימינו מסומן באות ב, וכך הלאה. הטור הימני ביותר מסומן באות ח.\" src=\"images/chessboard.svg\" style=\"max-width: 200px; margin-right: auto; margin-left: auto; text-align: center;\"/>\n",
    "<figcaption dir=\"rtl\" style=\"margin-top: 2rem; text-align: center; direction: rtl;\">לוח שחמט סטנדרטי ללא כלים עליו.<br/>מקור: ויקיפדיה.\n",
    "    </figcaption>\n",
    "</figure>"
   ]
  },
  {
   "cell_type": "markdown",
   "metadata": {},
   "source": [
    "<p dir=\"rtl\" style=\"text-align: right; direction: rtl; float: right; clear: both;\">\n",
    "    בשחמט 6 סוגים של כלי משחק: רגלי, צריח, פרש, רץ, מלך ומלכה.<br/>\n",
    "    בפתיחת המשחק, שורות 1 ו־2 מלאות בכליו של השחקן הלבן ושורות 7 ו־8 מלאות בכליו של השחקן השחור.<br/>\n",
    "    הכלים מסודרים על הלוח כדלקמן:\n",
    "</p>"
   ]
  },
  {
   "cell_type": "markdown",
   "metadata": {},
   "source": [
    "<ul dir=\"rtl\" style=\"text-align: right; direction: rtl; float: right; clear: both;\">\n",
    "<li>על כל המשבצות בשורה 2 ובשורה 7 מונחים רגלים.</li>\n",
    "<li>בשורות 1 ו־8, בטורים א ו־ח מונחים צריחים.</li>\n",
    "<li>בשורות 1 ו־8, בטורים ב ו־ז מונחים פרשים.</li>\n",
    "<li>בשורות 1 ו־8, בטורים ג ו־ו מונחים רצים.</li>\n",
    "<li>בשורות 1 ו־8, בטור ד מונחת המלכה.</li>\n",
    "<li>בשורות 1 ו־8, בטור ה מונח המלך.</li>\n",
    "</ul>"
   ]
  },
  {
   "cell_type": "markdown",
   "metadata": {},
   "source": [
    "<p dir=\"rtl\" style=\"text-align: right; direction: rtl; float: right; clear: both;\">\n",
    "<a href=\"https://en.wikipedia.org/wiki/Rules_of_chess#Movement\">חוקי התנועה</a> של הכלים מפורטים להלן:\n",
    "</p>\n",
    "<ul dir=\"rtl\" style=\"text-align: right; direction: rtl; float: right; clear: both;\">\n",
    "<li>מלכה יכולה לנוע מספר בלתי מוגבל של משבצות לכל כיוון, לצדדים או באלכסון.</li>\n",
    "<li>צריח יכול לנוע מספר בלתי מוגבל של צעדים לצדדים: אנכי או אופקי.</li>\n",
    "<li>רץ יכול לנוע מספר בלתי מוגבל של צעדים באלכסון.</li>\n",
    "<li>פרש יכול לנוע שני צעדים אופקית ואז עוד צעד אנכית, או שני צעדים אנכית ואז עוד צעד אופקית.</li>\n",
    "<li>רגלי יכול לנוע צעד אחד לכיוון היריב. אם הוא עדיין לא נע ממקומו ההתחלתי, הוא יכול לבחור לעשות שני צעדים לכיוון היריב.</li>\n",
    "<li>מלך יכול לנוע לכל משבצת הסמוכה לו, כל עוד כלי היריב לא יכולים להגיע למשבצת הזו בתורם.</li>\n",
    "</ul>"
   ]
  },
  {
   "cell_type": "markdown",
   "metadata": {},
   "source": [
    "<p dir=\"rtl\" style=\"text-align: right; direction: rtl; float: right; clear: both;\">\n",
    "    כלי בתנועה לא יכול \"לדלג\" מעל כלי משחק אחרים – אם כלי נמצא בדרכו, הכלי שבתנועה לא יוכל לגשת למשבצות שנמצאות מעבר לאותו כלי חוסם.<br/>\n",
    "    יוצא דופן לכלל זה הוא פרש – שיכול לדלג מעל כלים אחרים.<br/>\n",
    "    אם הכלי החוסם הוא כלי של האויב, הכלי בתנועה רשאי לעבור ולעמוד על המשבצת של הכלי החוסם (נקרא גם \"להכות אותו\"), ולהסיר את הכלי החוסם מהמשחק.<br/>\n",
    "    יוצא דופן לכלל זה הוא רגלי – הוא לא יכול להכות חייל שחוסם אותו מלפנים, והוא כן יכול להכות חייל שנמצא באלכסון הימני או השמאלי של כיוון ההתקדמות שלו.\n",
    "</p>"
   ]
  },
  {
   "cell_type": "markdown",
   "metadata": {},
   "source": [
    "<p dir=\"rtl\" style=\"text-align: right; direction: rtl; float: right; clear: both;\">\n",
    "    השחמטאים שביניכם יכולים להתעלם כרגע ממהלכים \"מיוחדים\", כמו הכאה דרך הילוכו, הצרחה או הכתרה.<br/>\n",
    "    כמו כן, בינתיים נתעלם מהחוק שקובע שאם המלך מאוים, השחקן חייב לבצע מהלך שיסיר ממנו את האיום.\n",
    "</p>"
   ]
  },
  {
   "cell_type": "markdown",
   "metadata": {},
   "source": [
    "### <span dir=\"rtl\" style=\"text-align: right; direction: rtl; float: right; clear: both;\">התרגיל</span>"
   ]
  },
  {
   "cell_type": "markdown",
   "metadata": {},
   "source": [
    "<p dir=\"rtl\" style=\"text-align: right; direction: rtl; float: right; clear: both;\">\n",
    "    ממשו מחלקת <var>Board</var> שתכיל תכונה בשם <var>board</var>.<br/>\n",
    "    ביצירת הלוח, ייווצר לוח תקני מאויש בכלי משחק כפי שהוסבר לעיל.\n",
    "</p>"
   ]
  },
  {
   "cell_type": "markdown",
   "metadata": {},
   "source": [
    "<p dir=\"rtl\" style=\"text-align: right; direction: rtl; float: right; clear: both;\">\n",
    "    לצורך כך, צרו מחלקה כללית בשם <var>Piece</var> המייצגת כלי משחק בשחמט.<br/>\n",
    "    לכל כלי משחק צבע (<var>color</var>), השורה שבה הוא נמצא (<var>row</var>) והעמודה שבה הוא נמצא (<var>column</var>).<br/>\n",
    "    צרו גם מחלקות עבור כל אחד מהכלים: <var>Pawn</var> (רגלי), <var>Rook</var> (צריח), <var>Knight</var> (פרש), <var>Bishop</var> (רץ), <var>Queen</var> (מלכה) ו־<var>King</var> (מלך).<br/>\n",
    "</p>"
   ]
  },
  {
   "cell_type": "markdown",
   "metadata": {},
   "source": [
    "<p dir=\"rtl\" style=\"text-align: right; direction: rtl; float: right; clear: both;\">\n",
    "    אפשרו לכל אחד מכלי המשחק לזוז על הלוח לפי החוקיות שתוארה מעלה.<br/>\n",
    "    דאגו שקריאה ל־<var>Board</var> תדפיס לוח ועליו כלי משחק לפי המצב העדכני של הלוח.\n",
    "</p>"
   ]
  },
  {
   "cell_type": "markdown",
   "metadata": {},
   "source": [
    "### <span dir=\"rtl\" style=\"text-align: right; direction: rtl; float: right; clear: both;\">פתרון אפשרי</span>"
   ]
  },
  {
   "cell_type": "markdown",
   "metadata": {},
   "source": [
    "<p dir=\"rtl\" style=\"text-align: right; direction: rtl; float: right; clear: both;\">\n",
    "    נפתח ונאמר שאם אתם אמיצים במידה מספקת – אנחנו ממליצים לכם לנסות לפתור את התרגיל בעצמכם.<br/>\n",
    "    הוא בהחלט לא פשוט ועלול לקחת לא מעט זמן, ולכן הפתרון שלנו מוגש פה:\n",
    "</p>"
   ]
  },
  {
   "cell_type": "code",
   "execution_count": null,
   "metadata": {},
   "outputs": [],
   "source": [
    "from abc import ABC, abstractmethod\n",
    "\n",
    "\n",
    "class Color:\n",
    "    \"\"\"Describe the game pieces' color\"\"\"\n",
    "    BLACK = 0\n",
    "    WHITE = 1\n",
    "\n",
    "    def enemy_of(color):\n",
    "        \"\"\"Return the opponent color.\"\"\"\n",
    "        if color == Color.BLACK:\n",
    "            return Color.WHITE\n",
    "        return Color.BLACK\n",
    "\n",
    "\n",
    "class Board:\n",
    "    \"\"\"Create and maintain the game board.\"\"\"\n",
    "\n",
    "    # Some functions below will not work well with altered board size.\n",
    "    BOARD_SIZE = (8, 8)\n",
    "\n",
    "    def __init__(self):\n",
    "        self.reset()\n",
    "\n",
    "    def get_square(self, row, col):\n",
    "        \"\"\"Return the game piece by its position on board.\n",
    "\n",
    "        If there is no piece in this position, or if the position does\n",
    "        not exist - return False.\n",
    "        \"\"\"\n",
    "        if self.is_valid_square(row, col):\n",
    "            return self.board[row][col]\n",
    "\n",
    "    def set_square(self, row, col, piece):\n",
    "        \"\"\"Place piece on board.\"\"\"\n",
    "        self.board[row][col] = piece\n",
    "\n",
    "    def is_valid_square(self, row, column):\n",
    "        \"\"\"Return True if square in board bounds, False otherwise.\"\"\"\n",
    "        row_exists = row in range(self.BOARD_SIZE[0])\n",
    "        column_exists = column in range(self.BOARD_SIZE[1])\n",
    "        return row_exists and column_exists\n",
    "\n",
    "    def is_empty_square(self, square):\n",
    "        \"\"\"Return True if square is unoccupied, False otherwise.\n",
    "\n",
    "        An empty square is a square which has no game piece on it.\n",
    "        If the square is out of board bounds, we consider it empty.\n",
    "        \"\"\"\n",
    "        return self.get_square(*square) is None\n",
    "\n",
    "    def _generate_back_row(self, color):\n",
    "        \"\"\"Place player's first row pieces on board.\"\"\"\n",
    "        row_by_color = {Color.BLACK: 0, Color.WHITE: self.BOARD_SIZE[0] - 1}\n",
    "        row = row_by_color[color]\n",
    "\n",
    "        order = (Rook, Knight, Bishop, Queen, King, Bishop, Knight, Rook)\n",
    "        params = {'color': color, 'row': row}\n",
    "        return [order[i](col=i, **params) for i in range(self.BOARD_SIZE[0])]\n",
    "\n",
    "    def _generate_pawns_row(self, color):\n",
    "        \"\"\"Place player's pawns row on board.\"\"\"\n",
    "        row_by_color = {Color.BLACK: 1, Color.WHITE: self.BOARD_SIZE[0] - 2}\n",
    "        row = row_by_color[color]\n",
    "        params = {'color': color, 'row': row}\n",
    "        return [Pawn(col=i, **params) for i in range(self.BOARD_SIZE[0])]\n",
    "\n",
    "    def get_pieces(self, color=None):\n",
    "        \"\"\"Yield the player's pieces.\n",
    "\n",
    "        If color is unspecified (None), yield all pieces on board.\n",
    "        \"\"\"\n",
    "        for row in self.board:\n",
    "            for square in row:\n",
    "                if square is not None and (color in (None, square.color)):\n",
    "                    yield square\n",
    "\n",
    "    def reset(self):\n",
    "        \"\"\"Set traditional board and pieces in initial positions.\"\"\"\n",
    "        self.board = [\n",
    "            self._generate_back_row(Color.BLACK),\n",
    "            self._generate_pawns_row(Color.BLACK),\n",
    "            [None] * self.BOARD_SIZE[0],\n",
    "            [None] * self.BOARD_SIZE[0],\n",
    "            [None] * self.BOARD_SIZE[0],\n",
    "            [None] * self.BOARD_SIZE[0],\n",
    "            self._generate_pawns_row(Color.WHITE),\n",
    "            self._generate_back_row(Color.WHITE),\n",
    "        ]\n",
    "\n",
    "    def move(self, source, destination):\n",
    "        \"\"\"Move a piece from its place to a designated location.\"\"\"\n",
    "        piece = self.get_square(*source)\n",
    "        return piece.move(board=self, destination=destination)\n",
    "\n",
    "    def __str__(self):\n",
    "        \"\"\"Return current state of the board for display purposes.\"\"\"\n",
    "        printable = \"\"\n",
    "        for row in self.board:\n",
    "            for col in row:\n",
    "                if col is None:\n",
    "                    printable = printable + \" ▭ \"\n",
    "                else:\n",
    "                    printable = printable + f\" {col} \"\n",
    "            printable = printable + '\\n'\n",
    "        return printable\n",
    "\n",
    "\n",
    "class Piece(ABC):\n",
    "    \"\"\"Represent a general chess piece.\"\"\"\n",
    "\n",
    "    def __init__(self, color, row, col, **kwargs):\n",
    "        super().__init__(**kwargs)\n",
    "        self.color = color\n",
    "        self.row = row\n",
    "        self.col = col\n",
    "        self.moved = False\n",
    "        self.directions = set()\n",
    "\n",
    "    def is_possible_target(self, board, target):\n",
    "        \"\"\"Return True if the move is legal, False otherwise.\n",
    "\n",
    "        A move is considered legal if the piece can move from its\n",
    "        current location to the target location.\n",
    "        \"\"\"\n",
    "        is_target_valid = board.is_valid_square(*target)\n",
    "        is_empty_square = board.is_empty_square(target)\n",
    "        is_hitting_enemy = self.is_enemy(board.get_square(*target))\n",
    "        return is_target_valid and (is_empty_square or is_hitting_enemy)\n",
    "\n",
    "    @abstractmethod\n",
    "    def get_valid_moves(self, board):\n",
    "        \"\"\"Yield the valid target positions the piece can travel to.\"\"\"\n",
    "        pass\n",
    "\n",
    "    def get_position(self):\n",
    "        \"\"\"Return piece current position.\"\"\"\n",
    "        return self.row, self.col\n",
    "\n",
    "    def is_enemy(self, piece):\n",
    "        \"\"\"Return if the piece belongs to the opponent.\"\"\"\n",
    "        if piece is None:\n",
    "            return False\n",
    "        return piece.color != self.color\n",
    "\n",
    "    def move(self, board, destination):\n",
    "        \"\"\"Change piece position on the board.\n",
    "\n",
    "        Return True if the piece's position has successfully changed.\n",
    "        Return False otherwise.\n",
    "        \"\"\"\n",
    "        if not self.is_possible_target(board, destination):\n",
    "            return False\n",
    "        if destination not in self.get_valid_moves(board):\n",
    "            return False\n",
    "\n",
    "        board.set_square(*self.get_position(), None)\n",
    "        board.set_square(*destination, self)\n",
    "        self.row, self.col = destination\n",
    "        self.moved = True\n",
    "        return True\n",
    "\n",
    "    def get_squares_threatens(self, board):\n",
    "        \"\"\"Get all the squares which this piece threatens.\n",
    "\n",
    "        This is usually just where the piece can go, but sometimes\n",
    "        the piece threat squares which are different than the squares\n",
    "        it can travel to.\n",
    "        \"\"\"\n",
    "        for move in self.get_valid_moves(board):\n",
    "            yield move\n",
    "\n",
    "    @abstractmethod\n",
    "    def __str__(self):\n",
    "        pass\n",
    "\n",
    "\n",
    "class WalksDiagonallyMixin:\n",
    "    \"\"\"Define diagonal movement on the board.\n",
    "\n",
    "    This mixin should be used only in a Piece subclasses.\n",
    "    Its purpose is to add possible movement directions to a specific\n",
    "    kind of game piece.\n",
    "    \"\"\"\n",
    "\n",
    "    def __init__(self, **kwargs):\n",
    "        super().__init__(**kwargs)\n",
    "        self.directions.update({\n",
    "            (-1, -1),          (1, -1),\n",
    "\n",
    "            (-1,  1),          (1,  1),\n",
    "        })\n",
    "\n",
    "\n",
    "class WalksStraightMixin:\n",
    "    \"\"\"Define straight movement on the board.\n",
    "\n",
    "    This mixin should be used only in a Piece subclasses.\n",
    "    Its purpose is to add possible movement directions to a specific\n",
    "    kind of game piece.\n",
    "    \"\"\"\n",
    "\n",
    "    def __init__(self, **kwargs):\n",
    "        super().__init__(**kwargs)\n",
    "        self.directions.update({\n",
    "                      (0, -1),\n",
    "            (-1,  0),          (1,  0),\n",
    "                      (0,  1),\n",
    "        })\n",
    "\n",
    "\n",
    "class WalksMultipleStepsMixin:\n",
    "    \"\"\"Define a same-direction, multiple-step movement on the board.\n",
    "\n",
    "    This mixin should be used only on a Piece subclasses.\n",
    "    Its purpose is to allow a piece to travel long distances based on a\n",
    "    single-step pattern.\n",
    "\n",
    "    For example, the bishop can move diagonally up to 7 squares per\n",
    "    turn (in an orthodox chess game). This mixin allows it if the\n",
    "    `directions` property is set to the 4 possible diagonal steps. It\n",
    "    does so by overriding the get_valid_moves method and uses the\n",
    "    instance `directions` property to determine the possible step for\n",
    "    the piece.\n",
    "    \"\"\"\n",
    "\n",
    "    def get_valid_moves(self, board, **kwargs):\n",
    "        \"\"\"Yield the valid target positions the piece can travel to.\"\"\"\n",
    "        for row_change, col_change in self.directions:\n",
    "            steps = 1\n",
    "            stop_searching_in_this_direction = False\n",
    "            while not stop_searching_in_this_direction:\n",
    "                new_row = self.row + row_change * steps\n",
    "                new_col = self.col + col_change * steps\n",
    "                target = (new_row, new_col)\n",
    "                is_valid_target = self.is_possible_target(board, target)\n",
    "                if is_valid_target:\n",
    "                    yield target\n",
    "                    steps = steps + 1\n",
    "                    is_hit_enemy = self.is_enemy(board.get_square(*target))\n",
    "                if not is_valid_target or (is_valid_target and is_hit_enemy):\n",
    "                    stop_searching_in_this_direction = True\n",
    "\n",
    "\n",
    "class Bishop(WalksDiagonallyMixin, WalksMultipleStepsMixin, Piece):\n",
    "    \"\"\"A classic Bishop chess piece.\n",
    "\n",
    "    The bishop moves any number of blank squares diagonally.\n",
    "    \"\"\"\n",
    "    def __str__(self):\n",
    "        if self.color == Color.WHITE:\n",
    "            return '♗'\n",
    "        return '♝'\n",
    "\n",
    "\n",
    "class Rook(WalksStraightMixin, WalksMultipleStepsMixin, Piece):\n",
    "    \"\"\"A classic Rook chess piece.\n",
    "\n",
    "    The rook moves any number of blank squares straight.\n",
    "    \"\"\"\n",
    "    def __str__(self):\n",
    "        if self.color == Color.WHITE:\n",
    "            return '♖'\n",
    "        return '♜'\n",
    "\n",
    "\n",
    "class Queen(\n",
    "    WalksStraightMixin, WalksDiagonallyMixin, WalksMultipleStepsMixin, Piece,\n",
    "):\n",
    "    \"\"\"A classic Queen chess piece.\n",
    "\n",
    "    The queen moves any number of blank squares straight or diagonally.\n",
    "    \"\"\"\n",
    "    def __str__(self):\n",
    "        if self.color == Color.WHITE:\n",
    "            return '♕'\n",
    "        return '♛'\n",
    "\n",
    "\n",
    "class Pawn(Piece):\n",
    "    \"\"\"A classic Pawn chess piece.\n",
    "\n",
    "    A pawn moves straight forward one square, if that square is empty.\n",
    "    If it has not yet moved, a pawn also has the option of moving two\n",
    "    squares straight forward, provided both squares are empty.\n",
    "    Pawns can only move forward.\n",
    "\n",
    "    A pawn can capture an enemy piece on either of the two squares\n",
    "    diagonally in front of the pawn. It cannot move to those squares if\n",
    "    they are empty, nor to capture an enemy in front of it.\n",
    "\n",
    "    A pawn can also be involved in en-passant or in promotion, which is\n",
    "    yet to be implemented on this version of the game.\n",
    "    \"\"\"\n",
    "    DIRECTION_BY_COLOR = {Color.BLACK: 1, Color.WHITE: -1}\n",
    "\n",
    "    def __init__(self, **kwargs):\n",
    "        super().__init__(**kwargs)\n",
    "        self.forward = self.DIRECTION_BY_COLOR[self.color]\n",
    "\n",
    "    def _get_regular_walk(self):\n",
    "        \"\"\"Return position after a single step forward.\"\"\"\n",
    "        return self.row + self.forward, self.col\n",
    "\n",
    "    def _get_double_walk(self):\n",
    "        \"\"\"Return position after a double step forward.\"\"\"\n",
    "        src_row, src_col = self.get_position()\n",
    "        return (src_row + self.forward * 2, src_col)\n",
    "\n",
    "    def _get_diagonal_walks(self):\n",
    "        \"\"\"Returns position after a diagonal move.\n",
    "\n",
    "        This only happens when hitting an enemy.\n",
    "        It could also happen on \"en-passant\", which is\n",
    "        unimplemented feature for now.\n",
    "        \"\"\"\n",
    "        src_row, src_col = self.get_position()\n",
    "        return (\n",
    "            (src_row + self.forward, src_col + 1),\n",
    "            (src_row + self.forward, src_col - 1),\n",
    "        )\n",
    "\n",
    "    def is_possible_target(self, board, target):\n",
    "        \"\"\"Return True if the Pawn's move is legal, False otherwise.\n",
    "\n",
    "        This one is a bit more complicated than the usual case.\n",
    "        Pawns can only move forward. They also can move two ranks\n",
    "        forward if they have yet to move. Not like the other pieces,\n",
    "        pawns can't hit the enemy using their regular movement. They\n",
    "        have to hit it diagonally, and can't take a step forward if the\n",
    "        enemy is just in front of them.\n",
    "        \"\"\"\n",
    "        is_valid_move = board.is_valid_square(*target)\n",
    "        is_step_forward = (\n",
    "            board.is_empty_square(target)\n",
    "            and target == self._get_regular_walk()\n",
    "        )\n",
    "        is_valid_double_step_forward = (\n",
    "            board.is_empty_square(target)\n",
    "            and not self.moved\n",
    "            and target == self._get_double_walk()\n",
    "            and self.is_possible_target(board, self._get_regular_walk())\n",
    "        )\n",
    "        is_hitting_enemy = (\n",
    "            self.is_enemy(board.get_square(*target))\n",
    "            and target in self._get_diagonal_walks()\n",
    "        )\n",
    "        return is_valid_move and (\n",
    "            is_step_forward or is_valid_double_step_forward or is_hitting_enemy\n",
    "        )\n",
    "\n",
    "    def get_squares_threatens(self, board, **kwargs):\n",
    "        \"\"\"Get all the squares which the pawn can attack.\"\"\"\n",
    "        for square in self._get_diagonal_walks():\n",
    "            if board.is_valid_square(*square):\n",
    "                yield square\n",
    "\n",
    "    def get_valid_moves(self, board, **kwargs):\n",
    "        \"\"\"Yield the valid target positions the piece can travel to.\n",
    "\n",
    "        The Pawn case is a special one - see is_possible_target's\n",
    "        documentation for further details.\n",
    "        \"\"\"\n",
    "        targets = (\n",
    "            self._get_regular_walk(),\n",
    "            self._get_double_walk(),\n",
    "            *self._get_diagonal_walks(),\n",
    "        )\n",
    "        for target in targets:\n",
    "            if self.is_possible_target(board, target):\n",
    "                yield target\n",
    "\n",
    "    def __str__(self):\n",
    "        if self.color == Color.WHITE:\n",
    "            return '♙'\n",
    "        return '♟'\n",
    "\n",
    "\n",
    "class Knight(Piece):\n",
    "    \"\"\"A classic Knight chess piece.\n",
    "\n",
    "    Can travel to the nearest square not on the same rank, file, or\n",
    "    diagonal. It is not blocked by other pieces: it jumps to the new\n",
    "    location.\n",
    "    \"\"\"\n",
    "    def __init__(self, **kwargs):\n",
    "        super().__init__(**kwargs)\n",
    "        self.directions.update({\n",
    "            (-2, 1), (-1, 2), (1, 2), (2, 1),  # Upper part\n",
    "            (-2, -1), (-1, -2), (1, -2), (2, -1),  # Lower part\n",
    "        })\n",
    "\n",
    "    def get_valid_moves(self, board, **kwargs):\n",
    "        super().get_valid_moves(board, **kwargs)\n",
    "        for add_row, add_col in self.directions:\n",
    "            target = (add_row + self.row, add_col + self.col)\n",
    "            if self.is_possible_target(board, target):\n",
    "                yield target\n",
    "\n",
    "    def __str__(self):\n",
    "        if self.color == Color.WHITE:\n",
    "            return '♘'\n",
    "        return '♞'\n",
    "\n",
    "\n",
    "class King(WalksStraightMixin, WalksDiagonallyMixin, Piece):\n",
    "    \"\"\"A classic King chess piece.\n",
    "\n",
    "    Can travel one step, either diagonally or straight.\n",
    "    It cannot travel to places where he will be threatened.\n",
    "    \"\"\"\n",
    "\n",
    "    def _get_threatened_squares(self, board):\n",
    "        \"\"\"Yield positions in which the king will be captured.\"\"\"\n",
    "        enemy = Color.enemy_of(self.color)\n",
    "        for piece in board.get_pieces(color=enemy):\n",
    "            for move in piece.get_squares_threatens(board):\n",
    "                yield move\n",
    "\n",
    "    def is_possible_target(self, board, target):\n",
    "        \"\"\"Return True if the king's move is legal, False otherwise.\n",
    "\n",
    "        The king should not move to a square that the enemy threatens.\n",
    "        \"\"\"\n",
    "        is_regular_valid = super().is_possible_target(board, target)\n",
    "        threatened_squares = self._get_threatened_squares(board)\n",
    "        return is_regular_valid and target not in threatened_squares\n",
    "\n",
    "    def get_valid_moves(self, board, **kwargs):\n",
    "        super().get_valid_moves(board, **kwargs)\n",
    "        for add_row, add_col in self.directions:\n",
    "            target = (add_row + self.row, add_col + self.col)\n",
    "            if self.is_possible_target(board, target):\n",
    "                yield target\n",
    "\n",
    "    def get_squares_threatens(self, board):\n",
    "        \"\"\"Get all the squares that this piece may move to.\n",
    "\n",
    "        This method is especially useful to see if other kings fall\n",
    "        into this piece's territory. To prevent recursion, this\n",
    "        function returns all squares we threat even if we can't go\n",
    "        there.\n",
    "\n",
    "        For example, take a scenario where the White Bishop is in B2,\n",
    "        and the Black King is in B3. The White King is in D3, but it is\n",
    "        allowed to go into C3 to threaten the black king if the white\n",
    "        bishop protects it.\n",
    "        \"\"\"\n",
    "        for direction in self.directions:\n",
    "            row, col = self.get_position()\n",
    "            row = row + direction[0]\n",
    "            col = col + direction[1]\n",
    "            if board.is_valid_square(row, col):\n",
    "                yield (row, col)\n",
    "\n",
    "    def __str__(self):\n",
    "        if self.color == Color.WHITE:\n",
    "            return '♔'\n",
    "        return '♚'\n"
   ]
  },
  {
   "cell_type": "markdown",
   "metadata": {},
   "source": [
    "<div class=\"align-center\" dir=\"rtl\" style=\"display: flex; text-align: right; direction: rtl;\">\n",
    "<div style=\"display: flex; width: 10%; float: right; \" width=\"10%\">\n",
    "<img alt=\"אזהרה!\" height=\"50px\" src=\"images/warning.png\" style=\"height: 50px !important;\"/>\n",
    "</div>\n",
    "<div style=\"width: 90%\" width=\"90%\">\n",
    "<p dir=\"rtl\" style=\"text-align: right; direction: rtl;\">\n",
    "            בשבועיים האחרונים אנחנו משתמשים לא מעט במחלקות כדי לתרגל רעיונות חשובים בתכנות.<br/>\n",
    "            עם הכוח באה האחריות – למרות כל הטכניקות המגניבות שלמדנו, כדאי להימנע מלסבך הנדסית את הקוד שלנו יתר על המידה.\n",
    "        </p>\n",
    "</div>\n",
    "</div>"
   ]
  },
  {
   "cell_type": "markdown",
   "metadata": {},
   "source": [
    "## <span dir=\"rtl\" style=\"text-align: right; direction: rtl; float: right; clear: both;\">תרגילים</span>"
   ]
  },
  {
   "cell_type": "markdown",
   "metadata": {},
   "source": [
    "### <span dir=\"rtl\" style=\"text-align: right; direction: rtl; float: right; clear: both;\">מלון קליפורניה</span>"
   ]
  },
  {
   "cell_type": "markdown",
   "metadata": {},
   "source": [
    "<p dir=\"rtl\" style=\"text-align: right; direction: rtl; float: right; clear: both;\">\n",
    "    על כביש מדברי חשוך, כשמשב רוח קריר בשערכם, אתם מבחינים באור המבליח באופק. ראשכם נהיה כבד עליכם ואתם מחליטים לחנות להלילה.<br/> \n",
    "    אתם ניגשים לדלפק הקבלה במלון הסמוך, פוגשים בקבלה את הילברט, ומבקשים ממנו לשכור חדר.<br/>\n",
    "    הילברט שואל אתכם אם אתם \"טובים במחשבים\", ומבקש שתעזרו לו לכתוב את התוכנה לניהול בית העסק שלו.\n",
    "</p>"
   ]
  },
  {
   "cell_type": "markdown",
   "metadata": {},
   "source": [
    "<p dir=\"rtl\" style=\"text-align: right; direction: rtl; float: right; clear: both;\">\n",
    "    לכל חדר במלון קליפורניה נתונים כמפורט:\n",
    "</p>\n",
    "<ul dir=\"rtl\" style=\"text-align: right; direction: rtl; float: right; clear: both;\">\n",
    "<li>סוג חדר: יחיד, זוגי, מלכותי או שופרא דשופרא (הילברט עדיין עובד על הקופי).</li>\n",
    "<li>מספר חדר.</li>\n",
    "<li>קומה.</li>\n",
    "<li>אם פנוי להזמנה.</li>\n",
    "</ul>"
   ]
  },
  {
   "cell_type": "markdown",
   "metadata": {},
   "source": [
    "<p dir=\"rtl\" style=\"text-align: right; direction: rtl; float: right; clear: both;\">\n",
    "    בחדר יחיד אפשר להכניס עד מיטה אחת, בחדר זוגי ובחדר מלכותי שתיים, ובחדר שופרא דשופרא יש מקום לעד 3 מיטות.<br/>\n",
    "    אפשר להוסיף מיטה לכל חדר או להוציא ממנו מיטה, כל עוד יש בחדר לפחות מיטה אחת ומספר המיטות אינו גבוה מהתפוסה המרבית של החדר.\n",
    "</p>"
   ]
  },
  {
   "cell_type": "markdown",
   "metadata": {},
   "source": [
    "<p dir=\"rtl\" style=\"text-align: right; direction: rtl; float: right; clear: both;\">\n",
    "    בינתיים, עד שהילברט ימצא תעלול על־אנושי כלשהו, מספר החדרים במלון שלו מוגבל.<br/>\n",
    "    צרו מחלקה שתנהל את החדרים במלון שלו.<br/>\n",
    "    המחלקה תכיל את הפעולה <var>search_room</var> שבהפעלתה תחזיר להילברט את החדר הפנוי הראשון שהיא מוצאת.<br/>\n",
    "    חלק מהמשתמשים מעדיפים ללון בקומה מסוימת או בחדר מסוג מסוים. אפשרו להעביר לפונקציה את הפרמטרים הללו ולחפש לפיהם. \n",
    "</p>"
   ]
  },
  {
   "cell_type": "markdown",
   "metadata": {},
   "source": [
    "<p dir=\"rtl\" style=\"text-align: right; direction: rtl; float: right; clear: both;\">\n",
    "    על כל חדר שאינו שופרא דשופרא יוכל הלקוח לבצע פעולת <var>upgrade</var>.<br/>\n",
    "    הפעולה תעביר אותו לחדר בדרגה אחת גבוהה יותר, אם יש חדר כזה פנוי.\n",
    "</p>"
   ]
  },
  {
   "cell_type": "markdown",
   "metadata": {},
   "source": [
    "### <span dir=\"rtl\" style=\"text-align: right; direction: rtl; float: right; clear: both;\">שחמט גנואים</span>"
   ]
  },
  {
   "cell_type": "markdown",
   "metadata": {},
   "source": [
    "<p dir=\"rtl\" style=\"text-align: right; direction: rtl; float: right; clear: both;\">\n",
    "    חניכים שובבים (לא אתם חלילה) החליטו לדלג על התרגיל לדוגמה, שמדגים בצורה מאלפת שימוש ברעיונות של מחלקה מופשטת וב־Mixins.<br/>\n",
    "    כדי לוודא שהם מבינים את החומר, השתמשו במימוש שבדוגמה (או במימוש שכתבתם בעצמכם, כמובן) ועזרו להם לממש שחמט גנואים.\n",
    "</p>"
   ]
  },
  {
   "cell_type": "markdown",
   "metadata": {},
   "source": [
    "<p dir=\"rtl\" style=\"text-align: right; direction: rtl; float: right; clear: both;\">\n",
    "    בשחמט גנואים רוחבו של הלוח הוא 11 משבצות ואורכו 10 משבצות.<br/>\n",
    "<p dir=\"rtl\" style=\"text-align: right; direction: rtl; float: right; clear: both;\">\n",
    "    בשורה 1, בעמודה ז  (או g בגרסה האנגלית) מוצב גנו, ובעמודות ח ו־ט (h ו־i באנגלית) מוצבים גמלים.<br/>\n",
    "    בשורה 10, בעמודה ה  (או e בגרסה האנגלית) מוצב גנו, ובעמודות ג ו־ד (c ו־d באנגלית) מוצבים גמלים.\n",
    "</p>\n",
    "<p dir=\"rtl\" style=\"text-align: right; direction: rtl; float: right; clear: both;\">\n",
    "    בשורה 1, בעמודה ה  (או e בגרסה האנגלית) מוצבת המלכה, ובעמודות ג ו־ד (c ו־d באנגלית) מוצבים רצים.<br/>\n",
    "    בשורה 10, בעמודה ז  (או g בגרסה האנגלית) מוצבת המלכה, ובעמודות ח ו־ט (h ו־i באנגלית) מוצבים רצים.\n",
    "</p>\n",
    "<p dir=\"rtl\" style=\"text-align: right; direction: rtl; float: right; clear: both;\">\n",
    "    שאר הכלים מסודרים באותו הסדר.\n",
    "</p></p>"
   ]
  },
  {
   "cell_type": "markdown",
   "metadata": {},
   "source": [
    "<figure>\n",
    "<img alt=\"צורת סידור הלוח בשחמט גנואים. בשורה העליונה, הכלים השחורים, משמאל לימין: צריח, פרש, גמל, גמל, גנו, מלך, מלכה, רץ, רץ, פרש, צריח. בשורה התחתונה בלוח, הכלים הלבנים מסודרים באותו סדר, הפעם מימין לשמאל. שורות הרגליים נשארות מלאות ברגליים.\" src=\"images/wildebeest.png\" style=\"max-width: 300px; margin-right: auto; margin-left: auto; text-align: center;\"/>\n",
    "<figcaption dir=\"rtl\" style=\"margin-top: 2rem; text-align: center; direction: rtl;\">לוח שחמט ערוך למשחק שחמט גנואים.<br/>מקור: ויקיפדיה.\n",
    "    </figcaption>\n",
    "</figure>"
   ]
  },
  {
   "cell_type": "markdown",
   "metadata": {},
   "source": [
    "<p dir=\"rtl\" style=\"text-align: right; direction: rtl; float: right; clear: both;\">\n",
    "    גמלים נעים בצורה דומה לפרשים: 3 צעדים אנכית ואז צעד אחד אופקית, או 3 צעדים אופקית ואז צעד אחד אנכית.<br/>\n",
    "    גנואים יכולים לבחור בכל תור אם הם רוצים לנוע כגמל או כפרש.<br/>\n",
    "    שני כלי המשחק, גמל וגנו, יכולים לדלג מעל כלים אחרים מבלי להיחסם.<br/>\n",
    "    תוכלו להשתמש בתווים ⛀ ו־⛂ כדי לייצג גמלים ובתווים ⛁ ו־⛃ כדי לייצג גנואים.\n",
    "</p>"
   ]
  },
  {
   "cell_type": "markdown",
   "metadata": {},
   "source": [
    "<p dir=\"rtl\" style=\"text-align: right; direction: rtl; float: right; clear: both;\">\n",
    "    בגרסה זו של המשחק ישנה הרחבה קלה לתנועת הרגלים הבסיסית.<br/>\n",
    "    אם רגלי לא נע מעולם, הוא יכול לנוע עד 3 צעדים במעלה הלוח.<br/>\n",
    "    אם רגלי נע רק צעד אחד במעלה הלוח, הוא עדיין רשאי להתקדם 2 צעדים נוספים במעלה הלוח.<br/>\n",
    "    רגלי שהתקדם 2 צעדים או יותר רשאי לנוע רק צעד אחד במעלה הלוח בכל פעם.\n",
    "</p>"
   ]
  },
  {
   "cell_type": "markdown",
   "metadata": {},
   "source": [
    "<p dir=\"rtl\" style=\"text-align: right; direction: rtl; float: right; clear: both;\">\n",
    "    נוסף על כך, בלי קשר לשחמט גנואים וסתם בשביל הכיף, ממשו חד־קרן.<br/>\n",
    "    חד־קרן הוא כלי שיכול לנוע בתור אחד מספר בלתי מוגבל של צעדי פרש לאותו הכיוון.<br/>\n",
    "    לצורך ייצוג חד־קרן לבן על הלוח תוכלו להשתמש בתו 🦄, ועבור השחור השתמשו ב־🐴 (זה מה יש).<br/>\n",
    "    וכן, אנחנו יודעים שהוא הורס את הדפסת הלוח. מותר לו. הוא חד־קרן.\n",
    "</p>"
   ]
  },
  {
   "cell_type": "markdown",
   "metadata": {},
   "source": [
    "<figure>\n",
    "<img alt=\"פרש לבן נמצא במשבצת b2 בלוח שחמט סטנדרטי בגודל 8 על 8. רגלי נמצא במשבצת f4. הפרש יכול להגיע לכל המשבצות הבאות: d1, d3, a4, c4, d6, e8.\" src=\"images/nightrider.png\" style=\"max-width: 200px; margin-right: auto; margin-left: auto; text-align: center;\"/>\n",
    "<figcaption dir=\"rtl\" style=\"margin-top: 2rem; text-align: center; direction: rtl;\">תנועה אופיינית לחד־קרן.<br/>מקור: ויקיפדיה.\n",
    "    </figcaption>\n",
    "</figure>"
   ]
  },
  {
   "cell_type": "markdown",
   "metadata": {},
   "source": [
    "<p dir=\"rtl\" style=\"text-align: right; direction: rtl; float: right; clear: both;\">\n",
    "    חשבתם שבמקרה התעוררתי היום במצב רוח להמצאת גרסאות שחמט משוגעות? אז זהו, שלא.\n",
    "    <a href=\"https://en.wikipedia.org/wiki/Wildebeest_chess\">הכול</a>. <a href=\"https://en.wikipedia.org/wiki/Nightrider_(chess)\">כבר</a>. <a href=\"https://en.wikipedia.org/wiki/Camel_(chess)\">קיים</a>.\n",
    "</p>"
   ]
  }
 ],
 "metadata": {
  "kernelspec": {
   "display_name": "Python 3",
   "language": "python",
   "name": "python3"
  },
  "language_info": {
   "codemirror_mode": {
    "name": "ipython",
    "version": 3
   },
   "file_extension": ".py",
   "mimetype": "text/x-python",
   "name": "python",
   "nbconvert_exporter": "python",
   "pygments_lexer": "ipython3",
   "version": "3.7.6"
  }
 },
 "nbformat": 4,
 "nbformat_minor": 2
}
