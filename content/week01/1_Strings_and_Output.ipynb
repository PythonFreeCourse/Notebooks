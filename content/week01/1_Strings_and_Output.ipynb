{
 "cells": [
  {
   "cell_type": "markdown",
   "metadata": {},
   "source": [
    "<img src=\"images/logo.jpg\" style=\"display: block; margin-left: auto; margin-right: auto;\" alt=\"לוגו של מיזם לימוד הפייתון. נחש מצויר בצבעי צהוב וכחול, הנע בין האותיות של שם הקורס: לומדים פייתון. הסלוגן המופיע מעל לשם הקורס הוא מיזם חינמי ללימוד תכנות בעברית.\">"
   ]
  },
  {
   "cell_type": "markdown",
   "metadata": {},
   "source": [
    "# <p style=\"align: right; direction: rtl; float: right;\">ברוכים הבאים למחברת הפייתון הראשונה שלכם!</p>"
   ]
  },
  {
   "cell_type": "markdown",
   "metadata": {},
   "source": [
    "<p style=\"text-align: right; direction: rtl; float: right;\">\n",
    "ממש בקרוב נצלול לעולם התכנות, שבו תוכלו להריץ דוגמאות קוד מעניינות.<br>\n",
    "המחברת שלפניכם היא מחברת אינטראקטיבית שמאפשרת לנו להריץ קוד ולראות את התוצאות שלו בקלות.\n",
    "</p>"
   ]
  },
  {
   "cell_type": "markdown",
   "metadata": {},
   "source": [
    "<p style=\"text-align: right; direction: rtl; float: right;\">כדי להריץ את התוכן של תא מסוים, לחצו עליו כך שתופיע סביבו מסגרת, והקישו בו־זמנית על המקשים <kbd>CTRL</kbd> + <kbd>ENTER</kbd> במקלדת.<br>\n",
    "לאחר שתעשו זאת, פייתון תעבד את הביטוי המופיע במשבצת ותציג לכם תשובה בהתאם.<br>\n",
    "נסו את זה על המשבצת הבאה!</p>"
   ]
  },
  {
   "cell_type": "code",
   "execution_count": null,
   "metadata": {},
   "outputs": [],
   "source": [
    "print(\"Hello World\")"
   ]
  },
  {
   "cell_type": "markdown",
   "metadata": {},
   "source": [
    "<p style=\"text-align: right; direction: rtl; float: right;\">אפשר לזהות בקלות תא שמיועד להרצה, באמצעות צבע הרקע האפור שלו שנמתח על גבי כל השורה.</p>"
   ]
  },
  {
   "cell_type": "markdown",
   "metadata": {},
   "source": [
    "<div class=\"align-center\" style=\"display: flex; text-align: right; direction: rtl;\">\n",
    "    <div style=\"display: flex; width: 10%; float: right; \">\n",
    "        <img src=\"images/tip.png\" style=\"height: 50px !important;\" alt=\"טיפ!\"> \n",
    "    </div>\n",
    "    <div style=\"width: 90%\">\n",
    "        <p style=\"text-align: right; direction: rtl;\">\n",
    "            תוכלו להמנע משימוש בעכבר ולעבוד מהר יותר רק עם המקלדת. עברו בין התאים בעזרת המקשים <kbd>↓</kbd> או <kbd>↑</kbd> במקלדת שלכם.\n",
    "        </p>\n",
    "    </div>\n",
    "</div>"
   ]
  },
  {
   "cell_type": "markdown",
   "metadata": {},
   "source": [
    "## <p style=\"align: right; direction: rtl; float: right;\">הדפסה</p>"
   ]
  },
  {
   "cell_type": "markdown",
   "metadata": {},
   "source": [
    "<p style=\"align: right; direction: rtl; float: right; clear: both;\">\n",
    "<q>אבל רגע</q>, יגידו הסקרנים ביניכם, <q>מה הרצתי שם למעלה?</q><br>\n",
    "</p>\n"
   ]
  },
  {
   "cell_type": "markdown",
   "metadata": {},
   "source": [
    "<p style=\"align: right; direction: rtl; float: right; clear: both;\">\n",
    "כמו שוודאי ניחשתם, הקוד שהרצתם מדפיס \"שלום עולם\". הוא מורכב משני חלקים יחסית פשוטים: <em>מחרוזת</em> ו<em>פקודת הדפסה</em>.\n",
    "</p>"
   ]
  },
  {
   "cell_type": "markdown",
   "metadata": {},
   "source": [
    "### <p style=\"align: right; direction: rtl; float: right;\">print</p>"
   ]
  },
  {
   "cell_type": "markdown",
   "metadata": {},
   "source": [
    "<p style=\"text-align: right; direction: rtl; float: right;\">\n",
    "אחד הדברים שנעשה לא מעט בשבועות הקרובים זה להדפיס למסך.<br>\n",
    "כדי לעשות את זה, נצטרך פשוט לכתוב <code>print</code>, לפתוח סוגריים, לכתוב <em>ביטוי חוקי כלשהו</em> ולסגור את הסוגריים.<br>\n",
    "בואו נסתכל על כמה דוגמאות:\n",
    "</p>"
   ]
  },
  {
   "cell_type": "code",
   "execution_count": null,
   "metadata": {},
   "outputs": [],
   "source": [
    "print(1)"
   ]
  },
  {
   "cell_type": "code",
   "execution_count": null,
   "metadata": {},
   "outputs": [],
   "source": [
    "print(\"Hello\")"
   ]
  },
  {
   "cell_type": "code",
   "execution_count": null,
   "metadata": {},
   "outputs": [],
   "source": [
    "print(\"Hello World\")"
   ]
  },
  {
   "cell_type": "code",
   "execution_count": null,
   "metadata": {},
   "outputs": [],
   "source": [
    "print(1 + 5)"
   ]
  },
  {
   "cell_type": "markdown",
   "metadata": {},
   "source": [
    "<div class=\"align-center\" style=\"display: flex; text-align: right; direction: rtl; clear: both;\">\n",
    "    <div style=\"display: flex; width: 10%; float: right; \">\n",
    "        <img src=\"images/warning.png\" style=\"height: 50px !important;\" alt=\"אזהרה!\"> \n",
    "    </div>\n",
    "    <div style=\"width: 90%\">\n",
    "        <p style=\"text-align: right; direction: rtl;\">\n",
    "            נהוג לרשום את הסוגריים סמוך למילה <code>print</code>, בלי רווחים לפני או אחרי הסוגריים.<br>\n",
    "            אם תשכחו סוגריים, או אם תפתחו סוגריים ותשכחו לסגור אותם, פייתון תתריע על <dfn>שגיאה</dfn>.<br>\n",
    "            זה לא באמת מפחיד אותנו, אבל כדאי לזכור שזו אחת הסיבות שאתם עלולים להיתקל בהודעות שגיאה.\n",
    "    </p>\n",
    "</div>\n"
   ]
  },
  {
   "cell_type": "markdown",
   "metadata": {},
   "source": [
    "### <span style=\"text-align: right; direction: rtl; float: right; clear: both;\">מחרוזת</span>"
   ]
  },
  {
   "cell_type": "markdown",
   "metadata": {},
   "source": [
    "<p style=\"text-align: right; direction: rtl; float: right; clear: both;\">\n",
    "למרות השם הרשמי, מחרוזת היא בסך הכול רצף של תווים. מחרוזת יכולה להיות \"שלום עולם\", התוכן של הספר הארי פוטר ואפילו האות \"ש\" לבדה.<br>\n",
    "במקרה שלנו, המחרוזת היא <code>\"Hello World\"</code>.<br>\n",
    "כדי שפייתון תזהה שמדובר במחרוזת, נהיה חייבים להקיף את המחרוזת בגרש (צ'וקו) או בגרשיים (צ'וקיים).<br>\n",
    "פייתון נחמדה אלינו ולא באמת אכפת לה במה תשתמשו, כל עוד תתחילו בגרש ותסיימו בגרש, או תתחילו בגרשיים ותסיימו בגרשיים.<br>\n",
    "בואו נסתכל על כמה דוגמאות:\n",
    "</p>"
   ]
  },
  {
   "cell_type": "code",
   "execution_count": null,
   "metadata": {},
   "outputs": [],
   "source": [
    "print(\"Hello World\")"
   ]
  },
  {
   "cell_type": "code",
   "execution_count": null,
   "metadata": {},
   "outputs": [],
   "source": [
    "print('Hello World')"
   ]
  },
  {
   "cell_type": "code",
   "execution_count": null,
   "metadata": {},
   "outputs": [],
   "source": [
    "print('\"Why were you lurking under our window?\" \"Yes - yes, good point, Petunia! What were you doing under our windows, boy?\" \"Listening to the news,\" said Harry in a resigned voice. His aunt and uncle exchanged looks of outrage. \"Listening to the news! Again?\" \"Well, it changes every day, you see,\" said Harry.')"
   ]
  },
  {
   "cell_type": "code",
   "execution_count": null,
   "metadata": {},
   "outputs": [],
   "source": [
    "print(\"x\")"
   ]
  },
  {
   "cell_type": "markdown",
   "metadata": {},
   "source": [
    "<div class=\"align-center\" style=\"display: flex; text-align: right; direction: rtl; clear: both;\">\n",
    "    <div style=\"display: flex; width: 10%; float: right; \">\n",
    "        <img src=\"images/warning.png\" style=\"height: 50px !important;\" alt=\"אזהרה!\"> \n",
    "    </div>\n",
    "    <div style=\"width: 90%\">\n",
    "        <p style=\"text-align: right; direction: rtl;\">\n",
    "            טעות נפוצה בקרב אנשים שמצטרפים לעולם התכנות, היא לשכוח את הגרש או את הגרשיים בסיום ו/או בתחילת המחרוזת.<br>\n",
    "            אם תשכחו אותם, פייתון עלולה להתריע על שגיאה. זה לא באמת מפחיד אותנו, אבל כדאי לזכור שזו אחת הסיבות שאתם עלולים להיתקל בהודעות שגיאה.\n",
    "        </p>\n",
    "    </div>\n",
    "</div>"
   ]
  },
  {
   "cell_type": "markdown",
   "metadata": {},
   "source": [
    "<span style=\"text-align: right; direction: rtl; float: right; clear: both;\">הנה דוגמה לטעות שכזו, שתגרום לפייתון להתריע על שגיאה:</span>"
   ]
  },
  {
   "cell_type": "code",
   "execution_count": null,
   "metadata": {},
   "outputs": [],
   "source": [
    "print(Hello World)"
   ]
  },
  {
   "cell_type": "markdown",
   "metadata": {},
   "source": [
    "## <span style=\"align: right; direction: rtl; float: right;\">תרגול</span>"
   ]
  },
  {
   "cell_type": "markdown",
   "metadata": {},
   "source": [
    "### <p style=\"align: right; direction: rtl; float: right;\">מה מחרוזת ומה לא?</p>"
   ]
  },
  {
   "cell_type": "markdown",
   "metadata": {},
   "source": [
    "<p style=\"text-align: right; direction: rtl; float: right;\">\n",
    "לפניכם כמה ביטויים בפייתון. מה לדעתכם מחרוזת תקינה ומה לא?<br>\n",
    "רשמו בצד את התשובות שלכם, ורק אז עברו לתא שאחרי התרגיל כדי לבדוק אם עניתם נכונה על השאלות.<br>\n",
    "זהירות! הטמנו שם כמה מוקשים ;)\n",
    "</p>"
   ]
  },
  {
   "cell_type": "markdown",
   "metadata": {},
   "source": [
    "<ol style=\"font-size: 1.25em; direction: ltr\">\n",
    "<li><code>\"Hello World\"</code></li>\n",
    "<li><code>'Hello World'</code></li>\n",
    "<li><code>1234</code></li>\n",
    "<li><code>\"1234\"</code></li>\n",
    "<li><code>print(\"Hello World\")</code></li>\n",
    "<li><code>print</code></li>\n",
    "<li><code>'Israel'</code></li>\n",
    "<li><code>Moshe</code></li>\n",
    "<li><code>\".\"</code></li>\n",
    "<li><code>\"_)(*&^%\"</code></li>\n",
    "<li><code>\"_)('*&^%\"</code></li>\n",
    "    <li><code>\"_)(\"*&^%\"</code></li>\n",
    "</ol>"
   ]
  },
  {
   "cell_type": "markdown",
   "metadata": {},
   "source": [
    "<p style=\"text-align: right; direction: rtl; float: right;\">\n",
    "    סמנו בעזרת העכבר את הריבוע השחור (<span style=\"direction: rtl; background: #000; text: #000\">המחרוזות התקינות הן: 1, 2, 4, 7, 9, 10, 11</span>) כדי לראות אילו מן הסעיפים הוא מחרוזת תקינה.\n",
    "</p>\n",
    "<br>\n",
    "<p >\n",
    "    \n",
    "</p>"
   ]
  },
  {
   "cell_type": "markdown",
   "metadata": {},
   "source": [
    "### <p style=\"align: right; direction: rtl; float: right;\">חוברים למחברת</p>"
   ]
  },
  {
   "cell_type": "markdown",
   "metadata": {},
   "source": [
    "<p style=\"text-align: right; direction: rtl; float: right;\">\n",
    "הוסיפו למחברת תא שבו ניתן לכתוב קוד.<br>\n",
    "ניתן לעשות זאת בלחיצה על המשבצת הזו, ואז בלחיצה על <kbd>b</kbd> במקלדת.<br>\n",
    "הלחיצה על <kbd>b</kbd> משמעה \"הוסף אזור קוד <em>מתחת (<strong>b</strong>elow)</em> למשבצת שסימנתי\".<br>\n",
    "כתבו במשבצת קוד לבחירתכם. ודאו שהתא שמכיל את הקוד מסומן, ואז לחצו <kbd>CTRL</kbd> יחד עם <kbd>ENTER</kbd> כדי להריץ אותו.<br>\n",
    "</p>"
   ]
  },
  {
   "cell_type": "markdown",
   "metadata": {},
   "source": [
    "### <p style=\"align: right; direction: rtl; float: right;\">שרה שרה שיר שמח</p>"
   ]
  },
  {
   "cell_type": "markdown",
   "metadata": {},
   "source": [
    "<p style=\"text-align: right; direction: rtl; float: right;\">\n",
    "הדפיסו את הפזמון מהשיר האהוב עליכם!<br>\n",
    "אם צריך, היעזרו בדוגמת ההדפסה שמופיעה בתחילת המחברת.<br>\n",
    "שימו לב שניתן להדפיס יותר משורה אחת על ידי חזרה על <code>print</code> בכמה שורות נפרדות.<br>\n",
    "הוסיפו אזור קוד שבו תוכלו לכתוב את פתרון התרגיל.\n",
    "</p>"
   ]
  },
  {
   "cell_type": "markdown",
   "metadata": {},
   "source": [
    "### <p style=\"align: right; direction: rtl; float: right;\">נגמר הדיו</p>"
   ]
  },
  {
   "cell_type": "markdown",
   "metadata": {},
   "source": [
    "<p style=\"text-align: right; direction: rtl; float: right;\">\n",
    "    בהרצה של קטע הקוד הבא, פייתון תתריע על שגיאה:<br>\n",
    "</p>"
   ]
  },
  {
   "cell_type": "code",
   "execution_count": null,
   "metadata": {},
   "outputs": [],
   "source": [
    "print(My name is Arnio)\n",
    "print \"Success!\"\n",
    "print(\"Or is it?')\n",
    "print(40"
   ]
  },
  {
   "cell_type": "markdown",
   "metadata": {},
   "source": [
    "<p style=\"text-align: right; direction: rtl; float: right;\">\n",
    "הריצו את הקוד, צפו בשגיאה ותקנו את הקוד בהתאם.<br>\n",
    "חזרו על הפעולה עד שהקוד ירוץ במלואו.\n",
    "</p>"
   ]
  }
 ],
 "metadata": {
  "kernelspec": {
   "display_name": "Python 3",
   "language": "python",
   "name": "python3"
  },
  "language_info": {
   "codemirror_mode": {
    "name": "ipython",
    "version": 3
   },
   "file_extension": ".py",
   "mimetype": "text/x-python",
   "name": "python",
   "nbconvert_exporter": "python",
   "pygments_lexer": "ipython3",
   "version": "3.7.4"
  }
 },
 "nbformat": 4,
 "nbformat_minor": 2
}
