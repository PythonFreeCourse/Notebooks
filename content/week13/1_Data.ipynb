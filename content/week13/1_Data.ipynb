{
 "cells": [
  {
   "cell_type": "markdown",
   "metadata": {},
   "source": [
    "<img src=\"images/logo.jpg\" style=\"display: block; margin-left: auto; margin-right: auto;\" alt=\"לוגו של מיזם לימוד הפייתון. נחש מצויר בצבעי צהוב וכחול, הנע בין האותיות של שם הקורס: לומדים פייתון. הסלוגן המופיע מעל לשם הקורס הוא מיזם חינמי ללימוד תכנות בעברית.\">"
   ]
  },
  {
   "cell_type": "markdown",
   "metadata": {},
   "source": [
    "# <span style=\"text-align: right; direction: rtl; float: right;\">עבודה עם מידע</span>"
   ]
  },
  {
   "cell_type": "markdown",
   "metadata": {},
   "source": [
    "## <span style=\"text-align: right; direction: rtl; float: right; clear: both;\">הקדמה</span>"
   ]
  },
  {
   "cell_type": "markdown",
   "metadata": {},
   "source": [
    "<p style=\"text-align: right; direction: rtl; float: right; clear: both;\">\n",
    "    אחת מהמהפיכות המשמעותיות שאנחנו חווים בעידן המודרני היא התפוצצות חסרת תקדים של כמות המידע שנמצא בהישג ידינו.<br>\n",
    "    בזכות המחשוב והכלים המתקדמים שפיתחנו, איסוף נתונים לגבי כמעט כל דבר זה דבר שבשגרה.<br>\n",
    "    המוסכמות לגבי הצורך בשקיפות עבור אותם נתונים תופסים תאוצה, והשימוש בהם והניתוח שלהם עוזר לנו להגיע למסקנות מהר יותר מאי פעם.\n",
    "</p>"
   ]
  },
  {
   "cell_type": "markdown",
   "metadata": {},
   "source": [
    "<p style=\"text-align: right; direction: rtl; float: right; clear: both;\">\n",
    "    גופים רבים מתרגלים לחשוף את הנתונים שלהם לציבור: החל בחברות הגדולות, דרך ארגוני שקיפות וכלה בארגונים ממשלתיים.<br>\n",
    "    אבל מה הם בכלל אותם נתונים, ואת מי הם משמשים?\n",
    "</p>"
   ]
  },
  {
   "cell_type": "markdown",
   "metadata": {},
   "source": [
    "<p style=\"text-align: right; direction: rtl; float: right; clear: both;\">\n",
    "    ניתן דוגמאות לכמה מאגרי נתונים מעניינים:\n",
    "</p>"
   ]
  },
  {
   "cell_type": "markdown",
   "metadata": {},
   "source": [
    "<ul style=\"text-align: right; direction: rtl; float: right; clear: both;\">\n",
    "    <li><em>מידע רפואי</em> – ההיסטוריה הרפואית של כל אדם, או התפלגות אנשים שהתחסנו לשפעת לפי חתכי אוכלוסייה שונים.</li>\n",
    "    <li><em>משתמשים</em> – מידע על משתמשים באתר התרגילים של הקורס, או בשירותים פופולריים כמו Spotify ו־Facebook.</li>\n",
    "    <li><em>מזג אוויר</em> – מה היה המצב המטאורולוגי בכל שעה בשנתיים האחרונות, בכל עיר בירה בעולם?</li>\n",
    "    <li><em>נתוני הלמ\"ס</em> – כל הנתונים של הלשכה המרכזית לסטטיסטיקה, כמו מדד המחירים לצרכן או נתוני ההשכלה הגבוהה בישראל.</li>\n",
    "    <li><em>הדפדפן שלכם</em> – הסיסמאות השמורות, היסטוריית האתרים והטאבים הפתוחים.</li>\n",
    "</ul>"
   ]
  },
  {
   "cell_type": "markdown",
   "metadata": {},
   "source": [
    "<p style=\"text-align: right; direction: rtl; float: right; clear: both;\">\n",
    "נסו לדמיין כמה מסקנות מעניינות מתכנת מנוסה יכול להפיק מבסיסי הנתונים הללו.\n",
    "</p>"
   ]
  },
  {
   "cell_type": "markdown",
   "metadata": {},
   "source": [
    "<p style=\"text-align: right; direction: rtl; float: right; clear: both;\">\n",
    "    וזה לא מסתיים כאן – ההתעסקות בנתונים הפכה להיות ממש ענף שלם!<br>\n",
    "    בעידן המודרני קשה להתחמק מהמושג \"Big Data\" (נְתוּנֵי עָתֵק), שמדבר על מאגרי מידע בלתי נתפסים בגודלם.<br>\n",
    "    אמנם מדעי הנתונים הוא תחום עיסוק עצום שנספיק לגעת רק בקצה־קצהו במסגרת הקורס, אבל הוא בהחלט עשיר ומרתק.<br>\n",
    "    הנה כמה דוגמאות מעניינות לשימושים שלו בעולם כיום:\n",
    "</p>"
   ]
  },
  {
   "cell_type": "markdown",
   "metadata": {},
   "source": [
    "<ul style=\"text-align: right; direction: rtl; float: right; clear: both;\">\n",
    "    <li><em>ביטחון</em> – המחלקה לביטחון המולדת של ארצות הברית משתמשים במאגריה כדי לזהות אנשים מסוכנים בשדות תעופה.<br>\n",
    "        לאחרונה, הם שיחררו חלק מהמידע וביקשו עזרה לשפר את האלגוריתמים שלהם. כחלק מהתחרות, הוצעו פרסים כספיים בשווי מיליון וחצי דולר.</li>\n",
    "    <li><em>מכירות מקוונות</em> – חברות תעופה ורשתות קמעונאות משתמשות בנתונים כדי להתאים מחירים לפי ההיצע והביקוש.</li>\n",
    "    <li><em>מסחר אלגוריתמי מקוון</em> – מסחר מהיר בבורסה באמצעות קוד, ללא התערבות גורם אנושי, על בסיס כמות נתונים גדולה.</li>\n",
    "    <li><em>חברות ביטוח</em> – מתמחרות ביטוחים לפי מודלים מבוססי נתוני עתק שחוזים את הסיכונים של המבוטח.</li>\n",
    "    <li><em>תרבות ופנאי</em> – AlphaGo, לדוגמה, היא בינה מלאכותית שסרקה מיליוני משחקי <a href=\"https://en.wikipedia.org/wiki/Go_(game)\">Go</a> וניצחה את השחקנים הטובים בעולם.</li>\n",
    "    <li><em>רפואה</em> – \n",
    "        בשנים האחרונות מנסים לנצל נתוני עתק כדי לחזות סיבוכים אפשריים למטופל, או לאבחן בדיוק גבוה מחלות שבהן הוא לוקה.<br>\n",
    "</ul>"
   ]
  },
  {
   "cell_type": "markdown",
   "metadata": {},
   "source": [
    "<p style=\"text-align: right; direction: rtl; float: right; clear: both;\">\n",
    "    במסגרת השבוע אמנם לא נעסוק בנתוני עתק, אבל בהחלט נעשה את צעדינו הראשונים בעבודה עם מאגרי מידע.<br>\n",
    "    נלמד לקרוא מידע, לאחסן אותו, ליצור מאגרי מידע בעצמנו ולהפיק ממידע שכזה תועלת.\n",
    "</p>"
   ]
  },
  {
   "cell_type": "markdown",
   "metadata": {},
   "source": [
    "### <span style=\"text-align: right; direction: rtl; float: right; clear: both;\">תרגיל פתיחה: הבר באורנוס</span>"
   ]
  },
  {
   "cell_type": "markdown",
   "metadata": {},
   "source": [
    "<p style=\"text-align: right; direction: rtl; float: right; clear: both;\">\n",
    "חברנו החביב הרשל מנהל בר בכוכב אורנוס המרוחק.<br>\n",
    "                                                 לבר לקוחות רבים, אך לאחרונה האיגוד ההיפר־גלקטי מקשה עליו בניהול המקום עם תקנות משונות.\n",
    "    </p>"
   ]
  },
  {
   "cell_type": "markdown",
   "metadata": {},
   "source": [
    "<p style=\"text-align: right; direction: rtl; float: right; clear: both;\">\n",
    "    משהתרגל למצב, הרשל מנסה להגדיל את רווחיו מהמכירות בבר.<br>\n",
    "    הוא מתכוון לשפר את החשיפה לקהל חדש, ובד בבד גם להדק את התפריט שמוגש ללקוחות.<br>\n",
    "    כמו שאתם ודאי מתארים לעצמכם, להרשל יש מערכת המאגדת את הזמנותיהם של כל לקוחותיו.<br>\n",
    "    המידע מסודר בצורה טבלאית המכילה את זמן ההזמנה מדויק, את המוצר שהוזמן ומחירו במערכת.\n",
    "</p>"
   ]
  },
  {
   "cell_type": "markdown",
   "metadata": {},
   "source": [
    "<p style=\"text-align: right; direction: rtl; float: right; clear: both;\">\n",
    "    השתמשו בקובץ resources/cocktails.csv כדי לענות על השאלות הבאות:<br>\n",
    "</p>"
   ]
  },
  {
   "cell_type": "markdown",
   "metadata": {},
   "source": [
    "<ul style=\"text-align: right; direction: rtl; float: right; clear: both;\">\n",
    "    <li>באילו שעות, בערך, הבר פתוח?</li>\n",
    "    <li>מי הלקוח ששילם הכי הרבה כסף על קוקטיילים?</li>\n",
    "    <li>איזה קוקטייל נמכר הכי הרבה? והכי פחות?</li>\n",
    "</ul>"
   ]
  },
  {
   "cell_type": "markdown",
   "metadata": {},
   "source": [
    "## <span style=\"text-align: right; direction: rtl; float: right; clear: both;\">ארגון נתונים</span>"
   ]
  },
  {
   "cell_type": "markdown",
   "metadata": {},
   "source": [
    "<p style=\"text-align: right; direction: rtl; float: right; clear: both;\">\n",
    "    אחרי שריעננתם קצת את הזיכרון שלכם בפייתון ועבדתם קצת עם נתונים,<br>\n",
    "    ודאי חשתם בסרבול שבהתעסקות עם הנתונים – במיוחד אם לא השתמשתם במודולים חיצוניים.<br>\n",
    "    השגיאות במהלך ניסיון הטיפול בקובץ, הסרבול שבהפרדה לשדות והצורך לכתוב קוד ארוך –<br>\n",
    "    כולם הופכים את ההתעסקות עם מידע מהסוג הזה לפחות כייפי.\n",
    "</p>"
   ]
  },
  {
   "cell_type": "markdown",
   "metadata": {},
   "source": [
    "<p style=\"text-align: right; direction: rtl; float: right; clear: both;\">\n",
    "    עוד לא הכנסנו לתמונה את שאר הבעיות שבעבודה עם קבצים כאלו:\n",
    "</p>"
   ]
  },
  {
   "cell_type": "markdown",
   "metadata": {},
   "source": [
    "<ul style=\"text-align: right; direction: rtl; float: right; clear: both;\">\n",
    "    <li>כתיבה אליהם ממספר מקורות בו זמנית עלולה להרוס אותם.</li>\n",
    "    <li>אם הקובץ גדול מדי – נצטרך למצוא דרך לקרוא אותו בחלקים קטנים, כי פייתון לא תצליח לטעון אותו לזיכרון.</li>\n",
    "    <li>עבור חלק מהפעולות שיפעלו על כמות נתונים גדולה, נצטרך להשקיע זמן רב מאוד בלייעל את התוכניות שלנו.</li>\n",
    "    <li>יהיה מסובך לתת למישהו הרשאה לקרוא רק חלקים מהמידע.</li>\n",
    "    <li>קשה לאכוף תבניות וחוקים שאליהם המידע צריך להתאים, כך שהמידע שמוכנס לקבצים עלול להיות לא תקין.</li>\n",
    "</ul>"
   ]
  },
  {
   "cell_type": "markdown",
   "metadata": {},
   "source": [
    "<p style=\"text-align: right; direction: rtl; float: right; clear: both;\">\n",
    "    למזלנו, בשנות ה־80 נוצרה טכנולוגיה פופולרית שמטרתה לפתור את הבעיות הללו – ועוד בעיות רבות נוספות.<br>\n",
    "    לטכנולוגיה קוראים מסדי נתונים רלציוניים (Relational databases),<br>\n",
    "    והיא טכנולוגיה פופולרית מאוד שעוזרת לנו לאחסן נתונים בצורה טבלאית, לנהל אותם ולשאול עליהם שאלות.<br>\n",
    "    כמה היה נוח לו הייתה להרשל טכנולוגיה שכזו, הא?\n",
    "</p>"
   ]
  },
  {
   "cell_type": "markdown",
   "metadata": {},
   "source": [
    "### <span style=\"text-align: right; direction: rtl; float: right; clear: both;\">איך נראה מסד נתונים?</span>"
   ]
  },
  {
   "cell_type": "markdown",
   "metadata": {},
   "source": [
    "<p style=\"text-align: right; direction: rtl; float: right; clear: both;\">\n",
    "    במקרה של הרשל, היינו כנראה מאחסנים את הנתונים תחת <dfn>טבלה</dfn> שנקראת <var>drinks_sold</var>.<br>\n",
    "    כל <dfn>שורה</dfn> הייתה מייצגת <dfn>ישות</dfn> – אוסף סדור אחד של פריטים, רכישה אחת של משקה.<br>\n",
    "    במקרה שלנו אוסף סדור יחיד מכיל את: מספר ההזמנה, שם המזמין, תאריך ההזמנה, שם המשקה ומחירו. \n",
    "</p>"
   ]
  },
  {
   "cell_type": "markdown",
   "metadata": {},
   "source": [
    "<p style=\"text-align: right; direction: rtl; float: right; clear: both;\">\n",
    "    בשבוע הקרוב אנחנו הולכים להתעסק עם טבלאות שמכילות נתונים שכאלו.<br>\n",
    "    מסד נתונים יורכב מטבלה אחת או יותר, ובכל טבלה שכזו יהיו לנו שורות רבות.<br>\n",
    "    כל שורה מייצגת ישות אחת (פריט אחד) באוסף הנתונים שלנו.\n",
    "</p>"
   ]
  },
  {
   "cell_type": "markdown",
   "metadata": {},
   "source": [
    "<p style=\"text-align: right; direction: rtl; float: right; clear: both;\">\n",
    "     בהקבלה לפייתון, אפשר לדמיין שורה בטבלה כ־tuple:<br>\n",
    "    רצף של כמה נתונים שבאים אחד אחרי השני, שלכל אחד מהם יש טיפוס מסוים וערך מסוים.<br>\n",
    "    אם נרצה לדייק אפילו יותר, נוכל לייצג שורה בטבלה כמילון:<br>\n",
    "    עבור כל עמודה בטבלה יהיה מפתח תואם במילון, ואליו ייכנס הערך שנמצא באותה עמודה. \n",
    "</p>"
   ]
  },
  {
   "cell_type": "markdown",
   "metadata": {},
   "source": [
    "<figure>\n",
    "    <img src=\"images/table1.svg?v=2\" style=\"margin-right: auto; margin-left: auto; text-align: center;\" alt=\"בתמונה טבלה בצבעי ירוק לבן. למעלה שורה מודגשת עם חץ שיוצא אליה, ובו כתוב 'שמות העמודות'. העמודה האחרונה מוקפת בקו מפוספס, ואליה יוצא חץ שכתוב 'עמודה/תכונה'. אל אחת השורות בתוך הטבלה יוצא חץ שכתוב מעליו 'שורה/ישות', וגם היא מוקפת בקו מפוספס.\"/>\n",
    "    <figcaption style=\"margin-top: 2rem; text-align: center; direction: rtl;\">\n",
    "        דוגמה לאחסון נתונים בצורה טבלאית.\n",
    "    </figcaption>\n",
    "</figure>"
   ]
  },
  {
   "cell_type": "markdown",
   "metadata": {},
   "source": [
    "<p style=\"text-align: right; direction: rtl; float: right; clear: both;\">\n",
    "    אחסון השורה הראשונה כ־tuple יראה כך:\n",
    "</p>"
   ]
  },
  {
   "cell_type": "code",
   "execution_count": 89,
   "metadata": {},
   "outputs": [],
   "source": [
    "row1 = (1, \"Ronit Feldman\", datetime.datetime(2019, 11, 9), \"Crazy Earl\", 57)"
   ]
  },
  {
   "cell_type": "markdown",
   "metadata": {},
   "source": [
    "<p style=\"text-align: right; direction: rtl; float: right; clear: both;\">\n",
    "    ומילון שנוצר מהשורה הראשונה יראה כך:\n",
    "</p>"
   ]
  },
  {
   "cell_type": "code",
   "execution_count": 91,
   "metadata": {},
   "outputs": [],
   "source": [
    "row1 = {\n",
    "    \"id\": 1,\n",
    "    \"name\": \"Ronit Feldman\",\n",
    "    \"order_date\": datetime.datetime(2019, 11, 9),\n",
    "    \"drink_name\": \"Crazy Earl\",\n",
    "    \"drink_price\": 57,\n",
    "}"
   ]
  },
  {
   "cell_type": "markdown",
   "metadata": {},
   "source": [
    "<p style=\"text-align: right; direction: rtl; float: right; clear: both;\">\n",
    "    סביר שעד כה דמיינתם את הנתונים כטבלה ב־Excel (או Google Sheets, אנחנו לא שופטים).<br>\n",
    "    נראה שצדקתם! זה באמת דומה מאוד.\n",
    "</p>"
   ]
  },
  {
   "cell_type": "markdown",
   "metadata": {},
   "source": [
    "<p style=\"text-align: right; direction: rtl; float: right; clear: both;\">\n",
    "    אם כן, אוסף של שורות כאלו הוא טבלה, וכמה טבלאות יחדיו יוצרות לנו מסד נתונים של ממש.<br>\n",
    "    נוכל לדמיין טבלה כרשימה של tuple־ים, או כרשימה של מילונים.\n",
    "</p>"
   ]
  },
  {
   "cell_type": "markdown",
   "metadata": {},
   "source": [
    "<div class=\"align-center\" style=\"display: flex; text-align: right; direction: rtl; clear: both;\">\n",
    "    <div style=\"display: flex; width: 10%; float: right; clear: both;\">\n",
    "        <img src=\"images/exercise.svg\" style=\"height: 50px !important;\" alt=\"תרגול\"> \n",
    "    </div>\n",
    "    <div>\n",
    "        <p style=\"text-align: right; direction: rtl; float: right; clear: both;\">\n",
    "            יצגו את טבלת <var>drinks_sold</var> הירוקה שהופיעה למעלה בעזרת מבנה נתונים פייתוני.<br>\n",
    "            השתמשו במילונים לשם כך, ושמרו את מבנה הנתונים שמאגד אותם במשתנה ששמו <var>drinks_sold</var>.\n",
    "        </p>\n",
    "    </div>\n",
    "</div>"
   ]
  },
  {
   "cell_type": "markdown",
   "metadata": {},
   "source": [
    "## <span style=\"text-align: right; direction: rtl; float: right; clear: both;\">שאילתה</span>"
   ]
  },
  {
   "cell_type": "markdown",
   "metadata": {},
   "source": [
    "### <span style=\"text-align: right; direction: rtl; float: right; clear: both;\">המנוע</span>"
   ]
  },
  {
   "cell_type": "markdown",
   "metadata": {},
   "source": [
    "<p style=\"text-align: right; direction: rtl; float: right; clear: both;\">\n",
    "    הרכיב המעניין ביותר בכל מסד נתונים הוא \"<dfn>המנוע</dfn>\", או מערכת הניהול של מסד הנתונים (<abbr title=\"Database Management System\"><dfn>DBMS</dfn></abbr>).<br>\n",
    "    זו התוכנה שעובדת מאחורי הקלעים, ומאפשרת לכם לערוך את המידע במסד הנתונים ולשאול שאלות לגביו.<br>\n",
    "    חברות גדולות משקיעות משאבים רבים כדי לייעל ולשפר את הביצועים של המנועים הללו.<br>\n",
    "    לבינתיים, אנחנו נשתמש במנוע קליל שנקרא SQLite.\n",
    "</p>"
   ]
  },
  {
   "cell_type": "markdown",
   "metadata": {},
   "source": [
    "<p style=\"text-align: right; direction: rtl; float: right; clear: both;\">\n",
    "    אחזור מידע ממסדי הנתונים מתבצע באמצעות ניסוח שאלות בשפה שנקראת <dfn><abbr title=\"Structured Query Language\">SQL</abbr></dfn>.<br>\n",
    "    צעדינו הראשונים יעסקו בשימוש בשפה לצורך תחקור הנתונים הקיימים במסד הנתונים.<br>\n",
    "    בעתיד, נרחיב את יכולותינו כך שנוכל גם לעדכן, להוסיף או למחוק את הנתונים במסד.<br>\n",
    "    פקודת אחזור או שינוי של מידע במסד הנתונים שנכתבה ב־SQL נקראת \"<dfn>שאילתה</dfn>\" (או <dfn>query</dfn>).<br>\n",
    "    במהלך יחידת הלימוד הזו נלמד לנסח שאילתות כדי לאחזר או לשנות מידע, ונריץ אותן בעזרת המנוע של מסד הנתונים.\n",
    "</p>"
   ]
  },
  {
   "cell_type": "markdown",
   "metadata": {},
   "source": [
    "<p style=\"text-align: right; direction: rtl; float: right; clear: both;\">\n",
    "    השאילתות שנלמד לבצע יחזירו מידע, גם הן, בצורה טבלאית.\n",
    "</p>"
   ]
  },
  {
   "cell_type": "markdown",
   "metadata": {},
   "source": [
    "<figure>\n",
    "    <img src=\"images/table_db1.png?v=3\" style=\"width: 750px; margin-right: auto; margin-left: auto; text-align: center;\" alt=\"בתמונה טבלה בצבע לבן. בטבלה העמודות id, full_name, name, admin ו־date_of_birth. בכל שורה מוצג משתמש יחיד ולידו נתונים התואמים את העמודות.\"/>\n",
    "    <figcaption style=\"margin-top: 2rem; text-align: center; direction: rtl;\">\n",
    "        דוגמה לתוצאת שאילתה שהרצנו על מסד הנתונים של פורום הקורס בשביל הדגמה.<br>\n",
    "        בשאילתה ביקשנו לאחזר את מספר המשתמש, השם, הכינוי, מצב הניהול ותאריך יום ההולדת של כל אחד מהמשתמשים בפורום.<br>\n",
    "    </figcaption>\n",
    "</figure>"
   ]
  },
  {
   "cell_type": "markdown",
   "metadata": {},
   "source": [
    "### <span style=\"text-align: right; direction: rtl; float: right; clear: both;\">הממשק</span>"
   ]
  },
  {
   "cell_type": "markdown",
   "metadata": {},
   "source": [
    "<p style=\"text-align: right; direction: rtl; float: right; clear: both;\">\n",
    "    לצורך השבוע, הכנו לכם מסד נתונים פשוט עליו תוכלו להתנסות.<br>\n",
    "    בנינו לכם גם אתר שיאפשר לכם להעלות מסד נתונים ולהריץ עליו שאילתות, בכתובת <a href=\"https://sql.pythonic.guru/\">sql.pythonic.guru</a>.<br>\n",
    "        בהמשך הפרק נעבור להשתמש בתוכנות שיותר מתאימות למשימה הזו.\n",
    "</p>"
   ]
  },
  {
   "cell_type": "markdown",
   "metadata": {},
   "source": [
    "<p style=\"text-align: right; direction: rtl; float: right; clear: both;\">\n",
    "    כדי להתחיל לעבוד, הורידו <a href=\"https://github.com/PythonFreeCourse/downloads/blob/master/imdb.db\">מפה</a> את קובץ מסד הנתונים לדוגמה שיצרנו עבורכם.<br>\n",
    "    היכנסו <a href=\"https://sql.pythonic.guru/\">לאתר</a> והעלו לשם את הקובץ שהורדתם.<br>\n",
    "    זהו מסד הנתונים שעליו נעבוד. הוא מכיל מידע מעניין על סרטים, כולל דירוגים, הצוות שהשתתף ביצירתם וכדומה.<br>\n",
    "    מייד בסיום ההעלאה יפתח לכם חלון שבראשו תיבת טקסט – בעזרתה תעלו את השאילתות שלכם, ובתחתיתו טבלה – בה יופיעו תוצאות השאילתה.\n",
    "</p>"
   ]
  },
  {
   "cell_type": "markdown",
   "metadata": {},
   "source": [
    "## <span style=\"text-align: right; direction: rtl; float: right; clear: both;\">מילת המפתח <code>SELECT</code></span>"
   ]
  },
  {
   "cell_type": "markdown",
   "metadata": {},
   "source": [
    "<p style=\"text-align: right; direction: rtl; float: right; clear: both;\">\n",
    "    נתחיל מלהכניס לתיבת הטקסט שאילתה פשוטה שתציג לנו את שמות כל הסרטים שקיימים <span style=\"border-bottom: 1px dashed\" title=\"המאגר שלנו צומצם לסרטים הפופולריים ביותר כדי שיהיה קל יותר לעבוד איתו.\">במאגר</span>:\n",
    "</p>"
   ]
  },
  {
   "cell_type": "markdown",
   "metadata": {},
   "source": [
    "```sql\n",
    "SELECT title\n",
    "FROM movies;\n",
    "```"
   ]
  },
  {
   "cell_type": "markdown",
   "metadata": {},
   "source": [
    "<p style=\"text-align: right; direction: rtl; float: right; clear: both;\">\n",
    "    כיוון שמאגר הנתונים שלנו גדול במיוחד, הממשק הגרפי ישאל אתכם אם אתם רוצים להציג את כל הנתונים.<br>\n",
    "    בחרו \"לא\" כדי למנוע קריסה של הלשונית.\n",
    "</p>"
   ]
  },
  {
   "cell_type": "markdown",
   "metadata": {},
   "source": [
    "<p style=\"text-align: right; direction: rtl; float: right; clear: both;\">\n",
    "    בשאילתה שתי מילות מפתח: <code>SELECT</code> ו־<code>FROM</code>.<br>\n",
    "    אחרי מילת המפתח <code>FROM</code> נכתוב שם של טבלה שממנה נרצה <dfn>לשלוף</dfn> את הנתונים.<br>\n",
    "    אחרי מילת המפתח <code>SELECT</code> נכתוב את שם העמודה שממנה נרצה לשלוף את הנתונים.<br>\n",
    "    את השאילתה נסיים בנקודה פסיק.\n",
    "</p>"
   ]
  },
  {
   "cell_type": "markdown",
   "metadata": {},
   "source": [
    "<p style=\"text-align: right; direction: rtl; float: right; clear: both;\">\n",
    "    אפשר לתרגם את השאילתה באופן מילולי ל\"בחר את כל הכותרות מתוך הטבלה סרטים\".\n",
    "</p>"
   ]
  },
  {
   "cell_type": "markdown",
   "metadata": {},
   "source": [
    "<p style=\"text-align: right; direction: rtl; float: right; clear: both;\">\n",
    "    נסו להכניס את השאילתה לאתר ולהריץ. מצליחים לזהות סרטים מוכרים?<br>\n",
    "</p>"
   ]
  },
  {
   "cell_type": "markdown",
   "metadata": {},
   "source": [
    "<div class=\"align-center\" style=\"display: flex; text-align: right; direction: rtl;\">\n",
    "    <div style=\"display: flex; width: 10%; float: right; \">\n",
    "        <img src=\"images/tip.png\" style=\"height: 50px !important;\" alt=\"טיפ!\" title=\"טיפ!\">\n",
    "    </div>\n",
    "    <div style=\"width: 90%;\">\n",
    "        ברוב מסדי הנתונים אין משמעות לבחירה באותיות גדולות או קטנות.<br>\n",
    "        מסדי נתונים לרוב גם יתעלמו משבירות שורה (\"אנטרים\") באמצע השאילתה.\n",
    "    </div>\n",
    "</div>"
   ]
  },
  {
   "cell_type": "markdown",
   "metadata": {},
   "source": [
    "<p style=\"text-align: right; direction: rtl; float: right; clear: both;\">\n",
    "    נהוג לכנות את החלק בשאילתה שקשור ל־<code>SELECT</code> בשם \"פסוקית ה־<code>SELECT</code>\" (באנגלית: <code>SELECT</code> clause).<br>\n",
    "    באותה צורה, נהוג לכנות את החלק בשאילתה שקשור ל־<code>FROM</code> בשם \"פסוקית ה־<code>FROM</code>\" (באנגלית: <code>FROM</code> clause).\n",
    "</p>"
   ]
  },
  {
   "cell_type": "markdown",
   "metadata": {},
   "source": [
    "### <span style=\"text-align: right; direction: rtl; float: right; clear: both;\">חקר של מבנה מסדי נתונים</span>"
   ]
  },
  {
   "cell_type": "markdown",
   "metadata": {},
   "source": [
    "<p style=\"text-align: right; direction: rtl; float: right; clear: both;\">\n",
    "    כיצד נדע אילו טבלאות קיימות במסד הנתונים, ואילו עמודות קיימות בכל טבלה?<br>\n",
    "</p>"
   ]
  },
  {
   "cell_type": "markdown",
   "metadata": {},
   "source": [
    "<p style=\"text-align: right; direction: rtl; float: right; clear: both;\">\n",
    "    אם אתם מכירים את שם הטבלה ורוצים לגלות מה העמודות שלה, יש טריק זריז וכייפי.<br>\n",
    "    במקום לבקש פרטים על עמודה מסוימת, אפשר לכתוב אחרי מילת המפתח <code>SELECT</code> את הסימן <code>*</code>.<br>\n",
    "    הסימן הזה יגיד למסד הנתונים שאנחנו רוצים לאחזר את כל העמודות בטבלה.\n",
    "</p>"
   ]
  },
  {
   "cell_type": "markdown",
   "metadata": {},
   "source": [
    "<p style=\"text-align: right; direction: rtl; float: right; clear: both;\">\n",
    "    נסו אצלכם!\n",
    "</p>"
   ]
  },
  {
   "cell_type": "markdown",
   "metadata": {},
   "source": [
    "```sql\n",
    "SELECT *\n",
    "FROM movies;\n",
    "```"
   ]
  },
  {
   "cell_type": "markdown",
   "metadata": {},
   "source": [
    "<div class=\"align-center\" style=\"display: flex; text-align: right; direction: rtl; clear: both;\">\n",
    "    <div style=\"display: flex; width: 10%; float: right; clear: both;\">\n",
    "        <img src=\"images/exercise.svg\" style=\"height: 50px !important;\" alt=\"תרגול\"> \n",
    "    </div>\n",
    "    <div>\n",
    "        <p style=\"text-align: right; direction: rtl; float: right; clear: both;\">\n",
    "            מה שמות העמודות בטבלה <var>principals</var>?\n",
    "        </p>\n",
    "    </div>\n",
    "</div>"
   ]
  },
  {
   "cell_type": "markdown",
   "metadata": {},
   "source": [
    "<p style=\"text-align: right; direction: rtl; float: right; clear: both;\">\n",
    "אבל מה אם אנחנו לא יודעים אילו טבלאות יש לנו במסד הנתונים?<br>\n",
    "    עומדות בפנינו עוד כמה אפשרויות:\n",
    "</p>\n",
    "\n",
    "<ul style=\"text-align: right; direction: rtl; float: right; clear: both;\">\n",
    "    <li>אם ישנו תיעוד מפורט במקור שממנו השגתם את מסד הנתונים – זו ודאי האפשרות העדיפה.</li>\n",
    "    <li>ברוב התוכנות שמאפשרות לעבוד מול מסדי נתונים, ישנה אפשרות להציג את שמות הטבלאות ואת שמות העמודות השייכות להן.</li>\n",
    "    <li>בכל מנוע אפשר לנסח שאילתה שתחזיר את שמות הטבלאות והעמודות. תוכלו למצוא את השאילתה הזו בגוגל.</li>\n",
    "</ul>"
   ]
  },
  {
   "cell_type": "markdown",
   "metadata": {},
   "source": [
    "<div class=\"align-center\" style=\"display: flex; text-align: right; direction: rtl;\">\n",
    "    <div style=\"display: flex; width: 10%; float: right; \">\n",
    "        <img src=\"images/warning.png\" style=\"height: 50px !important;\" alt=\"אזהרה!\"> \n",
    "    </div>\n",
    "    <div style=\"width: 90%\">\n",
    "        <p style=\"text-align: right; direction: rtl;\">\n",
    "            לפעמים יופיעו באינטרנט בדוגמאות לשאילתות SQL שנראות מעט שונה ממה שתלמדו פה.<br>\n",
    "            השוני נובע מכך שמנועים שונים של מסדי נתונים משתמשים לפעמים בתחביר מעט שונה של SQL,<br>\n",
    "            אבל בשורה התחתונה – זו אותה הגברת בשינוי אדרת.\n",
    "        </p>\n",
    "    </div>\n",
    "</div>"
   ]
  },
  {
   "cell_type": "markdown",
   "metadata": {},
   "source": [
    "### <span style=\"text-align: right; direction: rtl; float: right; clear: both;\">מבנה מסד הנתונים שלנו</span>"
   ]
  },
  {
   "cell_type": "markdown",
   "metadata": {},
   "source": [
    "<p style=\"text-align: right; direction: rtl; float: right; clear: both;\">\n",
    "    זה הזמן להציג לכם כיצד נראה מסד הנתונים שיצרנו עבורכם!<br>\n",
    "    זה הולך להיראות קצת מוגזם בהתחלה, אבל אין צורך להיבהל. נסביר כל דבר כשיגיע הזמן הנכון.\n",
    "</p>"
   ]
  },
  {
   "cell_type": "markdown",
   "metadata": {},
   "source": [
    "<figure>\n",
    "    <img src=\"images/schema_diagram.png?v=2\" style=\"width: 800px; margin-right: auto; margin-left: auto; text-align: center;\" alt=\"בתמונה קופסאות שראשיהן צבועים בצבעים שונים. לכל קופסה צבע, כותרת ותוכן. הכותרת מתארת את שם הטבלה במסד הנתונים, והתוכן של הקופסה מורכב משורות – כל שורה מתארת עמודה שקיימת באותה טבלה. בין הקופסאות עוברים קווים המחברים בין עמודה בטבלה אחת לעמודה בטבלה אחרת. כל קו כזה מתאר קשר בין שתי עמודות. ליד חלק מהעמודות יש ציור של מפתח, שמסמל עמודה כעמודה ראשית בטבלה (מפתח ראשי). בכל טבלה לכל היותר סימן אחד של מפתח. ליד כל עמודה גם כתוב הטיפוס שלה – סוג הערכים שהיא יודעת להכיל.\"/>\n",
    "    <figcaption style=\"margin-top: 2rem; text-align: center; direction: rtl;\">\n",
    "        תרשים שמציג את כל הטבלאות והעמודות במסד הנתונים, כולל את הקשרים ביניהם.<br>\n",
    "        המינוח המקצועי לתרשים שכזה הוא \"תרשים ישויות קשרים\" (באנגלית: <abbr title=\"Entity-relationship diagram\">ERD</abbr>).\n",
    "    </figcaption>\n",
    "</figure>"
   ]
  },
  {
   "cell_type": "markdown",
   "metadata": {},
   "source": [
    "<div class=\"align-center\" style=\"display: flex; text-align: right; direction: rtl; clear: both;\">\n",
    "    <div style=\"display: flex; width: 10%; float: right; clear: both;\">\n",
    "        <img src=\"images/exercise.svg\" style=\"height: 50px !important;\" alt=\"תרגול\"> \n",
    "    </div>\n",
    "    <div>\n",
    "        <p style=\"text-align: right; direction: rtl; float: right; clear: both;\">\n",
    "            קחו את הזמן לחקור קצת את מסד הנתונים באמצעות <code>SELECT</code> ו־<code>FROM</code>.<br>\n",
    "        </p>\n",
    "    </div>\n",
    "</div>"
   ]
  },
  {
   "cell_type": "markdown",
   "metadata": {},
   "source": [
    "### <span style=\"text-align: right; direction: rtl; float: right; clear: both;\">עוד קצת על <code>SELECT</code></span>"
   ]
  },
  {
   "cell_type": "markdown",
   "metadata": {},
   "source": [
    "<p style=\"text-align: right; direction: rtl; float: right; clear: both;\">\n",
    "    אולי גיליתם כבר בעצמכם שאפשר לאחזר כמה עמודות מטבלה כלשהי במכה.<br>\n",
    "    נכתוב שאילתה שתחזיר לנו שתי עמודות מטבלת <var>movies</var>: את <var>id</var> ואת <var>title</var>.<br>\n",
    "    כדי לעשות זאת נפריד בין שמות העמודות באמצעות פסיק:\n",
    "</p>"
   ]
  },
  {
   "cell_type": "markdown",
   "metadata": {},
   "source": [
    "```sql\n",
    "SELECT id, title\n",
    "FROM movies;\n",
    "```"
   ]
  },
  {
   "cell_type": "markdown",
   "metadata": {},
   "source": [
    "<p style=\"text-align: right; direction: rtl; float: right; clear: both;\">\n",
    "    נוסיף שאפשר גם לשנות את שמן של עמודות ששלפתם עליהן, בעזרת מילת המפתח <code>AS</code>.<br>\n",
    "    מייד אחרי העמודה שאת שמה אתם רוצים לשנות, הוסיפו את מילת המפתח <code>AS</code>,<br>\n",
    "    ואחריה כתבו את השם החדש שתרצו לתת לעמודה:\n",
    "</p>"
   ]
  },
  {
   "cell_type": "markdown",
   "metadata": {},
   "source": [
    "```sql\n",
    "SELECT id AS imdb_id, title AS english_name\n",
    "FROM movies;\n",
    "```"
   ]
  },
  {
   "cell_type": "markdown",
   "metadata": {},
   "source": [
    "<p style=\"text-align: right; direction: rtl; float: right; clear: both;\">\n",
    "    בדוגמה שלמעלה השתמשנו במילת המפתח <code>AS</code>.<br>\n",
    "    בעזרתה, הצגנו את העמודה <var>id</var> שבטבלת <var>movies</var> תחת השם החדש <var>imdb_id</var>.<br>\n",
    "    את <var>title</var> מאותה טבלה הצגנו תחת השם החדש <var>english_name</var>.<br>\n",
    "    יכולנו גם לבחור לתת רק לאחת מהעמודות שם חדש, או, כפי שעשינו קודם, לבחור לשלוף אותן בשמן המקורי.\n",
    "</p>"
   ]
  },
  {
   "cell_type": "markdown",
   "metadata": {},
   "source": [
    "<div class=\"align-center\" style=\"display: flex; text-align: right; direction: rtl;\">\n",
    "    <div style=\"display: flex; width: 10%; float: right; \">\n",
    "        <img src=\"images/warning.png\" style=\"height: 50px !important;\" alt=\"אזהרה!\"> \n",
    "    </div>\n",
    "    <div style=\"width: 90%\">\n",
    "        <p style=\"text-align: right; direction: rtl;\">\n",
    "            שאילתות <code>SELECT</code> ככלל לא משנות מידע במסד הנתונים עצמו.<br>\n",
    "            הן רק מחזירות פלט לפי השאילתה שהעברתם למסד הנתונים.\n",
    "        </p>\n",
    "    </div>\n",
    "</div>"
   ]
  },
  {
   "cell_type": "markdown",
   "metadata": {},
   "source": [
    "<div class=\"align-center\" style=\"display: flex; text-align: right; direction: rtl;\">\n",
    "    <div style=\"display: flex; width: 10%; float: right; \">\n",
    "        <img src=\"images/tip.png\" style=\"height: 50px !important;\" alt=\"טיפ!\" title=\"טיפ!\">\n",
    "    </div>\n",
    "    <div style=\"width: 90%;\">\n",
    "        נסו לשמור על שמות העמודות שלכם ידידותיות כמה שאפשר.<br>\n",
    "        הימנעו משמות עמודות עם רווחים, מילים שמורות (כמו <code>SELECT</code>), תווים מיוחדים או מילים בעברית שמתועתקות לאנגלית.<br>\n",
    "        ודאו תמיד שבחרתם שם מוצלח – גם אם מסד הנתונים לא התריע על שגיאה.\n",
    "    </div>\n",
    "</div>"
   ]
  },
  {
   "cell_type": "markdown",
   "metadata": {},
   "source": [
    "### <span style=\"text-align: right; direction: rtl; float: right; clear: both;\">שמים גבול</span>"
   ]
  },
  {
   "cell_type": "markdown",
   "metadata": {},
   "source": [
    "<p style=\"text-align: right; direction: rtl; float: right; clear: both;\">\n",
    "    שליפה של נתונים רבים מדי עלולה להיות בעוכרינו.<br>\n",
    "    היא דורשת ממסד הנתונים לבצע פעולות מיותרות שלוקחות זמן,<br>\n",
    "    והעברת הנתונים באינטרנט ככל הנראה תאט מאוד את המהירות שבה נוכל לראות את תוצאות השאילתה.\n",
    "</p>"
   ]
  },
  {
   "cell_type": "markdown",
   "metadata": {},
   "source": [
    "<p style=\"text-align: right; direction: rtl; float: right; clear: both;\">\n",
    "    לשם כך באה לעזרתינו מילת המפתח <code>LIMIT</code>.<br>\n",
    "    היא מאפשרת לנו להגיד כמה רשומות נרצה לאחזר בעזרת השאילתה שכתבנו.<br>\n",
    "    המילה הזו תבוא בסוף השאילתה, ואחריה נציין את מספר הרשומות המירבי שנרצה לאחזר.\n",
    "</p>"
   ]
  },
  {
   "cell_type": "markdown",
   "metadata": {},
   "source": [
    "<p style=\"text-align: right; direction: rtl; float: right; clear: both;\">\n",
    "    ננסה, לדוגמה, לשלוף מטבלת <var>movies</var> רק 100 סרטים:\n",
    "</p>"
   ]
  },
  {
   "cell_type": "markdown",
   "metadata": {},
   "source": [
    "```sql\n",
    "SELECT *\n",
    "FROM movies\n",
    "LIMIT 100;\n",
    "```"
   ]
  },
  {
   "cell_type": "markdown",
   "metadata": {},
   "source": [
    "<p style=\"text-align: right; direction: rtl; float: right; clear: both;\">\n",
    "    תוכלו להיווכח בעצמכם בשינוי המשמעותי במהירות שבה התוצאות חוזרות.<br>\n",
    "</p>"
   ]
  },
  {
   "cell_type": "markdown",
   "metadata": {},
   "source": [
    "<p style=\"text-align: right; direction: rtl; float: right; clear: both;\">\n",
    "    בחלק מהניבים השונים של SQL, אתם תראו שאנשים משתמשים במילה <code>TOP</code> במקום במילה <code>LIMIT</code>.<br>\n",
    "    זו אותה הגברת בשינוי אדרת.\n",
    "</p>"
   ]
  },
  {
   "cell_type": "markdown",
   "metadata": {},
   "source": [
    "<div class=\"align-center\" style=\"display: flex; text-align: right; direction: rtl;\">\n",
    "    <div style=\"display: flex; width: 10%; float: right; \">\n",
    "        <img src=\"images/warning.png\" style=\"height: 50px !important;\" alt=\"אזהרה!\"> \n",
    "    </div>\n",
    "    <div style=\"width: 90%\">\n",
    "        <p style=\"text-align: right; direction: rtl;\">\n",
    "            מילת המפתח <code>LIMIT</code> לא תחזיר בהכרח את אותן רשומות בכל פעם.\n",
    "        </p>\n",
    "    </div>\n",
    "</div>"
   ]
  },
  {
   "cell_type": "markdown",
   "metadata": {},
   "source": [
    "### <span style=\"text-align: right; direction: rtl; float: right; clear: both;\">תרגיל ביניים: איך כוכב אחד מעז</span>"
   ]
  },
  {
   "cell_type": "markdown",
   "metadata": {},
   "source": [
    "<p style=\"text-align: right; direction: rtl; float: right; clear: both;\">\n",
    "    כתבו שאילתה שמציגה 100 אנשי מפתח מטבלת <var>principals</var>.<br>\n",
    "    השאילתה תציג את כל העמודות בטבלה.<br>\n",
    "    כתבו את השאילתה כך שבתוצאות העמודה <var>characters</var> תופיע בשם <var>personas</var>.\n",
    "</p>"
   ]
  },
  {
   "cell_type": "markdown",
   "metadata": {},
   "source": [
    "<p style=\"text-align: right; direction: rtl; float: right; clear: both;\">\n",
    "    נסו לפתור את התרגיל בלי להציץ בתיעוד שסיפקנו למעלה.<br>\n",
    "</p>"
   ]
  },
  {
   "cell_type": "markdown",
   "metadata": {},
   "source": [
    "### <span style=\"text-align: right; direction: rtl; float: right; clear: both;\">עמודה מלאכותית</span>"
   ]
  },
  {
   "cell_type": "markdown",
   "metadata": {},
   "source": [
    "<p style=\"text-align: right; direction: rtl; float: right; clear: both;\">\n",
    "    אפשר יחסית בקלות ליצור עמודה נוספת שתופיע כחלק מתוצאות השאילתה שלנו.<br>\n",
    "    דוגמה די מטופשת תהיה, לדוגמה, להוסיף לצד כל העמודות של סרט מסוים עמודה שבה תמיד מופיעה הספרה 1.\n",
    "</p>"
   ]
  },
  {
   "cell_type": "markdown",
   "metadata": {},
   "source": [
    "```sql\n",
    "SELECT *, 1\n",
    "FROM movies;\n",
    "```"
   ]
  },
  {
   "cell_type": "markdown",
   "metadata": {},
   "source": [
    "<p style=\"text-align: right; direction: rtl; float: right; clear: both;\">\n",
    "    העמודה הזו תקרא כברירת מחדל \"1\", אבל כמו שלמדנו קודם, נוכל לתת לעמודה הזו שם:\n",
    "</p>"
   ]
  },
  {
   "cell_type": "markdown",
   "metadata": {},
   "source": [
    "```sql\n",
    "SELECT *, 1 AS is_movie\n",
    "FROM movies;\n",
    "```"
   ]
  },
  {
   "cell_type": "markdown",
   "metadata": {},
   "source": [
    "<p style=\"text-align: right; direction: rtl; float: right; clear: both;\">\n",
    "    הדוגמה הזו אולי לא מחוכמת במיוחד, אבל היא הקדמה טובה להרבה דברים מעניינים שאפשר לעשות.<br>\n",
    "    יצירת עמודה חדשה מאפשרת לנו גמישות בהצגת הפלט מהשאילתה שלנו.\n",
    "</p>"
   ]
  },
  {
   "cell_type": "markdown",
   "metadata": {},
   "source": [
    "<p style=\"text-align: right; direction: rtl; float: right; clear: both;\">\n",
    "    ננסה להריץ ביטוי מעט יותר מורכב:\n",
    "</p>"
   ]
  },
  {
   "cell_type": "markdown",
   "metadata": {},
   "source": [
    "```sql\n",
    "SELECT *, 17 + 5 * 5 AS universal_answer\n",
    "FROM movies;\n",
    "```"
   ]
  },
  {
   "cell_type": "markdown",
   "metadata": {},
   "source": [
    "<p style=\"text-align: right; direction: rtl; float: right; clear: both;\">\n",
    "    ונראה שמסד הנתונים יודע להתמודד גם עם ביטויים אריתמטיים.\n",
    "</p>"
   ]
  },
  {
   "cell_type": "markdown",
   "metadata": {},
   "source": [
    "<p style=\"text-align: right; direction: rtl; float: right; clear: both;\">\n",
    "    עד כה המשחקים הללו נראים נחמדים, אבל לא באמת מועילים.<br>\n",
    "    הכיף האמיתי מתחיל כשאנחנו גוזרים את העמודה המלאכותית החדשה שלנו מתוך נתונים קיימים.\n",
    "</p>"
   ]
  },
  {
   "cell_type": "markdown",
   "metadata": {},
   "source": [
    "<p style=\"text-align: right; direction: rtl; float: right; clear: both;\">\n",
    "    לדוגמה, בטבלה <var>movies</var> קיימת העמודה <var>duration</var>.<br>\n",
    "    כיצד הייתם יוצרים עמודה נוספת בשם <var>duration_in_hours</var> שבה נראה כמה שעות (ולא דקות) אורך הסרט?<br>\n",
    "    נסו להשיג את התוצאה בעצמכם, התשובה נמצאת בתא שפה למטה.<br>\n",
    "    הפתרון לאו דווקא מובן מאליו, ודורש מעט אינטואיציה טכנולוגית.\n",
    "</p>"
   ]
  },
  {
   "cell_type": "markdown",
   "metadata": {},
   "source": [
    "<p style=\"text-align: right; direction: rtl; float: right; clear: both;\">\n",
    "    כך אנחנו עשינו זאת:\n",
    "</p>"
   ]
  },
  {
   "cell_type": "markdown",
   "metadata": {},
   "source": [
    "```sql\n",
    "SELECT *, duration / 60.0 AS duration_in_hours\n",
    "FROM movies;\n",
    "```"
   ]
  },
  {
   "cell_type": "markdown",
   "metadata": {},
   "source": [
    "<p style=\"text-align: right; direction: rtl; float: right; clear: both;\">\n",
    "    בתא שלמעלה השתמשנו בעמודה <var>duration</var>.<br>\n",
    "    חילקנו את ערכה ב־60 וקראנו לערך שנוצר <var>duration_in_hours</var>.<br>\n",
    "    מסד הנתונים לקח בכל שורה את הערך שבעמודה <var>duration</var>, חילק אותו ב־60 והוסיף אותו כעמודה בשם שבחרנו.\n",
    "</p>"
   ]
  },
  {
   "cell_type": "markdown",
   "metadata": {},
   "source": [
    "<p style=\"text-align: right; direction: rtl; float: right; clear: both;\">\n",
    "    כל פעם שאנחנו מכניסים ביטוי כשדה חדש ב־<code>SELECT</code>,<br>\n",
    "    נוכל לדמיין שמסד הנתונים עובר שורה שורה ומחשב את הביטוי עבור השורה המסוימת הזו –<br>\n",
    "    ממש כמו בלולאה בפייתון!\n",
    "</p>"
   ]
  },
  {
   "cell_type": "markdown",
   "metadata": {},
   "source": [
    "<p style=\"text-align: right; direction: rtl; float: right; clear: both;\">\n",
    "    עד כה התייחסנו לעמודות חדשות שבחרנו להוסיף בפסוקית ה־<code>SELECT</code>, בשם \"עמודות מלאכותיות\".<br>\n",
    "    השם שלהן בעגה המקצועית הוא \"<dfn>עמודות מחושבות</dfn>\" (<dfn>Computed columns</dfn>).\n",
    "</p>"
   ]
  },
  {
   "cell_type": "markdown",
   "metadata": {},
   "source": [
    "## <span style=\"text-align: right; direction: rtl; float: right; clear: both;\">מילת המפתח <code>WHERE</code></span>"
   ]
  },
  {
   "cell_type": "markdown",
   "metadata": {},
   "source": [
    "<p style=\"text-align: right; direction: rtl; float: right; clear: both;\">\n",
    "    צורך בסיסי בעבודה עם כמות גדולה של נתונים הוא להתמקד באוסף נתונים שרלוונטי למשימה שלנו.<br>\n",
    "    לכן, נצטרך הרבה פעמים כלי שעוזר לנו לקבל רק שורות שעונות על תנאי מסוים.\n",
    "</p>"
   ]
  },
  {
   "cell_type": "markdown",
   "metadata": {},
   "source": [
    "<ul style=\"text-align: right; direction: rtl; float: right; clear: both;\">\n",
    "    <li>באתר של ביקורת מסעדות, יתכן שנרצה להציג רק ביקורות מהשנה האחרונה.</li>\n",
    "    <li>כשנתחיל להקליד כתובת של אתר בשורת הכתובות בדפדפן, יוצגו לי רק הצעות לכתובות שמתחילות בתווים שהקלדתי.</li>\n",
    "    <li>בפרופיל המשתמש שלי ב־Facebook, יוצגו לי רק תמונות שקשורות אליי.</li>\n",
    "    <li>באתר של צפייה בכוכבים, כדי לא להעמיס על הממשק, יוצגו רק כוכבים שמרחקם 2 שעות ו־36 דקות אור מאיתנו.</li>\n",
    "</ul>"
   ]
  },
  {
   "cell_type": "markdown",
   "metadata": {},
   "source": [
    "<p style=\"text-align: right; direction: rtl; float: right; clear: both;\">\n",
    "    במקרים כאלו, מילת המפתח <code>WHERE</code> יכולה לעזור לנו מאוד.\n",
    "</p>"
   ]
  },
  {
   "cell_type": "markdown",
   "metadata": {},
   "source": [
    "<p style=\"text-align: right; direction: rtl; float: right; clear: both;\">\n",
    "    נתחיל בשליפת כל העמודות של טבלת האנשים המפורסמים במסד הנתונים שלנו.<br>\n",
    "    נסו בעצמכם – הרשומות אודות אותם אנשים נמצאות תחת הטבלה <var>names</var>.\n",
    "</p>"
   ]
  },
  {
   "cell_type": "markdown",
   "metadata": {},
   "source": [
    "<p style=\"text-align: right; direction: rtl; float: right; clear: both;\">\n",
    "    בשלב הזה אתם אמורים להרגיש בנוח עם השליפה הזו:\n",
    "</p>"
   ]
  },
  {
   "cell_type": "markdown",
   "metadata": {},
   "source": [
    "```sql\n",
    "SELECT *\n",
    "FROM names;\n",
    "```"
   ]
  },
  {
   "cell_type": "markdown",
   "metadata": {},
   "source": [
    "<p style=\"text-align: right; direction: rtl; float: right; clear: both;\">\n",
    "    נניח שאנחנו מעוניינים לקבל את כל האושיות שגבוהם גדול מ־2 מטר.<br>\n",
    "    נוכל להשתמש במילת המפתח <code>WHERE</code> כדי לבצע את הסינון הזה:\n",
    "</p>"
   ]
  },
  {
   "cell_type": "markdown",
   "metadata": {},
   "source": [
    "```sql\n",
    "SELECT *\n",
    "FROM names\n",
    "WHERE height >= 200;\n",
    "```"
   ]
  },
  {
   "cell_type": "markdown",
   "metadata": {},
   "source": [
    "<p style=\"text-align: right; direction: rtl; float: right; clear: both;\">\n",
    "    בתא האחרון הוספנו את פסוקית ה־<code>WHERE</code> לסוף השאילתה.<br>\n",
    "    הפסוקית הזו מאפשרת לנו לסנן את הנתונים לפי תנאי שיכתב בה.<br>\n",
    "    לדוגמה, אנחנו ביקשנו להחזיר רק שורות שבהן הערך שמופיע בעמודה <var>height</var> יהיה לפחות 200.\n",
    "</p>"
   ]
  },
  {
   "cell_type": "markdown",
   "metadata": {},
   "source": [
    "<p style=\"text-align: right; direction: rtl; float: right; clear: both;\">\n",
    "    אפשר לנסח את השאילתה הזו במילים:<br>\n",
    "    בחר (<code>SELECT</code>) את כל העמודות, מתוך (<code>FROM</code>) הטבלה <var>names</var>, שבהן (<code>WHERE</code>) ערך העמודה <var>height</var> גדול או שווה ל־<var>200</var>.\n",
    "</p>"
   ]
  },
  {
   "cell_type": "markdown",
   "metadata": {},
   "source": [
    "<p style=\"text-align: right; direction: rtl; float: right; clear: both;\">\n",
    "    כמו שאתם יכולים לנחש, סימני השיוויון שאתם מכירים מפייתון תופסים כאן: <code dir=\"ltr\" style=\"direction: ltr;\"><=</code>, <code dir=\"ltr\" style=\"direction: ltr;\"><</code>, <code dir=\"ltr\" style=\"direction: ltr;\">></code> ו־<code dir=\"ltr\" style=\"direction: ltr;\">>=</code>.<br>\n",
    "    היוצאים מן הכלל הם הסימן <code>=</code> שמחליף את הסימן <code>==</code>, והסימן <code><></code> שלרוב מופיע במקום <code dir=\"ltr\" style=\"direction: ltr;\">!=</code>.<br>\n",
    "     שימוש בסימן <code>==</code> ממש לא חוקי ויזרוק לכם שגיאה, ולעומתו הסימן <code dir=\"ltr\" style=\"direction: ltr;\">!=</code> אומץ ברוב הניבים של SQL ויעבוד לכם כמעט תמיד.\n",
    "</p>"
   ]
  },
  {
   "cell_type": "markdown",
   "metadata": {},
   "source": [
    "<div class=\"align-center\" style=\"display: flex; text-align: right; direction: rtl;\">\n",
    "    <div style=\"display: flex; width: 10%; float: right; \">\n",
    "        <img src=\"images/warning.png\" style=\"height: 50px !important;\" alt=\"אזהרה!\"> \n",
    "    </div>\n",
    "    <div style=\"width: 90%\">\n",
    "        <p style=\"text-align: right; direction: rtl;\">\n",
    "            SQL, כמו פייתון, רגישה לאותיות גדולות וקטנות כשמבקשים ממנה להשוות בין מחרוזות.<br>\n",
    "            בניגוד לפייתון, אפשר להשתמש רק בגרש (<code>'</code>) כדי לבנות מחרוזת. גרשיים (<code>\"</code>) יקיפו שם של טבלה או עמודה.\n",
    "        </p>\n",
    "    </div>\n",
    "</div>"
   ]
  },
  {
   "cell_type": "markdown",
   "metadata": {},
   "source": [
    "<div class=\"align-center\" style=\"display: flex; text-align: right; direction: rtl; clear: both;\">\n",
    "    <div style=\"display: flex; width: 10%; float: right; clear: both;\">\n",
    "        <img src=\"images/exercise.svg\" style=\"height: 50px !important;\" alt=\"תרגול\"> \n",
    "    </div>\n",
    "    <div>\n",
    "        <p style=\"text-align: right; direction: rtl; float: right; clear: both;\">\n",
    "            בשנת 1994 יצא סרט דרמה אפי הונגרי מצליח בשם \"הטנגו של השטן\" (Sátántangó).<br>\n",
    "            מה אורכו של הסרט?\n",
    "        </p>\n",
    "    </div>\n",
    "</div>"
   ]
  },
  {
   "cell_type": "markdown",
   "metadata": {},
   "source": [
    "### <span style=\"text-align: right; direction: rtl; float: right; clear: both;\">סדר הרצת פסוקיות</span>"
   ]
  },
  {
   "cell_type": "markdown",
   "metadata": {},
   "source": [
    "<p style=\"text-align: right; direction: rtl; float: right; clear: both;\">\n",
    "    מעניין לדעת שמנוע ה־SQL לא מריץ את הפסוקיות בסדר שבו הן כתובות בשאילתה.\n",
    "</p>"
   ]
  },
  {
   "cell_type": "markdown",
   "metadata": {},
   "source": [
    "<p style=\"text-align: right; direction: rtl; float: right; clear: both;\">\n",
    "    ננתח את סדר הרצת הפסוקיות בשאילתה הפשוטה הבאה:\n",
    "</p>"
   ]
  },
  {
   "cell_type": "markdown",
   "metadata": {},
   "source": [
    "```sql\n",
    "SELECT *\n",
    "FROM names\n",
    "WHERE height >= 200\n",
    "LIMIT 10;\n",
    "```"
   ]
  },
  {
   "cell_type": "markdown",
   "metadata": {},
   "source": [
    "<p style=\"text-align: right; direction: rtl; float: right; clear: both;\">\n",
    "    המנוע קודם יגש לטבלה ממנה הוא רוצה לשלוף (<var>names</var>), אותה ציינו בפסוקית ה־<code>FROM</code>.<br>\n",
    "    משם הוא קודם כל יברור את הנתונים לפי התנאי (<code>height >= 200</code>) שסיפקתם לו בפסוקית ה־<code>WHERE</code>,<br>\n",
    "    לאחר מכן הוא יבחר את כל העמודות הרלוונטיות להצגה (<code>*</code>), שמופיעות בפסוקית ה־<code>SELECT,</code><br>\n",
    "    ולבסוף הוא יחזיר רק את כמות התוצאות שכתובה ב־<code>LIMIT</code> (במקרה שלנו – <code>10</code>).\n",
    "</p>"
   ]
  },
  {
   "cell_type": "markdown",
   "metadata": {},
   "source": [
    "<figure>\n",
    "    <img src=\"images/clause-execution-order.svg?v=1\" style=\"margin-right: auto; margin-left: auto; text-align: center;\" alt=\"בתמונה: שאילתה שבנויה מ־4 פסוקיות: SELECT, FROM, WHERE ו־LIMIT. משמאל למילה FROM מופיע עיגול עם הספרה 1, משמאל למילה WHERE מופיע עיגול עם הספרה 2, משמאל למילה SELECT מופיע עיגול עם הספרה 3 ומשמאל ל־LIMIT מופיע עיגול עם המילה 4.\"/>\n",
    "    <figcaption style=\"margin-top: 2rem; text-align: center; direction: rtl;\">\n",
    "        איור שממחיש את סדר הרצת הפסוקיות בשאילתת SQL שמבצע מנוע ה־SQL על מסד הנתונים.\n",
    "    </figcaption>\n",
    "</figure>"
   ]
  },
  {
   "cell_type": "markdown",
   "metadata": {},
   "source": [
    "<p style=\"text-align: right; direction: rtl; float: right; clear: both;\">\n",
    "    חלק ממנועי ה־SQL יתריעו על שגיאה כשתנסו להריץ שאילתה שלא תואמת את הסדר הזה.<br>\n",
    "    לדוגמה, כמעט כל מנוע שהוא לא SQLite (המנוע בו אנחנו משתמשים כרגע) יתריע על שגיאה בשאילתה הבאה:\n",
    "</p>"
   ]
  },
  {
   "cell_type": "markdown",
   "metadata": {},
   "source": [
    "```sql\n",
    "SELECT height / 100 AS meters\n",
    "FROM names\n",
    "WHERE meters >= 2\n",
    "LIMIT 10;\n",
    "```"
   ]
  },
  {
   "cell_type": "markdown",
   "metadata": {},
   "source": [
    "<p style=\"text-align: right; direction: rtl; float: right; clear: both;\">\n",
    "    כשמנוע ה־SQL מגיע לפסוקית ה־<code>WHERE</code>, הוא טרם הריץ את פסוקית ה־<code>SELECT</code>.<br>\n",
    "    לכן הוא לא מכיר את העמודה המחושבת <var>meters</var>, ותיזרק לכם שגיאה.<br>\n",
    "    SQLite <a href=\"https://stackoverflow.com/a/64642240/1058671\">פותר</a> את הבעיה הזו בכך שמאחורי הקלעים הוא מעתיק את הביטויים בעמודות מחושבות לתוך פסוקית ה־<code>WHERE</code>.\n",
    "</p>"
   ]
  },
  {
   "cell_type": "markdown",
   "metadata": {},
   "source": [
    "### <span style=\"text-align: right; direction: rtl; float: right; clear: both;\">אופרטורים לוגיים</span>"
   ]
  },
  {
   "cell_type": "markdown",
   "metadata": {},
   "source": [
    "<p style=\"text-align: right; direction: rtl; float: right; clear: both;\">\n",
    "    ודאי לא יפתיע אתכם שאופרטורים לוגיים קיימים גם ב־SQL –<br>\n",
    "    מדובר על אותם <code>AND</code>, <code>OR</code> ו־<code>NOT</code> שהתרגלנו לכתוב בביטויים בוליאניים בפייתון.<br>\n",
    "    נוכל לכתוב אותם בפסוקיות <code>WHERE</code> כדי ליצור תנאים מורכבים ומעניינים יותר.\n",
    "</p>"
   ]
  },
  {
   "cell_type": "markdown",
   "metadata": {},
   "source": [
    "<p style=\"text-align: right; direction: rtl; float: right; clear: both;\">\n",
    "    כך, לדוגמה, נוכל לבקש סרט אחד שיצא בשנות ה־50:\n",
    "</p>"
   ]
  },
  {
   "cell_type": "markdown",
   "metadata": {},
   "source": [
    "```sql\n",
    "SELECT *\n",
    "FROM movies\n",
    "WHERE year >= 1950 AND year < 1960 \n",
    "LIMIT 1;\n",
    "```"
   ]
  },
  {
   "cell_type": "markdown",
   "metadata": {},
   "source": [
    "<p style=\"text-align: right; direction: rtl; float: right; clear: both;\">\n",
    "    בשלב הזה אנחנו מניחים שהעמקתם ואתם בקיאים בניסוח ביטויים בוליאניים,<br>\n",
    "    ולכן לא נתעכב על הנושא הזה במחברת הזו.\n",
    "</p>"
   ]
  },
  {
   "cell_type": "markdown",
   "metadata": {},
   "source": [
    "### <span style=\"text-align: right; direction: rtl; float: right; clear: both;\">תרגיל ביניים: Sir Etzar</span>"
   ]
  },
  {
   "cell_type": "markdown",
   "metadata": {},
   "source": [
    "<p style=\"text-align: right; direction: rtl; float: right; clear: both;\">\n",
    "    תחביבו של סר. אטזר הוא לראות סרטים בשפת המקור.<br>\n",
    "    חפשו עבורו סרטים ששמם בשפת המקור שונה מהשם הפופולרי שלהם.\n",
    "</p>"
   ]
  },
  {
   "cell_type": "markdown",
   "metadata": {},
   "source": [
    "<p style=\"text-align: right; direction: rtl; float: right; clear: both;\">\n",
    "    חשוב לציין שסר. אטזר הוא בחור עסוק למדי, ולכן יוכל לצפות רק ב־5 סרטים שאורך כל אחד מהם הוא פחות משעה וחצי.<br>\n",
    "    שלפו את הכמות הנכונה של סרטים שמתאימים לדרישותיו של סר. אטזר.\n",
    "</p>"
   ]
  },
  {
   "cell_type": "markdown",
   "metadata": {},
   "source": [
    "### <span style=\"text-align: right; direction: rtl; float: right; clear: both;\">אופרטור ההשוואה <code>LIKE</code></span>"
   ]
  },
  {
   "cell_type": "markdown",
   "metadata": {},
   "source": [
    "<p style=\"text-align: right; direction: rtl; float: right; clear: both;\">\n",
    "    אופרטור השוויון ב־SQL (<code>=</code>), כמו בפייתון, מניח שהנתון שמופיע מצידו הימני שווה לחלוטין לנתון שמופיע בצידו השמאלי.<br>\n",
    "    בשימוש שוטף במסדי נתונים, לא יעבור זמן רב עד שנגלה שהכלי הזה לא מספיק חזק כדי לענות על כל הצרכים שלנו.<br>\n",
    "</p>"
   ]
  },
  {
   "cell_type": "markdown",
   "metadata": {},
   "source": [
    "<p style=\"text-align: right; direction: rtl; float: right; clear: both;\">\n",
    "    מה אם נרצה לחפש בתוך מלל ב\"בערך\", ולא בהכרח לחפש שיוויון מוחלט?<br>\n",
    "    זה קורה לעיתים כל כך תכופות!\n",
    "</p>"
   ]
  },
  {
   "cell_type": "markdown",
   "metadata": {},
   "source": [
    "<p style=\"text-align: right; direction: rtl; float: right; clear: both;\">\n",
    "    הנה כמה מצבים כאלו שחשבנו עליהם:\n",
    "</p>\n",
    "\n",
    "<ul style=\"text-align: right; direction: rtl; float: right; clear: both;\">\n",
    "    <li>כל הקבצים שהסיומת של שמם היא html.</li>\n",
    "    <li>כל הפוסטים בפייסבוק שכתוב בהם \"פייתון\" איפשהו בתוך הפוסט.</li>\n",
    "    <li>כל מספרי הטלפון שמתחילים ב־972 (הקידומת של ישראל).</li>\n",
    "    <li>כל כתובות הדואר האלקטרוני שאין בהן @, ולכן כנראה מזויפות.</li>\n",
    "</ul>"
   ]
  },
  {
   "cell_type": "markdown",
   "metadata": {},
   "source": [
    "<p style=\"text-align: right; direction: rtl; float: right; clear: both;\">\n",
    "    מטרת אופרטור ההשוואה <code>LIKE</code> היא לפתור עבורנו את הבעיה הזו.<br>\n",
    "    הוא יכתב כחלק מפסוקית ה־<code>WHERE</code>, ויאפשר לנו לחפש תבניות.<br>\n",
    "    נראה דוגמה לשימוש בו, ואז נסקור כיצד להשתמש בו במקרים נוספים:\n",
    "</p>"
   ]
  },
  {
   "cell_type": "markdown",
   "metadata": {},
   "source": [
    "```sql\n",
    "SELECT *\n",
    "FROM movies\n",
    "WHERE title LIKE '%Sherlock%';\n",
    "```"
   ]
  },
  {
   "cell_type": "markdown",
   "metadata": {},
   "source": [
    "<p style=\"text-align: right; direction: rtl; float: right; clear: both;\">\n",
    "    בתא שלמעלה השתמשנו באופרטור ההשוואה <code>LIKE</code> –<br>\n",
    "    דרשנו לקבל את כל השורות בהן מתקיים התנאי <code dir=\"ltr\" style=\"direction: ltr;\">title LIKE '%Sherlock%'</code>.\n",
    "</p>"
   ]
  },
  {
   "cell_type": "markdown",
   "metadata": {},
   "source": [
    "<p style=\"text-align: right; direction: rtl; float: right; clear: both;\">\n",
    "    כשאנחנו משתמשים באופרטור ההשוואה <code>LIKE</code> אנחנו מבקשים לבחון האם הביטוי בצד שמאל תואם את התבנית שנמצאת בימין.<br>\n",
    "    במקרה שלנו, ביקשנו לבדוק בכל שורה אם הערך שב־<var>title</var> תואם את התבנית <code>'%Sherlock%'</code>. \n",
    "</p>"
   ]
  },
  {
   "cell_type": "markdown",
   "metadata": {},
   "source": [
    "<p style=\"text-align: right; direction: rtl; float: right; clear: both;\">\n",
    "    הכללים לניסוח תבנית פשוטים מאוד (פה קורה הקסם!):\n",
    "</p>"
   ]
  },
  {
   "cell_type": "markdown",
   "metadata": {},
   "source": [
    "<ul style=\"text-align: right; direction: rtl; float: right; clear: both;\">\n",
    "    <li>התו <code>%</code> מחליף 0 או יותר תווים.</li>\n",
    "    <li>התו <code>_</code> מחליף תו אחד בדיוק.</li>\n",
    "</ul>"
   ]
  },
  {
   "cell_type": "markdown",
   "metadata": {},
   "source": [
    "<p style=\"text-align: right; direction: rtl; float: right; clear: both;\">\n",
    "    כך שהתבנית שניסחנו אומרת \"כל מחרוזת הכוללת את המילה Sherlock\".<br>\n",
    "    באותה מידה, יכולנו להשתמש ב־<code dir=\"ltr\" style=\"direction: ltr;\">'Sherlock%'</code> כדי לקבל רק את השורות שמתחילות במילה Sherlock.\n",
    "</p>"
   ]
  },
  {
   "cell_type": "markdown",
   "metadata": {},
   "source": [
    "<div class=\"align-center\" style=\"display: flex; text-align: right; direction: rtl; clear: both;\">\n",
    "    <div style=\"display: flex; width: 10%; float: right; clear: both;\">\n",
    "        <img src=\"images/exercise.svg\" style=\"height: 50px !important;\" alt=\"תרגול\"> \n",
    "    </div>\n",
    "    <div>\n",
    "        <p style=\"text-align: right; direction: rtl; float: right; clear: both;\">\n",
    "            תוכלו לשלוף את כל הסרטים שאורך שמם הוא בדיוק 5 תווים?\n",
    "        </p>\n",
    "    </div>\n",
    "</div>"
   ]
  },
  {
   "cell_type": "markdown",
   "metadata": {},
   "source": [
    "<div class=\"align-center\" style=\"display: flex; text-align: right; direction: rtl;\">\n",
    "    <div style=\"display: flex; width: 10%; float: right; \">\n",
    "        <img src=\"images/tip.png\" style=\"height: 50px !important;\" alt=\"טיפ!\" title=\"טיפ!\">\n",
    "    </div>\n",
    "    <div style=\"width: 90%;\">\n",
    "        חבר קרוב של אופרטור ההשוואה <code>LIKE</code> הוא <code>NOT LIKE</code>.\n",
    "    </div>\n",
    "</div>"
   ]
  },
  {
   "cell_type": "markdown",
   "metadata": {},
   "source": [
    "<div class=\"align-center\" style=\"display: flex; text-align: right; direction: rtl;\">\n",
    "    <div style=\"display: flex; width: 10%; float: right; \">\n",
    "        <img src=\"images/warning.png\" style=\"height: 50px !important;\" alt=\"אזהרה!\"> \n",
    "    </div>\n",
    "    <div style=\"width: 90%\">\n",
    "        <p style=\"text-align: right; direction: rtl;\">\n",
    "            מבחינה טכנית, אפשר להשתמש ב־<code>LIKE</code> בשביל השוואה פשוטה – אם במקום תבנית נכתוב לימינו מחרוזת רגילה.<br>\n",
    "            זה נחשב לא מנומס ואין סיבה טובה לעשות את זה.\n",
    "        </p>\n",
    "    </div>\n",
    "</div>"
   ]
  },
  {
   "cell_type": "markdown",
   "metadata": {},
   "source": [
    "### <span style=\"text-align: right; direction: rtl; float: right; clear: both;\">הערך <code>NULL</code></span>"
   ]
  },
  {
   "cell_type": "markdown",
   "metadata": {},
   "source": [
    "<p style=\"text-align: right; direction: rtl; float: right; clear: both;\">\n",
    "    <code>NULL</code> הוא קבוע מיוחד, והוא קיים כדי לייצג חוסר בערך במסד הנתונים שלנו.<br>\n",
    "    הוא מזכיר למדי את הערך הפייתוני <code>None</code>, שגם הוא מייצג ריק, שום דבר.\n",
    "</p>"
   ]
  },
  {
   "cell_type": "markdown",
   "metadata": {},
   "source": [
    "<p style=\"text-align: right; direction: rtl; float: right; clear: both;\">\n",
    "    למרבה ההפתעה, המצב של הופעת הערך <code>NULL</code> הוא נפוץ יחסית.<br>\n",
    "    חשבו על כל הפעמים שיתכן שסיפקו לנו מידע חסר, או על המצבים שבהם אין מידע למלא בעמודה:\n",
    "</p>"
   ]
  },
  {
   "cell_type": "markdown",
   "metadata": {},
   "source": [
    "<ul style=\"text-align: right; direction: rtl; float: right; clear: both;\">\n",
    "    <li>טבלת משתמשים עם כתובות הדואר האלקטרוני שלהם – שחלק מהמשתמשים לא סיפקו.</li>\n",
    "    <li>העמודה \"תאריך עלייה\" במרשם האוכלוסין תהיה לא רלוונטית עבור אנשים שנולדו בארץ.</li>\n",
    "    <li>במערכת הגשות התרגילים, אם אפשר להגיש תרגיל מסוים ללא הגבלת זמן – הערך שמופיע אצלו בעמודת <var>due_date</var> הוא <code>NULL</code>.</li>\n",
    "</ul>"
   ]
  },
  {
   "cell_type": "markdown",
   "metadata": {},
   "source": [
    "<p style=\"text-align: right; direction: rtl; float: right; clear: both;\">\n",
    "    חשוב לחדד ש־<code>NULL</code> לא מציין אפס – הוא מציין שהמידע פשוט לא נמצא שם.<br>\n",
    "    אם אני מריץ שאילתה שמטרתה לבדוק כמה מקררים יש במלאי ומקבל בחזרה את התשובה <code>NULL</code>,<br>\n",
    "    אני יודע שלמרות שיש מקררים במסד הנתונים, לא עודכן המלאי עבורם.<br>\n",
    "    <code>NULL</code> לא אומר שאין מקררים במלאי – מצב שכזה היה מיוצג על ידי הערך 0.\n",
    "</p>"
   ]
  },
  {
   "cell_type": "markdown",
   "metadata": {},
   "source": [
    "<p style=\"text-align: right; direction: rtl; float: right; clear: both;\">\n",
    "    הבעיה מתחילה בכך שהערך <code>NULL</code> ב־SQL מתנהג קצת מוזר.\n",
    "</p>"
   ]
  },
  {
   "cell_type": "markdown",
   "metadata": {},
   "source": [
    "<p style=\"text-align: right; direction: rtl; float: right; clear: both;\">\n",
    "    ננסה להריץ שאילתה שמחזירה את כל הסרטים שלא ידוע מה היה תקציב ההפקה שלהם:\n",
    "</p>"
   ]
  },
  {
   "cell_type": "markdown",
   "metadata": {},
   "source": [
    "```sql\n",
    "SELECT *\n",
    "FROM movies\n",
    "WHERE budget = NULL;\n",
    "```"
   ]
  },
  {
   "cell_type": "markdown",
   "metadata": {},
   "source": [
    "<p style=\"text-align: right; direction: rtl; float: right; clear: both;\">\n",
    "    למרבה ההפתעה, השאילתה הזו לא מחזירה לנו אף סרט.\n",
    "</p>"
   ]
  },
  {
   "cell_type": "markdown",
   "metadata": {},
   "source": [
    "<p style=\"text-align: right; direction: rtl; float: right; clear: both;\">\n",
    "    טוב, אם כך, כנראה שאנחנו יודעים מה היה תקציבם של כל הסרטים שבמסד הנתונים שלנו. כמה נפלא.<br>\n",
    "    נשלוף את כל הסרטים שבהכרח ידוע לנו מה היה תקציב ההפקה שלהם:\n",
    "</p>"
   ]
  },
  {
   "cell_type": "markdown",
   "metadata": {},
   "source": [
    "```sql\n",
    "SELECT *\n",
    "FROM movies\n",
    "WHERE budget <> NULL;\n",
    "```"
   ]
  },
  {
   "cell_type": "markdown",
   "metadata": {},
   "source": [
    "<p style=\"text-align: right; direction: rtl; float: right; clear: both;\">\n",
    "    גם הפעם השאילתה לא החזירה לנו שורות כלל! איזה משונה, אנחנו יודעים שבטבלה יש סרטים!<br>\n",
    "    הסרטים שתקציב ההפקה שלהם <code dir=\"ltr\" style=\"direction: ltr;\">= NULL</code> והסרטים שתקציב ההפקה שלהם <code dir=\"ltr\" style=\"direction: ltr;\"><> NULL</code>, שני ההפכים המוחלטים, לא מחזירים אף שורה.<br>\n",
    "    מה מתרחש פה?\n",
    "</p>"
   ]
  },
  {
   "cell_type": "markdown",
   "metadata": {},
   "source": [
    "<p style=\"text-align: right; direction: rtl; float: right; clear: both;\">\n",
    "    מתברר שב־SQL נוסף לערכים הלוגיים שאנחנו רגילים אליהם (<code>True</code>, <code>False</code>), ישנו ערך לוגי שלישי: <code>Unknown</code>.<br>\n",
    "    כך הוגדר שתוצאת בדיקת השוויון ל־<code>NULL</code> היא תמיד <code>Unknown</code>. הוא הדין גם לגבי בדיקת אי־שוויון.\n",
    "</p>"
   ]
  },
  {
   "cell_type": "markdown",
   "metadata": {},
   "source": [
    "<p style=\"text-align: right; direction: rtl; float: right; clear: both;\">\n",
    "    כיוון שמנוע ה־SQL יחזיר רק שורות שעבורן הביטוי הלוגי בפסוקית ה־<code>WHERE</code> שקול ל־<code>True</code>,<br>\n",
    "    בדיקת שוויון רגילה עם <code>NULL</code>, שתוצאתה <code>Unknown</code>, תגרום למנוע לא להחזיר את השורות שציפינו לקבל.\n",
    "</p>"
   ]
  },
  {
   "cell_type": "markdown",
   "metadata": {},
   "source": [
    "<p style=\"text-align: right; direction: rtl; float: right; clear: both;\">\n",
    "    נראה לדוגמה את המקרה המובהק הבא.<br>\n",
    "    על פניו, כל ערך שווה לעצמו ולכן אמורות לחזור לנו כל השורות מהטבלה.<br>\n",
    "    בפועל, כיוון שהשוואה ל־<code>NULL</code> תמיד תחזיר <code>Unknown</code>, מנוע ה־SQL לא יחזיר לנו אף שורה מהטבלה:\n",
    "</p>"
   ]
  },
  {
   "cell_type": "markdown",
   "metadata": {},
   "source": [
    "```sql\n",
    "SELECT *\n",
    "FROM movies\n",
    "WHERE NULL = NULL;\n",
    "```"
   ]
  },
  {
   "cell_type": "markdown",
   "metadata": {},
   "source": [
    "<p style=\"text-align: right; direction: rtl; float: right; clear: both;\">\n",
    "    אז מה אפשר לעשות אם נרצה בכל זאת לבצע השוואה ל־<code>NULL</code>?<br>\n",
    "    נוכל להשתמש באופרטור ההשוואה <code>IS</code> ולבדוק האם ערך מסוים <code>IS NULL</code> או <code>IS NOT NULL</code>.\n",
    "</p>"
   ]
  },
  {
   "cell_type": "markdown",
   "metadata": {},
   "source": [
    "<p style=\"text-align: right; direction: rtl; float: right; clear: both;\">\n",
    "    נבדוק, אם כן, אילו בעלי תפקידים בכירים שיחקו גם דמויות:\n",
    "</p>"
   ]
  },
  {
   "cell_type": "markdown",
   "metadata": {},
   "source": [
    "```sql\n",
    "SELECT *\n",
    "FROM principals\n",
    "WHERE characters IS NOT NULL;\n",
    "```"
   ]
  },
  {
   "cell_type": "markdown",
   "metadata": {},
   "source": [
    "<p style=\"text-align: right; direction: rtl; float: right; clear: both;\">\n",
    "    עכשיו, כשאתם יודעים איך <code>NULL</code> מתנהג, חשוב להיזהר ממצבים שבהם הוא עלול להציק לנו.<br>\n",
    "    כשנכתוב שאילתה לאחזור כל האנשים שגובהם הוא לא בדיוק 2 מטר,<br>\n",
    "    נצטרך לציין במפורש את המקרה בו הגובה שלהם הוא <code>NULL</code>:\n",
    "</p>"
   ]
  },
  {
   "cell_type": "markdown",
   "metadata": {},
   "source": [
    "```sql\n",
    "SELECT *\n",
    "FROM names\n",
    "WHERE height != 200\n",
    "      OR height IS NULL;\n",
    "```"
   ]
  },
  {
   "cell_type": "markdown",
   "metadata": {},
   "source": [
    "## <span style=\"text-align: right; direction: rtl; float: right; clear: both;\">סיכום</span>"
   ]
  },
  {
   "cell_type": "markdown",
   "metadata": {},
   "source": [
    "<p style=\"text-align: right; direction: rtl; float: right; clear: both;\">\n",
    "    במחברת זו צללנו לראשונה לעולם של SQL ולמדנו את היסודות לכתיבת שאילתות.\n",
    "</p>"
   ]
  },
  {
   "cell_type": "markdown",
   "metadata": {},
   "source": [
    "<p style=\"text-align: right; direction: rtl; float: right; clear: both;\">\n",
    "    הבנו מה זה מסד נתונים ומתי משתמשים בו, וסקרנו לראשונה את הרעיון של אחזור מידע ממסד הנתונים.<br>\n",
    "    ראינו כיצד לאחזר מידע די מעניין בעזרת שאילתות פשוטות יחסית, שמורכבות מהפסוקיות <code>SELECT</code>, <code>FROM</code>, <code>WHERE</code> ו־<code>LIMIT</code>.\n",
    "</p>"
   ]
  },
  {
   "cell_type": "markdown",
   "metadata": {},
   "source": [
    "<p style=\"text-align: right; direction: rtl; float: right; clear: both;\">\n",
    "    למדנו גם על אופרטורי השוואה וביניהם <code>LIKE</code>, ופגשנו שוב את <code>AND</code>, <code>OR</code> ו־<code>NOT</code> – הפעם בהקשרי SQL.<br>\n",
    "    קינחנו בלהבין מי זה <code>NULL</code> ועל המוזרויות שבהתעסקות איתו – ושמחייבות אותנו להשתמש ב־<code>IS NULL</code> ולא לבצע השוואה ישירה מולו.\n",
    "</p>"
   ]
  },
  {
   "cell_type": "markdown",
   "metadata": {},
   "source": [
    "## <span style=\"text-align: right; direction: rtl; float: right; clear: both;\">מונחים</span>"
   ]
  },
  {
   "cell_type": "markdown",
   "metadata": {},
   "source": [
    "<dl style=\"text-align: right; direction: rtl; float: right; clear: both;\">\n",
    "    <dt>מסד נתונים (Database)</dt>\n",
    "    <dd>\n",
    "        אוסף מסודר של מידע שלרוב מאוחסן במכשיר אלקטרוני, ולעיתים קרובות מנוהל על ידי תוכנה ממוחשבת.\n",
    "    </dd>\n",
    "    <dt>המנוע (Database Management System)</dt>\n",
    "    <dd>\n",
    "        תוכנה ממוחשבת שמאפשרת למשתמשים בה להגדיר, לתחזק ולאחזר מידע ממסד הנתונים.\n",
    "    </dd>\n",
    "    <dt>עמודה (Column)</dt>\n",
    "    <dd>\n",
    "        נקרא גם <dfn>תכונה</dfn> (<dfn>attribute</dfn>) או <dfn>שדה</dfn> (<dfn>field</dfn>).<br>\n",
    "        הגדרה מופשטת של תכונה מסוימת שמשותפת למספר עצמים. לתכונה יש סוג נתונים (טיפוס) והגבלות שיכולות לחול עליה.<br>\n",
    "        לדוגמה – התכונה \"תאריך יום הולדת\" תהיה מסוג תאריך, ותחול עליה ההגבלה שהערך בה לא יכול להיות בעתיד.\n",
    "    </dd>\n",
    "    <dt>שורה (Row)</dt>\n",
    "    <dd>\n",
    "        גם <dfn>רשומה</dfn> (<dfn>entry</dfn>) או <dfn>ישות</dfn> (<dfn>entity</dfn>).<br>\n",
    "        עצם המורכב מאוסף של תכונות ומוגדר לפיהן.<br>\n",
    "        לדוגמה – משתמש במערכת ניהול לקוחות יהיה בעל התכונות: שם, טלפון, מספר תעודת זהות ותאריך יום הולדת.\n",
    "    </dd>\n",
    "    <dt>טבלה (Table)</dt>\n",
    "    <dd>\n",
    "        קיבוץ של 0 ישויות או יותר, שלכל אחת מהן יש אותן תכונות.\n",
    "    </dd>\n",
    "    <dt>מסד נתונים רלציוני (Relational Database)</dt>\n",
    "    <dd>\n",
    "        סוג של מסד נתונים שבו כל ישות (\"שורה\") מורכבת מקבוצת תכונות (\"עמודות\").<br>\n",
    "        ישויות עם אותן תכונות מקובצות לרוב תחת טבלה אחת.\n",
    "    </dd>\n",
    "    <dt>שאילתה (Query)</dt>\n",
    "    <dd>\n",
    "        קוד שמטרתו לקבל מידע ממסד נתונים, או לבצע שינויים במסד הנתונים.<br>\n",
    "        השאילתה נכתבת בשפה שנקראת SQL – שפת שאילתות מובנית.\n",
    "    </dd>\n",
    "    <dt>פסוקית (Clause)</dt>\n",
    "    <dd>\n",
    "        חלק משאילתת ה־SQL שכולל מילת מפתח ואת החלקים שמתייחסים אליה.\n",
    "    </dd>\n",
    "</dl>"
   ]
  },
  {
   "cell_type": "markdown",
   "metadata": {},
   "source": [
    "## <span style=\"text-align: right; direction: rtl; float: right; clear: both;\">תרגילים</span>"
   ]
  },
  {
   "cell_type": "markdown",
   "metadata": {},
   "source": [
    "### <span style=\"text-align: right; direction: rtl; float: right; clear: both;\">תמיד ביחד?</span>"
   ]
  },
  {
   "cell_type": "markdown",
   "metadata": {},
   "source": [
    "<p style=\"text-align: right; direction: rtl; float: right; clear: both;\">\n",
    "    החזירו את כל הסרטים שיש בהם 2 כספרה, ללא ספרות או תווים נוספים שצמודים אליה.<br>\n",
    "    אל תחזירו סרטים שבהם יש את הספרה 2 כחלק ממספר גדול יותר. \n",
    "</p>"
   ]
  },
  {
   "cell_type": "markdown",
   "metadata": {},
   "source": [
    "<p style=\"text-align: right; direction: rtl; float: right; clear: both;\">\n",
    "    לדוגמה: החזירו את הסרט Shrek 2, אך לא את הסרט <span dir=\"ltr\" style=\"direction: ltr;\">12 Angry Men</span>.\n",
    "</p>"
   ]
  },
  {
   "cell_type": "markdown",
   "metadata": {},
   "source": [
    "### <span style=\"text-align: right; direction: rtl; float: right; clear: both;\">דירוג משוכלל</span>"
   ]
  },
  {
   "cell_type": "markdown",
   "metadata": {},
   "source": [
    "<p style=\"text-align: right; direction: rtl; float: right; clear: both;\">\n",
    "    \"דירוג משוכלל\" הוא הדירוג של סרט, לאחר שמוסיפים לו:\n",
    "</p>"
   ]
  },
  {
   "cell_type": "markdown",
   "metadata": {},
   "source": [
    "<ul style=\"text-align: right; direction: rtl; float: right; clear: both;\">\n",
    "    <li>0.2 נקודות עבור כל 100,000 פעמים שדורג.</li>\n",
    "    <li>0.01 נקודות עבור כל 10,000 פעמים שדורג.</li>\n",
    "    <li>0.0005 נקודות עבור כל 1,000 פעמים שדורג.</li>\n",
    "</ul>"
   ]
  },
  {
   "cell_type": "markdown",
   "metadata": {},
   "source": [
    "<p style=\"text-align: right; direction: rtl; float: right; clear: both;\">\n",
    "    לדוגמה, סרט שדורג 4.2 על ידי 120,000 מצביעים, ידורג בפועל לפי הנוסחה הבאה:\n",
    "</p>"
   ]
  },
  {
   "cell_type": "markdown",
   "metadata": {},
   "source": [
    "$$rating = 4.2 + (0.2 \\cdot 1) + (0.01 \\cdot 2) + (0.0005 \\cdot 0) = 4.420$$"
   ]
  },
  {
   "cell_type": "markdown",
   "metadata": {},
   "source": [
    "<p style=\"text-align: right; direction: rtl; float: right; clear: both;\">\n",
    "    בהינתן שדירוג יכול לנוע מ־0 ועד 10 נקודות, האם שיטת הדירוג הזו יוצרת סרטים שהדירוג שלהם לא תקין?\n",
    "</p>"
   ]
  },
  {
   "cell_type": "markdown",
   "metadata": {},
   "source": [
    "### <span style=\"text-align: right; direction: rtl; float: right; clear: both;\">And the science gets done</span>"
   ]
  },
  {
   "cell_type": "markdown",
   "metadata": {},
   "source": [
    "<p style=\"text-align: right; direction: rtl; float: right; clear: both;\">    \n",
    "    החזירו את שמותיהם של 3 בעלי תפקידים שעדיין בחיים ולהם לפחות תשעה ילדים.\n",
    "</p>"
   ]
  }
 ],
 "metadata": {
  "kernelspec": {
   "display_name": "Python 3",
   "language": "python",
   "name": "python3"
  },
  "language_info": {
   "codemirror_mode": {
    "name": "ipython",
    "version": 3
   },
   "file_extension": ".py",
   "mimetype": "text/x-python",
   "name": "python",
   "nbconvert_exporter": "python",
   "pygments_lexer": "ipython3",
   "version": "3.8.6"
  }
 },
 "nbformat": 4,
 "nbformat_minor": 2
}
