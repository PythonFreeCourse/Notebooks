{
 "cells": [
  {
   "cell_type": "markdown",
   "metadata": {},
   "source": [
    "<img src=\"images/logo.jpg\" style=\"display: block; margin-left: auto; margin-right: auto;\" alt=\"לוגו של מיזם לימוד הפייתון. נחש מצויר בצבעי צהוב וכחול, הנע בין האותיות של שם הקורס: לומדים פייתון. הסלוגן המופיע מעל לשם הקורס הוא מיזם חינמי ללימוד תכנות בעברית.\">"
   ]
  },
  {
   "cell_type": "markdown",
   "metadata": {},
   "source": [
    "# <span style=\"text-align: right; direction: rtl; float: right;\">נרמול מסדי נתונים</span>"
   ]
  },
  {
   "cell_type": "markdown",
   "metadata": {},
   "source": [
    "<p style=\"text-align: right; direction: rtl; float: right; clear: both;\">\n",
    "    בשיעורים האחרונים עבדנו עם מסדי נתונים טבלאיים – כאלו שבנויים מטבלאות שבהן כל שורה מייצגת ישות.\n",
    "</p>"
   ]
  },
  {
   "cell_type": "markdown",
   "metadata": {},
   "source": [
    "<p style=\"text-align: right; direction: rtl; float: right; clear: both;\">\n",
    "    אם חקרתם קצת את מסד הנתונים והסתכלתם על הנתונים שנמצאים בטבלאות השונות,<br>\n",
    "    ייתכן שעלו לכם כמה שאלות מעניינות:\n",
    "</p>"
   ]
  },
  {
   "cell_type": "markdown",
   "metadata": {},
   "source": [
    "<ul style=\"text-align: right; direction: rtl; float: right; clear: both;\">\n",
    "    <li>האם בהכרח יש קשר בין כל הטבלאות?</li>\n",
    "    <li>האם הקשרים בין הטבלאות מוגדרים במסד הנתונים?</li>\n",
    "    <li>מדוע מי שבנה את מסד הנתונים החליט לארגן את הטבלאות דווקא כך?</li>\n",
    "    <li>מהי המטרה של ההפרדה לטבלאות מלכתחילה?</li>\n",
    "</ul>"
   ]
  },
  {
   "cell_type": "markdown",
   "metadata": {},
   "source": [
    "<p style=\"text-align: right; direction: rtl; float: right; clear: both;\">\n",
    "    כבר בפרק הקרוב נענה על כל השאלות הללו.<br>\n",
    "    עד סוף הפרק תבינו מדוע מסדי נתונים בנויים מטבלאות רבות, באופן שלפעמים נראה סבוך,<br>\n",
    "    תדעו לארגן מסד נתונים משל עצמכם,<br>\n",
    "    ותלמדו מספר מונחים חשובים שישמשו אתכם בהמשך הלמידה על SQL.\n",
    "</p>"
   ]
  },
  {
   "cell_type": "markdown",
   "metadata": {},
   "source": [
    "<p style=\"text-align: right; direction: rtl; float: right; clear: both;\">\n",
    "    לפני שנצא לדרך, נזכיר את הדיאגרמה שהצגנו במחברת הראשונה, כשרק למדנו על השורות והעמודות שבמסד הנתונים.\n",
    "</p>"
   ]
  },
  {
   "cell_type": "markdown",
   "metadata": {},
   "source": [
    "<figure>\n",
    "    <img src=\"images/schema_diagram.png?v=2\" style=\"width: 800px; margin-right: auto; margin-left: auto; text-align: center;\" alt=\"בתמונה קופסאות שראשיהן צבועים בצבעים שונים. לכל קופסה צבע, כותרת ותוכן. הכותרת מתארת את שם הטבלה במסד הנתונים, והתוכן של הקופסה מורכב משורות – כל שורה מתארת עמודה שקיימת באותה טבלה. בין הקופסאות עוברים קווים המחברים בין עמודה בטבלה אחת לעמודה בטבלה אחרת. כל קו כזה מתאר קשר בין שתי עמודות. ליד חלק מהעמודות יש ציור של מפתח, שמסמל עמודה כעמודה ראשית בטבלה (מפתח ראשי). בכל טבלה לכל היותר סימן אחד של מפתח. ליד כל עמודה גם כתוב הטיפוס שלה – סוג הערכים שהיא יודעת להכיל.\"/>\n",
    "    <figcaption style=\"margin-top: 2rem; text-align: center; direction: rtl;\">\n",
    "        תרשים שמציג את כל הטבלאות והעמודות במסד הנתונים, כולל את הקשרים ביניהם.<br>\n",
    "        המינוח המקצועי לתרשים שכזה הוא \"תרשים ישויות קשרים\" (באנגלית: <abbr title=\"Entity-relationship diagram\">ERD</abbr>).\n",
    "    </figcaption>\n",
    "</figure>"
   ]
  },
  {
   "cell_type": "markdown",
   "metadata": {},
   "source": [
    "## <span style=\"text-align: right; direction: rtl; float: right;\">נרמול של מסד הנתונים</span>"
   ]
  },
  {
   "cell_type": "markdown",
   "metadata": {},
   "source": [
    "<p style=\"text-align: right; direction: rtl; float: right; clear: both;\">\n",
    "    במחברת הקרובה אנחנו הולכים לעבור ביחד מסע של יצירת מסד נתונים קטן שכולל סרטים ושחקנים.<br>\n",
    "    תוך כדי המסע, נבחן החלטות ורעיונות שקשורים בתכנון ובבנייה של מסד הנתונים.\n",
    "</p>"
   ]
  },
  {
   "cell_type": "markdown",
   "metadata": {},
   "source": [
    "<p style=\"text-align: right; direction: rtl; float: right; clear: both;\">\n",
    "    לפני שנתחיל, נציב לעצמנו מטרות.<br>\n",
    "    בבואנו לתכנן מסד נתונים, היינו רוצים לדעת מה עלינו לעשות כדי לענות על הצרכים הבאים:"
   ]
  },
  {
   "cell_type": "markdown",
   "metadata": {},
   "source": [
    "<ul style=\"text-align: right; direction: rtl; float: right; clear: both;\">\n",
    "    <li>יהיה קל להסיק תובנות ממסד הנתונים באמצעות שאילתות.</li>\n",
    "    <li>לא יהיה חשש לאיבוד מידע בפעולות עדכון של מסד הנתונים.</li>\n",
    "    <li>המידע במסד הנתונים ישמר באופן יעיל וחסכוני במקום.</li>\n",
    "    <li>המסד יהיה גמיש לשינויים עתידיים, ולא יצריך שינויים קיצוניים בדרך אחסון המידע כשנרצה להרחיב אותו בעתיד.</li>\n",
    "</ul>"
   ]
  },
  {
   "cell_type": "markdown",
   "metadata": {},
   "source": [
    "<p style=\"text-align: right; direction: rtl; float: right; clear: both;\">\n",
    "    יצירה או שינוי של מסד הנתונים כך שיתחשב בנקודות הללו, הוא תהליך שנקרא \"<dfn>נרמול של מסד הנתונים</dfn>\" (<dfn>Database normalization</dfn>).\n",
    "</p>"
   ]
  },
  {
   "cell_type": "markdown",
   "metadata": {},
   "source": [
    "<p style=\"text-align: right; direction: rtl; float: right; clear: both;\">\n",
    "    נתחיל!\n",
    "</p>"
   ]
  },
  {
   "cell_type": "markdown",
   "metadata": {},
   "source": [
    "### <span style=\"text-align: right; direction: rtl; float: right;\">טבלה אחודה של סרטים</span>"
   ]
  },
  {
   "cell_type": "markdown",
   "metadata": {},
   "source": [
    "<p style=\"text-align: right; direction: rtl; float: right; clear: both;\">\n",
    "    כל הטבלאות האלו הן בלאגן אחד גדול. אנחנו נלך על משהו פשוט יותר.<br>\n",
    "    כצעד ראשון, נבנה טבלה פשוטה של סרטים.<br>\n",
    "    העמודות בה יהיו רק כותרת הסרט והשנה שבה הוא יצא.\n",
    "</p>"
   ]
  },
  {
   "cell_type": "markdown",
   "metadata": {},
   "source": [
    "<table style=\"clear: both; font-size: 1.5rem;\">\n",
    "    <caption style=\"text-align: center; direction: rtl; clear: both; font-size: 2rem; padding-bottom: 2rem;\">טבלת <var>movies</var></caption>\n",
    "    <thead>\n",
    "        <tr>\n",
    "            <th style=\"text-align: center;\">title</th>\n",
    "            <th style=\"text-align: center;\">release_year</th>\n",
    "        </tr>\n",
    "    </thead>\n",
    "    <tbody>\n",
    "        <tr>\n",
    "            <td style=\"text-align: left;\">Monty Python and the Holy Grail</td>\n",
    "            <td style=\"text-align: left;\">1975</td>\n",
    "        </tr>\n",
    "        <tr>\n",
    "            <td style=\"text-align: left;\">V for Vendetta</td>\n",
    "            <td style=\"text-align: left;\">2005</td>\n",
    "        </tr>\n",
    "        <tr>\n",
    "            <td style=\"text-align: left;\">The Matrix</td>\n",
    "            <td style=\"text-align: left;\">1999</td>\n",
    "        </tr>\n",
    "    </tbody>\n",
    "</table>"
   ]
  },
  {
   "cell_type": "markdown",
   "metadata": {},
   "source": [
    "<p style=\"text-align: right; direction: rtl; float: right; clear: both;\">\n",
    "    נוסיף את השחקנים שכיכבו בכל סרט ישירות לטבלת הסרטים שלנו.<br>\n",
    "    כך נוכל לחסוך את הסיבוך שבהוספת טבלת השחקנים.<br>\n",
    "</p>"
   ]
  },
  {
   "cell_type": "markdown",
   "metadata": {},
   "source": [
    "<table style=\"clear: both; font-size: 1.5rem;\">\n",
    "    <caption style=\"text-align: center; direction: rtl; clear: both; font-size: 2rem; padding-bottom: 2rem;\">טבלת <var>movies</var></caption>\n",
    "    <thead>\n",
    "        <tr>\n",
    "            <th style=\"text-align: center;\">title</th>\n",
    "            <th style=\"text-align: center;\">release_year</th>\n",
    "            <th style=\"text-align: center;\">actor_name</th>\n",
    "        </tr>\n",
    "    </thead>\n",
    "    <tbody>\n",
    "        <tr>\n",
    "            <td style=\"text-align: left;\">Monty Python and the Holy Grail</td>\n",
    "            <td style=\"text-align: left;\">1975</td>\n",
    "            <td style=\"text-align: left;\">Graham Chapman, John Cleese, Eric Idle, Terry Gilliam</td>\n",
    "        </tr>\n",
    "        <tr>\n",
    "            <td style=\"text-align: left;\">V for Vendetta</td>\n",
    "            <td style=\"text-align: left;\">2005</td>\n",
    "            <td style=\"text-align: left;\">Hugo Weaving, Rupert Graves, Stephen Rea</td>\n",
    "        </tr>\n",
    "        <tr>\n",
    "            <td style=\"text-align: left;\">The Matrix</td>\n",
    "            <td style=\"text-align: left;\">1999</td>\n",
    "            <td style=\"text-align: left;\">Keanu Reeves, Laurence Fishburne, Hugo Weaving</td>\n",
    "            </tr>\n",
    "    </tbody>\n",
    "</table>"
   ]
  },
  {
   "cell_type": "markdown",
   "metadata": {},
   "source": [
    "<p style=\"text-align: right; direction: rtl; float: right; clear: both;\">\n",
    "    במבט ראשון – זה פנטסטי!<br>\n",
    "    יצרנו טבלה שכוללת את שמות השחקנים בכל סרט, בלי להסתבך עם יצירת טבלה נוספת.<br>\n",
    "</p>"
   ]
  },
  {
   "cell_type": "markdown",
   "metadata": {},
   "source": [
    "<p style=\"text-align: right; direction: rtl; float: right; clear: both;\">\n",
    "    נצייר ERD של הטבלה החדשה שלנו:\n",
    "</p>"
   ]
  },
  {
   "cell_type": "markdown",
   "metadata": {},
   "source": [
    "<figure>\n",
    "    <img src=\"images/normalization_erd_1.svg?v=7\" style=\"width: 200px; margin-right: auto; margin-left: auto; text-align: center;\" alt=\"\n",
    "        בתמונה קופסה שבה כותרת שצבע הרקע שלה אפור. הקופסה מיצגת טבלה.\n",
    "        בראש הקופסה כתוב שמה של הטבלה, ומתחתיה שורות המייצגות את העמודות שהוגדרו בטבלה.\n",
    "        לצד כל עמודה, באפור, מופיע מלל שמתאר את סוג הנתונים שיהיו באותה עמודה: text, date וכדומה.\n",
    "\"/>\n",
    "    <figcaption style=\"margin-top: 2rem; text-align: center; direction: rtl;\">\n",
    "        ה־ERD של מסד הנתונים שלנו.<br>\n",
    "        כרגע הוא כולל רק את הטבלה <var>movies</var>, את עמודותיה ואת סוגי הנתונים שבהם.\n",
    "    </figcaption>\n",
    "</figure>"
   ]
  },
  {
   "cell_type": "markdown",
   "metadata": {},
   "source": [
    "<div class=\"align-center\" style=\"display: flex; text-align: right; direction: rtl; clear: both;\">\n",
    "    <div style=\"display: flex; width: 10%; float: right; clear: both;\">\n",
    "        <img src=\"images/exercise.svg\" style=\"height: 50px !important;\" alt=\"תרגול\"> \n",
    "    </div>\n",
    "    <div style=\"width: 70%\">\n",
    "        <p style=\"text-align: right; direction: rtl; float: right; clear: both;\">\n",
    "            אם נקדיש עוד רגע להתבונן בישויות שיצרנו, נוכל למצוא כמה וכמה בעיות שהסידור הזה יוצר.<br>\n",
    "            יכולים לחשוב על כמה מהן?\n",
    "        </p>\n",
    "    </div>\n",
    "    <div style=\"display: flex; width: 20%; border-right: 0.1rem solid #A5A5A5; padding: 1rem 2rem;\">\n",
    "        <p style=\"text-align: center; direction: rtl; justify-content: center; align-items: center; clear: both;\">\n",
    "            <strong>חשוב!</strong><br>\n",
    "            פתרו לפני שתמשיכו!\n",
    "        </p>\n",
    "    </div>\n",
    "</div>"
   ]
  },
  {
   "cell_type": "markdown",
   "metadata": {},
   "source": [
    "### <span style=\"text-align: right; direction: rtl; float: right;\">אי־פריקות</span>"
   ]
  },
  {
   "cell_type": "markdown",
   "metadata": {},
   "source": [
    "<p style=\"text-align: right; direction: rtl; float: right; clear: both;\">\n",
    "    הנה כמה בעיות מרכזיות שנוצרות בעקבות הצורה בה בחרנו לבנות את הטבלה:\n",
    "</p>\n",
    "\n",
    "<ol style=\"text-align: right; direction: rtl; float: right; clear: both;\">\n",
    "    <li>כששמו של שחקן ישתנה, נצטרך לעדכן את שמו בכל השורות בהן מופיע שם השחקן. זה יהיה מסורבל, ועלול לגרום לטעויות.</li>\n",
    "    <li>הוספת מידע על אחד השחקנים, כמו תאריך יום הולדתו, תהיה מסורבלת ותיצור שאילתות מסורבלות בעתיד.</li>\n",
    "    <li>השאילתה שמאחזרת סרטים בהם שיחק שחקן מסוים עשויה להיות מסורבלת ולכלול מקרי קצה של חיפושים במחרוזות.</li>\n",
    "</ol>"
   ]
  },
  {
   "cell_type": "markdown",
   "metadata": {},
   "source": [
    "<p style=\"text-align: right; direction: rtl; float: right; clear: both;\">\n",
    "    לכן, אחת מהפעולות החשובות בנרמול של מסד נתונים הוא לוודא את <dfn>האי־פריקות</dfn> (<dfn>atomicity</dfn>) של הנתונים בו.<br>\n",
    "    במילים פשוטות: שבכל תא בכל אחת מהטבלאות יש נתון שאי־אפשר לפרק ליחידות קטנות יותר.<br>\n",
    "    במקרה שלנו, כל תא בעמודה <var>actor_name</var> בנוי משמותיהם של כמה שחקנים, וזוהי הפרה של רעיון האי־פריקות.\n",
    "</p>"
   ]
  },
  {
   "cell_type": "markdown",
   "metadata": {},
   "source": [
    "<p style=\"text-align: right; direction: rtl; float: right; clear: both;\">\n",
    "    כיצד נתקן את המצב?\n",
    "</p>"
   ]
  },
  {
   "cell_type": "markdown",
   "metadata": {},
   "source": [
    "<p style=\"text-align: right; direction: rtl; float: right; clear: both;\">\n",
    "    אחת הרעיונות המיידיים שאולי קפצו לכם לראש הוא ליצור עמודה עבור כל אחד מהשחקנים.<br>\n",
    "    התיקון הזה בעייתי, כיוון שהוא משאיר אותנו עם טבלה שקשה לתשאל.<br>\n",
    "    נסו לדמיין את הסרבול שבכתיבת שאילתה שבודקת אם שחקן מסוים שיחק במטריקס כשיש לנו 20 עמודות של שחקנים.<br>\n",
    "    בנוסף, הרעיון הזה עדיין לא מאפשר לנו להוסיף מידע בקלות על כל אחד מהשחקנים.\n",
    "</p>"
   ]
  },
  {
   "cell_type": "markdown",
   "metadata": {},
   "source": [
    "<p style=\"text-align: right; direction: rtl; float: right; clear: both;\">\n",
    "    אפשרות אחרת שתפתור עבורנו את כל הבעיות שהצגנו היא ליצור שורה עבור כל שחקן.<br>\n",
    "    כך המידע יענה על דרישת האי־פריקות, ויאפשר לנו להוסיף בקלות מידע על אודות השחקנים שהשתתפו בסרט.\n",
    "</p>"
   ]
  },
  {
   "cell_type": "markdown",
   "metadata": {},
   "source": [
    "<p style=\"text-align: right; direction: rtl; float: right; clear: both;\">\n",
    "    נוסיף עבור כל שחקן שורה משלו, ועל הדרך ניצור עמודה שבה יופיע תאריך לידתו של כל שחקן.\n",
    "</p>"
   ]
  },
  {
   "cell_type": "markdown",
   "metadata": {},
   "source": [
    "<table style=\"clear: both; font-size: 1.5rem;\">\n",
    "    <caption style=\"text-align: center; direction: rtl; clear: both; font-size: 2rem; padding-bottom: 2rem;\">טבלת <var>movies</var></caption>\n",
    "    <thead>\n",
    "        <tr>\n",
    "            <th style=\"text-align: center;\">title</th>\n",
    "            <th style=\"text-align: center;\">release_year</th>\n",
    "            <th style=\"text-align: center;\">actor_name</th>\n",
    "            <th style=\"text-align: center;\">actor_birth_date</th>\n",
    "        </tr>\n",
    "    </thead>\n",
    "    <tbody>\n",
    "        <tr>\n",
    "            <td style=\"text-align: left;\">Monty Python and the Holy Grail</td>\n",
    "            <td style=\"text-align: left;\">1975</td>\n",
    "            <td style=\"text-align: left;\">Graham Chapman</td>\n",
    "            <td style=\"text-align: left;\">1941-01-08</td>\n",
    "        </tr>\n",
    "        <tr>\n",
    "            <td style=\"text-align: left;\">Monty Python and the Holy Grail</td>\n",
    "            <td style=\"text-align: left;\">1975</td>\n",
    "            <td style=\"text-align: left;\">John Cleese</td>\n",
    "            <td style=\"text-align: left;\">1939-10-27</td>\n",
    "        </tr>\n",
    "        <tr>\n",
    "            <td style=\"text-align: left;\">Monty Python and the Holy Grail</td>\n",
    "            <td style=\"text-align: left;\">1975</td>\n",
    "            <td style=\"text-align: left;\">Eric Idle</td>\n",
    "            <td style=\"text-align: left;\">1943-03-29</td>\n",
    "        </tr>\n",
    "        <tr>\n",
    "            <td style=\"text-align: left;\">Monty Python and the Holy Grail</td>\n",
    "            <td style=\"text-align: left;\">1975</td>\n",
    "            <td style=\"text-align: left;\">Terry Gilliam</td>\n",
    "            <td style=\"text-align: left;\">1940-11-22</td>\n",
    "        </tr>\n",
    "        <tr>\n",
    "            <td style=\"text-align: left;\">V for Vendetta</td>\n",
    "            <td style=\"text-align: left;\">2005</td>\n",
    "            <td style=\"text-align: left;\">Hugo Weaving</td>\n",
    "            <td style=\"text-align: left;\">1960-04-04</td>\n",
    "        </tr>\n",
    "        <tr>\n",
    "            <td style=\"text-align: left;\">V for Vendetta</td>\n",
    "            <td style=\"text-align: left;\">2005</td>\n",
    "            <td style=\"text-align: left;\">Rupert Graves</td>\n",
    "            <td style=\"text-align: left;\">1963-06-30</td>\n",
    "        </tr>\n",
    "        <tr>\n",
    "            <td style=\"text-align: left;\">V for Vendetta</td>\n",
    "            <td style=\"text-align: left;\">2005</td>\n",
    "            <td style=\"text-align: left;\">Stephen Rea</td>\n",
    "            <td style=\"text-align: left;\">1946-10-31</td>\n",
    "        </tr>\n",
    "        <tr>\n",
    "            <td style=\"text-align: left;\">The Matrix</td>\n",
    "            <td style=\"text-align: left;\">1999</td>\n",
    "            <td style=\"text-align: left;\">Keanu Reeves</td>\n",
    "            <td style=\"text-align: left;\">1964-09-02</td>\n",
    "        </tr>\n",
    "        <tr>\n",
    "            <td style=\"text-align: left;\">The Matrix</td>\n",
    "            <td style=\"text-align: left;\">1999</td>\n",
    "            <td style=\"text-align: left;\">Laurence Fishburne</td>\n",
    "            <td style=\"text-align: left;\">1961-07-30</td>\n",
    "        </tr>\n",
    "        <tr>\n",
    "            <td style=\"text-align: left;\">The Matrix</td>\n",
    "            <td style=\"text-align: left;\">1999</td>\n",
    "            <td style=\"text-align: left;\">Hugo Weaving</td>\n",
    "            <td style=\"text-align: left;\">1960-04-04</td>\n",
    "        </tr>\n",
    "    </tbody>\n",
    "</table>"
   ]
  },
  {
   "cell_type": "markdown",
   "metadata": {},
   "source": [
    "<p style=\"text-align: right; direction: rtl; float: right; clear: both;\">\n",
    "    הצלחה!\n",
    "</p>"
   ]
  },
  {
   "cell_type": "markdown",
   "metadata": {},
   "source": [
    "<p style=\"text-align: right; direction: rtl; float: right; clear: both;\">\n",
    "    נעדכן את ה־ERD:\n",
    "</p>"
   ]
  },
  {
   "cell_type": "markdown",
   "metadata": {},
   "source": [
    "<figure>\n",
    "    <img src=\"images/normalization_erd_2.svg?v=1\" style=\"width: 200px; margin-right: auto; margin-left: auto; text-align: center;\" alt=\"\n",
    "        בתמונה קופסה שבה כותרת שצבע הרקע שלה אפור. הקופסה מיצגת טבלה.\n",
    "        בראש הקופסה כתוב שמה של הטבלה, ומתחתיה שורות המייצגות את העמודות שהוגדרו בטבלה.\n",
    "        לצד כל עמודה, באפור, מופיע מלל שמתאר את סוג הנתונים שיהיו באותה עמודה: text, date וכדומה.\n",
    "\"/>\n",
    "    <figcaption style=\"margin-top: 2rem; text-align: center; direction: rtl;\">\n",
    "        ה־ERD של מסד הנתונים שלנו לאחר שהוספנו עמודה.<br>\n",
    "    </figcaption>\n",
    "</figure>"
   ]
  },
  {
   "cell_type": "markdown",
   "metadata": {},
   "source": [
    "<p style=\"text-align: right; direction: rtl; float: right; clear: both;\">\n",
    "    אבל הנודניקים שבינינו שוב מעקמים את האף.<br>\n",
    "    \"גם בצורה הזו יש לא מעט בעיות!\", הם נזעקים.<br>\n",
    "</p>"
   ]
  },
  {
   "cell_type": "markdown",
   "metadata": {},
   "source": [
    "<div class=\"align-center\" style=\"display: flex; text-align: right; direction: rtl; clear: both;\">\n",
    "    <div style=\"display: flex; width: 10%; float: right; clear: both;\">\n",
    "        <img src=\"images/exercise.svg\" style=\"height: 50px !important;\" alt=\"תרגול\"> \n",
    "    </div>\n",
    "    <div style=\"width: 70%\">\n",
    "        <p style=\"text-align: right; direction: rtl; float: right; clear: both;\">\n",
    "            קחו רגע ונסו לחשוב מה הבעיות שעולות מהעיצוב החדש שיצרנו עבור מסד הנתונים.\n",
    "        </p>\n",
    "    </div>\n",
    "    <div style=\"display: flex; width: 20%; border-right: 0.1rem solid #A5A5A5; padding: 1rem 2rem;\">\n",
    "        <p style=\"text-align: center; direction: rtl; justify-content: center; align-items: center; clear: both;\">\n",
    "            <strong>חשוב!</strong><br>\n",
    "            פתרו לפני שתמשיכו!\n",
    "        </p>\n",
    "    </div>\n",
    "</div>"
   ]
  },
  {
   "cell_type": "markdown",
   "metadata": {},
   "source": [
    "### <span style=\"text-align: right; direction: rtl; float: right;\">תרגיל ביניים: מן המסד</span>"
   ]
  },
  {
   "cell_type": "markdown",
   "metadata": {},
   "source": [
    "<p style=\"text-align: right; direction: rtl; float: right; clear: both;\">\n",
    "    בנו טבלה שמכילה פרטים על משתמשים בקורס פייתון.<br>\n",
    "    הטבלה תכלול את שם המשתמש, תאריך יום ההולדת שלו (אם הוא סיפק כזה) ואת התרגילים שפתר.<br>\n",
    "    עבור כל תרגיל שפתר המשתמש קיימות התכונות הבאות: שם, מספר מחברת ומועד אחרון להגשה.\n",
    "</p>"
   ]
  },
  {
   "cell_type": "markdown",
   "metadata": {},
   "source": [
    "<p style=\"text-align: right; direction: rtl; float: right; clear: both;\">\n",
    "    צרו ERD שמתאר את הטבלה שיצרתם.<br>\n",
    "    תוכלו להשתמש ב־<a href=\"https://vuerd.github.io/vuerd/?path=/story/demo--live\">vuerd</a>, או בכל כלי אחר שיהיה לכם נוח עבור המשימה.\n",
    "</p>"
   ]
  },
  {
   "cell_type": "markdown",
   "metadata": {},
   "source": [
    "### <span style=\"text-align: right; direction: rtl; float: right;\">צימוד וכפילויות</span>"
   ]
  },
  {
   "cell_type": "markdown",
   "metadata": {},
   "source": [
    "<p style=\"text-align: right; direction: rtl; float: right; clear: both;\">\n",
    "    אנחנו בטוחים שהצלחתם לחשוב על לא מעט בעיות בצורה החדשה בה אירגנו את הטבלה.<br>\n",
    "    עבורנו, אחת הבעיות הראשונות שזועקות מהטבלה היא כפילות הנתונים.\n",
    "</p>"
   ]
  },
  {
   "cell_type": "markdown",
   "metadata": {},
   "source": [
    "<p style=\"text-align: right; direction: rtl; float: right; clear: both;\">\n",
    "    אנחנו לא סתם נטפלים לכפילות הזו – היא ממש מסוכנת.<br>\n",
    "    נתמקד בכפילות של שחקנים – שהרי אותו שחקן יכול לשחק בכמה סרטים.<br>\n",
    "    בדוגמה שלנו, השחקן הנפלא הוגו ויבינג משחק גם בסרט The Matrix וגם בסרט V for Vendetta.\n",
    "</p>"
   ]
  },
  {
   "cell_type": "markdown",
   "metadata": {},
   "source": [
    "<p style=\"text-align: right; direction: rtl; float: right; clear: both;\">\n",
    "    אם נרצה להוסיף סרט שבו משחק ויבינג, נצטרך לציין שוב את כל פרטי השחקן שלו – שכבר כתובים בשורה אחרת.<br>\n",
    "    בדוגמה שלנו זה רק תאריך יום ההולדת, אבל לו היו עמודות נוספות היינו צריכים להעתיק שוב את כולן. \n",
    "</p>"
   ]
  },
  {
   "cell_type": "markdown",
   "metadata": {},
   "source": [
    "#### <span style=\"text-align: right; direction: rtl; float: right;\">חריגויות</span>"
   ]
  },
  {
   "cell_type": "markdown",
   "metadata": {},
   "source": [
    "<p style=\"text-align: right; direction: rtl; float: right; clear: both;\">\n",
    "    זה אפילו לא החלק הגרוע ביותר. מה יקרה כשנרצה לעדכן את כתובת מגוריו של ויבינג, לדוגמה?<br>\n",
    "    נצטרך לכתוב שאילתה שתעבור ותשנה בכל השורות בהן הוא מופיע את כתובת המגורים שלו.<br>\n",
    "    ומה אם השאילתה תיכשל באמצע, או שהשאילתה שניסחנו לא הצליחה לתפוס את כל השורות בהן ויבינג מופיע?<br>\n",
    "</p>"
   ]
  },
  {
   "cell_type": "markdown",
   "metadata": {},
   "source": [
    "<p style=\"text-align: right; direction: rtl; float: right; clear: both;\">\n",
    "    במקרה שכזה, כשנשאל את מסד הנתונים איפה ויבינג גר יחזרו לנו שתי כתובות שונות.<br>\n",
    "    זו אי־סדירות בנתונים שלנו – מצב שבו יש לנו נתונים סותרים במסד הנתונים, ממנו אנחנו חייבים להימנע בכל דרך.<br>\n",
    "    הבעיה הזו, שבה מידע כפול מסכן את עקביות הנתונים, נקראת <dfn>חֲרִיגוּת עדכון</dfn> (<dfn>Update anomaly</dfn>).\n",
    "</p>"
   ]
  },
  {
   "cell_type": "markdown",
   "metadata": {},
   "source": [
    "<p style=\"text-align: right; direction: rtl; float: right; clear: both;\">\n",
    "    בעיה נוספת עלולה להיווצר כשננסה להוסיף סרט חדש.<br>\n",
    "    בסרט האנימציה המוכר Fantasia 2000, לדוגמה, לא ליהקו שחקנים.<br>\n",
    "    אם נרצה להוסיף אותו למסד הנתונים, לא ברור מה נכניס בעמודות השמורות למידע על השחקנים.<br>\n",
    "    הבעיה הזו, שבה אי אפשר להכניס מידע חדש בגלל חוסר במידע אחר, נקראת <dfn>חֲרִיגוּת הכנסה</dfn> (<dfn>Insertion anomaly</dfn>).\n",
    "</p>"
   ]
  },
  {
   "cell_type": "markdown",
   "metadata": {},
   "source": [
    "<p style=\"text-align: right; direction: rtl; float: right; clear: both;\">\n",
    "    ומה באשר למחיקת נתונים?<br>\n",
    "    אם ישנו שחקן שמשחק רק בסרט אחד, מחיקה של הסרט ממסד הנתונים תמחק לנו את כל המידע שקיים לנו על השחקן.<br> \n",
    "    זה אומר שכשנרצה להוסיף את השחקן לסרט אחר בעתיד, יהיו חסרים לנו נתונים כמו יום ההולדת שלו.<br>\n",
    "    הבעיה הזו, שבה מחיקה של מידע לא נחוץ גוררת איבוד של מידע נחוץ, נקראת <dfn>חֲרִיגוּת מחיקה</dfn> (<dfn>Deletion anomaly</dfn>).\n",
    "</p>"
   ]
  },
  {
   "cell_type": "markdown",
   "metadata": {},
   "source": [
    "#### <span style=\"text-align: right; direction: rtl; float: right;\">תמיד יכול להיות גרוע יותר</span>"
   ]
  },
  {
   "cell_type": "markdown",
   "metadata": {},
   "source": [
    "<p style=\"text-align: right; direction: rtl; float: right; clear: both;\">\n",
    "    ויש עוד!<br>\n",
    "    אם נרצה להוסיף עבור כל אחד מהשחקנים את שמות הילדים שלו, נצטרך להוסיף שורה עבור כל ילד כדי לשמור על אי־פריקות.<br>\n",
    "    ואם נרצה לכלול את תחביביו של כל ילד?\n",
    "</p>\n",
    "<p style=\"text-align: right; direction: rtl; float: right; clear: both;\">\n",
    "    בצורה הזו כל עמודה שנרצה להוסיף תגדיל לנו את מספר הישויות משמעותית.<br>\n",
    "    בסרט שבו יש 5 שחקנים, לכל שחקן יש 3 ילדים ולכל ילד 6 תחביבים,<br>\n",
    "    יוצא שעבור $1 + 5 + 3 + 6 = 15$ ישויות נצטרך ליצור $1 \\cdot 5 \\cdot 3 \\cdot 6 = 90$ ישויות במסד הנתונים!<br>\n",
    "</p>"
   ]
  },
  {
   "cell_type": "markdown",
   "metadata": {},
   "source": [
    "<p style=\"text-align: right; direction: rtl; float: right; clear: both;\">\n",
    "    אם אתם זועקים מבעד למסך המחשב \"בסדר, בסדר, נודניק! נפריד לטבלאות!\" זה רק אומר שאתם נורמליים לחלוטין.<br>\n",
    "    נפריד לטבלאות.\n",
    "</p>"
   ]
  },
  {
   "cell_type": "markdown",
   "metadata": {},
   "source": [
    "<table style=\"clear: both; font-size: 1.5rem;\">\n",
    "    <caption style=\"text-align: center; direction: rtl; clear: both; font-size: 2rem; padding-bottom: 2rem;\">טבלת <var>movies</var></caption>\n",
    "    <thead>\n",
    "        <tr>\n",
    "            <th style=\"text-align: center;\">title</th>\n",
    "            <th style=\"text-align: center;\">release_year</th>\n",
    "            <th style=\"text-align: center;\">actor_name</th>\n",
    "        </tr>\n",
    "    </thead>\n",
    "    <tbody>\n",
    "        <tr>\n",
    "            <td style=\"text-align: left;\">Monty Python and the Holy Grail</td>\n",
    "            <td style=\"text-align: left;\">1975</td>\n",
    "            <td style=\"text-align: left;\">Graham Chapman</td>\n",
    "        </tr>\n",
    "        <tr>\n",
    "            <td style=\"text-align: left;\">Monty Python and the Holy Grail</td>\n",
    "            <td style=\"text-align: left;\">1975</td>\n",
    "            <td style=\"text-align: left;\">John Cleese</td>\n",
    "        </tr>\n",
    "        <tr>\n",
    "            <td style=\"text-align: left;\">Monty Python and the Holy Grail</td>\n",
    "            <td style=\"text-align: left;\">1975</td>\n",
    "            <td style=\"text-align: left;\">Eric Idle</td>\n",
    "        </tr>\n",
    "        <tr>\n",
    "            <td style=\"text-align: left;\">Monty Python and the Holy Grail</td>\n",
    "            <td style=\"text-align: left;\">1975</td>\n",
    "            <td style=\"text-align: left;\">Terry Gilliam</td>\n",
    "        </tr>\n",
    "        <tr>\n",
    "            <td style=\"text-align: left;\">V for Vendetta</td>\n",
    "            <td style=\"text-align: left;\">2005</td>\n",
    "            <td style=\"text-align: left;\">Hugo Weaving</td>\n",
    "        </tr>\n",
    "        <tr>\n",
    "            <td style=\"text-align: left;\">V for Vendetta</td>\n",
    "            <td style=\"text-align: left;\">2005</td>\n",
    "            <td style=\"text-align: left;\">Rupert Graves</td>\n",
    "        </tr>\n",
    "        <tr>\n",
    "            <td style=\"text-align: left;\">V for Vendetta</td>\n",
    "            <td style=\"text-align: left;\">2005</td>\n",
    "            <td style=\"text-align: left;\">Stephen Rea</td>\n",
    "        </tr>\n",
    "        <tr>\n",
    "            <td style=\"text-align: left;\">The Matrix</td>\n",
    "            <td style=\"text-align: left;\">1999</td>\n",
    "            <td style=\"text-align: left;\">Keanu Reeves</td>\n",
    "        </tr>\n",
    "        <tr>\n",
    "            <td style=\"text-align: left;\">The Matrix</td>\n",
    "            <td style=\"text-align: left;\">1999</td>\n",
    "            <td style=\"text-align: left;\">Laurence Fishburne</td>\n",
    "        </tr>\n",
    "        <tr>\n",
    "            <td style=\"text-align: left;\">The Matrix</td>\n",
    "            <td style=\"text-align: left;\">1999</td>\n",
    "            <td style=\"text-align: left;\">Hugo Weaving</td>\n",
    "        </tr>\n",
    "    </tbody>\n",
    "</table>\n",
    "\n",
    "<table style=\"clear: both; font-size: 1.5rem;\">\n",
    "    <caption style=\"text-align: center; direction: rtl; clear: both; font-size: 2rem; padding-bottom: 2rem;\">טבלת <var>actors</var></caption>\n",
    "    <thead>\n",
    "        <tr>\n",
    "            <th style=\"text-align: center;\">name</th>\n",
    "            <th style=\"text-align: center;\">birth_date</th>\n",
    "        </tr>\n",
    "    </thead>\n",
    "    <tbody>\n",
    "        <tr>\n",
    "            <td style=\"text-align: left;\">Graham Chapman</td>\n",
    "            <td style=\"text-align: left;\">1941-01-08</td>\n",
    "        </tr>\n",
    "        <tr>\n",
    "            <td style=\"text-align: left;\">John Cleese</td>\n",
    "            <td style=\"text-align: left;\">1939-10-27</td>\n",
    "        </tr>\n",
    "        <tr>\n",
    "            <td style=\"text-align: left;\">Eric Idle</td>\n",
    "            <td style=\"text-align: left;\">1943-03-29</td>\n",
    "        </tr>\n",
    "        <tr>\n",
    "            <td style=\"text-align: left;\">Terry Gilliam</td>\n",
    "            <td style=\"text-align: left;\">1940-11-22</td>\n",
    "        </tr>\n",
    "        <tr>\n",
    "            <td style=\"text-align: left;\">Hugo Weaving</td>\n",
    "            <td style=\"text-align: left;\">1960-04-04</td>\n",
    "        </tr>\n",
    "        <tr>\n",
    "            <td style=\"text-align: left;\">Rupert Graves</td>\n",
    "            <td style=\"text-align: left;\">1963-06-30</td>\n",
    "        </tr>\n",
    "        <tr>\n",
    "            <td style=\"text-align: left;\">Stephen Rea</td>\n",
    "            <td style=\"text-align: left;\">1946-10-31</td>\n",
    "        </tr>\n",
    "        <tr>\n",
    "            <td style=\"text-align: left;\">Keanu Reeves</td>\n",
    "            <td style=\"text-align: left;\">1964-09-02</td>\n",
    "        </tr>\n",
    "        <tr>\n",
    "            <td style=\"text-align: left;\">Laurence Fishburne</td>\n",
    "            <td style=\"text-align: left;\">1961-07-30</td>\n",
    "        </tr>\n",
    "        <tr>\n",
    "            <td style=\"text-align: left;\">Hugo Weaving</td>\n",
    "            <td style=\"text-align: left;\">1960-04-04</td>\n",
    "        </tr>\n",
    "    </tbody>\n",
    "</table>"
   ]
  },
  {
   "cell_type": "markdown",
   "metadata": {},
   "source": [
    "<p style=\"text-align: right; direction: rtl; float: right; clear: both;\">\n",
    "    עכשיו נוכל להעשיר את טבלת <var>actors</var> מבלי לדאוג להשפעות שיהיו לעריכות שלנו על טבלת <var>movies</var>.<br>\n",
    "    נוסיף תאריך פטירה וגובה, ונמחק את הכפילות שיש לנו במסד הנתונים עבור השחקן הוגו ויבינג:\n",
    "</p>"
   ]
  },
  {
   "cell_type": "markdown",
   "metadata": {},
   "source": [
    "<table style=\"clear: both; font-size: 1.5rem;\">\n",
    "    <caption style=\"text-align: center; direction: rtl; clear: both; font-size: 2rem; padding-bottom: 2rem;\">טבלת <var>actors</var></caption>\n",
    "    <thead>\n",
    "        <tr>\n",
    "            <th style=\"text-align: center;\">name</th>\n",
    "            <th style=\"text-align: center;\">height</th>\n",
    "            <th style=\"text-align: center;\">birth_date</th>\n",
    "            <th style=\"text-align: center;\">death_date</th>\n",
    "        </tr>\n",
    "    </thead>\n",
    "    <tbody>\n",
    "        <tr>\n",
    "            <td style=\"text-align: left;\">Graham Chapman</td>\n",
    "            <td style=\"text-align: left;\">191.0</td>\n",
    "            <td style=\"text-align: left;\">1941-01-08</td>\n",
    "            <td style=\"text-align: left;\">1989-10-04</td>\n",
    "        </tr>\n",
    "        <tr>\n",
    "            <td style=\"text-align: left;\">John Cleese</td>\n",
    "            <td style=\"text-align: left;\">196.0</td>\n",
    "            <td style=\"text-align: left;\">1939-10-27</td>\n",
    "            <td style=\"text-align: left;\"><code>NULL</code></td>\n",
    "        </tr>\n",
    "        <tr>\n",
    "            <td style=\"text-align: left;\">Eric Idle</td>\n",
    "            <td style=\"text-align: left;\">186.0</td>\n",
    "            <td style=\"text-align: left;\">1943-03-29</td>\n",
    "            <td style=\"text-align: left;\"><code>NULL</code></td>\n",
    "        </tr>\n",
    "        <tr>\n",
    "            <td style=\"text-align: left;\">Terry Gilliam</td>\n",
    "            <td style=\"text-align: left;\">175.0</td>\n",
    "            <td style=\"text-align: left;\">1940-11-22</td>\n",
    "            <td style=\"text-align: left;\"><code>NULL</code></td>\n",
    "        </tr>\n",
    "        <tr>\n",
    "            <td style=\"text-align: left;\">Hugo Weaving</td>\n",
    "            <td style=\"text-align: left;\">188.0</td>\n",
    "            <td style=\"text-align: left;\">1960-04-04</td>\n",
    "            <td style=\"text-align: left;\"><code>NULL</code></td>\n",
    "        </tr>\n",
    "        <tr>\n",
    "            <td style=\"text-align: left;\">Rupert Graves</td>\n",
    "            <td style=\"text-align: left;\">180.0</td>\n",
    "            <td style=\"text-align: left;\">1963-06-30</td>\n",
    "            <td style=\"text-align: left;\"><code>NULL</code></td>\n",
    "        </tr>\n",
    "        <tr>\n",
    "            <td style=\"text-align: left;\">Stephen Rea</td>\n",
    "            <td style=\"text-align: left;\">179.0</td>\n",
    "            <td style=\"text-align: left;\">1946-10-31</td>\n",
    "            <td style=\"text-align: left;\"><code>NULL</code></td>\n",
    "        </tr>\n",
    "        <tr>\n",
    "            <td style=\"text-align: left;\">Keanu Reeves</td>\n",
    "            <td style=\"text-align: left;\">186.0</td>\n",
    "            <td style=\"text-align: left;\">1964-09-02</td>\n",
    "            <td style=\"text-align: left;\"><code>NULL</code></td>\n",
    "        </tr>\n",
    "        <tr>\n",
    "            <td style=\"text-align: left;\">Laurence Fishburne</td>\n",
    "            <td style=\"text-align: left;\">184.0</td>\n",
    "            <td style=\"text-align: left;\">1961-07-30</td>\n",
    "            <td style=\"text-align: left;\"><code>NULL</code></td>\n",
    "        </tr>\n",
    "    </tbody>\n",
    "</table>\n"
   ]
  },
  {
   "cell_type": "markdown",
   "metadata": {},
   "source": [
    "<p style=\"text-align: right; direction: rtl; float: right; clear: both;\">\n",
    "    מצוין!\n",
    "</p>"
   ]
  },
  {
   "cell_type": "markdown",
   "metadata": {},
   "source": [
    "<p style=\"text-align: right; direction: rtl; float: right; clear: both;\">\n",
    "    נעדכן את ה־ERD:\n",
    "</p>"
   ]
  },
  {
   "cell_type": "markdown",
   "metadata": {},
   "source": [
    "<figure>\n",
    "    <img src=\"images/normalization_erd_3.svg?v=4\" style=\"width: 500px; margin-right: auto; margin-left: auto; text-align: center;\" alt=\"\n",
    "        בתמונה קופסאות שבהן כותרת, שצבע הרקע שלה אפור. כל קופסה מיצגת טבלה.\n",
    "        בראש הקופסה כתוב שמה של הטבלה, ומתחתיה שורות המייצגות את העמודות שהוגדרו בטבלה.\n",
    "        לצד כל עמודה, באפור, מופיע מלל שמתאר את סוג הנתונים שיהיו באותה עמודה: text, date וכדומה.\n",
    "\"/>\n",
    "    <figcaption style=\"margin-top: 2rem; text-align: center; direction: rtl;\">\n",
    "        ה־ERD של מסד הנתונים שלנו לאחר העדכון, עם טבלת actors והעמודות הנוספות.<br>\n",
    "    </figcaption>\n",
    "</figure>"
   ]
  },
  {
   "cell_type": "markdown",
   "metadata": {},
   "source": [
    "### <span style=\"text-align: right; direction: rtl; float: right;\">אילוצים – <code>NULL</code></span>"
   ]
  },
  {
   "cell_type": "markdown",
   "metadata": {},
   "source": [
    "<p style=\"text-align: right; direction: rtl; float: right; clear: both;\">\n",
    "    נפנה לרגע תשומת לב לעמודת תאריך הפטירה, שמלאה ב־<code>NULL</code>־ים.<br>\n",
    "    בעמודות מסוימות, כמו בעמודת תאריכי הפטירה, אנחנו מצפים לראות <code>NULL</code> בחלק מהתאים.<br>\n",
    "</p>"
   ]
  },
  {
   "cell_type": "markdown",
   "metadata": {},
   "source": [
    "<p style=\"text-align: right; direction: rtl; float: right; clear: both;\">\n",
    "    מתי נראה <code>NULL</code> במסד הנתונים שלנו בדרך כלל?\n",
    "</p>"
   ]
  },
  {
   "cell_type": "markdown",
   "metadata": {},
   "source": [
    "<ol style=\"text-align: right; direction: rtl; float: right; clear: both;\">\n",
    "    <li>כשומר מקום עבור ערך שעדיין לא קיים – לדוגמה, אם השחקן עדיין חי ואין עבורו תאריך פטירה.</li>\n",
    "    <li>כמחליף של מידע חסר – כמו שחקן שאין לנו נתונים לגבי תאריך יום הולדתו.</li>\n",
    "</ol>"
   ]
  },
  {
   "cell_type": "markdown",
   "metadata": {},
   "source": [
    "<p style=\"text-align: right; direction: rtl; float: right; clear: both;\">\n",
    "    לעומת עמודות שעשויות לכלול <code>NULL</code>, יש עמודות שבהן אנחנו ממש בטוחים שלא יופיע <code>NULL</code>.<br>\n",
    "    אחת מהן, לדוגמה, היא שם השחקן. אין משמעות להכנסת שחקן למסד הנתונים אם אנחנו לא יודעים את שמו.<br>\n",
    "    נוכל להגיד שאנחנו משוכנעים שהעמודה <var>name</var> לעולם לא תכיל <code>NULL</code>.\n",
    "</p>"
   ]
  },
  {
   "cell_type": "markdown",
   "metadata": {},
   "source": [
    "<p style=\"text-align: right; direction: rtl; float: right; clear: both;\">\n",
    "    יתרון משמעותי שמסדי נתונים טבלאיים מספקים לנו הוא היכולת לאכוף עקביות בנתונים שאנחנו מאחסנים בו.<br>\n",
    "    אפשר להגביל את הערכים שיכולים להיכנס לעמודה מסוימת במסד הנתונים בעזרת הגדרת <dfn>אילוצים</dfn> (<dfn>constraints</dfn>).\n",
    "</p>"
   ]
  },
  {
   "cell_type": "markdown",
   "metadata": {},
   "source": [
    "<p style=\"text-align: right; direction: rtl; float: right; clear: both;\">\n",
    "    לדוגמה, על העמודה <var>name</var> בטבלה <var>actors</var>, נרצה להוסיף את האילוץ <code>NOT NULL</code> – אילוץ שמוודא שהנתון שהוזן לעמודה אינו <code>NULL</code>.<br>\n",
    "    לרוב, מי שבונה את מסד הנתונים הוא זה שמחליט על האילוצים בעמודות השונות.\n",
    "</p>"
   ]
  },
  {
   "cell_type": "markdown",
   "metadata": {},
   "source": [
    "<p style=\"text-align: right; direction: rtl; float: right; clear: both;\">\n",
    "    אם תחזרו לתרשים שמתאר את מסד הנתונים, זה שמופיע בתחילת הפרק,<br>\n",
    "    תוכלו לזהות בקלות עבור אילו עמודות הוגדר האילוץ <code>NOT NULL</code>.<br>\n",
    "    לצד העמודות ש<em>כן</em> מתירות הזנת <code>NULL</code>, מופיע סימן שאלה, שרומז על כך שלא חייב להיות בעמודה ערך.\n",
    "</p>"
   ]
  },
  {
   "cell_type": "markdown",
   "metadata": {},
   "source": [
    "<p style=\"text-align: right; direction: rtl; float: right; clear: both;\">\n",
    "    נוסיף ל־ERD שלנו סימונים שמסמנים באילו עמודות עשוי להיות <code>NULL</code>:\n",
    "</p>"
   ]
  },
  {
   "cell_type": "markdown",
   "metadata": {},
   "source": [
    "<figure>\n",
    "    <img src=\"images/normalization_erd_4.svg?v=3\" style=\"width: 500px; margin-right: auto; margin-left: auto; text-align: center;\" alt=\"\n",
    "        בתמונה קופסאות שבהן כותרת, שצבע הרקע שלה אפור. כל קופסה מיצגת טבלה.\n",
    "        בראש הקופסה כתוב שמה של הטבלה, ומתחתיה שורות המייצגות את העמודות שהוגדרו בטבלה.\n",
    "        לצד כל עמודה, באפור, מופיע מלל שמתאר את סוג הנתונים שיהיו באותה עמודה: text, date וכדומה.\n",
    "        בחלק מהשורות, לצד המלל שמציין את טיפוס הנתונים בעמודה, מופיע N עבור עמודות שעשויות לכלול את הערך NULL.\n",
    "\"/>\n",
    "    <figcaption style=\"margin-top: 2rem; text-align: center; direction: rtl;\">\n",
    "        ה־ERD של מסד הנתונים שלנו לאחר העדכון, עם סימון העמודות שעשויות להכיל <code>NULL</code>.<br>\n",
    "    </figcaption>\n",
    "</figure>"
   ]
  },
  {
   "cell_type": "markdown",
   "metadata": {},
   "source": [
    "### <span style=\"text-align: right; direction: rtl; float: right;\">תרגיל ביניים: ועד הטפחות</span>"
   ]
  },
  {
   "cell_type": "markdown",
   "metadata": {},
   "source": [
    "<p style=\"text-align: right; direction: rtl; float: right; clear: both;\">\n",
    "    בהמשך לתרגיל הקודם, הפרידו את הנתונים לטבלאות וסמנו שדות שניתן להזין בהם <code>NULL</code>.<br>\n",
    "    הוסיפו עמודה שמכילה מידע על מצב התרגיל, ובה אחד מהערכים \"לא הוגש\", \"הוגש\" או \"נבדק\".\n",
    "</p>"
   ]
  },
  {
   "cell_type": "markdown",
   "metadata": {},
   "source": [
    "<p style=\"text-align: right; direction: rtl; float: right; clear: both;\">\n",
    "    צרו ERD שמתאר את הטבלה שיצרתם.<br>\n",
    "    תוכלו להשתמש ב־<a href=\"https://vuerd.github.io/vuerd/?path=/story/demo--live\">vuerd</a>, או בכל כלי אחר שיהיה לכם נוח עבור המשימה.\n",
    "</p>"
   ]
  },
  {
   "cell_type": "markdown",
   "metadata": {},
   "source": [
    "### <span style=\"text-align: right; direction: rtl; float: right;\">מפתח ראשי</span>"
   ]
  },
  {
   "cell_type": "markdown",
   "metadata": {},
   "source": [
    "<div class=\"align-center\" style=\"display: flex; text-align: right; direction: rtl; clear: both;\">\n",
    "    <div style=\"display: flex; width: 10%; float: right; clear: both;\">\n",
    "        <img src=\"images/exercise.svg\" style=\"height: 50px !important;\" alt=\"תרגול\"> \n",
    "    </div>\n",
    "    <div style=\"width: 70%\">\n",
    "        <p style=\"text-align: right; direction: rtl; float: right; clear: both;\">\n",
    "            התגעגעתם למשחק שבו אתם מוצאים את הבעיה במסד הנתונים שיצרנו?<br>\n",
    "            מצאו את הבעיות שעשויות להיווצר מארגון הנתונים כפי שעשינו ב־ERD האחרון.\n",
    "        </p>\n",
    "    </div>\n",
    "    <div style=\"display: flex; width: 20%; border-right: 0.1rem solid #A5A5A5; padding: 1rem 2rem;\">\n",
    "        <p style=\"text-align: center; direction: rtl; justify-content: center; align-items: center; clear: both;\">\n",
    "            <strong>חשוב!</strong><br>\n",
    "            פתרו לפני שתמשיכו!\n",
    "        </p>\n",
    "    </div>\n",
    "</div>"
   ]
  },
  {
   "cell_type": "markdown",
   "metadata": {},
   "source": [
    "<p style=\"text-align: right; direction: rtl; float: right; clear: both;\">\n",
    "    הצלחתם לחשוב על משהו?<br>\n",
    "    אם תשקיעו מספיק זמן, ודאי תצליחו לחשוב על בעיות רבות.<br>\n",
    "    נתמקד באחת מרכזית: הייחודיות של כל ישות בטבלאות שיצרנו.<br>\n",
    "</p>"
   ]
  },
  {
   "cell_type": "markdown",
   "metadata": {},
   "source": [
    "<p style=\"text-align: right; direction: rtl; float: right; clear: both;\">\n",
    "    נניח שבטבלת הסרטים מופיעים שני סרטים – Star Wars ו־Dial M for Murder.<br>\n",
    "    בסרט Star Wars משחק שחקן בשם John Williams.<br>\n",
    "    תוכלו למצוא אותו במסד הנתונים שמשמש אתכם לתרגול, בטבלת <var>names</var> תחת המזהה nm0002354.<br>\n",
    "    בסרט Dial M for Murder של היצ'קוק (תורגם ל\"אליבי\", אם תהיתם) משחק שחקן ששמו הוא... John Williams.<br>\n",
    "    המזהה שלו במסד הנתונים הוא nm0002369.\n",
    "</p>"
   ]
  },
  {
   "cell_type": "markdown",
   "metadata": {},
   "source": [
    "<p style=\"text-align: right; direction: rtl; float: right; clear: both;\">\n",
    "    זו לא טעות!<br>\n",
    "    אמנם שמם של שני השחקנים זהה, אך מדובר בשחקנים שונים.<br>\n",
    "    כיצד נבדיל ביניהם? הרי בעמודת <var>actor_name</var> שבטבלת <var>movies</var> בשני המקרים יהיה כתוב John Williams.<br>\n",
    "    איך נדע לאיזה שחקן התא שבטבלת <var>movies</var> מתייחס?\n",
    "</p>"
   ]
  },
  {
   "cell_type": "markdown",
   "metadata": {},
   "source": [
    "<p style=\"text-align: right; direction: rtl; float: right; clear: both;\">\n",
    "    הבעיה שלנו היא היכולת לזהות שחקן באופן חד־חד ערכי.<br>\n",
    "    שם של שחקן או שם של סרט הם נתונים שעשויים להיות בהם כפילויות, ולכן אינם מזהים טובים דיו.<br>\n",
    "    אם נרצה להתייחס לסרט \"The Lion King\" – איך נדע האם מדובר בקלאסיקה הנפלאה משנת 1994 או בפשע המודרני משנת 2019?<br>\n",
    "</p>"
   ]
  },
  {
   "cell_type": "markdown",
   "metadata": {},
   "source": [
    "<p style=\"text-align: right; direction: rtl; float: right; clear: both;\">\n",
    "    אילו היינו מוסיפים לטבלת <var>actors</var> מזהה כלשהו, כמו nm0002354 עבור ג'ון הראשון ו־nm0002369 עבור ג'ון השני,<br>\n",
    "    היינו יכולים להתייחס בטבלת <var>movies</var> למזהה הזה במקום לשם השחקן.<br>\n",
    "    בצורה הזו היה קל לנו יותר להבין על איזה John Williams מדובר בכל אחד מהסרטים.\n",
    "</p>"
   ]
  },
  {
   "cell_type": "markdown",
   "metadata": {},
   "source": [
    "<p style=\"text-align: right; direction: rtl; float: right; clear: both;\">\n",
    "    המסקנה המתבקשת היא שעבור כל ישות במסד הנתונים, אנחנו חייבים נתון שיאפשר לזהות אותה באופן ייחודי.<br>\n",
    "    אם היינו מנהלים מסד נתונים של מרשם האוכלוסין, שבו יש את פרטיהם של כל האזרחים במדינת ישראל.<br>\n",
    "    איזו שיטה יש לנו לזהות אדם מסוים בישראל באופן ייחודי?<br>\n",
    "    איך נדע להבדיל בין משה כהן אחד למשנהו?\n",
    "</p>"
   ]
  },
  {
   "cell_type": "markdown",
   "metadata": {},
   "source": [
    "<p style=\"text-align: right; direction: rtl; float: right; clear: both;\">\n",
    "    השיטה שמצאו במשרד הפנים היא שכל אחד מהאנשים יקבל מספר ייחודי לו.<br>\n",
    "    אתם ודאי מכירים את המספר הזה בתור \"תעודת זהות\".<br>\n",
    "</p>"
   ]
  },
  {
   "cell_type": "markdown",
   "metadata": {},
   "source": [
    "<p style=\"text-align: right; direction: rtl; float: right; clear: both;\">\n",
    "    במסדי נתונים נהוג להוסיף לכל טבלה עמודה שמאחסנת נתון ייחודי, כזה שישתנה בין ישות לישות ויזהה אותה באופן חד־חד ערכי.<br>\n",
    "    לפי הרעיון, לכל שורה מוקצה מזהה שלעולם לא יהיה <code>NULL</code> ולעולם לא יחזור על עצמו באותה טבלה.\n",
    "</p>"
   ]
  },
  {
   "cell_type": "markdown",
   "metadata": {},
   "source": [
    "<p style=\"text-align: right; direction: rtl; float: right; clear: both;\">\n",
    "    דרך פופולרית לממש מזהה ייחודי היא פשוט <dfn>מספר רץ</dfn> (<dfn>autoincrement</dfn>):<br>\n",
    "    השורה הראשונה שמתווספת לטבלה מקבלת את המזהה 1, השורה השנייה מקבלת את המזהה 2 וכן הלאה.<br>\n",
    "    זו דרך מצוינת להימנע ממצב בו אותו מזהה מופיע בשתי ישויות שונות באותה טבלה, ולשמור על דרך לזהות כל ישות.\n",
    "</p>"
   ]
  },
  {
   "cell_type": "markdown",
   "metadata": {},
   "source": [
    "<p style=\"text-align: right; direction: rtl; float: right; clear: both;\">\n",
    "    הרעיון הנפלא הזה, של עמודה שמכילה נתון שמאפשר לנו לזהות באופן ייחודי כל ישות, נקרא \"<dfn>מפתח ראשי</dfn>\" (<dfn>primary key</dfn>).<br>\n",
    "    תוכלו לראות את המפתח הראשי בכל אחת מהטבלאות ב־ERD שמופיע בתחילת הפרק –<br>\n",
    "    הוא מסומן בעזרת סמליל של מפתח ליד שם העמודה.\n",
    "</p>"
   ]
  },
  {
   "cell_type": "markdown",
   "metadata": {},
   "source": [
    "<p style=\"text-align: right; direction: rtl; float: right; clear: both;\">\n",
    "    ניצור מפתחות ראשיים עבור השחקנים והסרטים.<br>\n",
    "    במקום לציין את שם השחקן בטבלת הסרטים, נציין את המספר הייחודי לו:\n",
    "</p>"
   ]
  },
  {
   "cell_type": "markdown",
   "metadata": {},
   "source": [
    "<table style=\"clear: both; font-size: 1.5rem;\">\n",
    "    <caption style=\"text-align: center; direction: rtl; clear: both; font-size: 2rem; padding-bottom: 2rem;\">טבלת <var>movies</var></caption>\n",
    "    <thead>\n",
    "        <tr>\n",
    "            <th style=\"text-align: center;\">movie_id</th>\n",
    "            <th style=\"text-align: center;\">title</th>\n",
    "            <th style=\"text-align: center;\">release_year</th>\n",
    "            <th style=\"text-align: center;\">actor_id</th>\n",
    "        </tr>\n",
    "    </thead>\n",
    "    <tbody>\n",
    "        <tr>\n",
    "            <td style=\"text-align: left;\">1</td>\n",
    "            <td style=\"text-align: left;\">Monty Python and the Holy Grail</td>\n",
    "            <td style=\"text-align: left;\">1975</td>\n",
    "            <td style=\"text-align: left;\"><del>Graham Chapman</del> 1</td>\n",
    "        </tr>\n",
    "        <tr>\n",
    "            <td style=\"text-align: left;\">2</td>\n",
    "            <td style=\"text-align: left;\">Monty Python and the Holy Grail</td>\n",
    "            <td style=\"text-align: left;\">1975</td>\n",
    "            <td style=\"text-align: left;\"><del>John Cleese</del> 2</td>\n",
    "        </tr>\n",
    "        <tr>\n",
    "            <td style=\"text-align: left;\">3</td>\n",
    "            <td style=\"text-align: left;\">Monty Python and the Holy Grail</td>\n",
    "            <td style=\"text-align: left;\">1975</td>\n",
    "            <td style=\"text-align: left;\"><del>Eric Idle</del> 3</td>\n",
    "        </tr>\n",
    "        <tr>\n",
    "            <td style=\"text-align: left;\">4</td>\n",
    "            <td style=\"text-align: left;\">Monty Python and the Holy Grail</td>\n",
    "            <td style=\"text-align: left;\">1975</td>\n",
    "            <td style=\"text-align: left;\"><del>Terry Gilliam</del> 4</td>\n",
    "        </tr>\n",
    "        <tr>\n",
    "            <td style=\"text-align: left;\">5</td>\n",
    "            <td style=\"text-align: left;\">V for Vendetta</td>\n",
    "            <td style=\"text-align: left;\">2005</td>\n",
    "            <td style=\"text-align: left;\"><del>Hugo Weaving</del> 5</td>\n",
    "        </tr>\n",
    "        <tr>\n",
    "            <td style=\"text-align: left;\">6</td>\n",
    "            <td style=\"text-align: left;\">V for Vendetta</td>\n",
    "            <td style=\"text-align: left;\">2005</td>\n",
    "            <td style=\"text-align: left;\"><del>Rupert Graves</del> 6</td>\n",
    "        </tr>\n",
    "        <tr>\n",
    "            <td style=\"text-align: left;\">7</td>\n",
    "            <td style=\"text-align: left;\">V for Vendetta</td>\n",
    "            <td style=\"text-align: left;\">2005</td>\n",
    "            <td style=\"text-align: left;\"><del>Stephen Rea</del> 7</td>\n",
    "        </tr>\n",
    "        <tr>\n",
    "            <td style=\"text-align: left;\">8</td>\n",
    "            <td style=\"text-align: left;\">The Matrix</td>\n",
    "            <td style=\"text-align: left;\">1999</td>\n",
    "            <td style=\"text-align: left;\"><del>Keanu Reeves</del> 8</td>\n",
    "        </tr>\n",
    "        <tr>\n",
    "            <td style=\"text-align: left;\">9</td>\n",
    "            <td style=\"text-align: left;\">The Matrix</td>\n",
    "            <td style=\"text-align: left;\">1999</td>\n",
    "            <td style=\"text-align: left;\"><del>Laurence Fishburne</del> 9</td>\n",
    "        </tr>\n",
    "        <tr>\n",
    "            <td style=\"text-align: left;\">10</td>\n",
    "            <td style=\"text-align: left;\">The Matrix</td>\n",
    "            <td style=\"text-align: left;\">1999</td>\n",
    "            <td style=\"text-align: left;\"><del>Hugo Weaving</del> 5</td>\n",
    "        </tr>\n",
    "    </tbody>\n",
    "</table>\n",
    "\n",
    "<table style=\"clear: both; font-size: 1.5rem;\">\n",
    "    <caption style=\"text-align: center; direction: rtl; clear: both; font-size: 2rem; padding-bottom: 2rem;\">טבלת <var>actors</var></caption>\n",
    "    <thead>\n",
    "        <tr>\n",
    "            <th style=\"text-align: center;\">actor_id</th>\n",
    "            <th style=\"text-align: center;\">name</th>\n",
    "            <th style=\"text-align: center;\">height</th>\n",
    "            <th style=\"text-align: center;\">birth_date</th>\n",
    "            <th style=\"text-align: center;\">death_date</th>\n",
    "        </tr>\n",
    "    </thead>\n",
    "    <tbody>\n",
    "        <tr>\n",
    "            <td style=\"text-align: left;\">1</td>\n",
    "            <td style=\"text-align: left;\">Graham Chapman</td>\n",
    "            <td style=\"text-align: left;\">191.0</td>\n",
    "            <td style=\"text-align: left;\">1941-01-08</td>\n",
    "            <td style=\"text-align: left;\">1989-10-04</td>\n",
    "        </tr>\n",
    "        <tr>\n",
    "            <td style=\"text-align: left;\">2</td>\n",
    "            <td style=\"text-align: left;\">John Cleese</td>\n",
    "            <td style=\"text-align: left;\">196.0</td>\n",
    "            <td style=\"text-align: left;\">1939-10-27</td>\n",
    "            <td style=\"text-align: left;\"><code>NULL</code></td>\n",
    "        </tr>\n",
    "        <tr>\n",
    "            <td style=\"text-align: left;\">3</td>\n",
    "            <td style=\"text-align: left;\">Eric Idle</td>\n",
    "            <td style=\"text-align: left;\">186.0</td>\n",
    "            <td style=\"text-align: left;\">1943-03-29</td>\n",
    "            <td style=\"text-align: left;\"><code>NULL</code></td>\n",
    "        </tr>\n",
    "        <tr>\n",
    "            <td style=\"text-align: left;\">4</td>\n",
    "            <td style=\"text-align: left;\">Terry Gilliam</td>\n",
    "            <td style=\"text-align: left;\">175.0</td>\n",
    "            <td style=\"text-align: left;\">1940-11-22</td>\n",
    "            <td style=\"text-align: left;\"><code>NULL</code></td>\n",
    "        </tr>\n",
    "        <tr>\n",
    "            <td style=\"text-align: left;\">5</td>\n",
    "            <td style=\"text-align: left;\">Hugo Weaving</td>\n",
    "            <td style=\"text-align: left;\">188.0</td>\n",
    "            <td style=\"text-align: left;\">1960-04-04</td>\n",
    "            <td style=\"text-align: left;\"><code>NULL</code></td>\n",
    "        </tr>\n",
    "        <tr>\n",
    "            <td style=\"text-align: left;\">6</td>\n",
    "            <td style=\"text-align: left;\">Rupert Graves</td>\n",
    "            <td style=\"text-align: left;\">180.0</td>\n",
    "            <td style=\"text-align: left;\">1963-06-30</td>\n",
    "            <td style=\"text-align: left;\"><code>NULL</code></td>\n",
    "        </tr>\n",
    "        <tr>\n",
    "            <td style=\"text-align: left;\">7</td>\n",
    "            <td style=\"text-align: left;\">Stephen Rea</td>\n",
    "            <td style=\"text-align: left;\">179.0</td>\n",
    "            <td style=\"text-align: left;\">1946-10-31</td>\n",
    "            <td style=\"text-align: left;\"><code>NULL</code></td>\n",
    "        </tr>\n",
    "        <tr>\n",
    "            <td style=\"text-align: left;\">8</td>\n",
    "            <td style=\"text-align: left;\">Keanu Reeves</td>\n",
    "            <td style=\"text-align: left;\">186.0</td>\n",
    "            <td style=\"text-align: left;\">1964-09-02</td>\n",
    "            <td style=\"text-align: left;\"><code>NULL</code></td>\n",
    "        </tr>\n",
    "        <tr>\n",
    "            <td style=\"text-align: left;\">9</td>\n",
    "            <td style=\"text-align: left;\">Laurence Fishburne</td>\n",
    "            <td style=\"text-align: left;\">184.0</td>\n",
    "            <td style=\"text-align: left;\">1961-07-30</td>\n",
    "            <td style=\"text-align: left;\"><code>NULL</code></td>\n",
    "        </tr>\n",
    "    </tbody>\n",
    "</table>\n"
   ]
  },
  {
   "cell_type": "markdown",
   "metadata": {},
   "source": [
    "<p style=\"text-align: right; direction: rtl; float: right; clear: both;\">\n",
    "    נעדכן את ה־ERD כך שישקף את השינויים שביצענו בטבלאות.<br>\n",
    "    נוסיף עמודות של מפתחות ראשיים לכל אחת מהטבלאות, ונסמן אותן בהתאם.<br>\n",
    "    נשנה את העמודה <var>actor_name</var> בטבלת <var>movies</var> כך שתצביע על <var>actor_id</var> שבטבלת <var>actors</var>.<br>\n",
    "    נשנה את שם העמודה ל־<var>actor_id</var>, ונגדיר את טיפוס הנתונים שהיא מכילה כ־<code>int</code> במקום כ־<code>text</code>.<br>\n",
    "    ברוב ה־ERD־ים אתם תראו מפתח קטן ליד השורה שמייצגת את המפתח הראשי של הטבלה, או את ראשי התיבות \"<abbr title=\"primary key\">PK</abbr>\".\n",
    "</p>"
   ]
  },
  {
   "cell_type": "markdown",
   "metadata": {},
   "source": [
    "<figure>\n",
    "    <img src=\"images/normalization_erd_5.svg?v=5\" style=\"width: 500px; margin-right: auto; margin-left: auto; text-align: center;\" alt=\"\n",
    "        בתמונה קופסאות שבהן כותרת, שצבע הרקע שלה אפור. כל קופסה מיצגת טבלה.\n",
    "        בראש הקופסה כתוב שמה של הטבלה, ומתחתיה שורות המייצגות את העמודות שהוגדרו בטבלה.\n",
    "        לצד כל עמודה, באפור, מופיע מלל שמתאר את סוג הנתונים שיהיו באותה עמודה: text, date וכדומה.\n",
    "        בחלק מהשורות, לצד המלל שמציין את טיפוס הנתונים בעמודה, מופיע N עבור עמודות שעשויות לכלול את הערך NULL.\n",
    "        בצד שמאל של העמודות שבהן יש מפתח ראשי, מופיע הקיצור PK שמסמן מפתח ראשי.\n",
    "\"/>\n",
    "    <figcaption style=\"margin-top: 2rem; text-align: center; direction: rtl;\">\n",
    "        ה־ERD של מסד הנתונים שלנו לאחר העדכון, עם סימון המפתחות הראשיים והעדכון לעמודות.<br>\n",
    "    </figcaption>\n",
    "</figure>"
   ]
  },
  {
   "cell_type": "markdown",
   "metadata": {},
   "source": [
    "### <span style=\"text-align: right; direction: rtl; float: right;\">מפתח זר</span>"
   ]
  },
  {
   "cell_type": "markdown",
   "metadata": {},
   "source": [
    "<p style=\"text-align: right; direction: rtl; float: right; clear: both;\">\n",
    "    עבור כל ישות בטבלת <var>movies</var>, עמודת <var>actor_id</var> מצביעה על שחקן שבטבלת <var>actors</var>.<br>\n",
    "    לצורך כך היא משתמשת במפתח הראשי שבטבלת <var>actors</var>, עמודה ששמה <var>actor_id</var>, שמקצה מזהה ייחודי לכל שחקן.\n",
    "</p>"
   ]
  },
  {
   "cell_type": "markdown",
   "metadata": {},
   "source": [
    "<p style=\"text-align: right; direction: rtl; float: right; clear: both;\">\n",
    "    הרעיון הזה מאפשר לנו להתייחס לשחקן מטבלה אחרת מבלי לחשוש מבעיה של רב־משמעות לגבי זהות השחקן.<br>\n",
    "    עמודה כמו <var>actor_id</var> בתוך טבלת <var>movies</var> נקראת \"<dfn>מפתח זר</dfn>\" (<dfn>foreign key</dfn>).<br>\n",
    "    אנחנו קוראים לעמודה \"מפתח זר\" כשהערכים שבה מצביעים על מפתח ראשי של טבלה אחרת.\n",
    "</p>"
   ]
  },
  {
   "cell_type": "markdown",
   "metadata": {},
   "source": [
    "<p style=\"text-align: right; direction: rtl; float: right; clear: both;\">\n",
    "        אם נגדיר במסד הנתונים שעמודת <var>actor_id</var> מטבלת <var>movies</var> היא מפתח זר שמצביע לנתונים מעמודת <var>actor_id</var> שבטבלת <var>actors</var>,<br>\n",
    "שימוש במספר שחקן לא קיים (נניח, 10) בעמודת <var>actor_id</var> שבטבלת <var>movies</var> יגרום להתרעה על חריגה.\n",
    "</p>"
   ]
  },
  {
   "cell_type": "markdown",
   "metadata": {},
   "source": [
    "<figure>\n",
    "    <img src=\"images/normalization_erd_6.svg?v=2\" style=\"width: 500px; margin-right: auto; margin-left: auto; text-align: center;\" alt=\"\n",
    "        בתמונה קופסאות שבהן כותרת, שצבע הרקע שלה אפור. כל קופסה מיצגת טבלה.\n",
    "        בראש הקופסה כתוב שמה של הטבלה, ומתחתיה שורות המייצגות את העמודות שהוגדרו בטבלה.\n",
    "        לצד כל עמודה, באפור, מופיע מלל שמתאר את סוג הנתונים שיהיו באותה עמודה: text, date וכדומה.\n",
    "        בחלק מהשורות, לצד המלל שמציין את טיפוס הנתונים בעמודה, מופיע N עבור עמודות שעשויות לכלול את הערך NULL.\n",
    "        בצד שמאל של העמודות שבהן יש מפתח ראשי, מופיע הקיצור PK שמסמן מפתח ראשי.\n",
    "        בצד שמאל של העמודות שבהן יש מפתח זר, מופיע הקיצור FK שמסמן מפתח זר.\n",
    "\"/>\n",
    "    <figcaption style=\"margin-top: 2rem; text-align: center; direction: rtl;\">\n",
    "        ה־ERD של מסד הנתונים שלנו לאחר סימון המפתחות הזרים.<br>\n",
    "    </figcaption>\n",
    "</figure>"
   ]
  },
  {
   "cell_type": "markdown",
   "metadata": {},
   "source": [
    "### <span style=\"text-align: right; direction: rtl; float: right;\">קשר יחיד לרבים</span>"
   ]
  },
  {
   "cell_type": "markdown",
   "metadata": {},
   "source": [
    "<p style=\"text-align: right; direction: rtl; float: right; clear: both;\">\n",
    "    בצורה הנוכחית של הטבלה, אנחנו יכולים להגיד שמתקיים בין טבלת <var>movies</var> לבין טבלת <var>actors</var> קשר שנקרא \"יחיד לרבים\".<br>\n",
    "    זהו מונח שנמצא בשימוש נפוץ. פירושו שבטבלת <var>movies</var> יכולות להיות שורות רבות שיצביעו על שחקן יחיד מטבלת <var>actors</var>.\n",
    "</p>"
   ]
  },
  {
   "cell_type": "markdown",
   "metadata": {},
   "source": [
    "<p style=\"text-align: right; direction: rtl; float: right; clear: both;\">\n",
    "    נחדד: לפי העיצוב הנוכחי, כל שורה בטבלת השחקנים, יכולה להופיע בכמה שורות בטבלת הסרטים.<br>\n",
    "    באופן רשמי, נוכל להגיד ש\"כל ישות ב־<var>actors</var> יכולה להופיע בישויות רבות ב־<var>movies</var>\".<br>\n",
    "    קשר כזה בין טבלאות נקרא \"<dfn>קשר יחיד לרבים</dfn>\" (<dfn>one-to-many relationship</dfn>).\n",
    "</p>"
   ]
  },
  {
   "cell_type": "markdown",
   "metadata": {},
   "source": [
    "<p style=\"text-align: right; direction: rtl; float: right; clear: both;\">\n",
    "    יש שתי דרכים לסמן ב־ERD קשר של יחיד לרבים.<br>\n",
    "    בשתיהן, נחבר את שתי העמודות הקשורות בקו.<br>\n",
    "    בדרך הראשונה, נכתוב ליד העמודה של ה\"רבים\" את האות N, וליד העמודה של ה\"יחיד\" את הספרה 1.<br>\n",
    "    בצורה השנייה, נסמן את הצד של ה\"יחיד\" בשני קווים או בקו שאחריו עיגול. את הצד של ה\"רבים\" נסמן כמשולש פתוח עם קו אופקי שיוצא מקודקודו.<br>\n",
    "     כל עוד לא העמקתם בקריאה נוספת באינטרנט על פשר הסימונים, העדיפו לסמן קשרים בדרך הראשונה.\n",
    "</p>"
   ]
  },
  {
   "cell_type": "markdown",
   "metadata": {},
   "source": [
    "<figure>\n",
    "    <img src=\"images/normalization_erd_7.svg?v=3\" style=\"width: 500px; margin-right: auto; margin-left: auto; text-align: center;\" alt=\"\n",
    "        בתמונה קופסאות שבהן כותרת, שצבע הרקע שלה אפור. כל קופסה מיצגת טבלה.\n",
    "        בראש הקופסה כתוב שמה של הטבלה, ומתחתיה שורות המייצגות את העמודות שהוגדרו בטבלה.\n",
    "        לצד כל עמודה, באפור, מופיע מלל שמתאר את סוג הנתונים שיהיו באותה עמודה: text, date וכדומה.\n",
    "        בחלק מהשורות, לצד המלל שמציין את טיפוס הנתונים בעמודה, מופיע N עבור עמודות שעשויות לכלול את הערך NULL.\n",
    "        בצד שמאל של העמודות שבהן יש מפתח ראשי, מופיע הקיצור PK שמסמן מפתח ראשי.\n",
    "        בצד שמאל של העמודות שבהן יש מפתח זר, מופיע הקיצור FK שמסמן מפתח זר.\n",
    "        בין העמודה actor_id שבטבלת movies לבין עמודת actor_id שבטבלת actors נמתח קו.\n",
    "        בצד שקרוב לטבלת actors מסומן '1', ובצד שקרוב לטבלת movies מסומן 'N'. זו הדרך להציג קשר יחיד לרבים.\n",
    "        דרך נוספת, גם היא מוצגת באיור, היא סימון הצד של ה'רבים' בשני קווים או בקו שאחריו עיגול. את הצד של ה'רבים' מסמנים כמשולש פתוח עם קו אופקי שיורד מקודקודו.\n",
    "\"/>\n",
    "    <figcaption style=\"margin-top: 2rem; text-align: center; direction: rtl;\">\n",
    "        ה־ERD של מסד הנתונים שלנו לאחר סימון קשר יחיד לרבים.<br>\n",
    "        בחרנו לסמן את קשר היחיד לרבים בשתי הצורות שהוזכרו.\n",
    "    </figcaption>\n",
    "</figure>"
   ]
  },
  {
   "cell_type": "markdown",
   "metadata": {},
   "source": [
    "<p style=\"text-align: right; direction: rtl; float: right; clear: both;\">\n",
    "    בשביל העניין, נניח שאנחנו רוצים שטבלת הסרטים תכלול עמודה נוספת – השפה העיקרית שבה מדברים בסרט המקורי.\n",
    "</p>"
   ]
  },
  {
   "cell_type": "markdown",
   "metadata": {},
   "source": [
    "<table style=\"clear: both; font-size: 1.5rem;\">\n",
    "    <caption style=\"text-align: center; direction: rtl; clear: both; font-size: 2rem; padding-bottom: 2rem;\">טבלת <var>movies</var></caption>\n",
    "    <thead>\n",
    "        <tr>\n",
    "            <th style=\"text-align: center;\">movie_id</th>\n",
    "            <th style=\"text-align: center;\">title</th>\n",
    "            <th style=\"text-align: center;\">release_year</th>\n",
    "            <th style=\"text-align: center;\">actor_id</th>\n",
    "            <th style=\"text-align: center;\">original_language</th>\n",
    "        </tr>\n",
    "    </thead>\n",
    "    <tbody>\n",
    "        <tr>\n",
    "            <td style=\"text-align: left;\">1</td>\n",
    "            <td style=\"text-align: left;\">Monty Python and the Holy Grail</td>\n",
    "            <td style=\"text-align: left;\">1975</td>\n",
    "            <td style=\"text-align: left;\">1</td>\n",
    "            <td style=\"text-align: left;\">English</td>\n",
    "        </tr>\n",
    "        <tr>\n",
    "            <td style=\"text-align: left;\">2</td>\n",
    "            <td style=\"text-align: left;\">Monty Python and the Holy Grail</td>\n",
    "            <td style=\"text-align: left;\">1975</td>\n",
    "            <td style=\"text-align: left;\">2</td>\n",
    "            <td style=\"text-align: left;\">English</td>\n",
    "        </tr>\n",
    "        <tr>\n",
    "            <td style=\"text-align: left;\">3</td>\n",
    "            <td style=\"text-align: left;\">Monty Python and the Holy Grail</td>\n",
    "            <td style=\"text-align: left;\">1975</td>\n",
    "            <td style=\"text-align: left;\">3</td>\n",
    "            <td style=\"text-align: left;\">English</td>\n",
    "        </tr>\n",
    "        <tr>\n",
    "            <td style=\"text-align: left;\">4</td>\n",
    "            <td style=\"text-align: left;\">Monty Python and the Holy Grail</td>\n",
    "            <td style=\"text-align: left;\">1975</td>\n",
    "            <td style=\"text-align: left;\">4</td>\n",
    "            <td style=\"text-align: left;\">English</td>\n",
    "        </tr>\n",
    "        <tr>\n",
    "            <td style=\"text-align: left;\">5</td>\n",
    "            <td style=\"text-align: left;\">V for Vendetta</td>\n",
    "            <td style=\"text-align: left;\">2005</td>\n",
    "            <td style=\"text-align: left;\">5</td>\n",
    "            <td style=\"text-align: left;\">English</td>\n",
    "        </tr>\n",
    "        <tr>\n",
    "            <td style=\"text-align: left;\">6</td>\n",
    "            <td style=\"text-align: left;\">V for Vendetta</td>\n",
    "            <td style=\"text-align: left;\">2005</td>\n",
    "            <td style=\"text-align: left;\">6</td>\n",
    "            <td style=\"text-align: left;\">English</td>\n",
    "        </tr>\n",
    "        <tr>\n",
    "            <td style=\"text-align: left;\">7</td>\n",
    "            <td style=\"text-align: left;\">V for Vendetta</td>\n",
    "            <td style=\"text-align: left;\">2005</td>\n",
    "            <td style=\"text-align: left;\">7</td>\n",
    "            <td style=\"text-align: left;\">English</td>\n",
    "        </tr>\n",
    "        <tr>\n",
    "            <td style=\"text-align: left;\">8</td>\n",
    "            <td style=\"text-align: left;\">The Matrix</td>\n",
    "            <td style=\"text-align: left;\">1999</td>\n",
    "            <td style=\"text-align: left;\">8</td>\n",
    "            <td style=\"text-align: left;\">English</td>\n",
    "        </tr>\n",
    "        <tr>\n",
    "            <td style=\"text-align: left;\">9</td>\n",
    "            <td style=\"text-align: left;\">The Matrix</td>\n",
    "            <td style=\"text-align: left;\">1999</td>\n",
    "            <td style=\"text-align: left;\">9</td>\n",
    "            <td style=\"text-align: left;\">English</td>\n",
    "        </tr>\n",
    "        <tr>\n",
    "            <td style=\"text-align: left;\">10</td>\n",
    "            <td style=\"text-align: left;\">The Matrix</td>\n",
    "            <td style=\"text-align: left;\">1999</td>\n",
    "            <td style=\"text-align: left;\">5</td>\n",
    "            <td style=\"text-align: left;\">English</td>\n",
    "        </tr>\n",
    "        <tr>\n",
    "            <td style=\"text-align: left;\">11</td>\n",
    "            <td style=\"text-align: left;\">Cidade de Deus</td>\n",
    "            <td style=\"text-align: left;\">2002</td>\n",
    "            <td style=\"text-align: left;\">10</td>\n",
    "            <td style=\"text-align: left;\">Portuguese</td>\n",
    "        </tr>\n",
    "        <tr>\n",
    "            <td style=\"text-align: left;\">12</td>\n",
    "            <td style=\"text-align: left;\">Cidade de Deus</td>\n",
    "            <td style=\"text-align: left;\">2002</td>\n",
    "            <td style=\"text-align: left;\">11</td>\n",
    "            <td style=\"text-align: left;\">Portuguese</td>\n",
    "        </tr>\n",
    "        <tr>\n",
    "            <td style=\"text-align: left;\">13</td>\n",
    "            <td style=\"text-align: left;\">Cidade de Deus</td>\n",
    "            <td style=\"text-align: left;\">2002</td>\n",
    "            <td style=\"text-align: left;\">12</td>\n",
    "            <td style=\"text-align: left;\">Portuguese</td>\n",
    "        </tr>\n",
    "        <tr>\n",
    "            <td style=\"text-align: left;\">14</td>\n",
    "            <td style=\"text-align: left;\">Cidade de Deus</td>\n",
    "            <td style=\"text-align: left;\">2002</td>\n",
    "            <td style=\"text-align: left;\">13</td>\n",
    "            <td style=\"text-align: left;\">Portuguese</td>\n",
    "        </tr>\n",
    "    </tbody>\n",
    "</table>"
   ]
  },
  {
   "cell_type": "markdown",
   "metadata": {},
   "source": [
    "<p style=\"text-align: right; direction: rtl; float: right; clear: both;\">\n",
    "    שימו לב לכמות החזרות של English ו־Portuguese בעמודת <var>original_language</var>.<br>\n",
    "    נוכל למנוע את החזרה על המחרוזת אם נוציא את הערכים ב־<var>original_language</var> לטבלה נפרדת,<br>\n",
    "    וניצור קשר של יחיד לרבים בין טבלת השפות החדשה לטבלת הסרטים.<br>\n",
    "</p>"
   ]
  },
  {
   "cell_type": "markdown",
   "metadata": {},
   "source": [
    "<p style=\"text-align: right; direction: rtl; float: right; clear: both;\">\n",
    "    ניצור את טבלת השפות:\n",
    "</p>"
   ]
  },
  {
   "cell_type": "markdown",
   "metadata": {},
   "source": [
    "<table style=\"clear: both; font-size: 1.5rem;\">\n",
    "    <caption style=\"text-align: center; direction: rtl; clear: both; font-size: 2rem; padding-bottom: 2rem;\">טבלת <var>languages</var></caption>\n",
    "    <thead>\n",
    "        <tr>\n",
    "            <th style=\"text-align: center;\">language_id</th>\n",
    "            <th style=\"text-align: center;\">name</th>\n",
    "        </tr>\n",
    "    </thead>\n",
    "    <tbody>\n",
    "        <tr>\n",
    "            <td style=\"text-align: left;\">1</td>\n",
    "            <td style=\"text-align: left;\">English</td>\n",
    "        </tr>\n",
    "        <tr>\n",
    "            <td style=\"text-align: left;\">2</td>\n",
    "            <td style=\"text-align: left;\">Portuguese</td>\n",
    "        </tr>\n",
    "    </tbody>\n",
    "</table>"
   ]
  },
  {
   "cell_type": "markdown",
   "metadata": {},
   "source": [
    "<p style=\"text-align: right; direction: rtl; float: right; clear: both;\">\n",
    "    ונעדכן את הערכים בעמודה החדשה שיצרנו ב־<var>movies</var> כך שיהיו מפתח זר למפתח הראשי <var>language_id</var> שבטבלת <var>languages</var>:\n",
    "</p>"
   ]
  },
  {
   "cell_type": "markdown",
   "metadata": {},
   "source": [
    "<table style=\"clear: both; font-size: 1.5rem;\">\n",
    "    <caption style=\"text-align: center; direction: rtl; clear: both; font-size: 2rem; padding-bottom: 2rem;\">טבלת <var>movies</var></caption>\n",
    "    <thead>\n",
    "        <tr>\n",
    "            <th style=\"text-align: center;\">movie_id</th>\n",
    "            <th style=\"text-align: center;\">title</th>\n",
    "            <th style=\"text-align: center;\">release_year</th>\n",
    "            <th style=\"text-align: center;\">actor_id</th>\n",
    "            <th style=\"text-align: center;\">language_id</th>\n",
    "        </tr>\n",
    "    </thead>\n",
    "    <tbody>\n",
    "        <tr>\n",
    "            <td style=\"text-align: left;\">1</td>\n",
    "            <td style=\"text-align: left;\">Monty Python and the Holy Grail</td>\n",
    "            <td style=\"text-align: left;\">1975</td>\n",
    "            <td style=\"text-align: left;\">1</td>\n",
    "            <td style=\"text-align: left;\">1</td>\n",
    "        </tr>\n",
    "        <tr>\n",
    "            <td style=\"text-align: left;\">2</td>\n",
    "            <td style=\"text-align: left;\">Monty Python and the Holy Grail</td>\n",
    "            <td style=\"text-align: left;\">1975</td>\n",
    "            <td style=\"text-align: left;\">2</td>\n",
    "            <td style=\"text-align: left;\">1</td>\n",
    "        </tr>\n",
    "        <tr>\n",
    "            <td style=\"text-align: left;\">3</td>\n",
    "            <td style=\"text-align: left;\">Monty Python and the Holy Grail</td>\n",
    "            <td style=\"text-align: left;\">1975</td>\n",
    "            <td style=\"text-align: left;\">3</td>\n",
    "            <td style=\"text-align: left;\">1</td>\n",
    "        </tr>\n",
    "        <tr>\n",
    "            <td style=\"text-align: left;\">4</td>\n",
    "            <td style=\"text-align: left;\">Monty Python and the Holy Grail</td>\n",
    "            <td style=\"text-align: left;\">1975</td>\n",
    "            <td style=\"text-align: left;\">4</td>\n",
    "            <td style=\"text-align: left;\">1</td>\n",
    "        </tr>\n",
    "        <tr>\n",
    "            <td style=\"text-align: left;\">5</td>\n",
    "            <td style=\"text-align: left;\">V for Vendetta</td>\n",
    "            <td style=\"text-align: left;\">2005</td>\n",
    "            <td style=\"text-align: left;\">5</td>\n",
    "            <td style=\"text-align: left;\">1</td>\n",
    "        </tr>\n",
    "        <tr>\n",
    "            <td style=\"text-align: left;\">6</td>\n",
    "            <td style=\"text-align: left;\">V for Vendetta</td>\n",
    "            <td style=\"text-align: left;\">2005</td>\n",
    "            <td style=\"text-align: left;\">6</td>\n",
    "            <td style=\"text-align: left;\">1</td>\n",
    "        </tr>\n",
    "        <tr>\n",
    "            <td style=\"text-align: left;\">7</td>\n",
    "            <td style=\"text-align: left;\">V for Vendetta</td>\n",
    "            <td style=\"text-align: left;\">2005</td>\n",
    "            <td style=\"text-align: left;\">7</td>\n",
    "            <td style=\"text-align: left;\">1</td>\n",
    "        </tr>\n",
    "        <tr>\n",
    "            <td style=\"text-align: left;\">8</td>\n",
    "            <td style=\"text-align: left;\">The Matrix</td>\n",
    "            <td style=\"text-align: left;\">1999</td>\n",
    "            <td style=\"text-align: left;\">8</td>\n",
    "            <td style=\"text-align: left;\">1</td>\n",
    "        </tr>\n",
    "        <tr>\n",
    "            <td style=\"text-align: left;\">9</td>\n",
    "            <td style=\"text-align: left;\">The Matrix</td>\n",
    "            <td style=\"text-align: left;\">1999</td>\n",
    "            <td style=\"text-align: left;\">9</td>\n",
    "            <td style=\"text-align: left;\">1</td>\n",
    "        </tr>\n",
    "        <tr>\n",
    "            <td style=\"text-align: left;\">10</td>\n",
    "            <td style=\"text-align: left;\">The Matrix</td>\n",
    "            <td style=\"text-align: left;\">1999</td>\n",
    "            <td style=\"text-align: left;\">5</td>\n",
    "            <td style=\"text-align: left;\">1</td>\n",
    "        </tr>\n",
    "        <tr>\n",
    "            <td style=\"text-align: left;\">11</td>\n",
    "            <td style=\"text-align: left;\">Cidade de Deus</td>\n",
    "            <td style=\"text-align: left;\">2002</td>\n",
    "            <td style=\"text-align: left;\">10</td>\n",
    "            <td style=\"text-align: left;\">2</td>\n",
    "        </tr>\n",
    "        <tr>\n",
    "            <td style=\"text-align: left;\">12</td>\n",
    "            <td style=\"text-align: left;\">Cidade de Deus</td>\n",
    "            <td style=\"text-align: left;\">2002</td>\n",
    "            <td style=\"text-align: left;\">11</td>\n",
    "            <td style=\"text-align: left;\">2</td>\n",
    "        </tr>\n",
    "        <tr>\n",
    "            <td style=\"text-align: left;\">13</td>\n",
    "            <td style=\"text-align: left;\">Cidade de Deus</td>\n",
    "            <td style=\"text-align: left;\">2002</td>\n",
    "            <td style=\"text-align: left;\">12</td>\n",
    "            <td style=\"text-align: left;\">2</td>\n",
    "        </tr>\n",
    "        <tr>\n",
    "            <td style=\"text-align: left;\">14</td>\n",
    "            <td style=\"text-align: left;\">Cidade de Deus</td>\n",
    "            <td style=\"text-align: left;\">2002</td>\n",
    "            <td style=\"text-align: left;\">13</td>\n",
    "            <td style=\"text-align: left;\">2</td>\n",
    "        </tr>\n",
    "    </tbody>\n",
    "</table>"
   ]
  },
  {
   "cell_type": "markdown",
   "metadata": {},
   "source": [
    "<p style=\"text-align: right; direction: rtl; float: right; clear: both;\">\n",
    "    הקשר הוא יחיד לרבים כיוון שכל שפה מטבלת השפות יכולה להופיע פעמים רבות בעמודה <var>language_id</var> שבטבלת <var>movies</var>.<br>\n",
    "    נבנה את ה־ERD המתאים:\n",
    "</p>"
   ]
  },
  {
   "cell_type": "markdown",
   "metadata": {},
   "source": [
    "<figure>\n",
    "    <img src=\"images/normalization_erd_8.svg?v=1\" style=\"width: 800px; margin-right: auto; margin-left: auto; text-align: center;\" alt=\"\n",
    "        בתמונה קופסאות שבהן כותרת, שצבע הרקע שלה אפור. כל קופסה מיצגת טבלה.\n",
    "        בראש הקופסה כתוב שמה של הטבלה, ומתחתיה שורות המייצגות את העמודות שהוגדרו בטבלה.\n",
    "        לצד כל עמודה, באפור, מופיע מלל שמתאר את סוג הנתונים שיהיו באותה עמודה: text, date וכדומה.\n",
    "        בחלק מהשורות, לצד המלל שמציין את טיפוס הנתונים בעמודה, מופיע N עבור עמודות שעשויות לכלול את הערך NULL.\n",
    "        בצד שמאל של העמודות שבהן יש מפתח ראשי, מופיע הקיצור PK שמסמן מפתח ראשי.\n",
    "        בצד שמאל של העמודות שבהן יש מפתח זר, מופיע הקיצור FK שמסמן מפתח זר.\n",
    "        בין העמודה actor_id שבטבלת movies לבין עמודת actor_id שבטבלת actors נמתח קו.\n",
    "        בצד שקרוב לטבלת actors מסומן '1', ובצד שקרוב לטבלת movies מסומן 'N'. זו הדרך להציג קשר יחיד לרבים.\n",
    "        דרך נוספת, גם היא מוצגת באיור, היא סימון הצד של ה'רבים' בשני קווים או בקו שאחריו עיגול. את הצד של ה'רבים' מסמנים כמשולש פתוח עם קו אופקי שיורד מקודקודו.\n",
    "\"/>\n",
    "    <figcaption style=\"margin-top: 2rem; text-align: center; direction: rtl;\">\n",
    "        ה־ERD של מסד הנתונים שלנו לאחר הוספת טבלת <var>languages</var> וסימון קשרי הגומלין.\n",
    "    </figcaption>\n",
    "</figure>"
   ]
  },
  {
   "cell_type": "markdown",
   "metadata": {},
   "source": [
    "<p style=\"text-align: right; direction: rtl; float: right; clear: both;\">\n",
    "    בהמשך המחברת נזנח את התוספת של השפות לטבלת הסרטים כדי לפשט את הדוגמאות.<br>\n",
    "    אם תרצו, תוכלו לדמיין שהשינויים שעשינו קיימים גם בדוגמאות הבאות.\n",
    "</p>"
   ]
  },
  {
   "cell_type": "markdown",
   "metadata": {},
   "source": [
    "### <span style=\"text-align: right; direction: rtl; float: right;\">קשר רבים לרבים</span>"
   ]
  },
  {
   "cell_type": "markdown",
   "metadata": {},
   "source": [
    "<p style=\"text-align: right; direction: rtl; float: right; clear: both;\">\n",
    "    תיאורטית, היינו רוצים שכל שחקן יוכל לשחק בכמה סרטים.<br>\n",
    "    הצורה הנוכחית שבה סידרנו את הטבלאות מאפשרת לנו לעשות זאת באלגנטיות, באמצעות הקישור שעשינו בין טבלת <var>actors</var> לטבלת <var>movies</var>.\n",
    "</p>"
   ]
  },
  {
   "cell_type": "markdown",
   "metadata": {},
   "source": [
    "<p style=\"text-align: right; direction: rtl; float: right; clear: both;\">\n",
    "    באותה צורה, נרצה שבכל סרט נוכל להצביע על כמה וכמה שחקנים.<br>\n",
    "    כרגע, כדי להשיג את המטרה הזו, אנחנו משכפלים את שורת הסרט, ובכל שורה שכזו מזינים מצביע לאחד השחקנים בסרט.<br>\n",
    "    כבר דנו לעיל בחסרונות המובהקים של שכפול נתונים, ובחריגויות שהחסרונות הללו מביאים איתם.<br>\n",
    "    ניגש לעיקר: איך מונעים את הכפילות בטבלת הסרטים, שומרים על האי־פריקות ועדיין מאפשרים כמה שחקנים באותו סרט?\n",
    "</p>"
   ]
  },
  {
   "cell_type": "markdown",
   "metadata": {},
   "source": [
    "<p style=\"text-align: right; direction: rtl; float: right; clear: both;\">\n",
    "    המחשבה הראשונה שעשויה לעבור לנו בראש היא לאחסן מצביע לסרטים בטבלת השחקנים.<br>\n",
    "    הפתרון הזה ייצור לנו בעיה דומה לבעיה שיש לנו כרגע –<br>\n",
    "    הוא יכריח אותנו לשכפל את שורת השחקן שבטבלת <var>actors</var> כדי לגרום לו להצביע לכמה סרטים, ומהשכפול הזה אנחנו מנסים להימנע.\n",
    "</p>"
   ]
  },
  {
   "cell_type": "markdown",
   "metadata": {},
   "source": [
    "<p style=\"text-align: right; direction: rtl; float: right; clear: both;\">\n",
    "    אז מה בכל זאת הפתרון?\n",
    "</p>"
   ]
  },
  {
   "cell_type": "markdown",
   "metadata": {},
   "source": [
    "<p style=\"text-align: right; direction: rtl; float: right; clear: both;\">\n",
    "    הדרך הקלאסית לפתור את הבעיה הזו היא ליצור טבלה נוספת, שמייצגת את הקשרים שבין סרטים לבין שחקנים.<br>\n",
    "    כל שורה תכיל מספר מזהה של סרט, ומספר מזהה של שחקן.\n",
    "</p>"
   ]
  },
  {
   "cell_type": "markdown",
   "metadata": {},
   "source": [
    "<p style=\"text-align: right; direction: rtl; float: right; clear: both;\">\n",
    "    נסו לדמיין את זה ויזואלית:<br>\n",
    "    טבלת <var>movies</var> וטבלת <var>actors</var> נמצאות זו לצד זו,<br>\n",
    "    והטבלה החדשה שניצור אומרת מאיזו שורה בטבלת <var>movies</var> למתוח קו, ולאיזו שורה בטבלת <var>actors</var> הקו אמור להגיע.\n",
    "</p>"
   ]
  },
  {
   "cell_type": "markdown",
   "metadata": {},
   "source": [
    "<table style=\"clear: both; font-size: 1.5rem;\">\n",
    "    <caption style=\"text-align: center; direction: rtl; clear: both; font-size: 2rem; padding-bottom: 2rem;\">טבלת <var>movies</var></caption>\n",
    "    <thead>\n",
    "        <tr>\n",
    "            <th style=\"text-align: center;\">movie_id</th>\n",
    "            <th style=\"text-align: center;\">title</th>\n",
    "            <th style=\"text-align: center;\">release_year</th>\n",
    "        </tr>\n",
    "    </thead>\n",
    "    <tbody>\n",
    "        <tr>\n",
    "            <td style=\"text-align: left;\">1</td>\n",
    "            <td style=\"text-align: left;\">Monty Python and the Holy Grail</td>\n",
    "            <td style=\"text-align: left;\">1975</td>\n",
    "        </tr>\n",
    "        <tr>\n",
    "            <td style=\"text-align: left;\">2</td>\n",
    "            <td style=\"text-align: left;\">V for Vendetta</td>\n",
    "            <td style=\"text-align: left;\">2005</td>\n",
    "        </tr>\n",
    "        <tr>\n",
    "            <td style=\"text-align: left;\">3</td>\n",
    "            <td style=\"text-align: left;\">The Matrix</td>\n",
    "            <td style=\"text-align: left;\">1999</td>\n",
    "        </tr>\n",
    "    </tbody>\n",
    "</table>\n",
    "\n",
    "<table style=\"clear: both; font-size: 1.5rem;\">\n",
    "    <caption style=\"text-align: center; direction: rtl; clear: both; font-size: 2rem; padding-bottom: 2rem;\">טבלת <var>movie_actors</var></caption>\n",
    "    <thead>\n",
    "        <tr>\n",
    "            <th style=\"text-align: center;\">movie_id</th>\n",
    "            <th style=\"text-align: center;\">actor_id</th>\n",
    "        </tr>\n",
    "    </thead>\n",
    "    <tbody>\n",
    "        <tr>\n",
    "            <td style=\"text-align: left;\">1</td>\n",
    "            <td style=\"text-align: left;\">1</td>\n",
    "        </tr>\n",
    "        <tr>\n",
    "            <td style=\"text-align: left;\">1</td>\n",
    "            <td style=\"text-align: left;\">2</td>\n",
    "        </tr>\n",
    "        <tr>\n",
    "            <td style=\"text-align: left;\">1</td>\n",
    "            <td style=\"text-align: left;\">3</td>\n",
    "        </tr>\n",
    "        <tr>\n",
    "            <td style=\"text-align: left;\">1</td>\n",
    "            <td style=\"text-align: left;\">4</td>\n",
    "        </tr>\n",
    "        <tr>\n",
    "            <td style=\"text-align: left;\">2</td>\n",
    "            <td style=\"text-align: left;\">5</td>\n",
    "        </tr>\n",
    "        <tr>\n",
    "            <td style=\"text-align: left;\">2</td>\n",
    "            <td style=\"text-align: left;\">6</td>\n",
    "        </tr>\n",
    "        <tr>\n",
    "            <td style=\"text-align: left;\">2</td>\n",
    "            <td style=\"text-align: left;\">7</td>\n",
    "        </tr>\n",
    "        <tr>\n",
    "            <td style=\"text-align: left;\">3</td>\n",
    "            <td style=\"text-align: left;\">5</td>\n",
    "        </tr>\n",
    "        <tr>\n",
    "            <td style=\"text-align: left;\">3</td>\n",
    "            <td style=\"text-align: left;\">8</td>\n",
    "        </tr>\n",
    "        <tr>\n",
    "            <td style=\"text-align: left;\">3</td>\n",
    "            <td style=\"text-align: left;\">9</td>\n",
    "        </tr>\n",
    "    </tbody>\n",
    "</table>\n",
    "\n",
    "<table style=\"clear: both; font-size: 1.5rem;\">\n",
    "    <caption style=\"text-align: center; direction: rtl; clear: both; font-size: 2rem; padding-bottom: 2rem;\">טבלת <var>actors</var></caption>\n",
    "    <thead>\n",
    "        <tr>\n",
    "            <th style=\"text-align: center;\">actor_id</th>\n",
    "            <th style=\"text-align: center;\">name</th>\n",
    "            <th style=\"text-align: center;\">height</th>\n",
    "            <th style=\"text-align: center;\">birth_date</th>\n",
    "            <th style=\"text-align: center;\">death_date</th>\n",
    "        </tr>\n",
    "    </thead>\n",
    "    <tbody>\n",
    "        <tr>\n",
    "            <td style=\"text-align: left;\">1</td>\n",
    "            <td style=\"text-align: left;\">Graham Chapman</td>\n",
    "            <td style=\"text-align: left;\">191.0</td>\n",
    "            <td style=\"text-align: left;\">1941-01-08</td>\n",
    "            <td style=\"text-align: left;\">1989-10-04</td>\n",
    "        </tr>\n",
    "        <tr>\n",
    "            <td style=\"text-align: left;\">2</td>\n",
    "            <td style=\"text-align: left;\">John Cleese</td>\n",
    "            <td style=\"text-align: left;\">196.0</td>\n",
    "            <td style=\"text-align: left;\">1939-10-27</td>\n",
    "            <td style=\"text-align: left;\"><code>NULL</code></td>\n",
    "        </tr>\n",
    "        <tr>\n",
    "            <td style=\"text-align: left;\">3</td>\n",
    "            <td style=\"text-align: left;\">Eric Idle</td>\n",
    "            <td style=\"text-align: left;\">186.0</td>\n",
    "            <td style=\"text-align: left;\">1943-03-29</td>\n",
    "            <td style=\"text-align: left;\"><code>NULL</code></td>\n",
    "        </tr>\n",
    "        <tr>\n",
    "            <td style=\"text-align: left;\">4</td>\n",
    "            <td style=\"text-align: left;\">Terry Gilliam</td>\n",
    "            <td style=\"text-align: left;\">175.0</td>\n",
    "            <td style=\"text-align: left;\">1940-11-22</td>\n",
    "            <td style=\"text-align: left;\"><code>NULL</code></td>\n",
    "        </tr>\n",
    "        <tr>\n",
    "            <td style=\"text-align: left;\">5</td>\n",
    "            <td style=\"text-align: left;\">Hugo Weaving</td>\n",
    "            <td style=\"text-align: left;\">188.0</td>\n",
    "            <td style=\"text-align: left;\">1960-04-04</td>\n",
    "            <td style=\"text-align: left;\"><code>NULL</code></td>\n",
    "        </tr>\n",
    "        <tr>\n",
    "            <td style=\"text-align: left;\">6</td>\n",
    "            <td style=\"text-align: left;\">Rupert Graves</td>\n",
    "            <td style=\"text-align: left;\">180.0</td>\n",
    "            <td style=\"text-align: left;\">1963-06-30</td>\n",
    "            <td style=\"text-align: left;\"><code>NULL</code></td>\n",
    "        </tr>\n",
    "        <tr>\n",
    "            <td style=\"text-align: left;\">7</td>\n",
    "            <td style=\"text-align: left;\">Stephen Rea</td>\n",
    "            <td style=\"text-align: left;\">179.0</td>\n",
    "            <td style=\"text-align: left;\">1946-10-31</td>\n",
    "            <td style=\"text-align: left;\"><code>NULL</code></td>\n",
    "        </tr>\n",
    "        <tr>\n",
    "            <td style=\"text-align: left;\">8</td>\n",
    "            <td style=\"text-align: left;\">Keanu Reeves</td>\n",
    "            <td style=\"text-align: left;\">186.0</td>\n",
    "            <td style=\"text-align: left;\">1964-09-02</td>\n",
    "            <td style=\"text-align: left;\"><code>NULL</code></td>\n",
    "        </tr>\n",
    "        <tr>\n",
    "            <td style=\"text-align: left;\">9</td>\n",
    "            <td style=\"text-align: left;\">Laurence Fishburne</td>\n",
    "            <td style=\"text-align: left;\">184.0</td>\n",
    "            <td style=\"text-align: left;\">1961-07-30</td>\n",
    "            <td style=\"text-align: left;\"><code>NULL</code></td>\n",
    "        </tr>\n",
    "    </tbody>\n",
    "</table>\n"
   ]
  },
  {
   "cell_type": "markdown",
   "metadata": {},
   "source": [
    "<p style=\"text-align: right; direction: rtl; float: right; clear: both;\">\n",
    "    טבלת <var>movie_actors</var> היא טבלה שמכילה שני מפתחות זרים:<br>\n",
    "    אחד שמצביע על המפתח הראשי של טבלת <var>movies</var>, ואחד שמצביע על המפתח הראשי של טבלת <var>actors</var>.<br>\n",
    "    הטבלה הזו, שנקראת בעגה המקצועית <dfn>טבלה מקשרת</dfn> (<dfn>junction table</dfn>), היא מעין טבלת עזר.<br>\n",
    "    קיומה מאפשר לנו להגדיר קשר מורכב, בו שחקן יכול להופיע בכמה סרטים, ובכל סרט יכולים לשחק כמה שחקנים.<br>\n",
    "    הקשר הזה, שמוגדר בין <var>movies</var> לבין <var>actors</var> נקרא <dfn>קשר רבים לרבים</dfn> (<dfn>many-to-many relationship</dfn>).\n",
    "</p>"
   ]
  },
  {
   "cell_type": "markdown",
   "metadata": {},
   "source": [
    "<figure>\n",
    "    <img src=\"images/normalization_erd_9.svg?v=5\" style=\"width: 800px; margin-right: auto; margin-left: auto; text-align: center;\" alt=\"\n",
    "        בתמונה קופסאות שבהן כותרת, שצבע הרקע שלה אפור. כל קופסה מיצגת טבלה.\n",
    "        בראש הקופסה כתוב שמה של הטבלה, ומתחתיה שורות המייצגות את העמודות שהוגדרו בטבלה.\n",
    "        לצד כל עמודה, באפור, מופיע מלל שמתאר את סוג הנתונים שיהיו באותה עמודה: text, date וכדומה.\n",
    "        בחלק מהשורות, לצד המלל שמציין את טיפוס הנתונים בעמודה, מופיע N עבור עמודות שעשויות לכלול את הערך NULL.\n",
    "        בצד שמאל של העמודות שבהן יש מפתח ראשי, מופיע הקיצור PK שמסמן מפתח ראשי.\n",
    "        בצד שמאל של העמודות שבהן יש מפתח זר, מופיע הקיצור FK שמסמן מפתח זר.\n",
    "        בין העמודה actor_id שבטבלת movies לבין עמודת actor_id שבטבלת actors נמתח קו.\n",
    "        בצד שקרוב לטבלת actors מסומן '1', ובצד שקרוב לטבלת movies מסומן 'N'. זו הדרך להציג קשר יחיד לרבים.\n",
    "        דרך נוספת, גם היא מוצגת באיור, היא סימון הצד של ה'רבים' בשני קווים או בקו שאחריו עיגול. את הצד של ה'רבים' מסמנים כמשולש פתוח עם קו אופקי שיורד מקודקודו.\n",
    "\"/>\n",
    "    <figcaption style=\"margin-top: 2rem; text-align: center; direction: rtl;\">\n",
    "        ה־ERD המעודכן שמשקף את קשר הרבים לרבים שבין טבלת <var>movies</var> לבין טבלת <var>actors</var>.<br>\n",
    "        לעיתים, תרשימים ישמיטו את הטבלה המקשרת ויסמנו N בקצוות הקווים.\n",
    "    </figcaption>\n",
    "</figure>"
   ]
  },
  {
   "cell_type": "markdown",
   "metadata": {},
   "source": [
    "### <span style=\"text-align: right; direction: rtl; float: right;\">תרגיל ביניים: ומחוץ עד החצר הגדולה</span>"
   ]
  },
  {
   "cell_type": "markdown",
   "metadata": {},
   "source": [
    "<p style=\"text-align: right; direction: rtl; float: right; clear: both;\">\n",
    "    בהמשך לתרגיל הקודם, הוסיפו לטבלאות שיצרתם מפתחות ראשיים וצרו ביניהם קשרי גומלין.\n",
    "</p>"
   ]
  },
  {
   "cell_type": "markdown",
   "metadata": {},
   "source": [
    "<p style=\"text-align: right; direction: rtl; float: right; clear: both;\">\n",
    "    צרו ERD שמתאר את הטבלה שיצרתם.<br>\n",
    "    תוכלו להשתמש ב־<a href=\"https://vuerd.github.io/vuerd/?path=/story/demo--live\">vuerd</a>, או בכל כלי אחר שיהיה לכם נוח עבור המשימה.\n",
    "</p>"
   ]
  },
  {
   "cell_type": "markdown",
   "metadata": {},
   "source": [
    "## <span style=\"text-align: right; direction: rtl; float: right; clear: both;\">חוקי נרמול</span>"
   ]
  },
  {
   "cell_type": "markdown",
   "metadata": {},
   "source": [
    "<p style=\"text-align: right; direction: rtl; float: right; clear: both;\">\n",
    "    במחברת זו ראינו את התהליך המחשבתי ואת השיקולים הבסיסיים שמלווים מתכנת בבניית מסד נתונים.\n",
    "</p>"
   ]
  },
  {
   "cell_type": "markdown",
   "metadata": {},
   "source": [
    "<p style=\"text-align: right; direction: rtl; float: right; clear: both;\">\n",
    "    צעד אחר צעד ביצענו תהליך שנקרא נרמול של מסד נתונים.<br>\n",
    "    התהליך אמור לוודא שמבנה מסד הנתונים יהיה בנוי באופן מיטבי:\n",
    "</p>"
   ]
  },
  {
   "cell_type": "markdown",
   "metadata": {},
   "source": [
    "<ol style=\"text-align: right; direction: rtl; float: right; clear: both;\">\n",
    "    <li>שעדכון, מחיקה או הוספת רשומות לא תפגום בשלמות או בתקינות הנתונים במסד הנתונים.</li>\n",
    "    <li>שיקטן הסיכוי שיהיה צורך בארגון מחדש של מסד הנתונים.</li>\n",
    "    <li>שמסד הנתונים יהיה קריא ונוח לשימוש עבור המשתמשים בו.</li>\n",
    "    <li>שאפשר יהיה לבצע שאילתות בקלות על מסד הנתונים, גם לאחר שהוא ישתנה.</li>\n",
    "</ol>"
   ]
  },
  {
   "cell_type": "markdown",
   "metadata": {},
   "source": [
    "<p style=\"text-align: right; direction: rtl; float: right; clear: both;\">\n",
    "    למרות שביצענו את הנרמול בעזרת היגיון בריא וקצת משחקים עם טבלאות,<br>\n",
    "    הנושא של נרמול טבלאות נחקר לעומקו ונדון שוב ושוב בספרות אקדמית משמימה.<br>\n",
    "    לאורך השנים נוצרו \"חוקי נרמול\", שמטרתם לתת שיטה טכנית ומדורגת לנרמול של מסדי נתונים.\n",
    "</p>"
   ]
  },
  {
   "cell_type": "markdown",
   "metadata": {},
   "source": [
    "<p style=\"text-align: right; direction: rtl; float: right; clear: both;\">\n",
    "    נסקור את חלקם בקצרה:\n",
    "</p>"
   ]
  },
  {
   "cell_type": "markdown",
   "metadata": {},
   "source": [
    "### <span style=\"text-align: right; direction: rtl; float: right; clear: both;\">צורה נורמלית ראשונה (1NF)</span>"
   ]
  },
  {
   "cell_type": "markdown",
   "metadata": {},
   "source": [
    "<p style=\"text-align: right; direction: rtl; float: right; clear: both;\">\n",
    "    טבלה היא מצורה נורמלית ראשונה אם אין בה נתונים מיותרים או כפולים.<br>\n",
    "    צורת נרמול זו מכריחה את הטבלה לעמוד בדרישות הבאות:\n",
    "</p>"
   ]
  },
  {
   "cell_type": "markdown",
   "metadata": {},
   "source": [
    "<ul style=\"text-align: right; direction: rtl; float: right; clear: both;\">\n",
    "    <li>יש עמודה עבור מפתח ראשי, כדי למנוע כפילות בשורות.</li>\n",
    "    <li>כל הנתונים בה עונים להגדרת האי־פריקות במחברת – תא לא יכול להכיל רשימת שחקנים, למשל.</li>\n",
    "    <li>אין כמה עמודות שמייצגות את אותו ערך – טבלה לא תכיל 2 או יותר עמודות של שמות שחקנים.</li>\n",
    "    <li>אי אפשר להסיק בוודאות ערך של עמודה מעמודה אחרת – טבלה לא תכיל עמודה ליום הולדת, ועמודה נפרדת לגיל.</li>\n",
    "</ul>"
   ]
  },
  {
   "cell_type": "markdown",
   "metadata": {},
   "source": [
    "### <span style=\"text-align: right; direction: rtl; float: right; clear: both;\">צורה נורמלית שנייה (2NF)</span>"
   ]
  },
  {
   "cell_type": "markdown",
   "metadata": {},
   "source": [
    "<p style=\"text-align: right; direction: rtl; float: right; clear: both;\">\n",
    "    טבלה היא מצורה נורמלית שנייה אם היא עומדת בצורת הנורמליות הראשונה, <em>וגם</em> כל עמודה בטבלה תלויה בכל עמודות המפתח.\n",
    "</p>"
   ]
  },
  {
   "cell_type": "markdown",
   "metadata": {},
   "source": [
    "<p style=\"text-align: right; direction: rtl; float: right; clear: both;\">\n",
    "    הכלל הזה בעיקרון מתייחס למצבים מורכבים, בהם יש מפתחות ראשיים שמורכבים מ־2 עמודות או יותר (כן, זה אפשרי).<br>\n",
    "    תוכלו לראות מצב כזה בטבלת <var>principals</var> ב־ERD.<br>\n",
    "    אם המפתח הראשי שלכם מורכב מעמודה אחת בלבד – מזל טוב, הטבלה שלכם היא מצורה נורמלית שנייה.<br>\n",
    "</p>"
   ]
  },
  {
   "cell_type": "markdown",
   "metadata": {},
   "source": [
    "<p style=\"text-align: right; direction: rtl; float: right; clear: both;\">\n",
    "    אם בטבלה שלכם יש מפתח ראשי שמורכב מכמה עמודות,<br>\n",
    "    הצורה הנורמלית השנייה דורשת שכל אחת מהעמודות שאינן עמודות המפתח, יהיו תלויות בכל עמודות המפתח.\n",
    "</p>"
   ]
  },
  {
   "cell_type": "markdown",
   "metadata": {},
   "source": [
    "<p style=\"text-align: right; direction: rtl; float: right; clear: both;\">\n",
    "    ניקח מצב לדוגמה בו בנינו טבלה שבה יש עמודה למספר הסרט, ועמודה למספר השחקן.<br>\n",
    "    הגדרנו שהמפתח הראשי הוא שילוב של שתי העמודות הללו.<br>\n",
    "    טבלה שכזו היא ללא כפילויות, כך שטכנית היא עומדת בצורה הנורמלית הראשונה.\n",
    "</p>"
   ]
  },
  {
   "cell_type": "markdown",
   "metadata": {},
   "source": [
    "<p style=\"text-align: right; direction: rtl; float: right; clear: both;\">\n",
    "    אבל אז נוסיף עמודות נוספות לטבלה, כמו שם הסרט, אורך הסרט ושם השחקן.<br>\n",
    "    אף אחת מהעמודות הללו לא מקיימת את התנאים של הצורה הנורמלית השנייה:<br>\n",
    "    העמודות של אורך הסרט ושל שם הסרט אינן תלויות בעמודה של מספר השחקן.<br>\n",
    "    בדיוק באותה מידה, העמודה של שם השחקן לא תלויה בעמודה של מספר הסרט.\n",
    "</p>"
   ]
  },
  {
   "cell_type": "markdown",
   "metadata": {},
   "source": [
    "<p style=\"text-align: right; direction: rtl; float: right; clear: both;\">\n",
    "    כיוון שישנן עמודות שלא מתייחסות לכל המפתח הראשי, הטבלה אינה נחשבת מצורה נורמלית שנייה.<br>\n",
    "    כדי לתקן את המצב, נצטרך להפריד את הטבלאות ל־2 – לטבלת סרטים ולטבלת שחקנים.\n",
    "</p>"
   ]
  },
  {
   "cell_type": "markdown",
   "metadata": {},
   "source": [
    "### <span style=\"text-align: right; direction: rtl; float: right; clear: both;\">צורה נורמלית שלישית (3NF)</span>"
   ]
  },
  {
   "cell_type": "markdown",
   "metadata": {},
   "source": [
    "<p style=\"text-align: right; direction: rtl; float: right; clear: both;\">\n",
    "    טבלה היא מצורה נורמלית שלישית אם היא עומדת בצורת הנורמליות השנייה, <em>וגם</em> כל עמודה בטבלה לא תלויה בעמודות שאינן עמודות המפתח.<br>\n",
    "    במילים אחרות: אם ארצה לשנות עמודה מסוימת בטבלה, אסור שזה ישפיע על התוכן של עמודה אחרת.\n",
    "</p>"
   ]
  },
  {
   "cell_type": "markdown",
   "metadata": {},
   "source": [
    "<p style=\"text-align: right; direction: rtl; float: right; clear: both;\">\n",
    "    לדוגמה, יצרתי טבלת סרטים שמורכבת ממספר סרט ושמו.<br>\n",
    "    הוספתי לטבלה שתי עמודות: שחקן וגובה השחקן.<br>\n",
    "    לאחר שהכנסנו קצת נתונים לטבלה הגיעו לאוזנינו שמועות שאחד השחקנים התפטר, ובמקומו הגיע שחקן חדש.<br>\n",
    "    שינינו את שמו של השחקן הישן לשחקן החדש, הפלנו את העט וטסנו הביתה לאכול סושי.\n",
    "</p>"
   ]
  },
  {
   "cell_type": "markdown",
   "metadata": {},
   "source": [
    "<p style=\"text-align: right; direction: rtl; float: right; clear: both;\">\n",
    "    מה ששכחנו זה שיש לשחקן גם גובה, ואותו לא עדכנו.<br>\n",
    "    למעשה בניסיון לעדכון השחקן שברנו את אמינות הנתונים במסד הנתונים שלנו.<br>\n",
    "    כל זה היה יכול להימנע אם הייתה טבלה נפרדת של שחקנים, ורק הייתי צריך לעדכן בעמודת המפתח הזר את ה־id של השחקן הנכון.\n",
    "</p>"
   ]
  },
  {
   "cell_type": "markdown",
   "metadata": {},
   "source": [
    "<p style=\"text-align: right; direction: rtl; float: right; clear: both;\">\n",
    "    הצורה הנורמלית השלישית, אם כך, דורשת שכל עמודה בטבלה תהיה תלויה במפתח הראשי, ולא באף עמודה אחרת.\n",
    "</p>"
   ]
  },
  {
   "cell_type": "markdown",
   "metadata": {},
   "source": [
    "### <span style=\"text-align: right; direction: rtl; float: right; clear: both;\">ועוד</span>"
   ]
  },
  {
   "cell_type": "markdown",
   "metadata": {},
   "source": [
    "<p style=\"text-align: right; direction: rtl; float: right; clear: both;\">\n",
    "    יש צורות נורמליות נוספות (BCNF, 4NF, 5NF, DKNF, 6NF) עליהן אפשר לקרוא <a href=\"https://he.wikipedia.org/wiki/%D7%A0%D7%A8%D7%9E%D7%95%D7%9C_%D7%91%D7%A1%D7%99%D7%A1_%D7%A0%D7%AA%D7%95%D7%A0%D7%99%D7%9D\">כאן</a>.<br>\n",
    "    לדעתנו, הדבר החשוב ביותר זה להבין את העקרונות הכלליים, ולא לעקוב שורה שורה אחרי חוקי הנרמול.<br>\n",
    "    הפרידו סוגים שונים של ישויות לטבלאות, ותמיד חשבו על המשתמש במסד הנתונים.<br>\n",
    "    כמה קל יהיה לו לתשאל את מסד הנתונים? כמה קל יהיה לו לשנות מידע? האם בעקבות פעולות עדכון המידע עלול להיהרס? \n",
    "</p>"
   ]
  },
  {
   "cell_type": "markdown",
   "metadata": {},
   "source": [
    "## <span style=\"text-align: right; direction: rtl; float: right; clear: both;\">סיכום</span>"
   ]
  },
  {
   "cell_type": "markdown",
   "metadata": {},
   "source": [
    "<p style=\"text-align: right; direction: rtl; float: right; clear: both;\">\n",
    "    במחברת זו למדנו להכיר מונחים חשובים בעולם של מסדי נתונים רלציוניים.<br>\n",
    "    לצד המונחים הבסיסיים שהכרנו, כמו מפתח ראשי, מפתח זר וקשרי גומלין, למדנו ליצור מסד נתונים מנורמל.\n",
    "</p>"
   ]
  },
  {
   "cell_type": "markdown",
   "metadata": {},
   "source": [
    "<p style=\"text-align: right; direction: rtl; float: right; clear: both;\">\n",
    "    ישנה חשיבות רבה ליצירה של מסד נתונים מנורמל היטב.<br>\n",
    "    מסד נתונים שכזה יהיה גמיש להרחבות עתידיות, יאפשר אחסון ושליפה בצורה יעילה ונוחה ויחסוך תקלות רבות בתפעולו.\n",
    "</p>"
   ]
  },
  {
   "cell_type": "markdown",
   "metadata": {},
   "source": [
    "<p style=\"text-align: right; direction: rtl; float: right; clear: both;\">\n",
    "    זכרו שלא צריך לזכור כללי נרמול אקדמיים ומסובכים. מספיק להכיר את הרעיונות הבסיסיים ולהשתמש בהיגיון.<br>\n",
    "    אם היינו צריכים לבחור כלל אחד לזכור בקשר לנרמול, הוא היה זה:\n",
    "</p>"
   ]
  },
  {
   "cell_type": "markdown",
   "metadata": {},
   "source": [
    "<blockquote dir=\"rtl\" style=\"direction: rtl; text-align: right; float: right; border-right: 5px solid rgba(0,0,0,.05); border-left: 0;\">\n",
    "    הקפידו שכל טבלה במסד הנתונים שלכם (חוץ מהטבלאות המקשרות) תאגד נתונים שקשורים לנושא אחד בלבד,<br>\n",
    "    ושכל הנתונים בטבלה יתייחסו אך ורק לנושא הזה.<br>\n",
    "</blockquote>"
   ]
  },
  {
   "cell_type": "markdown",
   "metadata": {},
   "source": [
    "### <span style=\"text-align: right; direction: rtl; float: right; clear: both;\">This Is How We Do</span>"
   ]
  },
  {
   "cell_type": "markdown",
   "metadata": {},
   "source": [
    "<p style=\"text-align: right; direction: rtl; float: right; clear: both;\">\n",
    "    בתכל'ס , כשאנחנו באים לבנות מסד נתונים, אלו השלבים שאנחנו עוברים:\n",
    "</p>"
   ]
  },
  {
   "cell_type": "markdown",
   "metadata": {},
   "source": [
    "<ol style=\"text-align: right; direction: rtl; float: right; clear: both;\">\n",
    "    <li>לחשוב בגדול על אילו סוגי ישויות הולכים להיות לנו במסד הנתונים. מהם אנחנו יוצרים שמות לטבלאות.</li>\n",
    "    <li>לחשוב אילו תכונות יהיו לכל אחת מהישויות. מהן אנחנו יוצרים את העמודות בכל טבלה.</li>\n",
    "    <li>בכל טבלה, עוברים ומסמנים איזו עמודה מזהה באופן חד־חד ערכי את השורות. אם אין כזו, מוסיפים שדה עם מספר רץ.<br>\n",
    "    זה השדה שמסומן כמפתח ראשי.</li>\n",
    "    <li>מוסיפים אילוצים: בודקים באילו שדות לא יכול להיות <code>NULL</code>, לדוגמה.<br>\n",
    "        אם תרצו, קראו גם על <code>UNIQUE</code> ועל <code>CHECK</code>.</li>\n",
    "    <li>מציירים קשרי גומלין. אם רואים שיש קשר רבים לרבים, בונים טבלה מקשרת.</li>\n",
    "    <li>מביטים על התרשים ועוברים על כל השלבים מחדש כדי לראות שלא שכחנו משהו והכל נראה טוב.<br>\n",
    "    אם יש צורך לפרק עמודה או למנוע כפילויות – זה מה שעושים.</li>\n",
    "</ol>"
   ]
  },
  {
   "cell_type": "markdown",
   "metadata": {},
   "source": [
    "## <span style=\"text-align: right; direction: rtl; float: right; clear: both;\">מונחים</span>"
   ]
  },
  {
   "cell_type": "markdown",
   "metadata": {},
   "source": [
    "<dl style=\"text-align: right; direction: rtl; float: right; clear: both;\">\n",
    "    <dt>נרמול מסד נתונים</dt>\n",
    "    <dd>\n",
    "        באנגלית: <dfn>Database normalization</dfn>.<br>\n",
    "        סידור מבנה מסד הנתונים באופן מיטבי, שיאפשר גמישות וימזער סיכונים לטעויות ואובדן מידע.\n",
    "    </dd>\n",
    "    <dt>אי־פריקות</dt>\n",
    "    <dd>\n",
    "        באנגלית: <dfn>Atomic data</dfn>.<br>\n",
    "        הרעיון לפיו כל תא במסד הנתונים צריך להיות מורכב ממידע שאי אפשר לפרקו לחלקים קטנים יותר.\n",
    "    </dd>\n",
    "    <dt>חֲרִיגוּת</dt>\n",
    "    <dd>\n",
    "        באנגלית: <dfn>Anomaly</dfn>.<br>\n",
    "        תקלה שנגרמת כתופעת לוואי של פעולת עדכון, הוספה או הסרה של מידע, במסד נתונים לא מנורמל דיו.<br>\n",
    "        <dfn>חריגות מחיקה</dfn>, לדוגמה, היא תופעה שנגרמת ממחיקת ישות אחת שבעקבותיה נעלמת ישות אחרת.\n",
    "    </dd>\n",
    "    <dt>אילוץ</dt>\n",
    "    <dd>\n",
    "        באנגלית: <dfn>Constraint</dfn>.<br>\n",
    "        חוקים שנאכפים על המידע שמוזן לעמודה, ומגבילים את המידע שאפשר להכניס לתוכה.<br>\n",
    "        האילוץ <code>UNIQUE</code>, לדוגמה, אוסר על ערך להופיע פעמיים בעמודה. <code>NOT NULL</code> לא מאפשר לערך שמוזן לעמודה להיות <code>NULL</code>.\n",
    "    </dd>\n",
    "    <dt>קשר גומלין</dt>\n",
    "    <dd>\n",
    "        באנגלית: <dfn>Relationship</dfn>.<br>\n",
    "        חיבור רעיוני בין עמודות בבסיס הנתונים, שמראה על קשר בין עמודה אחת לאחרת.<br>\n",
    "        החיבור מאפשר למסד הנתונים לשפר ביצועים, ולוודא שנתונים שהוכנסו בשדה מסוים קיימים בשדה אחר.<br>\n",
    "        לדוגמה: קשר שהוגדר בין טבלת סרטים לבין טבלת שחקנים, יוודא ביצירת סרט השחקנים שהוזנו אכן קיימים במסד הנתונים..<br>\n",
    "        קשר יכול להיות יחיד ליחיד, יחיד לרבים או רבים לרבים.\n",
    "    </dd>\n",
    "    <dt>מפתח ראשי</dt>\n",
    "    <dd>\n",
    "        באנגלית: <dfn>Primary key</dfn>.<br>\n",
    "        עמודה (או מספר עמודות) שמזהות את הישות שבטבלה באופן חד־חד ערכי.<br>\n",
    "        לרוב, המפתח הראשי הוא מספר טבעי רץ – 1 עבור הישות הראשונה בטבלה, 2 עבור הישות השנייה וכן הלאה.\n",
    "    </dd>\n",
    "    <dt>מפתח זר</dt>\n",
    "    <dd>\n",
    "        באנגלית: <dfn>Foreign key</dfn>.<br>\n",
    "        עמודה שבה הערכים מתייחסים לישות מטבלה אחרת, באמצעות ציון הערכים במפתח הראשי של אותה טבלה.<br>\n",
    "    </dd>\n",
    "</dl>"
   ]
  },
  {
   "cell_type": "markdown",
   "metadata": {},
   "source": [
    "## <span style=\"text-align: right; direction: rtl; float: right; clear: both;\">תרגילים</span>"
   ]
  },
  {
   "cell_type": "markdown",
   "metadata": {},
   "source": [
    "### <span style=\"text-align: right; direction: rtl; float: right; clear: both;\">תרגילים</span>"
   ]
  },
  {
   "cell_type": "markdown",
   "metadata": {},
   "source": [
    "<p style=\"text-align: right; direction: rtl; float: right; clear: both;\">\n",
    "    צרו ERD מלא למערכת הגשת התרגילים.\n",
    "</p>"
   ]
  },
  {
   "cell_type": "markdown",
   "metadata": {},
   "source": [
    "<p style=\"text-align: right; direction: rtl; float: right; clear: both;\">\n",
    "    ה־ERD צריך להתחשב בכך שמסד הנתונים אמור להכיל את הנתונים הבאים:\n",
    "</p>"
   ]
  },
  {
   "cell_type": "markdown",
   "metadata": {},
   "source": [
    "<ul style=\"text-align: right; direction: rtl; float: right; clear: both;\">\n",
    "    <li>משתמשים, להם יש שם משתמש, סיסמה, שם מלא, כתובת דוא\"ל ותפקיד – שיכול להיות סטודנט, מדריך או מנהל.</li>\n",
    "    <li>התראות, להן יש נמען (מי שקיבל את ההתראה), תאריך יצירה, תוכן ההתראה, תרגיל קשור ומצב (נצפתה או חדשה).</li>\n",
    "    <li>תרגיל, לו יש כותרת, תאריך שנוצר, האם הוא פעיל או בארכיון, תאריך הגשה אחרון ומספר מחברת.</li>\n",
    "    <li>פתרון שנשלח, לו יש את הפותר, התרגיל, הבודק, המצב (לא הוגש, הוגש או נבדק) ותאריך ההגשה.<br>\n",
    "        בכל פתרון יש קובץ אחד או יותר, שכולל את הנתיב לקובץ ואת הקוד של הפיתרון.</li>\n",
    "    <li>הערה על שורה מסוימת בקובץ של הגשה מסוימת. לכל תגובה יש את שולח התגובה, תאריך, מספר השורה עליה ניתנה ההערה ותוכן.</li>\n",
    "</ul>"
   ]
  },
  {
   "cell_type": "markdown",
   "metadata": {},
   "source": [
    "<p style=\"text-align: right; direction: rtl; float: right; clear: both;\">\n",
    "    לצורך יצירת ה־ERD תוכלו להשתמש ב־<a href=\"https://vuerd.github.io/vuerd/?path=/story/demo--live\">vuerd</a>, או בכל כלי אחר שתמצאו שנוח לכם.\n",
    "</p>"
   ]
  }
 ],
 "metadata": {
  "kernelspec": {
   "display_name": "Python 3",
   "language": "python",
   "name": "python3"
  },
  "language_info": {
   "codemirror_mode": {
    "name": "ipython",
    "version": 3
   },
   "file_extension": ".py",
   "mimetype": "text/x-python",
   "name": "python",
   "nbconvert_exporter": "python",
   "pygments_lexer": "ipython3",
   "version": "3.8.6"
  }
 },
 "nbformat": 4,
 "nbformat_minor": 2
}
