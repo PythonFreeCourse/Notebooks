{
 "cells": [
  {
   "cell_type": "markdown",
   "metadata": {},
   "source": [
    "<img src=\"images/logo.jpg\" style=\"display: block; margin-left: auto; margin-right: auto;\" alt=\"לוגו של מיזם לימוד הפייתון. נחש מצויר בצבעי צהוב וכחול, הנע בין האותיות של שם הקורס: לומדים פייתון. הסלוגן המופיע מעל לשם הקורס הוא מיזם חינמי ללימוד תכנות בעברית.\">"
   ]
  },
  {
   "cell_type": "markdown",
   "metadata": {},
   "source": [
    "# <span style=\"text-align: right; direction: rtl; float: right;\">כתיבת שאילתות – חלק 2</span>"
   ]
  },
  {
   "cell_type": "markdown",
   "metadata": {},
   "source": [
    "<p style=\"text-align: right; direction: rtl; float: right; clear: both;\">\n",
    "    עד כה למדנו על הפסוקיות <code>SELECT</code>, <code>FROM</code>, <code>WHERE</code> ו־<code>LIMIT</code> ועל סדר הרצתם על ידי מנוע ה־SQL.<br>\n",
    "    דיברנו גם על אופרטורי השוואה, אופרטורים לוגיים ועל <code>NULL</code>,<br>\n",
    "    ובעצם למדנו לראשונה מה הם מסדי נתונים ואיך כותבים שאילתות.\n",
    "</p>"
   ]
  },
  {
   "cell_type": "markdown",
   "metadata": {},
   "source": [
    "<p style=\"text-align: right; direction: rtl; float: right; clear: both;\">\n",
    "    במחברת זו נלמד:\n",
    "</p>"
   ]
  },
  {
   "cell_type": "markdown",
   "metadata": {},
   "source": [
    "<ol style=\"text-align: right; direction: rtl; float: right; clear: both;\">\n",
    "    <li>איך מסדרים את התוצאות שחזרו מהשאילתה שלנו.</li>\n",
    "    <li>מהן הפונקציות המובנות ב־SQL ובאילו מקרים הן עשויות לסייע לנו.</li>\n",
    "    <li>כיצד למנוע כפילויות בתוצאות השאילתה.</li>\n",
    "</ol>"
   ]
  },
  {
   "cell_type": "markdown",
   "metadata": {},
   "source": [
    "<p style=\"text-align: right; direction: rtl; float: right; clear: both;\">\n",
    "    בואו נתחיל!\n",
    "</p>"
   ]
  },
  {
   "cell_type": "markdown",
   "metadata": {},
   "source": [
    "## <span style=\"text-align: right; direction: rtl; float: right; clear: both;\"><code>ORDER BY</code></span>"
   ]
  },
  {
   "cell_type": "markdown",
   "metadata": {},
   "source": [
    "<p style=\"text-align: right; direction: rtl; float: right; clear: both;\">\n",
    "    כיוון שסידור של נתונים היא פעולה שאורכת זמן רב, כברירת מחדל מסדי נתונים לא מחזירים תוצאות לפי סדר מסוים.<br>\n",
    "    ובכל זאת, לפעמים עולה הצורך לקבל את התוצאות כשהן מסודרות:\n",
    "</p>"
   ]
  },
  {
   "cell_type": "markdown",
   "metadata": {},
   "source": [
    "<ul style=\"text-align: right; direction: rtl; float: right; clear: both;\">\n",
    "    <li>רשימת החניכים בכתה לפי הציונים שלהם.</li>\n",
    "    <li>רשימת הקבצים במחשב לפי תאריך השימוש האחרון בהם.</li>\n",
    "    <li>רשימת הלקוחות, לפי לקוח שבזבז אצלנו הכי הרבה כסף.</li>\n",
    "    <li>רשימת התרגילים שנותרו לבדיקה, מסודרים לפי כמות ההערות של הבדיקות האוטומטיות (פחות הערות? יבדק ראשון!)</li>\n",
    "</ul>"
   ]
  },
  {
   "cell_type": "markdown",
   "metadata": {},
   "source": [
    "<p style=\"text-align: right; direction: rtl; float: right; clear: both;\">\n",
    "    אז איך נבקש ממסד הנתונים לסדר עבורינו את התוצאות?<br>\n",
    "    נוסיף פסוקית <code>ORDER BY</code> לשאילתה, ואחריה נציין את שם העמודה לפיה אנחנו רוצים לסדר:<br>\n",
    "</p>"
   ]
  },
  {
   "cell_type": "markdown",
   "metadata": {},
   "source": [
    "```sql\n",
    "SELECT *\n",
    "FROM names\n",
    "ORDER BY children;\n",
    "```"
   ]
  },
  {
   "cell_type": "markdown",
   "metadata": {},
   "source": [
    "<p style=\"text-align: right; direction: rtl; float: right; clear: both;\">\n",
    "    בשאילתה האחרונה, ביקשנו לסדר את הישויות בטבלת <var>names</var> לפי מספר הילדים שיש ברשותם.<br>\n",
    "    נוכל גם להוסיף פסוקית <code>LIMIT</code> כדי להגביל את כמות התוצאות שיחזרו:\n",
    "</p>"
   ]
  },
  {
   "cell_type": "markdown",
   "metadata": {},
   "source": [
    "```sql\n",
    "SELECT *\n",
    "FROM names\n",
    "ORDER BY children\n",
    "LIMIT 5;\n",
    "```"
   ]
  },
  {
   "cell_type": "markdown",
   "metadata": {},
   "source": [
    "<p style=\"text-align: right; direction: rtl; float: right; clear: both;\">\n",
    "    כך, בשאילתה האחרונה, הוחזרו לנו רק 5 אנשים ממסד הנתונים.<br>\n",
    "    אלו האנשים שכמות הילדים שהביאו לעולם היא הנמוכה ביותר.<br>\n",
    "    זה המצב כיוון שמסדי נתונים מסדרים את התוצאות, כברירת מחדל, בסדר עולה – מהנמוך לגבוה.\n",
    "</p>"
   ]
  },
  {
   "cell_type": "markdown",
   "metadata": {},
   "source": [
    "<p style=\"text-align: right; direction: rtl; float: right; clear: both;\">\n",
    "    נוסיף גם פסוקית <code>WHERE</code>, שתחזיר עבורינו רק אנשים שעודם בחיים.\n",
    "</p>"
   ]
  },
  {
   "cell_type": "markdown",
   "metadata": {},
   "source": [
    "```sql\n",
    "SELECT *\n",
    "FROM names\n",
    "WHERE date_of_death IS NULL\n",
    "ORDER BY children\n",
    "LIMIT 5;\n",
    "```"
   ]
  },
  {
   "cell_type": "markdown",
   "metadata": {},
   "source": [
    "<p style=\"text-align: right; direction: rtl; float: right; clear: both;\">\n",
    "    עכשיו, כשאנחנו יודעים איך נראית שאילתה שבנויה מכל הפסוקיות שלמדנו,<br>\n",
    "    נרענן את סדר הרצת הפסוקיות במנוע ה־SQL:\n",
    "</p>"
   ]
  },
  {
   "cell_type": "markdown",
   "metadata": {},
   "source": [
    "<figure>\n",
    "    <img src=\"images/clause-execution-order-2.svg?v=2\" style=\"margin-right: auto; margin-left: auto; text-align: center;\" alt=\"בתמונה: שאילתה שבנויה מ־5 פסוקיות: SELECT, FROM, WHERE, ORDER BY ו־LIMIT. משמאל למילה FROM מופיע עיגול עם הספרה 1, משמאל למילה WHERE מופיע עיגול עם הספרה 2, משמאל למילה SELECT מופיע עיגול עם הספרה 3, משמאל למילה 4 מופיע עיגול עם המילים ORDER BY ומשמאל ל־LIMIT מופיע עיגול עם המילה 5.\"/>\n",
    "    <figcaption style=\"margin-top: 2rem; text-align: center; direction: rtl;\">\n",
    "        איור שממחיש את סדר הרצת הפסוקיות בשאילתת SQL שמבצע מנוע ה־SQL על מסד הנתונים.\n",
    "    </figcaption>\n",
    "</figure>"
   ]
  },
  {
   "cell_type": "markdown",
   "metadata": {},
   "source": [
    "<div class=\"align-center\" style=\"display: flex; text-align: right; direction: rtl; clear: both;\">\n",
    "    <div style=\"display: flex; width: 10%; float: right; clear: both;\">\n",
    "        <img src=\"images/exercise.svg\" style=\"height: 50px !important;\" alt=\"תרגול\"> \n",
    "    </div>\n",
    "    <div style=\"width: 70%\">\n",
    "        <p style=\"text-align: right; direction: rtl; float: right; clear: both;\">\n",
    "            מה שמו של בעל התפקיד הנמוך ביותר במסד הנתונים שלנו? מה גובהו?<br>\n",
    "            לפני שתפתרו, חישבו על המוקש שצריך לנטרל בכתיבת שאילתה שכזו.\n",
    "        </p>\n",
    "    </div>\n",
    "    <div style=\"display: flex; width: 20%; border-right: 0.1rem solid #A5A5A5; padding: 1rem 2rem;\">\n",
    "        <p style=\"text-align: center; direction: rtl; justify-content: center; align-items: center; clear: both;\">\n",
    "            <strong>חשוב!</strong><br>\n",
    "            פתרו לפני שתמשיכו!\n",
    "        </p>\n",
    "    </div>\n",
    "</div>"
   ]
  },
  {
   "cell_type": "markdown",
   "metadata": {},
   "source": [
    "<p style=\"text-align: right; direction: rtl; float: right; clear: both;\">\n",
    "    כדי לפתור את השאלה למעלה, נפרק אותה למרכיביה.\n",
    "</p>"
   ]
  },
  {
   "cell_type": "markdown",
   "metadata": {},
   "source": [
    "<ul style=\"text-align: right; direction: rtl; float: right; clear: both;\">\n",
    "    <li><code>FROM</code>: מאיפה נשלוף את המידע? – מהטבלה שממנה ניקח את הנתונים, <var>names</var>.</li>\n",
    "    <li><code>SELECT</code>: אילו נתונים נבחר מהטבלה? – את שם בעל התפקיד ואת גובהו.</li>\n",
    "    <li><code>ORDER BY</code>: השאלה מבקשת את \"הגובה הנמוך ביותר\", ולכן רומזת לנו לסדר לפי העמודה <var>height</var>.</li>\n",
    "    <li><code>LIMIT</code>: כמה רשומות נרצה לשלוף? – אחת ויחידה.</li>\n",
    "    <li><code>WHERE</code>: המוקש שחשוב לנטרל: נצטרך להתעלם מגבהים שהם <code>NULL</code> ולבקש לא להחזיר אותם.</li>\n",
    "</ul>"
   ]
  },
  {
   "cell_type": "markdown",
   "metadata": {},
   "source": [
    "<p style=\"text-align: right; direction: rtl; float: right; clear: both;\">\n",
    "    ננסח כשאילתה:\n",
    "</p>"
   ]
  },
  {
   "cell_type": "markdown",
   "metadata": {},
   "source": [
    "```sql\n",
    "SELECT height, name\n",
    "FROM names\n",
    "WHERE height IS NOT NULL\n",
    "ORDER BY height\n",
    "LIMIT 1;\n",
    "```"
   ]
  },
  {
   "cell_type": "markdown",
   "metadata": {},
   "source": [
    "<div class=\"align-center\" style=\"display: flex; text-align: right; direction: rtl; clear: both;\">\n",
    "    <div style=\"display: flex; width: 10%; float: right; clear: both;\">\n",
    "        <img src=\"images/exercise.svg\" style=\"height: 50px !important;\" alt=\"תרגול\"> \n",
    "    </div>\n",
    "    <div style=\"width: 90%\">\n",
    "        <p style=\"text-align: right; direction: rtl; float: right; clear: both;\">\n",
    "            במחברת הקודמת למדנו שרוב המנועים של מסדי הנתונים לא מאפשרים להשתמש בעמודות מחושבות בפסוקית ה־<code>WHERE</code>.<br>\n",
    "            האם אפשר להשתמש בעמודות מחושבות בפסוקית ה־<code>ORDER BY</code>? מדוע? \n",
    "        </p>\n",
    "    </div>\n",
    "</div>"
   ]
  },
  {
   "cell_type": "markdown",
   "metadata": {},
   "source": [
    "### <span style=\"text-align: right; direction: rtl; float: right; clear: both;\">סדר שונה</span>"
   ]
  },
  {
   "cell_type": "markdown",
   "metadata": {},
   "source": [
    "<p style=\"text-align: right; direction: rtl; float: right; clear: both;\">\n",
    "    כפי שלמדנו לפני כן, ברירת המחדל של <code>ORDER BY</code> היא לסדר את העמודה מהתוצאה הקטנה ביותר לגדולה ביותר.<br>\n",
    "    אבל מה אם אנחנו רוצים לסדר את התוצאות בסדר הפוך?\n",
    "</p>"
   ]
  },
  {
   "cell_type": "markdown",
   "metadata": {},
   "source": [
    "<p style=\"text-align: right; direction: rtl; float: right; clear: both;\">\n",
    "    למזלנו יש פתרון פשוט.<br>\n",
    "    אחרי שם העמודה בפסוקית <code>ORDER BY</code>, נציין אם היא תסודר בסדר עולה או יורד.<br>\n",
    "    נבחר במילת המפתח <code>DESC</code> (מלשון descending, יורד) אם נרצה שהנתונים בעמודה יסודרו מהגדול לקטן,<br>\n",
    "    או <code>ASC</code> (מלשון ascending, עולה) אם נרצה להצהיר במפורש שהנתונים בעמודה יסודרו מהקטן לגדול. זו גם ברירת המחדל.\n",
    "</p>"
   ]
  },
  {
   "cell_type": "markdown",
   "metadata": {},
   "source": [
    "<p style=\"text-align: right; direction: rtl; float: right; clear: both;\">\n",
    "    נבקש לסדר את שמות בעלי התפקידים לפי הגובה שלהם – מהגבוה לנמוך:\n",
    "</p>"
   ]
  },
  {
   "cell_type": "markdown",
   "metadata": {},
   "source": [
    "```sql\n",
    "SELECT name\n",
    "FROM names\n",
    "WHERE height IS NOT NULL\n",
    "ORDER BY height DESC;\n",
    "```"
   ]
  },
  {
   "cell_type": "markdown",
   "metadata": {},
   "source": [
    "<div class=\"align-center\" style=\"display: flex; text-align: right; direction: rtl;\">\n",
    "    <div style=\"display: flex; width: 10%; \">\n",
    "        <img src=\"images/deeper.svg?a=1\" style=\"height: 50px !important;\" alt=\"העמקה\" title=\"העמקה\"> \n",
    "    </div>\n",
    "    <div style=\"width: 90%\">\n",
    "        <p style=\"text-align: right; direction: rtl;\">\n",
    "            אם נחליט שלא לסנן החוצה את ערכי ה־<code>NULL</code>, נוכל להחליט אם הם יופיעו ראשונים או אחרונים.<br>\n",
    "            בפסוקית ה־<code>ORDER BY</code>, נכתוב <code>NULLS FIRST</code> כדי שיוחזרו ראשונים, או <code>NULLS LAST</code> כדי שיוחזרו אחרונים.\n",
    "        </p>\n",
    "    </div>\n",
    "</div>"
   ]
  },
  {
   "cell_type": "markdown",
   "metadata": {},
   "source": [
    "### <span style=\"text-align: right; direction: rtl; float: right; clear: both;\">סידור לפי עמודות מרובות</span>"
   ]
  },
  {
   "cell_type": "markdown",
   "metadata": {},
   "source": [
    "<p style=\"text-align: right; direction: rtl; float: right; clear: both;\">\n",
    "    נשפר מעט את השאילתה שכתבנו זה עתה.<br>\n",
    "    בשביל פישוט הדוגמה הבאה, נסנן החוצה את הרשומות שמכילות גבהים לא הגיוניים, ונבקש לראות רק 100 תוצאות:\n",
    "</p>"
   ]
  },
  {
   "cell_type": "markdown",
   "metadata": {},
   "source": [
    "```sql\n",
    "SELECT * \n",
    "FROM names \n",
    "WHERE height IS NOT NULL \n",
    "      AND height < 250 \n",
    "ORDER BY height DESC \n",
    "LIMIT 100;\n",
    "```"
   ]
  },
  {
   "cell_type": "markdown",
   "metadata": {},
   "source": [
    "<p style=\"text-align: right; direction: rtl; float: right; clear: both;\">\n",
    "    ואולי, אחרי מחשבה נוספת, יהיה הולם לתת כבוד לבעלי התפקידים המבוגרים יותר.<br>\n",
    "    מובן שכדי לסדר את האנשים לפי תאריך הלידה שלהם, נצטרך להשתמש ב־<code>ORDER BY</code>, בצורה הבאה:\n",
    "</p>"
   ]
  },
  {
   "cell_type": "markdown",
   "metadata": {},
   "source": [
    "```sql\n",
    "SELECT * \n",
    "FROM names \n",
    "WHERE date_of_birth IS NOT NULL \n",
    "ORDER BY date_of_birth  -- ASC אם נרצה, אפשר להוסיף כאן את מילת המפתח\n",
    "LIMIT 100;\n",
    "```"
   ]
  },
  {
   "cell_type": "markdown",
   "metadata": {},
   "source": [
    "<p style=\"text-align: right; direction: rtl; float: right; clear: both;\">\n",
    "    אבל מה אם נרצה לסדר את בעלי התפקידים לפי גובהם,<br>\n",
    "    ורק אם גובהם של 2 בעלי תפקידים או יותר זהה לתת עדיפות לזה שנולד קודם?<br>\n",
    "    מקרה שכזה מכריח אותנו להתייחס ל־2 עמודות בפסוקית ה־<code>ORDER BY</code>: גם <var>height</var> וגם <var>date_of_birth</var>.\n",
    "</p>"
   ]
  },
  {
   "cell_type": "markdown",
   "metadata": {},
   "source": [
    "<p style=\"text-align: right; direction: rtl; float: right; clear: both;\">\n",
    "    נכתוב את העמודות בפסוקית ה־<code>ORDER BY</code> לפי החשיבות שלהן, ונפריד ביניהן בפסיק:\n",
    "</p>"
   ]
  },
  {
   "cell_type": "markdown",
   "metadata": {},
   "source": [
    "```sql\n",
    "ORDER BY height DESC, date_of_birth\n",
    "```"
   ]
  },
  {
   "cell_type": "markdown",
   "metadata": {},
   "source": [
    "<p style=\"text-align: right; direction: rtl; float: right; clear: both;\">\n",
    "    ובתוך השאילתה:\n",
    "</p>"
   ]
  },
  {
   "cell_type": "markdown",
   "metadata": {},
   "source": [
    "```sql\n",
    "SELECT * \n",
    "FROM names \n",
    "WHERE height IS NOT NULL \n",
    "      AND height < 250\n",
    "      AND date_of_birth IS NOT NULL \n",
    "ORDER BY height DESC, date_of_birth\n",
    "LIMIT 100;\n",
    "```"
   ]
  },
  {
   "cell_type": "markdown",
   "metadata": {},
   "source": [
    "<p style=\"text-align: right; direction: rtl; float: right; clear: both;\">\n",
    "    דרך טובה להסתכל על התוצאות שיחזרו היא \"סדר לפי גובה בסדר יורד – ואם הגובה זהה, סדר לפי תאריך הלידה\".\n",
    "</p>"
   ]
  },
  {
   "cell_type": "markdown",
   "metadata": {},
   "source": [
    "<p style=\"text-align: right; direction: rtl; float: right; clear: both;\">\n",
    "    שימו לב שבשאילתה הזו בחרנו להשמיט את כל מי שאין לנו ידע לגבי גובהו או לגבי מתי הוא נולד.\n",
    "</p>"
   ]
  },
  {
   "cell_type": "markdown",
   "metadata": {},
   "source": [
    "### <span style=\"text-align: right; direction: rtl; float: right; clear: both;\">תרגיל ביניים: ועדת המדרוג</span>"
   ]
  },
  {
   "cell_type": "markdown",
   "metadata": {},
   "source": [
    "<p style=\"text-align: right; direction: rtl; float: right; clear: both;\">\n",
    "    כשבנו את מסד הנתונים עליו אתם עובדים, החליטו להסיר ממנו את כל הסרטים שדורגו מעט מדי פעמים.<br>\n",
    "    מצאו מה המספר הקטן ביותר של דירוגים שסרט היה צריך לקבל כדי להישאר במסד הנתונים.<br>\n",
    "    איזה סרט קיבל את הציון הממוצע הגבוה ביותר עם מספר דירוגים שכזה?\n",
    "</p>"
   ]
  },
  {
   "cell_type": "markdown",
   "metadata": {},
   "source": [
    "## <span style=\"text-align: right; direction: rtl; float: right; clear: both;\">פונקציות במסדי נתונים</span>"
   ]
  },
  {
   "cell_type": "markdown",
   "metadata": {},
   "source": [
    "<p style=\"text-align: right; direction: rtl; float: right; clear: both;\">\n",
    "    לשמחתנו הרבה, כמו שישנן פונקציות מובנות בפייתון – קיימות כאלו גם במסדי נתונים.\n",
    "</p>"
   ]
  },
  {
   "cell_type": "markdown",
   "metadata": {},
   "source": [
    "<p style=\"text-align: right; direction: rtl; float: right; clear: both;\">\n",
    "    ישנן לא מעט כאלה, וכמובן שלא נסקור את כולן –<br>\n",
    "    אבל בכל זאת בחרנו להתעכב על כמה שימושיות שיסייעו לנו בדוגמאות בהמשך.\n",
    "</p>"
   ]
  },
  {
   "cell_type": "markdown",
   "metadata": {},
   "source": [
    "<div class=\"align-center\" style=\"display: flex; text-align: right; direction: rtl;\">\n",
    "    <div style=\"display: flex; width: 10%; float: right; \">\n",
    "        <img src=\"images/warning.png\" style=\"height: 50px !important;\" alt=\"אזהרה!\"> \n",
    "    </div>\n",
    "    <div style=\"width: 90%\">\n",
    "        <p style=\"text-align: right; direction: rtl;\">\n",
    "            רוב תחביר ה־SQL שלמדנו עד עכשיו די דומה בין מנועי ה־SQL השונים.<br>\n",
    "            בניגוד לתחביר שלמדנו, נדיר למצוא פונקציות ששמותיהם זהים בכל המנועים השונים.<br>\n",
    "            אנחנו ממליצים מאוד לרפרף בפרק הפונקציות שנמצא בתיעוד של המנוע בו אתם משתמשים.\n",
    "        </p>\n",
    "    </div>\n",
    "</div>"
   ]
  },
  {
   "cell_type": "markdown",
   "metadata": {},
   "source": [
    "### <span style=\"text-align: right; direction: rtl; float: right; clear: both;\">חיתוך מחרוזות באמצעות <code>substr</code></span>"
   ]
  },
  {
   "cell_type": "markdown",
   "metadata": {},
   "source": [
    "<p style=\"text-align: right; direction: rtl; float: right; clear: both;\">\n",
    "    מטרת הפונקציה <code>substr</code> היא להחזיר חלק מהתווים של מחרוזת מסוימת. היא עובדת באופן מעט שונה מחיתוך בפייתון.\n",
    "</p>"
   ]
  },
  {
   "cell_type": "markdown",
   "metadata": {},
   "source": [
    "<p style=\"text-align: right; direction: rtl; float: right; clear: both;\">\n",
    "    הפונקציה מקבלת שלושה פרמטרים:<br>\n",
    "</p>\n",
    "\n",
    "<ul style=\"text-align: right; direction: rtl; float: right; clear: both;\">\n",
    "    <li>מחרוזת (נקרא לה <var>X</var>)</li>\n",
    "    <li>מאיפה להתחיל לחתוך את המחרוזת (<var>Y</var>)</li>\n",
    "    <li>כמה תווים לחתוך החל מהמקום הזה (<var>Z</var>)</li>\n",
    "</ul>"
   ]
  },
  {
   "cell_type": "markdown",
   "metadata": {},
   "source": [
    "<p style=\"text-align: right; direction: rtl; float: right; clear: both;\">\n",
    "    לדוגמה, הביטוי <code dir=\"ltr\" style=\"direction: ltr;\">substr(\"Piposh\", 1, 3)</code> יחזיר את המחרוזת <samp>\"Pip\"</samp>, כיוון שהוא חותך 3 תווים החל מהמקום הראשון במחרוזת.\n",
    "</p>"
   ]
  },
  {
   "cell_type": "markdown",
   "metadata": {},
   "source": [
    "<p style=\"text-align: right; direction: rtl; float: right; clear: both;\">\n",
    "כמה דברים מעניינים <a href=\"https://sqlite.org/lang_corefunc.html#substr\">מתוך התיעוד</a> שכדאי לשים לב אליהם:\n",
    "</p>\n",
    "\n",
    "<ul style=\"text-align: right; direction: rtl; float: right; clear: both;\">\n",
    "    <li><var>Y</var> מתחיל מ־1 – כלומר, התו הראשון במחרוזות ב־SQLite נמצא במקום 1 ולא במקום 0 כמו שהתרגלנו מפייתון.</li>\n",
    "    <li>אם הפרמטר <var>Y</var> שלילי, המיקום של התו הראשון במחרוזת יימצא על ידי ספירת תווים מסוף המחרוזת (כמו בפייתון).</li>\n",
    "    <li>אם הפרמטר <var>Z</var> שלילי, החיתוך יתבצע לכיוון תחילת המחרוזת.</li>\n",
    "    <li>אם לא הועבר הארגומנט <var>Z</var>, הפונקציה תחזיר את כל התווים ממקום <var>Y</var> ועד סוף המחרוזת.</li>\n",
    "</ul>"
   ]
  },
  {
   "cell_type": "markdown",
   "metadata": {},
   "source": [
    "<p style=\"text-align: right; direction: rtl; float: right; clear: both;\">\n",
    "    נסו לחזות מה יהיו תוצאותיהן של השאילתות הבאות.<br>\n",
    "    הריצו את השאילתות כדי לבדוק אם צדקתם.\n",
    "</p>"
   ]
  },
  {
   "cell_type": "markdown",
   "metadata": {},
   "source": [
    "```sql\n",
    "SELECT substr('Piposh', 1, 2);\n",
    "SELECT substr('Piposh', -3, 2);\n",
    "SELECT substr('Piposh', 1, -3);\n",
    "SELECT substr('Piposh', -3, -3);\n",
    "SELECT substr('Piposh', -3);\n",
    "```"
   ]
  },
  {
   "cell_type": "markdown",
   "metadata": {},
   "source": [
    "### <span style=\"text-align: right; direction: rtl; float: right; clear: both;\">עיגול מספרים באמצעות <code>round</code></span>"
   ]
  },
  {
   "cell_type": "markdown",
   "metadata": {},
   "source": [
    "<p style=\"text-align: right; direction: rtl; float: right; clear: both;\">\n",
    "    הפונקציה <code dir=\"ltr\" style=\"direction: ltr;\">round(X, Y)</code> מעגלת את המספר <var>X</var> ל־<var>Y</var> ספרות אחרי הנקודה העשרונית.<br>\n",
    "    אם הארגומנט <var>Y</var> לא מועבר לפונקציה, SQLite לא ישאיר ספרות אחרי הנקודה.\n",
    "</p>"
   ]
  },
  {
   "cell_type": "markdown",
   "metadata": {},
   "source": [
    "<p style=\"text-align: right; direction: rtl; float: right; clear: both;\">\n",
    "לדוגמה:\n",
    "</p>\n",
    "\n",
    "<ul style=\"text-align: right; direction: rtl; float: right; clear: both;\">\n",
    "    <li><code dir=\"ltr\" style=\"direction: ltr;\">round(3.141, 2)</code> יחזיר <samp>3.14</samp>.</li>\n",
    "    <li><code dir=\"ltr\" style=\"direction: ltr;\">round(3.1414, 2)</code> גם יחזיר <samp>3.14</samp>.</li>\n",
    "    <li><code dir=\"ltr\" style=\"direction: ltr;\">round(3.14, 2)</code> גם יחזיר <samp>3.14</samp>.</li>\n",
    "    <li><code dir=\"ltr\" style=\"direction: ltr;\">round(3.141)</code> יחזיר <samp>3</samp>.</li>\n",
    "    <li><code dir=\"ltr\" style=\"direction: ltr;\">round(3.848)</code> יחזיר <samp>4</samp>.</li>\n",
    "</ul>"
   ]
  },
  {
   "cell_type": "markdown",
   "metadata": {},
   "source": [
    "### <span style=\"text-align: right; direction: rtl; float: right; clear: both;\">טיפול בתאריכים באמצעות <code>strftime</code></span>"
   ]
  },
  {
   "cell_type": "markdown",
   "metadata": {},
   "source": [
    "<p style=\"text-align: right; direction: rtl; float: right; clear: both;\">\n",
    "    מטרת הפונקציה <code>strftime</code> היא להחזיר תאריך לפי תבנית כלשהי.<br>\n",
    "    זו פונקציה יחסית מורכבת, לכן מומלץ שלא להסתפק בסיכום שבמחברת, וכן לגשת לקרוא את <a href='https://sqlite.org/lang_datefunc.html'>עמוד התיעוד</a> המלא.\n",
    "</p>"
   ]
  },
  {
   "cell_type": "markdown",
   "metadata": {},
   "source": [
    "<p style=\"text-align: right; direction: rtl; float: right; clear: both;\">\n",
    "    הפרמטר הראשון שנעביר לפונקציה יהיה מחרוזת, הבנויה כתבנית שמתארת כיצד יורכב התאריך שנרצה להחזיר כפלט.<br>\n",
    "    האפשרויות הן:\n",
    "</p>"
   ]
  },
  {
   "cell_type": "markdown",
   "metadata": {},
   "source": [
    "<table style=\"text-align: right; direction: rtl; clear: both; font-size: 1.3rem\">\n",
    "    <caption style=\"text-align: center; direction: rtl; clear: both; font-size: 2rem; padding-bottom: 2rem;\">אפשרויות לחלקי זמן עבור הפרמטר הראשון של <code>strftime</code></caption>\n",
    "    <thead>\n",
    "        <tr>\n",
    "            <th>המחרוזת</th>\n",
    "            <th>החלק שהיא מסמנת בתאריך</th>\n",
    "            <th>דוגמה לערך חזרה אפשרי מ־<code>strftime</code></th>\n",
    "        </tr>\n",
    "    </thead>\n",
    "    <tbody>\n",
    "        <tr>\n",
    "            <td><code dir=\"ltr\">%Y</code></td>\n",
    "            <td>שנה בת 4 ספרות</td>\n",
    "            <td><samp dir=\"ltr\">1812</samp></td>\n",
    "        </tr>\n",
    "        <tr>\n",
    "            <td><code dir=\"ltr\">%m</code></td>\n",
    "            <td>חודש ב־2 ספרות</td>\n",
    "            <td><samp dir=\"ltr\">12</samp> (דצמבר)</td>\n",
    "        </tr>\n",
    "        <tr>\n",
    "            <td><code dir=\"ltr\">%d</code></td>\n",
    "            <td>יום בחודש ב־2 ספרות</td>\n",
    "            <td><samp dir=\"ltr\">14</samp></td>\n",
    "        </tr>\n",
    "        <tr>\n",
    "            <td><code dir=\"ltr\">%H</code></td>\n",
    "            <td>שעה ב־2 ספרות, בין 00 ל־24</td>\n",
    "            <td><samp dir=\"ltr\">10</samp></td>\n",
    "        </tr>\n",
    "        <tr>\n",
    "            <td><code dir=\"ltr\">%M</code></td>\n",
    "            <td>דקות</td>\n",
    "            <td><samp dir=\"ltr\">50</samp></td>\n",
    "        </tr>\n",
    "        <tr>\n",
    "            <td><code dir=\"ltr\">%S</code></td>\n",
    "            <td>שניות</td>\n",
    "            <td><samp dir=\"ltr\">00</samp></td>\n",
    "        </tr>\n",
    "        <tr>\n",
    "            <td><code dir=\"ltr\">%f</code></td>\n",
    "            <td>שניות, כולל מילישניות עם 3 ספרות אחרי הנקודה</td>\n",
    "            <td><samp dir=\"ltr\">03.141</samp></td>\n",
    "        </tr>\n",
    "        <tr>\n",
    "            <td><code dir=\"ltr\">%s</code></td>\n",
    "            <td>מספר השניות שעברו מאז 1970-01-01</td>\n",
    "            <td><samp dir=\"ltr\">1234567890</samp> (ב־13 בפברואר 2009, בשעה 23:31:30)</td>\n",
    "        </tr>\n",
    "    </tbody>\n",
    "</table>"
   ]
  },
  {
   "cell_type": "markdown",
   "metadata": {},
   "source": [
    "<p style=\"text-align: right; direction: rtl; float: right; clear: both;\">\n",
    "    התבנית יכולה להיות בנויה מכמה חלקי זמן.<br>\n",
    "    המחרוזת <code dir=\"ltr\" style=\"direction: ltr;\">'%Y-%m-%d'</code>, לדוגמה, מתארת תאריך המורכב משנה, חודש ויום, כשביניהם מפריד הסימן מקף.\n",
    "</p>"
   ]
  },
  {
   "cell_type": "markdown",
   "metadata": {},
   "source": [
    "<p style=\"text-align: right; direction: rtl; float: right; clear: both;\">\n",
    "    הפרמטר השני הוא תיאור התאריך שאליו אנחנו רוצים להתייחס.<br>\n",
    "    לעיתים קרובות נראה שם את המחרוזת <var>'now'</var> בתור הפרמטר, כדי להתייחס לתאריך הנוכחי.<br>\n",
    "</p>"
   ]
  },
  {
   "cell_type": "markdown",
   "metadata": {},
   "source": [
    "<p style=\"text-align: right; direction: rtl; float: right; clear: both;\">\n",
    "    נסו בעצמכם:\n",
    "</p>"
   ]
  },
  {
   "cell_type": "markdown",
   "metadata": {},
   "source": [
    "```sql\n",
    "SELECT strftime('%Y-%m-%d %H:%M:%S', 'now') AS current_date;\n",
    "-- Output: 2020-11-05 00:34:10\n",
    "```"
   ]
  },
  {
   "cell_type": "markdown",
   "metadata": {},
   "source": [
    "<p style=\"text-align: right; direction: rtl; float: right; clear: both;\">\n",
    "    הטריק המגניב בפונקציה הזו הוא שאפשר להעביר ארגומנטים נוספים (ראו modifiers בתיעוד) כדי לזוז קדימה ואחורה בזמן.<br>\n",
    "    לדוגמה:\n",
    "</p>"
   ]
  },
  {
   "cell_type": "markdown",
   "metadata": {},
   "source": [
    "```sql\n",
    "SELECT strftime('%Y-%m-%d %H:%M:%S', 'now', 'start of month','+1 month','-1 day') AS current_date;\n",
    "```"
   ]
  },
  {
   "cell_type": "markdown",
   "metadata": {},
   "source": [
    "<p style=\"text-align: right; direction: rtl; float: right; clear: both;\">\n",
    "    יחזיר לי את היום אחרון בחודש הנוכחי.<br>\n",
    "    זה עובד כיוון ש־SQLite עקב אחרי ההוראות שנשלחו כפרמטרים ל־<code>strftime</code>:<br>\n",
    "    מצא את התאריך כרגע, זוז ממנו לתחילת החודש, קח חודש אחד קדימה ותפחית מזה יום.\n",
    "</p>"
   ]
  },
  {
   "cell_type": "markdown",
   "metadata": {},
   "source": [
    "### <span style=\"text-align: right; direction: rtl; float: right; clear: both;\">תרגיל ביניים: ארוך וקולע</span>"
   ]
  },
  {
   "cell_type": "markdown",
   "metadata": {},
   "source": [
    "<p style=\"text-align: right; direction: rtl; float: right; clear: both;\">\n",
    "    הציגו את 10 הסרטים ששמם הוא הארוך ביותר במסד הנתונים.<br>\n",
    "    ודאו שהסרט הראשון שמוצג הוא זה עם השם הארוך ביותר.<br>\n",
    "    אם יש שני סרטים שאורך שמם זהה, סדרו אותם לפי שמם בסדר אלפבתי.\n",
    "</p>"
   ]
  },
  {
   "cell_type": "markdown",
   "metadata": {},
   "source": [
    "<p style=\"text-align: right; direction: rtl; float: right; clear: both;\">\n",
    "    רמז: השתמשו בתיעוד הפונקציות באתר של SQLite.\n",
    "</p>"
   ]
  },
  {
   "cell_type": "markdown",
   "metadata": {},
   "source": [
    "## <span style=\"text-align: right; direction: rtl; float: right; clear: both;\">מילת המפתח <code>DISTINCT</code></span>"
   ]
  },
  {
   "cell_type": "markdown",
   "metadata": {},
   "source": [
    "<p style=\"text-align: right; direction: rtl; float: right; clear: both;\">\n",
    "    ננסה להציג את השנים שבהן שוחררו הסרטים שנמצאים במסד הנתונים שלנו.<br>\n",
    "    בעזרת הכלים שרכשנו עד כה, נוכל בקלות לנסח שאילתה כזו:\n",
    "</p>"
   ]
  },
  {
   "cell_type": "markdown",
   "metadata": {},
   "source": [
    "```sql\n",
    "SELECT \"year\"\n",
    "FROM movies\n",
    "ORDER BY \"year\";\n",
    "```"
   ]
  },
  {
   "cell_type": "markdown",
   "metadata": {},
   "source": [
    "<div class=\"align-center\" style=\"display: flex; text-align: right; direction: rtl;\">\n",
    "    <div style=\"display: flex; width: 10%; float: right; \">\n",
    "        <img src=\"images/tip.png\" style=\"height: 50px !important;\" alt=\"טיפ!\" title=\"טיפ!\">\n",
    "    </div>\n",
    "    <div style=\"width: 90%;\">\n",
    "        כיוון ש־<var>year</var> היא גם שם של פונקציה ב־SQLite, בחרנו להקיף את שם העמודה בגרשיים.<br>\n",
    "        שם שמופיע בגרשיים (להבדיל מגרש, שמסמל מחרוזות) הוא בהכרח שם של טבלה או של עמודה.\n",
    "    </div>\n",
    "</div>"
   ]
  },
  {
   "cell_type": "markdown",
   "metadata": {},
   "source": [
    "<p style=\"text-align: right; direction: rtl; float: right; clear: both;\">\n",
    "    באופן לא מפתיע, שנים מסוימות מופיעות שוב ושוב בתוצאות – כמספר הסרטים ששוחררו באותה שנה.<br>\n",
    "    שנת 1934 חוזרת על עצמה 289 פעמים, לדוגמה, ושנת 2017 חוזרת על עצמה לא פחות מ־3329 פעמים.\n",
    "</p>"
   ]
  },
  {
   "cell_type": "markdown",
   "metadata": {},
   "source": [
    "<p style=\"text-align: right; direction: rtl; float: right; clear: both;\">\n",
    "    כדי להסיר את הכפילויות מתוצאות השאילתה נוכל להשתמש במילת המפתח <code>DISTINCT</code>.<br>\n",
    "    נעשה זאת כך:\n",
    "</p>"
   ]
  },
  {
   "cell_type": "markdown",
   "metadata": {},
   "source": [
    "```sql\n",
    "SELECT DISTINCT \"year\" \n",
    "FROM movies\n",
    "ORDER BY \"year\";\n",
    "```"
   ]
  },
  {
   "cell_type": "markdown",
   "metadata": {},
   "source": [
    "<p style=\"text-align: right; direction: rtl; float: right; clear: both;\">\n",
    "    הסרת הכפילויות תתבצע עבור <em>כל העמודות</em> שעליהן אנחנו שולפים בשאילתת ה־<code>SELECT DISTINCT</code>.<br>\n",
    "    זאת אומרת שאם נבקש לבצע <code>DISTINCT</code> על שתי עמודות או יותר,<br>\n",
    "    כל טור בפני עצמו יוכל להכיל כמה פעמים את אותו ערך – אבל שורה שלמה עם אותם ערכים לעולם לא תחזור על עצמה. \n",
    "</p>"
   ]
  },
  {
   "cell_type": "markdown",
   "metadata": {},
   "source": [
    "<div class=\"align-center\" style=\"display: flex; text-align: right; direction: rtl;\">\n",
    "    <div style=\"display: flex; width: 10%; float: right; \">\n",
    "        <img src=\"images/warning.png\" style=\"height: 50px !important;\" alt=\"אזהרה!\"> \n",
    "    </div>\n",
    "    <div style=\"width: 90%\">\n",
    "        <p style=\"text-align: right; direction: rtl;\">\n",
    "            מילת המפתח <code>DISTINCT</code> חייבת להופיע מייד אחרי מילת המפתח <code>SELECT</code>.<br>\n",
    "            כרגע אין לנו דרך לבקש ממסד הנתונים להסיר כפילות רק בחלק מהעמודות.\n",
    "        </p>\n",
    "    </div>\n",
    "</div>"
   ]
  },
  {
   "cell_type": "markdown",
   "metadata": {},
   "source": [
    "## <span style=\"text-align: right; direction: rtl; float: right; clear: both;\">תרגיל לדוגמה</span>"
   ]
  },
  {
   "cell_type": "markdown",
   "metadata": {},
   "source": [
    "### <span style=\"text-align: right; direction: rtl; float: right; clear: both;\">שאלה</span>"
   ]
  },
  {
   "cell_type": "markdown",
   "metadata": {},
   "source": [
    "<p style=\"text-align: right; direction: rtl; float: right; clear: both;\">\n",
    "    כתבו שאילתה שתציג, ללא כפילויות, את כל השנים והחודשים בהם נולדו ידוענים שנמצאים במסד הנתונים שלנו.<br>\n",
    "    לדוגמה, במסד הנתונים תהיה שורה בה החודש הוא 05 והשנה היא 1899.<br>\n",
    "    סדרו את התוצאות לפי השנה ואז לפי החודש, בסדר עולה.\n",
    "</p>"
   ]
  },
  {
   "cell_type": "markdown",
   "metadata": {},
   "source": [
    "<p style=\"text-align: right; direction: rtl; float: right; clear: both;\">\n",
    "    נסו לפתור את התרגיל בעצמכם לפני שתביטו בפתרון.\n",
    "</p>"
   ]
  },
  {
   "cell_type": "markdown",
   "metadata": {},
   "source": [
    "### <span style=\"text-align: right; direction: rtl; float: right; clear: both;\">פתרון</span>"
   ]
  },
  {
   "cell_type": "markdown",
   "metadata": {},
   "source": [
    "<p style=\"text-align: right; direction: rtl; float: right; clear: both;\">\n",
    "    השאלה מתייחסת לתאריך הלידה (<var>date_of_birth</var>) של ידוענים (<var>names</var>),<br>\n",
    "    ומבקשת להשיג את שנת הלידה שלהם ואת חודש הלידה שלהם.\n",
    "</p>"
   ]
  },
  {
   "cell_type": "markdown",
   "metadata": {},
   "source": [
    "<p style=\"text-align: right; direction: rtl; float: right; clear: both;\">\n",
    "    נוכל להשיג את הנתונים האלו בעזרת הפונקציה <code>strftime</code>,<br>\n",
    "    וכמובן שלא נשכח לוודא שאנחנו משתמשים אך ורק בשורות בהן <var>date_of_birth</var> ידוע לנו.\n",
    "</p>"
   ]
  },
  {
   "cell_type": "markdown",
   "metadata": {},
   "source": [
    "<p style=\"text-align: right; direction: rtl; float: right; clear: both;\">\n",
    "    כך אנחנו פתרנו את השאלה הזו:\n",
    "</p>"
   ]
  },
  {
   "cell_type": "markdown",
   "metadata": {},
   "source": [
    "```sql\n",
    "SELECT DISTINCT strftime('%m', date_of_birth) AS month_of_birth, \n",
    "                strftime('%Y', date_of_birth) AS year_of_birth \n",
    "FROM names\n",
    "WHERE date_of_birth IS NOT NULL\n",
    "ORDER BY year_of_birth, month_of_birth;\n",
    "```"
   ]
  },
  {
   "cell_type": "markdown",
   "metadata": {},
   "source": [
    "## <span style=\"text-align: right; direction: rtl; float: right; clear: both;\">סיכום</span>"
   ]
  },
  {
   "cell_type": "markdown",
   "metadata": {},
   "source": [
    "<p style=\"text-align: right; direction: rtl; float: right; clear: both;\">\n",
    "    במחברת זו רכשנו כלים נוספים שמאפשרים לנו לכתוב שאילתות SQL עשירות יותר.\n",
    "</p>"
   ]
  },
  {
   "cell_type": "markdown",
   "metadata": {},
   "source": [
    "<p style=\"text-align: right; direction: rtl; float: right; clear: both;\">\n",
    "    למדנו כיצד לקבל את הנתונים בצורה מסודרת בעזרת <code>ORDER BY</code>.<br>\n",
    "    בהמשך, גילינו שקיימות פונקציות גם במסדי נתונים, ואלו מעשירות מאוד את היכולת שלנו לעבד מידע לפני שהוא חוזר אלינו.<br>\n",
    "    לבסוף, למדנו על מילת המפתח <code>DISTINCT</code> – שמאפשרת לנו לסנן החוצה תוצאות כפולות על עמודה אחת או יותר.\n",
    "</p>"
   ]
  },
  {
   "cell_type": "markdown",
   "metadata": {},
   "source": [
    "## <span style=\"text-align: right; direction: rtl; float: right; clear: both;\">תרגילים</span>"
   ]
  },
  {
   "cell_type": "markdown",
   "metadata": {},
   "source": [
    "### <span style=\"text-align: right; direction: rtl; float: right; clear: both;\">דקות של תהילה</span>"
   ]
  },
  {
   "cell_type": "markdown",
   "metadata": {},
   "source": [
    "<p style=\"text-align: right; direction: rtl; float: right; clear: both;\">\n",
    "    כמה זמן אפשר להקדיש ללמידת פייתון? נמאס!<br>\n",
    "    וכל הדיבור הזה על סרטים...\n",
    "</p>"
   ]
  },
  {
   "cell_type": "markdown",
   "metadata": {},
   "source": [
    "<p style=\"text-align: right; direction: rtl; float: right; clear: both;\">\n",
    "    מפה לשם, החלטתם לפרוש לעסקי הבימוי.<br>\n",
    "    השתמשו במסד הנתונים כדי להחליט מהו האורך המיטבי עבור הסרט החדש שלכם.<br>\n",
    "    צרו עמודה בשם <var>rating</var> בה יופיע הציון המעוגל של הסרט, כמספר שלם.<br>\n",
    "    צרו עמודה נוספת בשם <var>hours</var> שמכילה את אורך הסרט בשעות, גם הפעם מעוגל למספר שלם.<br>    \n",
    "</p>"
   ]
  },
  {
   "cell_type": "markdown",
   "metadata": {},
   "source": [
    "<p style=\"text-align: right; direction: rtl; float: right; clear: both;\">\n",
    "    מצאו כמה שעות צריך להיות הסרט שלכם כך שיהיה לו הסיכוי הטוב ביותר לקבל ציון גבוה.<br>\n",
    "    אל תציגו פעמיים סרטים באותו אורך שקיבלו את אותו ציון.\n",
    "</p>"
   ]
  },
  {
   "cell_type": "markdown",
   "metadata": {},
   "source": [
    "### <span style=\"text-align: right; direction: rtl; float: right; clear: both;\">שוברי קופות</span>"
   ]
  },
  {
   "cell_type": "markdown",
   "metadata": {},
   "source": [
    "<p style=\"text-align: right; direction: rtl; float: right; clear: both;\">\n",
    "    כתבו שאילתה שמחזירה את שמות כל הסרטים שגרפו את הרווח הגדול ביותר במסד הנתונים שלנו.<br>\n",
    "    הציגו רק סרטים שיש לנו את הנתונים הללו עליהם, ולא יותר מ־1,000 סרטים בסך הכל.<br>\n",
    "    אם שני סרטים גרפו רווחים זהים, סדרו אותם לפי היחס בין הרווחים שגרפו לבין התקציב שלהם.\n",
    "</p>"
   ]
  },
  {
   "cell_type": "markdown",
   "metadata": {},
   "source": [
    "<p style=\"text-align: right; direction: rtl; float: right; clear: both;\">\n",
    "    זו שאלה לא קלה שכוללת ישום אינטנסיבי של מה שלמדנו עד כה, ומעט חשיבה יצירתית.<br>\n",
    "    ודאו שאתם מתייחסים לטיב הנתונים לפני שאתם משתמשים בהם. אל תתייחסו לסרטים שרווחיהם שמורים במטבע שאינו דולרי.<br>\n",
    "    השתמשו ב<a href=\"https://sqlite.org/lang_corefunc.html\">תיעוד הפונקציות</a> של SQLite כדי לצלוח את השאלה. במידת הצורך, קראו גם על הפונקציה <code>CAST</code>.\n",
    "</p>"
   ]
  }
 ],
 "metadata": {
  "kernelspec": {
   "display_name": "Python 3",
   "language": "python",
   "name": "python3"
  },
  "language_info": {
   "codemirror_mode": {
    "name": "ipython",
    "version": 3
   },
   "file_extension": ".py",
   "mimetype": "text/x-python",
   "name": "python",
   "nbconvert_exporter": "python",
   "pygments_lexer": "ipython3",
   "version": "3.8.6"
  }
 },
 "nbformat": 4,
 "nbformat_minor": 2
}
