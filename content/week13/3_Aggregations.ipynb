{
 "cells": [
  {
   "cell_type": "markdown",
   "metadata": {},
   "source": [
    "<img src=\"images/logo.jpg\" style=\"display: block; margin-left: auto; margin-right: auto;\" alt=\"לוגו של מיזם לימוד הפייתון. נחש מצויר בצבעי צהוב וכחול, הנע בין האותיות של שם הקורס: לומדים פייתון. הסלוגן המופיע מעל לשם הקורס הוא מיזם חינמי ללימוד תכנות בעברית.\">"
   ]
  },
  {
   "cell_type": "markdown",
   "metadata": {},
   "source": [
    "# <span style=\"text-align: right; direction: rtl; float: right;\">כתיבת שאילתות אגרגטיביות</span>"
   ]
  },
  {
   "cell_type": "markdown",
   "metadata": {},
   "source": [
    "<p style=\"text-align: right; direction: rtl; float: right; clear: both;\">\n",
    "    עד כה למדנו על הפסוקיות <code>SELECT</code>, <code>FROM</code>, <code>WHERE</code>, <code>ORDER BY</code>, ו־<code>LIMIT</code>, ועל סדר הרצתם על ידי מנוע ה־SQL.<br>\n",
    "    דיברנו על אופרטורי השוואה, אופרטורים לוגיים, על <code>NULL</code> ועל טיפול בכפילויות בעזרת מילת המפתח <code>DISTINCT</code>.<br>\n",
    "    גילינו גם על פונקציות במסדי נתונים, ועל איך הן מאפשרות לנו לעבד את התוצאות ולהחזיר תוצאות שנוח יותר לעבוד איתן.\n",
    "</p>"
   ]
  },
  {
   "cell_type": "markdown",
   "metadata": {},
   "source": [
    "<p style=\"text-align: right; direction: rtl; float: right; clear: both;\">\n",
    "    במחברת זו נלמד:\n",
    "</p>"
   ]
  },
  {
   "cell_type": "markdown",
   "metadata": {},
   "source": [
    "<ol style=\"text-align: right; direction: rtl; float: right; clear: both;\">\n",
    "    <li>כיצד אפשר לבצע חישובים על ערכים משורות שונות.</li>\n",
    "    <li>כיצד אפשר לקבץ ישויות ולבצע חישובים בין הישויות בכל קבוצה.</li>\n",
    "    <li>כיצד לסנן תוצאות לפי תוצאות הקיבוץ.</li>\n",
    "</ol>"
   ]
  },
  {
   "cell_type": "markdown",
   "metadata": {},
   "source": [
    "<p style=\"text-align: right; direction: rtl; float: right; clear: both;\">\n",
    "    בואו נתחיל!\n",
    "</p>"
   ]
  },
  {
   "cell_type": "markdown",
   "metadata": {},
   "source": [
    "## <span style=\"text-align: right; direction: rtl; float: right; clear: both;\">פונקציות אגרגטיביות</span>"
   ]
  },
  {
   "cell_type": "markdown",
   "metadata": {},
   "source": [
    "<p style=\"text-align: right; direction: rtl; float: right; clear: both;\">\n",
    "    <dfn>פונקציות אגרגטיביות</dfn> (באנגלית: <dfn>Aggregate functions</dfn>) הן פונקציות שפועלות על כמה שורות יחד, ומחזירות מהן ערך יחיד.<br>\n",
    "    הן מוכרות בעברית גם בשמות פונקציות צבירה, פונקציות קבוצה ופונקציות קיבוציות.\n",
    "</p>"
   ]
  },
  {
   "cell_type": "markdown",
   "metadata": {},
   "source": [
    "<p style=\"text-align: right; direction: rtl; float: right; clear: both;\">\n",
    "    הנה כמה דוגמאות למקרים שבהם פונקציות אגרגטיביות יכולות לסייע לנו:\n",
    "</p>"
   ]
  },
  {
   "cell_type": "markdown",
   "metadata": {},
   "source": [
    "<ul style=\"text-align: right; direction: rtl; float: right; clear: both;\">\n",
    "    <li>למצוא את ממוצע הציונים בכיתה מתוך טבלה שבה כל רשומה היא ציון של מבחן.</li>\n",
    "    <li>למצוא את הסכום המירבי שלקוח שילם במסעדה, מתוך טבלה של הזמנות במסעדה.</li>\n",
    "    <li>למצוא את המוצר הזול ביותר בעגלת הקניות שלי, מתוך טבלה שמכילה את המוצרים שנמצאים בעגלה.</li>\n",
    "    <li>למצוא כמה לקוחות קונים בחנות שלי, מתוך טבלה שמכילה את פרטי הלקוחות בחנות.</li>\n",
    "</ul>"
   ]
  },
  {
   "cell_type": "markdown",
   "metadata": {},
   "source": [
    "<p style=\"text-align: right; direction: rtl; float: right; clear: both;\">\n",
    "    עד כה עבדנו עם <dfn>פונקציות סקלריות</dfn> – פונקציות שמקבלות רשימה של נתונים, ועבור כל איבר ברשימה מחזירות ערך.<br>\n",
    "    פונקציות אגרגטיביות הן פונקציות שמקבלות נתונים – ומחזירות תוצאה אחת.\n",
    "</p>"
   ]
  },
  {
   "cell_type": "markdown",
   "metadata": {},
   "source": [
    "<p style=\"text-align: right; direction: rtl; float: right; clear: both;\">\n",
    "    ניקח לדוגמה את הפונקציה \"קבל מספר, ותחזיר את אותו מספר בחזקת שתיים\".<br>\n",
    "    זוהי פונקציה סקלרית שבהינתן הנתונים 1, 2 ו־3 תחזיר 1, 4 ו־9 בהתאמה.<br>\n",
    "    שיעור שעבר למדנו על הפונקציה הסקלרית <code>round</code>, לדוגמה, שמקבלת מספר ומעגלת אותו.<br>\n",
    "    עבור הנתונים 3.1, 3.4 ו־3.7 היא תחזיר 3, 3 ו־4 בהתאמה.\n",
    "</p>"
   ]
  },
  {
   "cell_type": "markdown",
   "metadata": {},
   "source": [
    "<p style=\"text-align: right; direction: rtl; float: right; clear: both;\">\n",
    "    פונקציות אגרגטיביות, כאמור, מקבלות רשימה של נתונים ומחזירות תוצאה אחת.<br>\n",
    "    הפונקציה \"קבל מספרים והחזר את סכומם\", לדוגמה, היא פונקציה אגרגטיבית, שבהינתן הנתונים 1, 2 ו־3 תחזיר 6.<br>\n",
    "</p>"
   ]
  },
  {
   "cell_type": "markdown",
   "metadata": {},
   "source": [
    "<p style=\"text-align: right; direction: rtl; float: right; clear: both;\">\n",
    "    ננסה להבין, לדוגמה, מה הדירוג הממוצע של סרט במסד הנתונים שלנו.<br>\n",
    "</p>"
   ]
  },
  {
   "cell_type": "markdown",
   "metadata": {},
   "source": [
    "<p style=\"text-align: right; direction: rtl; float: right; clear: both;\">\n",
    "    נוכל להשתמש בפונקציה האגרגטיבית <code>AVG</code>, שמקבלת קבוצת נתונים (במקרה שלנו: עמודה).<br>\n",
    "    הפונקציה תחזיר את ממוצע הערכים שאינם <code>NULL</code> באותה קבוצת נתונים.\n",
    "</p>"
   ]
  },
  {
   "cell_type": "markdown",
   "metadata": {},
   "source": [
    "<p style=\"text-align: right; direction: rtl; float: right; clear: both;\">\n",
    "    נבקש מהפונקציה לפעול על עמודת הציונים, <var>avg_vote</var>, בטבלת <var>movies</var>.<br>\n",
    "    הפונקציה תחזיר ערך יחיד: מה הציון הממוצע של סרט במסד הנתונים.\n",
    "</p>"
   ]
  },
  {
   "cell_type": "markdown",
   "metadata": {},
   "source": [
    "```sql\n",
    "SELECT AVG(avg_vote)\n",
    "FROM movies;\n",
    "```"
   ]
  },
  {
   "cell_type": "markdown",
   "metadata": {},
   "source": [
    "<p style=\"text-align: right; direction: rtl; float: right; clear: both;\">\n",
    "    אם הרצתם את השאילתה על מסד הנתונים שלכם, קיבלתם שורה אחת, בה יש ערך שקרוב ל־<samp>5.9</samp>.<br>\n",
    "    זהו הדירוג הממוצע של סרט במסד הנתונים.\n",
    "</p>"
   ]
  },
  {
   "cell_type": "markdown",
   "metadata": {},
   "source": [
    "<p style=\"text-align: right; direction: rtl; float: right; clear: both;\">\n",
    "    פונקציות אגרגטיביות זכו <a href=\"https://sqlite.org/lang_aggfunc.html\">לדף משלהם</a> בתיעוד של SQLite.<br>\n",
    "    אתם עשויים לראות לעיתים קרובות שימוש בפונקציות <span dir=\"rtl\" style=\"direction: rtl;\"><code>SUM</code>, <code>MIN</code>, <code>MAX</code>, <code>COUNT</code></span> ו־<code>AVG</code>.\n",
    "</p>"
   ]
  },
  {
   "cell_type": "markdown",
   "metadata": {},
   "source": [
    "<div class=\"align-center\" style=\"display: flex; text-align: right; direction: rtl; clear: both;\">\n",
    "    <div style=\"display: flex; width: 10%; float: right; clear: both;\">\n",
    "        <img src=\"images/exercise.svg\" style=\"height: 50px !important;\" alt=\"תרגול\"> \n",
    "    </div>\n",
    "    <div style=\"width: 70%\">\n",
    "        <p style=\"text-align: right; direction: rtl; float: right; clear: both;\">\n",
    "            נסו לגלות כמה ערכי <code>NULL</code> נמצאים בעמודה <var>budget</var> שבטבלת <var>movies</var>.<br>\n",
    "            השתמשו בתיעוד.\n",
    "        </p>\n",
    "    </div>\n",
    "    <div style=\"display: flex; width: 20%; border-right: 0.1rem solid #A5A5A5; padding: 1rem 2rem;\">\n",
    "        <p style=\"text-align: center; direction: rtl; justify-content: center; align-items: center; clear: both;\">\n",
    "            <strong>חשוב!</strong><br>\n",
    "            פתרו לפני שתמשיכו!\n",
    "        </p>\n",
    "    </div>\n",
    "</div>"
   ]
  },
  {
   "cell_type": "markdown",
   "metadata": {},
   "source": [
    "<p style=\"text-align: right; direction: rtl; float: right; clear: both;\">\n",
    "    הפונקציה <code>COUNT</code>, לדוגמה, מאפשרת לנו לספור כמה ישויות קיימות בטבלה מסוימת.<br>\n",
    "    נבדוק כמה סרטים קיימים לנו במסד הנתונים:\n",
    "</p>"
   ]
  },
  {
   "cell_type": "markdown",
   "metadata": {},
   "source": [
    "```sql\n",
    "SELECT COUNT(*)\n",
    "FROM movies;\n",
    "```"
   ]
  },
  {
   "cell_type": "markdown",
   "metadata": {},
   "source": [
    "<p style=\"text-align: right; direction: rtl; float: right; clear: both;\">\n",
    "    שימו לב ש־<code>COUNT</code> לא סופרת ערכי <code>NULL</code>,<br>\n",
    "    כך שאם נעביר לה כארגומנט עמודה מסוימת, נראה כמה ערכים שאינם <code>NULL</code> קיימים בעמודה.<br>\n",
    "</p>"
   ]
  },
  {
   "cell_type": "markdown",
   "metadata": {},
   "source": [
    "<p style=\"text-align: right; direction: rtl; float: right; clear: both;\">\n",
    "    נראה לדוגמה כמה ערכים של תקציבי סרטים קיימים במסד הנתונים.<br>\n",
    "    נשתמש בפונקציה <code>COUNT</code> על העמודה <var>budget</var> בטבלת <var>movies</var>:\n",
    "</p>"
   ]
  },
  {
   "cell_type": "markdown",
   "metadata": {},
   "source": [
    "```sql\n",
    "SELECT COUNT(budget)\n",
    "FROM movies;\n",
    "```"
   ]
  },
  {
   "cell_type": "markdown",
   "metadata": {},
   "source": [
    "<p style=\"text-align: right; direction: rtl; float: right; clear: both;\">\n",
    "    כדי להבין כמה ערכים הם <code>NULL</code> בעמודה הזו, נוכל לבצע חיסור פשוט.<br>\n",
    "    נחסר בין כמות הערכים בטבלה לבין כמות הערכים שאינם <code>NULL</code>:\n",
    "</p>"
   ]
  },
  {
   "cell_type": "markdown",
   "metadata": {},
   "source": [
    "```sql\n",
    "SELECT COUNT(*) - COUNT(budget)\n",
    "FROM movies;\n",
    "```"
   ]
  },
  {
   "cell_type": "markdown",
   "metadata": {},
   "source": [
    "<p style=\"text-align: right; direction: rtl; float: right; clear: both;\">\n",
    "    כמו שראינו, פונקציות אגרגטיביות פועלות על כל השורות הקיימות, ומחזירות לנו תוצאה אחת.<br>\n",
    "    אפשר לדמיין את הפעולה שלהן כמעין מעיכה של כל השורות כדי להשיג תוצאה יחידה.\n",
    "</p>"
   ]
  },
  {
   "cell_type": "markdown",
   "metadata": {},
   "source": [
    "### <span style=\"text-align: right; direction: rtl; float: right; clear: both;\">תרגיל ביניים: אם הרחקתי ראות</span>"
   ]
  },
  {
   "cell_type": "markdown",
   "metadata": {},
   "source": [
    "<p style=\"text-align: right; direction: rtl; float: right; clear: both;\">\n",
    "    האם הגבהים במסד הנתונים שלנו אמינים?<br>\n",
    "    אם כן, הרי שממוצע הגבהים של אנשים עד גיל 18 יהיה נמוך מהממוצע של שאר האנשים.\n",
    "</p>"
   ]
  },
  {
   "cell_type": "markdown",
   "metadata": {},
   "source": [
    "<p style=\"text-align: right; direction: rtl; float: right; clear: both;\">\n",
    "    כתבו שאילתה שתציג את ממוצע הגבהים של אנשים עד גיל 18, ושאילתה נוספת שתציג את ממוצע הגבהים של אנשים מגיל 18 ומעלה.<br>\n",
    "    האם ממוצע הגבהים במסד הנתונים אמין?\n",
    "</p>"
   ]
  },
  {
   "cell_type": "markdown",
   "metadata": {},
   "source": [
    "## <span style=\"text-align: right; direction: rtl; float: right; clear: both;\">הפסוקית <code>GROUP BY</code></span>"
   ]
  },
  {
   "cell_type": "markdown",
   "metadata": {},
   "source": [
    "<p style=\"text-align: right; direction: rtl; float: right; clear: both;\">\n",
    "    כשנבצע מחקר על הנתונים, פעמים רבות נרצה לשאול שאלות על קבוצות של נתונים.\n",
    "</p>"
   ]
  },
  {
   "cell_type": "markdown",
   "metadata": {},
   "source": [
    "### <span style=\"text-align: right; direction: rtl; float: right; clear: both;\">דוגמה – משקלי פירות</span>"
   ]
  },
  {
   "cell_type": "markdown",
   "metadata": {},
   "source": [
    "<p style=\"text-align: right; direction: rtl; float: right; clear: both;\">\n",
    "    נראה דוגמה חיה על רשימת נתונים קטנה.<br>\n",
    "    לפנינו טבלה שבה פירות ומשקלם:<br>\n",
    "</p>"
   ]
  },
  {
   "cell_type": "markdown",
   "metadata": {},
   "source": [
    "<table style=\"text-align: right; direction: rtl; clear: both; font-size: 1.3rem\">\n",
    "    <caption style=\"text-align: center; direction: rtl; clear: both; font-size: 2rem; padding-bottom: 2rem;\">דוגמה  לטבלת פירות</caption>\n",
    "    <thead>\n",
    "        <tr>\n",
    "            <th>מספר סידור (<var>id</var>)</th>\n",
    "            <th>סוג הפרי (<var>fruit_type</var>)</th>\n",
    "            <th>משקל (<var>weight</var>)</th>\n",
    "        </tr>\n",
    "    </thead>\n",
    "    <tbody>\n",
    "        <tr>\n",
    "            <td>1</td>\n",
    "            <td>תפוח</td>\n",
    "            <td>150</td>\n",
    "        </tr>\n",
    "        <tr>\n",
    "            <td>2</td>\n",
    "            <td>מנגו</td>\n",
    "            <td>540</td>\n",
    "        </tr>\n",
    "        <tr>\n",
    "            <td>3</td>\n",
    "            <td>תפוח</td>\n",
    "            <td>170</td>\n",
    "        </tr>\n",
    "        <tr>\n",
    "            <td>4</td>\n",
    "            <td>תפוח</td>\n",
    "            <td>140</td>\n",
    "        </tr>\n",
    "        <tr>\n",
    "            <td>5</td>\n",
    "            <td>מנגו</td>\n",
    "            <td>460</td>\n",
    "        </tr>\n",
    "        <tr>\n",
    "            <td>6</td>\n",
    "            <td>תות</td>\n",
    "            <td>25</td>\n",
    "        </tr>\n",
    "        <tr>\n",
    "            <td>7</td>\n",
    "            <td>תפוח</td>\n",
    "            <td>150</td>\n",
    "        </tr>\n",
    "        <tr>\n",
    "            <td>8</td>\n",
    "            <td>תות</td>\n",
    "            <td>15</td>\n",
    "        </tr>\n",
    "    </tbody>\n",
    "</table>"
   ]
  },
  {
   "cell_type": "markdown",
   "metadata": {},
   "source": [
    "<p style=\"text-align: right; direction: rtl; float: right; clear: both;\">\n",
    "    אם נרצה לקבל מה משקל התותים שקטפנו, נוכל לעשות את זה יחסית בקלות:\n",
    "</p>"
   ]
  },
  {
   "cell_type": "markdown",
   "metadata": {},
   "source": [
    "```sql\n",
    "SELECT SUM(weight) AS strawberries_weight\n",
    "FROM fruits  -- שם הטבלה\n",
    "WHERE fruit_type = 'תות';\n",
    "```"
   ]
  },
  {
   "cell_type": "markdown",
   "metadata": {},
   "source": [
    "<p style=\"text-align: right; direction: rtl; float: right; clear: both;\">\n",
    "    התוצאה תהיה עמודה בשם <var>strawberries_weight</var> שבה יש ערך אחד – 40, הרי הוא סכום משקלי התותים בטבלה.\n",
    "</p>"
   ]
  },
  {
   "cell_type": "markdown",
   "metadata": {},
   "source": [
    "<p style=\"text-align: right; direction: rtl; float: right; clear: both;\">\n",
    "    בטבלת הדוגמה למעלה אפשר לראות 3 סוגי פירות: תפוח, מנגו ותות.<br>\n",
    "    מה אם נרצה לקבל את הסכום של משקלי <em>כל אחד</em> מסוגי הפירות?\n",
    "</p>"
   ]
  },
  {
   "cell_type": "markdown",
   "metadata": {},
   "source": [
    "<p style=\"text-align: right; direction: rtl; float: right; clear: both;\">\n",
    "    בכלים שיש לנו כרגע, אין לנו דרך לכתוב שאילתה שכזו.<br>\n",
    "    נצטרך לעבור על כל אחד מסוגי הפירות וליצור עבורם שאילתה דומה לזו שעשינו עבור התות.\n",
    "</p>"
   ]
  },
  {
   "cell_type": "markdown",
   "metadata": {},
   "source": [
    "<p style=\"text-align: right; direction: rtl; float: right; clear: both;\">\n",
    "    לו היינו רוצים לפתור את הבעיה באופן ידני, היינו ניגשים אליה כך:\n",
    "</p>\n",
    "\n",
    "<ol style=\"text-align: right; direction: rtl; float: right; clear: both;\">\n",
    "    <li>נחליט על פי איזו תכונה (עמודה) אנחנו מחלקים את הערכים לקבוצות – במקרה שלנו סוג הפרי.</li>\n",
    "    <li>נחליט מה מעניין אותנו לחשב – איזו תכונה מעניינת אותנו, ואיזו פעולה נרצה לעשות עליה. לדוגמה: סכום, על עמודת המשקל.</li>\n",
    "    <li>נבצע את הפעולה על כל אחת מהקבוצות בנפרד.</li>\n",
    "</ol>"
   ]
  },
  {
   "cell_type": "markdown",
   "metadata": {},
   "source": [
    "<p style=\"text-align: right; direction: rtl; float: right; clear: both;\">\n",
    "    נקבץ את הפירות בטבלה לפי סוג הפרי:\n",
    "</p>"
   ]
  },
  {
   "cell_type": "markdown",
   "metadata": {},
   "source": [
    "<table style=\"text-align: right; direction: rtl; clear: both; font-size: 1.3rem\">\n",
    "    <caption style=\"text-align: center; direction: rtl; clear: both; font-size: 2rem; padding-bottom: 2rem;\">דוגמה  לטבלת פירות, מקובצת לפי סוג הפרי</caption>\n",
    "    <thead>\n",
    "        <tr>\n",
    "            <th>מספר סידור (<var>id</var>)</th>\n",
    "            <th>סוג הפרי (<var>fruit_type</var>)</th>\n",
    "            <th>משקל (<var>weight</var>)</th>\n",
    "        </tr>\n",
    "    </thead>\n",
    "    <tbody>\n",
    "        <tr style=\"background-color: #66CC33;\">\n",
    "            <td>1</td>\n",
    "            <td>תפוח</td>\n",
    "            <td>150</td>\n",
    "        </tr>\n",
    "        <tr style=\"background-color: #ffc324; text-decoration: overline;\">\n",
    "            <td>2</td>\n",
    "            <td>מנגו</td>\n",
    "            <td>540</td>\n",
    "        </tr>\n",
    "        <tr style=\"background-color: #66CC33;\">\n",
    "            <td>3</td>\n",
    "            <td>תפוח</td>\n",
    "            <td>170</td>\n",
    "        </tr>\n",
    "        <tr style=\"background-color: #66CC33;\">\n",
    "            <td>4</td>\n",
    "            <td>תפוח</td>\n",
    "            <td>140</td>\n",
    "        </tr>\n",
    "        <tr style=\"background-color: #ffc324; text-decoration: overline;\">\n",
    "            <td>5</td>\n",
    "            <td>מנגו</td>\n",
    "            <td>460</td>\n",
    "        </tr>\n",
    "        <tr style=\"background-color: #fc5a8d; text-decoration: underline;\">\n",
    "            <td>6</td>\n",
    "            <td>תות</td>\n",
    "            <td>25</td>\n",
    "        </tr>\n",
    "        <tr style=\"background-color: #66CC33;\">\n",
    "            <td>7</td>\n",
    "            <td>תפוח</td>\n",
    "            <td>150</td>\n",
    "        </tr>\n",
    "        <tr style=\"background-color: #fc5a8d; text-decoration: underline;\">\n",
    "            <td>8</td>\n",
    "            <td>תות</td>\n",
    "            <td>15</td>\n",
    "        </tr>\n",
    "    </tbody>\n",
    "</table>"
   ]
  },
  {
   "cell_type": "markdown",
   "metadata": {},
   "source": [
    "<p style=\"text-align: right; direction: rtl; float: right; clear: both;\">\n",
    "    תוכלו לדמיין ששמנו את כל אחד מהפירות בדלי שמתאים לסוג שלו.<br>\n",
    "    כעת ברשותינו דלי תותים, דלי מנגו ודלי תפוחים.\n",
    "</p>"
   ]
  },
  {
   "cell_type": "markdown",
   "metadata": {},
   "source": [
    "<p style=\"text-align: right; direction: rtl; float: right; clear: both;\">\n",
    "    נחליט שמעניין אותנו לחשב את סכום (<code>SUM</code>) המשקלים (<var>weight</var>).\n",
    "</p>"
   ]
  },
  {
   "cell_type": "markdown",
   "metadata": {},
   "source": [
    "<p style=\"text-align: right; direction: rtl; float: right; clear: both;\">\n",
    "    כדי להגיע לתוצאה, נפעיל את הפונקציה (<code>SUM</code>) על כל אחת מהקבוצות:\n",
    "</p>"
   ]
  },
  {
   "cell_type": "markdown",
   "metadata": {},
   "source": [
    "<table style=\"text-align: right; direction: rtl; clear: both; font-size: 1.3rem\">\n",
    "    <caption style=\"text-align: center; direction: rtl; clear: both; font-size: 2rem; padding-bottom: 2rem;\">משקל לפי סוג פרי</caption>\n",
    "    <thead>\n",
    "        <tr>\n",
    "            <th>סוג הפרי (<var>fruit_type</var>)</th>\n",
    "            <th>סכום המשקלים (<var>weights_sum</var>)</th>\n",
    "        </tr>\n",
    "    </thead>\n",
    "    <tbody>\n",
    "        <tr style=\"background-color: #66CC33;\">\n",
    "            <td>תפוח</td>\n",
    "            <td>610</td>\n",
    "        </tr>\n",
    "        <tr style=\"background-color: #ffc324; text-decoration: overline;\">\n",
    "            <td>מנגו</td>\n",
    "            <td>1000</td>\n",
    "        </tr>\n",
    "        <tr style=\"background-color: #fc5a8d; text-decoration: underline;\">\n",
    "            <td>תות</td>\n",
    "            <td>40</td>\n",
    "        </tr>\n",
    "    </tbody>\n",
    "</table>"
   ]
  },
  {
   "cell_type": "markdown",
   "metadata": {},
   "source": [
    "<p style=\"text-align: right; direction: rtl; float: right; clear: both;\">\n",
    "    הכל טוב ויפה, אבל איך ניגש לבעיה ב־SQL?\n",
    "</p>"
   ]
  },
  {
   "cell_type": "markdown",
   "metadata": {},
   "source": [
    "<p style=\"text-align: right; direction: rtl; float: right; clear: both;\">\n",
    "    למזלנו, הפסוקית <code>GROUP BY</code> קיימת בדיוק בשביל המטרה הזו.<br>\n",
    "    בשאילתה, הפסוקית הזו תאפשר לנו לקבץ ערכים לפי עמודה מסוימת.<br>\n",
    "    זה יראה כך:\n",
    "</p>"
   ]
  },
  {
   "cell_type": "markdown",
   "metadata": {},
   "source": [
    "```sql\n",
    "GROUP BY fruit_type\n",
    "```"
   ]
  },
  {
   "cell_type": "markdown",
   "metadata": {},
   "source": [
    "<p style=\"text-align: right; direction: rtl; float: right; clear: both;\">\n",
    "    זה למעשה החלק בשאילתה ש\"צובע לנו את הטבלה\" בצורה שראינו למעלה.<br>\n",
    "    ה\"צביעה\" או \"החלוקה לדליים\" שראיתם למעלה – זה בדיוק מה שהפסוקית הזו עושה בפועל.\n",
    "</p>"
   ]
  },
  {
   "cell_type": "markdown",
   "metadata": {},
   "source": [
    "<p style=\"text-align: right; direction: rtl; float: right; clear: both;\">\n",
    "    נעבור לשאילתה המלאה.\n",
    "</p>"
   ]
  },
  {
   "cell_type": "markdown",
   "metadata": {},
   "source": [
    "<p style=\"text-align: right; direction: rtl; float: right; clear: both;\">\n",
    "    זכרו את השלבים:\n",
    "</p>\n",
    "\n",
    "<ol style=\"text-align: right; direction: rtl; float: right; clear: both;\">\n",
    "    <li>מחליטים על העמודה שמחלקת לקבוצות – <var>fruit_type</var>.</li>\n",
    "    <li>מחליטים על מה רוצים לעשות עם הקבוצות שנוצרו – סכום (<code>SUM</code>) על המשקלים (<var>weights</var>).</li>\n",
    "</ol>"
   ]
  },
  {
   "cell_type": "markdown",
   "metadata": {},
   "source": [
    "```sql\n",
    "SELECT fruit_type, SUM(weights) AS weights_sum\n",
    "FROM fruits\n",
    "GROUP BY fruit_type;\n",
    "```"
   ]
  },
  {
   "cell_type": "markdown",
   "metadata": {},
   "source": [
    "<p style=\"text-align: right; direction: rtl; float: right; clear: both;\">\n",
    "    התוצאה תהיה 3 שורות של סכום המשקלים של כל סוג פרי.<br>\n",
    "    דוגמה לתוצאה כזו היא הטבלה הצבועה האחרונה שראיתם.\n",
    "</p>"
   ]
  },
  {
   "cell_type": "markdown",
   "metadata": {},
   "source": [
    "<p style=\"text-align: right; direction: rtl; float: right; clear: both;\">\n",
    "    חשוב להבין שכשכתבנו <code>GROUP BY</code> בשאילתה שלנו, שינינו לחלוטין את הצורה בה השאילתה עובדת.<br>\n",
    "    במקום ש־<code>SELECT</code> תפעל על כל אחת מהשורות,<br>\n",
    "    היא עוברת למצב שבו היא פועלת על קבוצות – אותן קבוצות צבעוניות שראינו למעלה.\n",
    "</p>"
   ]
  },
  {
   "cell_type": "markdown",
   "metadata": {},
   "source": [
    "<p style=\"text-align: right; direction: rtl; float: right; clear: both;\">\n",
    "    פסוקית ה־<code>GROUP BY</code> יוצרת את אותן קבוצות,<br>\n",
    "    ואז פסוקית ה־<code>SELECT</code> עוברת על קבוצה אחת בכל פעם (במקום על שורה אחת בכל פעם), ומחזירה עבור כל קבוצה תוצאה אחת.\n",
    "</p>"
   ]
  },
  {
   "cell_type": "markdown",
   "metadata": {},
   "source": [
    "### <span style=\"text-align: right; direction: rtl; float: right; clear: both;\">כמות הסרטים שיצאו בכל שנה</span>"
   ]
  },
  {
   "cell_type": "markdown",
   "metadata": {},
   "source": [
    "<p style=\"text-align: right; direction: rtl; float: right; clear: both;\">\n",
    "    באותו אופן שבו היה לנו קל לענות על משקל התותים בטבלה שלנו,<br>\n",
    "    יהיה לנו קל לענות על השאלה \"כמה סרטים יצאו בשנת 1990\":\n",
    "</p>"
   ]
  },
  {
   "cell_type": "markdown",
   "metadata": {},
   "source": [
    "```sql\n",
    "SELECT COUNT(*)\n",
    "FROM movies\n",
    "WHERE \"year\" = 1990;\n",
    "```"
   ]
  },
  {
   "cell_type": "markdown",
   "metadata": {},
   "source": [
    "<p style=\"text-align: right; direction: rtl; float: right; clear: both;\">\n",
    "    אבל האם תוכלו לכתוב שאילתה שתחזיר את כמות הסרטים שיצאו בכל שנה שקיימת במסד הנתונים?\n",
    "</p>"
   ]
  },
  {
   "cell_type": "markdown",
   "metadata": {},
   "source": [
    "<div class=\"align-center\" style=\"display: flex; text-align: right; direction: rtl; clear: both;\">\n",
    "    <div style=\"display: flex; width: 10%; float: right; clear: both;\">\n",
    "        <img src=\"images/exercise.svg\" style=\"height: 50px !important;\" alt=\"תרגול\"> \n",
    "    </div>\n",
    "    <div style=\"width: 70%\">\n",
    "        <p style=\"text-align: right; direction: rtl; float: right; clear: both;\">\n",
    "            נסו לכתוב שאילתה שתציג כמה סרטים יצאו בכל שנה.<br>\n",
    "            בתוצאות השאילתה שתכתבו אמורה להיות רשומה עבור כל אחת מהשנים שקיימות במסד הנתונים.\n",
    "        </p>\n",
    "    </div>\n",
    "    <div style=\"display: flex; width: 20%; border-right: 0.1rem solid #A5A5A5; padding: 1rem 2rem;\">\n",
    "        <p style=\"text-align: center; direction: rtl; justify-content: center; align-items: center; clear: both;\">\n",
    "            <strong>חשוב!</strong><br>\n",
    "            פתרו לפני שתמשיכו!\n",
    "        </p>\n",
    "    </div>\n",
    "</div>"
   ]
  },
  {
   "cell_type": "markdown",
   "metadata": {},
   "source": [
    "<p style=\"text-align: right; direction: rtl; float: right; clear: both;\">\n",
    "    נוכל לשאול את אותה שאלה בקלות גם עבור 1991 ו־1992.<br>\n",
    "    למרות שזה בהחלט אפשרי לעבור שנה שנה, זו עשויה להיות משימה מעט מעייפת.<br>\n",
    "    אילו רק הייתה דרך לקבץ את הסרטים לפי השנים, ואז לספור כמה סרטים יש בכל קבוצה...\n",
    "</p>"
   ]
  },
  {
   "cell_type": "markdown",
   "metadata": {},
   "source": [
    "<p style=\"text-align: right; direction: rtl; float: right; clear: both;\">\n",
    "    נכתוב את השאילתה בעזרת פסוקית ה־<code>GROUP BY</code>, כמו שלמדנו:\n",
    "</p>"
   ]
  },
  {
   "cell_type": "markdown",
   "metadata": {},
   "source": [
    "```sql\n",
    "SELECT \"year\", COUNT(*) AS movie_count\n",
    "FROM movies\n",
    "GROUP BY \"year\";\n",
    "```"
   ]
  },
  {
   "cell_type": "markdown",
   "metadata": {},
   "source": [
    "<p style=\"text-align: right; direction: rtl; float: right; clear: both;\">\n",
    "    בשאילתה הזו ביקשנו:\n",
    "</p>\n",
    "\n",
    "<ol style=\"text-align: right; direction: rtl; float: right; clear: both;\">\n",
    "    <li>חלק את השורות לקבוצות לפי הערכים בעמודת <var>year</var>.</li>\n",
    "    <li>עבור כל קבוצה שכזו, שמורכבת מכל השורות שבהן מופיעה שנה מסוימת, בדוק כמה איברים היא כוללת.</li>\n",
    "    <li>החזר את השנה ואת כמות האיברים שקובצו על פי אותה שנה.</li>\n",
    "</ol>"
   ]
  },
  {
   "cell_type": "markdown",
   "metadata": {},
   "source": [
    "<div class=\"align-center\" style=\"display: flex; text-align: right; direction: rtl; clear: both;\">\n",
    "    <div style=\"display: flex; width: 10%; float: right; clear: both;\">\n",
    "        <img src=\"images/exercise.svg\" style=\"height: 50px !important;\" alt=\"תרגול\"> \n",
    "    </div>\n",
    "    <div style=\"width: 100%\">\n",
    "        <p style=\"text-align: right; direction: rtl; float: right; clear: both;\">\n",
    "            המציאו נתונים משל עצמכם, וחישבו על מקומות שבהם הייתם יכולים לנצל את הכוח של פסוקית <code>GROUP BY</code>.<br>\n",
    "            נסו לחשוב לפחות על 4 דוגמאות.\n",
    "        </p>\n",
    "    </div>\n",
    "</div>"
   ]
  },
  {
   "cell_type": "markdown",
   "metadata": {},
   "source": [
    "<p style=\"text-align: right; direction: rtl; float: right; clear: both;\">\n",
    "    הנה הפתרון שלנו:\n",
    "</p>"
   ]
  },
  {
   "cell_type": "markdown",
   "metadata": {},
   "source": [
    "<table style=\"text-align: right; direction: rtl; clear: both; font-size: 1.3rem\">\n",
    "    <caption style=\"text-align: center; direction: rtl; clear: both; font-size: 2rem; padding-bottom: 2rem;\">דוגמאות לשאלות חקר שאפשר לענות עליהן באמצעות חישוב על קבוצה</caption>\n",
    "    <thead>\n",
    "        <tr>\n",
    "            <th>תיאור הנתונים</th>\n",
    "            <th>שאלת החקר</th>\n",
    "            <th>השדה שלפיו נחלק לקבוצות</th>\n",
    "            <th>הפונקציה האגרגטיבית</th>\n",
    "            <th>השדה שעליו נפעיל חישוב</th>\n",
    "        </tr>\n",
    "    </thead>\n",
    "    <tbody>\n",
    "        <tr>\n",
    "            <td>טבלת פירות בה ישות היא סוג הפרי, משקלו ותמונה שלו.</td>\n",
    "            <td>מה המשקל הממוצע של כל סוג פרי שיש לנו במסד הנתונים?</td>\n",
    "            <td>סוג הפרי (תפוח, אשכולית, בננה)</td>\n",
    "            <td>ממוצע (<code>AVG</code>)</td>\n",
    "            <td>משקל</td>\n",
    "        </tr>\n",
    "        <tr>\n",
    "            <td>טבלת ספרים בה ישות היא שמם, הסוגה (הז'אנר) שלהם ומספר הדפים בכל ספר.</td>\n",
    "            <td>מהו הספר בעל מספר העמודים המירבי מכל סוגה (ז'אנר)?</td>\n",
    "            <td>הסוגה של הספר</td>\n",
    "            <td>מקסימום (<code>MAX</code>)</td>\n",
    "            <td>מספר העמודים</td>\n",
    "        </tr>\n",
    "        <tr>\n",
    "            <td>טבלת עובדים בה ישות היא שמם, המשכורת שלהם והמחלקה בה הם עובדים.</td>\n",
    "            <td>כמה משכורות אנחנו משלמים עבור מחלקה בעסק שלנו?</td>\n",
    "            <td>מחלקת העובד</td>\n",
    "            <td>סכום (<code>SUM</code>)</td>\n",
    "            <td>שכר</td>\n",
    "        </tr>\n",
    "        <tr>\n",
    "            <td>טבלת סרטים בה ישות היא שם הסרט, תאריך שחרורו לאקרנים, ציון ממוצע לסרט ומספר מדרגים.</td>\n",
    "            <td>עבור כל שנה, מה הציון הממוצע של הסרטים ששוחררו בה?</td>\n",
    "            <td>שנת שחרור</td>\n",
    "            <td>ממוצע (<code>AVG</code>)</td>\n",
    "            <td>ציון</td>\n",
    "        </tr>\n",
    "    </tbody>\n",
    "</table>"
   ]
  },
  {
   "cell_type": "markdown",
   "metadata": {},
   "source": [
    "<p style=\"text-align: right; direction: rtl; float: right; clear: both;\">\n",
    "    נסבך את השאילתה, הפעם רק במעט.<br>\n",
    "    נבקש לקבל רק שנים שבהן נכנס הפסקול לסרטים (1927 והלאה).<br>\n",
    "    נסדר אותם לפי כמות הסרטים בסדר יורד, ונבקש לקבל רק עד 5 תוצאות.\n",
    "</p>"
   ]
  },
  {
   "cell_type": "markdown",
   "metadata": {},
   "source": [
    "```sql\n",
    "SELECT \"year\", COUNT(*) AS movie_count\n",
    "FROM movies\n",
    "WHERE \"year\" >= 1927\n",
    "GROUP BY \"year\"\n",
    "ORDER BY movie_count DESC\n",
    "LIMIT 5;\n",
    "```"
   ]
  },
  {
   "cell_type": "markdown",
   "metadata": {},
   "source": [
    "<p style=\"text-align: right; direction: rtl; float: right; clear: both;\">\n",
    "    מהשאילתה למעלה אנחנו למדים שפסוקית <code>GROUP BY</code> מגיעה אחרי <code>WHERE</code> ולפני <code>ORDER BY</code>.<br>\n",
    "    אבל מהו הסדר לפיו מנוע ה־SQL מריץ את הפסוקיות בשאילתה?\n",
    "</p>"
   ]
  },
  {
   "cell_type": "markdown",
   "metadata": {},
   "source": [
    "### <span style=\"text-align: right; direction: rtl; float: right; clear: both;\">סדר הרצה</span>"
   ]
  },
  {
   "cell_type": "markdown",
   "metadata": {},
   "source": [
    "<p style=\"text-align: right; direction: rtl; float: right; clear: both;\">\n",
    "    עכשיו, כשאנחנו יודעים איך נראית שאילתה שבנויה מכל הפסוקיות שלמדנו,<br>\n",
    "    נרענן את סדר הרצת הפסוקיות במנוע ה־SQL:\n",
    "</p>"
   ]
  },
  {
   "cell_type": "markdown",
   "metadata": {},
   "source": [
    "<figure>\n",
    "    <img src=\"images/clause-execution-order-3.svg?v=1\" style=\"margin-right: auto; margin-left: auto; text-align: center;\" alt=\"בתמונה: שאילתה שבנויה מ־6 פסוקיות: SELECT, FROM, WHERE, ORDER BY, GROUP BY ו־LIMIT. משמאל למילה FROM מופיע עיגול עם הספרה 1, משמאל למילה WHERE מופיע עיגול עם הספרה 2, משמאל למילה GROUP BY מופיע עיגול עם הספרה 3, משמאל למילה SELECT מופיע עיגול עם הספרה 4, משמאל למילה 5 מופיע עיגול עם המילים ORDER BY ומשמאל ל־LIMIT מופיע עיגול עם המילה 6.\"/>\n",
    "    <figcaption style=\"margin-top: 2rem; text-align: center; direction: rtl;\">\n",
    "        איור שממחיש את סדר הרצת הפסוקיות בשאילתת SQL שמבצע מנוע ה־SQL על מסד הנתונים.\n",
    "    </figcaption>\n",
    "</figure>"
   ]
  },
  {
   "cell_type": "markdown",
   "metadata": {},
   "source": [
    "<p style=\"text-align: right; direction: rtl; float: right; clear: both;\">\n",
    "    כמו שאפשר לראות באיור שלמעלה, פסוקית ה־<code>GROUP BY</code> נקראת על ידי מסד הנתונים מייד לפני קריאת פסוקית ה־<code>SELECT</code>.<br>\n",
    "    הסדר הזה נקבע כדי לאפשר לפסוקית ה־<code>SELECT</code> להפעיל פונקציות אגרגטיביות על הקבוצות שנוצרו על ידי פסוקית ה־<code>GROUP BY</code>.\n",
    "</p>"
   ]
  },
  {
   "cell_type": "markdown",
   "metadata": {},
   "source": [
    "### <span style=\"text-align: right; direction: rtl; float: right; clear: both;\">תרגיל ביניים: לזכור את הטיטאנים</span>"
   ]
  },
  {
   "cell_type": "markdown",
   "metadata": {},
   "source": [
    "<p style=\"text-align: right; direction: rtl; float: right; clear: both;\">\n",
    "    רבים טוענים שיש לנו נטייה לייפות את העבר, ולכן דירוגם הממוצע של סרטים ישנים גבוה יותר.<br>\n",
    "</p>"
   ]
  },
  {
   "cell_type": "markdown",
   "metadata": {},
   "source": [
    "<p style=\"text-align: right; direction: rtl; float: right; clear: both;\">\n",
    "    בדקו את הטענה.<br>\n",
    "    כתבו שאילתה שתוצאתה היא הדירוג הממוצע של סרטים לפי שנה.<br>\n",
    "    כיוון שיש יחסית מעט דירוגים עבור סרטים ישנים מאוד, כללו רק סרטים שיצאו בשנת 1924 או אחריה.\n",
    "</p>"
   ]
  },
  {
   "cell_type": "markdown",
   "metadata": {},
   "source": [
    "<p style=\"text-align: right; direction: rtl; float: right; clear: both;\">\n",
    "    עבור כל שנה, עגלו את הציון הממוצע שמצאתם ל־2 ספרות אחרי הנקודה.<br> \n",
    "    סדרו את תוצאות השאילתה לפי הדירוג הממוצע באותה שנה כך שהדירוג הגבוה ביותר יופיע ראשון.<br>\n",
    "    אם יש 2 דירוגים זהים, הציגו קודם את השנה המוקדמת מביניהן. \n",
    "</p>"
   ]
  },
  {
   "cell_type": "markdown",
   "metadata": {},
   "source": [
    "<p style=\"text-align: right; direction: rtl; float: right; clear: both;\">\n",
    "    הציצו על התוצאות, ושערו בעצמכם אם אפשר להגיד שסרטים ישנים יותר מדורגים גבוה יותר.\n",
    "</p>"
   ]
  },
  {
   "cell_type": "markdown",
   "metadata": {},
   "source": [
    "### <span style=\"text-align: right; direction: rtl; float: right; clear: both;\">המגבלה של פונקציות אגרגטיביות</span>"
   ]
  },
  {
   "cell_type": "markdown",
   "metadata": {},
   "source": [
    "<p style=\"text-align: right; direction: rtl; float: right; clear: both;\">\n",
    "    ישנה בעיה נפוצה למדי עם <code>GROUP BY</code> ועם פונקציות אגרגטיביות, שתקפוץ עליכם די מהר אחרי שתשתמשו בהן מספיק.<br>\n",
    "    חשוב להבין למה היא מתרחשת וכיצד אפשר להתמודד איתה.<br>\n",
    "    נסו לחשוב בעצמכם על מה עלול להשתבש בשאילתה הבאה:\n",
    "</p>"
   ]
  },
  {
   "cell_type": "markdown",
   "metadata": {},
   "source": [
    "```sql\n",
    "SELECT \"year\", COUNT(*) AS movie_count, title\n",
    "FROM movies\n",
    "GROUP BY \"year\";\n",
    "```"
   ]
  },
  {
   "cell_type": "markdown",
   "metadata": {},
   "source": [
    "<p style=\"text-align: right; direction: rtl; float: right; clear: both;\">\n",
    "    השאילתה האחרונה ביקשה לקבץ את הסרטים לפי שנה, ועבור כל שנה – להחזיר:\n",
    "</p>\n",
    "\n",
    "<ol style=\"text-align: right; direction: rtl; float: right; clear: both;\">\n",
    "    <li>את השנה עצמה.</li>\n",
    "    <li>את כמות הסרטים ששוחררו באותה שנה.</li>\n",
    "    <li>את כותרת הסרט(?)</li>\n",
    "</ol>"
   ]
  },
  {
   "cell_type": "markdown",
   "metadata": {},
   "source": [
    "<p style=\"text-align: right; direction: rtl; float: right; clear: both;\">\n",
    "    במצב האגרגטיבי שבו אנחנו נמצאים, <code>COUNT</code> הולכת למעוך מספר ישויות לכדי שורה אחת ויחידה.<br>\n",
    "    במקרה הזה, אין משמעות לאחזור \"כותרת הסרט\" – אנחנו פועלים על קבוצת סרטים, מספר רשומות.<br>\n",
    "    אין סרט אחד שאפשר להתייחס אליו ולשלוף את הכותרת שלו.\n",
    "</p>"
   ]
  },
  {
   "cell_type": "markdown",
   "metadata": {},
   "source": [
    "<div class=\"align-center\" style=\"display: flex; text-align: right; direction: rtl;\">\n",
    "    <div style=\"display: flex; width: 10%; float: right; \">\n",
    "        <img src=\"images/warning.png\" style=\"height: 50px !important;\" alt=\"אזהרה!\"> \n",
    "    </div>\n",
    "    <div style=\"width: 90%\">\n",
    "        <p style=\"text-align: right; direction: rtl;\">\n",
    "            SQLite רחמן ומחזיר תשובה חסרת פשר.<br>\n",
    "            רוב המנועים של מסדי הנתונים האחרים יתריעו על חריגה ויכשילו את השאילתה.\n",
    "        </p>\n",
    "    </div>\n",
    "</div>"
   ]
  },
  {
   "cell_type": "markdown",
   "metadata": {},
   "source": [
    "<p style=\"text-align: right; direction: rtl; float: right; clear: both;\">\n",
    "    לכן, כלל האצבע הוא כזה:<br>\n",
    "    בשאילתה שבה יש פסוקית <code>GROUP BY</code>, העמודות בפסוקית ה־<code>SELECT</code> חייבות:\n",
    "</p>"
   ]
  },
  {
   "cell_type": "markdown",
   "metadata": {},
   "source": [
    "<ul style=\"text-align: right; direction: rtl; float: right; clear: both;\">\n",
    "    <li><em>או</em> להופיע בפסוקית ה־<code>GROUP BY</code>.</li>\n",
    "    <li><em>או</em> להיות עמודות מחושבות שנוצרו בעזרת פונקציות אגרגטיביות.</li>\n",
    "</ul>"
   ]
  },
  {
   "cell_type": "markdown",
   "metadata": {},
   "source": [
    "### <span style=\"text-align: right; direction: rtl; float: right; clear: both;\"><code>GROUP BY</code> על יותר מעמודה אחת</span>"
   ]
  },
  {
   "cell_type": "markdown",
   "metadata": {},
   "source": [
    "<p style=\"text-align: right; direction: rtl; float: right; clear: both;\">\n",
    "    הנה תרגיל מעט מאתגר, שתוכלו לנסות לפתור לפני שתמשיכו:\n",
    "</p>"
   ]
  },
  {
   "cell_type": "markdown",
   "metadata": {},
   "source": [
    "<p style=\"text-align: right; direction: rtl; float: right; clear: both;\">\n",
    "    עבור כל שנה, הציגו את כל הדירוגים שסרטים קיבלו באותה שנה.<br>\n",
    "    ליד כל דירוג, כמה סרטים דורגו כך באותה שנה.<br>\n",
    "    כלומר, כל שורה בתוצאת השאילתה צריכה להיות מורכבת מ:\n",
    "</p>\n",
    "\n",
    "<ul style=\"text-align: right; direction: rtl; float: right; clear: both;\">\n",
    "    <li>שנה – השנה בה עלה הסרט לאקרנים. לדוגמה: 1913.</li>\n",
    "    <li>דירוג – מספר עשרוני בין 1 ל־10 שמייצג דירוג שהופיע באותה שנה בטבלת הסרטים. לדוגמה: 6.6.</li>\n",
    "    <li>כמות סרטים מתאימים – מספר הסרטים שקיבלו בדיוק את הדירוג הזה, בשנה הזו. לדוגמה: 2.</li>\n",
    "</ul>\n",
    "\n",
    "<p style=\"text-align: right; direction: rtl; float: right; clear: both;\">\n",
    "    אם לא היה אף סרט שקיבל דירוג מסוים בשנה מסוימת, מהשאילתה לא תחזור ישות שמכילה את השנה והדירוג הללו.<br>\n",
    "    השתמשו ביצירתיות שלכם – הפתרון פשוט, אבל לא למדנו את הטכניקה הזו והיא דורשת מעט אינטואיציה.\n",
    "</p>"
   ]
  },
  {
   "cell_type": "markdown",
   "metadata": {},
   "source": [
    "<p style=\"text-align: right; direction: rtl; float: right; clear: both;\">\n",
    "    כך נראות 21 השורות הראשונות שחזרו מפתרון התרגיל:\n",
    "</p>"
   ]
  },
  {
   "cell_type": "raw",
   "metadata": {},
   "source": [
    "year|avg_vote|times_rating_appeared|\n",
    "----|--------|---------------------|\n",
    "1894|5.9     |                    1|\n",
    "1906|6.1     |                    1|\n",
    "1911|5.7     |                    1|\n",
    "1911|5.8     |                    1|\n",
    "1911|6.0     |                    1|\n",
    "1911|6.2     |                    1|\n",
    "1911|7.0     |                    1|\n",
    "1912|5.2     |                    1|\n",
    "1912|5.5     |                    1|\n",
    "1912|5.7     |                    1|\n",
    "1912|6.7     |                    1|\n",
    "1912|6.8     |                    1|\n",
    "1913|5.0     |                    1|\n",
    "1913|6.0     |                    1|\n",
    "1913|6.2     |                    2|\n",
    "1913|6.4     |                    1|\n",
    "1913|6.5     |                    1|\n",
    "1913|6.6     |                    2|\n",
    "1913|7.0     |                    3|\n",
    "1913|7.1     |                    1|\n",
    "1913|7.5     |                    1|"
   ]
  },
  {
   "cell_type": "markdown",
   "metadata": {},
   "source": [
    "<p style=\"text-align: right; direction: rtl; float: right; clear: both;\">\n",
    "    השאלה למעלה מלמדת אותנו על היכולת של <code>GROUP BY</code> לעבוד על כמה עמודות יחד.<br>\n",
    "    הפעם, הקבוצות שאנחנו רוצים ליצור הן לא לפי עמודה אחת (רק שנה, או רק דירוג).<br>\n",
    "    כל קבוצה שניצור תורכב מ<em>שילוב</em> של כמה עמודות. במקרה שלנו – <em>גם</em> השנה, ו<em>גם</em> הדירוג.\n",
    "</p>"
   ]
  },
  {
   "cell_type": "markdown",
   "metadata": {},
   "source": [
    "<p style=\"text-align: right; direction: rtl; float: right; clear: both;\">\n",
    "    עם קצת יצירתיות והכלים שלמדתם, נפריד את השדות ב־<code>GROUP BY</code> בפסיק כדי להשיג את התוצאה:<br>\n",
    "</p>"
   ]
  },
  {
   "cell_type": "markdown",
   "metadata": {},
   "source": [
    "```sql\n",
    "SELECT \"year\", avg_vote, COUNT(*) AS times_rating_appeared\n",
    "FROM movies\n",
    "GROUP BY \"year\", avg_vote\n",
    "ORDER BY \"year\", avg_vote;\n",
    "```"
   ]
  },
  {
   "cell_type": "markdown",
   "metadata": {},
   "source": [
    "<p style=\"text-align: right; direction: rtl; float: right; clear: both;\">\n",
    "    שימו לב שהשאילתה <em>לא</em> יוצרת קבוצה אחת ל־<var>year</var> וקבוצה אחת ל־<var>avg_vote</var>.<br>\n",
    "    היא יוצרת קבוצה לכל שילוב קיים בין <var>year</var> לבין <var>avg_vote</var>.<br>\n",
    "    תוכלו לדמיין שנוצר tuple שמורכב מכל העמודות ששמם צוין אחרי פסוקית ה־<code>GROUP BY</code>.<br>\n",
    "    הקבוצות חולקו לפי ה־tuple הזה.\n",
    "</p>"
   ]
  },
  {
   "cell_type": "markdown",
   "metadata": {},
   "source": [
    "### <span style=\"text-align: right; direction: rtl; float: right; clear: both;\"><code>GROUP BY</code> לפי ביטוי</span>"
   ]
  },
  {
   "cell_type": "markdown",
   "metadata": {},
   "source": [
    "<p style=\"text-align: right; direction: rtl; float: right; clear: both;\">\n",
    "    תעלול נחמד שלא מובן מאליו שיעבוד, הוא חלוקה לקבוצות לפי ביטוי שיצרנו.\n",
    "</p>"
   ]
  },
  {
   "cell_type": "markdown",
   "metadata": {},
   "source": [
    "<p style=\"text-align: right; direction: rtl; float: right; clear: both;\">\n",
    "    בתור התחלה, נספור כמה סרטים קיימים במסד הנתונים עבור כל דירוג אפשרי:\n",
    "</p>"
   ]
  },
  {
   "cell_type": "markdown",
   "metadata": {},
   "source": [
    "```sql\n",
    "SELECT avg_vote, COUNT(*)\n",
    "FROM movies\n",
    "GROUP BY avg_vote;\n",
    "```"
   ]
  },
  {
   "cell_type": "markdown",
   "metadata": {},
   "source": [
    "<p style=\"text-align: right; direction: rtl; float: right; clear: both;\">\n",
    "    השאילתה למעלה החזירה את כל הדירוגים האפשריים, וכמה סרטים תואמים לכל אחד מאותם דירוגים.<br>\n",
    "    הייתי משתף איתכם את תוצאות השאילתה, אבל חזרו 89 שורות, מ־1.0 ועד 9.9. ארוך ומשעמם!\n",
    "</p>"
   ]
  },
  {
   "cell_type": "markdown",
   "metadata": {},
   "source": [
    "<p style=\"text-align: right; direction: rtl; float: right; clear: both;\">\n",
    "    כדי לקבל מידע שיהיה לנו יותר קל לעכל, בואו נעגל את הדירוג של כל סרט למספר שלם.<br>\n",
    "    כך במקום שהדירוג של כל סרט ינוע בין 1.0 ל־9.9 (89 אפשרויות), הוא יהיה בטווח שבין 1 ל־10 (10 אפשרויות).<br>\n",
    "</p>"
   ]
  },
  {
   "cell_type": "markdown",
   "metadata": {},
   "source": [
    "<p style=\"text-align: right; direction: rtl; float: right; clear: both;\">\n",
    "    החדשות המשמחות הן שאנחנו יכולים לקבץ את התוצאות לפי הערך המעוגל!<br>\n",
    "    נעשה זאת כך:\n",
    "</p>"
   ]
  },
  {
   "cell_type": "markdown",
   "metadata": {},
   "source": [
    "```sql\n",
    "SELECT round(avg_vote) AS rating,\n",
    "       COUNT(*) AS rated_movies\n",
    "FROM movies\n",
    "GROUP BY round(avg_vote);\n",
    "```"
   ]
  },
  {
   "cell_type": "markdown",
   "metadata": {},
   "source": [
    "<p style=\"text-align: right; direction: rtl; float: right; clear: both;\">\n",
    "    השאילתה הזו החזירה לנו 10 שורות כשבכל שורה מופיע דירוג מ־1 עד 10.<br>\n",
    "    לצד הדירוג בכל אחת מהשורות, מופיעה כמות הסרטים שהדירוג המעוגל שלהם תואם לדירוג שמופיע באותה שורה. \n",
    "</p>"
   ]
  },
  {
   "cell_type": "raw",
   "metadata": {},
   "source": [
    "rating|rated_movies|\n",
    "------|------------|\n",
    "   1.0|         107|\n",
    "   2.0|         885|\n",
    "   3.0|        3039|\n",
    "   4.0|        7025|\n",
    "   5.0|       14866|\n",
    "   6.0|       28367|\n",
    "   7.0|       25894|\n",
    "   8.0|        5308|\n",
    "   9.0|         354|\n",
    "  10.0|          10|"
   ]
  },
  {
   "cell_type": "markdown",
   "metadata": {},
   "source": [
    "<p style=\"text-align: right; direction: rtl; float: right; clear: both;\">\n",
    "    כדי להגיע לתוצאה הזו, יצרנו סוג של עמודה מחושבת בפסוקית ה־<code>GROUP BY</code>.<br>\n",
    "    כמו שאתם רואים, אנחנו יכולים להשתמש בביטוי מפסוקית ה־<code>GROUP BY</code>, בתוך פסוקית ה־<code>SELECT</code>. איזו הקלה!\n",
    "</p>"
   ]
  },
  {
   "cell_type": "markdown",
   "metadata": {},
   "source": [
    "### <span style=\"text-align: right; direction: rtl; float: right; clear: both;\">תרגיל ביניים: חוק בנפורד</span>"
   ]
  },
  {
   "cell_type": "markdown",
   "metadata": {},
   "source": [
    "<p style=\"text-align: right; direction: rtl; float: right; clear: both;\">\n",
    "    חוק בנפורד, בהגדרה גסה, הוא חוק שמנבא את שכיחות הספרה השמאלית ביותר במספר, בהינתן אוסף נתונים גדול מספיק.\n",
    "</p>"
   ]
  },
  {
   "cell_type": "markdown",
   "metadata": {},
   "source": [
    "<p style=\"text-align: right; direction: rtl; float: right; clear: both;\">\n",
    "    לפי החוק, ככל שספרה בטווח 1–9 היא נמוכה יותר, יש לה יותר סיכוי להופיע בתור הספרה השמאלית ביותר במספר כלשהו.<br>\n",
    "    כלומר, הספרה 1 תופיע בתדירות הגבוהה ביותר כספרה השמאלית במספרים.<br>\n",
    "    לפי אותו חוק, הספרה 2 תופיע כספרה השמאלית ביותר במספרים בתדירות נמוכה משל 1, אך גבוהה משל 3.<br>\n",
    "</p>"
   ]
  },
  {
   "cell_type": "markdown",
   "metadata": {},
   "source": [
    "<p style=\"text-align: right; direction: rtl; float: right; clear: both;\">\n",
    "    בדקו את הטענה.<br>\n",
    "    כתבו שאילתה שמתייחסת למספר הפעמים שדירגו כל סרט (עמודת <var>votes</var> בטבלת <var>movies</var>).<br>\n",
    "    הציגו כמה פעמים כמות הדירוגים מתחילה בספרה 1, כמה פעמים כמות הדירוגים מתחילה בספרה 2 וכך הלאה.\n",
    "</p>"
   ]
  },
  {
   "cell_type": "markdown",
   "metadata": {},
   "source": [
    "<p style=\"text-align: right; direction: rtl; float: right; clear: both;\">\n",
    "    הספרה השמאלית ביותר במספר 1,234, לדוגמה, היא 1. הספרה השמאלית ביותר במספר 5 היא 5.<br>\n",
    "    ודאו שהספרה 1 היא הספרה השמאלית ביותר של 33834 שורות של כמויות דירוג.\n",
    "</p>"
   ]
  },
  {
   "cell_type": "markdown",
   "metadata": {},
   "source": [
    "## <span style=\"text-align: right; direction: rtl; float: right; clear: both;\">הפסוקית <code>HAVING</code></span>"
   ]
  },
  {
   "cell_type": "markdown",
   "metadata": {},
   "source": [
    "<p style=\"text-align: right; direction: rtl; float: right; clear: both;\">\n",
    "    בשאילתות שבנינו עד כה, ראינו את הכוח האדיר של הפסוקיות השונות – מ־<code>SELECT</code> ועד <code>GROUP BY</code>.<br>\n",
    "    אחת הפסוקיות השימושיות ביותר הייתה <code>WHERE</code>, שאיפשרה לנו לסנן מהטבלה שורות שלא התאימו לצרכים שלנו.\n",
    "</p>"
   ]
  },
  {
   "cell_type": "markdown",
   "metadata": {},
   "source": [
    "<p style=\"text-align: right; direction: rtl; float: right; clear: both;\">\n",
    "    אם נציץ בסדר ההרצה של הפסוקיות באיור הצבעוני שמופיע מעלה,<br>\n",
    "    נגלה שפסוקית ה־<code>WHERE</code> מורצת לפני פסוקית ה־<code>GROUP BY</code>.<br>\n",
    "    מצליחים לזהות אילו בעיות הסדר הזה עלול להביא איתו?\n",
    "</p>"
   ]
  },
  {
   "cell_type": "markdown",
   "metadata": {},
   "source": [
    "<p style=\"text-align: right; direction: rtl; float: right; clear: both;\">\n",
    "    פסוקית ה־<code>WHERE</code> תעבוד מצוין כשנרצה לסנן שורות לפני שאנחנו מקבצים אותן,<br>\n",
    "    אבל לא תוכל לעזור לנו בסינון התוצאות שהוחזרו <em>אחרי</em> הקיבוץ והאגרגציה.\n",
    "</p>"
   ]
  },
  {
   "cell_type": "markdown",
   "metadata": {},
   "source": [
    "<p style=\"text-align: right; direction: rtl; float: right; clear: both;\">\n",
    "    נראה דוגמה.\n",
    "</p>"
   ]
  },
  {
   "cell_type": "markdown",
   "metadata": {},
   "source": [
    "<p style=\"text-align: right; direction: rtl; float: right; clear: both;\">\n",
    "    נניח שנרצה לספור כמה סרטים טובים יצאו בכל שנה.<br>\n",
    "    נגדיר \"סרט טוב\" כסרט שקיבל ציון ממוצע של יותר מ־8.0.<br>\n",
    "    סדר הפעולות במקרה הזה הוא:\n",
    "</p>\n",
    "\n",
    "<ol style=\"text-align: right; direction: rtl; float: right; clear: both;\">\n",
    "    <li>מתוך טבלת הסרטים – <code dir=\"ltr\" style=\"direction: ltr;\">FROM movies</code>.</li>\n",
    "    <li>עבור הסרטים שדירוגם הוא יותר מ־8.0 – <code dir=\"ltr\" style=\"direction: ltr;\">WHERE avg_vote > 8.0</code>.</li>\n",
    "    <li>קבץ לפי שנת הסרט – <code dir=\"ltr\" style=\"direction: ltr;\">GROUP BY \"year\"</code>.</li>\n",
    "    <li>והצג את כמות הסרטים בכל קבוצה, כלומר בכל שנה, ליד השנה עצמה – <code dir=\"ltr\" style=\"direction: ltr;\">SELECT \"year\", COUNT(*)</code>.</li>\n",
    "</ol>"
   ]
  },
  {
   "cell_type": "markdown",
   "metadata": {},
   "source": [
    "```sql\n",
    "SELECT \"year\", COUNT(*)\n",
    "FROM movies\n",
    "WHERE avg_vote > 8.0\n",
    "GROUP BY \"year\";\n",
    "```"
   ]
  },
  {
   "cell_type": "markdown",
   "metadata": {},
   "source": [
    "<p style=\"text-align: right; direction: rtl; float: right; clear: both;\">\n",
    "    עד כאן עסקים כרגיל, והכל עובד כפי שציפינו.\n",
    "</p>"
   ]
  },
  {
   "cell_type": "markdown",
   "metadata": {},
   "source": [
    "<p style=\"text-align: right; direction: rtl; float: right; clear: both;\">\n",
    "    אבל מה קורה, נניח, אם נרצה לקבל רק שנים שבהן יש לפחות 10 סרטים טובים?<br>\n",
    "    אם נתאמץ מאוד, נגיע לשאילתה השגויה הבאה:\n",
    "</p>"
   ]
  },
  {
   "cell_type": "markdown",
   "metadata": {},
   "source": [
    "```sql\n",
    "-- !זהירות, זו שאילתה שלא תעבוד\n",
    "SELECT \"year\", COUNT(*)\n",
    "FROM movies\n",
    "WHERE avg_vote > 8.0\n",
    "      AND COUNT(*) >= 10\n",
    "GROUP BY \"year\";\n",
    "```"
   ]
  },
  {
   "cell_type": "markdown",
   "metadata": {},
   "source": [
    "<p style=\"text-align: right; direction: rtl; float: right; clear: both;\">\n",
    "    כמובן שזה לא יעבוד!<br>\n",
    "    פסוקית ה־<code>WHERE</code> רצה לפני <code>GROUP BY</code> ולפני <code>SELECT</code>,<br>\n",
    "    כך שכשמנוע ה־SQL מריץ את פסוקית ה־<code>WHERE</code> הוא כלל לא יודע שקיבצנו את הטבלה לקבוצות.\n",
    "</p>"
   ]
  },
  {
   "cell_type": "markdown",
   "metadata": {},
   "source": [
    "<p style=\"text-align: right; direction: rtl; float: right; clear: both;\">\n",
    "    כדי להתגבר על הבעיה הזו, יצרו ב־SQL את פסוקית ה־<code>HAVING</code>.<br>\n",
    "    היא פועלת בדיוק כמו פסוקית ה־<code>WHERE</code>, רק שהיא מסננת תוצאות <em>אחרי</em> ה־<code>GROUP BY</code>.\n",
    "</p>"
   ]
  },
  {
   "cell_type": "markdown",
   "metadata": {},
   "source": [
    "<p style=\"text-align: right; direction: rtl; float: right; clear: both;\">\n",
    "    נתקן את השאילתה התקולה.<br>\n",
    "    נעביר את תנאי הסינון שנסמך על ה־<code>GROUP BY</code> לפסוקית ה־<code>HAVING</code>:\n",
    "</p>"
   ]
  },
  {
   "cell_type": "markdown",
   "metadata": {},
   "source": [
    "```sql\n",
    "SELECT \"year\", COUNT(*)\n",
    "FROM movies\n",
    "WHERE avg_vote > 8.0\n",
    "GROUP BY \"year\"\n",
    "HAVING COUNT(*) >= 10;\n",
    "```"
   ]
  },
  {
   "cell_type": "markdown",
   "metadata": {},
   "source": [
    "<p style=\"text-align: right; direction: rtl; float: right; clear: both;\">\n",
    "    אפשר לסכם ולהגיד:<br>\n",
    "    פסוקית ה־<code>HAVING</code> מאפשרת לנו להוסיף לשאילתה סינון לפי פונקציות אגרגטיביות.\n",
    "</p>"
   ]
  },
  {
   "cell_type": "markdown",
   "metadata": {},
   "source": [
    "<p style=\"text-align: right; direction: rtl; float: right; clear: both;\">\n",
    "    גם מבחינת מיקום בשאילתה וגם מבחינת סדר הרצה,<br>\n",
    "    פסוקית ה־<code>HAVING</code> תבוא מייד אחרי פסוקית ה־<code>GROUP BY</code>:\n",
    "</p>"
   ]
  },
  {
   "cell_type": "markdown",
   "metadata": {},
   "source": [
    "<figure>\n",
    "    <img src=\"images/clause-execution-order-4.svg?v=3\" style=\"margin-right: auto; margin-left: auto; text-align: center;\" alt=\"\n",
    "            בתמונה: שאילתה שבנויה מ־7 פסוקיות: SELECT, FROM, WHERE, ORDER BY, GROUP BY, HAVING ו־LIMIT.\n",
    "            משמאל למילה FROM מופיע עיגול עם הספרה 1,\n",
    "            משמאל למילה WHERE מופיע עיגול עם הספרה 2,\n",
    "            משמאל למילה GROUP BY מופיע עיגול עם הספרה 3,\n",
    "            משמאל למילה HAVING מופיע עיגול עם הספרה 4,\n",
    "            משמאל למילה SELECT מופיע עיגול עם הספרה 5,\n",
    "            משמאל למילה ORDER BY 6 מופיע עיגול עם הספרה\n",
    "            ומשמאל ל־LIMIT מופיע עיגול עם הספרה 7.\"/>\n",
    "    <figcaption style=\"margin-top: 2rem; text-align: center; direction: rtl;\">\n",
    "        איור שממחיש את סדר הרצת הפסוקיות בשאילתת SQL שמבצע מנוע ה־SQL על מסד הנתונים.\n",
    "    </figcaption>\n",
    "</figure>"
   ]
  },
  {
   "cell_type": "markdown",
   "metadata": {},
   "source": [
    "## <span style=\"text-align: right; direction: rtl; float: right; clear: both;\">תרגילים</span>"
   ]
  },
  {
   "cell_type": "markdown",
   "metadata": {},
   "source": [
    "### <span style=\"text-align: right; direction: rtl; float: right; clear: both;\">ילדים זה שמחה?</span>"
   ]
  },
  {
   "cell_type": "markdown",
   "metadata": {},
   "source": [
    "<p style=\"text-align: right; direction: rtl; float: right; clear: both;\">\n",
    "    הוכיחו או הפריכו: קצב הילודה בעולם צונח בקצב מסחרר.\n",
    "</p>"
   ]
  },
  {
   "cell_type": "markdown",
   "metadata": {},
   "source": [
    "<p style=\"text-align: right; direction: rtl; float: right; clear: both;\">\n",
    "    כתבו שאילתה שעבור כל עשור מ־1920, מחשבת את ממוצע הילדים של בעלי התפקידים שנולדו באותו עשור.<br>\n",
    "    אל תציגו עשורים שבהם יש לנו נתונים על פחות מ־6,000 בעלי תפקידים.<br>\n",
    "    סדרו את הנתונים בסדר יורד, לפי ממוצע הילודה באותו עשור.\n",
    "</p>"
   ]
  },
  {
   "cell_type": "markdown",
   "metadata": {},
   "source": [
    "### <span style=\"text-align: right; direction: rtl; float: right; clear: both;\">פרס טומי</span>"
   ]
  },
  {
   "cell_type": "markdown",
   "metadata": {},
   "source": [
    "<p style=\"text-align: right; direction: rtl; float: right; clear: both;\">\n",
    "    פרס טומי הוא פרס מרגש שהמצאתי ממש הרגע, ומחולק לפי הכללים שמופיעים להלן.\n",
    "</p>"
   ]
  },
  {
   "cell_type": "markdown",
   "metadata": {},
   "source": [
    "<p style=\"text-align: right; direction: rtl; float: right; clear: both;\">\n",
    "    המועמדים לפרס הם כל הסרטים שדורגו לפחות 30,000 פעמים, והציון הממוצע שלהם הוא לפחות 8.\n",
    "</p>"
   ]
  },
  {
   "cell_type": "markdown",
   "metadata": {},
   "source": [
    "<p style=\"text-align: right; direction: rtl; float: right; clear: both;\">\n",
    "    בפרס טומי, \"אורך הסרט\" מוגדר לפי אורכו של הסרט בשעות.<br>\n",
    "    אם אורכו בשעות הוא לא מספר שלם, מעגלים אותו לשלם הקרוב.<br>\n",
    "    כך סרט שאורך 61 דקות נחשב כסרט של שעה, וסרט של 100 דקות נחשב כסרט של שעתיים.\n",
    "</p>"
   ]
  },
  {
   "cell_type": "markdown",
   "metadata": {},
   "source": [
    "<p style=\"text-align: right; direction: rtl; float: right; clear: both;\">\n",
    "    בכל שנה, ישנה קטגוריה עבור כל אורך סרט אפשרי. בכל קטגוריה מחולק פרס אחד בלבד.<br>\n",
    "    הפרס מחולק עבור הסרט שהדירוג שלו הוא הגבוה ביותר עבור אותה שנה, בקטגוריית האורך שלו.\n",
    "</p>"
   ]
  },
  {
   "cell_type": "markdown",
   "metadata": {},
   "source": [
    "<p style=\"text-align: right; direction: rtl; float: right; clear: both;\">\n",
    "    כך לדוגמה אם יצאו בשנת 2001 ששת הסרטים הבאים:\n",
    "</p>"
   ]
  },
  {
   "cell_type": "raw",
   "metadata": {},
   "source": [
    ".-----.--------.--------.-----.\n",
    "|movie|duration|avg_vote|votes|\n",
    "|-----+--------+--------+-----|\n",
    "|    A|       1|     8.1|30001|\n",
    "|    B|       1|     8.9|16432|\n",
    "|    C|       1|     8.6|66666|\n",
    "|    D|       2|     8.2|    2|\n",
    "|    E|       2|     7.9|72345|\n",
    "|    F|       3|       9|99999|\n",
    "'-----------------------------'"
   ]
  },
  {
   "cell_type": "markdown",
   "metadata": {},
   "source": [
    "<p style=\"text-align: right; direction: rtl; float: right; clear: both;\">\n",
    "    התוצאות יהיו ש־C זכה בשנת 2001 בקטגוריית האורך של שעה.<br>\n",
    "    ל־B לא היו מספיק הצבעות כדי להיות מועמד, ו־A דורג נמוך מ־C ולכן הפסיד לו.\n",
    "</p>"
   ]
  },
  {
   "cell_type": "markdown",
   "metadata": {},
   "source": [
    "<p style=\"text-align: right; direction: rtl; float: right; clear: both;\">\n",
    "    בקטגוריית האורך של שעתיים באותה שנה לא זוכה אף סרט.<br>\n",
    "    הסרט D נפסל כיוון שאין מספיק אנשים שהצביעו לו, והסרט E נפסל כיוון שהדירוג שלו נמוך מדי.\n",
    "</p>"
   ]
  },
  {
   "cell_type": "markdown",
   "metadata": {},
   "source": [
    "<p style=\"text-align: right; direction: rtl; float: right; clear: both;\">\n",
    "    בקטגוריית האורך של 3 שעות זוכה הסרט F, שהוא גם המתמודד היחיד על הפרס לקטגוריה הזו בשנה הזו.\n",
    "</p>"
   ]
  },
  {
   "cell_type": "markdown",
   "metadata": {},
   "source": [
    "<p style=\"text-align: right; direction: rtl; float: right; clear: both;\">\n",
    "    הציגו את הזוכים מכל הזמנים, בכל הקטגוריות.\n",
    "</p>"
   ]
  }
 ],
 "metadata": {
  "kernelspec": {
   "display_name": "Python 3",
   "language": "python",
   "name": "python3"
  },
  "language_info": {
   "codemirror_mode": {
    "name": "ipython",
    "version": 3
   },
   "file_extension": ".py",
   "mimetype": "text/x-python",
   "name": "python",
   "nbconvert_exporter": "python",
   "pygments_lexer": "ipython3",
   "version": "3.8.6"
  }
 },
 "nbformat": 4,
 "nbformat_minor": 2
}
