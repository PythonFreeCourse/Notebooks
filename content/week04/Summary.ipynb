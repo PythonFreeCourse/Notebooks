{
 "cells": [
  {
   "cell_type": "markdown",
   "metadata": {},
   "source": [
    "<img src=\"images/logo.jpg\" style=\"display: block; margin-left: auto; margin-right: auto;\" alt=\"לוגו של מיזם לימוד הפייתון. נחש מצויר בצבעי צהוב וכחול, הנע בין האותיות של שם הקורס: לומדים פייתון. הסלוגן המופיע מעל לשם הקורס הוא מיזם חינמי ללימוד תכנות בעברית.\">"
   ]
  },
  {
   "cell_type": "markdown",
   "metadata": {},
   "source": [
    "# <p style=\"text-align:right;direction:rtl;\"> תרגילים </p> "
   ]
  },
  {
   "cell_type": "markdown",
   "metadata": {},
   "source": [
    "## <p style=\"text-align:right;direction:rtl;\"> בחירות במדינת הגמדים </p>"
   ]
  },
  {
   "cell_type": "markdown",
   "metadata": {},
   "source": [
    "<p style=\"text-align:right;direction:rtl;\">\n",
    "    במדינת הגמדים רעש מהומה, ולכן החליטו ללכת לבחירות.<br>\n",
    "    ועדת הבחירות המרכזית, בראשות דרדסבא, ערכה בחירות חשאיות והוגנות והציגה לפניכם את התוצאות בקובץ elections.txt המצורף (בתיקיית resources), על כל 353,400 בוחריה.<br>\n",
    "    הקובץ הינו רשימה של שמות המפלגות שבהן בחרו תושבי מדינת הגמדים, כאשר כל שורה מייצגת בחירה של תושב מדינת הגמדים.<br>\n",
    "    כדי לשמור על טוהר הבחירות לא נאמר לכם במפורש מהו מספר המפלגות שהגישו את רשימותיהן לוועדת הבחירות.<br>\n",
    "    עליכם הוטלה המשימה לעבור על קובץ תוצאות הבחירות ולדווח כמה קולות קיבלה כל מפלגה.<br>\n",
    "    כתבו פונקציה שלא מקבלת פרמטרים ומחזירה את תוצאות הבחירות במילון ובו שם המפלגה ומספר הקולות שקיבלה.\n",
    "</p>"
   ]
  },
  {
   "cell_type": "code",
   "execution_count": null,
   "metadata": {},
   "outputs": [],
   "source": [
    "# כתבו את הפונקציה שלכם כאן: get_election_results()"
   ]
  },
  {
   "cell_type": "markdown",
   "metadata": {},
   "source": [
    "<p style=\"text-align:right;direction:rtl;\">\n",
    "    אחוז החסימה במדינת הגמדים הוא אכזרי למדי ועומד על 10%.<br>\n",
    "    כיון שהצביעו 353,400 גמדים – אחוז החסימה עומד על\n",
    "    $353,400*0.1=35,340$ קולות.<br>\n",
    "    כתבו פונקציה המקבלת את מילון תוצאות הבחירות ומדפיסה אילו מפלגות עברו את אחוז החסימה ואילו לא.\n",
    "</p>"
   ]
  },
  {
   "cell_type": "code",
   "execution_count": null,
   "metadata": {},
   "outputs": [],
   "source": []
  },
  {
   "cell_type": "markdown",
   "metadata": {},
   "source": [
    "<p style=\"text-align:right;direction:rtl;\">\n",
    "כעת כתבו פונקציה המקבלת את מילון תוצאות הבחירות ומחזירה את מספר הקולות שקיבלו רק מפלגות שעברו את אחוז החסימה.</p>"
   ]
  },
  {
   "cell_type": "code",
   "execution_count": null,
   "metadata": {},
   "outputs": [],
   "source": []
  },
  {
   "cell_type": "markdown",
   "metadata": {},
   "source": [
    "<p style=\"text-align:right;direction:rtl;\">\n",
    "    אחרי שסיימתם בדקו שקיבלתם את הערך הבא: <span style=\"direction: rtl; background: #000; text: #000\">249,333</span>\n",
    "</p>"
   ]
  },
  {
   "cell_type": "markdown",
   "metadata": {},
   "source": [
    "<p style=\"text-align:right;direction:rtl;\">\n",
    "    לאחר קבלת תוצאות האמת המפלגות פועלות להקים קואליציה. קואליציה מורכבת מ־61 מנדטים לפחות.<br>\n",
    "    מנדט שווה: $\\dfrac{votes}{120}=2.077.775\\cong2,078$ קולות.<br>\n",
    "    שימו לב, הקולות בתרגיל זה הם התוצאה של הסעיף הקודם. כלומר הקולות בניכוי הקולות עבור מפלגות שלא עברו את אחוז החסימה.<br>\n",
    "    כעת כתבו פונקציה המקבלת את מילון התוצאות ומחזירה מילון שבו שם המפלגה ממופה עם מספר המנדטים שקיבלה המפלגה.<br>\n",
    "    הפעילו את פונקנציית <code>round</code> על תוצאת החלוקה (השתמשו ב־2,078) כדי לקבל את מספר המנדטים השלם.\n",
    "</p>"
   ]
  },
  {
   "cell_type": "code",
   "execution_count": null,
   "metadata": {},
   "outputs": [],
   "source": []
  },
  {
   "cell_type": "markdown",
   "metadata": {},
   "source": [
    "<p style=\"text-align:right;direction:rtl;\">\n",
    "הדפיסו את המילון שקיבלתם. ודאו שסך המנדטים מסתכם ל־120.</p>"
   ]
  },
  {
   "cell_type": "markdown",
   "metadata": {},
   "source": [
    "<p style=\"text-align:right;direction:rtl;\">\n",
    "כדי להרכיב קואליציה דרושים 61 מנדטים.<br>\n",
    "המפלגות MidgeLandIsUs ו־NilsIsALeader לא מוכנות לשבת יחד בקואליציה.<br>\n",
    "כתבו פונקציה המקבלת את המילון המכיל את תוצאות המנדטים ומדפיסה קואליציה אפשרית עבור NilsIsALeader וקואליציה אפשרית עבור MidgeLandIsUs.\n",
    "</p> "
   ]
  },
  {
   "cell_type": "markdown",
   "metadata": {},
   "source": [
    "## <p style=\"text-align:right;direction:rtl;\">Leveraging Simple Dictionaries</p>"
   ]
  },
  {
   "cell_type": "markdown",
   "metadata": {},
   "source": [
    "### <p style=\"text-align:right;direction:rtl;\">הקדמה</p>"
   ]
  },
  {
   "cell_type": "markdown",
   "metadata": {},
   "source": [
    "<p style=\"text-align:right;direction:rtl;\">\n",
    "    <dfn>אוטומט סופי דטרמיניסטי</dfn> הוא מודל מתמטי שמגדיר אוסף של מצבים, וכללי מעבר ביניהם.<br>\n",
    "    נפתח בדוגמה:<br>\n",
    "    <figure>\n",
    "        <img src=\"images/even_dfa.svg\"  style=\"max-width:100%; margin-right: auto; margin-left: auto; text-align: center;\" width=\"450px\" alt=\"תמונת דוגמה לאוטומט סופי דטרמיניסטי. בצד ימין ישנו חץ שעליו כתוב 'התחלה'. החץ מצביע לעיגול שבו יש את המילים 'אי־זוגי', וממנו יוצא חץ לכיוון עיגול כפול שבו כתוב 'זוגי'. על החץ כתוב 'הספרה 2, 4, 6, 8 או 0'. מהעיגול הכפול יוצא חץ חזרה לעיגול הראשון, עליו כתוב 'הספרה 1, 3, 5, 7 או 9'. מהעיגול 'זוגי' יוצא חץ לעצמו עם המספרים 2, 4, 6, 8 ו־0. מהעיגול 'אי־זוגי' יוצא חץ לעצמו עם המספרים 1, 3, 5, 7, 9. \">\n",
    "        <figcaption style=\"text-align: center; direction: rtl;\">אוטומט סופי דטרמיניסטי שבודק האם מספר מסוים הוא מספר זוגי.</figcaption>\n",
    "    </figure>\n",
    "</p>"
   ]
  },
  {
   "cell_type": "markdown",
   "metadata": {},
   "source": [
    "<p style=\"text-align:right;direction:rtl;\">\n",
    "    לפניכם מכונת מצבים שמקבלת מספר, ובודקת האם הוא זוגי.<br>\n",
    "    כל מצב מיוצג בתמונה על ידי עיגול, וכללי המעבר ביניהם מיוצגים באמצעות חצים.\n",
    "</p>"
   ]
  },
  {
   "cell_type": "markdown",
   "metadata": {},
   "source": [
    "<p style=\"text-align:right;direction:rtl;\">\n",
    "    המכונה מתחילה מ\"מצב התחלתי\" נתון כלשהו, במקרה שלנו \"מספר אי זוגי\".<br>\n",
    "    כל פעם שמתקבל קלט חדש, המכונה מחליטה לאיזה מצב לעבור לפי כללי המעבר הרשומים על החצים.<br>\n",
    "    לדוגמה, עבור הקלט 2 ואז 7 ואז 4 (274) מכונת המצבים המופיעה מעלה תבצע את הפעולות הבאות:\n",
    "</p>"
   ]
  },
  {
   "cell_type": "markdown",
   "metadata": {},
   "source": [
    "<ol style=\"text-align: right; direction: rtl; float: right; clear: both;\">\n",
    "    <li>תכנס למצב ההתחלתי \"מספר אי זוגי\".</li>\n",
    "    <li>תקרא את הספרה הראשונה במספר – 2, ותחליט לעבור (לפי החץ) למצב \"מספר זוגי\".</li> \n",
    "    <li>תקרא את הספרה השנייה במספר – 7, ותחליט לעבור (לפי החץ) למצב \"מספר אי־זוגי\".</li> \n",
    "    <li>תקרא את הספרה השלישית במספר – 4, ותחליט לעבור (לפי החץ) למצב \"מספר זוגי\".</li>\n",
    "</ol>"
   ]
  },
  {
   "cell_type": "markdown",
   "metadata": {},
   "source": [
    "<p style=\"text-align:right;direction:rtl;\">\n",
    "    לכל מצב באוטומט סופי דטרמיניסטי יש \"סוג מצב\": מקבל או לא מקבל.<br>\n",
    "    מצב מקבל מסומן בעיגול כפול, כמו המצב \"מספר זוגי\" באוטומט דלעיל.<br>\n",
    "    אם בסוף הריצה הגענו למצב מקבל, סימן שהקלט תקין, ואם לא – סימן שהקלט אינו תקין.<br>\n",
    "    באוטומט הדוגמה שלנו כל קלט מספרי זוגי הוא תקין, וכל מספרי אי־זוגי נחשב ללא תקין.\n",
    "</p>"
   ]
  },
  {
   "cell_type": "markdown",
   "metadata": {},
   "source": [
    "<p style=\"text-align:right;direction:rtl;\">\n",
    "    כל אפשרות הכלולה במצבי המעבר נקראת <dfn>אות</dfn>. אוסף כל האותיות הכלולות באוטומט מסוים נקרא <dfn>א\"ב הקלט</dfn>.<br>\n",
    "    שימו לב שבאוטומט יכולה להיות כמות גדולה של מצבים וכללי־מעבר, ובכל אוטומט יכול להיות יותר ממצב מקבל אחד.<br>\n",
    "    כמו כן, \"אות\" בא\"ב יכולה לכלול יותר מתו אחד.\n",
    "</p>"
   ]
  },
  {
   "cell_type": "markdown",
   "metadata": {},
   "source": [
    "### <p style=\"text-align:right;direction:rtl;\">תרגיל</p>"
   ]
  },
  {
   "cell_type": "markdown",
   "metadata": {},
   "source": [
    "<p style=\"text-align:right;direction:rtl;\">\n",
    "   כתבו תוכנה שקוראת קובץ ויוצרת ממנו אוטומט סופי דטרמיניסטי.<br>\n",
    "   בקובץ ישנו כל המידע הדרוש לבניית האוטומט, ורשימת קלטים. דוגמה לקובץ שכזה מופיעה מטה.<br>\n",
    "   הדפיסו עבור כל קלט האם לאחר הרצתו האוטומט הגיע למצב מקבל או למצב לא מקבל.\n",
    "</p>"
   ]
  },
  {
   "cell_type": "markdown",
   "metadata": {},
   "source": [
    "<p style=\"text-align:right;direction:rtl;\">\n",
    "    הקובץ שהתוכנה שלכם אמורה לקרוא ונועד לתאר את האוטומט המופיע למעלה נראה כך:\n",
    "</p>"
   ]
  },
  {
   "cell_type": "raw",
   "metadata": {},
   "source": [
    "Definitions:\n",
    "States: q0, q1\n",
    "Start: q0\n",
    "Accepting: q1\n",
    "\n",
    "Transitions:\n",
    "q0: 2, 4, 6, 8, 0 -> q1\n",
    "q0: 1, 3, 5, 7, 9 -> q0\n",
    "q1: 2, 4, 6, 8, 0 -> q1\n",
    "q1: 1, 3, 5, 7, 9 -> q0\n",
    "\n",
    "Inputs:\n",
    "1, 3, 1\n",
    "2, 7, 4\n",
    "2, 2, 2, 2"
   ]
  },
  {
   "cell_type": "markdown",
   "metadata": {},
   "source": [
    "<p style=\"text-align:right;direction:rtl;\">\n",
    "    על התוכנה שבניתם להדפיס במקרה הזה:\n",
    "</p>"
   ]
  },
  {
   "cell_type": "raw",
   "metadata": {},
   "source": [
    "False\n",
    "True\n",
    "False"
   ]
  },
  {
   "cell_type": "markdown",
   "metadata": {},
   "source": [
    "### <p style=\"text-align:right;direction:rtl;\">הסבר עבור הדוגמה</p>"
   ]
  },
  {
   "cell_type": "markdown",
   "metadata": {},
   "source": [
    "<p style=\"text-align:right;direction:rtl;\">\n",
    "    הפסקה הראשונה תמיד תראה כך:<br>\n",
    "    הקובץ תמיד יפתח במילה <q dir=\"ltr\">Definitions:</q>.<br>\n",
    "    שורה אחריה תמיד תופיע המילה <q dir=\"ltr\">States:</q>, ואחריה כל המצבים הקיימים במכונת המצבים, מופרדים בפסיק.<br>\n",
    "    שורה אחריה תמיד תופיע המילה <q dir=\"ltr\">Start:</q>, ואחריה המצב ההתחלתי של המכונה.<br>\n",
    "    שורה אחריה תמיד תופיע המילה <q dir=\"ltr\">Accepting:</q>, ואחריה כל המצבים שמוגדרים כמצבים מקבלים במכונת המצבים, מופרדים בפסיק.<br>\n",
    "</p>"
   ]
  },
  {
   "cell_type": "markdown",
   "metadata": {},
   "source": [
    "<p style=\"text-align:right;direction:rtl;\">\n",
    "    הפסקה השנייה תמיד תראה כך:<br>\n",
    "    הפסקה תמיד תפתח במילה <q dir=\"ltr\">Transitions:</q>, ואחריה רשימה של כללי מעבר.<br>\n",
    "    כל כלל מעבר מורכב מהמצב ממנו יוצאים, המצב אליו מגיעים ומה הקלט ש\"מפעיל\" את המעבר.<br>\n",
    "    השורה תכתב באופן הבא, כאשר X הוא המצב ממנו יוצאים, Z הוא המצב אליו מגיעים ו־Y היא רשימת הקלטים שמפעילה את מצב המעבר:<br>\n",
    "    X: Y -> Z<br>\n",
    "</p>"
   ]
  },
  {
   "cell_type": "markdown",
   "metadata": {},
   "source": [
    "<p style=\"text-align:right;direction:rtl;\">\n",
    "    הפסקה השלישית תמיד תראה כך:<br>\n",
    "    הפסקה תמיד תפתח במילה <q dir=\"ltr\">Inputs:</q>, ואחריה רשימה של קלטים <strong>תקינים</strong>.<br>\n",
    "    כל שורת קלט תופיע בשורה נפרדת בקובץ, ותכלול את רצף הקלטים שיועברו לאוטומט אחד אחרי השני, כאשר הם מופרדים בפסיק.\n",
    "</p>"
   ]
  },
  {
   "cell_type": "markdown",
   "metadata": {},
   "source": [
    "<p style=\"text-align:right;direction:rtl;\">\n",
    "    עבור הקלט הראשון, האוטומט יתחיל מהמצב ההתחלתי q0. האות 1 תשאיר אותו שם, כך גם 3, כך גם 1. מצב לא מקבל.<br>\n",
    "    עבור הקלט השני, האוטומט יתחיל מהמצב ההתחלתי q0. האות 2 תעביר אותו ל־q1, האות 7 תעביר אותו ל־q0, האות 4 תעביר אותו חזרה ל־q1. מצב מקבל.<br>\n",
    "    עבור הקלט השלישי, האוטומט יתחיל מהמצב ההתחלתי q0. האות 2 תעביר אותו ל־q1, האות 2 תשאיר אותו ב־q1 בכל המופעים הבאים שלה. מצב מקבל.<br>\n",
    "</p>"
   ]
  },
  {
   "cell_type": "markdown",
   "metadata": {},
   "source": [
    "### <p style=\"text-align:right;direction:rtl;\">דוגמה נוספת</p>"
   ]
  },
  {
   "cell_type": "markdown",
   "metadata": {},
   "source": [
    "<p style=\"text-align:right;direction:rtl;\">\n",
    "    זוהי דוגמה לקובץ שמתאר את האוטומט המופיע <a href=\"https://en.wikipedia.org/wiki/Deterministic_finite_automaton#/media/File:DFA_example_multiplies_of_3.svg\">כאן</a>.\n",
    "</p>"
   ]
  },
  {
   "cell_type": "raw",
   "metadata": {},
   "source": [
    "Definitions:\n",
    "States: s0, s1, s2\n",
    "Start: s0\n",
    "Accepting: s0\n",
    "\n",
    "Transitions:\n",
    "s0: 0 -> s0\n",
    "s0: 1 -> s1\n",
    "s1: 1 -> s0\n",
    "s1: 0 -> s2\n",
    "s2: 0 -> s1\n",
    "s2: 1 -> s2\n",
    "\n",
    "Inputs:\n",
    "0\n",
    "0, 1\n",
    "0, 1, 0\n",
    "0, 0, 0, 0\n",
    "0, 1, 1, 1, 1, 1, 0"
   ]
  }
 ],
 "metadata": {
  "kernelspec": {
   "display_name": "Python 3",
   "language": "python",
   "name": "python3"
  },
  "language_info": {
   "codemirror_mode": {
    "name": "ipython",
    "version": 3
   },
   "file_extension": ".py",
   "mimetype": "text/x-python",
   "name": "python",
   "nbconvert_exporter": "python",
   "pygments_lexer": "ipython3",
   "version": "3.8.6"
  }
 },
 "nbformat": 4,
 "nbformat_minor": 2
}
