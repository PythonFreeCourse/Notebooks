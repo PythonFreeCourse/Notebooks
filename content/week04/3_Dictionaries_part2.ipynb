{
 "cells": [
  {
   "cell_type": "markdown",
   "metadata": {},
   "source": [
    "<img src=\"images/logo.jpg\" style=\"display: block; margin-left: auto; margin-right: auto;\" alt=\"לוגו של מיזם לימוד הפייתון. נחש מצויר בצבעי צהוב וכחול, הנע בין האותיות של שם הקורס: לומדים פייתון. הסלוגן המופיע מעל לשם הקורס הוא מיזם חינמי ללימוד תכנות בעברית.\">"
   ]
  },
  {
   "cell_type": "markdown",
   "metadata": {},
   "source": [
    "# <span style=\"text-align: right; direction: rtl; float: right;\">מילונים – חלק שני</span>"
   ]
  },
  {
   "cell_type": "markdown",
   "metadata": {},
   "source": [
    "## <span style=\"text-align: right; direction: rtl; float: right; clear: both;\">הקדמה</span>"
   ]
  },
  {
   "cell_type": "markdown",
   "metadata": {},
   "source": [
    "<p style=\"text-align: right; direction: rtl; float: right; clear: both;\">\n",
    "במחברת האחרונה למדנו שבפייתון ישנו סוג נתונים שנקרא \"מילון\", שמשמש אותנו לאחסון של זוגות נתונים: מפתח וערך.<br>\n",
    "המילון מאפשר לנו לפנות למפתח מסוים, ולאחזר לפיו את הערך שמוצמד אליו.<br>\n",
    "במחברת זו נלמד על פעולות נוספות שאפשר לבצע על מילונים, ועל השילוב של מילונים עם טיפוסי נתונים אחרים.\n",
    "</p>"
   ]
  },
  {
   "cell_type": "markdown",
   "metadata": {},
   "source": [
    "## <span style=\"text-align: right; direction: rtl; float: right; clear: both;\">פעולות על מילונים</span>"
   ]
  },
  {
   "cell_type": "markdown",
   "metadata": {},
   "source": [
    "### <span style=\"text-align: right; direction: rtl; float: right; clear: both;\">ערכים ומפתחות</span>"
   ]
  },
  {
   "cell_type": "markdown",
   "metadata": {},
   "source": [
    "<p style=\"text-align: right; direction: rtl; float: right; clear: both;\">\n",
    "    לפעמים נרצה לעבור רק על הערכים שנמצאים במילון, בלי המפתחות שמצביעים עליהם.<br>\n",
    "    לצורך כך נוכל להשתמש בפעולה <code dir=\"ltr\" style=\"direction: ltr;\">values</code>, בצורה הזו:\n",
    "</p>"
   ]
  },
  {
   "cell_type": "code",
   "execution_count": null,
   "metadata": {},
   "outputs": [],
   "source": [
    "loved_animals = {'Alice': 'Cat', 'Mad hatter': 'Hare', 'Achiles': 'Tortoise'}\n",
    "loved_animals.values()"
   ]
  },
  {
   "cell_type": "markdown",
   "metadata": {},
   "source": [
    "<p style=\"text-align: right; direction: rtl; float: right; clear: both;\">\n",
    "    הערך שהפעולה מחזירה הוא iterable, ולכן קל לרוץ עליו בעזרת לולאה:  \n",
    "</p>"
   ]
  },
  {
   "cell_type": "code",
   "execution_count": null,
   "metadata": {},
   "outputs": [],
   "source": [
    "for animal in loved_animals.values():\n",
    "    print(animal)"
   ]
  },
  {
   "cell_type": "markdown",
   "metadata": {},
   "source": [
    "<p style=\"text-align: right; direction: rtl; float: right; clear: both;\">\n",
    "    הפעולה המקבילה ל־<code>values</code> שמחזירה לנו רק את המפתחות נקראת <code>keys</code>.<br>\n",
    "    יחסית נדיר לראות אותה בקוד, בין היתר כיוון שאפשר לרוץ על מפתחות המילון בלולאה גם בלי להשתמש בפעולה <code>keys</code>:\n",
    "</p>"
   ]
  },
  {
   "cell_type": "code",
   "execution_count": null,
   "metadata": {},
   "outputs": [],
   "source": [
    "for animal_owner in loved_animals:\n",
    "    print(animal_owner)"
   ]
  },
  {
   "cell_type": "markdown",
   "metadata": {},
   "source": [
    "### <span style=\"text-align: right; direction: rtl; float: right; clear: both;\">מילת המפתח <code>del</code></span>"
   ]
  },
  {
   "cell_type": "markdown",
   "metadata": {},
   "source": [
    "<p style=\"text-align: right; direction: rtl; float: right; clear: both;\">\n",
    "לפעמים עולה צורך למחוק ממילון מפתח ואת הערך שקשור אליו.<br>\n",
    "כפי שאולי ניחשתם, אין אפשרות למחוק רק את המפתח או רק את הערך – הם באים יחד.<br>\n",
    "נרצה למחוק מפתח וערך מהמילון כשחשוב לנו לחסוך מקום בזיכרון המחשב, או כשהם כבר לא רלוונטיים ומפריעים לנו.\n",
    "</p>"
   ]
  },
  {
   "cell_type": "markdown",
   "metadata": {},
   "source": [
    "<p style=\"text-align: right; direction: rtl; float: right; clear: both;\">\n",
    "הדרך הראשונה למחוק מפתח וערך ממילון היא להשתמש במילת המפתח <code>del</code>, שטרם הכרנו.<br>\n",
    "מילת המפתח <code>del</code> נגזרת מהמילה <em>delete</em> (למחוק).<br>\n",
    "נציין את שם המילון ואת המפתח שנרצה למחוק:\n",
    "</p>"
   ]
  },
  {
   "cell_type": "code",
   "execution_count": null,
   "metadata": {},
   "outputs": [],
   "source": [
    "loved_animals = {'Alice': 'Cat', 'Mad hatter': 'Hare', 'Achiles': 'Tortoise'}\n",
    "del loved_animals['Achiles']\n",
    "print(loved_animals)"
   ]
  },
  {
   "cell_type": "markdown",
   "metadata": {},
   "source": [
    "<p style=\"text-align: right; direction: rtl; float: right; clear: both;\">\n",
    "אפשר להשתמש במילת המפתח <code>del</code> גם כדי למחוק תאים מרשימה או למחוק משתנים, אף על פי שהשימושים הללו נדירים למדי.\n",
    "</p>"
   ]
  },
  {
   "cell_type": "markdown",
   "metadata": {},
   "source": [
    "### <span style=\"text-align: right; direction: rtl; float: right; clear: both;\">הפעולה <code>pop</code></span>"
   ]
  },
  {
   "cell_type": "markdown",
   "metadata": {},
   "source": [
    "<p style=\"text-align: right; direction: rtl; float: right; clear: both;\">\n",
    "פעמים רבות נרצה לקבל את הערך המשויך למפתח שאנחנו מוחקים.<br>\n",
    "חיסרון מובהק של <code>del</code> הוא שבשימוש בה, המפתח והערך יימחקו בלי להחזיר שום מידע על הנתונים שנמחקו.<br>\n",
    "נוכל לקבל את הערך שנמחק בכל זאת בעזרת הפעולה <code>pop</code>, שחוץ מלמחוק זוג של מפתח וערך לפי המפתח, גם מחזירה את הערך שמחקה:\n",
    "</p>"
   ]
  },
  {
   "cell_type": "code",
   "execution_count": null,
   "metadata": {},
   "outputs": [],
   "source": [
    "loved_animals = {'Alice': 'Cat', 'Mad hatter': 'Hare', 'Achiles': 'Tortoise'}\n",
    "deleted_value = loved_animals.pop('Achiles')\n",
    "print(loved_animals)\n",
    "print(deleted_value)"
   ]
  },
  {
   "cell_type": "markdown",
   "metadata": {},
   "source": [
    "<div class=\"align-center\" style=\"display: flex; text-align: right; direction: rtl; clear: both;\">\n",
    "    <div style=\"display: flex; width: 10%; float: right; clear: both;\">\n",
    "        <img src=\"images/exercise.svg\" style=\"height: 50px !important;\" alt=\"תרגול\"> \n",
    "    </div>\n",
    "    <div style=\"width: 70%\">\n",
    "        <p style=\"text-align: right; direction: rtl; float: right; clear: both;\">\n",
    "            כתבו פונקציה שמקבלת מילון, ומחזירה מילון הפוך, שבו הערכים הופכים למפתחות והמפתחות לערכים.<br>\n",
    "            היעזרו בפעולות שלמדתם על מילון.\n",
    "        </p>\n",
    "    </div>\n",
    "    <div style=\"display: flex; width: 20%; border-right: 0.1rem solid #A5A5A5; padding: 1rem 2rem;\">\n",
    "        <p style=\"text-align: center; direction: rtl; justify-content: center; align-items: center; clear: both;\">\n",
    "            <strong>חשוב!</strong><br>\n",
    "            פתרו לפני שתמשיכו!\n",
    "        </p>\n",
    "    </div>\n",
    "</div>"
   ]
  },
  {
   "cell_type": "markdown",
   "metadata": {},
   "source": [
    "### <span style=\"text-align: right; direction: rtl; float: right; clear: both;\">הפעולה <code>update</code></span>"
   ]
  },
  {
   "cell_type": "markdown",
   "metadata": {},
   "source": [
    "<p style=\"text-align: right; direction: rtl; float: right; clear: both;\">\n",
    "    הוספה של ערכים מרובים למילון עלולה להיות לא נוחה במבט ראשון.<br>\n",
    "    נביט בשני המילונים הבאים, שבהם כל ערך הוא המפתח התואם לו, שהועלה בחזקה שנייה.\n",
    "</p>"
   ]
  },
  {
   "cell_type": "code",
   "execution_count": null,
   "metadata": {},
   "outputs": [],
   "source": [
    "powers_of_two = {1: 1, 2: 4, 3: 9, 4: 16, 5: 25, 6: 36, 7: 49, 8: 64}\n",
    "high_powers_of_two = {8: 64, 9: 81, 10: 100, 11: 121}"
   ]
  },
  {
   "cell_type": "markdown",
   "metadata": {},
   "source": [
    "<p style=\"text-align: right; direction: rtl; float: right; clear: both;\">\n",
    "    אם נרצה למזג את <var>high_powers_of_two</var> לתוך <var>powers_of_two</var>, נצטרך לכתוב את הקוד הבא:\n",
    "</p>"
   ]
  },
  {
   "cell_type": "code",
   "execution_count": null,
   "metadata": {},
   "outputs": [],
   "source": [
    "for key, value in high_powers_of_two.items():\n",
    "    powers_of_two[key] = value\n",
    "    \n",
    "print(powers_of_two)"
   ]
  },
  {
   "cell_type": "markdown",
   "metadata": {},
   "source": [
    "<p style=\"text-align: right; direction: rtl; float: right; clear: both;\">\n",
    "    אף שהקוד למעלה מובן למדי, הוא מסורבל יחסית לפעולה הפשוטה שהוא מבצע.<br>\n",
    "    כמו שאולי ניחשתם, החברים שיצרו את פייתון כבר חשבו על פעולה כזו למיזוג מילונים.<br>\n",
    "    נפעיל אותה על המילון שאליו אנחנו רוצים למזג, ונעביר לפעולה כארגומנט את הרשימה שממנה נרצה למזג:\n",
    "</p>"
   ]
  },
  {
   "cell_type": "code",
   "execution_count": null,
   "metadata": {},
   "outputs": [],
   "source": [
    "powers_of_two = {1: 1, 2: 4, 3: 9, 4: 16, 5: 25, 6: 36, 7: 49, 8: 64}\n",
    "high_powers_of_two = {8: 64, 9: 81, 10: 100, 11: 121}"
   ]
  },
  {
   "cell_type": "code",
   "execution_count": null,
   "metadata": {},
   "outputs": [],
   "source": [
    "powers_of_two.update(high_powers_of_two)\n",
    "print(powers_of_two)"
   ]
  },
  {
   "cell_type": "markdown",
   "metadata": {},
   "source": [
    "<div class=\"align-center\" style=\"display: flex; text-align: right; direction: rtl; clear: both;\">\n",
    "    <div style=\"display: flex; width: 10%; float: right; clear: both;\">\n",
    "        <img src=\"images/exercise.svg\" style=\"height: 50px !important;\" alt=\"תרגול\"> \n",
    "    </div>\n",
    "    <div style=\"width: 70%\">\n",
    "        <p style=\"text-align: right; direction: rtl; float: right; clear: both;\">\n",
    "            מה יקרה אם ישנו מפתח שנמצא בשני המילונים?<br>\n",
    "            בנו מקרה שכזה ונסו בעצמכם.\n",
    "        </p>\n",
    "    </div>\n",
    "    <div style=\"display: flex; width: 20%; border-right: 0.1rem solid #A5A5A5; padding: 1rem 2rem;\">\n",
    "        <p style=\"text-align: center; direction: rtl; justify-content: center; align-items: center; clear: both;\">\n",
    "            <strong>חשוב!</strong><br>\n",
    "            פתרו לפני שתמשיכו!\n",
    "        </p>\n",
    "    </div>\n",
    "</div>"
   ]
  },
  {
   "cell_type": "markdown",
   "metadata": {},
   "source": [
    "## <span style=\"text-align: right; direction: rtl; float: right; clear: both;\">מבנים מורכבים נפוצים</span>"
   ]
  },
  {
   "cell_type": "markdown",
   "metadata": {},
   "source": [
    "<p style=\"text-align: right; direction: rtl; float: right; clear: both;\">\n",
    "העולם לעיתים מורכב, וניסיון לארגן מידע רב יכול ליצור מבני נתונים שנראים מסובכים במבט ראשון.<br>\n",
    "</p>"
   ]
  },
  {
   "cell_type": "markdown",
   "metadata": {},
   "source": [
    "### <span style=\"text-align: right; direction: rtl; float: right;\">רשימת מילונים</span>"
   ]
  },
  {
   "cell_type": "markdown",
   "metadata": {},
   "source": [
    "<p style=\"text-align: right; direction: rtl; float: right; clear: both;\">\n",
    "נראה, לדוגמה, דרך לייצג מאגר קטן של משתמשים:\n",
    "</p>"
   ]
  },
  {
   "cell_type": "code",
   "execution_count": null,
   "metadata": {},
   "outputs": [],
   "source": [
    "users = [\n",
    "    {'name': 'Scarlett Johansson', 'age': 34, 'country': 'United States'},\n",
    "    {'name': 'Guido Van Rossum', 'age': 63, 'country': 'Netherlands', 'spouse': 'Kim Knapp'},\n",
    "    {'name': 'George R. R. Martin', 'age': 70, 'country': 'United States', 'spouse': 'Parris McBride'},\n",
    "]"
   ]
  },
  {
   "cell_type": "markdown",
   "metadata": {},
   "source": [
    "<div class=\"align-center\" style=\"display: flex; text-align: right; direction: rtl;\">\n",
    "    <div style=\"display: flex; width: 10%; \">\n",
    "        <img src=\"images/tip.png\" style=\"height: 50px !important;\" alt=\"אזהרה!\"> \n",
    "    </div>\n",
    "    <div style=\"width: 90%\">\n",
    "        <p style=\"text-align: right; direction: rtl;\">\n",
    "            כדי לסגנן את הקוד שלנו, הרבה פעמים נרד שורה גם כשלא חייבים.<br>\n",
    "            נפוץ מאוד לרדת שורה במבנים ארוכים אחרי שפתחנו סוגריים – פייתון מבינה שמדובר באותה שורה.\n",
    "        </p>\n",
    "    </div>\n",
    "</div>"
   ]
  },
  {
   "cell_type": "markdown",
   "metadata": {},
   "source": [
    "<p style=\"text-align: right; direction: rtl; float: right; clear: both;\">\n",
    "למעלה מוצגת רשימה שמכילה 3 מילונים. אפשר למנות את האיברים שבה בעזרת לולאה, כמו בכל רשימה אחרת.<br>\n",
    "נדפיס את השמות של כל אחד מהמשתמשים:\n",
    "</p>"
   ]
  },
  {
   "cell_type": "code",
   "execution_count": null,
   "metadata": {},
   "outputs": [],
   "source": [
    "for user in users:\n",
    "    print(user['name'])"
   ]
  },
  {
   "cell_type": "markdown",
   "metadata": {},
   "source": [
    "<p style=\"text-align: right; direction: rtl; float: right; clear: both;\">\n",
    "ניזהר במקרה שיש מפתח שעלול לא להופיע באחד המילונים.<br>\n",
    "לדוגמה, לסקרלט ג'והנסון אין בן־זוג, ולכן כשהלולאה הבאה תגיע אליה היא תקפיץ שגיאה:\n",
    "</p>"
   ]
  },
  {
   "cell_type": "code",
   "execution_count": null,
   "metadata": {},
   "outputs": [],
   "source": [
    "for user in users:\n",
    "    print(user['spouse'])"
   ]
  },
  {
   "cell_type": "markdown",
   "metadata": {},
   "source": [
    "<p style=\"text-align: right; direction: rtl; float: right; clear: both;\">\n",
    "נראה דוגמה לטיפול במקרה שכזה בעולם האמיתי:\n",
    "</p>"
   ]
  },
  {
   "cell_type": "code",
   "execution_count": null,
   "metadata": {},
   "outputs": [],
   "source": [
    "for user in users:\n",
    "    if 'spouse' in user:\n",
    "        print(f\"{user['name']}'s spouse is {user['spouse']}.\")\n",
    "    else:\n",
    "        print(f\"{user['name']} has no spouse.\")"
   ]
  },
  {
   "cell_type": "markdown",
   "metadata": {},
   "source": [
    "<p style=\"text-align: right; direction: rtl; float: right; clear: both;\">\n",
    "או ש\"נרמה\" קצת בעזרת הפעולה <code>get</code>:\n",
    "</p>"
   ]
  },
  {
   "cell_type": "code",
   "execution_count": null,
   "metadata": {},
   "outputs": [],
   "source": [
    "for user in users:\n",
    "    spouse = user.get('spouse', 'unknown')\n",
    "    print(f\"{user['name']}'s spouse is {spouse}.\")"
   ]
  },
  {
   "cell_type": "markdown",
   "metadata": {},
   "source": [
    "### <span style=\"text-align: right; direction: rtl; float: right;\">ערכים מרובים במפתח אחד</span>"
   ]
  },
  {
   "cell_type": "markdown",
   "metadata": {},
   "source": [
    "#### <span style=\"text-align: right; direction: rtl; float: right;\">מילון שערכיו הם רשימות</span>"
   ]
  },
  {
   "cell_type": "markdown",
   "metadata": {},
   "source": [
    "<p style=\"text-align: right; direction: rtl; float: right; clear: both;\">\n",
    "אנחנו רוצים ליצור תוכנה לניהול ספרייה, שבה אפשר למצוא ספרים לפי שם המחבר.<br>\n",
    "בשלב הנוכחי ביקשו מאיתנו לשמור עבור כל ספר רק את שמו, ללא פרטים נוספים, כמו מלאי או שנת הוצאה לאור.<br>\n",
    "נצטרך לתכנת את האפשרות לשלוף את שמות הספרים לפי שם המחבר, ולהוסיף ולהסיר ספרים בקלות מרשימת ספריו של כל מחבר.\n",
    "</p>"
   ]
  },
  {
   "cell_type": "markdown",
   "metadata": {},
   "source": [
    "<div class=\"align-center\" style=\"display: flex; text-align: right; direction: rtl; clear: both;\">\n",
    "    <div style=\"display: flex; width: 10%; float: right; clear: both;\">\n",
    "        <img src=\"images/exercise.svg\" style=\"height: 50px !important;\" alt=\"תרגול\"> \n",
    "    </div>\n",
    "    <div style=\"width: 70%\">\n",
    "        <p style=\"text-align: right; direction: rtl; float: right; clear: both;\">\n",
    "            השקיעו 5 דקות וחשבו איך הייתם מממשים ספרייה שכזו בעזרת סוגי הנתונים שלמדתם.<br>\n",
    "            בונוס: כתבו כיצד אפשר לממש ספרייה שכזו, וממשו פונקציה שמאפשרת להוסיף ולהסיר ספרים עבור כל מחבר.\n",
    "        </p>\n",
    "    </div>\n",
    "    <div style=\"display: flex; width: 20%; border-right: 0.1rem solid #A5A5A5; padding: 1rem 2rem;\">\n",
    "        <p style=\"text-align: center; direction: rtl; justify-content: center; align-items: center; clear: both;\">\n",
    "            <strong>חשוב!</strong><br>\n",
    "            פתרו לפני שתמשיכו!\n",
    "        </p>\n",
    "    </div>\n",
    "</div>"
   ]
  },
  {
   "cell_type": "markdown",
   "metadata": {},
   "source": [
    "<p style=\"text-align: right; direction: rtl; float: right; clear: both;\">\n",
    "נסכם לפנינו את הדרישות:\n",
    "</p>"
   ]
  },
  {
   "cell_type": "markdown",
   "metadata": {},
   "source": [
    "<ol style=\"text-align: right; direction: rtl; float: right; clear: both;\">\n",
    "    <li>מציאת רשימת הספרים לפי שם המחבר.</li>\n",
    "    <li>עריכת הספרים הקיימים עבור כל מחבר – הוספה והסרה.</li>\n",
    "</ol>"
   ]
  },
  {
   "cell_type": "markdown",
   "metadata": {},
   "source": [
    "<p style=\"text-align: right; direction: rtl; float: right; clear: both;\">\n",
    "עבור הדרישה הראשונה, נראה שהמבנה המתאים ביותר הוא מילון שמקשר את שם המחבר לרשימת הספרים שלו.<br>\n",
    "עבור הדרישה השנייה, נראה שהמבנה המתאים ביותר הוא רשימה – סוג גמיש שקל לערוך את האיברים שבו (לעומת tuple, נניח).\n",
    "</p>"
   ]
  },
  {
   "cell_type": "markdown",
   "metadata": {},
   "source": [
    "<p style=\"text-align: right; direction: rtl; float: right; clear: both;\">\n",
    "נבנה מילון שכזה לדוגמה:\n",
    "</p>"
   ]
  },
  {
   "cell_type": "code",
   "execution_count": null,
   "metadata": {},
   "outputs": [],
   "source": [
    "library = {\n",
    "    'Jane Austen': ['Pride and Prejudice', 'Sense and Sensibility', 'Mansfield Park', 'Emma'],\n",
    "    'Mark Zusak': ['The Book Thief', 'The Messenger'],\n",
    "    'Eric Arthur Blair': ['1984', 'Animal Farm'], \n",
    "    'Margaret Munnerlyn Mitchell': ['Gone with the Wind'],\n",
    "    'Douglas Adams': ['The Hitchhiker\\'s Guide to the Galaxy', 'The Restaurant at the End of the Universe',\n",
    "                      'Life, the Universe and Everything', 'So Long, and Thanks for All the Fish', 'Mostly Harmless',\n",
    "                      'And Another Thing'],\n",
    "    'Khaled Hosseini': ['The Kite Runner', 'A Thousand Splendid Suns', 'And the Mountains Echoed'],\n",
    "    'Harper Lee': ['To kill a mockingbird', 'Go Set a Watchman'],\n",
    "}"
   ]
  },
  {
   "cell_type": "markdown",
   "metadata": {},
   "source": [
    "<p style=\"text-align: right; direction: rtl; float: right; clear: both;\">\n",
    "בהינתן המימוש המוצלח שלנו לדרישות, ראו כמה קל לתפעל את הספרייה:</p>"
   ]
  },
  {
   "cell_type": "code",
   "execution_count": null,
   "metadata": {},
   "outputs": [],
   "source": [
    "def view_books(library, author_name):\n",
    "    return library.get(author_name)\n",
    "\n",
    "def add_book(library, author_name, book_name):\n",
    "    authors_books = library[author_name]\n",
    "    authors_books.append(book_name)\n",
    "\n",
    "def remove_book(library, author_name, book_name):\n",
    "    authors_books = library[author_name]\n",
    "    authors_books.remove(book_name)\n",
    "\n",
    "add_book(library, 'Douglas Adams', 'The Salmon of Doubt')\n",
    "remove_book(library, 'Douglas Adams', 'And Another Thing')\n",
    "print(view_books(library, 'Douglas Adams'))"
   ]
  },
  {
   "cell_type": "markdown",
   "metadata": {},
   "source": [
    "#### <span style=\"text-align: right; direction: rtl; float: right;\">מילון שערכיו הם מילונים</span>"
   ]
  },
  {
   "cell_type": "markdown",
   "metadata": {},
   "source": [
    "<p style=\"text-align: right; direction: rtl; float: right; clear: both;\">\n",
    "הדרישות של בעלי הספרייה השתנו.<br>\n",
    "הם מבקשים שהפעם, בזמן שאנחנו שומרים על הסידור לפי שמות הסופרים, נוסיף על שם הספר גם את הפרטים הבאים:\n",
    "</p>\n"
   ]
  },
  {
   "cell_type": "markdown",
   "metadata": {},
   "source": [
    "<ul style=\"text-align: right; direction: rtl; float: right; clear: both;\">\n",
    "    <li>תאריך ההוצאה לאור</li>\n",
    "    <li>רשימת הסוגות</li>\n",
    "    <li>כמות במלאי</li>\n",
    "</ul>"
   ]
  },
  {
   "cell_type": "markdown",
   "metadata": {},
   "source": [
    "<p style=\"text-align: right; direction: rtl; float: right; clear: both;\">\n",
    "נציץ על שלוש צורות לממש מבני נתונים שיכולים לשמש את הספרייה המדוברת.<br>\n",
    "נשאיר את בחינת נוחות השימוש בכל אחת מהן ואת כתיבת קוד להוספת ספרים ולהסרתם כתרגיל לקורא.\n",
    "</p>"
   ]
  },
  {
   "cell_type": "code",
   "execution_count": null,
   "metadata": {},
   "outputs": [],
   "source": [
    "library = {\n",
    "    'Jane Austen': {\n",
    "        'Pride and Prejudice': {'released': '1813-01-28', 'genres': ['Classic Regency novel'], 'stock': 12},\n",
    "        'Sense and Sensibility': {'released': '1813-01-28', 'genres': ['Romance novel'], 'stock': 5},\n",
    "        'Mansfield Park': {'released': '1813-01-28', 'genres': ['Bildungsroman'], 'stock': 6},\n",
    "        'Emma': {'released': '1813-01-28', 'genres': ['Novel of manners'], 'stock': 19},\n",
    "    },\n",
    "    'Markus Zusak': {\n",
    "        'The Book Thief': {'released': '1813-01-28', 'genres': ['Novel-Historical Fiction'], 'stock': 4},\n",
    "        'The Messenger': {'released': '1813-01-28', 'genres': ['Fiction'], 'stock': 0},\n",
    "    },\n",
    "    'Eric Arthur Blair': {\n",
    "        '1984': {'released': '1813-01-28', 'genres': ['Dystopian', 'Political fiction', 'Social science fiction'], 'stock': 1},\n",
    "        'Animal Farm': {'released': '1813-01-28', 'genres': ['Political satire'], 'stock': 7},\n",
    "    },\n",
    "}"
   ]
  },
  {
   "cell_type": "code",
   "execution_count": null,
   "metadata": {},
   "outputs": [],
   "source": [
    "library = {\n",
    "    'Jane Austen': [\n",
    "        {'name': 'Pride and Prejudice', 'released': '1813-01-28', 'genres': ['Classic Regency novel'], 'stock': 12},\n",
    "        {'name': 'Sense and Sensibility', 'released': '1813-01-28', 'genres': ['Romance novel'], 'stock': 5},\n",
    "        {'name': 'Mansfield Park', 'released': '1813-01-28', 'genres': ['Bildungsroman'], 'stock': 6},\n",
    "        {'name': 'Emma', 'released': '1813-01-28', 'genres': ['Novel of manners'], 'stock': 19},\n",
    "    ],\n",
    "    'Markus Zusak': [\n",
    "        {'name': 'The Book Thief', 'released': '1813-01-28', 'genres': ['Novel-Historical Fiction'], 'stock': 4},\n",
    "        {'name': 'The Messenger', 'released': '1813-01-28', 'genres': ['Fiction'], 'stock': 0},\n",
    "    ],\n",
    "    'Eric Arthur Blair': [\n",
    "        {'name': '1984', 'released': '1813-01-28', 'genres': ['Dystopian', 'Political fiction', 'Social science fiction'], 'stock': 1},\n",
    "        {'name': 'Animal Farm', 'released': '1813-01-28', 'genres': ['Political satire'], 'stock': 7},\n",
    "    ],\n",
    "}"
   ]
  },
  {
   "cell_type": "code",
   "execution_count": null,
   "metadata": {},
   "outputs": [],
   "source": [
    "library = [\n",
    "    {'author': 'Jane Austen', 'book': 'Pride and Prejudice', 'released': '1813-01-28', 'genres': ['Classic Regency novel'], 'stock': 12},\n",
    "    {'author': 'Jane Austen', 'book': 'Sense and Sensibility', 'released': '1813-01-28', 'genres': ['Romance novel'], 'stock': 5},\n",
    "    {'author': 'Jane Austen', 'book': 'Mansfield Park', 'released': '1813-01-28', 'genres': ['Bildungsroman'], 'stock': 6},\n",
    "    {'author': 'Jane Austen', 'book': 'Emma', 'released': '1813-01-28', 'genres': ['Novel of manners'], 'stock': 19},\n",
    "    {'author': 'Markus Zusak', 'book': 'The Book Thief', 'released': '1813-01-28', 'genres': ['Novel-Historical Fiction'], 'stock': 4},\n",
    "    {'author': 'Markus Zusak', 'book': 'The Messenger', 'released': '1813-01-28', 'genres': ['Fiction'], 'stock': 0},\n",
    "    {'author': 'Eric Arthur Blair', 'book': '1984', 'released': '1813-01-28', 'genres': ['Dystopian', 'Political fiction', 'Social science fiction'], 'stock': 1},\n",
    "    {'author': 'Eric Arthur Blair', 'book': 'Animal Farm', 'released': '1813-01-28', 'genres': ['Political satire'], 'stock': 7},\n",
    "]"
   ]
  },
  {
   "cell_type": "markdown",
   "metadata": {},
   "source": [
    "<div class=\"align-center\" style=\"display: flex; text-align: right; direction: rtl; clear: both;\">\n",
    "    <div style=\"display: flex; width: 10%; float: right; clear: both;\">\n",
    "        <img src=\"images/exercise.svg\" style=\"height: 50px !important;\" alt=\"תרגול\"> \n",
    "    </div>\n",
    "    <div style=\"width: 70%\">\n",
    "        <p style=\"text-align: right; direction: rtl; float: right; clear: both;\">\n",
    "            מה היתרונות שנובעים מהבחירה שלנו לייצג הנתונים בכל אחת מהדרכים? מה החסרונות?<br>\n",
    "            אם הייתה לכם ספרייה משלכם, כיצד הייתם מסדרים את הנתונים ומייצגים אותם?\n",
    "        </p>\n",
    "    </div>\n",
    "    <div style=\"display: flex; width: 20%; border-right: 0.1rem solid #A5A5A5; padding: 1rem 2rem;\">\n",
    "        <p style=\"text-align: center; direction: rtl; justify-content: center; align-items: center; clear: both;\">\n",
    "            <strong>חשוב!</strong><br>\n",
    "            פתרו לפני שתמשיכו!\n",
    "        </p>\n",
    "    </div>\n",
    "</div>"
   ]
  },
  {
   "cell_type": "markdown",
   "metadata": {},
   "source": [
    "## <span style=\"align: right; direction: rtl; float: right; clear: both;\">תרגילים</span>"
   ]
  },
  {
   "cell_type": "markdown",
   "metadata": {},
   "source": [
    "### <span style=\"align: right; direction: rtl; float: right; clear: both;\">מילים של אבן ספיר בהווה</span>"
   ]
  },
  {
   "cell_type": "markdown",
   "metadata": {},
   "source": [
    "<p style=\"text-align: right; direction: rtl; float: right; clear: both;\">\n",
    "    קבלו רשימה של מילונים, ואחדו את כל המילונים שנמצאים ברשימה למילון אחד.<br>\n",
    "    ודאו שאינכם משנים את המילונים הנמצאים ברשימה.\n",
    "</p>"
   ]
  },
  {
   "cell_type": "markdown",
   "metadata": {},
   "source": [
    "<p style=\"text-align: right; direction: rtl; float: right; clear: both;\">\n",
    "    לדוגמה, עבור הרשימה: <code dir=\"ltr\" style=\"direction: ltr;\">[{'a': 1}, {'b': 2, 'c': 3}, {'d': 4}]</code><br>\n",
    "    החזירו: <samp><code dir=\"ltr\" style=\"direction: ltr;\">{'a': 1, 'b': 2, 'c': 3, 'd': 4}</code></samp>\n",
    "</p>"
   ]
  },
  {
   "cell_type": "markdown",
   "metadata": {},
   "source": [
    "### <span style=\"align: right; direction: rtl; float: right; clear: both;\">עוד לבנה בחומה</span>"
   ]
  },
  {
   "cell_type": "markdown",
   "metadata": {},
   "source": [
    "<p style=\"text-align: right; direction: rtl; float: right; clear: both;\">\n",
    "    המורה רוג'רס מעניק ציון לכל תלמיד על פי הציונים שלו במבחנים ובשיעורי הבית.<br>\n",
    "    צרו מבנה נתונים שייצג את הציונים של כל התלמידים, ולאחר מכן השתמשו בו כדי לחשב את הציון הסופי של כל תלמיד ולהדפיסו.<br>\n",
    "    ציון התלמידים הסופי מורכב מ־20% ממוצע הציונים בשיעורי בית, ועוד 80% ממוצע הציונים במבחנים:\n",
    "</p>"
   ]
  },
  {
   "cell_type": "markdown",
   "metadata": {},
   "source": [
    "$$grade = \\frac{{average(tests)}\\cdot80}{100} + \\frac{{average(homework)}\\cdot20}{100}$$"
   ]
  },
  {
   "cell_type": "markdown",
   "metadata": {},
   "source": [
    "<ul style=\"text-align: right; direction: rtl; float: right; clear: both;\">\n",
    "    <li>ניק\n",
    "        <ul>\n",
    "            <li>ציוני מבחנים: 80, 78, 90, 64</li>\n",
    "            <li>ציוני שיעורי בית: 46, 99, 85, 90, 100</li>\n",
    "        </ul>\n",
    "    </li>\n",
    "    <li>ריצ'ארד\n",
    "        <ul>\n",
    "            <li>ציוני מבחנים: 90, 92, 87, 99</li>\n",
    "            <li>ציוני שיעורי בית: 88, 77, 94, 66, 96</li>\n",
    "        </ul>\n",
    "    </li>\n",
    "    <li>סיד\n",
    "        <ul>\n",
    "            <li>ציוני מבחנים: 66, 6, 66, 6</li>\n",
    "            <li>ציוני שיעורי בית: 100, 100, 100, 100, 100</li>\n",
    "        </ul>\n",
    "    </li>\n",
    "    <li>דוד\n",
    "        <ul>\n",
    "            <li>ציוני מבחנים: 96, 92, 91, 78</li>\n",
    "            <li>ציוני שיעורי בית: 80, 77, 74, 71, 68</li>\n",
    "        </ul>\n",
    "    </li>\n",
    "</ul>"
   ]
  },
  {
   "cell_type": "markdown",
   "metadata": {},
   "source": [
    "<p style=\"text-align: right; direction: rtl; float: right; clear: both;\">\n",
    "    לדוגמה, הציון של דוד יחושב כך:\n",
    "</p>\n",
    "\n",
    "<p style=\"text-align: right; direction: rtl; float: right; clear: both;\">\n",
    "    ממוצע ציוני המבחנים ($\\frac{96+92+91+78}{4}$, ששווה ל־$89.25$) במשקל של 80% ($\\frac{89.25\\cdot80}{100}$, ששווה ל־$71.4$).<br>\n",
    "    ועוד ממוצע ציוני שיעורי הבית ($\\frac{68+71+74+77+80}{5}$, ששווה ל־$74$) במשקל של 20% ($\\frac{74\\cdot20}{100}$, ששווה ל־$14.8$).\n",
    "</p>"
   ]
  }
 ],
 "metadata": {
  "kernelspec": {
   "display_name": "Python 3",
   "language": "python",
   "name": "python3"
  },
  "language_info": {
   "codemirror_mode": {
    "name": "ipython",
    "version": 3
   },
   "file_extension": ".py",
   "mimetype": "text/x-python",
   "name": "python",
   "nbconvert_exporter": "python",
   "pygments_lexer": "ipython3",
   "version": "3.7.6"
  }
 },
 "nbformat": 4,
 "nbformat_minor": 2
}
