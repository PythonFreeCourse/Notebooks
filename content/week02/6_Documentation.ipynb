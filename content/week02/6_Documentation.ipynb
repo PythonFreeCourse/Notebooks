{
 "cells": [
  {
   "cell_type": "markdown",
   "metadata": {},
   "source": [
    "<img src=\"images/logo.jpg\" style=\"display: block; margin-left: auto; margin-right: auto;\" alt=\"לוגו של מיזם לימוד הפייתון. נחש מצויר בצבעי צהוב וכחול, הנע בין האותיות של שם הקורס: לומדים פייתון. הסלוגן המופיע מעל לשם הקורס הוא מיזם חינמי ללימוד תכנות בעברית.\">"
   ]
  },
  {
   "cell_type": "markdown",
   "metadata": {},
   "source": [
    "# <p style=\"text-align: right; direction: rtl; float: right;\">תיעוד</p>"
   ]
  },
  {
   "cell_type": "markdown",
   "metadata": {},
   "source": [
    "## <p style=\"text-align: right; direction: rtl; float: right; clear: both;\">הגדרה</p>"
   ]
  },
  {
   "cell_type": "markdown",
   "metadata": {},
   "source": [
    "<p style=\"text-align: right; direction: rtl; float: right; clear: both;\">\n",
    "בעולם התכנות, בניגוד לשיעורי היסטוריה בתיכון, אנחנו שמים דגש על היכולות השונות של המתכנת ופחות על הזיכרון שלו בנוגע לפרטים קטנים.<br>\n",
    "אומנם מרשים לראות מתכנת ששולט היטב בכל רזי שפת תכנות מסוימת, אבל בעולם האמיתי כולנו משתמשים באתרים שמטרתם לסייע לנו, בין אם להבין איך לכתוב את הקוד בצורה יעילה ובין אם כדי להיזכר בפונקציה או בפעולה ששכחנו.\n",
    "</p>"
   ]
  },
  {
   "cell_type": "markdown",
   "metadata": {},
   "source": [
    "<p style=\"text-align: right; direction: rtl; float: right; clear: both;\">\n",
    "לרוב שפות התכנות או המערכות המוכרות שבהן תתעסקו, יש מעין \"מדריך למשתמש\" שנקרא <dfn>תיעוד</dfn>, או <dfn>דוקומנטציה</dfn>.<br>\n",
    "ככל שהמוצר שאתם משתמשים בו בשל יותר ויש לו משתמשים רבים, כך תוכלו למצוא עבורו תיעוד מפורט וברור יותר.<br>\n",
    "תיעוד טוב הוא לעיתים רבות שיקול מכריע בהחלטה אם להשתמש בטכנולוגיה מסוימת או לא.<br>\n",
    "לא אחת אפילו מתכנתים מעולים ומנוסים נעזרים בתיעוד ובאמצעים מקבילים במשך עבודתם.\n",
    "</p>"
   ]
  },
  {
   "cell_type": "markdown",
   "metadata": {},
   "source": [
    "## <p style=\"text-align: right; direction: rtl; float: right; clear: both;\">תיעוד בפייתון</p>"
   ]
  },
  {
   "cell_type": "markdown",
   "metadata": {},
   "source": [
    "<p style=\"text-align: right; direction: rtl; float: right; clear: both;\">\n",
    "לפייתון יש <a href=\"https://docs.python.org/3/\">אתר תיעוד</a> מרשים ומלא במידע. רוב המידע המתועד באתר כתוב בצורה טובה ונהירה.<br>\n",
    "באתר ישנה תיבת חיפוש, ואפילו <a href=\"https://docs.python.org/3/tutorial/index.html\">מדריך כניסה עבור מתחילים</a>, שמתבסס על ידע מסוים בתכנות.<br>\n",
    "רוב מתכנתי הפייתון משתמשים באתר התיעוד הזה כמדריך עזר, ופונים אליו כשהם צריכים פרטים נוספים בקשר לרעיון שכבר קיים אצלם בראש.\n",
    "</p>"
   ]
  },
  {
   "cell_type": "markdown",
   "metadata": {},
   "source": [
    "### <p style=\"text-align: right; direction: rtl; float: right; clear: both;\">רשימת פעולות</p>"
   ]
  },
  {
   "cell_type": "markdown",
   "metadata": {},
   "source": [
    "<p style=\"text-align: right; direction: rtl; float: right; clear: both;\">\n",
    "בשיעור הקודם למדנו שלכל סוג נתונים (כמו <i>str</i> או <i>int</i>) יש פעולות ששייכות לו.<br>\n",
    "עבור מחרוזות, לדוגמה, אנחנו מכירים פעולות כמו <code>str.count</code> ו־<code>str.replace</code>.<br>\n",
    "כדי לקבל את רשימת הפעולות עבור סוג נתונים מסוים נשתמש בפונקציה <code dir=\"ltr\" style=\"direction: ltr;\">dir()</code>:\n",
    "</p>"
   ]
  },
  {
   "cell_type": "code",
   "execution_count": null,
   "metadata": {},
   "outputs": [],
   "source": [
    "dir(str)"
   ]
  },
  {
   "cell_type": "markdown",
   "metadata": {},
   "source": [
    "<p style=\"text-align: right; direction: rtl; float: right; clear: both;\">\n",
    "התוצאה היא רשימה של כל הפעולות שאפשר להפעיל על <i>str</i>.<br>\n",
    "בשלב הזה, אמליץ לכם להתעלם מפעולות ברשימה ששמן מתחיל בקו תחתון.\n",
    "</p>"
   ]
  },
  {
   "cell_type": "markdown",
   "metadata": {},
   "source": [
    "<p style=\"text-align: right; direction: rtl; float: right; clear: both;\">\n",
    "טריק נוסף שכנראה נוח יותר, זמין בסביבות פיתוח רבות שיצא לכם לעבוד בהן.<br>\n",
    "הטריק הוא ציון סוג הנתון או המשתנה שאתם עובדים עליו, הסימן \"נקודה\" ואז לחיצה על <kbd dir=\"ltr\" style=\"direction: ltr\">↹ TAB</kbd>.\n",
    "</p>"
   ]
  },
  {
   "cell_type": "code",
   "execution_count": null,
   "metadata": {},
   "outputs": [],
   "source": [
    "# מקמו את הסמן אחרי הנקודה, ואז לחצו על המקש \"טאב\" במקלדת\n",
    "str.\n",
    "# ניתן גם כך:\n",
    "\"Hello\".\n",
    "# או כך:\n",
    "s = \"Hello\"\n",
    "s."
   ]
  },
  {
   "cell_type": "markdown",
   "metadata": {},
   "source": [
    "### <span style=\"text-align: right; direction: rtl; float: right; clear: both;\">תיעוד על פעולה או על פונקציה</span>"
   ]
  },
  {
   "cell_type": "markdown",
   "metadata": {},
   "source": [
    "<p style=\"text-align: right; direction: rtl; float: right; clear: both;\">\n",
    "במקרה שנרצה לחפש פרטים נוספים על אחת הפונקציות או הפעולות (נניח <code>len</code>, או <code dir=\"ltr\" style=\"direction: ltr\">str.upper()</code>), התיעוד של פייתון הוא מקור מידע נהדר לכך.<br>\n",
    "אם אנחנו נמצאים בתוך המחברת, יש טריק נחמד לקבל חלק מהתיעוד הזה בצורה מהירה – פשוט נרשום בתא קוד את שם הפונקציה, ואחריו סימן שאלה:\n",
    "</p>"
   ]
  },
  {
   "cell_type": "code",
   "execution_count": null,
   "metadata": {},
   "outputs": [],
   "source": [
    "len?"
   ]
  },
  {
   "cell_type": "markdown",
   "metadata": {},
   "source": [
    "<p style=\"text-align: right; direction: rtl; float: right; clear: both;\">\n",
    "ברגע שנריץ את התא, תקפוץ לנו חלונית עם מידע נוסף על הפונקציה.<br>\n",
    "אם אנחנו רוצים לקבל מידע על פעולה, נכתוב את סוג הערך שעליו אנחנו רוצים לבצע אותה (נניח, str):\n",
    "</p>"
   ]
  },
  {
   "cell_type": "code",
   "execution_count": null,
   "metadata": {},
   "outputs": [],
   "source": [
    "# str     - השם של טיפוס הנתונים (הסוג של הערך)\n",
    "#   .     - הנקודה היא סימון שהפעולה שכתבנו אחריה שייכת לסוג שכתבנו לפניה\n",
    "#   upper - השם של הפעולה שעליה רוצים לקבל עזרה\n",
    "#      ?  - מבקש את המידע על הפעולה\n",
    "str.upper?"
   ]
  },
  {
   "cell_type": "markdown",
   "metadata": {},
   "source": [
    "<div class=\"align-center\" style=\"display: flex; text-align: right; direction: rtl;\">\n",
    "    <div style=\"display: flex; width: 10%; float: right; \">\n",
    "        <img src=\"images/warning.png\" style=\"height: 50px !important;\" alt=\"אזהרה!\"> \n",
    "    </div>\n",
    "    <div style=\"width: 90%\">\n",
    "        <p style=\"text-align: right; direction: rtl;\">\n",
    "            קריאה לפונקציה, קרי הוספת התווים <code>()</code> לפני סימן השאלה, תפעיל את הפונקציה או הפעולה במקום לתת לכם עזרה.\n",
    "        </p>\n",
    "    </div>\n",
    "</div>"
   ]
  },
  {
   "cell_type": "markdown",
   "metadata": {},
   "source": [
    "<p style=\"text-align: right; direction: rtl; float: right; clear: both;\">\n",
    "בתוך חלונית העזרה שתיפתח במחברת נראה שורות המכילות פרטים מעניינים:\n",
    "</p>\n",
    "<ul style=\"text-align: right; direction: rtl; float: right; clear: both;\">\n",
    "    <li><dfn>Signature</dfn> – חתימת הפעולה או הפונקציה, הכוללת את השם שלה ואת הפרמטרים שלה.</li>\n",
    "    <li><dfn>Docstring</dfn> – כמה מילים שמתארות היטב מה הפונקציה עושה, ולעיתים נותנות מידע נוסף על הפרמטרים.</li>\n",
    "</ul>\n",
    "<p style=\"text-align: right; direction: rtl; float: right; clear: both;\">\n",
    "לעת עתה, נתעלם מהרכיבים <em>self</em>, <em>*</em> או <em>/</em> שיופיעו מדי פעם בשדה Signature.\n",
    "</p>"
   ]
  },
  {
   "cell_type": "markdown",
   "metadata": {},
   "source": [
    "## <p style=\"text-align: right; direction: rtl; float: right; clear: both;\">משאבי עזרה נוספים</p>"
   ]
  },
  {
   "cell_type": "markdown",
   "metadata": {},
   "source": [
    "<p style=\"text-align: right; direction: rtl; float: right; clear: both;\">\n",
    "עולם התכנות הוא אדיר בממדיו, וקיימים משאבים נהדרים שמטרתם לעזור למתכנת.<br>\n",
    "לפניכם כמה מהפופולריים שבהם:\n",
    "</p>\n",
    "<ul style=\"text-align: right; direction: rtl; float: right; clear: both;\">\n",
    "    <li><a href=\"https://google.com\">Google</a> – חפשו היטב את השאלה שלכם ב־Google. מתכנת טוב עושה את זה פעמים רבות ביום. קרוב לוודאי שמישהו בעולם כבר נתקל בעבר בבעיה שלכם.</li>\n",
    "    <li><a href=\"https://docs.python.org/3\">התיעוד של פייתון</a> – כולל הרבה מידע, ולעיתים דוגמאות מועילות.</li>\n",
    "    <li><a href=\"https://stackoverflow.com\">Stack Overflow</a> – אחד האתרים הכי מוכרים בעולם הפיתוח, המכיל מערכת שאלות ותשובות עם דירוג בנוגע לכל מה שקשור בתכנות.</li>\n",
    "    <li><a href=\"https://github.com\">GitHub</a> – אתר שבו אנשים מנהלים את הקוד שלהם ומשתפים אותו עם אחרים. יש בו שורת חיפוש, והוא מעולה לצורך מציאת דוגמאות לשימוש בקוד.</li>\n",
    "</ul>"
   ]
  },
  {
   "cell_type": "markdown",
   "metadata": {},
   "source": [
    "## <p style=\"text-align: right; direction: rtl; float: right; clear: both;\">תרגול</p>"
   ]
  },
  {
   "cell_type": "markdown",
   "metadata": {},
   "source": [
    "<p style=\"text-align: right; direction: rtl; float: right; clear: both;\">\n",
    "בתרגול זה השתמשו במידת הצורך בתיעוד של פייתון כדי לגלות פעולות שלא למדנו עליהן.\n",
    "</p>"
   ]
  },
  {
   "cell_type": "markdown",
   "metadata": {},
   "source": [
    "### <p style=\"text-align: right; direction: rtl; float: right; clear: both;\">סידור רשימה</p>"
   ]
  },
  {
   "cell_type": "markdown",
   "metadata": {},
   "source": [
    "<p style=\"text-align: right; direction: rtl; float: right; clear: both;\">\n",
    "לפניכם רשימת המספרים הטבעיים מ־1 עד 10 בסדר מבולבל.<br>\n",
    "האם תוכלו לסדר אותה בשורה אחת של קוד, ולהדפיס אותה בשורה אחת נוספת?<br>\n",
    "הפלט שיודפס על המסך צריך להיות: <samp dir=\"ltr\" style=\"direction: ltr;\">[1, 2, 3, 4, 5, 6, 7, 8, 9, 10]</samp>.\n",
    "</p>"
   ]
  },
  {
   "cell_type": "code",
   "execution_count": null,
   "metadata": {},
   "outputs": [],
   "source": [
    "numbers = [2, 9, 10, 8, 7, 4, 3, 5, 6, 1]"
   ]
  },
  {
   "cell_type": "markdown",
   "metadata": {},
   "source": [
    "### <p style=\"text-align: right; direction: rtl; float: right; clear: both;\">הספרייה של דיואי</p>"
   ]
  },
  {
   "cell_type": "markdown",
   "metadata": {},
   "source": [
    "<p style=\"text-align: right; direction: rtl; float: right; clear: both;\">\n",
    "    <a href=\"https://he.wikipedia.org/wiki/שיטת_דיואי\">שיטת דיואי</a> משמשת לחלוקת ספרים לתחומי תוכן.<br>\n",
    "    כך, קטגוריה 000 המכילה ספרות כללית הנוגעת למדעי המחשב, מידע ועבודות כלליות, 500 היא ספרות הנוגעת למדע טהור ו־700 היא ספרות הנוגעת לאומנות.<br>\n",
    "    בתוך כל קטגוריה יש תתי־קטגוריות נוספות, כמו 004 שמתעסקת בעיבוד מידע, 005 שמתעסקת בתכנות, או 755 שמתעסקת באומנות בדת.<br>\n",
    "    קבלו מהמשתמש שם ספר, ואת הקטגוריה שאליה הוא משתייך.<br>\n",
    "    אם משתמש הקליד מספר שאינו בעל 3 ספרות, כמו \"4\", הניחו שהמשתמש התכוון להקליד 004 והשלימו עבורו את המלאכה.<br>\n",
    "    הדפיסו למשתמש את מספר הקטגוריה אחרי התיקון, או \"קטגוריה שגויה\" אם הקלט שהוזן לא היה מספרי.\n",
    "</p>\n",
    "<p style=\"text-align: right; direction: rtl; float: right; clear: both;\">\n",
    "לדוגמה:\n",
    "</p>\n",
    "<ul style=\"text-align: right; direction: rtl; float: right; clear: both;\">\n",
    "    <li>אם משתמש הקליד 5, הדפיסו לו <samp>005</samp>.</li>\n",
    "    <li>אם משתמש הקליד 007, הדפיסו לו <samp>007</samp>.</li>\n",
    "    <li>אם משתמש הקליד 70, הדפיסו לו <samp>070</samp>.</li>\n",
    "    <li>אם משתמש הקליד 700, הדפיסו לו <samp>700</samp>.</li>\n",
    "    <li>אם משתמש הקליד <span dir=\"ltr\" style=\"direction: ltr\">-1</span>, הדפיסו לו <samp>\"Wrong Category\"</samp>.</li>\n",
    "    <li>אם משתמש הקליד Art, הדפיסו לו <samp>\"Wrong Category\"</samp>.</li>\n",
    "</ul>\n"
   ]
  },
  {
   "cell_type": "code",
   "execution_count": null,
   "metadata": {},
   "outputs": [],
   "source": []
  }
 ],
 "metadata": {
  "kernelspec": {
   "display_name": "Python 3",
   "language": "python",
   "name": "python3"
  },
  "language_info": {
   "codemirror_mode": {
    "name": "ipython",
    "version": 3
   },
   "file_extension": ".py",
   "mimetype": "text/x-python",
   "name": "python",
   "nbconvert_exporter": "python",
   "pygments_lexer": "ipython3",
   "version": "3.7.4"
  }
 },
 "nbformat": 4,
 "nbformat_minor": 2
}
