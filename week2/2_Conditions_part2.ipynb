{
 "cells": [
  {
   "cell_type": "markdown",
   "metadata": {},
   "source": [
    "<img alt=\"לוגו של מיזם לימוד הפייתון. נחש מצויר בצבעי צהוב וכחול, הנע בין האותיות של שם הקורס: לומדים פייתון. הסלוגן המופיע מעל לשם הקורס הוא מיזם חינמי ללימוד תכנות בעברית.\" src=\"images/logo.jpg\" style=\"display: block; margin-left: auto; margin-right: auto;\"/>"
   ]
  },
  {
   "cell_type": "markdown",
   "metadata": {},
   "source": [
    "# <p dir=\"rtl\" style=\"text-align: right; direction: rtl; float: right;\">תנאים – חלק 2</p>"
   ]
  },
  {
   "cell_type": "markdown",
   "metadata": {},
   "source": [
    "## <p dir=\"rtl\" style=\"text-align: right; direction: rtl; float: right;\">תנאים – תזכורת</p>"
   ]
  },
  {
   "cell_type": "markdown",
   "metadata": {},
   "source": [
    "<p dir=\"rtl\" style=\"text-align: right; direction: rtl; float: right;\">\n",
    "ניזכר במחברת הקודמת, שבה למדנו על תנאים.<br/>\n",
    "למדנו שבעזרת מילת המפתח <code>if</code> אנחנו יכולים לבקש מהקוד שלנו לבצע סדרת פעולות, רק אם תנאי כלשהו מתקיים.<br/>\n",
    "במילים אחרות: אנחנו יכולים לבקש מקטע קוד לרוץ, רק אם ביטוי בוליאני מסוים שווה ל־<code>True</code>.\n",
    "</p>"
   ]
  },
  {
   "cell_type": "markdown",
   "metadata": {},
   "source": [
    "<p dir=\"rtl\" style=\"text-align: right; direction: rtl; float: right;\">\n",
    "נראה דוגמה:\n",
    "</p>"
   ]
  },
  {
   "cell_type": "code",
   "execution_count": null,
   "metadata": {},
   "outputs": [],
   "source": [
    "shoes_in_my_drawer = int(input(\"How many shoes do you have in your drawer? \"))\n",
    "\n",
    "if shoes_in_my_drawer % 2 == 1:\n",
    "    print(\"You have an odd number of shoes. Something is wrong!\")"
   ]
  },
  {
   "cell_type": "markdown",
   "metadata": {},
   "source": [
    "<p dir=\"rtl\" style=\"text-align: right; direction: rtl; float: right;\">\n",
    "בקוד שלמעלה, ביקשנו מהמשתמש להזין את מספר הנעליים שיש לו, ואם המספר היה אי־זוגי הדפסנו לו שמשהו מוזר מתרחש.<br/>\n",
    "אבל מה קורה אם נרצה להדפיס למשתמש הודעת אישור כשאנחנו מגלים שהכול בסדר?\n",
    "</p>"
   ]
  },
  {
   "cell_type": "markdown",
   "metadata": {},
   "source": [
    "<div class=\"align-center\" dir=\"rtl\" style=\"display: flex; text-align: right; direction: rtl; clear: both;\">\n",
    "<div style=\"display: flex; width: 10%; float: right; clear: both;\" width=\"10%\">\n",
    "<img alt=\"תרגול\" height=\"50px\" src=\"images/exercise.svg\" style=\"height: 50px !important;\"/>\n",
    "</div>\n",
    "<div style=\"width: 70%\" width=\"70%\">\n",
    "<p dir=\"rtl\" style=\"text-align: right; direction: rtl; float: right; clear: both;\">\n",
    "            כיצד הייתם משפרים את התוכנית שלמעלה כך שתדפיס למשתמש הודעת אישור שהכול בסדר?<br/> \n",
    "            השתמשו בכלים שרכשתם במחברת הקודמת. נסו לחשוב על לפחות 2 דרכים דומות.\n",
    "        </p>\n",
    "</div>\n",
    "<div style=\"display: flex; width: 20%; border-right: 0.1rem solid #A5A5A5; padding: 1rem 2rem;\" width=\"20%\">\n",
    "<p dir=\"rtl\" style=\"text-align: center; direction: rtl; justify-content: center; align-items: center; clear: both;\">\n",
    "<strong>חשוב!</strong><br/>\n",
    "            פתרו לפני שתמשיכו!\n",
    "        </p>\n",
    "</div>\n",
    "</div>"
   ]
  },
  {
   "cell_type": "markdown",
   "metadata": {},
   "source": [
    "## <span dir=\"rtl\" style=\"text-align: right; direction: rtl; float: right;\">מה אם לא?<br/><sub>על מילת המפתח else</sub></span>"
   ]
  },
  {
   "cell_type": "markdown",
   "metadata": {},
   "source": [
    "<p dir=\"rtl\" style=\"text-align: right; direction: rtl; float: right;\">דרך אחת לפתור את התרגיל שהופיע למעלה, היא זו:</p>"
   ]
  },
  {
   "cell_type": "code",
   "execution_count": null,
   "metadata": {},
   "outputs": [],
   "source": [
    "shoes_in_my_drawer = int(input(\"How many shoes do you have in your drawer? \"))\n",
    "\n",
    "if shoes_in_my_drawer % 2 == 1:\n",
    "    print(\"You have an odd number of shoes. Something is wrong!\")\n",
    "if shoes_in_my_drawer % 2 != 1:\n",
    "    print(\"You have an even number of shoes. Congratulations!\")"
   ]
  },
  {
   "cell_type": "markdown",
   "metadata": {},
   "source": [
    "<p dir=\"rtl\" style=\"text-align: right; direction: rtl; float: right;\">\n",
    "כדי להדפיס למשתמש הודעה מתאימה בכל מצב, הוספנו תנאי <em>הפוך</em> מהתנאי הראשון, שידפיס למשתמש הודעה מתאימה.<br/>\n",
    "אחד הדברים המעניינים בתוכנית שלמעלה, הוא שיש לנו שני תנאים שמנוגדים זה לזה במשמעות שלהם. אחד בודק זוגיות, והשני בודק אי־זוגיות.<br/>\n",
    "למעשה, אם היינו רוצים לנסח את הקוד במילים, היינו יכולים להגיד: <q>אם מספר הנעליים הוא אי־זוגי, הדפס שיש בעיה. <strong>אחרת</strong>, הדפס שהכול בסדר</q>.\n",
    "</p>"
   ]
  },
  {
   "cell_type": "markdown",
   "metadata": {},
   "source": [
    "<p dir=\"rtl\" style=\"text-align: right; direction: rtl; float: right; clear: both;\">\n",
    "    פייתון מקנה לנו כלי נוח לבטא את ה\"אחרת\" הזה, כלי שמקל על הקריאוּת של הקוד – מילת המפתח <code>else</code>.<br/>\n",
    "    נראה איך אפשר לנסח את הקוד שלמעלה בעזרת <code>else</code>:\n",
    "</p>"
   ]
  },
  {
   "cell_type": "code",
   "execution_count": null,
   "metadata": {},
   "outputs": [],
   "source": [
    "shoes_in_my_drawer = int(input(\"How many shoes do you have in your drawer? \"))\n",
    "\n",
    "if shoes_in_my_drawer % 2 == 1:\n",
    "    print(\"You have an odd number of shoes. Something is wrong!\")\n",
    "else:\n",
    "    print(\"You have an even number of shoes. Congratulations!\")"
   ]
  },
  {
   "cell_type": "markdown",
   "metadata": {},
   "source": [
    "<p dir=\"rtl\" style=\"text-align: right; direction: rtl; float: right; clear: both;\">\n",
    "שימו לב לצורת ההזחה: ה־<code>else</code> אינו מוזח, אך התוכן שבתוכו כן.<br/>\n",
    "נזכור גם ש־<code>else</code> קשור ל־<code>if</code> שלפניו, ומדבר על <em>המקרה המשלים</em> לתנאי שנמצא באותו <code>if</code>.<br/>\n",
    "דרך נוספת לחשוב על <code>else</code> היא ש<mark>קטע הקוד בתוך ה־<code>else</code> יתבצע אם תוצאתו של הביטוי הבוליאני שמופיע כתנאי של ה־<code>if</code> היא <code>False</code></mark>.\n",
    "</p>"
   ]
  },
  {
   "cell_type": "markdown",
   "metadata": {},
   "source": [
    "### <div dir=\"rtl\" style=\"text-align: right; direction: rtl; float: right; clear: both;\">דוגמאות לתנאים עם <code>else</code></div>\n",
    "<p dir=\"rtl\" style=\"text-align: right; direction: rtl; float: right; clear: both;\">\n",
    "בדוגמאות הבאות, <em style=\"background-color: #3C6478; color: white;\">התנאי מופיע כך</em>, ו<em style=\"background-color: #F58B4C; color: white;\">הפעולות שיקרו בעקבותיו מופיעות כך</em>.\n",
    "</p>\n",
    "<ol dir=\"rtl\" style=\"text-align: right; direction: rtl; float: right; clear: both;\">\n",
    "<li>אם <em style=\"background-color: #3C6478; color: white;\">השעה היא לפני 20:00</em>, <em style=\"background-color: #F58B4C; color: white;\">שמור על תאורה גבוהה במסעדה</em>. <em style=\"background-color: #3C6478; color: white;\">אחרת</em>, <em style=\"background-color: #F58B4C; color: white;\">עמעם את התאורה</em>.</li>\n",
    "<li>אם <em style=\"background-color: #3C6478; color: white;\">הגיל של המשתמש הוא לפחות 18</em>, <em style=\"background-color: #F58B4C; color: white;\">אפשר לו להיכנס לבר</em>. <em style=\"background-color: #3C6478; color: white;\">אחרת</em>, <em style=\"background-color: #F58B4C; color: white;\">הצע לו אטרקציות אחרות לבקר בהן</em> וגם <em style=\"background-color: #F58B4C; color: white;\">אל תכניס אותו</em>.</li>\n",
    "<li>אם המשתמש בכספומט <em style=\"background-color: #3C6478; color: white;\">הזין סכום שלילי, או יותר מהסכום הזמין בחשבון שלו</em>, <em style=\"background-color: #F58B4C; color: white;\">הצג לו הודעת שגיאה</em>. <em style=\"background-color: #3C6478; color: white;\">אחרת</em>, <em style=\"background-color: #F58B4C; color: white;\">הפחת לו את הסכום מהחשבון</em>, <em style=\"background-color: #F58B4C; color: white;\">הוצא לו שטרות בסכום שהזין</em>.</li>\n",
    "<li>אם <em style=\"background-color: #3C6478; color: white;\">הדוד כבוי וגם השעה היא לפני 8:00 וגם השעה היא אחרי 7:00</em>, <em style=\"background-color: #F58B4C; color: white;\">הדלק את הדוד</em>. <em style=\"background-color: #3C6478; color: white;\">אחרת</em>, אם <em style=\"background-color: #3C6478; color: white;\">הדוד דלוק</em> – <em style=\"background-color: #F58B4C; color: white;\">כבה את הדוד</em>.</li>\n",
    "</ol>"
   ]
  },
  {
   "cell_type": "markdown",
   "metadata": {},
   "source": [
    "### <div dir=\"rtl\" style=\"text-align: right; direction: rtl;\">זרימת התוכנית: ציור לדוגמה</div>"
   ]
  },
  {
   "cell_type": "markdown",
   "metadata": {},
   "source": [
    "<figure>\n",
    "<img alt=\"איור (גרף) להמחשה של זרימת התוכנה. מתחילים בלקבל קלט, עוברים לתנאי. אם הוא לא מתקיים, בודקים אם הדוד דלוק. אם הדוד דלוק, מכבים את הדוד ומשם עוברים לסוף התוכנית. אם התנאי ההתחלתי קטן מתקיים, מדליקים את הדוד, ואז מגיעים לסוף התוכנית.\" src=\"images/else-flow.svg\" style=\"display: block; margin-left: auto; margin-right: auto;\"/>\n",
    "<figcaption dir=\"rtl\" style=\"text-align: center; direction: rtl;\"></figcaption>\n",
    "</figure>"
   ]
  },
  {
   "cell_type": "markdown",
   "metadata": {},
   "source": [
    "### <span dir=\"rtl\" style=\"text-align: right; direction: rtl; float: right; clear: both;\">מימוש לדוגמה</span>"
   ]
  },
  {
   "cell_type": "markdown",
   "metadata": {},
   "source": [
    "<p dir=\"rtl\" style=\"text-align: right; direction: rtl; float: right; clear: both;\">\n",
    "התוכנית המוצגת פה מעט מורכבת יותר מהשרטוט המופיע למעלה, כדי לתת לה נופך מציאותי יותר.\n",
    "</p>"
   ]
  },
  {
   "cell_type": "code",
   "execution_count": null,
   "metadata": {},
   "outputs": [],
   "source": [
    "is_boiler_on = input(\"Is your boiler turned on? [yes/no] \")\n",
    "hour = int(input(\"Enter the hour (00-23): \"))\n",
    "minute = int(input(\"Enter the minute (00-59): \"))\n",
    "\n",
    "if is_boiler_on == 'yes':\n",
    "    is_boiler_on = True\n",
    "else:\n",
    "    is_boiler_on = False\n",
    "\n",
    "if not is_boiler_on and hour == 7 and minute > 0:\n",
    "    is_boiler_on = True\n",
    "else:\n",
    "    if is_boiler_on:\n",
    "        is_boiler_on = False\n",
    "\n",
    "if is_boiler_on:\n",
    "    boiler_status = \"on\"\n",
    "else:\n",
    "    boiler_status = \"off\"\n",
    "\n",
    "print(\"Boiler is \" + boiler_status + \" right now.\")"
   ]
  },
  {
   "cell_type": "markdown",
   "metadata": {},
   "source": [
    "## <span dir=\"rtl\" style=\"text-align: right; direction: rtl; float: right; clear: both;\">מה המצב?<br/><sub>טיפול במצבים מרובים</sub></span>"
   ]
  },
  {
   "cell_type": "markdown",
   "metadata": {},
   "source": [
    "<p dir=\"rtl\" style=\"text-align: right; direction: rtl; float: right; clear: both;\">\n",
    "בארצות הברית מדורגת מכירת אלבומים כך:\n",
    "</p>\n",
    "<ol dir=\"rtl\" style=\"text-align: right; direction: rtl; float: right; clear: both;\">\n",
    "<li>אלבום מוזיקה נחשב \"<dfn>אלבום כסף</dfn>\" אם נמכרו ממנו לפחות <em>100,000</em> עותקים.</li>\n",
    "<li>אלבום מוזיקה נחשב \"<dfn>אלבום זהב</dfn>\" אם נמכרו ממנו לפחות <em>500,000</em> עותקים.</li>\n",
    "<li>אלבום מוזיקה נחשב \"<dfn>אלבום פלטינה</dfn>\" אם נמכרו ממנו לפחות <em>1,000,000</em> עותקים.</li>\n",
    "<li>אלבום מוזיקה נחשב \"<dfn>אלבום יהלום</dfn>\" אם נמכרו ממנו לפחות <em>10,000,000</em> עותקים.</li>\n",
    "</ol>"
   ]
  },
  {
   "cell_type": "markdown",
   "metadata": {},
   "source": [
    "<div class=\"align-center\" dir=\"rtl\" style=\"display: flex; text-align: right; direction: rtl; clear: both;\">\n",
    "<div style=\"display: flex; width: 10%; float: right; clear: both;\" width=\"10%\">\n",
    "<img alt=\"תרגול\" height=\"50px\" src=\"images/exercise.svg\" style=\"height: 50px !important;\"/>\n",
    "</div>\n",
    "<div style=\"width: 70%\" width=\"70%\">\n",
    "<p dir=\"rtl\" style=\"text-align: right; direction: rtl; float: right; clear: both;\">\n",
    "            קלטו את כמות העותקים שנמכרו עבור אלבום המטאל המצליח \"רוצח או נזלת\", והדפיסו את דירוג האלבום.<br/>\n",
    "            לדוגמה, אם המשתמש הכניס שמספר המכירות היה <em>520,196</em>, הדפיסו \"<samp>אלבום זהב</samp>\".<br/>\n",
    "            אם האלבום לא נמכר מספיק כדי לזכות בדירוג, הדפיסו \"<samp>האלבום אינו רב־מכר</samp>\".<br/>\n",
    "</p>\n",
    "</div>\n",
    "<div style=\"display: flex; width: 20%; border-right: 0.1rem solid #A5A5A5; padding: 1rem 2rem;\" width=\"20%\">\n",
    "<p dir=\"rtl\" style=\"text-align: center; direction: rtl; justify-content: center; align-items: center; clear: both;\">\n",
    "<strong>חשוב!</strong><br/>\n",
    "            פתרו לפני שתמשיכו!\n",
    "        </p>\n",
    "</div>\n",
    "</div>"
   ]
  },
  {
   "cell_type": "markdown",
   "metadata": {},
   "source": [
    "### <span dir=\"rtl\" style=\"text-align: right; direction: rtl; float: right; clear: both;\">פתרון ושיפורים</span>"
   ]
  },
  {
   "cell_type": "markdown",
   "metadata": {},
   "source": [
    "<p dir=\"rtl\" style=\"text-align: right; direction: rtl; float: right;\">\n",
    "בתרגיל שנתבקשתם לפתור, נוצר מצב שבו יש צורך בתנאים מרובים שמשלימים זה את זה.<br/>\n",
    "נציג לפניכם שני פתרונות אפשריים:\n",
    "</p>"
   ]
  },
  {
   "cell_type": "code",
   "execution_count": null,
   "metadata": {},
   "outputs": [],
   "source": [
    "copies_sold = int(input(\"How many copies were sold? \"))\n",
    "\n",
    "# אנחנו משתמשים באותיות גדולות עבור שמות המשתנים האלו.\n",
    "# זו מוסכמה בין מתכנתים שמבקשת להדגיש שערכי המשתנים הם קבועים, ולא הולכים להשתנות במהלך התוכנית.\n",
    "SILVER_ALBUM = 100000\n",
    "GOLD_ALBUM = 500000\n",
    "PLATINUM_ALBUM = 1000000\n",
    "DIAMOND_ALBUM = 10000000\n",
    "\n",
    "\n",
    "if copies_sold >= DIAMOND_ALBUM:\n",
    "    print(\"Diamond album\")\n",
    "else:\n",
    "    if copies_sold >= PLATINUM_ALBUM:\n",
    "        print(\"Platinum album\")\n",
    "    else:\n",
    "        if copies_sold >= GOLD_ALBUM:\n",
    "            print(\"Gold album\")\n",
    "        else:\n",
    "            if copies_sold >= SILVER_ALBUM:\n",
    "                print(\"Silver album\")\n",
    "            else:\n",
    "                print(\"Your album is not a best-seller\")"
   ]
  },
  {
   "cell_type": "markdown",
   "metadata": {},
   "source": [
    "<p dir=\"rtl\" style=\"text-align: right; direction: rtl; float: right;\">\n",
    "ודאי שמתם לב שהקוד נראה מעט מסורבל בגלל כמות ההזחות, והוא יוסיף ויסתרבל ככל שנוסיף יותר מקרים אפשריים.<br/>\n",
    "ננסה לפתור את זה בעזרת הגדרת טווחים מדויקים עבור כל דירוג.<br/>\n",
    "הקוד המשופץ ייראה כך:\n",
    "</p>"
   ]
  },
  {
   "cell_type": "code",
   "execution_count": null,
   "metadata": {},
   "outputs": [],
   "source": [
    "copies_sold = int(input(\"How many copies were sold? \"))\n",
    "\n",
    "SILVER_ALBUM = 100000\n",
    "GOLD_ALBUM = 500000\n",
    "PLATINUM_ALBUM = 1000000\n",
    "DIAMOND_ALBUM = 10000000\n",
    "\n",
    "if copies_sold >= DIAMOND_ALBUM:\n",
    "    print(\"Diamond album\")\n",
    "if copies_sold >= PLATINUM_ALBUM and copies_sold < DIAMOND_ALBUM:\n",
    "    print(\"Platinum album\")\n",
    "if copies_sold >= GOLD_ALBUM and copies_sold < PLATINUM_ALBUM:\n",
    "    print(\"Gold album\")\n",
    "if copies_sold >= SILVER_ALBUM and copies_sold < GOLD_ALBUM:\n",
    "    print(\"Silver album\")\n",
    "if copies_sold < SILVER_ALBUM:\n",
    "    print(\"Your album is not a best-seller\")"
   ]
  },
  {
   "cell_type": "markdown",
   "metadata": {},
   "source": [
    "<p dir=\"rtl\" style=\"text-align: right; direction: rtl; float: right;\">\n",
    "הקוד נראה טוב יותר במידה ניכרת, אבל בכל <code>if</code> אנחנו בודקים שהתנאי שלפניו לא התקיים, וזה מסורבל מאוד.<br/>\n",
    "אנחנו עושים את זה כדי למנוע הדפסה כפולה: אומנם כל אלבום זהב נמכר מספיק פעמים כדי להיות מוכתר כאלבום כסף, אבל לא נרצה להדפיס למשתמש את שתי ההודעות.</p>"
   ]
  },
  {
   "cell_type": "markdown",
   "metadata": {},
   "source": [
    "<div class=\"align-center\" dir=\"rtl\" style=\"display: flex; text-align: right; direction: rtl; clear: both;\">\n",
    "<div style=\"display: flex; width: 10%; float: right; clear: both;\" width=\"10%\">\n",
    "<img alt=\"תרגול\" height=\"50px\" src=\"images/exercise.svg\" style=\"height: 50px !important;\"/>\n",
    "</div>\n",
    "<div style=\"width: 70%\" width=\"70%\">\n",
    "<p dir=\"rtl\" style=\"text-align: right; direction: rtl; float: right; clear: both;\">\n",
    "            מה היה קורה אם לא היו תנאים אחרי האופרטור הלוגי <code>and</code>?<br/>\n",
    "            מחקו אותם, הכניסו לתוכנה כקלט <em>10000000</em> ובדקו מה התוצאה.\n",
    "        </p>\n",
    "</div>\n",
    "<div style=\"display: flex; width: 20%; border-right: 0.1rem solid #A5A5A5; padding: 1rem 2rem;\" width=\"20%\">\n",
    "<p dir=\"rtl\" style=\"text-align: center; direction: rtl; justify-content: center; align-items: center; clear: both;\">\n",
    "<strong>חשוב!</strong><br/>\n",
    "            פתרו לפני שתמשיכו!\n",
    "        </p>\n",
    "</div>\n",
    "</div>"
   ]
  },
  {
   "cell_type": "markdown",
   "metadata": {},
   "source": [
    "### <div dir=\"rtl\" style=\"text-align: right; direction: rtl; float: right; clear: both;\">אם אחרת – elif</div>"
   ]
  },
  {
   "cell_type": "markdown",
   "metadata": {},
   "source": [
    "<p dir=\"rtl\" style=\"text-align: right; direction: rtl; float: right;\">\n",
    "כדי לפתור את הבעיה שהוצגה למעלה, פייתון מעניקה לנו כלי נוסף שנקרא <code>elif</code>.<br/>\n",
    "מדובר בסך הכול בקיצור של <code dir=\"ltr\" style=\"direction: ltr\">else... if (תנאי)</code>, או בעברית: אם התנאי הקודם לא התקיים, בדוק אם...<br/>\n",
    "ראו, לדוגמה, איך נשפר את הקוד הקודם לקוד קריא יותר <em>במידה רבה</em>:\n",
    "</p>"
   ]
  },
  {
   "cell_type": "code",
   "execution_count": null,
   "metadata": {},
   "outputs": [],
   "source": [
    "copies_sold = int(input(\"How many copies were sold? \"))\n",
    "\n",
    "SILVER_ALBUM = 100000\n",
    "GOLD_ALBUM = 500000\n",
    "PLATINUM_ALBUM = 1000000\n",
    "DIAMOND_ALBUM = 10000000\n",
    "\n",
    "if copies_sold >= DIAMOND_ALBUM:\n",
    "    print(\"Diamond album\")\n",
    "elif copies_sold >= PLATINUM_ALBUM:\n",
    "    print(\"Platinum album\")\n",
    "elif copies_sold >= GOLD_ALBUM:\n",
    "    print(\"Gold album\")\n",
    "elif copies_sold >= SILVER_ALBUM:\n",
    "    print(\"Silver album\")\n",
    "else:\n",
    "    print(\"Your album is not a best-seller\")"
   ]
  },
  {
   "cell_type": "markdown",
   "metadata": {},
   "source": [
    "### <div dir=\"rtl\" style=\"text-align: right; direction: rtl; float: right; clear: both;\">מה קורה כאן?</div>\n",
    "<p dir=\"rtl\" style=\"text-align: right; direction: rtl; float: right; clear: both;\">\n",
    "    הטריק הוא שבשורה שבה כתוב <code>elif</code>, פייתון תנסה לבדוק את התנאי <em>רק אם</em> התנאים שלפניו לא התקיימו.<br/>\n",
    "    במילים אחרות – ערכיהם של הביטויים הבוליאניים בכל התנאים שלפניו היו <code>False</code>.<br/>\n",
    "    בכל שורה שבה יש <code>if</code> או <code>elif</code>, פייתון בודקת האם הביטוי הבוליאני שבאותה שורה מתקיים, ואז:\n",
    "</p>\n",
    "<ol dir=\"rtl\" style=\"text-align: right; direction: rtl; float: right; clear: both;\">\n",
    "<li>אם כן, היא מבצעת את הפעולות המוזחות מתחת לתנאי ומפסיקה לבדוק את התנאים הבאים.</li>\n",
    "<li>אם לא, היא עוברת לבדוק את התנאי ב־<code>elif</code>־ים הבאים (אם ישנם <code>elif</code>־ים).</li>\n",
    "<li>אם אף אחד מהתנאים לא מתקיים, יתבצע קטע הקוד ששייך ל־<code>else</code> (אם יש <code>else</code>).</li>\n",
    "</ol>"
   ]
  },
  {
   "cell_type": "markdown",
   "metadata": {},
   "source": [
    "<div class=\"align-center\" dir=\"rtl\" style=\"display: flex; text-align: right; direction: rtl;\">\n",
    "<div style=\"display: flex; width: 10%; float: right; \" width=\"10%\">\n",
    "<img alt=\"אזהרה!\" height=\"50px\" src=\"images/warning.png\" style=\"height: 50px !important;\"/>\n",
    "</div>\n",
    "<div style=\"width: 90%\" width=\"90%\">\n",
    "<p dir=\"rtl\" style=\"text-align: right; direction: rtl;\">\n",
    "            ניתן לכתוב <code>if</code> בלי <code>else</code> ובלי <code>elif</code>־ים אחריו.<br/>\n",
    "<code>if</code> תמיד יהיה ראשון, ואם יש צורך להוסיף מקרים, <code>else</code> תמיד יהיה אחרון, וביניהם יהיו <code>elif</code>־ים.<br/>\n",
    "</p>\n",
    "</div>\n",
    "</div>"
   ]
  },
  {
   "cell_type": "markdown",
   "metadata": {},
   "source": [
    "## <p dir=\"rtl\" style=\"align: right; direction: rtl; float: right;\">תרגול</p>"
   ]
  },
  {
   "cell_type": "markdown",
   "metadata": {},
   "source": [
    "### <p dir=\"rtl\" style=\"align: right; direction: rtl; float: right;\">כניסה לבנק, שלב 2</p>"
   ]
  },
  {
   "cell_type": "markdown",
   "metadata": {},
   "source": [
    "<p dir=\"rtl\" style=\"text-align: right; direction: rtl; float: right;\">\n",
    "שם המשתמש שלי לבנק הוא <em>wrong</em>, והסיסמה שלי היא <em>ads sports</em>.<br/>\n",
    "שם המשתמש של מנהל הבנק היא <em>admin</em>, והסיסמה שלו היא <em>is trator</em>.\n",
    "<br/>\n",
    "קבלו מהמשתמש שם משתמש וסיסמה, והדפיסו לו הודעה שמספרת לו לאיזה משתמש הוא הצליח להתחבר.<br/>\n",
    "אם לא הצליח להתחבר, הדפיסו לו הודעת שגיאה מתאימה.\n",
    "</p>"
   ]
  },
  {
   "cell_type": "markdown",
   "metadata": {},
   "source": [
    "### <p dir=\"rtl\" style=\"align: right; direction: rtl; float: right;\">חשבון למתחילים, שלב 1</p>"
   ]
  },
  {
   "cell_type": "markdown",
   "metadata": {},
   "source": [
    "<p dir=\"rtl\" style=\"text-align: right; direction: rtl; float: right; clear: both;\">\n",
    "דני רוצה ללמוד חשבון, ולצורך כך הוא צריך מחשבון פשוט שיעזור לו.<br/>\n",
    "כתבו תוכנה שמקבלת 2 מספרים ופעולה חשבונית (<em>+</em>, <em>-</em>, <em>*</em>, <em>/</em> או <em>**</em>), ויודעת להחזיר את התשובה הנכונה לתרגיל.<br/>\n",
    "</p>\n",
    "<p dir=\"rtl\" style=\"text-align: right; direction: rtl; float: right; clear: both;\">\n",
    "לדוגמה:\n",
    "</p>\n",
    "<ul dir=\"rtl\" style=\"text-align: right; direction: rtl; float: right; clear: both; margin-top: 0;\">\n",
    "<li>עבור מספר ראשון <em>5</em>, מספר שני <em>2</em> ופעולה <em>/</em> התוכנית תדפיס <samp>2.5</samp>, כיוון ש־<span dir=\"ltr\">5/2 == 2.5</span>.</li>\n",
    "<li>עבור מספר ראשון <em>9</em>, מספר שני <em>2</em> ופעולה <em>**</em> התוכנית תדפיס <samp>81</samp>, כיוון ש־<span dir=\"ltr\">9<sup>2</sup> == 81</span>.</li>\n",
    "<li>עבור מספר ראשון <em>3</em>, מספר שני <em>7</em> ופעולה <em>-</em> התוכנית תדפיס <samp dir=\"ltr\" style=\"direction: ltr;\">-4</samp>, כיוון ש־<span dir=\"ltr\">3-7 == -4</span>.</li>\n",
    "</ul>"
   ]
  },
  {
   "cell_type": "markdown",
   "metadata": {},
   "source": [
    "### <p dir=\"rtl\" style=\"align: right; direction: rtl; float: right;\">מחשבון מס הכנסה</p>"
   ]
  },
  {
   "cell_type": "markdown",
   "metadata": {},
   "source": [
    "<p dir=\"rtl\" style=\"text-align: right; direction: rtl; float: right; clear: both;\">\n",
    "    המיסוי על הכנסה בישראל גבוה מאוד ושיעורו נקבע לפי מדרגות כדלקמן:<br/>\n",
    "</p>\n",
    "<ol dir=\"rtl\" style=\"text-align: right; direction: rtl; float: right; clear: both;\">\n",
    "<li>מי שמרוויח עד 6,310 ש\"ח, משלם מס בשיעור 10% על הסכום הזה.</li>\n",
    "<li>מי שמרוויח עד 9,050 ש\"ח, משלם מס בשיעור 14% על הסכום הזה.</li>\n",
    "<li>מי שמרוויח עד 14,530 ש\"ח, משלם מס בשיעור 20% על הסכום הזה.</li>\n",
    "<li>מי שמרוויח עד 20,200 ש\"ח, משלם מס בשיעור 31% על הסכום הזה.</li>\n",
    "<li>מי שמרוויח עד 42,030 ש\"ח, משלם מס בשיעור 35% על הסכום הזה.</li>\n",
    "<li>מי שמרוויח עד 54,130 ש\"ח, משלם מס בשיעור 47% על הסכום הזה.</li>\n",
    "<li>מי שמרוויח מעל הסכום האחרון, משלם מס בשיעור 50% על הסכום הזה.</li>\n",
    "</ol>\n",
    "<p dir=\"rtl\" style=\"text-align: right; direction: rtl; float: right; clear: both;\">\n",
    "    הסכום תמיד משולם על ההפרש בין המדרגות.<br/>\n",
    "    לדוגמה, אם הרווחתי בחודש מסוים 10,000 ש\"ח, תשלום המיסים שלי יחושב כך:<br/>\n",
    "    על 6,310 השקלים הראשונים אשלם 631 ש\"ח, שהם 10% מאותה מדרגה.<br/>\n",
    "    על הסכום העודף עד 9,050 שקלים, שהוא 2,740 שקלים <span dir=\"ltr\" style=\"direction: ltr\">(9,050 - 6,310)</span> אשלם 383.6 שקלים, שהם 14% מ־2,740 שקלים.<br/>\n",
    "    על הסכום העודף בסך 950 שקלים <span dir=\"ltr\" style=\"direction: ltr\">(10,000 - 9,050)</span> אשלם 190 ש\"ח, שהם 20% מ־950 שקלים.<br/>\n",
    "    בסך הכול, אשלם למס הכנסה באותו חודש 631 + 383.6 + 190 ש\"ח, שהם 1,204.6 שקלים.\n",
    "</p>\n",
    "<p dir=\"rtl\" style=\"text-align: right; direction: rtl; float: right; clear: both;\">\n",
    "    כתבו קוד למחשבון שמקבל את השכר החודשי שלכם ומדפיס את סכום המס שתשלמו.\n",
    "<p></p></p>"
   ]
  },
  {
   "cell_type": "markdown",
   "metadata": {},
   "source": [
    "### <span dir=\"rtl\" style=\"align: right; direction: rtl; float: right; clear: both;\">ירוץ אם נתקן, אחרת...</span>"
   ]
  },
  {
   "cell_type": "markdown",
   "metadata": {},
   "source": [
    "<p dir=\"rtl\" style=\"text-align: right; direction: rtl; float: right; clear: both;\">\n",
    "    בקוד הבא נפלו שגיאות רבות.<br/>\n",
    "    תקנו אותו והריצו אותו כך שיעבוד ושידפיס הודעה אחת בלבד עבור כל מצב.\n",
    "</p>"
   ]
  },
  {
   "cell_type": "code",
   "execution_count": null,
   "metadata": {},
   "outputs": [],
   "source": [
    "age = int(input(\"Please enter your age: \")))\n",
    "\n",
    "if age < 0:\n",
    "print(\"Your age is invalid.\"\n",
    "if age < 18:\n",
    "print(\"Younger than 18.\")\n",
    "else\n",
    "print(\"You are so old!\")"
   ]
  }
 ],
 "metadata": {
  "kernelspec": {
   "display_name": "Python 3",
   "language": "python",
   "name": "python3"
  },
  "language_info": {
   "codemirror_mode": {
    "name": "ipython",
    "version": 3
   },
   "file_extension": ".py",
   "mimetype": "text/x-python",
   "name": "python",
   "nbconvert_exporter": "python",
   "pygments_lexer": "ipython3",
   "version": "3.7.4"
  }
 },
 "nbformat": 4,
 "nbformat_minor": 2
}
