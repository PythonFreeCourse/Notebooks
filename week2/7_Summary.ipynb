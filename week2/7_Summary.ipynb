{
 "cells": [
  {
   "cell_type": "markdown",
   "metadata": {},
   "source": [
    "<img alt=\"לוגו של מיזם לימוד הפייתון. נחש מצויר בצבעי צהוב וכחול, הנע בין האותיות של שם הקורס: לומדים פייתון. הסלוגן המופיע מעל לשם הקורס הוא מיזם חינמי ללימוד תכנות בעברית.\" src=\"images/logo.jpg\" style=\"display: block; margin-left: auto; margin-right: auto;\"/>"
   ]
  },
  {
   "cell_type": "markdown",
   "metadata": {},
   "source": [
    "# <p dir=\"rtl\" style=\"text-align:right;direction:rtl\">תרגילים</p>"
   ]
  },
  {
   "cell_type": "markdown",
   "metadata": {},
   "source": [
    "## <p dir=\"rtl\" style=\"text-align:right;direction:rtl;\">מערכת בנק</p>"
   ]
  },
  {
   "cell_type": "markdown",
   "metadata": {},
   "source": [
    "<p dir=\"rtl\" style=\"text-align:right; direction:rtl;\">\n",
    "בתרגיל הזה נכתוב מערכת מעט חכמה יותר לבנק.<br/>\n",
    "    נבנה אותה בשלבים באמצעות חלוקה לפונקציות.<br/>\n",
    "בשלב הראשון נבנה פונקציה למחולל סיסמאות, שמקבלת שם משתמש ומחזירה סיסמה.<br/>\n",
    "הסיסמה תורכב כך עבור שם משתמש נתון:<br/>\n",
    "<ul dir=\"rtl\" style=\"text-align:right; direction:rtl;\"><li>שם המשתמש באותיות קטנות ומייד אחריו שם המשתמש באותיות גדולות.\n",
    "    </li><li>הוספת האות <em>\"X\"</em> מימין לשם המשתמש, כמספר התווים בשם המשתמש.</li></ul>\n",
    "</p>\n",
    "<p dir=\"rtl\" style=\"text-align:right;direction:rtl;\">שימו לב כי שם המשתמש יכול לכלול ספרות וסימנים, נוסף על אותיות.<br/>\n",
    "    כמו כן, לא נאפשר שם משתמש שהוא מחרוזת ריקה. במקרה זה החזירו מחרוזת ריקה.<br/>\n",
    "<br/> לדוגמה, עבור שם המשתמש <em>'stam'</em> המחולל יחזיר את הסיסמה: <samp>'stamSTAMXXXX'</samp><br/>הריצו את הפונקציה על 4 דוגמאות נוספות לפחות, באורכים שונים, ובדקו שקיבלתם פלט כמצופה.</p>"
   ]
  },
  {
   "cell_type": "code",
   "execution_count": null,
   "metadata": {},
   "outputs": [],
   "source": [
    "# כתבו את הפונקציה שלכם כאן"
   ]
  },
  {
   "cell_type": "markdown",
   "metadata": {},
   "source": [
    "<p dir=\"rtl\" style=\"text-align:right;direction:rtl;\">הריצו את הפונקציה כך: <code>password_generator('stam')</code></p>"
   ]
  },
  {
   "cell_type": "markdown",
   "metadata": {},
   "source": [
    "<p dir=\"rtl\" style=\"text-align:right;direction:rtl;\">כעת נקבל שם משתמש וסיסמה, ונבדוק אם השילוב הוא נכון. בדקו באמצעות מחולל הסיסמאות מהסעיף הקודם אם הסיסמה של המשתמש תואמת את הסיסמה שיוצר המחולל. הדפיסו \"ברוך הבא\" אם הסיסמה נכונה, אחרת הדפיסו \"סיסמה שגויה\".</p>\n",
    "<code>login('stam', 'stamSTAMXXXX')</code><br/><samp>Welcome stam!</samp><br/><br/><code>login('stam', 'mats')</code><br/><samp>Wrong Password!</samp>"
   ]
  },
  {
   "cell_type": "code",
   "execution_count": null,
   "metadata": {},
   "outputs": [],
   "source": [
    "# כתבו את הפונקציה שלכם כאן"
   ]
  },
  {
   "cell_type": "markdown",
   "metadata": {},
   "source": [
    "<p dir=\"rtl\" style=\"text-align:right;direction:rtl;\">כתבו פונקציה שמחזירה <code>True</code>\n",
    "    אם בוצע חיבור מוצלח, אחרת החזירו <code>False</code>.<br/>\n",
    "פונקציה זו דומה מאוד לפונקציה הקודמת שכתבתם, רק שהיא אינה מדפיסה דבר.<br/> במקום ההדפסה יוחזר ערך בוליאני מתאים.<br/>לדוגמה:<br/></p><br/><code>login('stam', 'stamSTAMXXXX')</code><br/><samp>True</samp><br/><code>login('stam', 'mats')</code><br/><samp>False</samp><br/>"
   ]
  },
  {
   "cell_type": "code",
   "execution_count": null,
   "metadata": {},
   "outputs": [],
   "source": [
    "# כתבו את הפונקציה שלכם כאן"
   ]
  },
  {
   "cell_type": "markdown",
   "metadata": {},
   "source": [
    "<p dir=\"rtl\" style=\"text-align:right;direction:rtl;\">\n",
    " כעת ענו על השאלה הקודמת באמצעות הפונקציה שכתבתם בסעיף זה, כלומר כתבו פונקציה שמשתמשת בפונקציה המחזירה ערך בוליאני ומדפיסה בהתאם להוראת מהסעיף הקודם.<br/>רמז: <span dir=\"rtl\" style=\"direction: rtl; background: #000; text: #000\">השתמשו בערך ההחזרה של הפונקציה מהסעיף הקודם, בתוך if.</span></p>\n"
   ]
  },
  {
   "cell_type": "code",
   "execution_count": null,
   "metadata": {},
   "outputs": [],
   "source": [
    "# כתבו את הפונקציה שלכם כאן"
   ]
  },
  {
   "cell_type": "markdown",
   "metadata": {},
   "source": [
    "<p dir=\"rtl\" style=\"text-align:right;direction:rtl;\">כעת נרחיב את מערכת הבנק שלנו.<br/>\n",
    "    נניח כי לכל לקוח יש בחשבון הבנק 500 ש\"ח.<br/>\n",
    "    באמצעות הפוקנציות הקודמות שכתבנו נממש את התוכנית הבאה:<br/>\n",
    "<ul dir=\"rtl\" style=\"text-align:right; direction:rtl;\">\n",
    "<li>נבקש מהמשתמש שם משתמש וסיסמה.</li>\n",
    "<li>נאמת את שם המשתמש והסיסמה בעזרת מחולל הסיסמאות. אם האימות הצליח נדפיס: \n",
    "        <samp> ?Login succeeded. How much you'd like to withdraw </samp><br/>\n",
    "        אחרת נדפיס: <samp>.Login failed</samp></li>\n",
    "<li>כיון שלמשתמש יש 500 ש\"ח בחשבון, עלינו לוודא שסכום המשיכה אינו גבוה מ־500 ש\"ח. אם הסכום אכן גבוה מ־500 ש\"ח נדפיס: \n",
    "        <samp>.Withdrawal denied</samp></li>\n",
    "<li>כמו כן, עלינו לוודא כי הסכום אינו שלילי או 0. במקרה זה נדפיס: \n",
    "        <samp>.Invalid amount</samp></li>\n",
    "<li>אם הסכום חוקי, נדפיס: \n",
    "        <samp>.(Please take your money (amount asked). Your balance is: (amount left in balance</samp></li>\n",
    "</ul>\n",
    "</p>"
   ]
  },
  {
   "cell_type": "markdown",
   "metadata": {},
   "source": [
    "<p dir=\"rtl\" style=\"text-align:right;direction:rtl\">ציירו תחילה על דף תרשים זרימה של הקוד – תרשים מעויינים ללא קוד.\n",
    "זה יעזור לכם במימוש.&lt;/p</p>"
   ]
  },
  {
   "cell_type": "markdown",
   "metadata": {},
   "source": [
    "### <p dir=\"rtl\" style=\"text-align: right; direction: rtl; float: right; clear: both;\">דוגמאות:</p>"
   ]
  },
  {
   "cell_type": "markdown",
   "metadata": {},
   "source": [
    "<p dir=\"ltr\" style=\"text-align: left; direction: ltr; float: left; clear: both;\">\n",
    "    Insert username: <samp>stam</samp><br/>\n",
    "    Insert password: <samp>stamSTAMXXXX</samp><br/>\n",
    "    Login succeeded. How much you'd like to withdraw? <samp>200</samp><br/>\n",
    "    Please take your money (200NIS). Your balance is: 300NIS.\n",
    "</p>"
   ]
  },
  {
   "cell_type": "markdown",
   "metadata": {},
   "source": [
    "<p dir=\"rtl\" style=\"text-align: right; direction: rtl; float: right; clear: both;\">\n",
    "    דוגמה לסיסמה שגויה:\n",
    "</p>\n",
    "<p dir=\"ltr\" style=\"text-align: left; direction: ltr; float: left; clear: both;\">\n",
    "    Insert username: <samp>stam</samp><br/>\n",
    "    Insert password: <samp>mats</samp><br/>\n",
    "    Login failed.\n",
    "</p>"
   ]
  },
  {
   "cell_type": "markdown",
   "metadata": {},
   "source": [
    "<p dir=\"rtl\" style=\"text-align: right; direction: rtl; float: right; clear: both;\">\n",
    "    דוגמה למשיכה לא חוקית:\n",
    "</p>\n",
    "<p dir=\"ltr\" style=\"text-align: left; direction: ltr; float: left; clear: both;\">\n",
    "    Insert username: <samp>stam</samp><br/>\n",
    "    Insert password: <samp>stamSTAMXXXX</samp><br/>\n",
    "    Login succeeded. How much you'd like to withdraw? <samp>600</samp><br/>\n",
    "    Withdrawal denied.\n",
    "</p>"
   ]
  },
  {
   "cell_type": "markdown",
   "metadata": {},
   "source": [
    "<p dir=\"rtl\" style=\"text-align:right;direction:rtl;\">דוגמה למשיכה של 0 ש\"ח:</p>\n",
    "<p dir=\"ltr\" style=\"text-align: left; direction: ltr; float: left; clear: both;\">\n",
    "    Insert username: <samp>stam</samp><br/>\n",
    "    Insert password: <samp>stamSTAMXXXX</samp><br/>\n",
    "    Login succeeded. How much you'd like to withdraw? <samp>0</samp><br/>\n",
    "    Invalid amount.\n",
    "</p>"
   ]
  },
  {
   "cell_type": "code",
   "execution_count": null,
   "metadata": {},
   "outputs": [],
   "source": [
    "# כתבו את הפונקציה שלכם כאן"
   ]
  },
  {
   "cell_type": "markdown",
   "metadata": {},
   "source": [
    "<p dir=\"rtl\" style=\"text-align: right; direction: rtl; float: right; clear: both;\">\n",
    "    לאחרונה עלתה דרישה לשכלל את הבנק שלנו, כך שרק מספר מצומצם של לקוחות יוכלו לגשת לבנק.<br/>\n",
    "    הגדירו רשימה של שמות של לקוחות שעבורם יתאפשר החיבור.<br/>\n",
    "    עבור לקוחות שאינם ברשימה יכתוב הבנק <samp>You are not a customer of the bank</samp>.\n",
    "</p>"
   ]
  },
  {
   "cell_type": "code",
   "execution_count": null,
   "metadata": {},
   "outputs": [],
   "source": [
    "# כתבו את הפונקציה שלכם כאן"
   ]
  },
  {
   "cell_type": "markdown",
   "metadata": {},
   "source": [
    "## <p dir=\"rtl\" style=\"text-align:right;direction:rtl;\">מתודות של מחרוזות</p>"
   ]
  },
  {
   "cell_type": "markdown",
   "metadata": {},
   "source": [
    "<p dir=\"rtl\" style=\"text-align:right;direction:rtl;\"> ניזכר בכמה פעולות של מחרוזות:<br/>לכל אחד מהתרגילים הבאים הריצו את הדוגמה וכתבו בעצמכם 3 דוגמאות נוספות. הסבירו לעצמכם מה עושה כל מתודה למחרוזת שהיא מקבלת.<br/>\n",
    "אם תרצו להיזכר מה עושה מתודה מסוימת תוכלו להריץ אותה כך:<br/></p>\n",
    "<code>str.method-name?</code>\n",
    "<p dir=\"rtl\" style=\"text-align:right;direction:rtl;\"> לדוגמה:<br/></p>\n",
    "<code>str.split?</code><br/>\n",
    "<p dir=\"rtl\" style=\"text-align:right;direction:rtl;\"> הריצו את התא הבא לקבלת מידע על המתודה <em>split</em>:<br/></p>\n"
   ]
  },
  {
   "cell_type": "code",
   "execution_count": null,
   "metadata": {},
   "outputs": [],
   "source": [
    "str.split?"
   ]
  },
  {
   "cell_type": "code",
   "execution_count": null,
   "metadata": {},
   "outputs": [],
   "source": [
    "\"abcdef:ghijk:xyz\".split(\":\")"
   ]
  },
  {
   "cell_type": "code",
   "execution_count": null,
   "metadata": {},
   "outputs": [],
   "source": [
    "# כתבו דוגמה למתודה זו"
   ]
  },
  {
   "cell_type": "code",
   "execution_count": null,
   "metadata": {},
   "outputs": [],
   "source": [
    "# כתבו דוגמה למתודה זו"
   ]
  },
  {
   "cell_type": "code",
   "execution_count": null,
   "metadata": {},
   "outputs": [],
   "source": [
    "# כתבו דוגמה למתודה זו"
   ]
  },
  {
   "cell_type": "code",
   "execution_count": null,
   "metadata": {},
   "outputs": [],
   "source": [
    "\"543\".zfill(4)"
   ]
  },
  {
   "cell_type": "code",
   "execution_count": null,
   "metadata": {},
   "outputs": [],
   "source": [
    "# כתבו דוגמה למתודה זו"
   ]
  },
  {
   "cell_type": "code",
   "execution_count": null,
   "metadata": {},
   "outputs": [],
   "source": [
    "# כתבו דוגמה למתודה זו"
   ]
  },
  {
   "cell_type": "code",
   "execution_count": null,
   "metadata": {},
   "outputs": [],
   "source": [
    "# כתבו דוגמה למתודה זו"
   ]
  },
  {
   "cell_type": "code",
   "execution_count": null,
   "metadata": {},
   "outputs": [],
   "source": [
    "\"now i am a lowercase string, one day i will be upper\".upper()"
   ]
  },
  {
   "cell_type": "code",
   "execution_count": null,
   "metadata": {},
   "outputs": [],
   "source": [
    "# כתבו דוגמה למתודה זו"
   ]
  },
  {
   "cell_type": "code",
   "execution_count": null,
   "metadata": {},
   "outputs": [],
   "source": [
    "# כתבו דוגמה למתודה זו"
   ]
  },
  {
   "cell_type": "code",
   "execution_count": null,
   "metadata": {},
   "outputs": [],
   "source": [
    "# כתבו דוגמה למתודה זו"
   ]
  },
  {
   "cell_type": "code",
   "execution_count": null,
   "metadata": {},
   "outputs": [],
   "source": [
    "\"I AM AN UPPERCASE STRING. I AM AFRAID TO BE LOWERED!\".lower()"
   ]
  },
  {
   "cell_type": "code",
   "execution_count": null,
   "metadata": {},
   "outputs": [],
   "source": [
    "# כתבו דוגמה למתודה זו"
   ]
  },
  {
   "cell_type": "code",
   "execution_count": null,
   "metadata": {},
   "outputs": [],
   "source": [
    "# כתבו דוגמה למתודה זו"
   ]
  },
  {
   "cell_type": "code",
   "execution_count": null,
   "metadata": {},
   "outputs": [],
   "source": [
    "# כתבו דוגמה למתודה זו"
   ]
  },
  {
   "cell_type": "code",
   "execution_count": null,
   "metadata": {},
   "outputs": [],
   "source": [
    "\"wow!_I_am_using_underscore_as_space!\".replace(\"_\", \" \")"
   ]
  },
  {
   "cell_type": "code",
   "execution_count": null,
   "metadata": {},
   "outputs": [],
   "source": [
    "# כתבו דוגמה למתודה זו"
   ]
  },
  {
   "cell_type": "code",
   "execution_count": null,
   "metadata": {},
   "outputs": [],
   "source": [
    "# כתבו דוגמה למתודה זו"
   ]
  },
  {
   "cell_type": "code",
   "execution_count": null,
   "metadata": {},
   "outputs": [],
   "source": [
    "# כתבו דוגמה למתודה זו"
   ]
  },
  {
   "cell_type": "code",
   "execution_count": null,
   "metadata": {},
   "outputs": [],
   "source": [
    "\"                    i need some spaceeeeeeee                            \".strip()"
   ]
  },
  {
   "cell_type": "code",
   "execution_count": null,
   "metadata": {},
   "outputs": [],
   "source": [
    "# כתבו דוגמה למתודה זו"
   ]
  },
  {
   "cell_type": "code",
   "execution_count": null,
   "metadata": {},
   "outputs": [],
   "source": [
    "# כתבו דוגמה למתודה זו"
   ]
  },
  {
   "cell_type": "code",
   "execution_count": null,
   "metadata": {},
   "outputs": [],
   "source": [
    "# כתבו דוגמה למתודה זו"
   ]
  },
  {
   "cell_type": "code",
   "execution_count": null,
   "metadata": {},
   "outputs": [],
   "source": [
    "\"i^wonder&if@all##characters$in%%%this string are alpha-numeric???\".isalnum()"
   ]
  },
  {
   "cell_type": "code",
   "execution_count": null,
   "metadata": {},
   "outputs": [],
   "source": [
    "\"onlylettersandnumbers2342343\".isalnum()"
   ]
  },
  {
   "cell_type": "code",
   "execution_count": null,
   "metadata": {},
   "outputs": [],
   "source": [
    "# כתבו דוגמה למתודה זו"
   ]
  },
  {
   "cell_type": "code",
   "execution_count": null,
   "metadata": {},
   "outputs": [],
   "source": [
    "# כתבו דוגמה למתודה זו"
   ]
  },
  {
   "cell_type": "code",
   "execution_count": null,
   "metadata": {},
   "outputs": [],
   "source": [
    "# כתבו דוגמה למתודה זו"
   ]
  },
  {
   "cell_type": "code",
   "execution_count": null,
   "metadata": {},
   "outputs": [],
   "source": [
    "\"lettersonly\".isalpha()"
   ]
  },
  {
   "cell_type": "code",
   "execution_count": null,
   "metadata": {},
   "outputs": [],
   "source": [
    "# כתבו דוגמה למתודה זו"
   ]
  },
  {
   "cell_type": "code",
   "execution_count": null,
   "metadata": {},
   "outputs": [],
   "source": [
    "# כתבו דוגמה למתודה זו"
   ]
  },
  {
   "cell_type": "code",
   "execution_count": null,
   "metadata": {},
   "outputs": [],
   "source": [
    "# כתבו דוגמה למתודה זו"
   ]
  },
  {
   "cell_type": "code",
   "execution_count": null,
   "metadata": {},
   "outputs": [],
   "source": [
    "\"4535354353\".isdecimal()"
   ]
  },
  {
   "cell_type": "code",
   "execution_count": null,
   "metadata": {},
   "outputs": [],
   "source": [
    "# כתבו דוגמה למתודה זו"
   ]
  },
  {
   "cell_type": "code",
   "execution_count": null,
   "metadata": {},
   "outputs": [],
   "source": [
    "# כתבו דוגמה למתודה זו"
   ]
  },
  {
   "cell_type": "code",
   "execution_count": null,
   "metadata": {},
   "outputs": [],
   "source": [
    "# כתבו דוגמה למתודה זו"
   ]
  },
  {
   "cell_type": "markdown",
   "metadata": {},
   "source": [
    "## <p dir=\"rtl\" style=\"text-align:right;direction:rtl;\">שעון עולמי</p>"
   ]
  },
  {
   "cell_type": "markdown",
   "metadata": {},
   "source": [
    "<p dir=\"rtl\" style=\"text-align:right;direction:rtl;\">בשאלה זו נכתוב גרסה של שעון עולמי התומך ב־4 אזורי זמן:<br/>\n",
    "<ul dir=\"rtl\" style=\"text-align: right; direction: rtl; float: right; clear: both;\">\n",
    "<li>תל אביב – TLV</li>\n",
    "<li>לונדון – LDN</li>\n",
    "<li>ניו יורק – NYC</li>\n",
    "<li>טוקיו – TYO</li>\n",
    "</ul>\n",
    "<p dir=\"rtl\" style=\"text-align: right; direction: rtl; float: right; clear: both;\">\n",
    "אם נקבל תל אביב, נחזיר את השעה בתוספת 3 שעות.<br/>\n",
    "אם נקבל ניו יורק נחזיר את השעה פחות 4.<br/>\n",
    "אם נקבל טוקיו נחזיר את השעה ועוד 9.<br/>\n",
    "בכל מקרה אחר נחזיר את השעה כמו שקיבלנו אותה.\n",
    "</p>\n",
    "</p>"
   ]
  },
  {
   "cell_type": "markdown",
   "metadata": {},
   "source": [
    "<p dir=\"rtl\" style=\"text-align:right;direction:rtl;\">השעון שלנו בתרגיל זה הוא שעון 24 שעות בפורמט HH:MM.</p>\n",
    "<p dir=\"rtl\" style=\"text-align:right;direction:rtl;\">תחילה, כתבו פונקציה המקבלת את השעה בפורמט HH:MM, ומקבלת את מספר השעות שיש להוסיף או להוריד מהשעה הנתונה, ומחזירה את השעה המעודכנת.</p><br/>\n",
    "<code>time_shift(\"08:44\", 1)</code><br/>\n",
    "<samp dir=\"ltr\" style=\"text-align:left;direction:ltr;\">\"09:44\"</samp><br/>\n",
    "<code>time_shift(\"07:31\", -2)</code><br/>\n",
    "<samp>\"05:31\"</samp>\n",
    "<p dir=\"rtl\" style=\"text-align:right;direction:rtl;\">כמו כן עליכם לוודא שמוכנסת שעה חוקית, ולהדפיס שגיאה אם לא:</p><br/>\n",
    "<code>time_shift(\"32:12\", 4)</code><br/>\n",
    "<samp>\"Invalid time inserted\"</samp>\n",
    "<p dir=\"rtl\" style=\"text-align:right;direction:rtl;\">נוסף לכך, עליכם לתמוך במעברים בין יממות. כלומר עליכם לבצע נכון פעולות מסוג זה:</p><br/>\n",
    "<code>time_shift(\"23:30\", 2)</code><br/>\n",
    "<samp>\"01:30\"</samp><br/>\n",
    "<code>time_shift(\"04:13\", -5)</code><br/>\n",
    "<samp>\"23:13\"</samp>"
   ]
  },
  {
   "cell_type": "code",
   "execution_count": null,
   "metadata": {},
   "outputs": [],
   "source": [
    "# כתבו את הפונקציה שלכם כאן"
   ]
  },
  {
   "cell_type": "markdown",
   "metadata": {},
   "source": [
    "## <p dir=\"right\" style=\"text-align:right;direction:right;\">רמזים</p>"
   ]
  },
  {
   "cell_type": "markdown",
   "metadata": {},
   "source": [
    "<p dir=\"rtl\" style=\"text-align:right;direction:rtl;\">פונקציות שימושיות:\n",
    "    <span dir=\"rtl\" style=\"direction: rtl; background: #000; text: #000\"><br/><em>split</em> – מתודה של <em>string</em>.<br/>\n",
    "        האופרטור % (מודולו) – חשבו עם איזה מספר צריך לעשות מודולו.<br/>\n",
    "<em>zfill</em> – השתמשו בה במקרה שהשעה חד־ספרתית (לדוגמה 1:05 תהפוך ל־01:05) </span>\n",
    "<p dir=\"rtl\" style=\"text-align:right;direction:rtl;\">רמזים נוספים:<br/>\n",
    "<span dir=\"rtl\" style=\"direction: rtl; background: #000; text: #000\">מומלץ להמיר את השעה מ־<em>string</em> ל־<em>int</em> ואז לבצע את פעולות החשבון, ולבסוף להמיר חזרה ל־<em>string</em>\n",
    "</span>\n",
    "</p></p>"
   ]
  },
  {
   "cell_type": "markdown",
   "metadata": {},
   "source": [
    "<p dir=\"rtl\" style=\"text-align:right;direction:rtl;\"> כעת כתבו פונקציה המקבלת שני פרמטרים – שעה ואזור זמן ובאמצעות הפונקציה מהתרגיל הקודם מחזירה את השעה באזור הזמן המבוקש.\n",
    "<br/>\n",
    "    לדוגמה:\n",
    "</p>\n",
    "<p dir=\"ltr\" style=\"text-align:left;direction:ltr;\">\n",
    "<code>convert_to_timezone(\"10:34\", \"TLV\")</code>\n",
    "<br/>\n",
    "<samp>\"13:34\"</samp>\n",
    "</p>"
   ]
  },
  {
   "cell_type": "code",
   "execution_count": null,
   "metadata": {},
   "outputs": [],
   "source": [
    "# כתבו את הפונקציה שלכם כאן"
   ]
  },
  {
   "cell_type": "markdown",
   "metadata": {},
   "source": [
    "## <span dir=\"rtl\" style=\"text-align: right; direction:rtl; float: right; clear: both;\">אורכי רשימות</span>"
   ]
  },
  {
   "cell_type": "markdown",
   "metadata": {},
   "source": [
    "<p dir=\"rtl\" style=\"text-align: right; direction: rtl; float: right; clear: both;\">\n",
    "    כתבו תוכנית שמקבלת 2 רשימות שונות, ומדפיסה:\n",
    "</p>\n",
    "<ul dir=\"rtl\" style=\"text-align: right; direction: rtl; float: right; clear: both;\">\n",
    "<li>\"<samp>Same length</samp>\" אם הן באותו אורך.</li>\n",
    "<li>\"<samp>Not same length</samp>\" אם הן באורך שונה.</li>\n",
    "<li>\"<samp>Got empty list</samp>\" אם רשימה שקיבלנו היא באורך 0.</li>\n",
    "</ul>\n",
    "<p dir=\"rtl\" style=\"text-align: right; direction: rtl; float: right; clear: both;\">\n",
    "    לדוגמה – אם קיבלנו 2 רשימות ריקות, נדפיס:<br/>\n",
    "<samp dir=\"ltr\" style=\"text-align: left; direction: ltr; float: left; clear: both;\">\n",
    "        \"Got empty list\"\n",
    "        \"Got empty list\"\n",
    "        \"Same length\"\n",
    "    </samp>\n",
    "</p>"
   ]
  },
  {
   "cell_type": "code",
   "execution_count": null,
   "metadata": {},
   "outputs": [],
   "source": [
    "# כתבו את הפונקציה שלכם כאן"
   ]
  },
  {
   "cell_type": "markdown",
   "metadata": {},
   "source": [
    "## <span dir=\"rtl\" style=\"text-align: right; direction:rtl; float: right; clear: both;\">מיקומים</span>"
   ]
  },
  {
   "cell_type": "markdown",
   "metadata": {},
   "source": [
    "<p dir=\"rtl\" style=\"text-align: right; direction: rtl; float: right; clear: both;\">\n",
    "כתבו פונקציה שמקבלת רשימה של רשימות.<br/>\n",
    "אם הרשימה החיצונית לא באורך 6, הפונקציה תדפיס <samp>Only lists of length 6 are allowed</samp>.<br/>\n",
    "הפונקציה תדפיס \"<samp dir=\"ltr\">Yes!</samp>\" אם אחד מהבאים מתקיים:\n",
    "</p>\n",
    "<ul dir=\"rtl\" style=\"text-align: right; direction: rtl; float: right; clear: both;\">\n",
    "<li>אורך הרשימה במקום ה־0 שווה לאורך הרשימה במקום ה־4</li>\n",
    "<li>אורך הרשימה במקום ה־3 שווה לאורך הרשימה במקום ה־2 וה־1</li>\n",
    "<li>אורך הרשימה במקום ה־5 שווה לאורך הרשימה במקום ה־3</li>\n",
    "</ul>\n",
    "<p dir=\"rtl\" style=\"text-align: right; direction: rtl; float: right; clear: both;\">\n",
    "הפונקציה תדפיס \"<samp dir=\"ltr\">Yes!</samp>\" עבור כל תנאי שמתקיים, גם אם קיים יותר מאחד כזה.<br/>\n",
    "לדוגמה, עבור:<br/>\n",
    "<code dir=\"ltr\" style=\"direction: ltr;\">multi = [[0], [1], [2], [3], [4], [5]]</code><br/>\n",
    "כל התנאים מתקיימים, ולכן נדפיס \"<samp dir=\"ltr\">Yes!</samp>\" 3 פעמים.\n",
    "</p>\n",
    "<p dir=\"rtl\" style=\"text-align: right; direction: rtl; float: right; clear: both;\">\n",
    "כתבו לפחות 3 דוגמאות שונות שמדגימות:\n",
    "</p>\n",
    "<ul dir=\"rtl\" style=\"text-align: right; direction: rtl; float: right; clear: both;\">\n",
    "<li>אפס הדפסות</li>\n",
    "<li>הדפסה אחת</li>\n",
    "<li>שתי הדפסות</li>\n",
    "<li>שלוש הדפסות</li>\n",
    "</ul>"
   ]
  },
  {
   "cell_type": "code",
   "execution_count": null,
   "metadata": {},
   "outputs": [],
   "source": [
    "# כתבו את הפונקציה שלכם כאן"
   ]
  }
 ],
 "metadata": {
  "kernelspec": {
   "display_name": "Python 3",
   "language": "python",
   "name": "python3"
  },
  "language_info": {
   "codemirror_mode": {
    "name": "ipython",
    "version": 3
   },
   "file_extension": ".py",
   "mimetype": "text/x-python",
   "name": "python",
   "nbconvert_exporter": "python",
   "pygments_lexer": "ipython3",
   "version": "3.7.6"
  }
 },
 "nbformat": 4,
 "nbformat_minor": 2
}
