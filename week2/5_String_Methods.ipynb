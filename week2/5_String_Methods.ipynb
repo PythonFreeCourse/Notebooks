{
 "cells": [
  {
   "cell_type": "markdown",
   "metadata": {},
   "source": [
    "<img alt=\"לוגו של מיזם לימוד הפייתון. נחש מצויר בצבעי צהוב וכחול, הנע בין האותיות של שם הקורס: לומדים פייתון. הסלוגן המופיע מעל לשם הקורס הוא מיזם חינמי ללימוד תכנות בעברית.\" src=\"images/logo.jpg\" style=\"display: block; margin-left: auto; margin-right: auto;\"/>"
   ]
  },
  {
   "cell_type": "markdown",
   "metadata": {},
   "source": [
    "# <p dir=\"rtl\" style=\"text-align: right; direction: rtl; float: right;\">מחרוזות – חלק 2</p>"
   ]
  },
  {
   "cell_type": "markdown",
   "metadata": {},
   "source": [
    "## <p dir=\"rtl\" style=\"text-align: right; direction: rtl; float: right; clear: both;\">הברחת מחרוזות</p>"
   ]
  },
  {
   "cell_type": "markdown",
   "metadata": {},
   "source": [
    "<p dir=\"rtl\" style=\"text-align: right; direction: rtl; float: right; clear: both;\">\n",
    "לפעמים נרצה שהמחרוזת שלנו תעשה \"דברים מיוחדים\" – כמו לרדת שורה באמצע המחרוזת או לעשות ריווח גדול באמצעות <kbd dir=\"ltr\" style=\"direction: ltr\">↹ TAB</kbd> (לצורך טבלאות, לדוגמה).<br/>\n",
    "המחשב מתייחס להזחה ולשורה חדשה כתווים של ממש, ועבור כל \"תו מיוחד\" שכזה יצרו רצף של תווים שמייצג אותו.<br/>\n",
    "לדוגמה, כשנדע מהו רצף התווים שמייצג שורה חדשה, נוכל לכתוב אותו כחלק מהמחרוזת, וכאשר נדפיס אותה נראה ירידת שורה במקום רצף התווים.\n",
    "</p>"
   ]
  },
  {
   "cell_type": "markdown",
   "metadata": {},
   "source": [
    "<p dir=\"rtl\" style=\"text-align: right; direction: rtl; float: right; clear: both;\">\n",
    "נלמד את שני התווים המיוחדים שדיברנו עליהם – <code dir=\"ltr\" style=\"direction: ltr;\">\\n</code> הוא תו שמסמן ירידת שורה, ו־<code dir=\"ltr\" style=\"direction: ltr;\">\\t</code> מסמן ריווח גדול.<br/>\n",
    "איך נכניס אותם בקוד? פשוט נשלב אותם כחלק מהמחרוזת במקומות שבהם בא לנו שיופיעו:\n",
    "</p>"
   ]
  },
  {
   "cell_type": "code",
   "execution_count": null,
   "metadata": {},
   "outputs": [],
   "source": [
    "print(\"Let's print a newline\\nVery good. Now let us create a newline\\n\\twith a nested text!\")"
   ]
  },
  {
   "cell_type": "markdown",
   "metadata": {},
   "source": [
    "<p dir=\"rtl\" style=\"text-align: right; direction: rtl; float: right; clear: both;\">\n",
    "רצפי התווים האלו משתמשים בסימן <kbd>\\</kbd> (\"Backslash\", לוכסן שמאלי) כדי לסמן תו מיוחד, והם נפוצים גם בשפות אחרות שאינן פייתון.</p>"
   ]
  },
  {
   "cell_type": "markdown",
   "metadata": {},
   "source": [
    "<p dir=\"rtl\" style=\"text-align: right; direction: rtl; float: right; clear: both;\">\n",
    "נשתמש ב־<code dir=\"ltr\" style=\"direction: ltr;\">\\'</code> במחרוזת שבה הסימן שמתחיל ומסיים את המחרוזת הוא <code dir=\"ltr\" style=\"direction: ltr;\">'</code>. שימוש דומה נעשה עבור <code dir=\"ltr\" style=\"direction: ltr;\">\\\"</code>:<br/>\n",
    "</p>"
   ]
  },
  {
   "cell_type": "code",
   "execution_count": null,
   "metadata": {},
   "outputs": [],
   "source": [
    "print('It\\'s Friday, Friday\\nGotta get down on Friday')"
   ]
  },
  {
   "cell_type": "code",
   "execution_count": null,
   "metadata": {},
   "outputs": [],
   "source": [
    "print(\"Oscar Wild once said: \\\"Be yourself; everyone else is already taken.\\\"\")"
   ]
  },
  {
   "cell_type": "markdown",
   "metadata": {},
   "source": [
    "<p dir=\"rtl\" style=\"text-align: right; direction: rtl; float: right; clear: both;\">\n",
    "לפעמים גם נרצה פשוט לרשום את התו <em>\\</em>. לצורך כך, נשתמש פעמיים בתו הזה.<br/>\n",
    "השוו את שתי המחרוזות הבאות, לדוגמה:\n",
    "</p>"
   ]
  },
  {
   "cell_type": "code",
   "execution_count": null,
   "metadata": {},
   "outputs": [],
   "source": [
    "print(\"The path of the document is C:\\nadia\\tofes161\\advanced_homework.docx\")"
   ]
  },
  {
   "cell_type": "code",
   "execution_count": null,
   "metadata": {},
   "outputs": [],
   "source": [
    "print(\"The path of the document is C:\\\\nadia\\\\tofes161\\\\advanced_homework.docx\")"
   ]
  },
  {
   "cell_type": "markdown",
   "metadata": {},
   "source": [
    "<p dir=\"rtl\" style=\"text-align: right; direction: rtl; float: right; clear: both;\">\n",
    "נוכל גם להבריח את המחרוזת כולה באמצעות התו <code>r</code> <strong>לפני</strong> המחרוזת, במקרה שאנחנו לא רוצים להשתמש בתווים מיוחדים:\n",
    "</p>"
   ]
  },
  {
   "cell_type": "code",
   "execution_count": null,
   "metadata": {},
   "outputs": [],
   "source": [
    "print(r\"The path of the document is C:\\nadia\\tofes161\\advanced_homework.docx\")"
   ]
  },
  {
   "cell_type": "markdown",
   "metadata": {},
   "source": [
    "<div class=\"align-center\" dir=\"rtl\" style=\"display: flex; text-align: right; direction: rtl;\">\n",
    "<div style=\"display: flex; width: 10%; float: right; \" width=\"10%\">\n",
    "<img alt=\"טיפ!\" height=\"50px\" src=\"images/tip.png\" style=\"height: 50px !important;\"/>\n",
    "</div>\n",
    "<div style=\"width: 90%\" width=\"90%\">\n",
    "<p dir=\"rtl\" style=\"text-align: right; direction: rtl;\">\n",
    "            פייתון, בניגוד לבני אדם, מסתכלת על תווים מיוחדים כמו <code dir=\"ltr\" style=\"direction: ltr;\">\\n</code> ו־<code dir=\"ltr\" style=\"direction: ltr;\">\\t</code> כתו אחד.<br/>\n",
    "            נסו לבדוק מה ה־<code>len</code> שלהם כדי להיווכח בעצמכם.\n",
    "        </p>\n",
    "</div>\n",
    "</div>"
   ]
  },
  {
   "cell_type": "markdown",
   "metadata": {},
   "source": [
    "<div class=\"align-center\" dir=\"rtl\" style=\"display: flex; text-align: right; direction: rtl; clear: both;\">\n",
    "<div style=\"display: flex; width: 10%; float: right; clear: both;\" width=\"10%\">\n",
    "<img alt=\"אזהרה!\" height=\"50px\" src=\"images/warning.png\" style=\"height: 50px !important;\"/>\n",
    "</div>\n",
    "<div style=\"width: 90%\" width=\"90%\">\n",
    "<p dir=\"rtl\" style=\"text-align: right; direction: rtl; clear: both;\">\n",
    "            פייתון לא מתמודדת טוב עם התו <em>\\</em> בסוף המחרוזת.<br/>\n",
    "            אם הגעתם למצב שבו זה קורה, פשוט הבריחו את ה־\\ עם \\ נוסף.\n",
    "        </p>\n",
    "</div>\n",
    "</div>"
   ]
  },
  {
   "cell_type": "markdown",
   "metadata": {},
   "source": [
    "<div class=\"align-center\" dir=\"rtl\" style=\"display: flex; text-align: right; direction: rtl; clear: both;\">\n",
    "<div style=\"display: flex; width: 10%; float: right; clear: both;\" width=\"10%\">\n",
    "<img alt=\"תרגול\" height=\"50px\" src=\"images/exercise.svg\" style=\"height: 50px !important;\"/>\n",
    "</div>\n",
    "<div style=\"width: 90%\" width=\"90%\">\n",
    "<p dir=\"rtl\" style=\"text-align: right; direction: rtl; float: right; clear: both;\">\n",
    "<strong>תרגול</strong>:\n",
    "            במשבצת שמתחתיי מצוטט חלק מהנאום המפורסם של מרטין לותר קינג, \"<cite>I Have A Dream</cite>\".<br/>\n",
    "            הדפיסו אותו בעזרת משפט <code>print</code> בודד.\n",
    "        </p>\n",
    "</div>\n",
    "</div>"
   ]
  },
  {
   "cell_type": "markdown",
   "metadata": {},
   "source": [
    "<blockquote>\n",
    "With this faith we will be able to work together, to pray together, to struggle together, to go to jail together, to stand up for freedom together, knowing that we will be free one day.\n",
    "\n",
    "This will be the day when all of God's children will be able to sing with new meaning, \"My country 'tis of thee, sweet land of liberty, of thee I sing. Land where my fathers died, land of the Pilgrims' pride, from every mountainside, let freedom ring.\"\n",
    "</blockquote>"
   ]
  },
  {
   "cell_type": "markdown",
   "metadata": {},
   "source": [
    "## <p dir=\"rtl\" style=\"text-align: right; direction: rtl; float: right; clear: both;\">מחרוזת קשוחה</p>"
   ]
  },
  {
   "cell_type": "markdown",
   "metadata": {},
   "source": [
    "<p dir=\"rtl\" style=\"text-align: right; direction: rtl; float: right; clear: both;\">\n",
    "לפעמים אנחנו פשוט רוצים שפייתון תתמודד עם גוש מלל שהדבקנו.<br/>\n",
    "לפייתון יש פתרון נהדר: היא עובדת גם אם המלל מפוצל לכמה שורות (היא תכניס תווי <code dir=\"ltr\" style=\"direction: ltr;\">\\n</code> ותפצל לשורות בעצמה), וגם במקרים בהם יש תווים כמו <code>'</code> או <code>\"</code>.<br/>\n",
    "פתרון זה נקרא \"מחרוזת קשוחה\" (אוקיי, למען האמת, אף אחד לא קורא לה ככה חוץ ממני), וכדי להשתמש בה יש להקליד 3 פעמים את התו <code>\"</code> או את התו <code>'</code> משני צידי המחרוזת.<br/>\n",
    "</p>"
   ]
  },
  {
   "cell_type": "markdown",
   "metadata": {},
   "source": [
    "<p dir=\"rtl\" style=\"text-align: right; direction: rtl; float: right; clear: both;\">\n",
    "נראה דוגמה:</p>"
   ]
  },
  {
   "cell_type": "code",
   "execution_count": null,
   "metadata": {},
   "outputs": [],
   "source": [
    "friday_song = \"\"\"\n",
    "It's Friday, Friday\n",
    "Gotta get down on Friday\n",
    "Everybody's lookin' forward to the weekend, weekend\n",
    "Friday, Friday\n",
    "Gettin' down on Friday\n",
    "Everybody's lookin' forward to the weekend\n",
    "\n",
    "Partyin', partyin' (Yeah)\n",
    "Partyin', partyin' (Yeah)\n",
    "Fun, fun, fun, fun\n",
    "Lookin' forward to the weekend\n",
    "\n",
    "It's Friday, Friday\n",
    "Gotta get down on Friday\n",
    "Everybody's lookin' forward to the weekend, weekend\n",
    "Friday, Friday\n",
    "Gettin' down on Friday\n",
    "Everybody's lookin' forward to the weekend\n",
    "\"\"\"\n",
    "print(friday_song)"
   ]
  },
  {
   "cell_type": "markdown",
   "metadata": {},
   "source": [
    "<div class=\"align-center\" dir=\"rtl\" style=\"display: flex; text-align: right; direction: rtl; clear: both;\">\n",
    "<div style=\"display: flex; width: 10%; float: right; clear: both;\" width=\"10%\">\n",
    "<img alt=\"תרגול\" height=\"50px\" src=\"images/exercise.svg\" style=\"height: 50px !important;\"/>\n",
    "</div>\n",
    "<div style=\"width: 90%\" width=\"90%\">\n",
    "<p dir=\"rtl\" style=\"text-align: right; direction: rtl; float: right; clear: both;\">\n",
    "<strong>תרגול</strong>:\n",
    "            בשנת 1963 נשא ג'ון קנדי את נאומו \"אני ברלינאי\". הטקסט המלא שלו מופיע <a href=\"https://en.wikisource.org/wiki/Ich_bin_ein_Berliner\">כאן</a>.<br/>\n",
    "            השתמשו בפקודת <code>print</code> בודדת כדי להדפיס את הנאום כולו.\n",
    "        </p>\n",
    "</div>\n",
    "</div>"
   ]
  },
  {
   "cell_type": "markdown",
   "metadata": {},
   "source": [
    "## <p dir=\"rtl\" style=\"text-align: right; direction: rtl; float: right; clear: both;\">מחרוזות מעוצבות</p>"
   ]
  },
  {
   "cell_type": "markdown",
   "metadata": {},
   "source": [
    "<p dir=\"rtl\" style=\"text-align: right; direction: rtl; float: right; clear: both;\">\n",
    "עד כה שרשרנו מחרוזות בזהירות בעזרת סימן השרשור <code>+</code>.<br/>\n",
    "דרך נוספת לעשות זאת היא בעזרת <dfn>fstring</dfn>, או בשמן המלא, <dfn>formatted strings</dfn>.<br/>\n",
    "נראה דוגמה:\n",
    "</p>"
   ]
  },
  {
   "cell_type": "code",
   "execution_count": null,
   "metadata": {},
   "outputs": [],
   "source": [
    "age = 18\n",
    "name = 'Yam'"
   ]
  },
  {
   "cell_type": "markdown",
   "metadata": {},
   "source": [
    "<p dir=\"rtl\" style=\"text-align: right; direction: rtl; float: right; clear: both;\">\n",
    "שרשור כמו שאנחנו מכירים עד כה:\n",
    "</p>"
   ]
  },
  {
   "cell_type": "code",
   "execution_count": null,
   "metadata": {},
   "outputs": [],
   "source": [
    "print(\"My age is \" + str(age) + \" and my name is \" + name + \".\")"
   ]
  },
  {
   "cell_type": "markdown",
   "metadata": {},
   "source": [
    "<p dir=\"rtl\" style=\"text-align: right; direction: rtl; float: right; clear: both;\">\n",
    "שימוש ב־<em>fstrings</em>:\n",
    "</p>"
   ]
  },
  {
   "cell_type": "code",
   "execution_count": null,
   "metadata": {},
   "outputs": [],
   "source": [
    "print(f\"My age is {age} and my name is {name}.\")"
   ]
  },
  {
   "cell_type": "markdown",
   "metadata": {},
   "source": [
    "<p dir=\"rtl\" style=\"text-align: right; direction: rtl; float: right; clear: both;\">\n",
    "כדאי לשים לב לנקודות הבאות:\n",
    "</p>"
   ]
  },
  {
   "cell_type": "markdown",
   "metadata": {},
   "source": [
    "<ul dir=\"rtl\" style=\"text-align: right; direction: rtl; float: right; clear: both;\">\n",
    "<li>כדי להשתמש ב־fstrings, הוספנו את התו f לפני המחרוזת.</li>\n",
    "<li>כדי לציין שם של משתנה שאנחנו רוצים להדפיס, השתמשנו בסוגריים מסולסלים סביב שם המשתנה.</li>\n",
    "<li>בשימוש ב־fstrings, לא היינו צריכים לבצע המרה לפני שהשתמשנו במשתנה מסוג שלם.</li>\n",
    "<li>מן הסתם, ניתן להשתמש ב־fstrings גם למטרות נוספות מלבד הדפסה.</li>\n",
    "</ul>"
   ]
  },
  {
   "cell_type": "markdown",
   "metadata": {},
   "source": [
    "## <p dir=\"rtl\" style=\"text-align: right; direction: rtl; float: right; clear: both;\">פעולות על מחרוזות</p>"
   ]
  },
  {
   "cell_type": "markdown",
   "metadata": {},
   "source": [
    "### <p dir=\"rtl\" style=\"text-align: right; direction: rtl; float: right;\">הגדרה</p>"
   ]
  },
  {
   "cell_type": "markdown",
   "metadata": {},
   "source": [
    "<p dir=\"rtl\" style=\"text-align: right; direction: rtl; float: right; clear: both;\">\n",
    "עד כה למדנו פונקציות שעובדות על סוגים שונים של נתונים. אנחנו קוראים להן בשמן, ואז מעבירים להן את הנתון שעליו רוצים לפעול.<br/>\n",
    "<code>type</code>, לדוגמה, יודעת לעבוד על כל נתון שנעביר לה ולהחזיר לנו את הסוג שלו.<br/>\n",
    "רעיון דומה בתכנות נקרא \"<dfn>פעולה</dfn>\", או <dfn>method</dfn> (מתודה).<br/>\n",
    "בניגוד לפונקציות, שם הפעולה משויך לסוג הנתון שעליו אנחנו הולכים להפעיל את הפעולה.<br/>\n",
    "</p>"
   ]
  },
  {
   "cell_type": "markdown",
   "metadata": {},
   "source": [
    "<p dir=\"rtl\" style=\"text-align: right; direction: rtl; float: right; clear: both;\">\n",
    "בעתיד נלמד לעומק יותר על ההבדלים בין פונקציה לפעולה, והם יישמעו לנו מופשטים פחות. עד אז אתם פטורים מלדעת את הטריוויה הזו.<br/>\n",
    "דבר שכדאי לדעת הוא שהפעולות שנראה עכשיו עובדות <em>רק</em> על מחרוזות, ולא על טיפוסים אחרים.<br/>\n",
    "</p>"
   ]
  },
  {
   "cell_type": "markdown",
   "metadata": {},
   "source": [
    "<p dir=\"rtl\" style=\"text-align: right; direction: rtl; float: right; clear: both;\">\n",
    "    בשורות הבאות, נשחק עם דוגמאות של פעולות ונראה מה הן עושות בתאים שיבואו לאחר מכן.<br/>\n",
    "    אם נבחין בתא שיש צורך להסביר מה קרה בו – יצורף הסבר מעל התא.\n",
    "</p>"
   ]
  },
  {
   "cell_type": "markdown",
   "metadata": {},
   "source": [
    "### <p dir=\"rtl\" style=\"text-align: right; direction: rtl; float: right;\">לנקות רעשים מסביב</p>"
   ]
  },
  {
   "cell_type": "markdown",
   "metadata": {},
   "source": [
    "<p dir=\"rtl\" style=\"text-align: right; direction: rtl; float: right; clear: both;\">\n",
    "    פעמים רבות, בין אם בקבלת קלט מהמשתמש ובין אם במחרוזות שקיבלנו ממקור חיצוני כלשהו, נתקל בתווים מיותרים שמקיפים את המחרוזת שלנו.<br/>\n",
    "    הפעולה <dfn>strip</dfn> עוזרת לנו להסיר אותם.\n",
    "</p>"
   ]
  },
  {
   "cell_type": "markdown",
   "metadata": {},
   "source": [
    "<p dir=\"rtl\" style=\"text-align: right; direction: rtl; float: right; clear: both;\">\n",
    "    בצורתה הפשוטה, כשלא מעבירים לה ארגומנטים, היא תסיר את כל הרווחים, האנטרים והטאבים שנמצאים סביב המחרוזת:\n",
    "</p>"
   ]
  },
  {
   "cell_type": "code",
   "execution_count": null,
   "metadata": {},
   "outputs": [],
   "source": [
    "# נסו להכניס הרבה רווחים אחרי או לפני שם המשתמש\n",
    "username = input(\"Please enter your user: \")\n",
    "username = username.strip()\n",
    "print(f\"This string is: {username}.\")"
   ]
  },
  {
   "cell_type": "markdown",
   "metadata": {},
   "source": [
    "<p dir=\"rtl\" style=\"text-align: right; direction: rtl; float: right; clear: both;\">\n",
    "     כאשר מעבירים לה מחרוזת כארגומנט, היא תבצע את האלגוריתם הבא:\n",
    "</p>"
   ]
  },
  {
   "cell_type": "markdown",
   "metadata": {},
   "source": [
    "<ol dir=\"rtl\" style=\"text-align: right; direction: rtl; float: right; clear: both;\">\n",
    "<li>עבור על כל תו מתחילת המחרוזת:\n",
    "        <ul>\n",
    "<li>כל עוד התו נמצא בארגומנט – מחק אותו והמשך</li>\n",
    "</ul>\n",
    "</li>\n",
    "<li>עבור על כל תו מסוף המחרוזת:\n",
    "        <ul>\n",
    "<li>כל עוד התו נמצא בארגומנט – מחק אותו והמשך</li>\n",
    "</ul>\n",
    "</li>\n",
    "</ol>"
   ]
  },
  {
   "cell_type": "code",
   "execution_count": null,
   "metadata": {},
   "outputs": [],
   "source": [
    "strange_string = '!@#$%!!!^&This! Is! Sparta!!!!!!!!!&^%$!!!#@!'\n",
    "print(strange_string.strip('~!@#$%^&*'))"
   ]
  },
  {
   "cell_type": "markdown",
   "metadata": {},
   "source": [
    "### <p dir=\"rtl\" style=\"text-align: right; direction: rtl; float: right;\">מְצִיאוֹת וּמְצִיאוֹת</p>"
   ]
  },
  {
   "cell_type": "code",
   "execution_count": null,
   "metadata": {},
   "outputs": [],
   "source": [
    "strange = \"This is a very long string which contains strange words, like ululation and lollygag.\""
   ]
  },
  {
   "cell_type": "markdown",
   "metadata": {},
   "source": [
    "<p dir=\"rtl\" style=\"text-align: right; direction: rtl; float: right; clear: both;\">\n",
    "    נמצא את המקומות שבהם נמצאות המילים המוזרות.<br/>\n",
    "    הפעולות <em>find</em> ו־<em>index</em> יחזירו לנו את המיקום (האינדקס) של תת־מחרוזת בתוך מחרוזת אחרת:\n",
    "</p>"
   ]
  },
  {
   "cell_type": "code",
   "execution_count": null,
   "metadata": {},
   "outputs": [],
   "source": [
    "strange.find(\"ululation\")"
   ]
  },
  {
   "cell_type": "code",
   "execution_count": null,
   "metadata": {},
   "outputs": [],
   "source": [
    "strange.find(\"lollygag\")"
   ]
  },
  {
   "cell_type": "code",
   "execution_count": null,
   "metadata": {},
   "outputs": [],
   "source": [
    "strange.index(\"lollygag\")"
   ]
  },
  {
   "cell_type": "markdown",
   "metadata": {},
   "source": [
    "<p dir=\"rtl\" style=\"text-align: right; direction: rtl; float: right; clear: both;\">\n",
    "אז רגע, למה צריך 2 מתודות אם הן עושות אותו דבר?<br/>\n",
    "    אם המחרוזת לא נמצאה, <em dir=\"ltr\" style=\"direction: ltr\">find</em> תחזיר לנו <samp dir=\"ltr\" style=\"direction: ltr\">-1</samp>, בעוד ש־<em dir=\"ltr\" style=\"direction: ltr\">index</em> תחזיר לנו שגיאה. \n",
    "</p>"
   ]
  },
  {
   "cell_type": "code",
   "execution_count": null,
   "metadata": {},
   "outputs": [],
   "source": [
    "strange.find('luculent')"
   ]
  },
  {
   "cell_type": "code",
   "execution_count": null,
   "metadata": {},
   "outputs": [],
   "source": [
    "strange.index('luculent')"
   ]
  },
  {
   "cell_type": "markdown",
   "metadata": {},
   "source": [
    "<div class=\"align-center\" dir=\"rtl\" style=\"display: flex; text-align: right; direction: rtl; clear: both;\">\n",
    "<div style=\"display: flex; width: 10%; float: right; clear: both;\" width=\"10%\">\n",
    "<img alt=\"אזהרה!\" height=\"50px\" src=\"images/warning.png\" style=\"height: 50px !important;\"/>\n",
    "</div>\n",
    "<div style=\"width: 90%\" width=\"90%\">\n",
    "<p dir=\"rtl\" style=\"text-align: right; direction: rtl; clear: both;\">\n",
    "            הפעולות הללו יחזירו רק את התוצאה הראשונה.\n",
    "        </p>\n",
    "</div>\n",
    "</div>"
   ]
  },
  {
   "cell_type": "markdown",
   "metadata": {},
   "source": [
    "<div class=\"align-center\" dir=\"rtl\" style=\"display: flex; text-align: right; direction: rtl; clear: both;\">\n",
    "<div style=\"display: flex; width: 10%; float: right; clear: both;\" width=\"10%\">\n",
    "<img alt=\"אזהרה!\" height=\"50px\" src=\"images/warning.png\" style=\"height: 50px !important;\"/>\n",
    "</div>\n",
    "<div style=\"width: 90%\" width=\"90%\">\n",
    "<p dir=\"rtl\" style=\"text-align: right; direction: rtl; clear: both;\">\n",
    "            אינטואיטיבית, נראה שנכון תמיד להשתמש בפעולה <em dir=\"ltr\" style=\"direction: ltr;\">find</em>, אך אליה וקוץ בה.<br/>\n",
    "            כשאנחנו בטוחים שאמורה לחזור תוצאה, עדיף להשתמש ב־<em dir=\"ltr\" style=\"direction: ltr;\">index</em> כדי לדעת מאיפה מגיעה השגיאה בתוכנית שלנו ולטפל בה במהירות.\n",
    "        </p>\n",
    "</div>\n",
    "</div>"
   ]
  },
  {
   "cell_type": "markdown",
   "metadata": {},
   "source": [
    "<div class=\"align-center\" dir=\"rtl\" style=\"display: flex; text-align: right; direction: rtl; clear: both;\">\n",
    "<div style=\"display: flex; width: 10%; float: right; clear: both;\" width=\"10%\">\n",
    "<img alt=\"תרגול\" height=\"50px\" src=\"images/exercise.svg\" style=\"height: 50px !important;\"/>\n",
    "</div>\n",
    "<div style=\"width: 90%\" width=\"90%\">\n",
    "<p dir=\"rtl\" style=\"text-align: right; direction: rtl; float: right; clear: both;\">\n",
    "<strong>תרגול</strong>:\n",
    "            קבלו מהמשתמש שתי מחרוזות.<br/>\n",
    "            אם המחרוזת השנייה נמצאת לפני אמצע המחרוזת הראשונה, הדפיסו \"<span dir=\"ltr\">Yes!</span>\"<br/>\n",
    "            אם המחרוזת השנייה לא נמצאת לפני אמצע המחרוזת הראשונה, הדפיסו \"<span dir=\"ltr\">No!</span>\"<br/>\n",
    "            בונוס לגיבורים ולגיבורות: נסו להשתמש בשתי הפעולות, <em>index</em> ו־<em>find</em>.\n",
    "        </p>\n",
    "</div>\n",
    "</div>"
   ]
  },
  {
   "cell_type": "markdown",
   "metadata": {},
   "source": [
    "### <p dir=\"rtl\" style=\"text-align: right; direction: rtl; float: right;\">משחקים עם גודלי אותיות</p>"
   ]
  },
  {
   "cell_type": "code",
   "execution_count": null,
   "metadata": {},
   "outputs": [],
   "source": [
    "test1 = \"HeLlO WoRlD 123!\""
   ]
  },
  {
   "cell_type": "code",
   "execution_count": null,
   "metadata": {},
   "outputs": [],
   "source": [
    "test1"
   ]
  },
  {
   "cell_type": "code",
   "execution_count": null,
   "metadata": {},
   "outputs": [],
   "source": [
    "test1.upper()"
   ]
  },
  {
   "cell_type": "code",
   "execution_count": null,
   "metadata": {},
   "outputs": [],
   "source": [
    "test1.lower()"
   ]
  },
  {
   "cell_type": "code",
   "execution_count": null,
   "metadata": {},
   "outputs": [],
   "source": [
    "test1.capitalize()  # רק האות הראשונה תהיה גדולה"
   ]
  },
  {
   "cell_type": "code",
   "execution_count": null,
   "metadata": {},
   "outputs": [],
   "source": [
    "test1.title()  # מגדיל את האות הראשונה בכל מילה"
   ]
  },
  {
   "cell_type": "markdown",
   "metadata": {},
   "source": [
    "<p dir=\"rtl\" style=\"text-align: right; direction: rtl; float: right; clear: both;\">\n",
    "חשוב לזכור שהפעולות לא משנות את המשתנה.<br/>\n",
    "אם רוצים לשנות אותו, יש להשתמש בהשמה.\n",
    "</p>"
   ]
  },
  {
   "cell_type": "code",
   "execution_count": null,
   "metadata": {},
   "outputs": [],
   "source": [
    "test1"
   ]
  },
  {
   "cell_type": "markdown",
   "metadata": {},
   "source": [
    "### <p dir=\"rtl\" style=\"text-align: right; direction: rtl; float: right;\">סופרים סתם</p>"
   ]
  },
  {
   "cell_type": "markdown",
   "metadata": {},
   "source": [
    "<p dir=\"rtl\" style=\"text-align: right; direction: rtl; float: right; clear: both;\">\n",
    "אם נרצה לבדוק כמה פעמים תת־מחרוזת נמצאת בתוך המחרוזת שלנו, נשתמש בפעולה <dfn>count</dfn>.<br/>\n",
    "ננסה להבין כמה פעמים מילים מעניינות הופיעו בנאום גטיסברג המפורסם:\n",
    "</p>"
   ]
  },
  {
   "cell_type": "code",
   "execution_count": null,
   "metadata": {},
   "outputs": [],
   "source": [
    "gettysburg_address = \"\"\"\n",
    "Four score and seven years ago our fathers brought forth, on this continent, a new nation, conceived in Liberty, and dedicated to the proposition that all men are created equal.\n",
    "Now we are engaged in a great civil war, testing whether that nation, or any nation so conceived and so dedicated, can long endure. We are met on a great battle-field of that war. We have come to dedicate a portion of that field, as a final resting place for those who here gave their lives that that nation might live. It is altogether fitting and proper that we should do this.\n",
    "But, in a larger sense, we cannot dedicate—we cannot consecrate—we cannot hallow—this ground. The brave men, living and dead, who struggled here, have consecrated it, far above our poor power to add or detract. The world will little note, nor long remember what we say here, but it can never forget what they did here. It is for us the living, rather, to be dedicated here to the unfinished work which they who fought here have thus far so nobly advanced. It is rather for us to be here dedicated to the great task remaining before us—that from these honored dead we take increased devotion to that cause for which they here gave the last full measure of devotion—that we here highly resolve that these dead shall not have died in vain—that this nation, under God, shall have a new birth of freedom—and that government of the people, by the people, for the people, shall not perish from the earth. \n",
    "\"\"\""
   ]
  },
  {
   "cell_type": "markdown",
   "metadata": {},
   "source": [
    "<p dir=\"rtl\" style=\"text-align: right; direction: rtl; float: right; clear: both;\">\n",
    "ראשית, נעשה טריק מוכר. נשתמש בפעולה <em dir=\"ltr\" style=\"direction: ltr\">lower</em> כדי להעיף את האותיות הגדולות.<br/>\n",
    "בצורה הזו, <em>count</em> תספור לנו גם את המילים שנכתבו באותיות רישיות:\n",
    "</p>"
   ]
  },
  {
   "cell_type": "code",
   "execution_count": null,
   "metadata": {},
   "outputs": [],
   "source": [
    "gettysburg_address = gettysburg_address.lower()"
   ]
  },
  {
   "cell_type": "markdown",
   "metadata": {},
   "source": [
    "<p dir=\"rtl\" style=\"text-align: right; direction: rtl; float: right; clear: both;\">\n",
    "עכשיו נבדוק כמה פעמים השתמש לינקולן בכל אחת מהמילים: we, nation ו־dedicated.</p>"
   ]
  },
  {
   "cell_type": "code",
   "execution_count": null,
   "metadata": {},
   "outputs": [],
   "source": [
    "gettysburg_address.count('we')"
   ]
  },
  {
   "cell_type": "code",
   "execution_count": null,
   "metadata": {},
   "outputs": [],
   "source": [
    "gettysburg_address.count('dedicated')"
   ]
  },
  {
   "cell_type": "code",
   "execution_count": null,
   "metadata": {},
   "outputs": [],
   "source": [
    "gettysburg_address.count('nation')"
   ]
  },
  {
   "cell_type": "markdown",
   "metadata": {},
   "source": [
    "### <p dir=\"rtl\" style=\"text-align: right; direction: rtl; float: right;\">החלפה</p>"
   ]
  },
  {
   "cell_type": "markdown",
   "metadata": {},
   "source": [
    "<p dir=\"rtl\" style=\"text-align: right; direction: rtl; float: right; clear: both;\">\n",
    "פעולה מאוד נפוצה היא <dfn>replace</dfn>, שעוזרת לנו להחליף את כל המופעים של תת־מחרוזת אחת באחרת.<br/>\n",
    "לדוגמה, ניקח את הברידג' השני בשיר הנפלא של הביטלס, <cite>Hey Jude</cite>, ונחליף את כל המופעים של <em>Jude</em> ב־<em>Dude</em>: \n",
    "</p>"
   ]
  },
  {
   "cell_type": "code",
   "execution_count": null,
   "metadata": {},
   "outputs": [],
   "source": [
    "lyrics = \"\"\"So let it out and let it in, hey Jude, begin\n",
    "You're waiting for someone to perform with\n",
    "And don't you know that it's just you, hey Jude, you'll do\n",
    "The movement you need is on your shoulder\n",
    "Na na na na na na na na na yeah\"\"\""
   ]
  },
  {
   "cell_type": "code",
   "execution_count": null,
   "metadata": {},
   "outputs": [],
   "source": [
    "lyrics.replace('Jude', 'Dude')"
   ]
  },
  {
   "cell_type": "markdown",
   "metadata": {},
   "source": [
    "<p dir=\"rtl\" style=\"text-align: right; direction: rtl; float: right; clear: both;\">\n",
    "שימו לב לתווים המוזרים באמצע. אלו ירידות השורה שעליהן למדנו בשיעור. אל דאגה – הן לא יופיעו כשנדפיס את המחרוזת.\n",
    "</p>"
   ]
  },
  {
   "cell_type": "code",
   "execution_count": null,
   "metadata": {},
   "outputs": [],
   "source": [
    "print(lyrics.replace('Jude', 'Dude'))"
   ]
  },
  {
   "cell_type": "markdown",
   "metadata": {},
   "source": [
    "<p dir=\"rtl\" style=\"text-align: right; direction: rtl; float: right; clear: both;\">\n",
    "רק נזכיר שהפעולה לא משנה את המחרוזת עצמה, וכדי לשנות אותה נצטרך לבצע השמה.\n",
    "</p>"
   ]
  },
  {
   "cell_type": "code",
   "execution_count": null,
   "metadata": {
    "scrolled": true
   },
   "outputs": [],
   "source": [
    "lyrics = \"\"\"So let it out and let it in, hey Jude, begin\n",
    "You're waiting for someone to perform with\n",
    "And don't you know that it's just you, hey Jude, you'll do\n",
    "The movement you need is on your shoulder\n",
    "Na na na na na na na na na yeah\"\"\"\n",
    "\n",
    "print(\"Before: \")\n",
    "lyrics.replace('Jude', 'Dude')\n",
    "print(lyrics)\n",
    "\n",
    "lyrics = lyrics.replace('Jude', 'Dude')\n",
    "print('-' * 50)\n",
    "print(\"After: \")\n",
    "print(lyrics)"
   ]
  },
  {
   "cell_type": "markdown",
   "metadata": {},
   "source": [
    "### <p dir=\"rtl\" style=\"text-align: right; direction: rtl; float: right;\">הפרד ומשול</p>"
   ]
  },
  {
   "cell_type": "markdown",
   "metadata": {},
   "source": [
    "<p dir=\"rtl\" style=\"text-align: right; direction: rtl; float: right; clear: both;\">\n",
    "לעיתים קרובות נרצה להפריד את הטקסט שלנו לחלקים.<br/>\n",
    "הפעולה <dfn>split</dfn> מאפשרת לנו לעשות את זה, ולקבל רשימה של האיברים המופרדים:\n",
    "</p>"
   ]
  },
  {
   "cell_type": "code",
   "execution_count": null,
   "metadata": {},
   "outputs": [],
   "source": [
    "i_like_to_eat = 'chocolate, fudge, cream, cookies, banana, hummus'"
   ]
  },
  {
   "cell_type": "code",
   "execution_count": null,
   "metadata": {},
   "outputs": [],
   "source": [
    "i_like_to_eat.split(', ')"
   ]
  },
  {
   "cell_type": "markdown",
   "metadata": {},
   "source": [
    "<p dir=\"rtl\" style=\"text-align: right; direction: rtl; float: right; clear: both;\">\n",
    "בסוגריים כתבנו מה אנחנו רוצים שיהיה התו, או סדרת התווים, שתהיה אחראית להפרדה בין האיברים.<br/>\n",
    "שימו לב שקיבלנו רשימה לכל דבר:\n",
    "</p>"
   ]
  },
  {
   "cell_type": "code",
   "execution_count": null,
   "metadata": {},
   "outputs": [],
   "source": [
    "type(i_like_to_eat.split(', '))"
   ]
  },
  {
   "cell_type": "code",
   "execution_count": null,
   "metadata": {},
   "outputs": [],
   "source": [
    "i_like_to_eat.split(', ')[0]"
   ]
  },
  {
   "cell_type": "markdown",
   "metadata": {},
   "source": [
    "<p dir=\"rtl\" style=\"text-align: right; direction: rtl; float: right; clear: both;\">\n",
    "דרך נוספת להשתמש ב־<em>split</em> היא לא להעביר לה כלום ברשימת הארגומנטים.<br/>\n",
    "במקרה כזה, <i>split</i> תפצל לנו את המחרוזת לפי רווחים, שורות חדשות וטאבים.\n",
    "</p>"
   ]
  },
  {
   "cell_type": "code",
   "execution_count": null,
   "metadata": {},
   "outputs": [],
   "source": [
    "some_paragraph = \"\"\"\n",
    "Gadsby is a 1939 novel by Ernest Vincent Wright written as a lipogram, which does not include words that contain the letter E. The plot revolves around the dying fictional city of Branton Hills, which is revitalized as a result of the efforts of protagonist John Gadsby and a youth group he organizes.\n",
    "Though vanity published and little noticed in its time, the book is a favourite of fans of constrained writing and is a sought-after rarity among some book collectors. Later editions of the book have sometimes carried the alternative subtitle 50,000 Word Novel Without the Letter \"E\".\n",
    "Despite Wright's claim, published versions of the book may contain a handful of uses of the letter \"e\". The version on Project Gutenberg, for example, contains \"the\" three times and \"officers\" once.\n",
    "\"\"\""
   ]
  },
  {
   "cell_type": "code",
   "execution_count": null,
   "metadata": {},
   "outputs": [],
   "source": [
    "some_paragraph.split()"
   ]
  },
  {
   "cell_type": "markdown",
   "metadata": {},
   "source": [
    "<p dir=\"rtl\" style=\"text-align: right; direction: rtl; float: right; clear: both;\">\n",
    "הפעולה הזו שימושית בטירוף ונראה אותה עוד הרבה.<br/>\n",
    "היא מאפשרת לנו לקבל מידע רב על כמות גדולה של מלל.\n",
    "</p>"
   ]
  },
  {
   "cell_type": "markdown",
   "metadata": {},
   "source": [
    "### <p dir=\"rtl\" style=\"text-align: right; direction: rtl; float: right;\">חבר ומשול</p>"
   ]
  },
  {
   "cell_type": "markdown",
   "metadata": {},
   "source": [
    "<p dir=\"rtl\" style=\"text-align: right; direction: rtl; float: right; clear: both;\">\n",
    "לפעמים אנחנו רוצים לעשות את הפעולה ההפוכה מפיצול – איחוד!<br/>\n",
    "הפעולה <dfn>join</dfn> מקבלת כארגומנט רשימה, ופועלת על המחרוזת שתחבר בין איבר לאיבר.<br/>\n",
    "נראה דוגמה: \n",
    "</p>"
   ]
  },
  {
   "cell_type": "code",
   "execution_count": null,
   "metadata": {},
   "outputs": [],
   "source": [
    "i_love_to_eat = ['chocolate', 'fudge', 'cream', 'cookies', 'banana', 'hummus']\n",
    "thing_to_join_by = \", \"\n",
    "thing_to_join_by.join(i_love_to_eat)"
   ]
  },
  {
   "cell_type": "markdown",
   "metadata": {},
   "source": [
    "<p dir=\"rtl\" style=\"text-align: right; direction: rtl; float: right; clear: both;\">\n",
    "ואם אנחנו כבר שם, קצת כבוד לספר הישראלי, הכבש השישה־עשר:\n",
    "</p>"
   ]
  },
  {
   "cell_type": "code",
   "execution_count": null,
   "metadata": {},
   "outputs": [],
   "source": [
    "what_i_love = [\"שוקולד\", \"עוגות גבינה\", \"ארטיק\", \"סוכריות\", \"תות גינה\"]\n",
    "vav_ha_hibur = ' ו'\n",
    "song = \"אני אוהב \" + vav_ha_hibur.join(what_i_love)\n",
    "print(song)"
   ]
  },
  {
   "cell_type": "markdown",
   "metadata": {},
   "source": [
    "### <p dir=\"rtl\" style=\"text-align: right; direction: rtl; float: right;\">אני, בוליאני</p>"
   ]
  },
  {
   "cell_type": "markdown",
   "metadata": {},
   "source": [
    "<p dir=\"rtl\" style=\"text-align: right; direction: rtl; float: right; clear: both;\">\n",
    "אחד הטריקים השימושיים הוא לבדוק אם המחרוזת שלנו מתחילה או מסתיימת בתת־מחרוזת אחרת.\n",
    "</p>"
   ]
  },
  {
   "cell_type": "code",
   "execution_count": null,
   "metadata": {},
   "outputs": [],
   "source": [
    "some_test = \"Hello, my name is Inigo Montoya, you killed my father, prepare to die!\""
   ]
  },
  {
   "cell_type": "code",
   "execution_count": null,
   "metadata": {},
   "outputs": [],
   "source": [
    "is_welcoming = some_test.startswith('Hello,')\n",
    "print(is_welcoming)"
   ]
  },
  {
   "cell_type": "code",
   "execution_count": null,
   "metadata": {},
   "outputs": [],
   "source": [
    "is_shouting = some_test.endswith('!')\n",
    "print(is_shouting)"
   ]
  },
  {
   "cell_type": "code",
   "execution_count": null,
   "metadata": {},
   "outputs": [],
   "source": [
    "is_goodbye = some_test.endswith(\"Goodbye, my kind sir.\")\n",
    "print(is_goodbye)"
   ]
  },
  {
   "cell_type": "code",
   "execution_count": null,
   "metadata": {},
   "outputs": [],
   "source": [
    "address = \"Python Street 5, Hadera, Israel\"\n",
    "print(\"Does the user live in Python Street?... \" + str(address.startswith('Python Street')))\n",
    "print(\"Does the user live in Scotland?... \" + str(address.endswith('Scotland')))"
   ]
  },
  {
   "cell_type": "markdown",
   "metadata": {},
   "source": [
    "<div class=\"align-center\" dir=\"rtl\" style=\"display: flex; text-align: right; direction: rtl; clear: both;\">\n",
    "<div style=\"display: flex; width: 10%; float: right; clear: both;\" width=\"10%\">\n",
    "<img alt=\"תרגול\" height=\"50px\" src=\"images/exercise.svg\" style=\"height: 50px !important;\"/>\n",
    "</div>\n",
    "<div style=\"width: 90%\" width=\"90%\">\n",
    "<p dir=\"rtl\" style=\"text-align: right; direction: rtl; float: right; clear: both;\">\n",
    "<strong>תרגול</strong>:\n",
    "            קבלו מהמשתמש נתיב לקובץ מסוים שנמצא על המחשב שלו, ובדקו האם הסיומת שלו היא <i dir=\"ltr\" style=\"direction: ltr\">.docx</i><br/>\n",
    "            הדפיסו לו הודעה מתאימה.<br/>\n",
    "            דוגמה לנתיב תקין: <i>C:\\My Documents\\Resume.docx</i>.\n",
    "        </p>\n",
    "</div>\n",
    "</div>"
   ]
  },
  {
   "cell_type": "markdown",
   "metadata": {},
   "source": [
    "<div class=\"align-center\" dir=\"rtl\" style=\"display: flex; text-align: right; direction: rtl; clear: both;\">\n",
    "<div style=\"display: flex; width: 10%; float: right; clear: both;\" width=\"10%\">\n",
    "<img alt=\"אזהרה!\" height=\"50px\" src=\"images/warning.png\" style=\"height: 50px !important;\"/>\n",
    "</div>\n",
    "<div style=\"width: 90%\" width=\"90%\">\n",
    "<p dir=\"rtl\" style=\"text-align: right; direction: rtl; clear: both;\">\n",
    "            יש נטייה לשכוח את ה־<em>s</em> אחרי ה־<em>end</em> או את ה־<em>start</em> ב־<em>end<strong>s</strong>with</em> וב־<em>start<strong>s</strong>with</em>.\n",
    "        </p>\n",
    "</div>\n",
    "</div>"
   ]
  },
  {
   "cell_type": "markdown",
   "metadata": {},
   "source": [
    "<p dir=\"rtl\" style=\"text-align: right; direction: rtl; float: right; clear: both;\">\n",
    "נוכל גם לבדוק אם המחרוזת שלנו היא מסוג מסוים:\n",
    "</p>"
   ]
  },
  {
   "cell_type": "code",
   "execution_count": null,
   "metadata": {},
   "outputs": [],
   "source": [
    "test2 = \"HELLO WORLD\"\n",
    "print(\"test2.isalnum(): \" + str(test2.isalnum()))\n",
    "print(\"test2.isalpha(): \" + str(test2.isalpha()))\n",
    "print(\"test2.isdecimal(): \" + str(test2.isdecimal()))"
   ]
  },
  {
   "cell_type": "code",
   "execution_count": null,
   "metadata": {},
   "outputs": [],
   "source": [
    "test3 = \"12345\"\n",
    "print(\"test3.isalnum(): \" + str(test3.isalnum()))\n",
    "print(\"test3.isalpha(): \" + str(test3.isalpha()))\n",
    "print(\"test3.isdecimal(): \" + str(test3.isdecimal()))"
   ]
  },
  {
   "cell_type": "code",
   "execution_count": null,
   "metadata": {},
   "outputs": [],
   "source": [
    "test4 = \"HELLOWORLD\"\n",
    "print(\"test4.isalnum(): \" + str(test4.isalnum()))\n",
    "print(\"test4.isalpha(): \" + str(test4.isalpha()))\n",
    "print(\"test4.isdecimal(): \" + str(test4.isdecimal()))"
   ]
  },
  {
   "cell_type": "code",
   "execution_count": null,
   "metadata": {},
   "outputs": [],
   "source": [
    "test5 = \"ABC123\"\n",
    "print(\"test5.isalnum(): \" + str(test5.isalnum()))\n",
    "print(\"test5.isalpha(): \" + str(test5.isalpha()))\n",
    "print(\"test5.isdecimal(): \" + str(test5.isdecimal()))"
   ]
  },
  {
   "cell_type": "markdown",
   "metadata": {},
   "source": [
    "## <p dir=\"rtl\" style=\"align: right; direction: rtl; float: right; clear: both;\">תרגול</p>"
   ]
  },
  {
   "cell_type": "markdown",
   "metadata": {},
   "source": [
    "### <p dir=\"rtl\" style=\"align: right; direction: rtl; float: right; clear: both;\">נאום גטיסברג</p>"
   ]
  },
  {
   "cell_type": "markdown",
   "metadata": {},
   "source": [
    "<p dir=\"rtl\" style=\"text-align: right; direction: rtl; float: right; clear: both;\">\n",
    "השתמשו בטקסט של נאום גטיסברג ובדקו כמה מילים יש בו.<br/>\n",
    "בדקו כמה פעמים הופיעו המילים we, here, great, nation ו־dedicated, וחשבו מה שיעורן באחוזים בטקסט כולו. \n",
    "</p>"
   ]
  },
  {
   "cell_type": "code",
   "execution_count": null,
   "metadata": {},
   "outputs": [],
   "source": [
    "gettysburg_address = \"\"\"\n",
    "Four score and seven years ago our fathers brought forth, on this continent, a new nation, conceived in Liberty, and dedicated to the proposition that all men are created equal.\n",
    "Now we are engaged in a great civil war, testing whether that nation, or any nation so conceived and so dedicated, can long endure. We are met on a great battle-field of that war. We have come to dedicate a portion of that field, as a final resting place for those who here gave their lives that that nation might live. It is altogether fitting and proper that we should do this.\n",
    "But, in a larger sense, we cannot dedicate—we cannot consecrate—we cannot hallow—this ground. The brave men, living and dead, who struggled here, have consecrated it, far above our poor power to add or detract. The world will little note, nor long remember what we say here, but it can never forget what they did here. It is for us the living, rather, to be dedicated here to the unfinished work which they who fought here have thus far so nobly advanced. It is rather for us to be here dedicated to the great task remaining before us—that from these honored dead we take increased devotion to that cause for which they here gave the last full measure of devotion—that we here highly resolve that these dead shall not have died in vain—that this nation, under God, shall have a new birth of freedom—and that government of the people, by the people, for the people, shall not perish from the earth. \n",
    "\"\"\""
   ]
  },
  {
   "cell_type": "markdown",
   "metadata": {},
   "source": [
    "<p dir=\"rtl\" style=\"text-align: right; direction: rtl; float: right; clear: both;\">\n",
    "כדי לחשב את שיעורן באחוזים: סִכְמוּ את מספר הפעמים שכל מילה מופיעה בטקסט. הכפילו מספר זה במאה וחלקו בסך המילים בטקסט.\n",
    "</p>"
   ]
  },
  {
   "cell_type": "markdown",
   "metadata": {},
   "source": [
    "### <p dir=\"rtl\" style=\"align: right; direction: rtl; float: right; clear: both;\">חצי חיים</p>"
   ]
  },
  {
   "cell_type": "markdown",
   "metadata": {},
   "source": [
    "<p dir=\"rtl\" style=\"text-align: right; direction: rtl; float: right; clear: both;\">\n",
    "קבלו מהמשתמש מילה מסוימת ומשפט.<br/>\n",
    "בדקו שתחילת המילה מופיעה לפני החצי של המשפט.<br/>\n",
    "היעזרו בדוגמאות כדי לבדוק את עצמכם.\n",
    "</p>"
   ]
  },
  {
   "cell_type": "markdown",
   "metadata": {},
   "source": [
    "<ul dir=\"rtl\" style=\"text-align: right; direction: rtl; float: right; clear: both;\">\n",
    "<li>המילה Love במשפט I Love Chocolate תחזיר <samp>True</samp>, כיוון שהמילה Love מתחילה במקום 2, ואורך חצי המשפט הוא 8.</li>\n",
    "<li>המילה salad במשפט This is the best salad in town תחזיר <samp>False</samp>, כיוון שהמילה salad מתחילה במקום 17, ואורך חצי המשפט הוא 15.</li>\n",
    "<li>המילה Meow במשפט \"All you need is Love\" תחזיר <samp>False</samp>, כיוון שהמילה Meow לא נמצאת בשירים של הביטלס (וחבל שכך).</li>\n",
    "</ul>"
   ]
  },
  {
   "cell_type": "markdown",
   "metadata": {},
   "source": [
    "### <p dir=\"rtl\" style=\"align: right; direction: rtl; float: right; clear: both;\">שיחדש</p>"
   ]
  },
  {
   "cell_type": "markdown",
   "metadata": {},
   "source": [
    "<p dir=\"rtl\" style=\"text-align: right; direction: rtl; float: right; clear: both;\">\n",
    "בספר המרתק של ג'ורג' אורוול, 1984, הסלוגן של מפלגת השלטון הוא <q>מלחמה היא שלום, חירות היא עבדות, בורות היא כוח</q>.<br/>\n",
    "קבלו טקסט מהמשתמש, והחליפו את המילים לפי המילון הבא:\n",
    "</p>"
   ]
  },
  {
   "cell_type": "markdown",
   "metadata": {},
   "source": [
    "<ul dir=\"rtl\" style=\"text-align: right; direction: rtl; float: right; clear: both;\">\n",
    "<li>war תוחלף ל־peace</li>\n",
    "<li>freedom תוחלף ל־slavery</li>\n",
    "<li>ignorance תוחלף ל־strength</li>\n",
    "</ul>"
   ]
  },
  {
   "cell_type": "markdown",
   "metadata": {},
   "source": [
    "<p dir=\"rtl\" style=\"text-align: right; direction: rtl; float: right; clear: both;\">\n",
    "לצורך התרגיל, הניחו שהקלט שהזין המשתמש הוא באותיות קטנות בלבד.\n",
    "</p>"
   ]
  }
 ],
 "metadata": {
  "kernelspec": {
   "display_name": "Python 3",
   "language": "python",
   "name": "python3"
  },
  "language_info": {
   "codemirror_mode": {
    "name": "ipython",
    "version": 3
   },
   "file_extension": ".py",
   "mimetype": "text/x-python",
   "name": "python",
   "nbconvert_exporter": "python",
   "pygments_lexer": "ipython3",
   "version": "3.7.6"
  }
 },
 "nbformat": 4,
 "nbformat_minor": 2
}
