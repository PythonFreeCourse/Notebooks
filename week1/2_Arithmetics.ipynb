{
 "cells": [
  {
   "cell_type": "markdown",
   "metadata": {},
   "source": [
    "<img alt=\"לוגו של מיזם לימוד הפייתון. נחש מצויר בצבעי צהוב וכחול, הנע בין האותיות של שם הקורס: לומדים פייתון. הסלוגן המופיע מעל לשם הקורס הוא מיזם חינמי ללימוד תכנות בעברית.\" src=\"images/logo.jpg\" style=\"display: block; margin-left: auto; margin-right: auto;\"/>"
   ]
  },
  {
   "cell_type": "markdown",
   "metadata": {},
   "source": [
    "## <span dir=\"rtl\" style=\"text-align: right; direction: rtl; float: right; clear: both;\">הערות</span>"
   ]
  },
  {
   "cell_type": "markdown",
   "metadata": {},
   "source": [
    "<p dir=\"rtl\" style=\"text-align: right; direction: rtl; float: right; clear: both;\">\n",
    "לפעמים נרצה לצרף דברי הסבר לקוד שכתבנו.<br/>\n",
    "כדי להוסיף הסברים לצד הקוד נשתמש בתו סולמית, ומייד אחריה נכתוב את ההסברים שרצינו לצרף.<br/>\n",
    "החלקים האלו בקוד נקראים <dfn>הערות</dfn>, ופייתון מתעלמת מקיומם כשהיא מריצה את הקוד.\n",
    "</p>"
   ]
  },
  {
   "cell_type": "markdown",
   "metadata": {},
   "source": [
    "<p dir=\"rtl\" style=\"text-align: right; direction: rtl; float: right; clear: both;\">\n",
    "לדוגמה:\n",
    "</p>"
   ]
  },
  {
   "cell_type": "code",
   "execution_count": null,
   "metadata": {},
   "outputs": [],
   "source": [
    "# This will print \"Hello World\"\n",
    "print(\"Hello World\")"
   ]
  },
  {
   "cell_type": "markdown",
   "metadata": {},
   "source": [
    "<p dir=\"rtl\" style=\"text-align: right; direction: rtl; float: right; clear: both;\">או אפילו באותה שורה:</p>"
   ]
  },
  {
   "cell_type": "code",
   "execution_count": null,
   "metadata": {},
   "outputs": [],
   "source": [
    "print(\"Hello World\")  # This will print \"Hello World\""
   ]
  },
  {
   "cell_type": "markdown",
   "metadata": {},
   "source": [
    "<p dir=\"rtl\" style=\"text-align: right; direction: rtl; float: right;\">\n",
    "    הערות נועדו להסביר את הקוד שלכם למתכנתים אחרים שיקראו אותו בעתיד.<br/>\n",
    "    בינתיים, אנחנו נשתמש בהערות כדי להבהיר ולהדגיש דוגמאות במחברת הקורס.<br/>\n",
    "    נהוג לכתוב הערות באנגלית, אבל רק לצורך הקורס שלנו, שמתקיים בעברית, נכופף קצת את החוקים.\n",
    "</p>"
   ]
  },
  {
   "cell_type": "markdown",
   "metadata": {},
   "source": [
    "# <span dir=\"rtl\" style=\"text-align: right; direction: rtl; float: right; clear: both;\">אריתמטיקה</span>"
   ]
  },
  {
   "cell_type": "markdown",
   "metadata": {},
   "source": [
    "<p dir=\"rtl\" style=\"text-align: right; direction: rtl; float: right;\">\n",
    "    אין צורך לפחד מהמונח המאיים, מדובר פשוט בפעולות חשבון בסיסיות. בואו נראה מה פייתון יודעת לעשות.<br/>\n",
    "    חשבו מה תהיה התוצאה בכל אחד מהתאים הבאים. לאחר שכתבתם בצד את התוצאה שעליה חשבתם, הריצו את התאים ובדקו אם צדקתם.\n",
    "</p>"
   ]
  },
  {
   "cell_type": "code",
   "execution_count": null,
   "metadata": {},
   "outputs": [],
   "source": [
    "print(5 + 1)"
   ]
  },
  {
   "cell_type": "code",
   "execution_count": null,
   "metadata": {},
   "outputs": [],
   "source": [
    "print(5 - 1)"
   ]
  },
  {
   "cell_type": "code",
   "execution_count": null,
   "metadata": {},
   "outputs": [],
   "source": [
    "print(1 - 5)  # פייתון מכיר בשליליים"
   ]
  },
  {
   "cell_type": "code",
   "execution_count": null,
   "metadata": {},
   "outputs": [],
   "source": [
    "print(5 - 1 / 2)  # סדר פעולות חשבון?"
   ]
  },
  {
   "cell_type": "code",
   "execution_count": null,
   "metadata": {},
   "outputs": [],
   "source": [
    "print(5.5 - 1.3)"
   ]
  },
  {
   "cell_type": "code",
   "execution_count": null,
   "metadata": {},
   "outputs": [],
   "source": [
    "print(1.2 + 3)"
   ]
  },
  {
   "cell_type": "code",
   "execution_count": null,
   "metadata": {},
   "outputs": [],
   "source": [
    "print(2 * 5)"
   ]
  },
  {
   "cell_type": "code",
   "execution_count": null,
   "metadata": {},
   "outputs": [],
   "source": [
    "print(5 * 2)"
   ]
  },
  {
   "cell_type": "code",
   "execution_count": null,
   "metadata": {},
   "outputs": [],
   "source": [
    "print(5 - 2)"
   ]
  },
  {
   "cell_type": "code",
   "execution_count": null,
   "metadata": {},
   "outputs": [],
   "source": [
    "print(3 ** 2)  # כדאי לזכור שכפול פעמיים מסמל חזקה"
   ]
  },
  {
   "cell_type": "code",
   "execution_count": null,
   "metadata": {},
   "outputs": [],
   "source": [
    "print(2 ** 3)"
   ]
  },
  {
   "cell_type": "code",
   "execution_count": null,
   "metadata": {},
   "outputs": [],
   "source": [
    "print(5 // 2)  # חילוק שלמים (נסו לנחש, מוסבר בהרחבה למטה)"
   ]
  },
  {
   "cell_type": "code",
   "execution_count": null,
   "metadata": {},
   "outputs": [],
   "source": [
    "print(5 % 2)  # השארית מחלוקת השלמים"
   ]
  },
  {
   "cell_type": "code",
   "execution_count": null,
   "metadata": {},
   "outputs": [],
   "source": [
    "print(5 * (6 / (2 * 5)))  # אפשר גם סוגריים, אם צריך"
   ]
  },
  {
   "cell_type": "markdown",
   "metadata": {},
   "source": [
    "## <span dir=\"rtl\" style=\"text-align: right; direction: rtl; float: right; clear: both;\">חלוקת שלמים ושארית</span>"
   ]
  },
  {
   "cell_type": "markdown",
   "metadata": {},
   "source": [
    "### <span dir=\"rtl\" style=\"text-align: right; direction: rtl; float: right; clear: both;\">חלוקת שלמים</span>\n",
    "<p dir=\"rtl\" style=\"text-align: right; direction: rtl; float: right;\"><dfn>חלוקת שלמים</dfn> היא פעולה שתוצאתה תמיד מספר שלם, בניגוד לפעולת החילוק שאנחנו רגילים אליה (<code>/</code>).</p>\n",
    "<p dir=\"rtl\" style=\"text-align: right; direction: rtl; float: right;\">כאשר אנחנו עושים חלוקת שלמים מהצורה <code>A // B</code>, אנחנו למעשה מתכוונים לשאול:</p>\n",
    "<blockquote dir=\"ltr\" style=\"text-align: left; direction: ltr; float: right; border-left: 0; border-right: 5px solid #eeeeee;\"><p dir=\"rtl\" style=\"text-align: right; direction: rtl; float: left;\">אם יש לי A משולשי פיצה, וחילקתי את כל משלושי הפיצה באופן שווה ל־B ילדים (תזהרו מלחתוך לי את המשולשים!), כמה משולשי פיצה יקבל כל ילד?</p></blockquote>\n",
    "<p dir=\"rtl\" style=\"text-align: right; direction: rtl; float: right;\">לדוגמה: הביטוי <code>4 // 9</code>, אומר שיש לנו 9 משולשי פיצה ו־4 ילדים רעבים.<br/>אם נחלק את משולשי הפיצה בין הילדים, נגלה שכל ילד יקבל 2 משולשים, ושנשאר משולש אחד שלא ניתן לחלק.</p>"
   ]
  },
  {
   "cell_type": "code",
   "execution_count": null,
   "metadata": {},
   "outputs": [],
   "source": [
    "print(9 // 4)"
   ]
  },
  {
   "cell_type": "markdown",
   "metadata": {},
   "source": [
    "### <div dir=\"rtl\" style=\"text-align: right; direction: rtl; float: right;\">שארית</div>\n",
    "<p dir=\"rtl\" style=\"text-align: right; direction: rtl; float: right;\">למשולשי הפיצה שלא הצלחנו לחלק לילדים אנחנו קוראים <dfn>שארית</dfn>, וזו התוצאה שנקבל כשנכתוב את הסימן <code>%</code> במקום <code>//</code>.<br/>לדוגמה, אם היינו כותבים <code>4 % 9</code>, היינו מקבלים <code>1</code>, הרי הוא משולש הפיצה שנשאר מהדוגמה שלמעלה.</p>"
   ]
  },
  {
   "cell_type": "code",
   "execution_count": null,
   "metadata": {},
   "outputs": [],
   "source": [
    "print(9 % 4)"
   ]
  },
  {
   "cell_type": "markdown",
   "metadata": {},
   "source": [
    "<div class=\"align-center\" dir=\"rtl\" style=\"display: flex; text-align: right; direction: rtl;\">\n",
    "<div style=\"display: flex; width: 10%; float: right; \" width=\"10%\">\n",
    "<img alt=\"טיפ!\" height=\"50px\" src=\"images/tip.png\" style=\"height: 50px !important;\"/>\n",
    "</div>\n",
    "<div style=\"width: 90%;\" width=\"90%\">\n",
    "            עבור מספרים חיוביים, תוכלו להמיר את החלוקה ה\"רגילה\" מהצורה\n",
    "            <div dir=\"ltr\" style=\"display: inline-flex; direction: ltr;\">$\\normalsize{\\frac{9}{4}}$</div>\n",
    "            לשבר מעורב מהצורה\n",
    "            <div dir=\"ltr\" style=\"display: inline-flex; direction: ltr;\">$\\normalsize{2\\frac{1}{4}}$</div>.\n",
    "        <br/>\n",
    "            המספר השלם שהתקבל\n",
    "            <div dir=\"ltr\" style=\"display: inline-flex; direction: ltr;\">($\\normalsize{2}$)</div>\n",
    "            הוא תוצאת חילוק השלמים, בעוד שהמספר במונה \n",
    "            <div dir=\"ltr\" style=\"display: inline-flex; direction: ltr;\">($\\normalsize{1}$)</div>\n",
    "            הוא השארית.\n",
    "    </div>\n",
    "</div>"
   ]
  },
  {
   "cell_type": "markdown",
   "metadata": {},
   "source": [
    "## <span dir=\"rtl\" style=\"align: right; direction: rtl; float: right;\">תרגול: תה אמריקה</span>"
   ]
  },
  {
   "cell_type": "markdown",
   "metadata": {},
   "source": [
    "<p dir=\"rtl\" style=\"text-align: right; direction: rtl; float: right;\">\n",
    "חובבי תה רציניים ידעו להגיד לכם, שחליטת התה שלכם צריכה להיעשות בטמפרטורה מסוימת מאוד, שתלויה בסוג התה שבידכם.<br/>\n",
    "כפלצן תה גדול, אני מזמין לעיתים קרובות תה ממחוזות מוזרים בעולם, שבהם מציגים את הטמפרטורה המושלמת לחליטת התה במעלות פרנהייט במקום בצלזיוס.<br/>\n",
    "לאחרונה קיבלתי תה יסמין שהיה צריך לחלוט ב־176 מעלות פרנהייט.<br/>\n",
    "הדלקתי קומקום ועקבתי אחרי הטמפרטורה של המים. עזרו לי, והדפיסו את הטמפרטורה שאליה המים צריכים להגיע, במעלות <em>צלזיוס</em>.\n",
    "</p>\n",
    "<p dir=\"rtl\" style=\"text-align: right; direction: rtl; float: right;\">\n",
    "הנוסחה להמרה מפרנהייט לצלזיוס היא <code>(5 חלקי 9) כפול (מעלות בפרנהייט פחות 32)</code>.<br/>\n",
    "או, אם אתם מעדיפים כתיב מתמטי: <span dir=\"ltr\" style=\"display: inline-flex; direction: ltr;\">$\\normalsize{C = \\frac{5}{9}\\times(F - 32)}$</span><br/>\n",
    "לדוגמה, אם הייתי צריך לחלוט את התה שלי ב־212 מעלות פרנהייט, הייתי מצפה שתציגו לי <samp>100</samp>, כיוון ש: <span dir=\"ltr\" style=\"display: inline-flex; direction: ltr;\">$\\normalsize{C = \\frac{5}{9}\\times(212 - 32)} = 100$</span>\n",
    "</p>"
   ]
  },
  {
   "cell_type": "code",
   "execution_count": null,
   "metadata": {},
   "outputs": [],
   "source": [
    "# הקלידו את הקוד שלכם כאן!"
   ]
  }
 ],
 "metadata": {
  "kernelspec": {
   "display_name": "Python 3",
   "language": "python",
   "name": "python3"
  },
  "language_info": {
   "codemirror_mode": {
    "name": "ipython",
    "version": 3
   },
   "file_extension": ".py",
   "mimetype": "text/x-python",
   "name": "python",
   "nbconvert_exporter": "python",
   "pygments_lexer": "ipython3",
   "version": "3.7.6"
  }
 },
 "nbformat": 4,
 "nbformat_minor": 2
}
