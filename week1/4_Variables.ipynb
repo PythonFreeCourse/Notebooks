{
 "cells": [
  {
   "cell_type": "markdown",
   "metadata": {},
   "source": [
    "<img alt=\"לוגו של מיזם לימוד הפייתון. נחש מצויר בצבעי צהוב וכחול, הנע בין האותיות של שם הקורס: לומדים פייתון. הסלוגן המופיע מעל לשם הקורס הוא מיזם חינמי ללימוד תכנות בעברית.\" src=\"images/logo.jpg\" style=\"display: block; margin-left: auto; margin-right: auto;\"/>"
   ]
  },
  {
   "cell_type": "markdown",
   "metadata": {},
   "source": [
    "# <p dir=\"rtl\" style=\"align: right; direction: rtl; float: right;\">משתנים</p>"
   ]
  },
  {
   "cell_type": "markdown",
   "metadata": {},
   "source": [
    "<p dir=\"rtl\" style=\"text-align: right; direction: rtl; float: right;\">\n",
    "בואו נחשב את נפח הפיצה שלנו לפי אורך המשולש ועוביו.<br/>\n",
    "הנוסחה לחישוב נפח פיצה היא:\n",
    "    <span dir=\"ltr\" style=\"display: inline-flex; direction: ltr;\">$pi \\times z \\times z \\times a$</span>,\n",
    "כאשר <span dir=\"ltr\" style=\"display: inline-flex; direction: ltr;\">$z$</span> הוא אורך המשולש ו־<span dir=\"ltr\" style=\"display: inline-flex; direction: ltr;\">$a$</span> הוא עובי המשולש.<br/>\n",
    "    pi, או <span dir=\"ltr\" style=\"display: inline-flex; direction: ltr;\">$\\pi$</span>, הוא מספר קבוע שנקרא בעברית <dfn>פאי</dfn>, וערכו קרוב ל־3.141592653589793. בפועל יש לו אין־סוף ספרות אחרי הנקודה העשרונית, אבל אנחנו נסתפק באלו.<br/>\n",
    "נניח שאורכו של המשולש הוא 5 מטרים, ועוביו הוא 2 מטרים (זו למעשה עוגת פיצה. אנחנו אוהבים!)<br/>\n",
    "נחשב:\n",
    "</p>"
   ]
  },
  {
   "cell_type": "code",
   "execution_count": null,
   "metadata": {},
   "outputs": [],
   "source": [
    "print(3.14159265358 * 5 * 5 * 2)"
   ]
  },
  {
   "cell_type": "markdown",
   "metadata": {},
   "source": [
    "<img alt=\"פיצה עבה מאוד, עם הרבה גבינה ותוספות של עגבנייה, זיתים וגמבה.\" src=\"images/pizza_cake.jpg\" style=\"display: block; margin-left: auto; margin-right: auto;\" width=\"40%\"/>"
   ]
  },
  {
   "cell_type": "markdown",
   "metadata": {},
   "source": [
    "<p dir=\"rtl\" style=\"text-align: right; direction: rtl; float: right;\">\n",
    "אך <strong>אבוי</strong>!<br/>\n",
    "מתכנת אחר שיקרא את הקוד שלכם, עלול להתבלבל מכמות המספרים הלא מובנים בעליל שכתובים שם, וקרוב לוודאי שהוא לא יבין מה הם אומרים.<br/>\n",
    "יותר מזה, אם תרצו לחשב את גודלן של פיצות רבות נוספות, תצטרכו לכתוב את פאי המסורבל (סליחה פאי) פעמים רבות בקוד.\n",
    "</p>"
   ]
  },
  {
   "cell_type": "markdown",
   "metadata": {},
   "source": [
    "## <p dir=\"rtl\" style=\"align: right; direction: rtl; float: right;\">השמה</p>"
   ]
  },
  {
   "cell_type": "markdown",
   "metadata": {},
   "source": [
    "<p dir=\"rtl\" style=\"text-align: right; direction: rtl; float: right;\">\n",
    "למזלנו, בפייתון יש דרך לתת לערכים שם, ממש כמו תווית שכזו. ערכים עם שם נקראים <dfn>משתנים</dfn>, ויש להם יתרונות רבים נוספים שנגלה בהמשך.<br/>\n",
    "כעת נדגים כיצד אנחנו נותנים לערך \"פאי\" שם, ואיך מייד לאחר מכן אנחנו משתמשים בו.\n",
    "</p>"
   ]
  },
  {
   "cell_type": "code",
   "execution_count": null,
   "metadata": {},
   "outputs": [],
   "source": [
    "pi = 3.14159265358\n",
    "print(pi * 5 * 5 * 2)"
   ]
  },
  {
   "cell_type": "markdown",
   "metadata": {},
   "source": [
    "<p dir=\"rtl\" style=\"text-align: right; direction: rtl; float: right;\">\n",
    "תחילה נשים לב לכך שאף שהשתמשנו בסימן <code>=</code>, השורה הראשונה היא לא שוויון מהסוג שאנחנו רגילים אליו.<br/>\n",
    "משמעות הסימן בתכנות שונה לחלוטין, והעיקרון שאותו הוא מממש נקרא <dfn>השמה</dfn>.<br/>\n",
    "<mark>בהשמה אנחנו שמים את הערך שנמצא בצד ימין של השווה, בתוך משתנה ששמו נכתב בצד שמאל של השווה.</mark><br/>\n",
    "אחרי שביצענו את הפעולה הזו, בכל פעם שנכתוב את שמו של המשתנה, פייתון תבין את מה שכתוב שם <em>כאילו</em> רשמנו את הערך שנמצא בתוכו.\n",
    "</p>"
   ]
  },
  {
   "cell_type": "markdown",
   "metadata": {},
   "source": [
    "<p dir=\"rtl\" style=\"text-align: right; direction: rtl; float: right;\">\n",
    "ניצור משתנים גם עבור שאר הערכים:\n",
    "</p>"
   ]
  },
  {
   "cell_type": "code",
   "execution_count": null,
   "metadata": {},
   "outputs": [],
   "source": [
    "pi = 3.14159265358\n",
    "z = 5\n",
    "a = 2\n",
    "print(pi * z * z * a)"
   ]
  },
  {
   "cell_type": "markdown",
   "metadata": {},
   "source": [
    "<p dir=\"rtl\" style=\"text-align: right; direction: rtl; float: right;\">\n",
    "או אם בא לנו להיות אפילו מובנים יותר, ניתן למשתנים שמות ברורים:\n",
    "</p>"
   ]
  },
  {
   "cell_type": "code",
   "execution_count": null,
   "metadata": {},
   "outputs": [],
   "source": [
    "pi = 3.14159265358\n",
    "length = 5  # אורך\n",
    "thickness = 2  # עובי\n",
    "pizza_volume = pi * length * length * thickness  # נפח הפיצה\n",
    "print(pizza_volume)"
   ]
  },
  {
   "cell_type": "markdown",
   "metadata": {},
   "source": [
    "<p dir=\"rtl\" style=\"text-align: right; direction: rtl; float: right;\">\n",
    "אם נרצה לתאר את הקוד שלנו במילים, נוכל להגיד שיצרנו שלושה משתנים שאליהם השמנו את הנתונים הדרושים לנו לחישוב נפח הפיצה.<br/>\n",
    "בסוף, חישבנו את נפח הפיצה, ואת התוצאה השמנו למשתנה נוסף בשם <var>pizza_volume</var>.<br/>\n",
    "את הערך הנמצא במשתנה הזה הדפסנו למסך.\n",
    "</p>"
   ]
  },
  {
   "cell_type": "markdown",
   "metadata": {},
   "source": [
    "### <p dir=\"rtl\" style=\"align: right; direction: rtl; float: right;\">מונחים</p>"
   ]
  },
  {
   "cell_type": "markdown",
   "metadata": {},
   "source": [
    "<dl dir=\"rtl\" style=\"text-align: right; direction: rtl; float: right; white-space: nowrap;\">\n",
    "<dt>אופרטור ההשמה</dt><dd>סתם שם מפחיד שמתאר את הסימן <code>=</code> כשרוצים לבצע השמה.</dd>\n",
    "<dt>שם המשתנה</dt><dd>מופיע משמאל לאופרטור ההשמה.</dd>\n",
    "<dt>ערך המשתנה</dt><dd>התוכן (הערך) של המשתנה שבסופו של דבר המחשב יזכור. מופיע מימין לאופרטור ההשמה.</dd>\n",
    "</dl>"
   ]
  },
  {
   "cell_type": "markdown",
   "metadata": {},
   "source": [
    "## <p dir=\"rtl\" style=\"align: right; direction: rtl; float: right;\">איך משתנים עובדים?</p>"
   ]
  },
  {
   "cell_type": "markdown",
   "metadata": {},
   "source": [
    "<p dir=\"rtl\" style=\"text-align: right; direction: rtl; float: right;\">\n",
    "אפשר לדמיין משתנים כמצביע לייזר קטן.<br/>\n",
    "כשאתם מבצעים <em>השמה</em>, אתם מבקשים מפייתון ליצור לייזר בשם שבחרתם, ולהצביע בעזרתו על ערך מסוים.<br/>\n",
    "נניח, במקרה שבו <code dir=\"ltr\" style=\"direction: ltr;\">pi = 3.14</code>, אנחנו מבקשים מפייתון ליצור לייזר בשם <var>pi</var> שיצביע על הערך <samp>3.14</samp>.<br/>\n",
    "בכל פעם שתציינו בהמשך הקוד את שם הלייזר, פייתון תבדוק להיכן הוא מצביע, ותיקח את הערך שנמצא שם.<br/>\n",
    "אם כך, לצורך האנלוגיה הזו, הלייזר הוא <em>שם המשתנה</em>, שמצביע על <em>ערך המשתנה</em>.\n",
    "</p>"
   ]
  },
  {
   "cell_type": "markdown",
   "metadata": {},
   "source": [
    "<figure>\n",
    "<img alt=\"איור להמחשה של שלושה לייזרים שעליהם מודבקות התוויות pi, length ו־thick. מכל אחד מהלייזרים יוצאת קרן לייזר אדומה, שמצביעה (בהתאמה) על המספרים 3.14, 5 ו־2.\" src=\"images/laser_variables.svg\" style=\"display: block; margin-left: auto; margin-right: auto;\" width=\"200px\"/>\n",
    "<figcaption dir=\"rtl\" style=\"text-align: center; direction: rtl;\">המחשה של שלושה לייזרים שמצביעים על משתנים.</figcaption>\n",
    "</figure>"
   ]
  },
  {
   "cell_type": "markdown",
   "metadata": {},
   "source": [
    "## <p dir=\"rtl\" style=\"align: right; direction: rtl; float: right;\">חוקים לשמות משתנים</p>"
   ]
  },
  {
   "cell_type": "markdown",
   "metadata": {},
   "source": [
    "<ol dir=\"rtl\" style=\"text-align: right; direction: rtl; float: right; white-space: nowrap;\">\n",
    "<li style=\"white-space: nowrap;\"><strong>חוק 1:</strong> שם משתנה יכול לכלול רק ספרות (<code>0–9</code>), אותיות לטיניות גדולות (<code>A-Z</code>) או קטנות (<code>a-z</code>) וקו תחתון (<code>_</code>).</li>\n",
    "<li style=\"white-space: nowrap;\"><strong>חוק 2:</strong> שם משתנה לא יכול להתחיל בספרה.</li>\n",
    "<li style=\"white-space: nowrap;\"><strong>מוסכמה 1:</strong> נהוג ששם משתנה יהיה באותיות קטנות, ומילים יופרדו בקווים תחתונים.</li>\n",
    "<li style=\"white-space: nowrap;\"><strong>מוסכמה 2:</strong> נהוג לתת למשתנה שם שמתאר היטב את תפקידו בקוד.</li>\n",
    "</ol>\n",
    "<p dir=\"rtl\" style=\"text-align: right; direction: rtl; float: right;\">\n",
    "המוסכמה הראשונה נכונה ברוב המקרים, אך לא בכולם. בעתיד ניכנס לעובי הקורה בכל הנוגע לכתיבת קוד בהתאם למוסכמות בעולם התכנות.\n",
    "</p>"
   ]
  },
  {
   "cell_type": "markdown",
   "metadata": {},
   "source": [
    "### <p dir=\"rtl\" style=\"align: right; direction: rtl; float: right;\">תרגול שמות משתנים</p>"
   ]
  },
  {
   "cell_type": "markdown",
   "metadata": {},
   "source": [
    "#### <p dir=\"rtl\" style=\"align: right; direction: rtl; float: right;\">בדקו האם שם המשתנה עומד בחוקים ובמוסכמות</p>"
   ]
  },
  {
   "cell_type": "markdown",
   "metadata": {},
   "source": [
    "<div class=\"align-center\" dir=\"rtl\" style=\"display: flex; text-align: right; direction: rtl; clear: both;\">\n",
    "<div style=\"display: flex; width: 10%; float: right; clear: both;\" width=\"10%\">\n",
    "<img alt=\"תרגול\" height=\"50px\" src=\"images/exercise.svg\" style=\"height: 50px !important;\"/>\n",
    "</div>\n",
    "<div style=\"width: 70%\" width=\"70%\">\n",
    "<p dir=\"rtl\" style=\"text-align: right; direction: rtl; float: right; clear: both;\">\n",
    "            עבור כל אחד משמות המשתנים שלפניכם, רשמו במחברת או בהערה האם שם המשתנה עומד בחוקים ובמוסכמות.<br/>\n",
    "            אחרי שרשמתם בצד, תקנו את שמות המשתנים הבעיתיים, וודאו שהרצת התא לא תגרום לשגיאה.\n",
    "        </p>\n",
    "</div>\n",
    "</div>"
   ]
  },
  {
   "cell_type": "code",
   "execution_count": null,
   "metadata": {},
   "outputs": [],
   "source": [
    "a = 5\n",
    "MyBirthday = '12/07/1995'\n",
    "mybirthday = '12/07/1995'\n",
    "pizza_radius = 5.3\n",
    "pizza = 3\n",
    "pizza radius = 2.7\n",
    "pizza's_price = 2\n",
    "5_pizza_price = 30\n",
    "my_name = \"Yam Mesicka\"\n",
    "your_name = '4Tomer Gavish'"
   ]
  },
  {
   "cell_type": "markdown",
   "metadata": {},
   "source": [
    "#### <span dir=\"rtl\" style=\"align: right; direction: rtl; float: right; clear: both\">תנו שם למשתנים הבאים:</span>"
   ]
  },
  {
   "cell_type": "markdown",
   "metadata": {},
   "source": [
    "<ol dir=\"rtl\" style=\"text-align: right; direction: rtl; float: right; white-space: nowrap;\">\n",
    "<li>השם של כותב הספר.</li>\n",
    "<li>הגיל של המשתמש בתוכנית.</li>\n",
    "<li>המלל במחברת הזו.</li>\n",
    "<li>מספר הקילומטרים מתל אביב לניו יורק.</li>\n",
    "</ol>"
   ]
  },
  {
   "cell_type": "markdown",
   "metadata": {},
   "source": [
    "## <p dir=\"rtl\" style=\"align: right; direction: rtl; float: right;\">עריכת ערכי משתנים</p>"
   ]
  },
  {
   "cell_type": "markdown",
   "metadata": {},
   "source": [
    "<p dir=\"rtl\" style=\"text-align: right; direction: rtl; float: right;\">\n",
    "בתחילת המחברת ביצענו כמה השמות למשתנים. לעיתים קרובות, נרצה <em>לערוך</em> את התוכן של המשתנה.<br/>\n",
    "בואו נראה דוגמה:\n",
    "</p>"
   ]
  },
  {
   "cell_type": "code",
   "execution_count": null,
   "metadata": {},
   "outputs": [],
   "source": [
    "my_age = 24\n",
    "my_age = my_age + 1\n",
    "print(my_age)"
   ]
  },
  {
   "cell_type": "markdown",
   "metadata": {},
   "source": [
    "<p dir=\"rtl\" style=\"text-align: right; direction: rtl; float: right; clear: both;\">\n",
    "מה קרה כאן?<br/>\n",
    "בשורה 1 עשינו השמה פשוטה, כפי שלמדנו קודם. עד כאן הכול מוכר.<br/>\n",
    "בשורה 2 הרעיון זהה. כל מה שאתם צריכים לזכור הוא שפייתון תחשב קודם את צד ימין (הערך) ורק אז תכניס אותו לתוך צד שמאל (שם המשתנה).\n",
    "</p>\n",
    "<p dir=\"rtl\" style=\"text-align: right; direction: rtl; float: right; clear: both;\">\n",
    "בואו נעקוב אחרי דרך המחשבה של פייתון כשהיא קוראת את השורה השנייה:\n",
    "</p>\n",
    "<div style=\"clear: both;\">\n",
    "<ol dir=\"rtl\" style=\"text-align: right; direction: rtl; float: right; clear: both; white-space: nowrap;\">\n",
    "<li>הסתכל על צד ימין של ההשמה.</li>\n",
    "<li>בדוק על איזה ערך מצביע הלייזר שנקרא <code>my_age</code>.</li>\n",
    "<li>הערך הוא <samp>24</samp>. חשב את <code>1 + 24</code>.</li>\n",
    "<li>התוצאה היא <samp>25</samp>; צד ימין \"פתור\".</li>\n",
    "<li dir=\"rtl\" style=\"text-align: right; direction: rtl; float: right; white-space: nowrap;\">הכנס את הערך <samp>25</samp> לתוך הצד השמאלי של ההשמה, <code>my_age</code>.</li>\n",
    "</ol></div>"
   ]
  },
  {
   "cell_type": "markdown",
   "metadata": {},
   "source": [
    "## <p dir=\"rtl\" style=\"align: right; direction: rtl; float: right;\">תרגול</p>"
   ]
  },
  {
   "cell_type": "markdown",
   "metadata": {},
   "source": [
    "### <p dir=\"rtl\" style=\"align: right; direction: rtl; float: right;\">ארגז קרמבו</p>"
   ]
  },
  {
   "cell_type": "markdown",
   "metadata": {},
   "source": [
    "<p dir=\"rtl\" style=\"text-align: right; direction: rtl; float: right;\">\n",
    "קניתי 5 ארגזים גדולים של קרמבו. בארגז יש 10 יחידות קרמבו בכל שורה, ו־4 יחידות קרמבו בכל עמודה.<br/>\n",
    "נסו לשים כל אחד מהנתונים שמצאתם בשאלה במשתנה, ולהדפיס כמה קרמבו יש לי.\n",
    "</p>"
   ]
  },
  {
   "cell_type": "code",
   "execution_count": null,
   "metadata": {},
   "outputs": [],
   "source": []
  },
  {
   "cell_type": "markdown",
   "metadata": {},
   "source": [
    "### <p dir=\"rtl\" style=\"align: right; direction: rtl; float: right;\">מבריחים מהבריכה</p>"
   ]
  },
  {
   "cell_type": "markdown",
   "metadata": {},
   "source": [
    "<p dir=\"rtl\" style=\"text-align: right; direction: rtl; float: right;\">\n",
    "אורך הבריכה הפרטית שהייתי מת שתהיה לי הוא 50 מטר, ורוחבה 25 מטר.<br/>\n",
    "כדי להיתקע בכמה שיותר אנשים בדרך, אני מתכנן לשחות באלכסון, מהפינה האחת של הבריכה לפינה הנגדית לה.<br/>\n",
    "אני נמצא בפינה שממנה אני מתכנן לצאת. תוכלו לעזור לי להבין מה המרחק שאצטרך לשחות כדי להגיע לפינה הנגדית?<br/>\n",
    "נסו לעשות שימוש ב־3 משתנים כדי לפתור את השאלה.<br/>\n",
    "<strong>טיפ:</strong> סיפרו לי שנוסחת אלכסון היא <span style=\"display: inline-flex;\">$(l^2 + w^2)^{0.5}$</span>, כאשר \n",
    "    <span style=\"display: inline-flex;\">${l}$</span>\n",
    "    מציין את אורך הבריכה ו־\n",
    "        <span style=\"display: inline-flex;\">${w}$</span>\n",
    "    את רוחבה.\n",
    "</p>"
   ]
  },
  {
   "cell_type": "code",
   "execution_count": null,
   "metadata": {},
   "outputs": [],
   "source": []
  },
  {
   "cell_type": "markdown",
   "metadata": {},
   "source": [
    "<p dir=\"rtl\" style=\"text-align: right; direction: rtl; float: right;\">\n",
    "לאחר שיפוץ של הבריכה הפרטית שהייתי מת שתהיה לי, אורכה גדל פי 2.<br/>\n",
    "כחלק מהשיפוצים גם הוסיפו לבריכה מסלולים, כך שהרוחב שלה גדל בגודל השווה לאורך החדש של הבריכה.<br/>\n",
    "הדפיסו את הגודל החדש של הבריכה. אל תשנו את הקוד למעלה; פשוט המשיכו אותו בתא הבא, והשתמשו בהשמה כדי להתאים את המשתנים למציאות החדשה.\n",
    "</p>"
   ]
  },
  {
   "cell_type": "markdown",
   "metadata": {},
   "source": [
    "<div class=\"align-center\" dir=\"rtl\" style=\"display: flex; text-align: right; direction: rtl;\">\n",
    "<div style=\"display: flex; width: 10%; float: right; \" width=\"10%\">\n",
    "<img alt=\"טיפ!\" height=\"50px\" src=\"images/tip.png\" style=\"height: 50px !important;\"/>\n",
    "</div>\n",
    "<div style=\"width: 90%\" width=\"90%\">\n",
    "<p dir=\"rtl\" style=\"text-align: right; direction: rtl;\">\n",
    "            ניתן להתייחס גם למשתנים שהוגדרו בתאים אחרים במחברת.<br/>\n",
    "            לדוגמה, אם הרצנו תא שבו הוגדר משתנה בשם <var>w</var>, מאותו רגע כל תא אחר במחברת יוכל להשתמש במשתנה <var>w</var>.<br/>\n",
    "            ערכו של משתנה מסויים בזמן נתון הוא הערך שהוגדר עבורו בתא האחרון שהורץ במחברת.\n",
    "        </p>\n",
    "</div>\n",
    "<div></div></div>"
   ]
  },
  {
   "cell_type": "code",
   "execution_count": null,
   "metadata": {},
   "outputs": [],
   "source": []
  },
  {
   "cell_type": "markdown",
   "metadata": {},
   "source": [
    "### <p dir=\"rtl\" style=\"align: right; direction: rtl; float: right;\">ברכות</p>"
   ]
  },
  {
   "cell_type": "markdown",
   "metadata": {},
   "source": [
    "<ol dir=\"rtl\" style=\"text-align: right; direction: rtl; float: right; white-space: nowrap;\">\n",
    "<li>הגדירו משתנה שערכו הוא השם שלכם.</li>\n",
    "<li>הגדירו משתנה שערכו הוא ברכה חגיגית: \"מזל טוב\", \"חג שמח\" או סתם \"יא מגניב אחד\".</li>\n",
    "<li>חברו את שניהם למשפט.</li>\n",
    "</ol>"
   ]
  },
  {
   "cell_type": "markdown",
   "metadata": {},
   "source": [
    "<p dir=\"rtl\" style=\"text-align: right; direction: rtl; float: right;\">\n",
    "לדוגמה: אם השם שלי הוא David והברכה שהוכנסה היא You are cool, המשפט שיצא הוא <samp>David You are cool</samp>.\n",
    "</p>"
   ]
  }
 ],
 "metadata": {
  "kernelspec": {
   "display_name": "Python 3",
   "language": "python",
   "name": "python3"
  },
  "language_info": {
   "codemirror_mode": {
    "name": "ipython",
    "version": 3
   },
   "file_extension": ".py",
   "mimetype": "text/x-python",
   "name": "python",
   "nbconvert_exporter": "python",
   "pygments_lexer": "ipython3",
   "version": "3.7.6"
  }
 },
 "nbformat": 4,
 "nbformat_minor": 2
}
