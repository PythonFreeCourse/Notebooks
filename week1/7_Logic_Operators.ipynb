{
 "cells": [
  {
   "cell_type": "markdown",
   "metadata": {},
   "source": [
    "<img alt=\"לוגו של מיזם לימוד הפייתון. נחש מצויר בצבעי צהוב וכחול, הנע בין האותיות של שם הקורס: לומדים פייתון. הסלוגן המופיע מעל לשם הקורס הוא מיזם חינמי ללימוד תכנות בעברית.\" src=\"images/logo.jpg\" style=\"display: block; margin-left: auto; margin-right: auto;\"/>"
   ]
  },
  {
   "cell_type": "markdown",
   "metadata": {},
   "source": [
    "# <p dir=\"rtl\" style=\"align: right; direction: rtl; float: right;\">אופרטורים לוגיים</p>"
   ]
  },
  {
   "cell_type": "markdown",
   "metadata": {},
   "source": [
    "<div class=\"align-center\" dir=\"rtl\" style=\"display: flex; text-align: right; direction: rtl;\">\n",
    "<div style=\"display: flex; width: 10%; float: right; \" width=\"10%\">\n",
    "<img alt=\"טיפ!\" height=\"50px\" src=\"images/tip.png\" style=\"height: 50px !important;\"/>\n",
    "</div>\n",
    "<div style=\"width: 90%\" width=\"90%\">\n",
    "<p dir=\"rtl\" style=\"text-align: right; direction: rtl;\">\n",
    "            החומר במחברת זו הוא מעט תיאורטי. אין סיבה להיות עצובים, במחברת הבאה נעשה בו שימוש רחב.<br/>\n",
    "            ודאו שאתם מבינים היטב את החומר במחברת זו כדי לבסס את הידע שלכם כראוי.\n",
    "        </p>\n",
    "</div>\n",
    "</div>"
   ]
  },
  {
   "cell_type": "markdown",
   "metadata": {},
   "source": [
    "## <p dir=\"rtl\" style=\"align: right; direction: rtl; float: right;\">מבוא</p>"
   ]
  },
  {
   "cell_type": "markdown",
   "metadata": {},
   "source": [
    "<p dir=\"rtl\" style=\"text-align: right; direction: rtl; float: right;\">\n",
    "בשיעור הקודם למדנו קצת על <em>ביטויים בוליאניים</em> – ביטויים שתוצאתם היא בהכרח אמת או שקר.<br/>\n",
    "ראינו איך מנסחים ביטויים כאלו, ולמדנו על <em>אופרטורי השוואה</em> כמו <code>==</code> או <code>in</code>, שבעזרתם אנחנו מחליטים באיזו צורה אנחנו רוצים להשוות בין ביטויים.<br/>\n",
    "למדנו שביטויים כאלו יכולים לעזור לנו לשאול שאלות מעניינות, כמו אם למשתמש יש יותר מ־1000 ש\"ח בבנק, או אם לבת שלו קוראים \"שמחה\".\n",
    "</p>"
   ]
  },
  {
   "cell_type": "markdown",
   "metadata": {},
   "source": [
    "<p dir=\"rtl\" style=\"text-align: right; direction: rtl; float: right;\">\n",
    "אבל מה יקרה כשנרצה לשאול שאלות מורכבות יותר?<br/>\n",
    "לדוגמה, אם התנאים להרשמה לבנק שלנו הם <em>גם</em> שיהיו לך יותר מ־1,000 ש\"ח, ו<em>גם</em> שתלמד בפקולטה נחשבת?<br/>\n",
    "למרבה הצער, בכלים שיש ברשותנו כרגע לא נוכל לנסח שאלות מורכבות שכאלו.<br/>\n",
    "במחברת זו זה נלמד על כלים חדשים, אופרטורים לוגיים, שיאפשרו לנו לנסח שאלות מורכבות יותר.\n",
    "</p>"
   ]
  },
  {
   "cell_type": "markdown",
   "metadata": {},
   "source": [
    "## <p dir=\"rtl\" style=\"align: right; direction: rtl; float: right;\">הגדרה</p>"
   ]
  },
  {
   "cell_type": "markdown",
   "metadata": {},
   "source": [
    "<p dir=\"rtl\" style=\"text-align: right; direction: rtl; float: right;\">\n",
    "כאמור, לעזרתנו מתגייסים \"<dfn>אופרטורים לוגיים</dfn>\", שמטרתם לאפשר לנו לשאול שאלות בנוגע לקשרים בין ביטויים בוליאניים.<br/>\n",
    "ישנם שלושה אופרטורים לוגיים: <code>and</code> (\"וגם\"), <code>or</code> (\"או\") ו־<code>not</code> (\"לא\").<br/>\n",
    "</p>"
   ]
  },
  {
   "cell_type": "markdown",
   "metadata": {},
   "source": [
    "### <p dir=\"rtl\" style=\"align: right; direction: rtl; float: right;\">דוגמאות</p>"
   ]
  },
  {
   "cell_type": "markdown",
   "metadata": {},
   "source": [
    "<ul dir=\"rtl\" style=\"text-align: right; direction: rtl; float: right; white-space: nowrap;\">\n",
    "<li>האם 2 גדול מ־1, <mark>וגם</mark> קטן מ־3?</li>\n",
    "<li>האם הלקוח הזמין בירה, <mark>וגם</mark> גיל הלקוח נמוך מ־18?</li>\n",
    "<li>האם הפיצה תגיע בחצי שעה הקרובה, <mark>או</mark> האם יש אוכל במקרר?</li>\n",
    "<li>האם נתקע לי אוכל בין השיניים, <mark>וגם</mark> על השולחן <mark>לא</mark> נמצאים קיסמים?</li>\n",
    "<li>האם המזגן בביתי פועל, <mark>וגם</mark> אני <mark>לא</mark> נמצא בביתי?</li>\n",
    "<li>האם המשתמש הקיש בכספומט קוד סודי לא נכון, <mark>או</mark> ניסה למשוך מספר מזומנים גדול מהסכום שיש לו?</li>\n",
    "</ul>"
   ]
  },
  {
   "cell_type": "markdown",
   "metadata": {},
   "source": [
    "<p dir=\"rtl\" style=\"text-align: right; direction: rtl; float: right;\">\n",
    "מהדוגמאות נוכל לשים לב לדפוס חוזר – האופרטורים הלוגיים \"וגם\" ו\"או\" מקבלים משני צידיהם ביטויים בוליאניים, ומחזירים ביטוי בוליאני אחד.<br/>\n",
    "האופרטור הלוגי \"לא\" מקבל רק ביטוי בוליאני אחד, והופך אותו.<br/>\n",
    "לדוגמה: בשאלה האם 2 גדול מ־1 (כן) וגם 2 קטן מ־3 (כן), האופרטור הלוגי \"וגם\" מקבל \"כן\" משני צידיו, ומחזיר את התשובה הסופית כן.\n",
    "</p>"
   ]
  },
  {
   "cell_type": "markdown",
   "metadata": {},
   "source": [
    "<img alt=\"הבדיקה האם 2 גדול מ־1 מחזירה True, שמסומן ב־V ירוק. לידו, הבדיקה האם 2 קטן מ־3 מחזירה True, שמסומן ב־V ירוק. משתי הבדיקות יורד חץ לתוך צורה שבה כתוב 'וגם' בין שני V ירוקים, ומתוכה יוצא חץ שמצביע על V ירוק.\" src=\"images/true_and_true.svg\" style=\"max-width:100%; margin-right: auto; margin-left: auto; text-align: center;\"/>"
   ]
  },
  {
   "cell_type": "markdown",
   "metadata": {},
   "source": [
    "## <p dir=\"rtl\" style=\"align: right; direction: rtl; float: right;\">אופרטורים לוגיים</p>"
   ]
  },
  {
   "cell_type": "markdown",
   "metadata": {},
   "source": [
    "### <p dir=\"rtl\" style=\"align: right; direction: rtl; float: right;\">and / וגם</p>"
   ]
  },
  {
   "cell_type": "markdown",
   "metadata": {},
   "source": [
    "<p dir=\"rtl\" style=\"text-align: right; direction: rtl; float: right;\">\n",
    "האופרטור הלוגי <dfn>and</dfn> פועל על שני ביטויים בוליאניים, אחד מימינו ואחד משמאלו, ומחזיר לנו ביטוי בוליאני אחד:<br/>\n",
    "<samp>True</samp> אם הביטויים בשני צידיו היו <code>True</code>, או <samp>False</samp> בכל מקרה אחר.<br/>\n",
    "מבחינת מינוחים, <code>and</code> נחשב \"<dfn>האופרטור</dfn>\" (operator), והביטויים שנמצאים מצידיו נקראים \"<dfn>האופרנדים</dfn>\".\n",
    "</p>"
   ]
  },
  {
   "cell_type": "code",
   "execution_count": null,
   "metadata": {},
   "outputs": [],
   "source": [
    "print(\"True and True => \" + str(True and True))\n",
    "print(\"False and True => \" + str(False and True))\n",
    "print(\"True and False => \" + str(True and False))\n",
    "print(\"False and False => \" + str(False and False))"
   ]
  },
  {
   "cell_type": "markdown",
   "metadata": {},
   "source": [
    "<p dir=\"rtl\" style=\"text-align: right; direction: rtl; float: right;\">\n",
    "נבדוק, בעזרת פייתון, אם 2 גדול מ־1 וקטן מ־3:\n",
    "</p>"
   ]
  },
  {
   "cell_type": "code",
   "execution_count": null,
   "metadata": {},
   "outputs": [],
   "source": [
    "two_is_greater_than_one = 2 > 1\n",
    "two_is_smaller_than_three = 2 < 3\n",
    "two_is_between_one_and_three = two_is_greater_than_one and two_is_smaller_than_three\n",
    "print(two_is_between_one_and_three)"
   ]
  },
  {
   "cell_type": "markdown",
   "metadata": {},
   "source": [
    "<p dir=\"rtl\" style=\"text-align: right; direction: rtl; float: right;\">\n",
    "או בקיצור:\n",
    "</p>"
   ]
  },
  {
   "cell_type": "code",
   "execution_count": null,
   "metadata": {},
   "outputs": [],
   "source": [
    "print(2 > 1 and 2 < 3)"
   ]
  },
  {
   "cell_type": "markdown",
   "metadata": {},
   "source": [
    "### <p dir=\"rtl\" style=\"align: right; direction: rtl; float: right;\">or / או</p>"
   ]
  },
  {
   "cell_type": "markdown",
   "metadata": {},
   "source": [
    "<p dir=\"rtl\" style=\"text-align: right; direction: rtl; float: right;\">\n",
    "האופרטור הלוגי <dfn>or</dfn> פועל על שני ביטויים בוליאניים, אחד מימינו ואחד משמאלו, ומחזיר לנו ביטוי בוליאני אחד:<br/>\n",
    "<samp>True</samp> אם <em>לפחות</em> אחד מהביטויים, מימינו או משמאלו, הם <code>True</code>.<br/>\n",
    "הוא יחזיר <samp>False</samp> רק אם הביטויים בשני הצדדים שלו הם <code>False</code>.<br/>\n",
    "מבחינת מינוחים, <code>or</code> נחשב \"<dfn>האופרטור</dfn>\" (operator), והביטויים שנמצאים מצידיו נקראים \"<dfn>האופרנדים</dfn>\" (operands).\n",
    "</p>"
   ]
  },
  {
   "cell_type": "code",
   "execution_count": null,
   "metadata": {},
   "outputs": [],
   "source": [
    "print(\"True or True => \" + str(True or True))\n",
    "print(\"False or True => \" + str(False or True))\n",
    "print(\"True or False => \" + str(True or False))\n",
    "print(\"False or False => \" + str(False or False))"
   ]
  },
  {
   "cell_type": "markdown",
   "metadata": {},
   "source": [
    "<p dir=\"rtl\" style=\"text-align: right; direction: rtl; float: right;\">\n",
    "נבדוק בעזרת פייתון אם אחת האותיות, a או x, נמצאות במילה \"barvaz\".<br/>\n",
    "</p>"
   ]
  },
  {
   "cell_type": "code",
   "execution_count": null,
   "metadata": {},
   "outputs": [],
   "source": [
    "a_in_barvaz = 'a' in 'barvaz'\n",
    "x_in_barvaz = 'x' in 'barvaz'\n",
    "a_or_x_in_barvaz = a_in_barvaz or x_in_barvaz\n",
    "print(a_or_x_in_barvaz)"
   ]
  },
  {
   "cell_type": "markdown",
   "metadata": {},
   "source": [
    "<p dir=\"rtl\" style=\"text-align: right; direction: rtl; float: right;\">\n",
    "או בקיצור:\n",
    "</p>"
   ]
  },
  {
   "cell_type": "code",
   "execution_count": null,
   "metadata": {},
   "outputs": [],
   "source": [
    "print('a' in 'barvaz' or 'x' in 'barvaz')"
   ]
  },
  {
   "cell_type": "markdown",
   "metadata": {},
   "source": [
    "### <p dir=\"rtl\" style=\"align: right; direction: rtl; float: right;\">not / לא</p>"
   ]
  },
  {
   "cell_type": "markdown",
   "metadata": {},
   "source": [
    "<p dir=\"rtl\" style=\"text-align: right; direction: rtl; float: right;\">\n",
    "האופרטור הלוגי <dfn>not</dfn> פועל על ביטוי בוליאני אחד שבא אחריו, ומחזיר לנו את הביטוי הבוליאני ההפוך לו. רוצה לומר:<br/>\n",
    "<samp>True</samp> אם הביטוי הבוליאני שאחריו הוא <code>False</code>.<br/>\n",
    "<samp>False</samp> אם הביטוי הבוליאני שאחריו הוא <code>True</code>.<br/>\n",
    "מבחינת מינוחים, <code>not</code> נחשב \"<dfn>האופרטור</dfn>\" (operator), והביטוי שנמצא אחריו נקרא \"<dfn>האופרנד</dfn>\" (operand).\n",
    "</p>"
   ]
  },
  {
   "cell_type": "code",
   "execution_count": null,
   "metadata": {},
   "outputs": [],
   "source": [
    "print(\"not True => \" + str(not True))\n",
    "print(\"not False => \" + str(not False))"
   ]
  },
  {
   "cell_type": "markdown",
   "metadata": {},
   "source": [
    "<p dir=\"rtl\" style=\"text-align: right; direction: rtl; float: right;\">\n",
    "נבדוק בעזרת פייתון האם המילה \"barvaz\" לא כוללת בתוכה את האות \"q\":\n",
    "</p>"
   ]
  },
  {
   "cell_type": "code",
   "execution_count": null,
   "metadata": {},
   "outputs": [],
   "source": [
    "is_q_in_barvaz = 'q' in 'barvaz'\n",
    "is_q_not_in_baraz = not is_q_in_barvaz\n",
    "print(is_q_not_in_baraz)"
   ]
  },
  {
   "cell_type": "markdown",
   "metadata": {},
   "source": [
    "<p dir=\"rtl\" style=\"text-align: right; direction: rtl; float: right;\">\n",
    "או בקיצור:\n",
    "</p>"
   ]
  },
  {
   "cell_type": "code",
   "execution_count": null,
   "metadata": {},
   "outputs": [],
   "source": [
    "print(not 'q' in 'barvaz')"
   ]
  },
  {
   "cell_type": "markdown",
   "metadata": {},
   "source": [
    "<p dir=\"rtl\" style=\"text-align: right; direction: rtl; float: right;\">\n",
    "טריק מגניב כתוספת: פייתון מאפשרת לנו לכתוב את זה אפילו בצורה קריאה יותר, בעזרת האופרטור <code>not in</code>:\n",
    "</p>"
   ]
  },
  {
   "cell_type": "code",
   "execution_count": null,
   "metadata": {},
   "outputs": [],
   "source": [
    "print('q' not in 'barvaz')"
   ]
  },
  {
   "cell_type": "markdown",
   "metadata": {},
   "source": [
    "## <p dir=\"rtl\" style=\"align: right; direction: rtl; float: right;\">דוגמה</p>"
   ]
  },
  {
   "cell_type": "markdown",
   "metadata": {},
   "source": [
    "<p dir=\"rtl\" style=\"text-align: right; direction: rtl; float: right;\">\n",
    "לצורך המשך השיעור, נניח שיש לנו את המשתנים הבאים.<br/>\n",
    "הריצו את התא ומלאו ערכים. נשתמש במשתנים האלו בהמשך.\n",
    "</p>"
   ]
  },
  {
   "cell_type": "code",
   "execution_count": null,
   "metadata": {},
   "outputs": [],
   "source": [
    "people_in_party = int(input('How many people in your party?: '))\n",
    "whole_pizzas = int(input('How many pizzas did you order?: '))\n",
    "slices_of_pizza = 8 * whole_pizzas"
   ]
  },
  {
   "cell_type": "markdown",
   "metadata": {},
   "source": [
    "<p dir=\"rtl\" style=\"text-align: right; direction: rtl; float: right;\">\n",
    "מסיבה שמחה היא מסיבה שיש בה לפחות 20 משתתפים, וגם יותר מ־100 משולשי פיצה.<br/>\n",
    "עד עכשיו, היינו יכולים לבדוק האם מסיבה היא שמחה רק בצורה הזו, שמדפיסה לנו 2 תשובות:\n",
    "</p>"
   ]
  },
  {
   "cell_type": "code",
   "execution_count": null,
   "metadata": {},
   "outputs": [],
   "source": [
    "print(people_in_party >= 20)\n",
    "print(slices_of_pizza > 100)"
   ]
  },
  {
   "cell_type": "markdown",
   "metadata": {},
   "source": [
    "<p dir=\"rtl\" style=\"text-align: right; direction: rtl; float: right;\">\n",
    "אפשר להגיד כאן שרק במקרה ש<strong>גם</strong> בשורה הראשונה הודפס <samp>True</samp> ו<strong>גם</strong> בשורה השנייה הודפס <samp>True</samp>, המסיבה היא מסיבה שמחה.<br/>\n",
    "הסיטואציה הזו, כך נראה, מתאימה לאופרטור הלוגי הראשון שדיברנו עליו – <code>and</code>, ובשמו העברי <em>\"וגם\"</em>.<br/>\n",
    "השאלה ששאלנו היא \"האם מספר האנשים במסיבה הוא לפחות 20, <strong>וגם</strong> מספר משולשי הפיצה במסיבה הוא מעל 100\".<br/>\n",
    "ננסח בקוד:\n",
    "</p>"
   ]
  },
  {
   "cell_type": "code",
   "execution_count": null,
   "metadata": {},
   "outputs": [],
   "source": [
    "print(\"Is it a happy party?\")\n",
    "print(people_in_party >= 20 and slices_of_pizza > 100)"
   ]
  },
  {
   "cell_type": "markdown",
   "metadata": {},
   "source": [
    "<p dir=\"rtl\" style=\"text-align: right; direction: rtl; float: right;\">\n",
    "\"מסיבה עצובה\" היא מסיבה שיש בה עד 5 משתתפים, או שבה אין משולש פיצה לכל משתתף.<br/>\n",
    "עד עכשיו, היינו יכולים לעשות את זה רק בצורה הזו, שמדפיסה לנו 2 תשובות:\n",
    "</p>"
   ]
  },
  {
   "cell_type": "code",
   "execution_count": null,
   "metadata": {},
   "outputs": [],
   "source": [
    "print(people_in_party <= 5)\n",
    "print(slices_of_pizza < people_in_party)"
   ]
  },
  {
   "cell_type": "markdown",
   "metadata": {},
   "source": [
    "<p dir=\"rtl\" style=\"text-align: right; direction: rtl; float: right;\">\n",
    "אפשר להגיד כאן שבמקרה שתוצאת השורה הראשונה היא <samp>True</samp> <strong>או</strong> שתוצאת השורה השנייה היא <samp>True</samp>, המסיבה היא מסיבה עצובה.<br/>\n",
    "הסיטואציה הזו, כך נראה, מתאימה לאופרטור הלוגי השני שדיברנו עליו – <code>or</code>, ובשמו העברי <em>\"או\"</em>.<br/>\n",
    "השאלה ששאלנו היא \"האם מספר האנשים במסיבה קטן או שווה ל־5, <strong>או</strong> מספר משולשי הפיצה קטן ממספר האנשים במסיבה\".<br/>\n",
    "ננסח בקוד:\n",
    "</p>"
   ]
  },
  {
   "cell_type": "code",
   "execution_count": null,
   "metadata": {},
   "outputs": [],
   "source": [
    "print(\"Is it a sad party?\")\n",
    "print(people_in_party <= 5 or slices_of_pizza < people_in_party)"
   ]
  },
  {
   "cell_type": "markdown",
   "metadata": {},
   "source": [
    "## <p dir=\"rtl\" style=\"align: right; direction: rtl; float: right;\">טבלאות אמת</p>"
   ]
  },
  {
   "cell_type": "markdown",
   "metadata": {},
   "source": [
    "<p dir=\"rtl\" style=\"text-align: right; direction: rtl; float: right;\">\n",
    "<dfn>טבלאות אמת</dfn> זו דרך ישנה נושנה לתאר את התוצאה של אופרטורים לוגיים בכל אחד מהמקרים האפשריים.<br/>\n",
    "נצייר טבלאות כאלו עבור <code>and</code>, <code>or</code> ו־<code>not</code>.<br/>\n",
    "אנחנו ממליצים שלא ללמוד אותן בעל פה, אלא להבין את ההיגיון שבהן.\n",
    "</p>"
   ]
  },
  {
   "cell_type": "markdown",
   "metadata": {},
   "source": [
    "| תוצאה | אופרנד שני |    אופרטור             | אופרנד ראשון  |\n",
    "|:----------|:----------|:--------|------:|\n",
    "| True    |  True  | and        |  True            |\n",
    "| False   | False  | and |  True            |\n",
    "| False    | True    | and    |  False             |\n",
    "| False   | False   | and    | False |\n",
    "\n",
    "| תוצאה | אופרנד שני |    אופרטור             | אופרנד ראשון  |\n",
    "|:----------|:----------|:--------|------:|\n",
    "| True    |  True  | or        |  True            |\n",
    "| True   | False  | or |  True            |\n",
    "| True    | True    | or    |  False             |\n",
    "| False   | False   | or    | False |\n",
    "\n",
    "| תוצאה | אופרנד ראשון |    אופרטור  |\n",
    "|:----------|:----------|:--------:|\n",
    "| False    |  True        |  not     |\n",
    "| True   |  False |  not            |"
   ]
  },
  {
   "cell_type": "markdown",
   "metadata": {},
   "source": [
    "### <p dir=\"rtl\" style=\"align: right; direction: rtl; float: right;\">מונחים</p>"
   ]
  },
  {
   "cell_type": "markdown",
   "metadata": {},
   "source": [
    "<dl dir=\"rtl\" style=\"text-align: right; direction: rtl; float: right; white-space: nowrap;\">\n",
    "<dt>אופרטור לוגי</dt><dd>מילה שמבצעת פעולה בין שני ערכים בוליאניים. לפעמים נקרא גם \"<dfn>שער לוגי</dfn>\".</dd>\n",
    "<dt>אופרנד</dt><dd>ברבים: אופרנדים. הערכים שעליהם מפעילים את הפעולה. במקרה שלנו, שעליהם אנחנו רוצים להחיל את האופרטור הלוגי.</dd>\n",
    "</dl>"
   ]
  },
  {
   "cell_type": "markdown",
   "metadata": {},
   "source": [
    "## <p dir=\"rtl\" style=\"align: right; direction: rtl; float: right;\">תרגול</p>"
   ]
  },
  {
   "cell_type": "markdown",
   "metadata": {},
   "source": [
    "### <p dir=\"rtl\" style=\"align: right; direction: rtl; float: right;\">לא או או או וגם וגם?</p>"
   ]
  },
  {
   "cell_type": "markdown",
   "metadata": {},
   "source": [
    "<p dir=\"rtl\" style=\"text-align: right; direction: rtl; float: right;\">\n",
    "בהנתן ההשמות שהתבצעו בשורה הבאה, רשמו בצד את התוצאות של כל אחת מהשורות הבאות.<br/>\n",
    "רק לאחר מכן הריצו, ובדקו האם צדקתם בתשובתכם.<br/></p>"
   ]
  },
  {
   "cell_type": "code",
   "execution_count": null,
   "metadata": {},
   "outputs": [],
   "source": [
    "# הריצו את השורות הבאות\n",
    "age = 17\n",
    "balaganist = True\n",
    "have_chartreuse = True\n",
    "have_fernet = True\n",
    "have_lime = True\n",
    "have_sugar = True\n",
    "degrees_of_cup_in_celsius = 0\n",
    "is_closed = False"
   ]
  },
  {
   "cell_type": "code",
   "execution_count": null,
   "metadata": {},
   "outputs": [],
   "source": [
    "is_problematic = age < 18 or balaganist\n",
    "print(is_problematic)"
   ]
  },
  {
   "cell_type": "code",
   "execution_count": null,
   "metadata": {},
   "outputs": [],
   "source": [
    "have_ingredients = have_chartreuse and have_fernet and have_lime and have_sugar\n",
    "print(have_ingredients)"
   ]
  },
  {
   "cell_type": "code",
   "execution_count": null,
   "metadata": {},
   "outputs": [],
   "source": [
    "cup_is_fine = -273.15 < degrees_of_cup_in_celsius and degrees_of_cup_in_celsius < 4\n",
    "# טריק! אפשר גם לרשום:\n",
    "# cup_is_fine = -273.15 < degrees_of_cup_in_celsius < 4\n",
    "print(cup_is_fine)"
   ]
  },
  {
   "cell_type": "code",
   "execution_count": null,
   "metadata": {},
   "outputs": [],
   "source": [
    "can_drink_industry_sour_cocktail = (not is_problematic) and have_ingredients and cup_is_fine and not is_closed\n",
    "print(can_drink_industry_sour_cocktail)"
   ]
  },
  {
   "cell_type": "markdown",
   "metadata": {},
   "source": [
    "<div class=\"align-center\" dir=\"rtl\" style=\"display: flex; text-align: right; direction: rtl; clear: both;\">\n",
    "<div style=\"display: flex; width: 10%; float: right; clear: both;\" width=\"10%\">\n",
    "<img alt=\"תרגול\" height=\"50px\" src=\"images/exercise.svg\" style=\"height: 50px !important;\"/>\n",
    "</div>\n",
    "<div style=\"width: 70%\" width=\"70%\">\n",
    "<p dir=\"rtl\" style=\"text-align: right; direction: rtl; float: right; clear: both;\">\n",
    "            מה קיבלתם?<br/>\n",
    "            שנו עד 2 משתנים למעלה כדי לקבל תוצאה אחרת.<br/>\n",
    "            מצאו 2 תשובות אפשריות.\n",
    "        </p>\n",
    "</div>\n",
    "</div>"
   ]
  },
  {
   "cell_type": "markdown",
   "metadata": {},
   "source": [
    "<p dir=\"rtl\" style=\"text-align: right; direction: rtl; float: right;\">\n",
    "בואו נמשיך:\n",
    "</p>"
   ]
  },
  {
   "cell_type": "code",
   "execution_count": null,
   "metadata": {},
   "outputs": [],
   "source": [
    "parent_name = 'David'\n",
    "parent_age = 52\n",
    "\n",
    "child_name = 'Havatzelet'\n",
    "child_age = 25\n",
    "\n",
    "average_max_lifespan_in_israel = 82.4"
   ]
  },
  {
   "cell_type": "code",
   "execution_count": null,
   "metadata": {},
   "outputs": [],
   "source": [
    "parent_name == \"David\" and parent_age > 52"
   ]
  },
  {
   "cell_type": "code",
   "execution_count": null,
   "metadata": {},
   "outputs": [],
   "source": [
    "'a' == 'b' and 'c' == 'c'"
   ]
  },
  {
   "cell_type": "code",
   "execution_count": null,
   "metadata": {},
   "outputs": [],
   "source": [
    "parent_name == 'David' and parent_name == 'david'"
   ]
  },
  {
   "cell_type": "code",
   "execution_count": null,
   "metadata": {},
   "outputs": [],
   "source": [
    "parent_name == 'David' or parent_age > 53"
   ]
  },
  {
   "cell_type": "code",
   "execution_count": null,
   "metadata": {},
   "outputs": [],
   "source": [
    "'d' in str(parent_age) or 'd' in parent_name"
   ]
  },
  {
   "cell_type": "code",
   "execution_count": null,
   "metadata": {},
   "outputs": [],
   "source": [
    "child_age * 2 > parent_age or child_name in parent_name"
   ]
  },
  {
   "cell_type": "code",
   "execution_count": null,
   "metadata": {},
   "outputs": [],
   "source": [
    "not (child_name == parent_name) or 2 ** 5 == 1"
   ]
  },
  {
   "cell_type": "code",
   "execution_count": null,
   "metadata": {},
   "outputs": [],
   "source": [
    "child_age >= 0 and average_max_lifespan_in_israel > child_age * 2"
   ]
  },
  {
   "cell_type": "code",
   "execution_count": null,
   "metadata": {},
   "outputs": [],
   "source": [
    "not ('y' not in parent_name and 'y' not in child_name) or child_age > parent_age or child_age < 0 or parent_age / 1 == parent_age * 1"
   ]
  },
  {
   "cell_type": "markdown",
   "metadata": {},
   "source": [
    "### <p dir=\"rtl\" style=\"align: right; direction: rtl; float: right;\">קיפיק הצב</p>"
   ]
  },
  {
   "cell_type": "markdown",
   "metadata": {},
   "source": [
    "<p dir=\"rtl\" style=\"text-align: right; direction: rtl; float: right;\">\n",
    "קיפיק הצב הוא הלקוח היחיד שאוכל כמה כדורי גלידה, שאחד מהם בטעם כוכבי־על (<em>superstars</em>).<br/>\n",
    "לגלידרייה שלכם נכנס לקוח, שמעוניין לקנות גלידה ממגוון הטעמים שיש במרכולתכם.<br/>\n",
    "קבלו את הטעמים שהוא רוצה להזמין כקלט. אם הלקוח ירצה יותר מטעם אחד, הוא יפריד את הטעמים בפסיק.<br/>\n",
    "בדקו האם מדובר בקיפיק הצב.\n",
    "</p>\n",
    "<p dir=\"rtl\" style=\"text-align: right; direction: rtl; float: right;\">\n",
    "<strong>לדוגמה</strong>, אם הלקוח יזין שהוא מעוניין להזמין <em>superstars</em>, לא מדובר בקיפיק הצב מכיוון שההזמנה כוללת כדור אחד בלבד.<br/>\n",
    "אם הלקוח יזין שהוא מעוניין להזמין <em>pineapple, nettles</em>, לא מדובר בקיפיק הצב מכיוון שההזמנה לא כוללת כדור בטעם המועדף על קיפיק.<br/>\n",
    "אם הלקוח יזין שהוא מעוניין להזמין <em>superstars, creme-brulee, pineapple</em>, נוכל להסיק שמדובר בקיפיק הצב.<br/>\n",
    "</p>"
   ]
  }
 ],
 "metadata": {
  "kernelspec": {
   "display_name": "Python 3",
   "language": "python",
   "name": "python3"
  },
  "language_info": {
   "codemirror_mode": {
    "name": "ipython",
    "version": 3
   },
   "file_extension": ".py",
   "mimetype": "text/x-python",
   "name": "python",
   "nbconvert_exporter": "python",
   "pygments_lexer": "ipython3",
   "version": "3.7.4"
  }
 },
 "nbformat": 4,
 "nbformat_minor": 2
}
