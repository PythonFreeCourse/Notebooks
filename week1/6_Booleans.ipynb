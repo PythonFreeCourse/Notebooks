{
 "cells": [
  {
   "cell_type": "markdown",
   "metadata": {},
   "source": [
    "<img alt=\"לוגו של מיזם לימוד הפייתון. נחש מצויר בצבעי צהוב וכחול, הנע בין האותיות של שם הקורס: לומדים פייתון. הסלוגן המופיע מעל לשם הקורס הוא מיזם חינמי ללימוד תכנות בעברית.\" src=\"images/logo.jpg\" style=\"display: block; margin-left: auto; margin-right: auto;\"/>"
   ]
  },
  {
   "cell_type": "markdown",
   "metadata": {},
   "source": [
    "# <p dir=\"rtl\" style=\"align: right; direction: rtl; float: right;\">ביטויים בוליאניים</p>"
   ]
  },
  {
   "cell_type": "markdown",
   "metadata": {},
   "source": [
    "<div class=\"align-center\" dir=\"rtl\" style=\"display: flex; text-align: right; direction: rtl;\">\n",
    "<div style=\"display: flex; width: 10%; float: right; \" width=\"10%\">\n",
    "<img alt=\"טיפ!\" height=\"50px\" src=\"images/tip.png\" style=\"height: 50px !important;\"/>\n",
    "</div>\n",
    "<div style=\"width: 90%\" width=\"90%\">\n",
    "<p dir=\"rtl\" style=\"text-align: right; direction: rtl;\">\n",
    "            החומר במחברת זו הוא מעט תיאורטי. אין סיבה להיות עצובים, במחברות הבאה נעשה בו שימוש רחב.<br/>\n",
    "            ודאו שאתם מבינים היטב את החומר במחברת זו כדי לבסס את הידע שלכם כראוי.\n",
    "        </p>\n",
    "</div>\n",
    "</div>"
   ]
  },
  {
   "cell_type": "markdown",
   "metadata": {},
   "source": [
    "## <p dir=\"rtl\" style=\"align: right; direction: rtl; float: right;\">הגדרה</p>"
   ]
  },
  {
   "cell_type": "markdown",
   "metadata": {},
   "source": [
    "<p dir=\"rtl\" style=\"text-align: right; direction: rtl; float: right;\">\n",
    "ווהו! רק פתחנו מחברת וכבר זרקו עלינו מילים מפוצצות. מה בוליאניים עכשיו?<br/>\n",
    "בכל הנוגע לתחום שלנו, זה הרבה יותר פשוט ממה שזה נשמע.<br/>\n",
    "בתכנות, ביטוי נחשב <dfn>ביטוי בוליאני</dfn> אם תוצאתו היא <em>אמת</em> או <em>שקר</em>.\n",
    "</p>"
   ]
  },
  {
   "cell_type": "markdown",
   "metadata": {},
   "source": [
    "### <p dir=\"rtl\" style=\"align: right; direction: rtl; float: right;\">דוגמאות</p>"
   ]
  },
  {
   "cell_type": "markdown",
   "metadata": {},
   "source": [
    "<ul dir=\"rtl\" style=\"text-align: right; direction: rtl; float: right; white-space: nowrap;\">\n",
    "<li>האם 2 גדול מ־3?</li>\n",
    "<li>האם האור בחדר שלי דולק?</li>\n",
    "<li>האם טמפרטורת המים הזורמים כעת במקלחת היא מתחת ל־60 מעלות?</li>\n",
    "<li>האם אכלתי היום קלמנטינה?</li>\n",
    "<li>האם השם שלי הוא \"אקורדינכס בן נהריה השלישי\"?</li>\n",
    "<li>האם המשתמש \"moshe15\" באפליקציית \"קרמבולנד\" הזמין עגבניה?</li>\n",
    "<li>האם המשתמש הזין קלט לא תקין (נניח: \"משה\" בשדה גיל, או סיסמה שגויה לכספומט)?</li>\n",
    "</ul>"
   ]
  },
  {
   "cell_type": "markdown",
   "metadata": {},
   "source": [
    "## <p dir=\"rtl\" style=\"align: right; direction: rtl; float: right;\">אופרטורי השוואה</p>"
   ]
  },
  {
   "cell_type": "markdown",
   "metadata": {},
   "source": [
    "<p dir=\"rtl\" style=\"text-align: right; direction: rtl; float: right;\">\n",
    "לא הספקתם להתאושש מהבוליאניים האלו וכבר אני מוריד עליכם עוד מכה. קורס חסר רחמים.<br/>\n",
    "אבל גם הפעם זה ממש פשוט: אופרטור הוא בסך הכול סימן שמייצג פעולה כלשהי, כמו שווה או ועוד. אתם אולי אפילו זוכרים את <em>אופרטור ההשמה</em> מהשיעור על מה הם משתנים.<br/>\n",
    "אז מהם <dfn>אופרטורי השוואה</dfn>? ובכן, אלו סימנים שעוזרים לנו לבצע השוואות בין איברים שונים, שלהם אנחנו קוראים <dfn>אופרנדים</dfn>.\n",
    "</p>"
   ]
  },
  {
   "cell_type": "markdown",
   "metadata": {},
   "source": [
    "<p dir=\"rtl\" style=\"text-align: right; direction: rtl; float: right;\">\n",
    "בואו נכיר את אופרטור ההשוואה הראשון שלנו: <code>==</code>.<br/>\n",
    "הריצו את הביטויים הבוליאניים הבאים, ונסו לנחש מה הוא עושה.\n",
    "</p>"
   ]
  },
  {
   "cell_type": "code",
   "execution_count": null,
   "metadata": {},
   "outputs": [],
   "source": [
    "5 == 5"
   ]
  },
  {
   "cell_type": "code",
   "execution_count": null,
   "metadata": {},
   "outputs": [],
   "source": [
    "5 == 4"
   ]
  },
  {
   "cell_type": "code",
   "execution_count": null,
   "metadata": {},
   "outputs": [],
   "source": [
    "1 == 1.0"
   ]
  },
  {
   "cell_type": "code",
   "execution_count": null,
   "metadata": {},
   "outputs": [],
   "source": [
    "5 == '5'"
   ]
  },
  {
   "cell_type": "code",
   "execution_count": null,
   "metadata": {},
   "outputs": [],
   "source": [
    "2 + 1 == 3"
   ]
  },
  {
   "cell_type": "code",
   "execution_count": null,
   "metadata": {},
   "outputs": [],
   "source": [
    "2 ** 3 - 1 == 8 - 1"
   ]
  },
  {
   "cell_type": "code",
   "execution_count": null,
   "metadata": {},
   "outputs": [],
   "source": [
    "'a' == 'a'"
   ]
  },
  {
   "cell_type": "code",
   "execution_count": null,
   "metadata": {},
   "outputs": [],
   "source": [
    "'Hello Buya' == \"Hello Buya\""
   ]
  },
  {
   "cell_type": "code",
   "execution_count": null,
   "metadata": {},
   "outputs": [],
   "source": [
    "'hello buya' == 'Hello Buya'"
   ]
  },
  {
   "cell_type": "markdown",
   "metadata": {},
   "source": [
    "<p dir=\"rtl\" style=\"text-align: right; direction: rtl; float: right;\">\n",
    "הדוגמה הזו מלמדת אותנו 3 דברים מגניבים:\n",
    "</p>"
   ]
  },
  {
   "cell_type": "markdown",
   "metadata": {},
   "source": [
    "<ol dir=\"rtl\" style=\"text-align: right; direction: rtl; float: right; white-space: nowrap; display: inline-block;\">\n",
    "<li style=\"white-space: nowrap;\">פייתון יודעת לענות בעזרת ערכים בוליאניים מיוחדים, שיכולים להיות <code>True</code> או <code>False</code>.</li>\n",
    "<li style=\"white-space: nowrap;\">יש אופרטור מגניב שנקרא אופרטור ההשוואה, צורתו היא <code>==</code> והוא משווה בין 2 ערכים בפייתון.</li>\n",
    "<li style=\"white-space: nowrap;\">יש סוגים שהשוואה ביניהם תעבוד (<code>float</code> עם <code>int</code>), ויש כאלו שלא (<code>float</code> עם <code>str</code> או <code>int</code> עם <code>str</code>).</li>\n",
    "</ol>"
   ]
  },
  {
   "cell_type": "markdown",
   "metadata": {},
   "source": [
    "### <p dir=\"rtl\" style=\"align: right; direction: rtl; float: right;\">טיפוס בוליאני</p>"
   ]
  },
  {
   "cell_type": "markdown",
   "metadata": {},
   "source": [
    "<p dir=\"rtl\" style=\"text-align: right; direction: rtl; float: right;\">\n",
    "בתרגיל שלמעלה קיבלנו כתוצאה ערך חדש, שמעולם לא שמענו עליו. בואו נבדוק מאיזה סוג הוא!\n",
    "</p>"
   ]
  },
  {
   "cell_type": "code",
   "execution_count": null,
   "metadata": {},
   "outputs": [],
   "source": [
    "type(True)"
   ]
  },
  {
   "cell_type": "code",
   "execution_count": null,
   "metadata": {},
   "outputs": [],
   "source": [
    "type(False)"
   ]
  },
  {
   "cell_type": "markdown",
   "metadata": {},
   "source": [
    "<p dir=\"rtl\" style=\"text-align: right; direction: rtl; float: right;\">\n",
    "ווהו! אז אם התרגלנו עד עכשיו שיש 3 טיפוסים שאנחנו מכירים: <code>str</code>, <code>int</code> ו־<code>float</code>, הכירו את הבחור החדש בשכונה!<br/>\n",
    "<code>bool</code> הוא טיפוס חביב ופשוט שמייצג רק 2 ערכים אפשריים: <code>True</code> או <code>False</code>.<br/>\n",
    "כל אופרטור השוואה שנחיל על שני ערכים, יחזיר <strong>תמיד</strong> ערך מסוג <code>bool</code> (חוץ מכשפייתון תתריע על שגיאה).\n",
    "</p>"
   ]
  },
  {
   "cell_type": "markdown",
   "metadata": {},
   "source": [
    "<div class=\"align-center\" dir=\"rtl\" style=\"display: flex; text-align: right; direction: rtl;\">\n",
    "<div style=\"display: flex; width: 10%; float: right; \" width=\"10%\">\n",
    "<img alt=\"אזהרה!\" height=\"50px\" src=\"images/warning.png\" style=\"height: 50px !important;\"/>\n",
    "</div>\n",
    "<div style=\"width: 90%\" width=\"90%\">\n",
    "<p dir=\"rtl\" style=\"text-align: right; direction: rtl;\">\n",
    "            טעות נפוצה בעת שימוש בערכים בוליאניים היא לא להתחשב ברגישות לאותיות גדולות/קטנות.<br/>\n",
    "            לדוגמה: <code>True</code> יהיה תקין בעוד ש־<code>true</code> יקפיץ שגיאה.\n",
    "        </p>\n",
    "</div>\n",
    "</div>"
   ]
  },
  {
   "cell_type": "markdown",
   "metadata": {},
   "source": [
    "### <p dir=\"rtl\" style=\"align: right; direction: rtl; float: right;\">אופרטורי השוואה נוספים</p>"
   ]
  },
  {
   "cell_type": "markdown",
   "metadata": {},
   "source": [
    "| תוצאה לדוגמה | דוגמה |    משמעות בעברית             | אופרטור השוואה  |\n",
    "|:----------|:----------|:--------|------:|\n",
    "| True    | 4 == 4   | האם צד שמאל שווה לצד ימין        |  ==            |\n",
    "| False   | 4 != 4  | האם צד שמאל שונה מצד ימין       |  !=            |\n",
    "| True    | 5 &gt; 4    | האם צד שמאל גדול יותר מצד ימין    |  &gt;             |\n",
    "| False   | 4 &gt; 5   | האם צד שמאל קטן יותר מצד ימין    | &lt;              |\n",
    "| False    | 2 &gt;= 4   | האם צד שמאל גדול או שווה לצד ימין | &gt;=             |\n",
    "| True   | 4 &lt;= 5  | האם צד שמאל קטן או שווה לצד ימין | &lt;=             |\n",
    "| True   | 'hell' in 'hello'  | האם צד שמאל נמצא ברצף בצד ימין | in             |"
   ]
  },
  {
   "cell_type": "markdown",
   "metadata": {},
   "source": [
    "### <p dir=\"rtl\" style=\"align: right; direction: rtl; float: right;\">מונחים</p>"
   ]
  },
  {
   "cell_type": "markdown",
   "metadata": {},
   "source": [
    "<dl dir=\"rtl\" style=\"text-align: right; direction: rtl; float: right; white-space: nowrap;\">\n",
    "<dt>ביטוי בוליאני</dt><dd>ביטוי שתוצאתו היא <em>אמת</em> (<code>True</code>) או <em>שקר</em> (<code>False</code>).</dd>\n",
    "<dt>אופרטור השוואה</dt><dd>סימן שמגדיר את סוג השוויון (או \"את השאלה\") שנרצה לבדוק בנוגע לערכים מסויימים.</dd>\n",
    "<dt>אופרנד</dt><dd>ברבים: אופרנדים. הערכים שבנוגע אליהם אנחנו רוצים לבדוק את השוויון, ושעליהם נפעיל את אופרטור ההשוואה.</dd>\n",
    "</dl>"
   ]
  },
  {
   "cell_type": "markdown",
   "metadata": {},
   "source": [
    "## <p dir=\"rtl\" style=\"align: right; direction: rtl; float: right;\">תרגול</p>"
   ]
  },
  {
   "cell_type": "markdown",
   "metadata": {},
   "source": [
    "### <p dir=\"rtl\" style=\"align: right; direction: rtl; float: right;\">שווה את זה?</p>"
   ]
  },
  {
   "cell_type": "markdown",
   "metadata": {},
   "source": [
    "<p dir=\"rtl\" style=\"text-align: right; direction: rtl; float: right;\">\n",
    "רשמו בצד את התוצאות של כל אחת מהשורות הבאות.<br/>\n",
    "רק לאחר מכן הריצו ובדקו האם צדקתם בתשובתכם.<br/>\n",
    "בחלק מהסעיפים (בייחוד באלו שקשורים ב־<code>in</code>) דרושה קצת אינטואיציה.\n",
    "</p>"
   ]
  },
  {
   "cell_type": "code",
   "execution_count": null,
   "metadata": {},
   "outputs": [],
   "source": [
    "5 == 3"
   ]
  },
  {
   "cell_type": "code",
   "execution_count": null,
   "metadata": {},
   "outputs": [],
   "source": [
    "1 != 1"
   ]
  },
  {
   "cell_type": "code",
   "execution_count": null,
   "metadata": {},
   "outputs": [],
   "source": [
    "5 > 3"
   ]
  },
  {
   "cell_type": "code",
   "execution_count": null,
   "metadata": {},
   "outputs": [],
   "source": [
    "5 < 3"
   ]
  },
  {
   "cell_type": "code",
   "execution_count": null,
   "metadata": {},
   "outputs": [],
   "source": [
    "'hello' == 'Hello'"
   ]
  },
  {
   "cell_type": "code",
   "execution_count": null,
   "metadata": {},
   "outputs": [],
   "source": [
    "'MARIO' == 'MARIO '"
   ]
  },
  {
   "cell_type": "code",
   "execution_count": null,
   "metadata": {},
   "outputs": [],
   "source": [
    "1.5 == 1"
   ]
  },
  {
   "cell_type": "code",
   "execution_count": null,
   "metadata": {},
   "outputs": [],
   "source": [
    "1.0 == 1"
   ]
  },
  {
   "cell_type": "code",
   "execution_count": null,
   "metadata": {},
   "outputs": [],
   "source": [
    "1 == 1.0"
   ]
  },
  {
   "cell_type": "code",
   "execution_count": null,
   "metadata": {},
   "outputs": [],
   "source": [
    "5 != 7 - 2"
   ]
  },
  {
   "cell_type": "code",
   "execution_count": null,
   "metadata": {},
   "outputs": [],
   "source": [
    "5 >= 5.0"
   ]
  },
  {
   "cell_type": "code",
   "execution_count": null,
   "metadata": {},
   "outputs": [],
   "source": [
    "'5' > '24'  # ראו אזהרה למטה"
   ]
  },
  {
   "cell_type": "code",
   "execution_count": null,
   "metadata": {},
   "outputs": [],
   "source": [
    "'Hell' in 'Hello'"
   ]
  },
  {
   "cell_type": "code",
   "execution_count": null,
   "metadata": {},
   "outputs": [],
   "source": [
    "'hell' in 'Hello'"
   ]
  },
  {
   "cell_type": "code",
   "execution_count": null,
   "metadata": {},
   "outputs": [],
   "source": [
    "'tom' in 'to master'"
   ]
  },
  {
   "cell_type": "code",
   "execution_count": null,
   "metadata": {},
   "outputs": [],
   "source": [
    "'2' in '20'"
   ]
  },
  {
   "cell_type": "code",
   "execution_count": null,
   "metadata": {},
   "outputs": [],
   "source": [
    "2 in '20'  # פייתון תתריע על שגיאה. למה?"
   ]
  },
  {
   "cell_type": "markdown",
   "metadata": {},
   "source": [
    "<div class=\"align-center\" dir=\"rtl\" style=\"display: flex; text-align: right; direction: rtl;\">\n",
    "<div style=\"display: flex; width: 10%; float: right; \" width=\"10%\">\n",
    "<img alt=\"אזהרה!\" height=\"50px\" src=\"images/warning.png\" style=\"height: 50px !important;\"/>\n",
    "</div>\n",
    "<div style=\"width: 90%\" width=\"90%\">\n",
    "<p dir=\"rtl\" style=\"text-align: right; direction: rtl;\">\n",
    "            טעות נפוצה בקרב מתחילים היא לשכוח שבהשוואה בין נתונים מספריים יש להמיר קלט מהמשתמש ל־<code>int</code>, ורק אז לבצע השוואה.<br/>\n",
    "            פייתון לא מתריעה על טעות זו, אבל השוואה שכזו לא תיתן לכם את התוצאה שאליה התכוונתם (ראו דוגמה למעלה).\n",
    "        </p>\n",
    "</div>\n",
    "</div>"
   ]
  },
  {
   "cell_type": "markdown",
   "metadata": {},
   "source": [
    "### <p dir=\"rtl\" style=\"align: right; direction: rtl; float: right;\">מעורב ירושלמי</p>"
   ]
  },
  {
   "cell_type": "markdown",
   "metadata": {},
   "source": [
    "<p dir=\"rtl\" style=\"text-align: right; direction: rtl; float: right;\">\n",
    "אנחנו הולכים להגדיר פה כמה משתנים מעניינים:\n",
    "</p>"
   ]
  },
  {
   "cell_type": "code",
   "execution_count": null,
   "metadata": {},
   "outputs": [],
   "source": [
    "price_of_pizza = 100  # NIS\n",
    "slices_in_pizza = 8\n",
    "favorite_topping = 'pineapple'  # Don't judge!\n",
    "delivery_time = 30  # In minutes"
   ]
  },
  {
   "cell_type": "markdown",
   "metadata": {},
   "source": [
    "<p dir=\"rtl\" style=\"text-align: right; direction: rtl; float: right;\">\n",
    "הריצו את התא שנמצא למעלה: סמנו אותו ולחצו <kbd>CTRL</kbd> + <kbd>ENTER</kbd>.<br/>\n",
    "מה יהיו התוצאות של הביטויים הבאים? כתבו אותן בצד, ואז הריצו ובדקו האם תשובתכם הייתה נכונה.\n",
    "</p>"
   ]
  },
  {
   "cell_type": "code",
   "execution_count": null,
   "metadata": {},
   "outputs": [],
   "source": [
    "price_of_pizza >= 50"
   ]
  },
  {
   "cell_type": "code",
   "execution_count": null,
   "metadata": {},
   "outputs": [],
   "source": [
    "slices_in_pizza == 6"
   ]
  },
  {
   "cell_type": "code",
   "execution_count": null,
   "metadata": {},
   "outputs": [],
   "source": [
    "favorite_topping != 'olives'"
   ]
  },
  {
   "cell_type": "code",
   "execution_count": null,
   "metadata": {},
   "outputs": [],
   "source": [
    "price_of_pizza / slices_in_pizza > 10"
   ]
  },
  {
   "cell_type": "code",
   "execution_count": null,
   "metadata": {},
   "outputs": [],
   "source": [
    "delivery_time <= 30  # I'm hungry!"
   ]
  },
  {
   "cell_type": "code",
   "execution_count": null,
   "metadata": {},
   "outputs": [],
   "source": [
    "favorite_topping = 'olives'  # יש פה מלכודת. נסו להבין מה קורה פה."
   ]
  },
  {
   "cell_type": "code",
   "execution_count": null,
   "metadata": {},
   "outputs": [],
   "source": [
    "favorite_topping == 'pineapple'  # מה זה יחזיר אחרי הרצת השורה הקודמת? מה זה יחזיר אילו לא הייתה רצה?"
   ]
  },
  {
   "cell_type": "markdown",
   "metadata": {},
   "source": [
    "<div class=\"align-center\" dir=\"rtl\" style=\"display: flex; text-align: right; direction: rtl;\">\n",
    "<div style=\"display: flex; width: 10%; float: right; \" width=\"10%\">\n",
    "<img alt=\"אזהרה!\" height=\"50px\" src=\"images/warning.png\" style=\"height: 50px !important;\"/>\n",
    "</div>\n",
    "<div style=\"width: 90%\" width=\"90%\">\n",
    "<p dir=\"rtl\" style=\"text-align: right; direction: rtl;\">\n",
    "            טעות נפוצה היא להתבלבל בין הסימנים <code>=</code> ו־<code>==</code>.<br/>\n",
    "            זכרו: סימן שיוויון אחד (<code>=</code>) מבצע פעולה של הכנסת הערך מימין למשתנה ששמו מופיע משמאל.<br/>\n",
    "            סימן שיוויון כפול (<code>==</code>) היא פעולה אחרת לחלוטין, שבודקת האם הערך מימין זהה לערך משמאל.<br/>\n",
    "</p>\n",
    "</div>\n",
    "</div>"
   ]
  },
  {
   "cell_type": "markdown",
   "metadata": {},
   "source": [
    "### <p dir=\"rtl\" style=\"align: right; direction: rtl; float: right;\">בולילנד</p>"
   ]
  },
  {
   "cell_type": "markdown",
   "metadata": {},
   "source": [
    "<p dir=\"rtl\" style=\"text-align: right; direction: rtl; float: right;\">\n",
    "במחוז בולילנד השערורייתי, מותר לאכול פיצה רק מגיל 25 ומעלה.<br/>\n",
    "קבלו כקלט את גילו של המשתמש. הדפיסו לו <samp>True</samp> אם הוא יכול לאכול פיצה בבולילנד, או <samp>False</samp> אם הוא לא יכול.<br/>\n",
    "<em>לדוגמה:</em> אם דוד הזין שגילו הוא 23, עליכם להציג לו <samp>False</samp>.\n",
    "</p>"
   ]
  },
  {
   "cell_type": "markdown",
   "metadata": {},
   "source": [
    "<div class=\"align-center\" dir=\"rtl\" style=\"display: flex; text-align: right; direction: rtl;\">\n",
    "<div style=\"display: flex; width: 10%; float: right; \" width=\"10%\">\n",
    "<img alt=\"טיפ!\" height=\"50px\" src=\"images/tip.png\" style=\"height: 50px !important;\"/>\n",
    "</div>\n",
    "<div style=\"width: 90%\" width=\"90%\">\n",
    "<p dir=\"rtl\" style=\"text-align: right; direction: rtl;\">\n",
    "            השורה <code dir=\"ltr\" style=\"direction: ltr;\">print(1 == 1)</code> תדפיס למשתמש <samp>True</samp>.\n",
    "        </p>\n",
    "</div>\n",
    "</div>"
   ]
  },
  {
   "cell_type": "code",
   "execution_count": null,
   "metadata": {},
   "outputs": [],
   "source": []
  }
 ],
 "metadata": {
  "kernelspec": {
   "display_name": "Python 3",
   "language": "python",
   "name": "python3"
  },
  "language_info": {
   "codemirror_mode": {
    "name": "ipython",
    "version": 3
   },
   "file_extension": ".py",
   "mimetype": "text/x-python",
   "name": "python",
   "nbconvert_exporter": "python",
   "pygments_lexer": "ipython3",
   "version": "3.7.6"
  }
 },
 "nbformat": 4,
 "nbformat_minor": 2
}
