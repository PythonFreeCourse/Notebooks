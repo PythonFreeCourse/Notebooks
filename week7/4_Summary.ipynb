{
 "cells": [
  {
   "cell_type": "markdown",
   "metadata": {},
   "source": [
    "<img alt=\"לוגו של מיזם לימוד הפייתון. נחש מצויר בצבעי צהוב וכחול, הנע בין האותיות של שם הקורס: לומדים פייתון. הסלוגן המופיע מעל לשם הקורס הוא מיזם חינמי ללימוד תכנות בעברית.\" src=\"images/logo.jpg\" style=\"display: block; margin-left: auto; margin-right: auto;\"/>"
   ]
  },
  {
   "cell_type": "markdown",
   "metadata": {},
   "source": [
    "# <span dir=\"rtl\" style=\"text-align: right; direction: rtl; float: right; clear: both;\"> תרגילים </span> "
   ]
  },
  {
   "cell_type": "markdown",
   "metadata": {},
   "source": [
    "## <span dir=\"rtl\" style=\"text-align: right; direction: rtl; float: right; clear: both;\">אין לזה צורה</span> "
   ]
  },
  {
   "cell_type": "markdown",
   "metadata": {},
   "source": [
    "<p dir=\"rtl\" style=\"text-align: right; direction: rtl; float: right; clear: both;\">\n",
    "    בתרגיל זה נממש טיפוס חדש מסוג <var dir=\"ltr\">Rectangle</var>, הבנוי משתי נקודות:\n",
    "</p>"
   ]
  },
  {
   "cell_type": "markdown",
   "metadata": {},
   "source": [
    "<ul dir=\"rtl\" style=\"text-align: right; direction: rtl; float: right; clear: both;\">\n",
    "<li>נקודה הממוקמת בחלק השמאלי עליון של המלבן (נקודת ההתחלה <var dir=\"ltr\">start_point</var>).</li>\n",
    "<li>נקודה הממוקמת בחלק הימני תחתון של המלבן (נקודת הסיום <var dir=\"ltr\">end_point</var>).</li>\n",
    "</ul>"
   ]
  },
  {
   "cell_type": "markdown",
   "metadata": {},
   "source": [
    "<p dir=\"rtl\" style=\"text-align: right; direction: rtl; float: right; clear: both;\">\n",
    "    פעולות המלבן הן:\n",
    "</p>\n",
    "<ul dir=\"rtl\" style=\"text-align: right; direction: rtl; float: right; clear: both;\">\n",
    "<li><var>get_surface</var> – מחזירה את שטח המלבן.</li>\n",
    "<li><var>get_perimeter</var> – מחזירה את היקף המלבן.</li>\n",
    "<li><var>randomize_start_point</var> – מגרילה שני מספרים בין 1 ל־100 וקובעת אותם כ־x וכ־y של הנקודה השמאלית העליונה.</li>\n",
    "<li><var>randomize_end_point</var> – מגרילה שני מספרים בין 1 ל־100 וקובעת אותם כ־x וכ־y של הנקודה הימנית התחתונה.</li>\n",
    "<li><var>filter_by_size</var> – מקבלת רשימת מלבנים ושטח מינימלי של מלבן (<var>threshold</var>). מחזירה את רשימת כל המלבנים ששטחם הוא לפחות <var>threshold</var>.</li>\n",
    "<li><var>filter_by_perimeter</var> – מקבלת רשימת מלבנים והיקף מינימלי של מלבן (<var>threshold</var>). מחזירה את רשימת כל המלבנים שהיקפם הוא לפחות <var>threshold</var>.</li>\n",
    "</ul>"
   ]
  },
  {
   "cell_type": "markdown",
   "metadata": {},
   "source": [
    "<p dir=\"rtl\" style=\"text-align: right; direction: rtl; float: right; clear: both;\">\n",
    "    הדפסת מופע של המלבן צריכה להיראות כך:<br/>\n",
    "</p>\n",
    "<p dir=\"ltr\" style=\"text-align: left; direction: ltr; float: left; clear: both;\">\n",
    "<samp dir=\"ltr\">### Rectangle ###\n",
    "My Width: 10\n",
    "My Height: 10\n",
    "My Surface: 100\n",
    "My Perimeter: 40\n",
    "</samp>\n",
    "</p>\n"
   ]
  },
  {
   "cell_type": "markdown",
   "metadata": {},
   "source": [
    "<p dir=\"rtl\" style=\"text-align: right; direction: rtl; float: right; clear: both;\">\n",
    "    נוסף על הפעולות שהוזכרו מעלה, כתבו פעולה של המחלקה בשם <var>rand_rects</var> המגרילה מספר בין 1 ל־50.<br/>\n",
    "    צרו רשימה המכילה מספר מלבנים בהתאם למספר שהוגרל, ועבור כל מלבן הגרילו נקודות על ידי שימוש בפעולות המתאימות.<br/>\n",
    "    את כל הצורות הנ\"ל הכניסו לרשימה, והדפיסו את כל הצורות ששטחן גדול מ־900 והיקפן גדול מ־30.</p>"
   ]
  },
  {
   "cell_type": "markdown",
   "metadata": {},
   "source": [
    "## <span dir=\"rtl\" style=\"text-align: right; direction: rtl; float: right; clear: both;\">חנות הקומדי</span> "
   ]
  },
  {
   "cell_type": "markdown",
   "metadata": {},
   "source": [
    "<p dir=\"rtl\" style=\"text-align: right; direction: rtl; float: right; clear: both;\">בחנות הקומדי יש פריטים (<var>items</var>), ולכל פריט יש מחיר המופיע במחירון שהחנות מחזיקה.<br/>\n",
    "    החנות מחזיקה מלאי מכל מוצר, שחלקו מוצב על המדפים וחלקו במחסן.<br/>\n",
    "    לחנות יש יתרת מזומנים (<var>balance</var>) שמתעדכנת בהתאם לקניות של הלקוחות ובהתאם לרכש שהחנות מבצעת עבור המלאי.<br/>\n",
    "    כתבו מחלקה המייצגת את החנות ובה המתודות הבאות:<br/>\n",
    "<ul dir=\"rtl\" style=\"text-align: right; direction: rtl; float: right; clear: both;\">\n",
    "<li><var>checkout</var> – מקבלת רשימת פריטים לרכישה המיוצגים על ידי מחרוזות, ומחזירה את הסכום לתשלום.<br/>\n",
    "            החנות לא מאפשרת מכירה של פריטים שלא נמצאים ברשימת הפריטים בחנות.</li>\n",
    "<li><var>purchase</var> - מקבלת רשימת פריטים לרכישה וסכום כסף מהלקוח. מבצעת את הקנייה (מעדכנת מלאים ויתרה).<br/>\n",
    "            שימו לב שאפשר לרכוש רק אם הפריטים נמצאים במלאי על המדפים. הפעולה תחזיר עודף ללקוח במידת הצורך, ולא תבצע את הקנייה אם התשלום לא מספיק.</li>\n",
    "<li><var>refill</var> – מעדכנת את המלאי במדפים מתוך המלאי במחסן. החנות יכולה להחזיק על המדף לכל היותר 10 פריטים מכל סוג.</li>\n",
    "<li><var>restock</var> – מבצעת קנייה של סחורה מהספק. מחיר הרכישה של כל פריט מהספק הוא חצי מהמחיר ללקוח.<br/>\n",
    "            הפעולה תעדכן את המלאי במחסן ותחסיר את סכום הכסף המתאים מיתרת המזומנים של החנות.</li>\n",
    "<li><var>end_of_day</var> – מבצעת סגירת קופה.<br/>\n",
    "            מוודאת שהחשבון הנוכחי תואם לכל ההכנסות וההוצאות שהיו ב־12 השעות האחרונות ותואם את שווי המלאים, כדי לוודא שלא נגנבו פריטים.<br/>\n",
    "            הפעולה תדפיס דוח של כל התנועות שבוצעו לאורך התקופה – הוצאות והכנסות, הן של מלאי והן של כסף.</li>\n",
    "</ul>\n",
    "</p> "
   ]
  },
  {
   "cell_type": "markdown",
   "metadata": {},
   "source": [
    "## <span dir=\"rtl\" style=\"text-align: right; direction: rtl; float: right; clear: both;\">מגדל קוביות</span> "
   ]
  },
  {
   "cell_type": "markdown",
   "metadata": {},
   "source": [
    "<p dir=\"rtl\" style=\"text-align: right; direction: rtl; float: right; clear: both;\">\n",
    "בתרגיל זה נממש שלוש מחלקות: מחלקה של ריבוע, מחלקה של קוביות ומחלקה של מגדל קוביות.</p>"
   ]
  },
  {
   "cell_type": "markdown",
   "metadata": {},
   "source": [
    "### <span dir=\"rtl\" style=\"text-align: right; direction: rtl; float: right; clear: both;\">ריבוע</span> "
   ]
  },
  {
   "cell_type": "markdown",
   "metadata": {},
   "source": [
    "<p dir=\"rtl\" style=\"text-align: right; direction: rtl; float: right; clear: both;\">\n",
    "    ממשו את מחלקת ריבוע, <var dir=\"ltr\">Square</var>.<br/>\n",
    "    פעולת האתחול של המחלקה תקבל פרמטר של אורך, שהוא אורך הצלע של הריבוע.<br/>\n",
    "    כפי שוודאי ידוע לכם, בריבוע כל הצלעות זהות באורכן.<br/>\n",
    "    ממשו גם את הפעולות <var>get_surface</var> ו־<var>get_perimeter</var> של שטח והיקף כפי שעשיתם בתרגיל הקודם.\n",
    "</p>"
   ]
  },
  {
   "cell_type": "markdown",
   "metadata": {},
   "source": [
    "### <span dir=\"rtl\" style=\"text-align: right; direction: rtl; float: right; clear: both;\">קובייה</span> "
   ]
  },
  {
   "cell_type": "markdown",
   "metadata": {},
   "source": [
    "<p dir=\"rtl\" style=\"text-align: right; direction: rtl; float: right; clear: both;\">\n",
    "לקובייה יש בסיס (<var>base</var>) שהוא ריבוע, וצבע (<var>color</var>) שהוא צבע הקובייה. הצבע יכול להיות שחור או לבן.<br/>\n",
    "ממשו את מחלקת הקובייה, ודאגו להוסיף לה פעולות לחישוב הנפח (<var>get_volume</var>) ושטח המעטפת (<var>get_surface</var>).</p>"
   ]
  },
  {
   "cell_type": "markdown",
   "metadata": {},
   "source": [
    "<p dir=\"rtl\" style=\"text-align: right; direction: rtl; float: right; clear: both;\">\n",
    "    הדפסת הקובייה צריכה להיראות כך:\n",
    "</p>\n",
    "<p dir=\"ltr\" style=\"text-align: left; direction: ltr; float: left; clear: both;\">\n",
    "<samp>Cube: base-10x10 color:black</samp>\n",
    "</p>"
   ]
  },
  {
   "cell_type": "markdown",
   "metadata": {},
   "source": [
    "### <span dir=\"rtl\" style=\"text-align: right; direction: rtl; float: right; clear: both;\">מגדל הקוביות</span> "
   ]
  },
  {
   "cell_type": "markdown",
   "metadata": {},
   "source": [
    "<p dir=\"rtl\" style=\"text-align: right; direction: rtl; float: right; clear: both;\">\n",
    "מגדל הקוביות שלנו מכיל רשימת קוביות שמהן הוא מורכב. כשנאתחל את מגדל הקוביות הוא תמיד יכיל 0 קוביות.<br/>\n",
    "קובייה יכולה להיות מעל קובייה אחרת רק אם הקובייה התחתונה היא בעלת בסיס עם צלע ארוכה יותר, ורק אם צבעה שונה.\n",
    "</p>"
   ]
  },
  {
   "cell_type": "markdown",
   "metadata": {},
   "source": [
    "<p dir=\"rtl\" style=\"text-align: right; direction: rtl; float: right; clear: both;\">\n",
    "הדפסה של מגדל הקוביות תיראה כך:\n",
    "</p>\n",
    "<p dir=\"ltr\" style=\"text-align: left; direction: ltr; float: left; clear: both;\">\n",
    "<samp dir=\"ltr\">2-Cube: base-10x10 color:black<br/>1-Cube: base-15x15 color:white</samp>\n",
    "</p>"
   ]
  },
  {
   "cell_type": "markdown",
   "metadata": {},
   "source": [
    "<p dir=\"rtl\" style=\"text-align: right; direction: rtl; float: right; clear: both;\">\n",
    "    ממשו מחלקה בשם <var>CubeTower</var> המייצגת את מגדל הקוביות.\n",
    "</p>"
   ]
  },
  {
   "cell_type": "markdown",
   "metadata": {},
   "source": [
    "<p dir=\"rtl\" style=\"text-align: right; direction: rtl; float: right; clear: both;\">\n",
    "    הוסיפו למחלקה פעולה בשם <var dir=\"ltr\">add_cube</var> שמקבלת קובייה ומניחה אותה בראש המגדל אם התנאים שהוזכרו מתקיימים,  אחרת לא עושה כלום.<br/>\n",
    "    אם זו הקובייה הראשונה במגדל אפשר להניח אותה ללא שום תנאי.\n",
    "</p>"
   ]
  },
  {
   "cell_type": "markdown",
   "metadata": {},
   "source": [
    "<p dir=\"rtl\" style=\"text-align: right; direction: rtl; float: right; clear: both;\">\n",
    "    הוסיפו פעולה נוספת בשם <var dir=\"ltr\">randomize_tower</var> שבוחרת מספר שלם בין 1 ל־100, נקרא לו $N$.<br/>\n",
    "    הפעולה תיצור $N$ קוביות שלהן צלע באורך אקראי (עליכם להגריל אורך בין 1 ל־100), שצבען הוא שחור או לבן (בחרו באקראיות).<br/>\n",
    "</p>"
   ]
  },
  {
   "cell_type": "markdown",
   "metadata": {},
   "source": [
    "<p dir=\"rtl\" style=\"text-align: right; direction: rtl; float: right; clear: both;\">\n",
    "    צרו בלולאה 1,000 מגדלים ומלאו אותם בקוביות באמצעות המתודה המגרילה.<br/>\n",
    "    מהו המגדל הגבוה ביותר שקיבלתם?\n",
    "</p>"
   ]
  },
  {
   "cell_type": "markdown",
   "metadata": {},
   "source": [
    "## <span dir=\"rtl\" style=\"text-align: right; direction: rtl; float: right; clear: both;\">נקמת הסט</span>"
   ]
  },
  {
   "cell_type": "markdown",
   "metadata": {},
   "source": [
    "### <span dir=\"rtl\" style=\"text-align: right; direction: rtl; float: right; clear: both;\">חלק 1</span>"
   ]
  },
  {
   "cell_type": "markdown",
   "metadata": {},
   "source": [
    "<p dir=\"rtl\" style=\"text-align: right; direction: rtl; float: right; clear: both;\">\n",
    "    ממשו משחק סט סטנדרטי.<br/>\n",
    "    המשחק יציג למשתמש 12 קלפי סט מתוך חפיסה מעורבבת של 81 קלפים, ויאפשר למשתמש לבחור אילו 3 קלפים מייצגים סט.\n",
    "</p>"
   ]
  },
  {
   "cell_type": "markdown",
   "metadata": {},
   "source": [
    "<p dir=\"rtl\" style=\"text-align: right; direction: rtl; float: right; clear: both;\">\n",
    "    אם בחר המשתמש סט תקין, החליפו את שלושת הקלפים שבחר בקלפים הבאים בחפיסה.<br/>\n",
    "    אם בחר סט שגוי, הדפיסו הודעת שגיאה.<br/>\n",
    "    אם אי אפשר להרכיב סט מהקלפים שנפתחו, החזירו את הקלפים לחפיסה, טרפו אותה ופתחו 12 קלפים חדשים.<br/>\n",
    "    בכל שלב, אם אין בחפיסה די קלפים לפתיחה – פתחו את הקלפים שנותרו בחפיסה.<br/>\n",
    "    השחקן ניצח כאשר אי אפשר ליצור יותר סטים מהקלפים הנמצאים בחפיסה.<br/>\n",
    "    שימו לב שכאשר נותרו 21 קלפים, בהכרח ישנם 3 קלפים מתוכם שמרכיבים סט.\n",
    "</p>"
   ]
  },
  {
   "cell_type": "markdown",
   "metadata": {},
   "source": [
    "<p dir=\"rtl\" style=\"text-align: right; direction: rtl; float: right; clear: both;\">\n",
    "    השתמשו במחלקות.\n",
    "</p>"
   ]
  },
  {
   "cell_type": "markdown",
   "metadata": {},
   "source": [
    "### <span dir=\"rtl\" style=\"text-align: right; direction: rtl; float: right; clear: both;\">חלק 2</span>"
   ]
  },
  {
   "cell_type": "markdown",
   "metadata": {},
   "source": [
    "<ol dir=\"rtl\" style=\"text-align: right; direction: rtl; float: right; clear: both;\">\n",
    "<li>השתמשו בספרייה חיצונית כדי להדפיס למשתמש את הקלפים בצורה צבעונית.</li>\n",
    "<li>ממשו מצב \"פרנזי\" שבו יש זמן מוקצב של 3 דקות למציאת כמה שיותר סטים.<br/>\n",
    "        החוקים זהים לחוקים של משחק סט רגיל, רק שהפעם בכל פעם שמוצאים סט, הוא מתווסף חזרה לחפיסה, החפיסה מתערבבת ונפתחים שלושה קלפים חדשים.<br/>\n",
    "        מציאה של סט מוסיפה 5 שניות לשעון.</li>\n",
    "<li>ממשו לוח ניקוד עבור מצב הפרנזי. השתמשו בקבצים כדי לשמור את שם המשתתף, הניקוד שלו והתאריך שבו הוא השיג את הניקוד.</li>\n",
    "</ol>"
   ]
  }
 ],
 "metadata": {
  "kernelspec": {
   "display_name": "Python 3",
   "language": "python",
   "name": "python3"
  },
  "language_info": {
   "codemirror_mode": {
    "name": "ipython",
    "version": 3
   },
   "file_extension": ".py",
   "mimetype": "text/x-python",
   "name": "python",
   "nbconvert_exporter": "python",
   "pygments_lexer": "ipython3",
   "version": "3.7.6"
  }
 },
 "nbformat": 4,
 "nbformat_minor": 2
}
